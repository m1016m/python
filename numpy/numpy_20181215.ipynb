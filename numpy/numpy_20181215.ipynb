{
 "cells": [
  {
   "cell_type": "markdown",
   "metadata": {},
   "source": [
    "到目前為止，我們主要關注使用NumPy訪問和操作陣列數據的工具。本節介紹與NumPy數組中的值排序相關的算法。這些算法是計算機科學\n",
    "\n",
    "入門課程中最受歡迎的主題：如果你曾經學過這些算法，你可能已經有了關於插入排序，選擇排序，合併排序，快速排序，泡沫排序的夢想\n",
    "\n",
    "（或者，取決於你的氣質，夢魘）還有很多很多。所有這些都是完成類似任務的方法：對列表或數組中的值進行排序。\n",
    "\n",
    "例如，一個簡單的選擇排序重複從列表中查找最小值，並進行交換直到列表排序。我們可以在幾行Python中編寫代碼："
   ]
  },
  {
   "cell_type": "code",
   "execution_count": 1,
   "metadata": {},
   "outputs": [],
   "source": [
    "import numpy as np\n",
    "\n",
    "def selection_sort(x):\n",
    "    for i in range(len(x)):\n",
    "        swap = i + np.argmin(x[i:])\n",
    "        (x[i], x[swap]) = (x[swap], x[i])\n",
    "    return x"
   ]
  },
  {
   "cell_type": "code",
   "execution_count": 2,
   "metadata": {},
   "outputs": [
    {
     "data": {
      "text/plain": [
       "array([1, 2, 3, 4, 5])"
      ]
     },
     "execution_count": 2,
     "metadata": {},
     "output_type": "execute_result"
    }
   ],
   "source": [
    "x = np.array([2, 1, 4, 3, 5])\n",
    "selection_sort(x)"
   ]
  },
  {
   "cell_type": "markdown",
   "metadata": {},
   "source": [
    "正如任何一年級計算機科學專業的學生都會告訴你的那樣，選擇排序對於它的簡單性很有用，但是對於較大的數組來說太慢了。對於$ N $值的列表\n",
    "\n",
    "，它需要$ N $循環，每個循環都進行~N次比較來查找交換值。對於通常用於表徵這些算法的“big-O”表示法（參見Big-O表示法），選擇排序平均\n",
    "\n",
    "值為 O(N2)：如果您將列表中的項目數加倍，執行時間將增加大約四倍。\n",
    "\n",
    "儘管選擇排序比我最喜歡的排序算法bogosort要好得多："
   ]
  },
  {
   "cell_type": "code",
   "execution_count": 4,
   "metadata": {},
   "outputs": [],
   "source": [
    "def bogosort(x):\n",
    "    while np.any(x[:-1] > x[1:]):\n",
    "        np.random.shuffle(x)#shuffle() 方法将序列的所有元素随机排序。可以是一个序列或者元组\n",
    "    return x"
   ]
  },
  {
   "cell_type": "code",
   "execution_count": 5,
   "metadata": {},
   "outputs": [
    {
     "data": {
      "text/plain": [
       "array([1, 2, 3, 4, 5])"
      ]
     },
     "execution_count": 5,
     "metadata": {},
     "output_type": "execute_result"
    }
   ],
   "source": [
    "x = np.array([2, 1, 4, 3, 5])\n",
    "bogosort(x)"
   ]
  },
  {
   "cell_type": "markdown",
   "metadata": {},
   "source": [
    "Python有內置的排序和排序函數來處理列表，NumPy的np.sort函數對於我們的目的來說效率更高，更有用，儘管mergesort合併排序和heapsort堆積排序\n",
    "\n",
    "也可用。對於大多數應用程序，默認快速排序綽綽有餘。\n",
    "\n",
    "要在不修改輸入的情況下返回數組的排序版本，可以使用np.sort："
   ]
  },
  {
   "cell_type": "code",
   "execution_count": 6,
   "metadata": {},
   "outputs": [
    {
     "data": {
      "text/plain": [
       "array([1, 2, 3, 4, 5])"
      ]
     },
     "execution_count": 6,
     "metadata": {},
     "output_type": "execute_result"
    }
   ],
   "source": [
    "x = np.array([2, 1, 4, 3, 5])\n",
    "np.sort(x)#要在不修改輸入的情況下返回數組的排序版本，可以使用np.sort："
   ]
  },
  {
   "cell_type": "code",
   "execution_count": 7,
   "metadata": {},
   "outputs": [
    {
     "name": "stdout",
     "output_type": "stream",
     "text": [
      "[1 2 3 4 5]\n"
     ]
    }
   ],
   "source": [
    "#如果您希望就地對數組進行排序，則可以使用數組的排序方法：\n",
    "x.sort()\n",
    "print(x)"
   ]
  },
  {
   "cell_type": "code",
   "execution_count": 8,
   "metadata": {},
   "outputs": [
    {
     "name": "stdout",
     "output_type": "stream",
     "text": [
      "[1 0 3 2 4]\n"
     ]
    }
   ],
   "source": [
    "#相關函數是argsort，它返回已排序元素的索引：\n",
    "x = np.array([2, 1, 4, 3, 5])\n",
    "i = np.argsort(x)\n",
    "print(i)"
   ]
  },
  {
   "cell_type": "code",
   "execution_count": 9,
   "metadata": {},
   "outputs": [
    {
     "name": "stdout",
     "output_type": "stream",
     "text": [
      "[[6 3 7 4 6 9]\n",
      " [2 6 7 4 3 7]\n",
      " [7 2 5 4 1 7]\n",
      " [5 1 4 0 9 5]]\n"
     ]
    }
   ],
   "source": [
    "#NumPy排序算法的一個有用功能是能夠使用axis參數對多維數組的特定行或列進行排序。例如：\n",
    "rand = np.random.RandomState(42)\n",
    "X = rand.randint(0, 10, (4, 6))\n",
    "print(X)"
   ]
  },
  {
   "cell_type": "code",
   "execution_count": 10,
   "metadata": {},
   "outputs": [
    {
     "data": {
      "text/plain": [
       "array([[2, 1, 4, 0, 1, 5],\n",
       "       [5, 2, 5, 4, 3, 7],\n",
       "       [6, 3, 7, 4, 6, 7],\n",
       "       [7, 6, 7, 4, 9, 9]])"
      ]
     },
     "execution_count": 10,
     "metadata": {},
     "output_type": "execute_result"
    }
   ],
   "source": [
    "# sort each column of X\n",
    "np.sort(X, axis=0)"
   ]
  },
  {
   "cell_type": "code",
   "execution_count": 11,
   "metadata": {},
   "outputs": [
    {
     "data": {
      "text/plain": [
       "array([[3, 4, 6, 6, 7, 9],\n",
       "       [2, 3, 4, 6, 7, 7],\n",
       "       [1, 2, 4, 5, 7, 7],\n",
       "       [0, 1, 4, 5, 5, 9]])"
      ]
     },
     "execution_count": 11,
     "metadata": {},
     "output_type": "execute_result"
    }
   ],
   "source": [
    "# sort each row of X\n",
    "np.sort(X, axis=1)#請記住，這會將每個行或列視為一個獨立的數組，並且行或列值之間的任何關係都將丟失！"
   ]
  },
  {
   "cell_type": "markdown",
   "metadata": {},
   "source": [
    "部分排序：分區\n",
    "\n",
    "有時我們對排序整個數組不感興趣，但只想在數組中找到k個最小值。 NumPy在np.partition函數中提供了這個功能。 np.partition採用數組和數字K;\n",
    "\n",
    "結果是一個新的數組，在分區的左邊有最小的K值，剩下的值在右邊，按任意順序："
   ]
  },
  {
   "cell_type": "code",
   "execution_count": 12,
   "metadata": {},
   "outputs": [
    {
     "data": {
      "text/plain": [
       "array([2, 1, 3, 4, 6, 5, 7])"
      ]
     },
     "execution_count": 12,
     "metadata": {},
     "output_type": "execute_result"
    }
   ],
   "source": [
    "x = np.array([7, 2, 3, 1, 6, 5, 4])#請注意，結果數組中的前三個值是數組中的三個最小值，其餘數組位置包含其餘值。在這兩個分區中，元素具有任意順序。\n",
    "np.partition(x, 3)#np.partition取得一個陣列以及數字K,其傳回的結果就是把最小的K個值放在該分區的左側,剩下的值就在右側,順序是隨意的"
   ]
  },
  {
   "cell_type": "markdown",
   "metadata": {},
   "source": [
    "與排序類似，我們可以沿多維數組的任意軸進行分區："
   ]
  },
  {
   "cell_type": "code",
   "execution_count": 13,
   "metadata": {},
   "outputs": [
    {
     "data": {
      "text/plain": [
       "array([[3, 4, 6, 7, 6, 9],\n",
       "       [2, 3, 4, 7, 6, 7],\n",
       "       [1, 2, 4, 5, 7, 7],\n",
       "       [0, 1, 4, 5, 9, 5]])"
      ]
     },
     "execution_count": 13,
     "metadata": {},
     "output_type": "execute_result"
    }
   ],
   "source": [
    "np.partition(X, 2, axis=1)#結果是一個數組，其中每行中的前兩個槽包含該行中的最小值，其餘值填充剩餘的槽。"
   ]
  },
  {
   "cell_type": "markdown",
   "metadata": {},
   "source": [
    "讓我們快速了解如何沿多個軸使用此argsort函數來查找集合中每個點的最近鄰居。我們首先在二維平面上創建一組10個隨機點。使用標準慣例，\n",
    "\n",
    "我們將在數組中安排這些：(K-近鄰算法)"
   ]
  },
  {
   "cell_type": "code",
   "execution_count": 14,
   "metadata": {},
   "outputs": [],
   "source": [
    "X = rand.rand(10, 2)#10*2的陣列"
   ]
  },
  {
   "cell_type": "code",
   "execution_count": 15,
   "metadata": {},
   "outputs": [
    {
     "data": {
      "image/png": "[encoded data removed]",
      "text/plain": [
       "<Figure size 432x288 with 1 Axes>"
      ]
     },
     "metadata": {},
     "output_type": "display_data"
    }
   ],
   "source": [
    "%matplotlib inline\n",
    "import matplotlib.pyplot as plt\n",
    "import seaborn; seaborn.set() # Plot styling\n",
    "plt.scatter(X[:, 0], X[:, 1], s=100);"
   ]
  },
  {
   "cell_type": "markdown",
   "metadata": {},
   "source": [
    "現在我們將計算每對點之間的距離。回想一下，兩點之間的平方距離是每個維度的平方差的總和;使用由NumPy提供的Broadcasting（計算在陣列：廣播）和聚\n",
    "\n",
    "合（聚合：Min，Max和Everything In Between）例程，我們可以在一行代碼中計算平方距離矩陣："
   ]
  },
  {
   "cell_type": "code",
   "execution_count": null,
   "metadata": {},
   "outputs": [],
   "source": []
  }
 ],
 "metadata": {
  "kernelspec": {
   "display_name": "Python 3",
   "language": "python",
   "name": "python3"
  },
  "language_info": {
   "codemirror_mode": {
    "name": "ipython",
    "version": 3
   },
   "file_extension": ".py",
   "mimetype": "text/x-python",
   "name": "python",
   "nbconvert_exporter": "python",
   "pygments_lexer": "ipython3",
   "version": "3.6.7"
  }
 },
 "nbformat": 4,
 "nbformat_minor": 2
}
