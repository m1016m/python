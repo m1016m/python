{
 "cells": [
  {
   "cell_type": "code",
   "execution_count": 8,
   "metadata": {},
   "outputs": [
    {
     "data": {
      "text/plain": [
       "(1, 4)"
      ]
     },
     "execution_count": 8,
     "metadata": {},
     "output_type": "execute_result"
    }
   ],
   "source": [
    "#變數，名稱，物件\n",
    "# + - * / // % **\n",
    "#任何一種除法來除以零都會發生例外\n",
    "#同時取得商數（捨去的）以及餘數的方法\n",
    "divmod(9 , 5)#結果是以tuple呈現"
   ]
  },
  {
   "cell_type": "code",
   "execution_count": 9,
   "metadata": {},
   "outputs": [
    {
     "name": "stdout",
     "output_type": "stream",
     "text": [
      "9.25\n"
     ]
    }
   ],
   "source": [
    "#類型的轉換\n",
    "#python3 將long取消而int可以是任何大小\n",
    "c = 37 / 4\n",
    "print (c)"
   ]
  },
  {
   "cell_type": "code",
   "execution_count": 10,
   "metadata": {},
   "outputs": [
    {
     "name": "stdout",
     "output_type": "stream",
     "text": [
      "NaNaNaNa\n",
      "HeyHeyHey\n",
      "GoodBye\n"
     ]
    }
   ],
   "source": [
    "#使用引號\n",
    "#str()轉換資料類型\n",
    "#使用 \\ \n",
    "# + 結合常值字串或字串變數\n",
    "# * 複製字串\n",
    "start = 'Na' * 4 + '\\n'\n",
    "middle = 'Hey' * 3 + '\\n'\n",
    "end = 'GoodBye'\n",
    "print(start + middle + end)"
   ]
  },
  {
   "cell_type": "code",
   "execution_count": 11,
   "metadata": {},
   "outputs": [
    {
     "data": {
      "text/plain": [
       "'j'"
      ]
     },
     "execution_count": 11,
     "metadata": {},
     "output_type": "execute_result"
    }
   ],
   "source": [
    "# 用 [指定位移植] 來擷取字元 如果指定的位移值是字串的長度或比字串長，會發生例外\n",
    "letters ='j;kjasdjflsjdfaj;lsdjfjd'\n",
    "letters[0]"
   ]
  },
  {
   "cell_type": "code",
   "execution_count": 12,
   "metadata": {},
   "outputs": [
    {
     "data": {
      "text/plain": [
       "'f'"
      ]
     },
     "execution_count": 12,
     "metadata": {},
     "output_type": "execute_result"
    }
   ],
   "source": [
    "letters[-3]"
   ]
  },
  {
   "cell_type": "code",
   "execution_count": 18,
   "metadata": {},
   "outputs": [
    {
     "name": "stdout",
     "output_type": "stream",
     "text": [
      "Pappy\n",
      "Happy\n"
     ]
    }
   ],
   "source": [
    "#因為字串是不可變得無法直接在裡面插入字元或更改某個位移值字元例如：name = 'Happy' name[0] = 'P'\n",
    "#必須透過replace() or slice 但不會更改原來的字串值\n",
    "name = 'Happy'\n",
    "print (name.replace('H','P'))\n",
    "print (name)"
   ]
  },
  {
   "cell_type": "code",
   "execution_count": 17,
   "metadata": {},
   "outputs": [
    {
     "name": "stdout",
     "output_type": "stream",
     "text": [
      "Pappy\n",
      "Happy\n"
     ]
    }
   ],
   "source": [
    "print ('P' + name[1:])\n",
    "print (name)"
   ]
  },
  {
   "cell_type": "code",
   "execution_count": 19,
   "metadata": {},
   "outputs": [
    {
     "data": {
      "text/plain": [
       "24"
      ]
     },
     "execution_count": 19,
     "metadata": {},
     "output_type": "execute_result"
    }
   ],
   "source": [
    "#len會計算字串內字元的數量\n",
    "len(letters)"
   ]
  },
  {
   "cell_type": "code",
   "execution_count": 64,
   "metadata": {},
   "outputs": [
    {
     "name": "stdout",
     "output_type": "stream",
     "text": [
      "['get gloves ', ' get mask ', ' get wool sweater ', ' get mittens']\n",
      "['a', 'b', '', 'c', 'd', '', '', 'e']\n"
     ]
    }
   ],
   "source": [
    "#split()分割 會使用所有的空白字元：換行符號 空格 tab\n",
    "todos = 'get gloves , get mask , get wool sweater , get mittens'\n",
    "print( todos.split(',') )\n",
    "#如果原本的字串中有連續兩個以上的分隔字串時,會得到一個空字串的串列\n",
    "splitme = 'a/b//c/d///e'\n",
    "print(splitme.split('/'))"
   ]
  },
  {
   "cell_type": "code",
   "execution_count": 30,
   "metadata": {},
   "outputs": [
    {
     "name": "stdout",
     "output_type": "stream",
     "text": [
      "get glovesAget maskAget wool sweaterAget mittens\n",
      "get gloves,get mask,get wool sweater,get mittens\n",
      "['get gloves', 'get mask', 'get wool sweater', 'get mittens']\n"
     ]
    }
   ],
   "source": [
    "#join()結合  字串.join(串列)\n",
    "crypto_list = ['get gloves' , 'get mask' , 'get wool sweater' , 'get mittens']\n",
    "todos_string = ','.join(crypto_list)\n",
    "print('A'.join(crypto_list))#把,都改成Ａ,若是沒有,時會在每個字中間加上Ａ\n",
    "print(todos_string)\n",
    "print(crypto_list) "
   ]
  },
  {
   "cell_type": "code",
   "execution_count": 31,
   "metadata": {},
   "outputs": [
    {
     "data": {
      "text/plain": [
       "'Margaret was '"
      ]
     },
     "execution_count": 31,
     "metadata": {},
     "output_type": "execute_result"
    }
   ],
   "source": [
    "#把玩字串\n",
    "poem = 'Margaret was viewed by her contemporaries as being rather eccentric. She was extravagent and flirtatious, accused of using speech full of oaths and obscenity, and was noted for her unusual sense of fashion. This reputation for eccentricity survives today, when Margaret is widely referred to as Mad Madge.'\n",
    "#取前13個字元\n",
    "poem [:13]#位移值0~12"
   ]
  },
  {
   "cell_type": "code",
   "execution_count": 32,
   "metadata": {},
   "outputs": [
    {
     "data": {
      "text/plain": [
       "305"
      ]
     },
     "execution_count": 32,
     "metadata": {},
     "output_type": "execute_result"
    }
   ],
   "source": [
    "#共有幾個字元\n",
    "len(poem)"
   ]
  },
  {
   "cell_type": "code",
   "execution_count": 33,
   "metadata": {},
   "outputs": [
    {
     "data": {
      "text/plain": [
       "False"
      ]
     },
     "execution_count": 33,
     "metadata": {},
     "output_type": "execute_result"
    }
   ],
   "source": [
    "#開頭是不是All\n",
    "poem.startswith('All')"
   ]
  },
  {
   "cell_type": "code",
   "execution_count": 35,
   "metadata": {},
   "outputs": [
    {
     "data": {
      "text/plain": [
       "True"
      ]
     },
     "execution_count": 35,
     "metadata": {},
     "output_type": "execute_result"
    }
   ],
   "source": [
    "#結尾是不是as Mad Madge.連同.都會判定進去\n",
    "poem.endswith('as Mad Madge.')"
   ]
  },
  {
   "cell_type": "code",
   "execution_count": 40,
   "metadata": {},
   "outputs": [
    {
     "data": {
      "text/plain": [
       "207"
      ]
     },
     "execution_count": 40,
     "metadata": {},
     "output_type": "execute_result"
    }
   ],
   "source": [
    "#This第一次出現的位移值,有區分大小寫若沒有這個字則會以-1顯示\n",
    "poem.find('This')"
   ]
  },
  {
   "cell_type": "code",
   "execution_count": 43,
   "metadata": {},
   "outputs": [
    {
     "data": {
      "text/plain": [
       "-1"
      ]
     },
     "execution_count": 43,
     "metadata": {},
     "output_type": "execute_result"
    }
   ],
   "source": [
    "#This最後一次出現的位移值,有區分大小寫若沒有這個字則會以-1顯示\n",
    "poem.rfind('this')"
   ]
  },
  {
   "cell_type": "code",
   "execution_count": 49,
   "metadata": {},
   "outputs": [
    {
     "data": {
      "text/plain": [
       "3"
      ]
     },
     "execution_count": 49,
     "metadata": {},
     "output_type": "execute_result"
    }
   ],
   "source": [
    "#of連續的字總共出現幾次?\n",
    "poem.count('of')"
   ]
  },
  {
   "cell_type": "code",
   "execution_count": 50,
   "metadata": {},
   "outputs": [
    {
     "data": {
      "text/plain": [
       "False"
      ]
     },
     "execution_count": 50,
     "metadata": {},
     "output_type": "execute_result"
    }
   ],
   "source": [
    "#是否只有字母和數字\n",
    "poem.isalnum()#因為還有標點符號"
   ]
  },
  {
   "cell_type": "code",
   "execution_count": 58,
   "metadata": {},
   "outputs": [
    {
     "name": "stdout",
     "output_type": "stream",
     "text": [
      "A duck goes into a bar...\n",
      "a duck goes into a bar...\n"
     ]
    }
   ],
   "source": [
    "#大小寫和對齊 因為字串是不可變得所以只是取出變數的值再以新字串回傳結果\n",
    "setup = 'a duck goes into a bar...'\n",
    "#第一個單字的第一個字母改成大寫\n",
    "print(setup.capitalize())\n",
    "print(setup)"
   ]
  },
  {
   "cell_type": "code",
   "execution_count": 52,
   "metadata": {},
   "outputs": [
    {
     "data": {
      "text/plain": [
       "'A Duck Goes Into A Bar...'"
      ]
     },
     "execution_count": 52,
     "metadata": {},
     "output_type": "execute_result"
    }
   ],
   "source": [
    "#所有的單字的第一個字母改成大寫\n",
    "setup.title()"
   ]
  },
  {
   "cell_type": "code",
   "execution_count": 53,
   "metadata": {},
   "outputs": [
    {
     "data": {
      "text/plain": [
       "'A DUCK GOES INTO A BAR...'"
      ]
     },
     "execution_count": 53,
     "metadata": {},
     "output_type": "execute_result"
    }
   ],
   "source": [
    "#所有的字元改成大寫\n",
    "setup.upper()"
   ]
  },
  {
   "cell_type": "code",
   "execution_count": 54,
   "metadata": {},
   "outputs": [
    {
     "data": {
      "text/plain": [
       "'a duck goes into a bar...'"
      ]
     },
     "execution_count": 54,
     "metadata": {},
     "output_type": "execute_result"
    }
   ],
   "source": [
    "#所有的字元改成小寫\n",
    "setup.lower()"
   ]
  },
  {
   "cell_type": "code",
   "execution_count": 56,
   "metadata": {},
   "outputs": [
    {
     "data": {
      "text/plain": [
       "'a DUCK GOES INTO A BAR...'"
      ]
     },
     "execution_count": 56,
     "metadata": {},
     "output_type": "execute_result"
    }
   ],
   "source": [
    "#大小寫對調\n",
    "setups = 'A duck goes into a bar...'\n",
    "setups.swapcase()"
   ]
  },
  {
   "cell_type": "code",
   "execution_count": 63,
   "metadata": {},
   "outputs": [
    {
     "data": {
      "text/plain": [
       "'a marmoset goes into a bar...'"
      ]
     },
     "execution_count": 63,
     "metadata": {},
     "output_type": "execute_result"
    }
   ],
   "source": [
    "#replace()做簡單的子字串替換(舊的字串,新的字串,多少個字串要被換掉)\n",
    "setup.replace('duck' , 'marmoset')"
   ]
  },
  {
   "cell_type": "code",
   "execution_count": 65,
   "metadata": {},
   "outputs": [
    {
     "data": {
      "text/plain": [
       "['Groucho', 'Chico', 'Harpo', 'Zeppo', 'Gummo', 'Karl']"
      ]
     },
     "execution_count": 65,
     "metadata": {},
     "output_type": "execute_result"
    }
   ],
   "source": [
    "#使用extend() & += 結合串列\n",
    "marxes = ['Groucho' , 'Chico' , 'Harpo' , 'Zeppo']\n",
    "others = ['Gummo' , 'Karl']\n",
    "marxes.extend(others)\n",
    "marxes"
   ]
  },
  {
   "cell_type": "code",
   "execution_count": 66,
   "metadata": {},
   "outputs": [
    {
     "data": {
      "text/plain": [
       "['Groucho', 'Chico', 'Harpo', 'Zeppo', 'Gummo', 'Karl']"
      ]
     },
     "execution_count": 66,
     "metadata": {},
     "output_type": "execute_result"
    }
   ],
   "source": [
    "marxes = ['Groucho' , 'Chico' , 'Harpo' , 'Zeppo']\n",
    "others = ['Gummo' , 'Karl']\n",
    "marxes += others\n",
    "marxes"
   ]
  },
  {
   "cell_type": "code",
   "execution_count": 67,
   "metadata": {},
   "outputs": [
    {
     "data": {
      "text/plain": [
       "['Groucho', 'Chico', 'Harpo', 'Zeppo', ['Gummo', 'Karl']]"
      ]
     },
     "execution_count": 67,
     "metadata": {},
     "output_type": "execute_result"
    }
   ],
   "source": [
    "#如果使用append()會被夾成一個串列項目而不是合併\n",
    "marxes = ['Groucho' , 'Chico' , 'Harpo' , 'Zeppo']\n",
    "others = ['Gummo' , 'Karl']\n",
    "marxes.append(others)\n",
    "marxes"
   ]
  },
  {
   "cell_type": "code",
   "execution_count": 68,
   "metadata": {},
   "outputs": [
    {
     "data": {
      "text/plain": [
       "['Groucho', 'Chico', 'Zeppo']"
      ]
     },
     "execution_count": 68,
     "metadata": {},
     "output_type": "execute_result"
    }
   ],
   "source": [
    "#用del和位移值刪除項目\n",
    "marxes = ['Groucho' , 'Chico' , 'Harpo' , 'Zeppo']\n",
    "del marxes[-2]\n",
    "marxes"
   ]
  },
  {
   "cell_type": "code",
   "execution_count": 71,
   "metadata": {},
   "outputs": [
    {
     "data": {
      "text/plain": [
       "1"
      ]
     },
     "execution_count": 71,
     "metadata": {},
     "output_type": "execute_result"
    }
   ],
   "source": [
    "#index()與值尋找某個項目的位移值\n",
    "marxes = ['Groucho' , 'Chico' , 'Harpo' , 'Zeppo']\n",
    "marxes.index('Chico')"
   ]
  },
  {
   "cell_type": "code",
   "execution_count": 72,
   "metadata": {},
   "outputs": [
    {
     "data": {
      "text/plain": [
       "True"
      ]
     },
     "execution_count": 72,
     "metadata": {},
     "output_type": "execute_result"
    }
   ],
   "source": [
    "#in檢查串列中是否存在某個值\n",
    "marxes = ['Groucho' , 'Chico' , 'Harpo' , 'Zeppo']\n",
    "'Groucho' in marxes"
   ]
  },
  {
   "cell_type": "code",
   "execution_count": 76,
   "metadata": {},
   "outputs": [
    {
     "name": "stdout",
     "output_type": "stream",
     "text": [
      "[1, 2, 3]\n",
      "[1, 2, 3]\n",
      "[1, 2, 3]\n",
      "[1, 2, 3]\n",
      "[1, 2, 3, 4]\n",
      "[1, 2, 3]\n"
     ]
    }
   ],
   "source": [
    "#可以使用以下的方法將串列的值複製到一個獨立全新的串列\n",
    "a = [1 , 2 , 3]\n",
    "b = a.copy()\n",
    "c = list(a)\n",
    "d = a[:]\n",
    "print(a)\n",
    "print(b)\n",
    "print(c)\n",
    "print(d)\n",
    "a.append(4)\n",
    "print(a)\n",
    "print(b)"
   ]
  },
  {
   "cell_type": "code",
   "execution_count": 78,
   "metadata": {},
   "outputs": [
    {
     "name": "stdout",
     "output_type": "stream",
     "text": [
      "('Groucho', 'Chico', 'Harpo')\n",
      "('Zeppo',)\n",
      "Groucho\n",
      "Chico\n",
      "Harpo\n"
     ]
    }
   ],
   "source": [
    "#用,建立tuple\n",
    "marx_tuple = ('Groucho' , 'Chico' , 'Harpo')\n",
    "onetuple = 'Zeppo',\n",
    "a , b , c = marx_tuple#swap\n",
    "print(marx_tuple)\n",
    "print(onetuple)\n",
    "print(a)\n",
    "print(b)\n",
    "print(c)"
   ]
  },
  {
   "cell_type": "code",
   "execution_count": 79,
   "metadata": {},
   "outputs": [],
   "source": [
    "# tuple vs list\n",
    "# 不會不小心破壞tuple的項目\n",
    "# 可以將 tuple 當成字典\n",
    "# 函式的引數是以tuple的形式傳入"
   ]
  },
  {
   "cell_type": "code",
   "execution_count": 80,
   "metadata": {},
   "outputs": [
    {
     "data": {
      "text/plain": [
       "{'a': 'b', 'c': 'd', 'e': 'f'}"
      ]
     },
     "execution_count": 80,
     "metadata": {},
     "output_type": "execute_result"
    }
   ],
   "source": [
    " #使用dict()轉換雙值序列到字典裡面\n",
    "lol = [['a' , 'b'],['c' , 'd'],['e' , 'f']]\n",
    "dict(lol)"
   ]
  },
  {
   "cell_type": "code",
   "execution_count": 85,
   "metadata": {},
   "outputs": [
    {
     "data": {
      "text/plain": [
       "{'a': 'b', 'c': 'd', 'e': 'f', 1: 'a', 2: 'b'}"
      ]
     },
     "execution_count": 85,
     "metadata": {},
     "output_type": "execute_result"
    }
   ],
   "source": [
    "#用update來合併字典\n",
    "pythons = {'a': 'b', 'c': 'd', 'e': 'f'}\n",
    "others = {1 : 'a' , 2 : 'b'}\n",
    "pythons.update(others)\n",
    "pythons"
   ]
  },
  {
   "cell_type": "code",
   "execution_count": 86,
   "metadata": {},
   "outputs": [
    {
     "data": {
      "text/plain": [
       "{1: 'f', 2: 'b'}"
      ]
     },
     "execution_count": 86,
     "metadata": {},
     "output_type": "execute_result"
    }
   ],
   "source": [
    "#如果第二個字典要合併的字典有相同鍵時，第二個一點的值會勝出\n",
    "first = {1 : 'a' , 2 : 'b'}\n",
    "second = {1 : 'f'}\n",
    "first.update(second)\n",
    "first"
   ]
  },
  {
   "cell_type": "code",
   "execution_count": 88,
   "metadata": {},
   "outputs": [
    {
     "data": {
      "text/plain": [
       "set()"
      ]
     },
     "execution_count": 88,
     "metadata": {},
     "output_type": "execute_result"
    }
   ],
   "source": [
    "#dict 使用 keys()取得所有的鍵 values()取得所有的值 items()取得所有的鍵/值對\n",
    "#空集合 VS 空字典\n",
    "empty_set = set()\n",
    "empty_dict = {}\n",
    "empty_set"
   ]
  },
  {
   "cell_type": "code",
   "execution_count": 89,
   "metadata": {},
   "outputs": [
    {
     "data": {
      "text/plain": [
       "{}"
      ]
     },
     "execution_count": 89,
     "metadata": {},
     "output_type": "execute_result"
    }
   ],
   "source": [
    "empty_dict"
   ]
  },
  {
   "cell_type": "code",
   "execution_count": 90,
   "metadata": {},
   "outputs": [
    {
     "data": {
      "text/plain": [
       "{'e', 'l', 'r', 's', 't'}"
      ]
     },
     "execution_count": 90,
     "metadata": {},
     "output_type": "execute_result"
    }
   ],
   "source": [
    "#set()轉換\n",
    "set('letters')#會丟棄重複的值"
   ]
  },
  {
   "cell_type": "code",
   "execution_count": 92,
   "metadata": {},
   "outputs": [
    {
     "data": {
      "text/plain": [
       "{'a', 'b', 'c', 'd'}"
      ]
     },
     "execution_count": 92,
     "metadata": {},
     "output_type": "execute_result"
    }
   ],
   "source": [
    "#串列轉集合 \n",
    "set(['a' , 'b' , 'c' ,'d' ,'d'])#會丟棄重複的值"
   ]
  },
  {
   "cell_type": "code",
   "execution_count": 93,
   "metadata": {},
   "outputs": [
    {
     "data": {
      "text/plain": [
       "{'a', 'b', 'c', 'd'}"
      ]
     },
     "execution_count": 93,
     "metadata": {},
     "output_type": "execute_result"
    }
   ],
   "source": [
    "#tuple轉集合\n",
    "set(('a' , 'b' , 'c' ,'d' ,'d'))#會丟棄重複的值"
   ]
  },
  {
   "cell_type": "code",
   "execution_count": 94,
   "metadata": {},
   "outputs": [
    {
     "data": {
      "text/plain": [
       "{'apple', 'banana', 'orange'}"
      ]
     },
     "execution_count": 94,
     "metadata": {},
     "output_type": "execute_result"
    }
   ],
   "source": [
    "#dict轉集合,只會用到鍵\n",
    "set({'apple':'red' , 'orange':'orange' ,'banana':'yellow' })"
   ]
  },
  {
   "cell_type": "code",
   "execution_count": 96,
   "metadata": {},
   "outputs": [
    {
     "data": {
      "text/plain": [
       "'abcdfghkjuueorerorrv'"
      ]
     },
     "execution_count": 96,
     "metadata": {},
     "output_type": "execute_result"
    }
   ],
   "source": [
    "#延續符 \\ \n",
    "alphtset = 'abcd' \\\n",
    "           'fghk' \\\n",
    "           'juueor'\\\n",
    "           'erorrv'\n",
    "alphtset\n"
   ]
  },
  {
   "cell_type": "code",
   "execution_count": 99,
   "metadata": {},
   "outputs": [
    {
     "data": {
      "text/plain": [
       "6"
      ]
     },
     "execution_count": 99,
     "metadata": {},
     "output_type": "execute_result"
    }
   ],
   "source": [
    "1 + 2 + 3 \\"
   ]
  },
  {
   "cell_type": "code",
   "execution_count": 101,
   "metadata": {},
   "outputs": [
    {
     "name": "stdout",
     "output_type": "stream",
     "text": [
      "It is cat\n"
     ]
    }
   ],
   "source": [
    "#if else\n",
    "furry = True\n",
    "small = True\n",
    "if furry :\n",
    "    if small:\n",
    "        print('It is cat')\n",
    "    else :\n",
    "        print('It is bear')\n",
    "else :\n",
    "    if small:\n",
    "        print('It is skink')\n",
    "    else :\n",
    "        print('It is human')"
   ]
  },
  {
   "cell_type": "code",
   "execution_count": 102,
   "metadata": {},
   "outputs": [
    {
     "name": "stdout",
     "output_type": "stream",
     "text": [
      "I have never heard of the color\n"
     ]
    }
   ],
   "source": [
    "#if elif else\n",
    "color = 'puce'\n",
    "if color == 'red':\n",
    "    print('It is a tomato')\n",
    "elif color == 'green':\n",
    "    print('It is a pepper')\n",
    "elif color == 'purple':\n",
    "    print('I do not know what it is')\n",
    "else :\n",
    "    print('I have never heard of the color')"
   ]
  },
  {
   "cell_type": "code",
   "execution_count": 103,
   "metadata": {},
   "outputs": [
    {
     "name": "stdout",
     "output_type": "stream",
     "text": [
      "Hey it is empty\n"
     ]
    }
   ],
   "source": [
    "#all are False\n",
    "# boolean False\n",
    "# null None\n",
    "# 整數 0\n",
    "# 符點數 0.0\n",
    "# 空字串 ''\n",
    "# 空串列 []\n",
    "# 空tuple ()\n",
    "# 空字典 {}\n",
    "# 空集合 set()\n",
    "some_list = []\n",
    "if some_list :\n",
    "    print('There is somthing here')\n",
    "else:\n",
    "    print('Hey it is empty')"
   ]
  },
  {
   "cell_type": "code",
   "execution_count": 104,
   "metadata": {},
   "outputs": [
    {
     "name": "stdout",
     "output_type": "stream",
     "text": [
      "No even number Found\n"
     ]
    }
   ],
   "source": [
    "#使用else檢查中斷\n",
    "# while來尋找某些東西，找到時馬上跳出來 , 同樣也是用在for\n",
    "numbers = [1,3,5]\n",
    "position = 0\n",
    "while position < len(numbers):\n",
    "    number = numbers[position]\n",
    "    if number % 2 == 0:\n",
    "        print('Found even number :',number)\n",
    "        break\n",
    "    position += 1\n",
    "else :\n",
    "    print('No even number Found')"
   ]
  },
  {
   "cell_type": "code",
   "execution_count": 105,
   "metadata": {},
   "outputs": [
    {
     "name": "stdout",
     "output_type": "stream",
     "text": [
      "Monday  : drinks soda  : fruits banana  : desserts ice cream\n",
      "Tuesday  : drinks coffee  : fruits orange  : desserts pie\n",
      "Wednesday  : drinks tea  : fruits apple  : desserts puddin\n"
     ]
    }
   ],
   "source": [
    "#用zip來迭代多個序列\n",
    "days = ['Monday' , 'Tuesday' , 'Wednesday']\n",
    "fruits = ['banana' , 'orange' , 'apple']\n",
    "drinks = ['soda' , 'coffee' , 'tea' , 'beer']\n",
    "desserts = ['ice cream' , 'pie' , 'puddin']\n",
    "for day , fruit ,drink ,dessert in zip(days , fruits ,drinks ,desserts):\n",
    "    print(day , ' : drinks',drink,' : fruits' , fruit , ' : desserts' , dessert)"
   ]
  },
  {
   "cell_type": "code",
   "execution_count": 106,
   "metadata": {},
   "outputs": [
    {
     "data": {
      "text/plain": [
       "[1, 2, 3, 4, 5]"
      ]
     },
     "execution_count": 106,
     "metadata": {},
     "output_type": "execute_result"
    }
   ],
   "source": [
    "#生成式是以一個或多個迭代器來密集建立python資料結構的方式\n",
    "#串列生成式\n",
    "# [運算式 for 項目 in 可迭代項目]\n",
    "# [運算式 for 項目 in 可迭代項目 if 條件式]\n",
    "numberlist = [number for number in range(1 , 6)]\n",
    "numberlist"
   ]
  },
  {
   "cell_type": "code",
   "execution_count": 107,
   "metadata": {},
   "outputs": [
    {
     "data": {
      "text/plain": [
       "[0, 1, 2, 3, 4]"
      ]
     },
     "execution_count": 107,
     "metadata": {},
     "output_type": "execute_result"
    }
   ],
   "source": [
    "#為了說明number是運算式可以改成-1 第二個 number 是 for 迴圈一部分\n",
    "numberlist = [number-1 for number in range(1 , 6)]\n",
    "numberlist"
   ]
  },
  {
   "cell_type": "code",
   "execution_count": 108,
   "metadata": {},
   "outputs": [
    {
     "data": {
      "text/plain": [
       "[1, 3, 5]"
      ]
     },
     "execution_count": 108,
     "metadata": {},
     "output_type": "execute_result"
    }
   ],
   "source": [
    "a_list = [number for number in range(1 , 6) if number %2 == 1]\n",
    "a_list"
   ]
  },
  {
   "cell_type": "code",
   "execution_count": 109,
   "metadata": {},
   "outputs": [
    {
     "name": "stdout",
     "output_type": "stream",
     "text": [
      "1 1\n",
      "1 2\n",
      "2 1\n",
      "2 2\n",
      "3 1\n",
      "3 2\n"
     ]
    }
   ],
   "source": [
    "#雙層迴圈\n",
    "rows = range(1 , 4)\n",
    "cols = range(1 , 3)\n",
    "for row in rows:\n",
    "    for col in cols:\n",
    "        print(row , col)"
   ]
  },
  {
   "cell_type": "code",
   "execution_count": 110,
   "metadata": {},
   "outputs": [
    {
     "data": {
      "text/plain": [
       "[(1, 1), (1, 2), (2, 1), (2, 2), (3, 1), (3, 2)]"
      ]
     },
     "execution_count": 110,
     "metadata": {},
     "output_type": "execute_result"
    }
   ],
   "source": [
    "rows = range(1 , 4)\n",
    "cols = range(1 , 3)\n",
    "cells = [(row , col) for row in rows for col in cols]\n",
    "cells"
   ]
  },
  {
   "cell_type": "code",
   "execution_count": 111,
   "metadata": {},
   "outputs": [
    {
     "data": {
      "text/plain": [
       "{'l': 1, 'e': 2, 't': 2, 'r': 1, 's': 1}"
      ]
     },
     "execution_count": 111,
     "metadata": {},
     "output_type": "execute_result"
    }
   ],
   "source": [
    "#字典生成式\n",
    "#{ 鍵運算式 : 值運算式 for 運算式 in 可迭代項目 }\n",
    "word = 'letters'\n",
    "letter_count = {letter : word.count(letter) for letter in word}\n",
    "letter_count "
   ]
  },
  {
   "cell_type": "code",
   "execution_count": 118,
   "metadata": {},
   "outputs": [
    {
     "data": {
      "text/plain": [
       "{1: 'a', 2: 'b'}"
      ]
     },
     "execution_count": 118,
     "metadata": {},
     "output_type": "execute_result"
    }
   ],
   "source": [
    "first = {1 : 'a' , 2 : 'b'}\n",
    "letter_count = {letter : first[letter] for letter in first}\n",
    "letter_count"
   ]
  },
  {
   "cell_type": "code",
   "execution_count": 120,
   "metadata": {},
   "outputs": [
    {
     "data": {
      "text/plain": [
       "{1, 4}"
      ]
     },
     "execution_count": 120,
     "metadata": {},
     "output_type": "execute_result"
    }
   ],
   "source": [
    "#集合生成式\n",
    "#{ 運算式 for 運算式 in 可迭代項目}\n",
    "a_set = {number for number in range(1,6) if number %3 == 1}\n",
    "a_set"
   ]
  },
  {
   "cell_type": "code",
   "execution_count": 122,
   "metadata": {},
   "outputs": [
    {
     "name": "stdout",
     "output_type": "stream",
     "text": [
      "It is Nothing\n"
     ]
    }
   ],
   "source": [
    "#None很好用\n",
    "#要區分 None 和 布林值,可以使用python 的 is 運算子\n",
    "#你需要 None來區分遺漏值和空值 \n",
    "# Rember\n",
    "#all are False\n",
    "# boolean False\n",
    "# null None\n",
    "# 整數 0\n",
    "# 符點數 0.0\n",
    "# 空字串 ''\n",
    "# 空串列 []\n",
    "# 空tuple ()\n",
    "# 空字典 {}\n",
    "# 空集合 set()\n",
    "things = None\n",
    "if things is None :\n",
    "    print ('It is Nothing')\n",
    "else :\n",
    "    print ('It is Something')"
   ]
  },
  {
   "cell_type": "code",
   "execution_count": 126,
   "metadata": {},
   "outputs": [
    {
     "name": "stdout",
     "output_type": "stream",
     "text": [
      "It is True\n",
      "It is False\n",
      "It is False\n",
      "It is False\n",
      "It is False\n",
      "It is False\n",
      "It is False\n",
      "It is None\n"
     ]
    }
   ],
   "source": [
    "def is_none(things):\n",
    "    if things is None :\n",
    "        print ('It is None')\n",
    "    elif things:\n",
    "        print ('It is True')\n",
    "    else :\n",
    "        print ('It is False')\n",
    "\n",
    "        \n",
    "is_none(True)\n",
    "is_none(False)\n",
    "is_none(0)\n",
    "is_none(0.0)\n",
    "is_none([])\n",
    "is_none({})\n",
    "is_none(set())\n",
    "is_none(None)"
   ]
  },
  {
   "cell_type": "code",
   "execution_count": 133,
   "metadata": {},
   "outputs": [
    {
     "data": {
      "text/plain": [
       "'fruitbat'"
      ]
     },
     "execution_count": 133,
     "metadata": {},
     "output_type": "execute_result"
    }
   ],
   "source": [
    "# 用 * 收集位置引數\n",
    "# 用 ** 收集關鍵字引數\n",
    "# *會將可變數量的潛在引數群組化變成一個tuple\n",
    "# ** 會將關鍵字引數群組化變成一個dict,引數名稱是鍵,值是對應的字典值\n",
    "# Python提供兩個函式讓你存取命名空間的內容\n",
    "# locals() 會回傳區域命名空間字典的內容\n",
    "# globals() 會回傳全域命名空間字典的內容\n",
    "\n",
    "animal = 'fruitbat'\n",
    "def change_local():\n",
    "    animal = 'wombat' #local variable\n",
    "    print('locals :',locals())\n",
    "    \n",
    "    \n",
    "animal"
   ]
  },
  {
   "cell_type": "code",
   "execution_count": 134,
   "metadata": {},
   "outputs": [
    {
     "name": "stdout",
     "output_type": "stream",
     "text": [
      "locals : {'animal': 'wombat'}\n"
     ]
    }
   ],
   "source": [
    "change_local()"
   ]
  },
  {
   "cell_type": "code",
   "execution_count": 1,
   "metadata": {},
   "outputs": [],
   "source": [
    "#模組/套件/程式\n",
    "#檔案boxes\n",
    "#第一個案例中 import report import random\n",
    "#第二個案例中直接從random模組匯入choice()函式 from random import choice\n",
    "#用其他的名稱來匯入模組\n",
    " #import report as wr\n",
    " #description = wr.get_description()\n",
    " #print(\"Today's weather:\", description)\n",
    "    \n",
    "    \n",
    " #from report import get_description\n",
    " #description = get_description()\n",
    " #print(\"Today's weather:\", description)\n",
    "\n",
    "\n",
    " #from report import get_description as do_it \n",
    " #description = do_it()\n",
    " #print(\"Today's weather:\", description)"
   ]
  },
  {
   "cell_type": "code",
   "execution_count": 2,
   "metadata": {},
   "outputs": [
    {
     "name": "stdout",
     "output_type": "stream",
     "text": [
      "\n",
      "/anaconda3/envs/work/lib/python36.zip\n",
      "/anaconda3/envs/work/lib/python3.6\n",
      "/anaconda3/envs/work/lib/python3.6/lib-dynload\n",
      "/anaconda3/envs/work/lib/python3.6/site-packages\n",
      "/anaconda3/envs/work/lib/python3.6/site-packages/tflearn-0.3.2-py3.6.egg\n",
      "/anaconda3/envs/work/lib/python3.6/site-packages/IPython/extensions\n",
      "/Users/shuhuimeng/.ipython\n"
     ]
    }
   ],
   "source": [
    "#模組搜尋路徑\n",
    "import sys\n",
    "for place in sys.path :\n",
    "    print (place)"
   ]
  },
  {
   "cell_type": "code",
   "execution_count": 3,
   "metadata": {},
   "outputs": [
    {
     "data": {
      "text/plain": [
       "'\\nenumerate()说明\\nenumerate()是python的内置函数\\nenumerate在字典上是枚举、列举的意思\\n对于一个可迭代的（iterable）/可遍历的对象（如列表、字符串），enumerate将其组成一个索引序列，利用它可以同时获得索引和值\\nenumerate多用于在for循环中得到计数\\nenumerate()使用\\n如果对一个列表，既要遍历索引又要遍历元素时，首先可以这样写：\\nlist1 = [\"这\", \"是\", \"一个\", \"测试\"]\\nfor i in range (len(list1)):\\n    print i ,list1[i]\\n\\n上述方法有些累赘，利用enumerate()会更加直接和优美：\\nlist1 = [\"这\", \"是\", \"一个\", \"测试\"]\\nfor index, item in enumerate(list1):\\n    print index, item\\n\\n0 这\\n1 是\\n2 一个\\n3 测试\\n\\n'"
      ]
     },
     "execution_count": 3,
     "metadata": {},
     "output_type": "execute_result"
    }
   ],
   "source": [
    "#想要使用不同類型的氣象預測文字：一個供隔天使用，一個供下星期使用。製作source directory 製作兩個模組：dealy.py & weekly.py ，每一個\n",
    "#模組中都有forecast 函式，每日的版本會回傳一個字串，每週的版本會回傳含有七個字串的串列\n",
    "#檔案在boxes中\n",
    "\"\"\"\n",
    "enumerate()说明\n",
    "enumerate()是python的内置函数\n",
    "enumerate在字典上是枚举、列举的意思\n",
    "对于一个可迭代的（iterable）/可遍历的对象（如列表、字符串），enumerate将其组成一个索引序列，利用它可以同时获得索引和值\n",
    "enumerate多用于在for循环中得到计数\n",
    "enumerate()使用\n",
    "如果对一个列表，既要遍历索引又要遍历元素时，首先可以这样写：\n",
    "list1 = [\"这\", \"是\", \"一个\", \"测试\"]\n",
    "for i in range (len(list1)):\n",
    "    print i ,list1[i]\n",
    "\n",
    "上述方法有些累赘，利用enumerate()会更加直接和优美：\n",
    "list1 = [\"这\", \"是\", \"一个\", \"测试\"]\n",
    "for index, item in enumerate(list1):\n",
    "    print index, item\n",
    "\n",
    "0 这\n",
    "1 是\n",
    "2 一个\n",
    "3 测试\n",
    "\n",
    "\"\"\""
   ]
  },
  {
   "cell_type": "code",
   "execution_count": 4,
   "metadata": {},
   "outputs": [
    {
     "name": "stdout",
     "output_type": "stream",
     "text": [
      "{'Hydrogen': 1, 'Helium': 2}\n"
     ]
    }
   ],
   "source": [
    "#python標準程式庫 https://docs.python.org/3/library/\n",
    "#用setdefault() & defaultdict()處理遺漏的鍵\n",
    "periodic_table = {'Hydrogen' : 1,'Helium' :2}\n",
    "print (periodic_table)"
   ]
  },
  {
   "cell_type": "code",
   "execution_count": 6,
   "metadata": {},
   "outputs": [
    {
     "data": {
      "text/plain": [
       "12"
      ]
     },
     "execution_count": 6,
     "metadata": {},
     "output_type": "execute_result"
    }
   ],
   "source": [
    "#如果間沒有在字典裡就會使用新值\n",
    "carbon = periodic_table.setdefault('Carbon' ,12) #dict.setdefault(key, default=None) key -- 查找的键值。default -- 键不存在时，设置的默认键值。\n",
    "carbon"
   ]
  },
  {
   "cell_type": "code",
   "execution_count": 7,
   "metadata": {},
   "outputs": [
    {
     "name": "stdout",
     "output_type": "stream",
     "text": [
      "{'Hydrogen': 1, 'Helium': 2, 'Carbon': 12}\n"
     ]
    }
   ],
   "source": [
    "print (periodic_table)"
   ]
  },
  {
   "cell_type": "code",
   "execution_count": 8,
   "metadata": {},
   "outputs": [
    {
     "name": "stdout",
     "output_type": "stream",
     "text": [
      "{'Hydrogen': 1, 'Helium': 2, 'Carbon': 12}\n"
     ]
    }
   ],
   "source": [
    "#如果試著指派不同的預設值給一個已經存在的鍵，它就會回傳原始值，不會改變任何東西\n",
    "helium = periodic_table.setdefault('Helium' ,947)\n",
    "print (periodic_table)"
   ]
  },
  {
   "cell_type": "code",
   "execution_count": 9,
   "metadata": {},
   "outputs": [
    {
     "name": "stdout",
     "output_type": "stream",
     "text": [
      "0\n",
      "set()\n",
      "\n",
      "[]\n"
     ]
    }
   ],
   "source": [
    "#在Python里面有一个模块collections，解释是数据类型容器模块。这里面有一个collections.defaultdict()经常被用到。\n",
    "#这里的defaultdict(function_factory)构建的是一个类似dictionary的对象，其中keys的值，自行确定赋值，但是values的类型，\n",
    "#是function_factory的类实例，而且具有默认值。比如default(int)则创建一个类似dictionary对象，里面任何的values都是int的实例\n",
    "#，而且就算是一个不存在的key, d[key] 也有一个默认值，这个默认值是int()的默认值0.\n",
    "#这个factory_function可以是list、set、str等等，作用是当key不存在时，返回的是工厂函数的默认值，比如list对应[ ]，str对应的\n",
    "#是空字符串，set对应set( )，int对应0，如下举例：\n",
    "\n",
    "from collections import defaultdict\n",
    "\n",
    "dict1 = defaultdict(int)\n",
    "dict2 = defaultdict(set)\n",
    "dict3 = defaultdict(str)\n",
    "dict4 = defaultdict(list)\n",
    "dict1[2] ='two'\n",
    "\n",
    "print(dict1[1])\n",
    "print(dict2[1])\n",
    "print(dict3[1])\n",
    "print(dict4[1])"
   ]
  },
  {
   "cell_type": "code",
   "execution_count": 13,
   "metadata": {},
   "outputs": [],
   "source": [
    "from collections import defaultdict\n",
    "periodic_table = defaultdict(int)\n",
    "periodic_table['Hydrogen'] = 1"
   ]
  },
  {
   "cell_type": "code",
   "execution_count": 14,
   "metadata": {},
   "outputs": [
    {
     "data": {
      "text/plain": [
       "0"
      ]
     },
     "execution_count": 14,
     "metadata": {},
     "output_type": "execute_result"
    }
   ],
   "source": [
    "periodic_table['Gram']"
   ]
  },
  {
   "cell_type": "code",
   "execution_count": 15,
   "metadata": {},
   "outputs": [
    {
     "name": "stdout",
     "output_type": "stream",
     "text": [
      "defaultdict(<class 'int'>, {'Hydrogen': 1, 'Gram': 0})\n"
     ]
    }
   ],
   "source": [
    "print (periodic_table)"
   ]
  },
  {
   "cell_type": "code",
   "execution_count": 16,
   "metadata": {},
   "outputs": [
    {
     "data": {
      "text/plain": [
       "'Snowman'"
      ]
     },
     "execution_count": 16,
     "metadata": {},
     "output_type": "execute_result"
    }
   ],
   "source": [
    "#被傳入defaultdict的引數是一個函式，它會回傳將要被指派給遺漏的鍵的值\n",
    "from collections import defaultdict\n",
    "def no_idea():\n",
    "    return 'Huh?'\n",
    "\n",
    "bestiary = defaultdict(no_idea)\n",
    "bestiary['A'] = 'Snowman'\n",
    "bestiary['B'] = 'Basilisk'\n",
    "bestiary['A']"
   ]
  },
  {
   "cell_type": "code",
   "execution_count": 17,
   "metadata": {},
   "outputs": [
    {
     "data": {
      "text/plain": [
       "'Basilisk'"
      ]
     },
     "execution_count": 17,
     "metadata": {},
     "output_type": "execute_result"
    }
   ],
   "source": [
    "bestiary['B']"
   ]
  },
  {
   "cell_type": "code",
   "execution_count": 18,
   "metadata": {},
   "outputs": [
    {
     "data": {
      "text/plain": [
       "'Huh?'"
      ]
     },
     "execution_count": 18,
     "metadata": {},
     "output_type": "execute_result"
    }
   ],
   "source": [
    "bestiary['C']"
   ]
  },
  {
   "cell_type": "code",
   "execution_count": 19,
   "metadata": {},
   "outputs": [
    {
     "name": "stdout",
     "output_type": "stream",
     "text": [
      "Spam\n",
      "Spam\n",
      "Eggs\n",
      "Spam\n"
     ]
    }
   ],
   "source": [
    "#印出自己的計數器\n",
    "from collections import defaultdict\n",
    "food_counter = defaultdict(int)\n",
    "for food in ['Spam' , 'Spam' , 'Eggs' ,'Spam']:\n",
    "    food_counter[food] += 1 \n",
    "    print (food)"
   ]
  },
  {
   "cell_type": "code",
   "execution_count": 20,
   "metadata": {},
   "outputs": [
    {
     "data": {
      "text/plain": [
       "Counter({'Spam': 3, 'Eggs': 1})"
      ]
     },
     "execution_count": 20,
     "metadata": {},
     "output_type": "execute_result"
    }
   ],
   "source": [
    "#Counter()計算項目數量\n",
    "from collections import Counter\n",
    "breakfaster = ['Spam' , 'Spam' , 'Eggs' ,'Spam']\n",
    "breakfaster_counter = Counter(breakfaster)\n",
    "breakfaster_counter"
   ]
  },
  {
   "cell_type": "code",
   "execution_count": 21,
   "metadata": {},
   "outputs": [
    {
     "data": {
      "text/plain": [
       "[('Spam', 3), ('Eggs', 1)]"
      ]
     },
     "execution_count": 21,
     "metadata": {},
     "output_type": "execute_result"
    }
   ],
   "source": [
    "#most_common()會以降冪回傳所有元素，或當你指定一個數量時，回傳最前面的count元素\n",
    "breakfaster_counter.most_common()"
   ]
  },
  {
   "cell_type": "code",
   "execution_count": 22,
   "metadata": {},
   "outputs": [
    {
     "data": {
      "text/plain": [
       "[('Spam', 3)]"
      ]
     },
     "execution_count": 22,
     "metadata": {},
     "output_type": "execute_result"
    }
   ],
   "source": [
    "breakfaster_counter.most_common(1)"
   ]
  },
  {
   "cell_type": "code",
   "execution_count": 23,
   "metadata": {},
   "outputs": [
    {
     "data": {
      "text/plain": [
       "[('Spam', 3), ('Eggs', 1)]"
      ]
     },
     "execution_count": 23,
     "metadata": {},
     "output_type": "execute_result"
    }
   ],
   "source": [
    "breakfaster_counter.most_common(2)"
   ]
  },
  {
   "cell_type": "code",
   "execution_count": 24,
   "metadata": {},
   "outputs": [
    {
     "data": {
      "text/plain": [
       "[('Spam', 3), ('Eggs', 1)]"
      ]
     },
     "execution_count": 24,
     "metadata": {},
     "output_type": "execute_result"
    }
   ],
   "source": [
    "breakfaster_counter.most_common(3)"
   ]
  },
  {
   "cell_type": "code",
   "execution_count": 25,
   "metadata": {},
   "outputs": [
    {
     "data": {
      "text/plain": [
       "Counter({'Spam': 3, 'Eggs': 3, 'Bacon': 1})"
      ]
     },
     "execution_count": 25,
     "metadata": {},
     "output_type": "execute_result"
    }
   ],
   "source": [
    "lunch = ['Eggs' ,'Eggs' ,'Bacon']\n",
    "lunch_counter = Counter(lunch)\n",
    "#結合兩個計數器\n",
    "breakfaster_counter + lunch_counter"
   ]
  },
  {
   "cell_type": "code",
   "execution_count": 26,
   "metadata": {},
   "outputs": [
    {
     "data": {
      "text/plain": [
       "Counter({'Spam': 3})"
      ]
     },
     "execution_count": 26,
     "metadata": {},
     "output_type": "execute_result"
    }
   ],
   "source": [
    "#減去另一個計數器\n",
    "breakfaster_counter - lunch_counter"
   ]
  },
  {
   "cell_type": "code",
   "execution_count": 28,
   "metadata": {},
   "outputs": [
    {
     "data": {
      "text/plain": [
       "Counter({'Eggs': 1, 'Bacon': 1})"
      ]
     },
     "execution_count": 28,
     "metadata": {},
     "output_type": "execute_result"
    }
   ],
   "source": [
    "#什麼食物午餐有，早餐沒有\n",
    "lunch_counter - breakfaster_counter"
   ]
  },
  {
   "cell_type": "code",
   "execution_count": 29,
   "metadata": {},
   "outputs": [
    {
     "data": {
      "text/plain": [
       "Counter({'Eggs': 1})"
      ]
     },
     "execution_count": 29,
     "metadata": {},
     "output_type": "execute_result"
    }
   ],
   "source": [
    "# &交集運算子\n",
    "breakfaster_counter & lunch_counter"
   ]
  },
  {
   "cell_type": "code",
   "execution_count": 30,
   "metadata": {},
   "outputs": [
    {
     "data": {
      "text/plain": [
       "Counter({'Spam': 3, 'Eggs': 2, 'Bacon': 1})"
      ]
     },
     "execution_count": 30,
     "metadata": {},
     "output_type": "execute_result"
    }
   ],
   "source": [
    "# |聯集運算子\n",
    "breakfaster_counter | lunch_counter"
   ]
  },
  {
   "cell_type": "code",
   "execution_count": 31,
   "metadata": {},
   "outputs": [
    {
     "name": "stdout",
     "output_type": "stream",
     "text": [
      "Moe\n",
      "Larry\n",
      "Kitty\n"
     ]
    }
   ],
   "source": [
    "#使用鍵與OrderedDict()來排序\n",
    "#字典中鍵的順序是無法預測的，但是OrderedDict()會記得加入鍵的順序\n",
    "from collections import OrderedDict\n",
    "quotes = OrderedDict([('Moe','huh!'),('Larry','OW!'),('Kitty','nyuk!')])\n",
    "for stooge in quotes :\n",
    "    print(stooge)"
   ]
  },
  {
   "cell_type": "code",
   "execution_count": 38,
   "metadata": {},
   "outputs": [
    {
     "data": {
      "text/plain": [
       "True"
      ]
     },
     "execution_count": 38,
     "metadata": {},
     "output_type": "execute_result"
    }
   ],
   "source": [
    "#deque是一種雙頭序列，同時具有堆疊和序列功能，從序列任一端加入或刪除時可用，或檢查是否是個回文，popleft()會將deque最左邊項目移除並回傳\n",
    "#pop()會移除最右邊項目並回傳，直到達到最中間 回文就是左右來讀都一樣\n",
    "def deque_method(word):\n",
    "    from collections import deque\n",
    "    dq = deque(word)\n",
    "    while len(dq) > 1:\n",
    "        if dq.popleft() != dq.pop():\n",
    "            return False\n",
    "    return True\n",
    "\n",
    "deque_method('a')"
   ]
  },
  {
   "cell_type": "code",
   "execution_count": 34,
   "metadata": {},
   "outputs": [
    {
     "data": {
      "text/plain": [
       "True"
      ]
     },
     "execution_count": 34,
     "metadata": {},
     "output_type": "execute_result"
    }
   ],
   "source": [
    "deque_method('racecar')"
   ]
  },
  {
   "cell_type": "code",
   "execution_count": 35,
   "metadata": {},
   "outputs": [
    {
     "data": {
      "text/plain": [
       "True"
      ]
     },
     "execution_count": 35,
     "metadata": {},
     "output_type": "execute_result"
    }
   ],
   "source": [
    "deque_method(' ')"
   ]
  },
  {
   "cell_type": "code",
   "execution_count": 36,
   "metadata": {},
   "outputs": [
    {
     "data": {
      "text/plain": [
       "True"
      ]
     },
     "execution_count": 36,
     "metadata": {},
     "output_type": "execute_result"
    }
   ],
   "source": [
    "deque_method('radar')"
   ]
  },
  {
   "cell_type": "code",
   "execution_count": 37,
   "metadata": {},
   "outputs": [
    {
     "data": {
      "text/plain": [
       "False"
      ]
     },
     "execution_count": 37,
     "metadata": {},
     "output_type": "execute_result"
    }
   ],
   "source": [
    "deque_method('halibut')"
   ]
  },
  {
   "cell_type": "code",
   "execution_count": 39,
   "metadata": {},
   "outputs": [
    {
     "data": {
      "text/plain": [
       "True"
      ]
     },
     "execution_count": 39,
     "metadata": {},
     "output_type": "execute_result"
    }
   ],
   "source": [
    "#最簡單的做法是把字串與他自己的相反來比較，字串沒有reverse，但是可以用slice\n",
    "def another_deque_method(word):\n",
    "    return word == word[::-1]\n",
    "\n",
    "another_deque_method('radar')"
   ]
  },
  {
   "cell_type": "code",
   "execution_count": 40,
   "metadata": {},
   "outputs": [
    {
     "data": {
      "text/plain": [
       "False"
      ]
     },
     "execution_count": 40,
     "metadata": {},
     "output_type": "execute_result"
    }
   ],
   "source": [
    "another_deque_method('halibut')"
   ]
  },
  {
   "cell_type": "code",
   "execution_count": 43,
   "metadata": {},
   "outputs": [
    {
     "name": "stdout",
     "output_type": "stream",
     "text": [
      "OrderedDict([('Moe', 'huh!'), ('Larry', 'OW!'), ('Kitty', 'nyuk!')])\n",
      "OrderedDict([('Moe', 'huh!'), ('Larry', 'OW!'), ('Kitty', 'nyuk!')])\n"
     ]
    }
   ],
   "source": [
    "#pprint也是輸出\n",
    "from pprint import pprint\n",
    "quotes = OrderedDict([('Moe','huh!'),('Larry','OW!'),('Kitty','nyuk!')])\n",
    "print (quotes)\n",
    "pprint (quotes)"
   ]
  },
  {
   "cell_type": "code",
   "execution_count": null,
   "metadata": {},
   "outputs": [],
   "source": []
  },
  {
   "cell_type": "code",
   "execution_count": null,
   "metadata": {},
   "outputs": [],
   "source": []
  }
 ],
 "metadata": {
  "kernelspec": {
   "display_name": "Python 3",
   "language": "python",
   "name": "python3"
  },
  "language_info": {
   "codemirror_mode": {
    "name": "ipython",
    "version": 3
   },
   "file_extension": ".py",
   "mimetype": "text/x-python",
   "name": "python",
   "nbconvert_exporter": "python",
   "pygments_lexer": "ipython3",
   "version": "3.6.7"
  }
 },
 "nbformat": 4,
 "nbformat_minor": 2
}
