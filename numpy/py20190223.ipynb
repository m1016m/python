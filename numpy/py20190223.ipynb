{
 "cells": [
  {
   "cell_type": "markdown",
   "metadata": {},
   "source": [
    "用 = 指派，用copy()複製"
   ]
  },
  {
   "cell_type": "code",
   "execution_count": 32,
   "metadata": {},
   "outputs": [
    {
     "data": {
      "text/plain": [
       "[1, 2, 3]"
      ]
     },
     "execution_count": 32,
     "metadata": {},
     "output_type": "execute_result"
    }
   ],
   "source": [
    "a = [1,2,3]\n",
    "a"
   ]
  },
  {
   "cell_type": "code",
   "execution_count": 33,
   "metadata": {},
   "outputs": [
    {
     "data": {
      "text/plain": [
       "[1, 2, 3]"
      ]
     },
     "execution_count": 33,
     "metadata": {},
     "output_type": "execute_result"
    }
   ],
   "source": [
    "b = a\n",
    "b"
   ]
  },
  {
   "cell_type": "code",
   "execution_count": 34,
   "metadata": {},
   "outputs": [
    {
     "data": {
      "text/plain": [
       "['surprise', 2, 3]"
      ]
     },
     "execution_count": 34,
     "metadata": {},
     "output_type": "execute_result"
    }
   ],
   "source": [
    "a[0] = 'surprise'\n",
    "a"
   ]
  },
  {
   "cell_type": "code",
   "execution_count": 35,
   "metadata": {},
   "outputs": [
    {
     "data": {
      "text/plain": [
       "['surprise', 2, 3]"
      ]
     },
     "execution_count": 35,
     "metadata": {},
     "output_type": "execute_result"
    }
   ],
   "source": [
    "b #b的值也同時被更改"
   ]
  },
  {
   "cell_type": "code",
   "execution_count": 36,
   "metadata": {},
   "outputs": [
    {
     "data": {
      "text/plain": [
       "['list are boring', 2, 3]"
      ]
     },
     "execution_count": 36,
     "metadata": {},
     "output_type": "execute_result"
    }
   ],
   "source": [
    "a = [1,2,3]\n",
    "b = a.copy()\n",
    "c = list(a)\n",
    "d = a[:]\n",
    "a[0] = 'list are boring'\n",
    "a"
   ]
  },
  {
   "cell_type": "code",
   "execution_count": 37,
   "metadata": {},
   "outputs": [
    {
     "data": {
      "text/plain": [
       "[1, 2, 3]"
      ]
     },
     "execution_count": 37,
     "metadata": {},
     "output_type": "execute_result"
    }
   ],
   "source": [
    "b"
   ]
  },
  {
   "cell_type": "code",
   "execution_count": 38,
   "metadata": {},
   "outputs": [
    {
     "data": {
      "text/plain": [
       "[1, 2, 3]"
      ]
     },
     "execution_count": 38,
     "metadata": {},
     "output_type": "execute_result"
    }
   ],
   "source": [
    "c"
   ]
  },
  {
   "cell_type": "code",
   "execution_count": 39,
   "metadata": {},
   "outputs": [
    {
     "data": {
      "text/plain": [
       "[1, 2, 3]"
      ]
     },
     "execution_count": 39,
     "metadata": {},
     "output_type": "execute_result"
    }
   ],
   "source": [
    "d #b c d 的值都未被更改"
   ]
  },
  {
   "cell_type": "code",
   "execution_count": 40,
   "metadata": {},
   "outputs": [
    {
     "data": {
      "text/plain": [
       "('kitty', 'John', 'Monica')"
      ]
     },
     "execution_count": 40,
     "metadata": {},
     "output_type": "execute_result"
    }
   ],
   "source": [
    "#tuple的認定其實是以，為依據\n",
    "one_tuple = 'kitty' , 'John' , 'Monica'\n",
    "one_tuple"
   ]
  },
  {
   "cell_type": "code",
   "execution_count": 41,
   "metadata": {},
   "outputs": [
    {
     "data": {
      "text/plain": [
       "'kitty'"
      ]
     },
     "execution_count": 41,
     "metadata": {},
     "output_type": "execute_result"
    }
   ],
   "source": [
    "#tuple可以一次指派給多個變數，這個稱為tuple開箱\n",
    "a , b , c = one_tuple\n",
    "a"
   ]
  },
  {
   "cell_type": "code",
   "execution_count": 42,
   "metadata": {},
   "outputs": [
    {
     "data": {
      "text/plain": [
       "'John'"
      ]
     },
     "execution_count": 42,
     "metadata": {},
     "output_type": "execute_result"
    }
   ],
   "source": [
    "b"
   ]
  },
  {
   "cell_type": "code",
   "execution_count": 43,
   "metadata": {},
   "outputs": [
    {
     "data": {
      "text/plain": [
       "{'K': 'i', '2': '0', 'J': 'o', '1': '8', 'R': 'o', '3': '0'}"
      ]
     },
     "execution_count": 43,
     "metadata": {},
     "output_type": "execute_result"
    }
   ],
   "source": [
    "#用dict()轉換雙值續列成字典，雙值序列的意思是要雙數例如'Ki'不能是'kitty'\n",
    "lol = ['Ki' , '20' , 'Jo' , '18','Ro' ,'30']\n",
    "dict(lol)"
   ]
  },
  {
   "cell_type": "code",
   "execution_count": 44,
   "metadata": {},
   "outputs": [
    {
     "data": {
      "text/plain": [
       "{'Green': 'Mary', 'Yellow': 'John', 'Red': 'Monica', 'A': 1, 'B': 2, 'C': 3}"
      ]
     },
     "execution_count": 44,
     "metadata": {},
     "output_type": "execute_result"
    }
   ],
   "source": [
    "#update合併字典，但如果合併時發現有相同的鍵時，則第二個鍵會勝出\n",
    "pythons = {'Green' : 'Kitty' , 'Yellow' : 'John' , 'Red' : 'Monica'}\n",
    "numbers = {'A' : 1 ,'B' : 2 , 'C' : 3 ,'Green' : 'Mary'}\n",
    "pythons.update(numbers)\n",
    "pythons"
   ]
  },
  {
   "cell_type": "code",
   "execution_count": 45,
   "metadata": {},
   "outputs": [],
   "source": [
    "# 用 del 與鍵來刪除項目 del pythons('Green')\n",
    "# 用 clear() 來刪除所有項目或{} pythons.clear() pythons = {}\n",
    "# 用 in 來測試鍵 'Green' in pyhtons"
   ]
  },
  {
   "cell_type": "code",
   "execution_count": 46,
   "metadata": {},
   "outputs": [
    {
     "data": {
      "text/plain": [
       "['Green', 'Yellow', 'Red', 'A', 'B', 'C']"
      ]
     },
     "execution_count": 46,
     "metadata": {},
     "output_type": "execute_result"
    }
   ],
   "source": [
    "list (pythons.keys())#鍵"
   ]
  },
  {
   "cell_type": "code",
   "execution_count": 47,
   "metadata": {},
   "outputs": [
    {
     "data": {
      "text/plain": [
       "['Mary', 'John', 'Monica', 1, 2, 3]"
      ]
     },
     "execution_count": 47,
     "metadata": {},
     "output_type": "execute_result"
    }
   ],
   "source": [
    "list (pythons.values())#值"
   ]
  },
  {
   "cell_type": "code",
   "execution_count": 48,
   "metadata": {},
   "outputs": [
    {
     "name": "stdout",
     "output_type": "stream",
     "text": [
      "milk\n",
      "cola\n"
     ]
    }
   ],
   "source": [
    "drinks = {'milk' : {'apple' , 'banana'},\n",
    "          'cola' :{'orange' , 'apple'},\n",
    "          'tea' :{'green' , 'red'}\n",
    "         }\n",
    "for name , contents in drinks.items():\n",
    "    if 'apple' in contents :\n",
    "        print (name)"
   ]
  },
  {
   "cell_type": "code",
   "execution_count": 49,
   "metadata": {},
   "outputs": [
    {
     "name": "stdout",
     "output_type": "stream",
     "text": [
      "milk\n",
      "cola\n"
     ]
    }
   ],
   "source": [
    "#集合交集運算子\n",
    "for name , contents in drinks.items():\n",
    "    if contents & {'apple' ,'orange'} :\n",
    "        print (name)"
   ]
  },
  {
   "cell_type": "code",
   "execution_count": 50,
   "metadata": {},
   "outputs": [
    {
     "data": {
      "text/plain": [
       "[('Monday', 'Lundi'), ('Tuesday', 'Mardi'), ('Wednesday', 'Merdi')]"
      ]
     },
     "execution_count": 50,
     "metadata": {},
     "output_type": "execute_result"
    }
   ],
   "source": [
    "#利用zip逐一查看多個序列，並且把同一個位移值的項目做成tuple\n",
    "english = 'Monday' , 'Tuesday' ,'Wednesday'\n",
    "french = 'Lundi' , 'Mardi' ,'Merdi'\n",
    "list(zip(english , french))"
   ]
  },
  {
   "cell_type": "code",
   "execution_count": 51,
   "metadata": {},
   "outputs": [
    {
     "data": {
      "text/plain": [
       "[1, 2, 3, 4, 5]"
      ]
     },
     "execution_count": 51,
     "metadata": {},
     "output_type": "execute_result"
    }
   ],
   "source": [
    "#串列生成式可以有很多方法\n",
    "number_list = []\n",
    "number_list.append(1)\n",
    "number_list.append(2)\n",
    "number_list.append(3)\n",
    "number_list.append(4)\n",
    "number_list.append(5)\n",
    "number_list"
   ]
  },
  {
   "cell_type": "code",
   "execution_count": 52,
   "metadata": {},
   "outputs": [
    {
     "data": {
      "text/plain": [
       "[1, 2, 3, 4, 5]"
      ]
     },
     "execution_count": 52,
     "metadata": {},
     "output_type": "execute_result"
    }
   ],
   "source": [
    "number_list = []\n",
    "for number in range(1 , 6) :\n",
    "    number_list.append(number)\n",
    "number_list"
   ]
  },
  {
   "cell_type": "code",
   "execution_count": 53,
   "metadata": {},
   "outputs": [
    {
     "data": {
      "text/plain": [
       "[1, 2, 3, 4, 5]"
      ]
     },
     "execution_count": 53,
     "metadata": {},
     "output_type": "execute_result"
    }
   ],
   "source": [
    "number_list = list(range(1 , 6))\n",
    "number_list"
   ]
  },
  {
   "cell_type": "code",
   "execution_count": 54,
   "metadata": {},
   "outputs": [
    {
     "data": {
      "text/plain": [
       "[1, 2, 3, 4, 5]"
      ]
     },
     "execution_count": 54,
     "metadata": {},
     "output_type": "execute_result"
    }
   ],
   "source": [
    "number_list = [number for number in range(1 , 6)]\n",
    "number_list"
   ]
  },
  {
   "cell_type": "code",
   "execution_count": 57,
   "metadata": {},
   "outputs": [
    {
     "name": "stdout",
     "output_type": "stream",
     "text": [
      "No even number Found\n"
     ]
    }
   ],
   "source": [
    "#使用else檢查中斷\n",
    "# while來尋找某些東西，找到時馬上跳出來 , 同樣也是用在for\n",
    "numbers = [1,3,5]\n",
    "position = 0\n",
    "for number in range(position < len(numbers)) :\n",
    "    number = numbers[position]\n",
    "    if number % 2 == 0:\n",
    "        print('Found even number :',number)\n",
    "        break\n",
    "    position += 1\n",
    "else :\n",
    "    print('No even number Found')"
   ]
  },
  {
   "cell_type": "code",
   "execution_count": 61,
   "metadata": {},
   "outputs": [
    {
     "data": {
      "text/plain": [
       "[(1, 1), (1, 2), (2, 1), (2, 2), (3, 1), (3, 2)]"
      ]
     },
     "execution_count": 61,
     "metadata": {},
     "output_type": "execute_result"
    }
   ],
   "source": [
    "rows = range(1 , 4)\n",
    "cols = range(1 , 3)\n",
    "cells = [(row , col) for row in rows for col in cols]\n",
    "cells"
   ]
  },
  {
   "cell_type": "code",
   "execution_count": 77,
   "metadata": {},
   "outputs": [
    {
     "name": "stdout",
     "output_type": "stream",
     "text": [
      "I have never heard of the color blue \n"
     ]
    }
   ],
   "source": [
    "def commentary(color):\n",
    "    if color == 'red':\n",
    "        return 'It is tomato'\n",
    "    elif color == 'green':\n",
    "        return 'It is green pepper'\n",
    "    elif color == 'bee purple':\n",
    "        return \"I don't know what it is \"\n",
    "    else :\n",
    "        return 'I have never heard of the color %s '%color\n",
    "\n",
    "comment = commentary('blue')\n",
    "print(comment) "
   ]
  },
  {
   "cell_type": "code",
   "execution_count": 80,
   "metadata": {},
   "outputs": [
    {
     "data": {
      "text/plain": [
       "\" 'wine' : char , 'entree' : cake , 'dessert' : chicken\""
      ]
     },
     "execution_count": 80,
     "metadata": {},
     "output_type": "execute_result"
    }
   ],
   "source": [
    "#位置引數 他們的值會被依序複製到對應的參數\n",
    "def menu(wine , entree ,dessert):\n",
    "    return \" 'wine' : %s , 'entree' : %s , 'dessert' : %s\"%(wine , entree , dessert)\n",
    "\n",
    "m = menu('char' , 'chicken' ,'cake')\n",
    "m"
   ]
  },
  {
   "cell_type": "code",
   "execution_count": 82,
   "metadata": {},
   "outputs": [
    {
     "data": {
      "text/plain": [
       "\" 'wine' : char , 'entree' : chicken , 'dessert' : pudding\""
      ]
     },
     "execution_count": 82,
     "metadata": {},
     "output_type": "execute_result"
    }
   ],
   "source": [
    "#指定預設參數值\n",
    "def menu(wine , entree ,dessert = 'pudding'):\n",
    "    return \" 'wine' : %s , 'entree' : %s , 'dessert' : %s\"%(wine , entree , dessert)\n",
    "\n",
    "m = menu('char' , 'chicken')\n",
    "m"
   ]
  },
  {
   "cell_type": "code",
   "execution_count": 86,
   "metadata": {},
   "outputs": [
    {
     "name": "stdout",
     "output_type": "stream",
     "text": [
      "a\n",
      "b\n"
     ]
    }
   ],
   "source": [
    "#在第一次呼叫function時是空的，第二次呼叫仍然是空的\n",
    "def buggy(arg , result = []):\n",
    "    result.append(arg)\n",
    "    print (arg)\n",
    "\n",
    "buggy('a')\n",
    "buggy('b')"
   ]
  },
  {
   "cell_type": "code",
   "execution_count": 87,
   "metadata": {},
   "outputs": [
    {
     "name": "stdout",
     "output_type": "stream",
     "text": [
      "a\n",
      "b\n"
     ]
    }
   ],
   "source": [
    "def nonbuggy(arg , result = None):\n",
    "    if result is None :\n",
    "       result = []\n",
    "    result.append(arg)\n",
    "    print (arg)\n",
    "\n",
    "buggy('a')\n",
    "buggy('b')"
   ]
  },
  {
   "cell_type": "code",
   "execution_count": 88,
   "metadata": {},
   "outputs": [
    {
     "name": "stdout",
     "output_type": "stream",
     "text": [
      "Help on function echo in module __main__:\n",
      "\n",
      "echo(anything)\n",
      "    Hello pyhton , I love Python language\n",
      "\n"
     ]
    }
   ],
   "source": [
    "#文件字串 要印出function\n",
    "def echo(anything):\n",
    "    'Hello pyhton , I love Python language'\n",
    "    return anythin\n",
    "\n",
    "help(echo)"
   ]
  },
  {
   "cell_type": "code",
   "execution_count": 120,
   "metadata": {},
   "outputs": [
    {
     "data": {
      "text/plain": [
       "<generator object my_range at 0x10d7b5468>"
      ]
     },
     "execution_count": 120,
     "metadata": {},
     "output_type": "execute_result"
    }
   ],
   "source": [
    "#產生器 可以利用它迭代很大的序列，不需要在記憶體中一次建立或儲存整個序列\n",
    "#會用yield來回傳值不是return\n",
    "def my_range(first = 0,last = 10,step = 1):\n",
    "        number = first\n",
    "        while number < last:\n",
    "            yield number\n",
    "            number += step\n",
    "\n",
    "my_range()"
   ]
  },
  {
   "cell_type": "code",
   "execution_count": 121,
   "metadata": {},
   "outputs": [
    {
     "data": {
      "text/plain": [
       "<generator object my_range at 0x10d7b5620>"
      ]
     },
     "execution_count": 121,
     "metadata": {},
     "output_type": "execute_result"
    }
   ],
   "source": [
    "ranger = my_range(1,5)\n",
    "ranger"
   ]
  },
  {
   "cell_type": "code",
   "execution_count": 122,
   "metadata": {},
   "outputs": [
    {
     "name": "stdout",
     "output_type": "stream",
     "text": [
      "1\n",
      "2\n",
      "3\n",
      "4\n"
     ]
    }
   ],
   "source": [
    "for i in ranger :\n",
    "    print(i)"
   ]
  },
  {
   "cell_type": "code",
   "execution_count": 123,
   "metadata": {},
   "outputs": [
    {
     "name": "stdout",
     "output_type": "stream",
     "text": [
      "at the top level : fruit\n",
      "inside global : fruit\n"
     ]
    }
   ],
   "source": [
    "#全域變數和區域變數\n",
    "#全域變數皆可存取\n",
    "animal = 'fruit'\n",
    "def print_global():\n",
    "    print ('inside global :',animal)\n",
    "\n",
    "print('at the top level :',animal)\n",
    "print_global()"
   ]
  },
  {
   "cell_type": "code",
   "execution_count": 128,
   "metadata": {},
   "outputs": [
    {
     "name": "stdout",
     "output_type": "stream",
     "text": [
      "inside global : F\n",
      "at the top level : fruit 4520989616\n"
     ]
    }
   ],
   "source": [
    "#區域變數\n",
    "def change_print_global():\n",
    "    animal = 'F'\n",
    "    print ('inside global :',animal)\n",
    "\n",
    "change_print_global()\n",
    "#可以透過id()函式印出每一個物件獨一無二的值，並證明全域變數和區域變數是不同的\n",
    "print('at the top level :',animal,id(animal))#如果不用id()會出現這個錯誤name 'animala' is not defined"
   ]
  },
  {
   "cell_type": "code",
   "execution_count": 134,
   "metadata": {},
   "outputs": [
    {
     "data": {
      "text/plain": [
       "'fruitbat'"
      ]
     },
     "execution_count": 134,
     "metadata": {},
     "output_type": "execute_result"
    }
   ],
   "source": [
    "# Python提供兩個函式讓你存取命名空間的內容\n",
    "# locals() 會回傳區域命名空間字典的內容\n",
    "# globals() 會回傳全域命名空間字典的內容\n",
    "\n",
    "animal = 'fruitbat'\n",
    "def change_local():\n",
    "    animal = 'wombat' #local variable\n",
    "    print('locals :',locals())\n",
    "    \n",
    "animal"
   ]
  },
  {
   "cell_type": "code",
   "execution_count": 137,
   "metadata": {},
   "outputs": [
    {
     "name": "stdout",
     "output_type": "stream",
     "text": [
      "locals : {'animal': 'wombat'}\n"
     ]
    }
   ],
   "source": [
    "change_local()"
   ]
  },
  {
   "cell_type": "code",
   "execution_count": 139,
   "metadata": {},
   "outputs": [
    {
     "name": "stdout",
     "output_type": "stream",
     "text": [
      "name is  Kitty\n"
     ]
    }
   ],
   "source": [
    "#用class來定義類別\n",
    "#__init__()用它的類別定義來初始化一個單一物件。self引數說明它參考到自己本身這個物件\n",
    "#__init__()主要是為了協助分辨同一個類別製造出來的物件\n",
    "class Person():\n",
    "    def __init__(self,name):\n",
    "        self.name = name\n",
    "        \n",
    "hunter = Person('Kitty')\n",
    "print('name is ',hunter.name)\n",
    "#以下是程式所做的事\n",
    "# 1.定義 Person類別\n",
    "# 2.實體化 Person類別\n",
    "# 3.呼叫該物件的__init__方法，傳遞個新物件給self，以及另一個引數 ('Kitty')給name\n",
    "# 4.在物件中儲存 name的值\n",
    "# 5.回傳新物件\n",
    "# 6.將名稱hunter指派給物件"
   ]
  },
  {
   "cell_type": "code",
   "execution_count": 140,
   "metadata": {},
   "outputs": [
    {
     "name": "stdout",
     "output_type": "stream",
     "text": [
      "I am a Car\n",
      "I am a Car\n",
      "I am a Car\n"
     ]
    }
   ],
   "source": [
    "#繼承\n",
    "class Car():\n",
    "    def type_show(self):\n",
    "        print(\"I am a Car\")\n",
    "\n",
    "\n",
    "class Yugo(Car):\n",
    "    pass\n",
    "\n",
    "class Travel(Car):\n",
    "    pass\n",
    "\n",
    "give_me_a_Car = Car()\n",
    "give_me_a_Yugo = Yugo()\n",
    "give_me_a_Travel = Travel()\n",
    "give_me_a_Car.type_show()\n",
    "give_me_a_Yugo.type_show()\n",
    "give_me_a_Travel.type_show()"
   ]
  },
  {
   "cell_type": "code",
   "execution_count": 147,
   "metadata": {},
   "outputs": [
    {
     "name": "stdout",
     "output_type": "stream",
     "text": [
      "F\n",
      "F 的事業總金額: 1000000\n",
      "Eric 的事業總金額: 2000000\n",
      "Mary 的事業總金額: 5000000\n"
     ]
    }
   ],
   "source": [
    "#override\n",
    "class Father():\n",
    "    def __init__(self,name,money):\n",
    "        self.name = name\n",
    "        self.money = money\n",
    "    def show(self):\n",
    "        print(self.name,'的事業總金額:',self.money)\n",
    "\n",
    "class Son_Eric(Father):\n",
    "    def __init__(self,name,money):\n",
    "        self.name = name\n",
    "        self.money = money\n",
    "    def show(self):\n",
    "        print(self.name,'的事業總金額:',self.money)\n",
    "        \n",
    "class Son_Mary(Father):\n",
    "    def __init__(self,name,money):\n",
    "        self.name = name\n",
    "        self.money = money\n",
    "    def show(self):\n",
    "        print(self.name,'的事業總金額:',self.money)\n",
    "\n",
    "F = Father('F',1000000)\n",
    "Eric = Son_Eric('Eric',2000000)\n",
    "Mary = Son_Mary('Mary',5000000)\n",
    "print (F.name)\n",
    "F.show()\n",
    "Eric.show()\n",
    "Mary.show()"
   ]
  },
  {
   "cell_type": "code",
   "execution_count": 149,
   "metadata": {},
   "outputs": [
    {
     "name": "stdout",
     "output_type": "stream",
     "text": [
      "Fudd\n",
      "Doctor Fudd\n",
      "Fudd,Esquire\n"
     ]
    }
   ],
   "source": [
    "class Person():\n",
    "    def __init__(self,name):\n",
    "        self.name = name\n",
    "\n",
    "class MDPerson(Person):\n",
    "    def __init__(self,name):\n",
    "        self.name = 'Doctor ' + name\n",
    "        \n",
    "class JDPerson(Person):\n",
    "    def __init__(self,name):\n",
    "        self.name = name + ',Esquire'\n",
    "\n",
    "\n",
    "person = Person('Fudd')\n",
    "doctor = MDPerson('Fudd')\n",
    "lawyer = JDPerson('Fudd')\n",
    "print(person.name)\n",
    "print(doctor.name)\n",
    "print(lawyer.name)"
   ]
  },
  {
   "cell_type": "code",
   "execution_count": 150,
   "metadata": {},
   "outputs": [
    {
     "name": "stdout",
     "output_type": "stream",
     "text": [
      "Fudd\n",
      "Doctor Fudd\n",
      "每天工作 8 hr\n"
     ]
    }
   ],
   "source": [
    "#添加方法在子類別，可以清楚看到子類別與父類別的不同\n",
    "class Person():\n",
    "    def __init__(self,name):\n",
    "        self.name = name\n",
    "\n",
    "class MDPerson(Person):\n",
    "    def __init__(self,name):\n",
    "        self.name = 'Doctor ' + name\n",
    "    \n",
    "    def show(self, hour):\n",
    "        self.hour = hour\n",
    "        print ('每天工作',self.hour,'hr')\n",
    "\n",
    "\n",
    "person = Person('Fudd')\n",
    "doctor = MDPerson('Fudd')\n",
    "print(person.name)\n",
    "print(doctor.name)\n",
    "doctor.show(8)"
   ]
  },
  {
   "cell_type": "code",
   "execution_count": 155,
   "metadata": {},
   "outputs": [
    {
     "name": "stdout",
     "output_type": "stream",
     "text": [
      "Kitty Father\n",
      "1234@gmail.com Son\n"
     ]
    }
   ],
   "source": [
    "#用super來讓父系幫助你\n",
    "class Person():\n",
    "    def __init__(self,name):\n",
    "        self.name = name + ' Father'\n",
    "\n",
    "class EmailPerson(Person):\n",
    "    def __init__(self,name,email):\n",
    "        super().__init__(name)\n",
    "        self.email = email + ' Son'\n",
    "\n",
    "bob = EmailPerson('Kitty','1234@gmail.com')\n",
    "print(bob.name)\n",
    "print(bob.email)"
   ]
  },
  {
   "cell_type": "code",
   "execution_count": 156,
   "metadata": {},
   "outputs": [
    {
     "name": "stdout",
     "output_type": "stream",
     "text": [
      "inside getter\n"
     ]
    },
    {
     "data": {
      "text/plain": [
       "'Howard'"
      ]
     },
     "execution_count": 156,
     "metadata": {},
     "output_type": "execute_result"
    }
   ],
   "source": [
    "#使用property()來取得屬性質和設定\n",
    "class Duck():\n",
    "    def __init__(self,input_name):\n",
    "        self.hidden_name = input_name\n",
    "    def get_name(self):\n",
    "        print('inside getter')\n",
    "        return self.hidden_name\n",
    "    def set_name(self,input_name):\n",
    "        print('inside setter')\n",
    "        self.hidden_name = input_name\n",
    "    name = property(get_name ,set_name)#方法去掉刮號就只是一般的物件\n",
    "    \n",
    "    \n",
    "fowl = Duck('Howard')\n",
    "fowl.name"
   ]
  },
  {
   "cell_type": "code",
   "execution_count": 157,
   "metadata": {},
   "outputs": [
    {
     "name": "stdout",
     "output_type": "stream",
     "text": [
      "inside setter\n",
      "inside getter\n"
     ]
    },
    {
     "data": {
      "text/plain": [
       "'Kitty'"
      ]
     },
     "execution_count": 157,
     "metadata": {},
     "output_type": "execute_result"
    }
   ],
   "source": [
    "fowl.name = 'Kitty'\n",
    "fowl.name"
   ]
  },
  {
   "cell_type": "code",
   "execution_count": 159,
   "metadata": {},
   "outputs": [
    {
     "name": "stdout",
     "output_type": "stream",
     "text": [
      "who: Mary  says: What is up , doc.\n",
      "who: John  says: It is rabbit!\n",
      "who: Kitty  says: I am hunting webbits.\n"
     ]
    }
   ],
   "source": [
    "#多型 要有繼承關係\n",
    "class Quote():\n",
    "    def __init__(self,person , words):\n",
    "        self.person = person\n",
    "        self.words = words\n",
    "    def who(self):\n",
    "        return self.person\n",
    "    def says(self):\n",
    "        return self.words + '.'\n",
    "    \n",
    "class QuestionQuote(Quote):\n",
    "    def says(self):\n",
    "        return self.words + '.'\n",
    "    \n",
    "class ExclamationQuote(Quote):\n",
    "    def says(self):\n",
    "        return self.words + '!'\n",
    "    \n",
    "\n",
    "hunter = Quote('Kitty' , 'I am hunting webbits')\n",
    "hunterA = QuestionQuote('Mary' , 'What is up , doc')\n",
    "hunterB = ExclamationQuote('John' , 'It is rabbit')\n",
    "print('who:',hunterA.who(),' says:',hunterA.says())\n",
    "print('who:',hunterB.who(),' says:',hunterB.says())\n",
    "print('who:',hunter.who(),' says:',hunter.says())"
   ]
  },
  {
   "cell_type": "code",
   "execution_count": 160,
   "metadata": {},
   "outputs": [
    {
     "name": "stdout",
     "output_type": "stream",
     "text": [
      "This duck has a : wide orange bill and a long tail\n"
     ]
    }
   ],
   "source": [
    "#has-a 組合/聚合 EX:鴨子is-a鳥類，but has-a 尾巴，尾巴不是鴨子\n",
    "#將實體傳進去\n",
    "class Bill():\n",
    "    def __init__(self,description):\n",
    "        self.description = description\n",
    "        \n",
    "class Tail():\n",
    "    def __init__(self,length):\n",
    "        self.length = length\n",
    "\n",
    "class Duck():\n",
    "    def __init__(self,bill,tail):\n",
    "        self.bill = bill\n",
    "        self.tail = tail\n",
    "    def about(self):\n",
    "        print('This duck has a :',self.bill.description,'bill and a',self.tail.length,'tail')\n",
    "        \n",
    "tail = Tail('long')\n",
    "bill = Bill('wide orange')\n",
    "duck = Duck(bill , tail)\n",
    "duck.about()"
   ]
  },
  {
   "cell_type": "code",
   "execution_count": 161,
   "metadata": {},
   "outputs": [
    {
     "name": "stdout",
     "output_type": "stream",
     "text": [
      "value = \"A\",name = \"LATIN CAPITAL LETTER A\" , value2 = \"A\"\n",
      "value = \"$\",name = \"DOLLAR SIGN\" , value2 = \"$\"\n",
      "value = \"H\",name = \"LATIN CAPITAL LETTER H\" , value2 = \"H\"\n"
     ]
    }
   ],
   "source": [
    "#像專家一樣處理資料\n",
    "#python的unicodedata model have the function need to change\n",
    "# lookup() 接收一個不分大小寫的名稱，回傳一個unicoded字元\n",
    "# name() 接收一個unicoded字元，回傳一個大寫的名稱\n",
    "def unicode_test(value):\n",
    "    import unicodedata\n",
    "    name = unicodedata.name(value)\n",
    "    value2 = unicodedata.lookup(name)\n",
    "    print('value = \"%s\",name = \"%s\" , value2 = \"%s\"'%(value , name , value2))\n",
    "    \n",
    "unicode_test('A')\n",
    "unicode_test('$')\n",
    "unicode_test('\\u0048')"
   ]
  },
  {
   "cell_type": "code",
   "execution_count": 162,
   "metadata": {},
   "outputs": [
    {
     "data": {
      "text/plain": [
       "1"
      ]
     },
     "execution_count": 162,
     "metadata": {},
     "output_type": "execute_result"
    }
   ],
   "source": [
    "# 將字串編碼成byte encode() 'ascii' 'utf-8' 'latin-1' 'cp-1252' 'unicode-escape'\n",
    "snowman = '\\u2603'\n",
    "len(snowman)"
   ]
  },
  {
   "cell_type": "code",
   "execution_count": 166,
   "metadata": {},
   "outputs": [
    {
     "name": "stdout",
     "output_type": "stream",
     "text": [
      "3\n"
     ]
    },
    {
     "data": {
      "text/plain": [
       "b'\\xe2\\x98\\x83'"
      ]
     },
     "execution_count": 166,
     "metadata": {},
     "output_type": "execute_result"
    }
   ],
   "source": [
    "ds = snowman.encode('utf-8')\n",
    "print(len(ds))\n",
    "ds"
   ]
  },
  {
   "cell_type": "code",
   "execution_count": 169,
   "metadata": {},
   "outputs": [
    {
     "data": {
      "text/plain": [
       "b''"
      ]
     },
     "execution_count": 169,
     "metadata": {},
     "output_type": "execute_result"
    }
   ],
   "source": [
    "#encode()預設是strict，會使用ignore丟棄無法編碼的東西\n",
    "snowman.encode('ascii' ,'ignore')"
   ]
  },
  {
   "cell_type": "code",
   "execution_count": 170,
   "metadata": {},
   "outputs": [
    {
     "data": {
      "text/plain": [
       "b'?'"
      ]
     },
     "execution_count": 170,
     "metadata": {},
     "output_type": "execute_result"
    }
   ],
   "source": [
    "#使用replace()將未知字元轉換成?\n",
    "snowman.encode('ascii' ,'replace')"
   ]
  },
  {
   "cell_type": "code",
   "execution_count": 171,
   "metadata": {},
   "outputs": [
    {
     "name": "stdout",
     "output_type": "stream",
     "text": [
      "100%\n"
     ]
    }
   ],
   "source": [
    "#格式 %%\n",
    "print('%d%%'%100)"
   ]
  },
  {
   "cell_type": "code",
   "execution_count": 177,
   "metadata": {},
   "outputs": [
    {
     "name": "stdout",
     "output_type": "stream",
     "text": [
      "7.03 string cheese 42\n",
      "42 7.03 string cheese\n",
      "42 7.030000 string cheese\n",
      "        42   7.030000 string cheese\n",
      "42         7.030000   string cheese\n",
      "    42      7.030000  string cheese\n"
     ]
    }
   ],
   "source": [
    "#{} & format\n",
    "n = 42\n",
    "f = 7.03\n",
    "s = 'string cheese'\n",
    "print('{} {} {}'.format(f , s , n))\n",
    "print('{2} {0} {1}'.format(f , s , n))\n",
    "print('{0:d} {1:f} {2:s}'.format(n , f , s))\n",
    "print('{0:10d} {1:10f} {2:10s}'.format(n , f , s))#最小欄位寬度，靠右對齊\n",
    "print('{0:<10d} {1:<10f} {2:<10s}'.format(n , f , s))#最小欄位寬度，靠左對齊\n",
    "print('{0:^10d} {1:^10f} {2:^10s}'.format(n , f , s))#最小欄位寬度，置中對齊"
   ]
  },
  {
   "cell_type": "code",
   "execution_count": 179,
   "metadata": {},
   "outputs": [
    {
     "name": "stdout",
     "output_type": "stream",
     "text": [
      "You\n",
      "Young Frank\n"
     ]
    }
   ],
   "source": [
    "#用正規表達式來匹配\n",
    "# compile() 編譯 \n",
    "# match() 匹配\n",
    "# search() 會回傳第一個匹配項目\n",
    "# findall() 會回傳所有不重疊的匹配\n",
    "# split() 會用模式，在匹配處分割來源，並回傳一串字串片段\n",
    "# sub() 會使用另一個取代引數，並將來源內，所有匹配模式的項目換成取代引數\n",
    "#使用match()來取出匹配項目\n",
    "import re \n",
    "source = 'Young Frank'\n",
    "m = re.match('You',source)\n",
    "if m:#回傳一個物件，查看有哪些匹配？\n",
    "    print(m.group())\n",
    "    \n",
    "    \n",
    "n = re.match('.*Frank',source)#.代表任何單一字元  *代表在它前面的東西，任何數量\n",
    "if n:#回傳一個物件，查看有哪些匹配？\n",
    "    print(n.group())"
   ]
  },
  {
   "cell_type": "code",
   "execution_count": null,
   "metadata": {},
   "outputs": [],
   "source": []
  }
 ],
 "metadata": {
  "kernelspec": {
   "display_name": "Python 3",
   "language": "python",
   "name": "python3"
  },
  "language_info": {
   "codemirror_mode": {
    "name": "ipython",
    "version": 3
   },
   "file_extension": ".py",
   "mimetype": "text/x-python",
   "name": "python",
   "nbconvert_exporter": "python",
   "pygments_lexer": "ipython3",
   "version": "3.6.7"
  }
 },
 "nbformat": 4,
 "nbformat_minor": 2
}
