{
 "cells": [
  {
   "cell_type": "markdown",
   "metadata": {},
   "source": [
    "用 = 指派，用copy()複製"
   ]
  },
  {
   "cell_type": "code",
   "execution_count": 2,
   "metadata": {},
   "outputs": [
    {
     "data": {
      "text/plain": [
       "[1, 2, 3]"
      ]
     },
     "execution_count": 2,
     "metadata": {},
     "output_type": "execute_result"
    }
   ],
   "source": [
    "a = [1,2,3]\n",
    "a"
   ]
  },
  {
   "cell_type": "code",
   "execution_count": 3,
   "metadata": {},
   "outputs": [
    {
     "data": {
      "text/plain": [
       "[1, 2, 3]"
      ]
     },
     "execution_count": 3,
     "metadata": {},
     "output_type": "execute_result"
    }
   ],
   "source": [
    "b = a\n",
    "b"
   ]
  },
  {
   "cell_type": "code",
   "execution_count": 4,
   "metadata": {},
   "outputs": [
    {
     "data": {
      "text/plain": [
       "['surprise', 2, 3]"
      ]
     },
     "execution_count": 4,
     "metadata": {},
     "output_type": "execute_result"
    }
   ],
   "source": [
    "a[0] = 'surprise'\n",
    "a"
   ]
  },
  {
   "cell_type": "code",
   "execution_count": 5,
   "metadata": {},
   "outputs": [
    {
     "data": {
      "text/plain": [
       "['surprise', 2, 3]"
      ]
     },
     "execution_count": 5,
     "metadata": {},
     "output_type": "execute_result"
    }
   ],
   "source": [
    "b #b的值也同時被更改"
   ]
  },
  {
   "cell_type": "code",
   "execution_count": 6,
   "metadata": {},
   "outputs": [
    {
     "data": {
      "text/plain": [
       "['list are boring', 2, 3]"
      ]
     },
     "execution_count": 6,
     "metadata": {},
     "output_type": "execute_result"
    }
   ],
   "source": [
    "a = [1,2,3]\n",
    "b = a.copy()\n",
    "c = list(a)\n",
    "d = a[:]\n",
    "a[0] = 'list are boring'\n",
    "a"
   ]
  },
  {
   "cell_type": "code",
   "execution_count": 7,
   "metadata": {},
   "outputs": [
    {
     "data": {
      "text/plain": [
       "[1, 2, 3]"
      ]
     },
     "execution_count": 7,
     "metadata": {},
     "output_type": "execute_result"
    }
   ],
   "source": [
    "b"
   ]
  },
  {
   "cell_type": "code",
   "execution_count": 8,
   "metadata": {},
   "outputs": [
    {
     "data": {
      "text/plain": [
       "[1, 2, 3]"
      ]
     },
     "execution_count": 8,
     "metadata": {},
     "output_type": "execute_result"
    }
   ],
   "source": [
    "c"
   ]
  },
  {
   "cell_type": "code",
   "execution_count": 9,
   "metadata": {},
   "outputs": [
    {
     "data": {
      "text/plain": [
       "[1, 2, 3]"
      ]
     },
     "execution_count": 9,
     "metadata": {},
     "output_type": "execute_result"
    }
   ],
   "source": [
    "d #b c d 的值都未被更改"
   ]
  },
  {
   "cell_type": "code",
   "execution_count": 10,
   "metadata": {},
   "outputs": [
    {
     "data": {
      "text/plain": [
       "('kitty', 'John', 'Monica')"
      ]
     },
     "execution_count": 10,
     "metadata": {},
     "output_type": "execute_result"
    }
   ],
   "source": [
    "#tuple的認定其實是以，為依據\n",
    "one_tuple = 'kitty' , 'John' , 'Monica'\n",
    "one_tuple"
   ]
  },
  {
   "cell_type": "code",
   "execution_count": 11,
   "metadata": {},
   "outputs": [
    {
     "data": {
      "text/plain": [
       "'kitty'"
      ]
     },
     "execution_count": 11,
     "metadata": {},
     "output_type": "execute_result"
    }
   ],
   "source": [
    "#tuple可以一次指派給多個變數，這個稱為tuple開箱\n",
    "a , b , c = one_tuple\n",
    "a"
   ]
  },
  {
   "cell_type": "code",
   "execution_count": 12,
   "metadata": {},
   "outputs": [
    {
     "data": {
      "text/plain": [
       "'John'"
      ]
     },
     "execution_count": 12,
     "metadata": {},
     "output_type": "execute_result"
    }
   ],
   "source": [
    "b"
   ]
  },
  {
   "cell_type": "code",
   "execution_count": 13,
   "metadata": {},
   "outputs": [
    {
     "data": {
      "text/plain": [
       "{'K': 'i', '2': '0', 'J': 'o', '1': '8', 'R': 'o', '3': '0'}"
      ]
     },
     "execution_count": 13,
     "metadata": {},
     "output_type": "execute_result"
    }
   ],
   "source": [
    "#用dict()轉換雙值續列成字典，雙值序列的意思是要雙數例如'Ki'不能是'kitty'\n",
    "lol = ['Ki' , '20' , 'Jo' , '18','Ro' ,'30']\n",
    "dict(lol)"
   ]
  },
  {
   "cell_type": "code",
   "execution_count": 14,
   "metadata": {},
   "outputs": [
    {
     "data": {
      "text/plain": [
       "{'Green': 'Mary', 'Yellow': 'John', 'Red': 'Monica', 'A': 1, 'B': 2, 'C': 3}"
      ]
     },
     "execution_count": 14,
     "metadata": {},
     "output_type": "execute_result"
    }
   ],
   "source": [
    "#update合併字典，但如果合併時發現有相同的鍵時，則第二個鍵會勝出\n",
    "pythons = {'Green' : 'Kitty' , 'Yellow' : 'John' , 'Red' : 'Monica'}\n",
    "numbers = {'A' : 1 ,'B' : 2 , 'C' : 3 ,'Green' : 'Mary'}\n",
    "pythons.update(numbers)\n",
    "pythons"
   ]
  },
  {
   "cell_type": "code",
   "execution_count": 15,
   "metadata": {},
   "outputs": [],
   "source": [
    "# 用 del 與鍵來刪除項目 del pythons('Green')\n",
    "# 用 clear() 來刪除所有項目或{} pythons.clear() pythons = {}\n",
    "# 用 in 來測試鍵 'Green' in pyhtons"
   ]
  },
  {
   "cell_type": "code",
   "execution_count": 16,
   "metadata": {},
   "outputs": [
    {
     "data": {
      "text/plain": [
       "['Green', 'Yellow', 'Red', 'A', 'B', 'C']"
      ]
     },
     "execution_count": 16,
     "metadata": {},
     "output_type": "execute_result"
    }
   ],
   "source": [
    "list (pythons.keys())#鍵"
   ]
  },
  {
   "cell_type": "code",
   "execution_count": 17,
   "metadata": {},
   "outputs": [
    {
     "data": {
      "text/plain": [
       "['Mary', 'John', 'Monica', 1, 2, 3]"
      ]
     },
     "execution_count": 17,
     "metadata": {},
     "output_type": "execute_result"
    }
   ],
   "source": [
    "list (pythons.values())#值"
   ]
  },
  {
   "cell_type": "code",
   "execution_count": 18,
   "metadata": {},
   "outputs": [
    {
     "name": "stdout",
     "output_type": "stream",
     "text": [
      "milk\n",
      "cola\n"
     ]
    }
   ],
   "source": [
    "drinks = {'milk' : {'apple' , 'banana'},\n",
    "          'cola' :{'orange' , 'apple'},\n",
    "          'tea' :{'green' , 'red'}\n",
    "         }\n",
    "for name , contents in drinks.items():\n",
    "    if 'apple' in contents :\n",
    "        print (name)"
   ]
  },
  {
   "cell_type": "code",
   "execution_count": 19,
   "metadata": {},
   "outputs": [
    {
     "name": "stdout",
     "output_type": "stream",
     "text": [
      "milk\n",
      "cola\n"
     ]
    }
   ],
   "source": [
    "#集合交集運算子\n",
    "for name , contents in drinks.items():\n",
    "    if contents & {'apple' ,'orange'} :\n",
    "        print (name)"
   ]
  },
  {
   "cell_type": "code",
   "execution_count": 20,
   "metadata": {},
   "outputs": [
    {
     "data": {
      "text/plain": [
       "[('Monday', 'Lundi'), ('Tuesday', 'Mardi'), ('Wednesday', 'Merdi')]"
      ]
     },
     "execution_count": 20,
     "metadata": {},
     "output_type": "execute_result"
    }
   ],
   "source": [
    "#利用zip逐一查看多個序列，並且把同一個位移值的項目做成tuple\n",
    "english = 'Monday' , 'Tuesday' ,'Wednesday'\n",
    "french = 'Lundi' , 'Mardi' ,'Merdi'\n",
    "list(zip(english , french))"
   ]
  },
  {
   "cell_type": "code",
   "execution_count": 21,
   "metadata": {},
   "outputs": [
    {
     "data": {
      "text/plain": [
       "[1, 2, 3, 4, 5]"
      ]
     },
     "execution_count": 21,
     "metadata": {},
     "output_type": "execute_result"
    }
   ],
   "source": [
    "#串列生成式可以有很多方法\n",
    "number_list = []\n",
    "number_list.append(1)\n",
    "number_list.append(2)\n",
    "number_list.append(3)\n",
    "number_list.append(4)\n",
    "number_list.append(5)\n",
    "number_list"
   ]
  },
  {
   "cell_type": "code",
   "execution_count": 22,
   "metadata": {},
   "outputs": [
    {
     "data": {
      "text/plain": [
       "[1, 2, 3, 4, 5]"
      ]
     },
     "execution_count": 22,
     "metadata": {},
     "output_type": "execute_result"
    }
   ],
   "source": [
    "number_list = []\n",
    "for number in range(1 , 6) :\n",
    "    number_list.append(number)\n",
    "number_list"
   ]
  },
  {
   "cell_type": "code",
   "execution_count": 23,
   "metadata": {},
   "outputs": [
    {
     "data": {
      "text/plain": [
       "[1, 2, 3, 4, 5]"
      ]
     },
     "execution_count": 23,
     "metadata": {},
     "output_type": "execute_result"
    }
   ],
   "source": [
    "number_list = list(range(1 , 6))\n",
    "number_list"
   ]
  },
  {
   "cell_type": "code",
   "execution_count": 24,
   "metadata": {},
   "outputs": [
    {
     "data": {
      "text/plain": [
       "[1, 2, 3, 4, 5]"
      ]
     },
     "execution_count": 24,
     "metadata": {},
     "output_type": "execute_result"
    }
   ],
   "source": [
    "number_list = [number for number in range(1 , 6)]\n",
    "number_list"
   ]
  },
  {
   "cell_type": "code",
   "execution_count": 25,
   "metadata": {},
   "outputs": [
    {
     "name": "stdout",
     "output_type": "stream",
     "text": [
      "No even number Found\n"
     ]
    }
   ],
   "source": [
    "#使用else檢查中斷\n",
    "# while來尋找某些東西，找到時馬上跳出來 , 同樣也是用在for\n",
    "numbers = [1,3,5]\n",
    "position = 0\n",
    "for number in range(position < len(numbers)) :\n",
    "    number = numbers[position]\n",
    "    if number % 2 == 0:\n",
    "        print('Found even number :',number)\n",
    "        break\n",
    "    position += 1\n",
    "else :\n",
    "    print('No even number Found')"
   ]
  },
  {
   "cell_type": "code",
   "execution_count": 26,
   "metadata": {},
   "outputs": [
    {
     "data": {
      "text/plain": [
       "[(1, 1), (1, 2), (2, 1), (2, 2), (3, 1), (3, 2)]"
      ]
     },
     "execution_count": 26,
     "metadata": {},
     "output_type": "execute_result"
    }
   ],
   "source": [
    "rows = range(1 , 4)\n",
    "cols = range(1 , 3)\n",
    "cells = [(row , col) for row in rows for col in cols]\n",
    "cells"
   ]
  },
  {
   "cell_type": "code",
   "execution_count": 27,
   "metadata": {},
   "outputs": [
    {
     "name": "stdout",
     "output_type": "stream",
     "text": [
      "I have never heard of the color blue \n"
     ]
    }
   ],
   "source": [
    "def commentary(color):\n",
    "    if color == 'red':\n",
    "        return 'It is tomato'\n",
    "    elif color == 'green':\n",
    "        return 'It is green pepper'\n",
    "    elif color == 'bee purple':\n",
    "        return \"I don't know what it is \"\n",
    "    else :\n",
    "        return 'I have never heard of the color %s '%color\n",
    "\n",
    "comment = commentary('blue')\n",
    "print(comment) "
   ]
  },
  {
   "cell_type": "code",
   "execution_count": 28,
   "metadata": {},
   "outputs": [
    {
     "data": {
      "text/plain": [
       "\" 'wine' : char , 'entree' : chicken , 'dessert' : cake\""
      ]
     },
     "execution_count": 28,
     "metadata": {},
     "output_type": "execute_result"
    }
   ],
   "source": [
    "#位置引數 他們的值會被依序複製到對應的參數\n",
    "def menu(wine , entree ,dessert):\n",
    "    return \" 'wine' : %s , 'entree' : %s , 'dessert' : %s\"%(wine , entree , dessert)\n",
    "\n",
    "m = menu('char' , 'chicken' ,'cake')\n",
    "m"
   ]
  },
  {
   "cell_type": "code",
   "execution_count": 29,
   "metadata": {},
   "outputs": [
    {
     "data": {
      "text/plain": [
       "\" 'wine' : char , 'entree' : chicken , 'dessert' : pudding\""
      ]
     },
     "execution_count": 29,
     "metadata": {},
     "output_type": "execute_result"
    }
   ],
   "source": [
    "#指定預設參數值\n",
    "def menu(wine , entree ,dessert = 'pudding'):\n",
    "    return \" 'wine' : %s , 'entree' : %s , 'dessert' : %s\"%(wine , entree , dessert)\n",
    "\n",
    "m = menu('char' , 'chicken')\n",
    "m"
   ]
  },
  {
   "cell_type": "code",
   "execution_count": 30,
   "metadata": {},
   "outputs": [
    {
     "name": "stdout",
     "output_type": "stream",
     "text": [
      "a\n",
      "b\n"
     ]
    }
   ],
   "source": [
    "#在第一次呼叫function時是空的，第二次呼叫仍然是空的\n",
    "def buggy(arg , result = []):\n",
    "    result.append(arg)\n",
    "    print (arg)\n",
    "\n",
    "buggy('a')\n",
    "buggy('b')"
   ]
  },
  {
   "cell_type": "code",
   "execution_count": 31,
   "metadata": {},
   "outputs": [
    {
     "name": "stdout",
     "output_type": "stream",
     "text": [
      "a\n",
      "b\n"
     ]
    }
   ],
   "source": [
    "def nonbuggy(arg , result = None):\n",
    "    if result is None :\n",
    "       result = []\n",
    "    result.append(arg)\n",
    "    print (arg)\n",
    "\n",
    "buggy('a')\n",
    "buggy('b')"
   ]
  },
  {
   "cell_type": "code",
   "execution_count": 32,
   "metadata": {},
   "outputs": [
    {
     "name": "stdout",
     "output_type": "stream",
     "text": [
      "Help on function echo in module __main__:\n",
      "\n",
      "echo(anything)\n",
      "    Hello pyhton , I love Python language\n",
      "\n"
     ]
    }
   ],
   "source": [
    "#文件字串 要印出function\n",
    "def echo(anything):\n",
    "    'Hello pyhton , I love Python language'\n",
    "    return anythin\n",
    "\n",
    "help(echo)"
   ]
  },
  {
   "cell_type": "code",
   "execution_count": 33,
   "metadata": {},
   "outputs": [
    {
     "data": {
      "text/plain": [
       "<generator object my_range at 0x10e258db0>"
      ]
     },
     "execution_count": 33,
     "metadata": {},
     "output_type": "execute_result"
    }
   ],
   "source": [
    "#產生器 可以利用它迭代很大的序列，不需要在記憶體中一次建立或儲存整個序列\n",
    "#會用yield來回傳值不是return\n",
    "def my_range(first = 0,last = 10,step = 1):\n",
    "        number = first\n",
    "        while number < last:\n",
    "            yield number\n",
    "            number += step\n",
    "\n",
    "my_range()"
   ]
  },
  {
   "cell_type": "code",
   "execution_count": 34,
   "metadata": {},
   "outputs": [
    {
     "data": {
      "text/plain": [
       "<generator object my_range at 0x10e258830>"
      ]
     },
     "execution_count": 34,
     "metadata": {},
     "output_type": "execute_result"
    }
   ],
   "source": [
    "ranger = my_range(1,5)\n",
    "ranger"
   ]
  },
  {
   "cell_type": "code",
   "execution_count": 35,
   "metadata": {},
   "outputs": [
    {
     "name": "stdout",
     "output_type": "stream",
     "text": [
      "1\n",
      "2\n",
      "3\n",
      "4\n"
     ]
    }
   ],
   "source": [
    "for i in ranger :\n",
    "    print(i)"
   ]
  },
  {
   "cell_type": "code",
   "execution_count": 36,
   "metadata": {},
   "outputs": [
    {
     "name": "stdout",
     "output_type": "stream",
     "text": [
      "at the top level : fruit\n",
      "inside global : fruit\n"
     ]
    }
   ],
   "source": [
    "#全域變數和區域變數\n",
    "#全域變數皆可存取\n",
    "animal = 'fruit'\n",
    "def print_global():\n",
    "    print ('inside global :',animal)\n",
    "\n",
    "print('at the top level :',animal)\n",
    "print_global()"
   ]
  },
  {
   "cell_type": "code",
   "execution_count": 37,
   "metadata": {},
   "outputs": [
    {
     "name": "stdout",
     "output_type": "stream",
     "text": [
      "inside global : F\n",
      "at the top level : fruit 4533084992\n"
     ]
    }
   ],
   "source": [
    "#區域變數\n",
    "def change_print_global():\n",
    "    animal = 'F'\n",
    "    print ('inside global :',animal)\n",
    "\n",
    "change_print_global()\n",
    "#可以透過id()函式印出每一個物件獨一無二的值，並證明全域變數和區域變數是不同的\n",
    "print('at the top level :',animal,id(animal))#如果不用id()會出現這個錯誤name 'animala' is not defined"
   ]
  },
  {
   "cell_type": "code",
   "execution_count": 38,
   "metadata": {},
   "outputs": [
    {
     "data": {
      "text/plain": [
       "'fruitbat'"
      ]
     },
     "execution_count": 38,
     "metadata": {},
     "output_type": "execute_result"
    }
   ],
   "source": [
    "# Python提供兩個函式讓你存取命名空間的內容\n",
    "# locals() 會回傳區域命名空間字典的內容\n",
    "# globals() 會回傳全域命名空間字典的內容\n",
    "\n",
    "animal = 'fruitbat'\n",
    "def change_local():\n",
    "    animal = 'wombat' #local variable\n",
    "    print('locals :',locals())\n",
    "    \n",
    "animal"
   ]
  },
  {
   "cell_type": "code",
   "execution_count": 39,
   "metadata": {},
   "outputs": [
    {
     "name": "stdout",
     "output_type": "stream",
     "text": [
      "locals : {'animal': 'wombat'}\n"
     ]
    }
   ],
   "source": [
    "change_local()"
   ]
  },
  {
   "cell_type": "code",
   "execution_count": 40,
   "metadata": {},
   "outputs": [
    {
     "name": "stdout",
     "output_type": "stream",
     "text": [
      "name is  Kitty\n"
     ]
    }
   ],
   "source": [
    "#用class來定義類別\n",
    "#__init__()用它的類別定義來初始化一個單一物件。self引數說明它參考到自己本身這個物件\n",
    "#__init__()主要是為了協助分辨同一個類別製造出來的物件\n",
    "class Person():\n",
    "    def __init__(self,name):\n",
    "        self.name = name\n",
    "        \n",
    "hunter = Person('Kitty')\n",
    "print('name is ',hunter.name)\n",
    "#以下是程式所做的事\n",
    "# 1.定義 Person類別\n",
    "# 2.實體化 Person類別\n",
    "# 3.呼叫該物件的__init__方法，傳遞個新物件給self，以及另一個引數 ('Kitty')給name\n",
    "# 4.在物件中儲存 name的值\n",
    "# 5.回傳新物件\n",
    "# 6.將名稱hunter指派給物件"
   ]
  },
  {
   "cell_type": "code",
   "execution_count": 41,
   "metadata": {},
   "outputs": [
    {
     "name": "stdout",
     "output_type": "stream",
     "text": [
      "I am a Car\n",
      "I am a Car\n",
      "I am a Car\n"
     ]
    }
   ],
   "source": [
    "#繼承\n",
    "class Car():\n",
    "    def type_show(self):\n",
    "        print(\"I am a Car\")\n",
    "\n",
    "\n",
    "class Yugo(Car):\n",
    "    pass\n",
    "\n",
    "class Travel(Car):\n",
    "    pass\n",
    "\n",
    "give_me_a_Car = Car()\n",
    "give_me_a_Yugo = Yugo()\n",
    "give_me_a_Travel = Travel()\n",
    "give_me_a_Car.type_show()\n",
    "give_me_a_Yugo.type_show()\n",
    "give_me_a_Travel.type_show()"
   ]
  },
  {
   "cell_type": "code",
   "execution_count": 42,
   "metadata": {},
   "outputs": [
    {
     "name": "stdout",
     "output_type": "stream",
     "text": [
      "F\n",
      "F 的事業總金額: 1000000\n",
      "Eric 的事業總金額: 2000000\n",
      "Mary 的事業總金額: 5000000\n"
     ]
    }
   ],
   "source": [
    "#override\n",
    "class Father():\n",
    "    def __init__(self,name,money):\n",
    "        self.name = name\n",
    "        self.money = money\n",
    "    def show(self):\n",
    "        print(self.name,'的事業總金額:',self.money)\n",
    "\n",
    "class Son_Eric(Father):\n",
    "    def __init__(self,name,money):\n",
    "        self.name = name\n",
    "        self.money = money\n",
    "    def show(self):\n",
    "        print(self.name,'的事業總金額:',self.money)\n",
    "        \n",
    "class Son_Mary(Father):\n",
    "    def __init__(self,name,money):\n",
    "        self.name = name\n",
    "        self.money = money\n",
    "    def show(self):\n",
    "        print(self.name,'的事業總金額:',self.money)\n",
    "\n",
    "F = Father('F',1000000)\n",
    "Eric = Son_Eric('Eric',2000000)\n",
    "Mary = Son_Mary('Mary',5000000)\n",
    "print (F.name)\n",
    "F.show()\n",
    "Eric.show()\n",
    "Mary.show()"
   ]
  },
  {
   "cell_type": "code",
   "execution_count": 43,
   "metadata": {},
   "outputs": [
    {
     "name": "stdout",
     "output_type": "stream",
     "text": [
      "Fudd\n",
      "Doctor Fudd\n",
      "Fudd,Esquire\n"
     ]
    }
   ],
   "source": [
    "class Person():\n",
    "    def __init__(self,name):\n",
    "        self.name = name\n",
    "\n",
    "class MDPerson(Person):\n",
    "    def __init__(self,name):\n",
    "        self.name = 'Doctor ' + name\n",
    "        \n",
    "class JDPerson(Person):\n",
    "    def __init__(self,name):\n",
    "        self.name = name + ',Esquire'\n",
    "\n",
    "\n",
    "person = Person('Fudd')\n",
    "doctor = MDPerson('Fudd')\n",
    "lawyer = JDPerson('Fudd')\n",
    "print(person.name)\n",
    "print(doctor.name)\n",
    "print(lawyer.name)"
   ]
  },
  {
   "cell_type": "code",
   "execution_count": 44,
   "metadata": {},
   "outputs": [
    {
     "name": "stdout",
     "output_type": "stream",
     "text": [
      "Fudd\n",
      "Doctor Fudd\n",
      "每天工作 8 hr\n"
     ]
    }
   ],
   "source": [
    "#添加方法在子類別，可以清楚看到子類別與父類別的不同\n",
    "class Person():\n",
    "    def __init__(self,name):\n",
    "        self.name = name\n",
    "\n",
    "class MDPerson(Person):\n",
    "    def __init__(self,name):\n",
    "        self.name = 'Doctor ' + name\n",
    "    \n",
    "    def show(self, hour):\n",
    "        self.hour = hour\n",
    "        print ('每天工作',self.hour,'hr')\n",
    "\n",
    "\n",
    "person = Person('Fudd')\n",
    "doctor = MDPerson('Fudd')\n",
    "print(person.name)\n",
    "print(doctor.name)\n",
    "doctor.show(8)"
   ]
  },
  {
   "cell_type": "code",
   "execution_count": 45,
   "metadata": {},
   "outputs": [
    {
     "name": "stdout",
     "output_type": "stream",
     "text": [
      "Kitty Father\n",
      "1234@gmail.com Son\n"
     ]
    }
   ],
   "source": [
    "#用super來讓父系幫助你\n",
    "class Person():\n",
    "    def __init__(self,name):\n",
    "        self.name = name + ' Father'\n",
    "\n",
    "class EmailPerson(Person):\n",
    "    def __init__(self,name,email):\n",
    "        super().__init__(name)\n",
    "        self.email = email + ' Son'\n",
    "\n",
    "bob = EmailPerson('Kitty','1234@gmail.com')\n",
    "print(bob.name)\n",
    "print(bob.email)"
   ]
  },
  {
   "cell_type": "code",
   "execution_count": 46,
   "metadata": {},
   "outputs": [
    {
     "name": "stdout",
     "output_type": "stream",
     "text": [
      "inside getter\n"
     ]
    },
    {
     "data": {
      "text/plain": [
       "'Howard'"
      ]
     },
     "execution_count": 46,
     "metadata": {},
     "output_type": "execute_result"
    }
   ],
   "source": [
    "#使用property()來取得屬性質和設定\n",
    "class Duck():\n",
    "    def __init__(self,input_name):\n",
    "        self.hidden_name = input_name\n",
    "    def get_name(self):\n",
    "        print('inside getter')\n",
    "        return self.hidden_name\n",
    "    def set_name(self,input_name):\n",
    "        print('inside setter')\n",
    "        self.hidden_name = input_name\n",
    "    name = property(get_name ,set_name)#方法去掉刮號就只是一般的物件\n",
    "    \n",
    "    \n",
    "fowl = Duck('Howard')\n",
    "fowl.name"
   ]
  },
  {
   "cell_type": "code",
   "execution_count": 47,
   "metadata": {},
   "outputs": [
    {
     "name": "stdout",
     "output_type": "stream",
     "text": [
      "inside setter\n",
      "inside getter\n"
     ]
    },
    {
     "data": {
      "text/plain": [
       "'Kitty'"
      ]
     },
     "execution_count": 47,
     "metadata": {},
     "output_type": "execute_result"
    }
   ],
   "source": [
    "fowl.name = 'Kitty'\n",
    "fowl.name"
   ]
  },
  {
   "cell_type": "code",
   "execution_count": 48,
   "metadata": {},
   "outputs": [
    {
     "name": "stdout",
     "output_type": "stream",
     "text": [
      "who: Mary  says: What is up , doc.\n",
      "who: John  says: It is rabbit!\n",
      "who: Kitty  says: I am hunting webbits.\n"
     ]
    }
   ],
   "source": [
    "#多型 要有繼承關係\n",
    "class Quote():\n",
    "    def __init__(self,person , words):\n",
    "        self.person = person\n",
    "        self.words = words\n",
    "    def who(self):\n",
    "        return self.person\n",
    "    def says(self):\n",
    "        return self.words + '.'\n",
    "    \n",
    "class QuestionQuote(Quote):\n",
    "    def says(self):\n",
    "        return self.words + '.'\n",
    "    \n",
    "class ExclamationQuote(Quote):\n",
    "    def says(self):\n",
    "        return self.words + '!'\n",
    "    \n",
    "\n",
    "hunter = Quote('Kitty' , 'I am hunting webbits')\n",
    "hunterA = QuestionQuote('Mary' , 'What is up , doc')\n",
    "hunterB = ExclamationQuote('John' , 'It is rabbit')\n",
    "print('who:',hunterA.who(),' says:',hunterA.says())\n",
    "print('who:',hunterB.who(),' says:',hunterB.says())\n",
    "print('who:',hunter.who(),' says:',hunter.says())"
   ]
  },
  {
   "cell_type": "code",
   "execution_count": 49,
   "metadata": {},
   "outputs": [
    {
     "name": "stdout",
     "output_type": "stream",
     "text": [
      "This duck has a : wide orange bill and a long tail\n"
     ]
    }
   ],
   "source": [
    "#has-a 組合/聚合 EX:鴨子is-a鳥類，but has-a 尾巴，尾巴不是鴨子\n",
    "#將實體傳進去\n",
    "class Bill():\n",
    "    def __init__(self,description):\n",
    "        self.description = description\n",
    "        \n",
    "class Tail():\n",
    "    def __init__(self,length):\n",
    "        self.length = length\n",
    "\n",
    "class Duck():\n",
    "    def __init__(self,bill,tail):\n",
    "        self.bill = bill\n",
    "        self.tail = tail\n",
    "    def about(self):\n",
    "        print('This duck has a :',self.bill.description,'bill and a',self.tail.length,'tail')\n",
    "        \n",
    "tail = Tail('long')\n",
    "bill = Bill('wide orange')\n",
    "duck = Duck(bill , tail)\n",
    "duck.about()"
   ]
  },
  {
   "cell_type": "code",
   "execution_count": 50,
   "metadata": {},
   "outputs": [
    {
     "name": "stdout",
     "output_type": "stream",
     "text": [
      "value = \"A\",name = \"LATIN CAPITAL LETTER A\" , value2 = \"A\"\n",
      "value = \"$\",name = \"DOLLAR SIGN\" , value2 = \"$\"\n",
      "value = \"H\",name = \"LATIN CAPITAL LETTER H\" , value2 = \"H\"\n"
     ]
    }
   ],
   "source": [
    "#像專家一樣處理資料\n",
    "#python的unicodedata model have the function need to change\n",
    "# lookup() 接收一個不分大小寫的名稱，回傳一個unicoded字元\n",
    "# name() 接收一個unicoded字元，回傳一個大寫的名稱\n",
    "def unicode_test(value):\n",
    "    import unicodedata\n",
    "    name = unicodedata.name(value)\n",
    "    value2 = unicodedata.lookup(name)\n",
    "    print('value = \"%s\",name = \"%s\" , value2 = \"%s\"'%(value , name , value2))\n",
    "    \n",
    "unicode_test('A')\n",
    "unicode_test('$')\n",
    "unicode_test('\\u0048')"
   ]
  },
  {
   "cell_type": "code",
   "execution_count": 51,
   "metadata": {},
   "outputs": [
    {
     "data": {
      "text/plain": [
       "1"
      ]
     },
     "execution_count": 51,
     "metadata": {},
     "output_type": "execute_result"
    }
   ],
   "source": [
    "# 將字串編碼成byte encode() 'ascii' 'utf-8' 'latin-1' 'cp-1252' 'unicode-escape'\n",
    "snowman = '\\u2603'\n",
    "len(snowman)"
   ]
  },
  {
   "cell_type": "code",
   "execution_count": 52,
   "metadata": {},
   "outputs": [
    {
     "name": "stdout",
     "output_type": "stream",
     "text": [
      "3\n"
     ]
    },
    {
     "data": {
      "text/plain": [
       "b'\\xe2\\x98\\x83'"
      ]
     },
     "execution_count": 52,
     "metadata": {},
     "output_type": "execute_result"
    }
   ],
   "source": [
    "ds = snowman.encode('utf-8')\n",
    "print(len(ds))\n",
    "ds"
   ]
  },
  {
   "cell_type": "code",
   "execution_count": 53,
   "metadata": {},
   "outputs": [
    {
     "data": {
      "text/plain": [
       "b''"
      ]
     },
     "execution_count": 53,
     "metadata": {},
     "output_type": "execute_result"
    }
   ],
   "source": [
    "#encode()預設是strict，會使用ignore丟棄無法編碼的東西\n",
    "snowman.encode('ascii' ,'ignore')"
   ]
  },
  {
   "cell_type": "code",
   "execution_count": 54,
   "metadata": {},
   "outputs": [
    {
     "data": {
      "text/plain": [
       "b'?'"
      ]
     },
     "execution_count": 54,
     "metadata": {},
     "output_type": "execute_result"
    }
   ],
   "source": [
    "#使用replace()將未知字元轉換成?\n",
    "snowman.encode('ascii' ,'replace')"
   ]
  },
  {
   "cell_type": "code",
   "execution_count": 55,
   "metadata": {},
   "outputs": [
    {
     "name": "stdout",
     "output_type": "stream",
     "text": [
      "100%\n"
     ]
    }
   ],
   "source": [
    "#格式 %%\n",
    "print('%d%%'%100)"
   ]
  },
  {
   "cell_type": "code",
   "execution_count": 56,
   "metadata": {},
   "outputs": [
    {
     "name": "stdout",
     "output_type": "stream",
     "text": [
      "7.03 string cheese 42\n",
      "42 7.03 string cheese\n",
      "42 7.030000 string cheese\n",
      "        42   7.030000 string cheese\n",
      "42         7.030000   string cheese\n",
      "    42      7.030000  string cheese\n"
     ]
    }
   ],
   "source": [
    "#{} & format\n",
    "n = 42\n",
    "f = 7.03\n",
    "s = 'string cheese'\n",
    "print('{} {} {}'.format(f , s , n))\n",
    "print('{2} {0} {1}'.format(f , s , n))\n",
    "print('{0:d} {1:f} {2:s}'.format(n , f , s))\n",
    "print('{0:10d} {1:10f} {2:10s}'.format(n , f , s))#最小欄位寬度，靠右對齊\n",
    "print('{0:<10d} {1:<10f} {2:<10s}'.format(n , f , s))#最小欄位寬度，靠左對齊\n",
    "print('{0:^10d} {1:^10f} {2:^10s}'.format(n , f , s))#最小欄位寬度，置中對齊"
   ]
  },
  {
   "cell_type": "code",
   "execution_count": 57,
   "metadata": {},
   "outputs": [
    {
     "name": "stdout",
     "output_type": "stream",
     "text": [
      "You\n",
      "Young Frank\n"
     ]
    }
   ],
   "source": [
    "#用正規表達式來匹配\n",
    "# compile() 編譯 \n",
    "# match() 匹配\n",
    "# search() 會回傳第一個匹配項目\n",
    "# findall() 會回傳所有不重疊的匹配\n",
    "# split() 會用模式，在匹配處分割來源，並回傳一串字串片段\n",
    "# sub() 會使用另一個取代引數，並將來源內，所有匹配模式的項目換成取代引數\n",
    "#使用match()來取出匹配項目\n",
    "import re \n",
    "source = 'Young Frankn'\n",
    "m = re.match('You',source)\n",
    "if m:#回傳一個物件，查看有哪些匹配？\n",
    "    print(m.group())\n",
    "    \n",
    "    \n",
    "n = re.match('.*Frank',source)#.代表任何單一字元  *代表在它前面的東西，任何數量\n",
    "if n:#回傳一個物件，查看有哪些匹配？\n",
    "    print(n.group())"
   ]
  },
  {
   "cell_type": "code",
   "execution_count": 58,
   "metadata": {},
   "outputs": [
    {
     "name": "stdout",
     "output_type": "stream",
     "text": [
      "Frank\n"
     ]
    }
   ],
   "source": [
    "#使用search()找出第一個匹配的項目，不需要.*萬用字元\n",
    "n = re.search('Frank',source)#.代表任何單一字元  *代表在它前面的東西，任何數量\n",
    "if n:#回傳一個物件，查看有哪些匹配？\n",
    "    print(n.group())"
   ]
  },
  {
   "cell_type": "code",
   "execution_count": 59,
   "metadata": {},
   "outputs": [
    {
     "data": {
      "text/plain": [
       "['n', 'n', 'n']"
      ]
     },
     "execution_count": 59,
     "metadata": {},
     "output_type": "execute_result"
    }
   ],
   "source": [
    "#使用findall()找到某個單字出現的次數？\n",
    "n = re.findall('n',source)\n",
    "n"
   ]
  },
  {
   "cell_type": "code",
   "execution_count": 60,
   "metadata": {},
   "outputs": [
    {
     "data": {
      "text/plain": [
       "['ng', 'nk']"
      ]
     },
     "execution_count": 60,
     "metadata": {},
     "output_type": "execute_result"
    }
   ],
   "source": [
    "#n後面的字元呢？加上.\n",
    "n = re.findall('n.',source)\n",
    "n"
   ]
  },
  {
   "cell_type": "code",
   "execution_count": 61,
   "metadata": {},
   "outputs": [
    {
     "data": {
      "text/plain": [
       "['ng', 'nk', 'n']"
      ]
     },
     "execution_count": 61,
     "metadata": {},
     "output_type": "execute_result"
    }
   ],
   "source": [
    "#並未匹配到最後一個n，所以使用？\n",
    "n = re.findall('n.?',source)\n",
    "n"
   ]
  },
  {
   "cell_type": "code",
   "execution_count": 62,
   "metadata": {},
   "outputs": [
    {
     "data": {
      "text/plain": [
       "['You', 'g Fra', 'k', '']"
      ]
     },
     "execution_count": 62,
     "metadata": {},
     "output_type": "execute_result"
    }
   ],
   "source": [
    "#使用split()來分割，碰到n就分割\n",
    "n = re.split('n',source)\n",
    "n"
   ]
  },
  {
   "cell_type": "code",
   "execution_count": 63,
   "metadata": {},
   "outputs": [
    {
     "data": {
      "text/plain": [
       "'You?g Fra?k?'"
      ]
     },
     "execution_count": 63,
     "metadata": {},
     "output_type": "execute_result"
    }
   ],
   "source": [
    "#使用sub()來替換匹配，有點像replace\n",
    "n = re.sub('n','?',source)\n",
    "n"
   ]
  },
  {
   "cell_type": "code",
   "execution_count": 64,
   "metadata": {},
   "outputs": [
    {
     "data": {
      "text/plain": [
       "100"
      ]
     },
     "execution_count": 64,
     "metadata": {},
     "output_type": "execute_result"
    }
   ],
   "source": [
    "#特殊字元\n",
    "# \\d 一個數字\n",
    "# \\D 一個非數字\n",
    "# \\w 一個英數字元\n",
    "# \\W 一個非英數字元\n",
    "# \\s 一個空白字元\n",
    "# \\S 一個非空白字元\n",
    "# \\b 一個單字範圍(介於 \\w和\\W，無論順序為何)\n",
    "# \\B 一個非單字範圍\n",
    "# python string 下的 printable 有100個 ASCII字元\n",
    "import string \n",
    "printable = string.printable\n",
    "len(printable)"
   ]
  },
  {
   "cell_type": "code",
   "execution_count": 65,
   "metadata": {},
   "outputs": [
    {
     "data": {
      "text/plain": [
       "'0123456789abcdefghijklmnopqrstuvwxyzABCDEFGHIJKLMN'"
      ]
     },
     "execution_count": 65,
     "metadata": {},
     "output_type": "execute_result"
    }
   ],
   "source": [
    "printable[0 : 50]"
   ]
  },
  {
   "cell_type": "code",
   "execution_count": 66,
   "metadata": {},
   "outputs": [
    {
     "data": {
      "text/plain": [
       "['0', '1', '2', '3', '4', '5', '6', '7', '8', '9']"
      ]
     },
     "execution_count": 66,
     "metadata": {},
     "output_type": "execute_result"
    }
   ],
   "source": [
    "#有哪些是數字？\n",
    "a = re.findall('\\d',printable)\n",
    "a"
   ]
  },
  {
   "cell_type": "code",
   "execution_count": 67,
   "metadata": {},
   "outputs": [
    {
     "name": "stdout",
     "output_type": "stream",
     "text": [
      "['0', '1', '2', '3', '4', '5', '6', '7', '8', '9', 'a', 'b', 'c', 'd', 'e', 'f', 'g', 'h', 'i', 'j', 'k', 'l', 'm', 'n', 'o', 'p', 'q', 'r', 's', 't', 'u', 'v', 'w', 'x', 'y', 'z', 'A', 'B', 'C', 'D', 'E', 'F', 'G', 'H', 'I', 'J', 'K', 'L', 'M', 'N', 'O', 'P', 'Q', 'R', 'S', 'T', 'U', 'V', 'W', 'X', 'Y', 'Z', '_']\n"
     ]
    }
   ],
   "source": [
    "#有哪些字元是數字？字母？或底線？\n",
    "a = re.findall('\\w',printable)\n",
    "print(a)"
   ]
  },
  {
   "cell_type": "code",
   "execution_count": 68,
   "metadata": {},
   "outputs": [
    {
     "name": "stdout",
     "output_type": "stream",
     "text": [
      "[' ', '\\t', '\\n', '\\r', '\\x0b', '\\x0c']\n"
     ]
    }
   ],
   "source": [
    "#哪些是空白？\n",
    "a = re.findall('\\s',printable)\n",
    "print(a)"
   ]
  },
  {
   "cell_type": "code",
   "execution_count": 69,
   "metadata": {},
   "outputs": [
    {
     "name": "stdout",
     "output_type": "stream",
     "text": [
      "['a', 'b', 'c', 'ê', 'ĕ']\n"
     ]
    }
   ],
   "source": [
    "x = 'abc'+'-/*'+'\\u00ea'+'\\u0115'\n",
    "a = re.findall('\\w',x)\n",
    "print(a)"
   ]
  },
  {
   "cell_type": "code",
   "execution_count": 70,
   "metadata": {},
   "outputs": [
    {
     "data": {
      "text/plain": [
       "['wish', 'wish']"
      ]
     },
     "execution_count": 70,
     "metadata": {},
     "output_type": "execute_result"
    }
   ],
   "source": [
    "#使用指定符\n",
    "# a | b 或\n",
    "# . 除了\\n之外的任何字元\n",
    "# ^來源字串的開頭\n",
    "# $來源字串的結尾\n",
    "# prev ?  零或一個prev\n",
    "# prev *  零或多個prev 越多越好\n",
    "# prev *? 零或一個prev 越少越好\n",
    "# prev +  一個或多個prev 越多越好\n",
    "# prev +?  一個或多個prev 越少越好\n",
    "# prev {m} m個連續的prev\n",
    "# prev {m , n} m到n個連續的prev 越多越好\n",
    "# prev {m , n}? m到n個連續的prev 越少越好\n",
    "# [ abc ] a或b或c\n",
    "# [ ^abc ] not(a或b或c)\n",
    "# prev (?= next) prev，如果它後面有next的話\n",
    "# prev (?| next) prev，如果它後面沒有next的話\n",
    "# (?<= prev) next 如果next之前是prev，匹配next\n",
    "# (?<! prev) next 如果next之前不是prev，匹配next\n",
    "source = 'I wish I may,I wish I might ...Have a dish of fish tonight...'\n",
    "#找出任何地方的wish\n",
    "re.findall('wish',source)"
   ]
  },
  {
   "cell_type": "code",
   "execution_count": 71,
   "metadata": {},
   "outputs": [
    {
     "data": {
      "text/plain": [
       "['wish ', 'wish ', ' fish']"
      ]
     },
     "execution_count": 71,
     "metadata": {},
     "output_type": "execute_result"
    }
   ],
   "source": [
    "#找出任何地方的wish或fish\n",
    "re.findall('wish | fish',source)"
   ]
  },
  {
   "cell_type": "code",
   "execution_count": 72,
   "metadata": {},
   "outputs": [
    {
     "data": {
      "text/plain": [
       "[]"
      ]
     },
     "execution_count": 72,
     "metadata": {},
     "output_type": "execute_result"
    }
   ],
   "source": [
    "#找到開頭的wish\n",
    "re.findall('^wish',source)"
   ]
  },
  {
   "cell_type": "code",
   "execution_count": 73,
   "metadata": {},
   "outputs": [
    {
     "data": {
      "text/plain": [
       "['I wish']"
      ]
     },
     "execution_count": 73,
     "metadata": {},
     "output_type": "execute_result"
    }
   ],
   "source": [
    "#找到開頭的I wish\n",
    "re.findall('^I wish',source)#連同空格都會辨識"
   ]
  },
  {
   "cell_type": "code",
   "execution_count": 74,
   "metadata": {},
   "outputs": [
    {
     "data": {
      "text/plain": [
       "[]"
      ]
     },
     "execution_count": 74,
     "metadata": {},
     "output_type": "execute_result"
    }
   ],
   "source": [
    "#找到結尾的fish\n",
    "re.findall('fish$',source)"
   ]
  },
  {
   "cell_type": "code",
   "execution_count": 75,
   "metadata": {},
   "outputs": [
    {
     "data": {
      "text/plain": [
       "['fish tonight...']"
      ]
     },
     "execution_count": 75,
     "metadata": {},
     "output_type": "execute_result"
    }
   ],
   "source": [
    "#找到結尾的fish tonight...\n",
    "re.findall('fish tonight...$',source)"
   ]
  },
  {
   "cell_type": "code",
   "execution_count": 76,
   "metadata": {},
   "outputs": [
    {
     "data": {
      "text/plain": [
       "['wish', 'wish', 'fish']"
      ]
     },
     "execution_count": 76,
     "metadata": {},
     "output_type": "execute_result"
    }
   ],
   "source": [
    "#用ish來尋找w or f\n",
    "re.findall('[wf]ish',source)"
   ]
  },
  {
   "cell_type": "code",
   "execution_count": 77,
   "metadata": {},
   "outputs": [
    {
     "data": {
      "text/plain": [
       "['w', 'sh', 'w', 'sh', 'h', 'sh', 'sh', 'h']"
      ]
     },
     "execution_count": 77,
     "metadata": {},
     "output_type": "execute_result"
    }
   ],
   "source": [
    "#尋找一個或多個w,s,h\n",
    "re.findall('[wsh]+',source)"
   ]
  },
  {
   "cell_type": "code",
   "execution_count": 78,
   "metadata": {},
   "outputs": [
    {
     "data": {
      "text/plain": [
       "['ght ', 'ght.']"
      ]
     },
     "execution_count": 78,
     "metadata": {},
     "output_type": "execute_result"
    }
   ],
   "source": [
    "#尋找後面有非英數字元的ght\n",
    "re.findall('ght\\W',source)"
   ]
  },
  {
   "cell_type": "code",
   "execution_count": 79,
   "metadata": {},
   "outputs": [
    {
     "data": {
      "text/plain": [
       "['I', 'I']"
      ]
     },
     "execution_count": 79,
     "metadata": {},
     "output_type": "execute_result"
    }
   ],
   "source": [
    "#尋找wish之前的I\n",
    "re.findall('I(?= wish)',source)"
   ]
  },
  {
   "cell_type": "code",
   "execution_count": 80,
   "metadata": {},
   "outputs": [
    {
     "data": {
      "text/plain": [
       "[' wish', ' wish']"
      ]
     },
     "execution_count": 80,
     "metadata": {},
     "output_type": "execute_result"
    }
   ],
   "source": [
    "#尋找I之後的wish\n",
    "re.findall('(?<=I) wish',source)#一定要空格"
   ]
  },
  {
   "cell_type": "code",
   "execution_count": 81,
   "metadata": {},
   "outputs": [],
   "source": [
    "#資料的去處\n",
    "# fileobj = open(filename , mode)\n",
    "# fileobj 是open()回傳的檔案物件\n",
    "# filename是檔案的字串名稱\n",
    "# mode 是一個字串，用來指示檔案類型\n",
    "# ＊＊＊＊＊＊＊＊＊＊＊＊＊＊＊＊＊＊\n",
    "# mode 的第一個字母代表操作：\n",
    "# .r 代表讀取\n",
    "# .w 代表寫入，如果這個檔案不存在，就會建立一個，如果檔案存在就會被寫入\n",
    "# .x 代表寫入，但唯有在檔案還不存在時\n",
    "# .a 代表附加(在結尾處寫入)如果檔案存在的話\n",
    "# mode 的第二個字母代表操作：\n",
    "# .t (或無)代表文字\n",
    "# .b 代表二進位"
   ]
  },
  {
   "cell_type": "code",
   "execution_count": 82,
   "metadata": {},
   "outputs": [
    {
     "data": {
      "text/plain": [
       "156"
      ]
     },
     "execution_count": 82,
     "metadata": {},
     "output_type": "execute_result"
    }
   ],
   "source": [
    "peom = '''There ws a young lady named Bright,Whose\n",
    "      speed was far faster then light; She started on day\n",
    "      In a relative way,And return on the previous night.'''\n",
    "len(peom)"
   ]
  },
  {
   "cell_type": "code",
   "execution_count": 83,
   "metadata": {},
   "outputs": [
    {
     "data": {
      "text/plain": [
       "156"
      ]
     },
     "execution_count": 83,
     "metadata": {},
     "output_type": "execute_result"
    }
   ],
   "source": [
    "#將以上字串寫入檔案\n",
    "peom = '''There ws a young lady named Bright,Whose\n",
    "      speed was far faster then light; She started on day\n",
    "      In a relative way,And return on the previous night.'''\n",
    "fout = open('relative' , 'wt')\n",
    "fout.write(peom)"
   ]
  },
  {
   "cell_type": "code",
   "execution_count": 84,
   "metadata": {},
   "outputs": [],
   "source": [
    "fout.close()"
   ]
  },
  {
   "cell_type": "code",
   "execution_count": 85,
   "metadata": {},
   "outputs": [],
   "source": [
    "#write()會回傳被寫入的byte數量。它與print()一樣，不會加入任何空格或換行\n",
    "#該使用哪一個？print()會在每一個引號後面加上一個空格，並且在行尾加上一個換行符號。要讓print()像write()一樣工作要傳入兩個引數\n",
    "# .(sep)(分隔符，預設值是空格'')\n",
    "# .(end)(結束字串，預設值是換行'\\n')\n",
    "p = '123'\n",
    "peom = 'There ws a young lady named Bright,Whose speed was far faster then light; She started on day In a relative way,And return on the previous night.'\n"
   ]
  },
  {
   "cell_type": "code",
   "execution_count": 86,
   "metadata": {},
   "outputs": [],
   "source": [
    "fout.close()"
   ]
  },
  {
   "cell_type": "code",
   "execution_count": 121,
   "metadata": {},
   "outputs": [
    {
     "name": "stdout",
     "output_type": "stream",
     "text": [
      "100\n",
      "100\n",
      "relative already exists. That was a close one\n"
     ]
    }
   ],
   "source": [
    "#如果來源字串很大，也可以分段寫入\n",
    "peom = 'There ws a young lady named Bright,Whose speed was far faster then light; She started on day In a relative way,And return on the previous night.'\n",
    "f = open('relative' , 'wt')\n",
    "size = len(peom)\n",
    "offset = 0\n",
    "chunk = 100\n",
    "while True:\n",
    "    if offset > size :\n",
    "        break\n",
    "    f.write(peom[offset : offset+chunk])\n",
    "    offset += chunk\n",
    "    print(chunk)\n",
    "#兩次各寫入100\n",
    "#使用x模式是否可以避免override\n",
    "\n",
    "try :\n",
    "    f = open('relative' , 'xt')\n",
    "    f.write('stomp stomp stomp')\n",
    "except FileExistsError :\n",
    "    print('relative already exists. That was a close one')"
   ]
  },
  {
   "cell_type": "code",
   "execution_count": 88,
   "metadata": {},
   "outputs": [],
   "source": [
    "f.close()"
   ]
  },
  {
   "cell_type": "code",
   "execution_count": 89,
   "metadata": {},
   "outputs": [
    {
     "name": "stdout",
     "output_type": "stream",
     "text": [
      "There ws a young lady named Bright,Whose speed was far faster then light; She started on day In a relative way,And return on the previous night.\n"
     ]
    }
   ],
   "source": [
    "#用read(),readline(),readlines()讀取文字檔\n",
    "#呼叫read()不傳入任何引數，一次取出整個檔案，處理大型檔案時要小心容量問題\n",
    "p = ''\n",
    "fin = open('relative' , 'rt')\n",
    "while True :\n",
    "    fragment = fin.read()\n",
    "    if not fragment :#因為read()會回傳空字串，會被視為False跳出迴圈\n",
    "        break\n",
    "    p += fragment\n",
    "\n",
    "print(p)"
   ]
  },
  {
   "cell_type": "code",
   "execution_count": 90,
   "metadata": {},
   "outputs": [
    {
     "name": "stdout",
     "output_type": "stream",
     "text": [
      "There ws a young lady named Bright,Whose speed was far faster then light; She started on day In a relative way,And return on the previous night.\n"
     ]
    }
   ],
   "source": [
    "#用readline()一次讀取一行\n",
    "p = ''\n",
    "fin = open('relative' , 'rt')\n",
    "while True :\n",
    "    line = fin.readline()\n",
    "    if not line :\n",
    "        break\n",
    "    p += line\n",
    "print(p)"
   ]
  },
  {
   "cell_type": "code",
   "execution_count": 91,
   "metadata": {},
   "outputs": [
    {
     "name": "stdout",
     "output_type": "stream",
     "text": [
      "1 lines read\n"
     ]
    }
   ],
   "source": [
    "#readlines()每次讀入一行，並回傳一串單行字串\n",
    "p = ''\n",
    "fin = open('relative' , 'rt')\n",
    "lines = fin.readlines()\n",
    "fin.close()\n",
    "print(len(lines) , 'lines read')"
   ]
  },
  {
   "cell_type": "code",
   "execution_count": 92,
   "metadata": {},
   "outputs": [
    {
     "name": "stdout",
     "output_type": "stream",
     "text": [
      "There ws a young lady named Bright,Whose speed was far faster then light; She started on day In a relative way,And return on the previous night."
     ]
    }
   ],
   "source": [
    "for line in lines :\n",
    "    print (line , end = '')"
   ]
  },
  {
   "cell_type": "code",
   "execution_count": 93,
   "metadata": {},
   "outputs": [
    {
     "data": {
      "text/plain": [
       "256"
      ]
     },
     "execution_count": 93,
     "metadata": {},
     "output_type": "execute_result"
    }
   ],
   "source": [
    "#用write()寫入二進位檔案，在mode中加入'b'就會以二進位模式開啟，會讀取與寫入bytes，而不是字串\n",
    "bdata = bytes(range(0 , 256))\n",
    "len(bdata)"
   ]
  },
  {
   "cell_type": "code",
   "execution_count": 94,
   "metadata": {},
   "outputs": [
    {
     "name": "stdout",
     "output_type": "stream",
     "text": [
      "100\n",
      "200\n",
      "300\n"
     ]
    },
    {
     "data": {
      "text/plain": [
       "0"
      ]
     },
     "execution_count": 94,
     "metadata": {},
     "output_type": "execute_result"
    }
   ],
   "source": [
    "fout = open ('bfile' ,'wb')\n",
    "size = len (bdata)\n",
    "offest = 0\n",
    "chunk  = 100\n",
    "while True :\n",
    "    if offest > size :\n",
    "        break\n",
    "    fout.write(bdata[offest:offest+chunk])\n",
    "    offest += chunk\n",
    "    print(offest)\n",
    "    \n",
    "#用rb來讀取二進位檔案\n",
    "fin = open('bfile' ,'rb')\n",
    "bdata = fin.read()\n",
    "len(bdata)"
   ]
  },
  {
   "cell_type": "code",
   "execution_count": 95,
   "metadata": {},
   "outputs": [],
   "source": [
    "#用with來自動關閉檔案\n",
    "with open('relative' , 'wt') as fount:\n",
    "    fount.write(peom)"
   ]
  },
  {
   "cell_type": "code",
   "execution_count": 96,
   "metadata": {},
   "outputs": [
    {
     "data": {
      "text/plain": [
       "0"
      ]
     },
     "execution_count": 96,
     "metadata": {},
     "output_type": "execute_result"
    }
   ],
   "source": [
    "#用seek()更改位置，在做讀取和寫入時，python會追蹤你在檔案的位置，tell()會回傳從檔案開頭算起你目前的位移值，以byte為單位seek()可以讓你\n",
    "#跳到檔案的另一個byte位移值，不必讀取檔案中每個byte才能讀到最後一個，可以透過seek()到最後一個並且只讀取一個byte\n",
    "fin = open('bfile' ,'rb')\n",
    "fin.tell()"
   ]
  },
  {
   "cell_type": "code",
   "execution_count": 97,
   "metadata": {},
   "outputs": [
    {
     "data": {
      "text/plain": [
       "200"
      ]
     },
     "execution_count": 97,
     "metadata": {},
     "output_type": "execute_result"
    }
   ],
   "source": [
    "#使用seek() 跳到檔案結尾的一個byte之前\n",
    "fin.seek(200)"
   ]
  },
  {
   "cell_type": "code",
   "execution_count": 98,
   "metadata": {},
   "outputs": [
    {
     "data": {
      "text/plain": [
       "0"
      ]
     },
     "execution_count": 98,
     "metadata": {},
     "output_type": "execute_result"
    }
   ],
   "source": [
    "#seek()也會回傳目前的位移，最適合用在二進位檔案\n",
    "# seek(offest , origin)\n",
    "# if origin is 0(default) ,前往開頭算起的第offest個byte\n",
    "# if origin is 1 ,前往目前位置算起的第offest個byte\n",
    "# if origin is 2 ,前往相對於結尾的第offest個byte\n",
    "# 標準的OS模組也有定義這些值：\n",
    "import os\n",
    "os.SEEK_SET"
   ]
  },
  {
   "cell_type": "code",
   "execution_count": 99,
   "metadata": {},
   "outputs": [
    {
     "data": {
      "text/plain": [
       "1"
      ]
     },
     "execution_count": 99,
     "metadata": {},
     "output_type": "execute_result"
    }
   ],
   "source": [
    "os.SEEK_CUR"
   ]
  },
  {
   "cell_type": "code",
   "execution_count": 100,
   "metadata": {},
   "outputs": [
    {
     "data": {
      "text/plain": [
       "2"
      ]
     },
     "execution_count": 100,
     "metadata": {},
     "output_type": "execute_result"
    }
   ],
   "source": [
    "os.SEEK_END"
   ]
  },
  {
   "cell_type": "code",
   "execution_count": 101,
   "metadata": {},
   "outputs": [
    {
     "data": {
      "text/plain": [
       "254"
      ]
     },
     "execution_count": 101,
     "metadata": {},
     "output_type": "execute_result"
    }
   ],
   "source": [
    "fin.seek(254 , 0)#在檔案結尾前的兩個位元前結束"
   ]
  },
  {
   "cell_type": "code",
   "execution_count": 102,
   "metadata": {},
   "outputs": [
    {
     "data": {
      "text/plain": [
       "255"
      ]
     },
     "execution_count": 102,
     "metadata": {},
     "output_type": "execute_result"
    }
   ],
   "source": [
    "fin.seek(1 , 1)#接著前往一個byte"
   ]
  },
  {
   "cell_type": "code",
   "execution_count": 103,
   "metadata": {},
   "outputs": [
    {
     "name": "stdout",
     "output_type": "stream",
     "text": [
      "[['Doctor', 'No'], ['Rosa', 'Klebb'], ['Mister', 'Big'], ['Auric', 'Goldfinger'], ['Ernst', 'Blofeld']]\n"
     ]
    }
   ],
   "source": [
    "# 文字檔結構\n",
    "# CSV\n",
    "# 如何讀取和寫入一連串的列，每一列含有一連串的欄位\n",
    "#使用reader & writer 欄位會以逗號分隔，列會以換行分隔\n",
    "import csv\n",
    "villains = [\n",
    "    ['Doctor' ,'No'],\n",
    "    ['Rosa' ,'Klebb'],\n",
    "    ['Mister' ,'Big'],\n",
    "    ['Auric' ,'Goldfinger'],\n",
    "    ['Ernst' ,'Blofeld']\n",
    "]\n",
    "\n",
    "with open('villains' ,'wt') as fout :\n",
    "    csvout = csv.writer(fout)\n",
    "    csvout.writerows(villains)\n",
    "print(villains)"
   ]
  },
  {
   "cell_type": "code",
   "execution_count": 104,
   "metadata": {},
   "outputs": [
    {
     "name": "stdout",
     "output_type": "stream",
     "text": [
      "[['Doctor', 'No'], ['Rosa', 'Klebb'], ['Mister', 'Big'], ['Auric', 'Goldfinger'], ['Ernst', 'Blofeld']]\n"
     ]
    }
   ],
   "source": [
    "#接著讀回寫入的資料\n",
    "import csv\n",
    "with open('villains' ,'rt') as fin :\n",
    "    cin = csv.reader(fin)\n",
    "    villains = [row for row in cin]#使用串列生成式\n",
    "print(villains)"
   ]
  },
  {
   "cell_type": "code",
   "execution_count": 105,
   "metadata": {},
   "outputs": [
    {
     "data": {
      "text/plain": [
       "[OrderedDict([('first', 'Doctor'), ('last', 'No')]),\n",
       " OrderedDict([('first', 'Rosa'), ('last', 'Klebb')]),\n",
       " OrderedDict([('first', 'Mister'), ('last', 'Big')]),\n",
       " OrderedDict([('first', 'Auric'), ('last', 'Goldfinger')]),\n",
       " OrderedDict([('first', 'Ernst'), ('last', 'Blofeld')])]"
      ]
     },
     "execution_count": 105,
     "metadata": {},
     "output_type": "execute_result"
    }
   ],
   "source": [
    "#資料可以是一串字典，而不是一串列，透過DictReader()讀取就是字典格式，並指定欄位名稱\n",
    "import csv\n",
    "with open('villains' ,'rt') as fin :\n",
    "    cin = csv.DictReader(fin , fieldnames = ['first' , 'last'])\n",
    "    villains = [row for row in cin]#使用串列生成式\n",
    "villains"
   ]
  },
  {
   "cell_type": "code",
   "execution_count": 106,
   "metadata": {},
   "outputs": [],
   "source": [
    "#利用新的DictWriter()重寫CSV檔，透過writeheader()寫入一行開頭欄位名稱\n",
    "import csv\n",
    "villains = [{'last':'No','first':'Doctor'},\n",
    "            {'last':'Klebb','first':'Rosa'},\n",
    "            {'last':'Big','first':'Mister'},\n",
    "            {'last':'Goldfinger','first':'Auric'},\n",
    "            {'last':'Blofeld','first':'Ernst'},\n",
    "           ]\n",
    "with open('villains' , 'wt') as fin :\n",
    "    cout = csv.DictWriter(fin , ['first' ,'last'])\n",
    "    cout.writeheader()\n",
    "    cout.writerows(villains)\n",
    "#直接開檔案看結果"
   ]
  },
  {
   "cell_type": "code",
   "execution_count": 107,
   "metadata": {},
   "outputs": [
    {
     "data": {
      "text/plain": [
       "[OrderedDict([('first', 'Doctor'), ('last', 'No')]),\n",
       " OrderedDict([('first', 'Rosa'), ('last', 'Klebb')]),\n",
       " OrderedDict([('first', 'Mister'), ('last', 'Big')]),\n",
       " OrderedDict([('first', 'Auric'), ('last', 'Goldfinger')]),\n",
       " OrderedDict([('first', 'Ernst'), ('last', 'Blofeld')])]"
      ]
     },
     "execution_count": 107,
     "metadata": {},
     "output_type": "execute_result"
    }
   ],
   "source": [
    "#接著將它讀回，藉著忽略DictReader()呼叫式內的fieldnames引數，要求使用檔案第一行的值(first , last)來作為欄位標籤\n",
    "import os \n",
    "with open('villains' , 'rt') as fin :\n",
    "    cin = csv.DictReader(fin)\n",
    "    villains = [row for row in cin]\n",
    "\n",
    "villains"
   ]
  },
  {
   "cell_type": "code",
   "execution_count": 108,
   "metadata": {},
   "outputs": [],
   "source": [
    "# XML\n",
    "# 以符號分隔的檔案只能表達兩個維度，列與欄，如果想要在程式間傳送檔案結構，就必須設法將階層，序列，集合與其他結構編碼成文字\n",
    "# XML就是適合這種用途的標記格式\n",
    "# <?xml version=\"1.0\"?>\n",
    "# <menu>\n",
    "#   <breakfast hours=\"7-11\">\n",
    "#     <item price=\"$6.00\">breakfast burritos</item>\n",
    "#     <item price=\"$4.00\">pancakes</item>\n",
    "#   </breakfast>\n",
    "#   <lunch hours=\"11-3\">\n",
    "#     <item price=\"$5.00\">hamburger</item>\n",
    "#   </lunch>\n",
    "#   <dinner hours=\"3-10\">\n",
    "#     <item price=\"8.00\">spaghetti</item>\n",
    "#   </dinner>\n",
    "# </menu>\n",
    "# 以下是xml者要特點：\n",
    "# 標籤以<開頭，這裡標籤有 menu breakfast lunch dinner item\n",
    "# 忽略空白字元\n",
    "# 標籤可以被嵌套在其他標籤裡面，無論有幾層，上面範例item是breakfast lunch dinner的子標籤，他們又全部都是menu的子標籤\n",
    "# xml通常是用在資料摘要與訊息，在 python中最簡單的xml解析方式，是使用ElementTree\n"
   ]
  },
  {
   "cell_type": "code",
   "execution_count": 109,
   "metadata": {},
   "outputs": [
    {
     "data": {
      "text/plain": [
       "'menu'"
      ]
     },
     "execution_count": 109,
     "metadata": {},
     "output_type": "execute_result"
    }
   ],
   "source": [
    "import xml.etree.ElementTree as et\n",
    "tree = et.ElementTree(file = 'menu.xml')\n",
    "root = tree.getroot()\n",
    "root.tag"
   ]
  },
  {
   "cell_type": "code",
   "execution_count": 110,
   "metadata": {},
   "outputs": [
    {
     "name": "stdout",
     "output_type": "stream",
     "text": [
      "tag : breakfast attributes : {'hours': '7-11'}\n",
      "\ttag : item attributes : {'price': '$6.00'}\n",
      "\ttag : item attributes : {'price': '$4.00'}\n",
      "tag : lunch attributes : {'hours': '11-3'}\n",
      "\ttag : item attributes : {'price': '$5.00'}\n",
      "tag : dinner attributes : {'hours': '3-10'}\n",
      "\ttag : item attributes : {'price': '8.00'}\n"
     ]
    }
   ],
   "source": [
    "for child in root :\n",
    "    print('tag :',child.tag ,'attributes :' ,child.attrib)#印母標籤\n",
    "    for grandchild in child :\n",
    "      print('\\ttag :',grandchild.tag ,'attributes :' ,grandchild.attrib)# 印子標籤\n",
    "#tag是標籤字串，attrib是它的屬性字典"
   ]
  },
  {
   "cell_type": "code",
   "execution_count": null,
   "metadata": {},
   "outputs": [],
   "source": []
  }
 ],
 "metadata": {
  "kernelspec": {
   "display_name": "Python 3",
   "language": "python",
   "name": "python3"
  },
  "language_info": {
   "codemirror_mode": {
    "name": "ipython",
    "version": 3
   },
   "file_extension": ".py",
   "mimetype": "text/x-python",
   "name": "python",
   "nbconvert_exporter": "python",
   "pygments_lexer": "ipython3",
   "version": "3.6.7"
  }
 },
 "nbformat": 4,
 "nbformat_minor": 2
}
