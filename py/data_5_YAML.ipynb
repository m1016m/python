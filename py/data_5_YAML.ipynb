{
 "cells": [
  {
   "cell_type": "code",
   "execution_count": 9,
   "metadata": {
    "collapsed": true
   },
   "outputs": [],
   "source": [
    "import yaml #import yaml"
   ]
  },
  {
   "cell_type": "code",
   "execution_count": 10,
   "metadata": {
    "collapsed": true
   },
   "outputs": [],
   "source": [
    "with open('mcintyre.yaml','rt') as fin: #將mcintyre.yaml 交給file handler : fin\n",
    "    text=fin.read()"
   ]
  },
  {
   "cell_type": "code",
   "execution_count": 20,
   "metadata": {
    "collapsed": true
   },
   "outputs": [],
   "source": [
    "yaml_data=yaml.safe_load(text) #將YAML字串轉換成Python資料 yaml_data"
   ]
  },
  {
   "cell_type": "code",
   "execution_count": 22,
   "metadata": {
    "collapsed": false
   },
   "outputs": [
    {
     "data": {
      "text/plain": [
       "{'bearded': True, 'themes': ['cheese', 'Canada']}"
      ]
     },
     "execution_count": 22,
     "metadata": {},
     "output_type": "execute_result"
    }
   ],
   "source": [
    "yaml_data['details'] #print yaml_data 中 'details' 部分"
   ]
  },
  {
   "cell_type": "code",
   "execution_count": 23,
   "metadata": {
    "collapsed": false
   },
   "outputs": [
    {
     "data": {
      "text/plain": [
       "[{'text': 'Politeness, perseverance and pluck,\\nTo their possessor will bring good luck.\\n',\n",
       "  'title': 'Motto'},\n",
       " {'text': 'Here industry is not in vain,\\nFor we have bounteous crops of grain,\\nAnd you behold on every field\\nOf grass and roots abundant yield,\\nBut after all the greatest charm\\nIs the snug home upon the farm,\\nAnd stone walls now keep cattle warm.',\n",
       "  'title': 'Canadian Charms'}]"
      ]
     },
     "execution_count": 23,
     "metadata": {},
     "output_type": "execute_result"
    }
   ],
   "source": [
    "yaml_data['poems'] #print yaml_data 中 'poems' 部分"
   ]
  },
  {
   "cell_type": "code",
   "execution_count": 7,
   "metadata": {
    "collapsed": false
   },
   "outputs": [
    {
     "data": {
      "text/plain": [
       "'Canadian Charms'"
      ]
     },
     "execution_count": 7,
     "metadata": {},
     "output_type": "execute_result"
    }
   ],
   "source": [
    "yaml_data['poems'][1]['title']  #使用這個 字典/串列/字典 參考,取得第二首詩 [1]的title"
   ]
  },
  {
   "cell_type": "code",
   "execution_count": 8,
   "metadata": {
    "collapsed": false
   },
   "outputs": [
    {
     "data": {
      "text/plain": [
       "'Politeness, perseverance and pluck,\\nTo their possessor will bring good luck.\\n'"
      ]
     },
     "execution_count": 8,
     "metadata": {},
     "output_type": "execute_result"
    }
   ],
   "source": [
    "yaml_data['poems'][0]['text']  #使用這個 字典/串列/字典 參考,取得第一首詩 [0]的text"
   ]
  },
  {
   "cell_type": "code",
   "execution_count": 24,
   "metadata": {
    "collapsed": false
   },
   "outputs": [
    {
     "name": "stdout",
     "output_type": "stream",
     "text": [
      "{'themes': ['cheese', 'Canada'], 'bearded': True}\n",
      "[{'title': 'Motto', 'text': 'Politeness, perseverance and pluck,\\nTo their possessor will bring good luck.\\n'}, {'title': 'Canadian Charms', 'text': 'Here industry is not in vain,\\nFor we have bounteous crops of grain,\\nAnd you behold on every field\\nOf grass and roots abundant yield,\\nBut after all the greatest charm\\nIs the snug home upon the farm,\\nAnd stone walls now keep cattle warm.'}]\n",
      "Canadian Charms\n",
      "Politeness, perseverance and pluck,\n",
      "To their possessor will bring good luck.\n",
      "\n"
     ]
    }
   ],
   "source": [
    "run c:\\users\\zzjack\\data_5_YAML.py"
   ]
  },
  {
   "cell_type": "code",
   "execution_count": null,
   "metadata": {
    "collapsed": true
   },
   "outputs": [],
   "source": []
  }
 ],
 "metadata": {
  "kernelspec": {
   "display_name": "Python 3",
   "language": "python",
   "name": "python3"
  },
  "language_info": {
   "codemirror_mode": {
    "name": "ipython",
    "version": 3
   },
   "file_extension": ".py",
   "mimetype": "text/x-python",
   "name": "python",
   "nbconvert_exporter": "python",
   "pygments_lexer": "ipython3",
   "version": "3.5.1"
  }
 },
 "nbformat": 4,
 "nbformat_minor": 0
}
