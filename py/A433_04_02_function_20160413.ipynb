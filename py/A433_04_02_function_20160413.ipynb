{
 "cells": [
  {
   "cell_type": "code",
   "execution_count": 2,
   "metadata": {
    "collapsed": true
   },
   "outputs": [],
   "source": [
    "#1. 定義函數 def"
   ]
  },
  {
   "cell_type": "code",
   "execution_count": 4,
   "metadata": {
    "collapsed": true
   },
   "outputs": [],
   "source": [
    "def do_nothing():   #def functin_name():\n",
    "    pass            #    ... 函數內容"
   ]
  },
  {
   "cell_type": "code",
   "execution_count": 5,
   "metadata": {
    "collapsed": true
   },
   "outputs": [],
   "source": [
    "#呼叫函數"
   ]
  },
  {
   "cell_type": "code",
   "execution_count": 6,
   "metadata": {
    "collapsed": true
   },
   "outputs": [],
   "source": [
    "do_nothing()"
   ]
  },
  {
   "cell_type": "code",
   "execution_count": 7,
   "metadata": {
    "collapsed": true
   },
   "outputs": [],
   "source": [
    "#2. 沒有參數的函數"
   ]
  },
  {
   "cell_type": "code",
   "execution_count": 8,
   "metadata": {
    "collapsed": true
   },
   "outputs": [],
   "source": [
    "def make_a_sound():\n",
    "    print('Ya')"
   ]
  },
  {
   "cell_type": "code",
   "execution_count": 9,
   "metadata": {
    "collapsed": false
   },
   "outputs": [
    {
     "name": "stdout",
     "output_type": "stream",
     "text": [
      "Ya\n"
     ]
    }
   ],
   "source": [
    "make_a_sound() #呼叫函數"
   ]
  },
  {
   "cell_type": "code",
   "execution_count": 10,
   "metadata": {
    "collapsed": true
   },
   "outputs": [],
   "source": [
    "#3. 沒有參數, return 一個值"
   ]
  },
  {
   "cell_type": "code",
   "execution_count": 11,
   "metadata": {
    "collapsed": true
   },
   "outputs": [],
   "source": [
    "def agree():\n",
    "    print('OK!')   #列印\n",
    "    return True    #回傳 True"
   ]
  },
  {
   "cell_type": "code",
   "execution_count": 12,
   "metadata": {
    "collapsed": false
   },
   "outputs": [
    {
     "name": "stdout",
     "output_type": "stream",
     "text": [
      "OK!\n",
      "呼叫成功!\n"
     ]
    }
   ],
   "source": [
    "if agree():             #呼叫函數 agree(), 除列印 'OK!'外,將回傳 True\n",
    "    print('呼叫成功!')\n",
    "else:\n",
    "    print('呼叫失敗!')   "
   ]
  },
  {
   "cell_type": "code",
   "execution_count": 22,
   "metadata": {
    "collapsed": false
   },
   "outputs": [
    {
     "name": "stdout",
     "output_type": "stream",
     "text": [
      "OK!\n",
      "True\n"
     ]
    }
   ],
   "source": [
    "print(agree()) #agree() 有指定回傳值"
   ]
  },
  {
   "cell_type": "code",
   "execution_count": 23,
   "metadata": {
    "collapsed": false
   },
   "outputs": [
    {
     "name": "stdout",
     "output_type": "stream",
     "text": [
      "Ya\n",
      "None\n"
     ]
    }
   ],
   "source": [
    "print(make_a_sound()) #make_a_sound() 沒有指定回傳值,將回傳 None "
   ]
  },
  {
   "cell_type": "code",
   "execution_count": 13,
   "metadata": {
    "collapsed": true
   },
   "outputs": [],
   "source": [
    "#4. 有輸入參數的函數"
   ]
  },
  {
   "cell_type": "code",
   "execution_count": 18,
   "metadata": {
    "collapsed": true
   },
   "outputs": [],
   "source": [
    "def echo(anything):\n",
    "    return anything+' '+anything"
   ]
  },
  {
   "cell_type": "code",
   "execution_count": 19,
   "metadata": {
    "collapsed": false
   },
   "outputs": [
    {
     "name": "stdout",
     "output_type": "stream",
     "text": [
      "Oh! Oh!\n"
     ]
    }
   ],
   "source": [
    "str1=echo('Oh!')\n",
    "print(str1)"
   ]
  },
  {
   "cell_type": "code",
   "execution_count": 20,
   "metadata": {
    "collapsed": true
   },
   "outputs": [],
   "source": [
    "#function2.py"
   ]
  },
  {
   "cell_type": "code",
   "execution_count": 21,
   "metadata": {
    "collapsed": false
   },
   "outputs": [
    {
     "name": "stdout",
     "output_type": "stream",
     "text": [
      "It's a tomato.\n",
      "??????\n"
     ]
    }
   ],
   "source": [
    "run function2.py"
   ]
  },
  {
   "cell_type": "code",
   "execution_count": 1,
   "metadata": {
    "collapsed": true
   },
   "outputs": [],
   "source": [
    "#位置引數\n",
    "#function3.py"
   ]
  },
  {
   "cell_type": "code",
   "execution_count": 6,
   "metadata": {
    "collapsed": false
   },
   "outputs": [
    {
     "name": "stdout",
     "output_type": "stream",
     "text": [
      "位置引數,叫用menu函數,依位置\n",
      "{'entree': 'Steek', 'dessert': 'cake', 'wine': 'Red wine'}\n",
      "-------------------------------------------------\n",
      "位置不同時,牛排當酒,紅酒當正餐!\n",
      "{'entree': 'Red winw', 'dessert': 'cake', 'wine': 'Steek'}\n",
      "-------------------------------------------------\n",
      "同樣是叫用menu(),用引數的對應參數名稱來指定引數,就不怕位置錯亂\n",
      "{'entree': '牛排', 'dessert': '小蛋糕', 'wine': '紅酒'}\n",
      "--------------------------------------------------------\n",
      "函數中有指定預設參數值\n",
      "叫用menu2()時,只給兩個引數\n",
      "{'entree': 'beef', 'dessert': 'pudding', 'wine': 'chardonnay'}\n",
      "叫用menu2()時,有給值則會蓋過預設值\n",
      "{'entree': 'beef', 'dessert': 'cake', 'wine': 'chardonnay'}\n",
      "-----------------------------------------------------\n",
      "用*來收集位置引數\n",
      "argument tuple: ()\n",
      "argument tuple: (3, 4, 5, 'a', 'b')\n",
      "--------------------------------------------------------\n",
      "#如果函數需要用到位置引數,就把 *arg 放在最後,抓取剩下的引數\n",
      "姓名: Jack 年齡: 30 其他引數 tuple: ()\n",
      "姓名: Jack 年齡: 30 其他引數 tuple: ('A', 'Kaohsiung', 100)\n",
      "--------------------------------------------------------\n",
      "用**來將關鍵字引數群組化，變成一個字典\n",
      "keyword arguments: {}\n",
      "keyword arguments: {'entree': 'beef', 'dessert': 'cake', 'wine': 'Red wine'}\n",
      "--------------------------------------------\n",
      "函數定義中可加入說明字串\n",
      "Hello\n",
      "Help on function echo in module __main__:\n",
      "\n",
      "echo(anything)\n",
      "    說明也\n",
      "    可以是很長\n",
      "    !\n",
      "\n",
      "No Python documentation found for '說明也\\n        可以是很長\\n        !'.\n",
      "Use help() to get the interactive help utility.\n",
      "Use help(str) for help on the str class.\n",
      "\n"
     ]
    }
   ],
   "source": [
    "run function3.py"
   ]
  },
  {
   "cell_type": "code",
   "execution_count": 7,
   "metadata": {
    "collapsed": false
   },
   "outputs": [
    {
     "name": "stdout",
     "output_type": "stream",
     "text": [
      "No Python documentation found for '說明也\\n        可以是很長\\n        !'.\n",
      "Use help() to get the interactive help utility.\n",
      "Use help(str) for help on the str class.\n",
      "\n"
     ]
    }
   ],
   "source": [
    "help(echo.__doc__)"
   ]
  },
  {
   "cell_type": "code",
   "execution_count": 8,
   "metadata": {
    "collapsed": false
   },
   "outputs": [
    {
     "name": "stdout",
     "output_type": "stream",
     "text": [
      "Help on function echo in module __main__:\n",
      "\n",
      "echo(anything)\n",
      "    說明也\n",
      "    可以是很長\n",
      "    !\n",
      "\n"
     ]
    }
   ],
   "source": [
    "help(echo)"
   ]
  },
  {
   "cell_type": "code",
   "execution_count": 7,
   "metadata": {
    "collapsed": false
   },
   "outputs": [
    {
     "name": "stdout",
     "output_type": "stream",
     "text": [
      "I am answer\n",
      "I am answer\n",
      "I am answer2\n",
      "I am answer2\n",
      "I am answer\n",
      "I am answer2\n",
      "---------------------------------------------------------------\n",
      "函數中，參數為其他函數名稱並可指定參數給它,另一個範例: (a*a)+(b*b*b)\n",
      "4*4+3*3*3= 43\n",
      "--------------------------------------------------------------\n",
      "將上述函數參數方法結合 *args或 **kwargs, 可取用任意數量參數\n",
      "sum2= 15\n",
      "sum3= 55\n",
      "--函數的參數中包含一個函數名稱及任意個數參數--\n",
      "sum4= 15\n",
      "-------------------------------------------------------------\n",
      "--內部函數-->在其他函數的裡面定義函數--\n",
      "叫用outer(4,7)\n",
      "r2= 22\n",
      "---------------------------------------------------\n",
      "--內部函數範例:將文字附加到它的引數:--\n",
      "叫用king()\n",
      "-------------------------------------------------\n",
      "--Closuer 範例: 改寫函數 king()--\n",
      "用不同引數呼叫king2()兩次:\n",
      "I am the king who say: 'First!'\n",
      "I am the king who say: 'Second!!'\n"
     ]
    }
   ],
   "source": [
    "run function4.py"
   ]
  },
  {
   "cell_type": "code",
   "execution_count": 9,
   "metadata": {
    "collapsed": false
   },
   "outputs": [
    {
     "name": "stdout",
     "output_type": "stream",
     "text": [
      "Thud!\n",
      "Meow!\n",
      "Thud!\n",
      "Hiss!\n",
      "----------------------------------------------------\n",
      "--將上述step1,2,3用lambda改寫--\n",
      "Thud!\n",
      "Meow!\n",
      "Thud!\n",
      "Hiss!\n"
     ]
    }
   ],
   "source": [
    "run function5_lambda.py"
   ]
  },
  {
   "cell_type": "code",
   "execution_count": null,
   "metadata": {
    "collapsed": true
   },
   "outputs": [],
   "source": []
  }
 ],
 "metadata": {
  "kernelspec": {
   "display_name": "Python 3",
   "language": "python",
   "name": "python3"
  },
  "language_info": {
   "codemirror_mode": {
    "name": "ipython",
    "version": 3
   },
   "file_extension": ".py",
   "mimetype": "text/x-python",
   "name": "python",
   "nbconvert_exporter": "python",
   "pygments_lexer": "ipython3",
   "version": "3.5.1"
  }
 },
 "nbformat": 4,
 "nbformat_minor": 0
}
