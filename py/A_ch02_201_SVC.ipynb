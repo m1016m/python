{
 "cells": [
  {
   "cell_type": "code",
   "execution_count": 1,
   "metadata": {},
   "outputs": [],
   "source": [
    "#A_ch02_201_SVC.ipynb\n",
    "#支援向量機分類器實作範例說明"
   ]
  },
  {
   "cell_type": "code",
   "execution_count": 2,
   "metadata": {},
   "outputs": [],
   "source": [
    "# import module\n",
    "from sklearn.svm import SVC\n",
    "from sklearn.datasets import load_breast_cancer\n",
    "from sklearn.model_selection import train_test_split"
   ]
  },
  {
   "cell_type": "code",
   "execution_count": 3,
   "metadata": {},
   "outputs": [],
   "source": [
    "# load data and split\n",
    "cancer=load_breast_cancer()\n",
    "X_train,X_test,y_train,y_test=train_test_split(\n",
    "cancer.data,cancer.target,random_state=0)"
   ]
  },
  {
   "cell_type": "code",
   "execution_count": 4,
   "metadata": {},
   "outputs": [],
   "source": [
    "# create a linearSVM model 'svc' by SVC(), 設定kernel='linear'\n",
    "svc=SVC(kernel='linear')"
   ]
  },
  {
   "cell_type": "code",
   "execution_count": 5,
   "metadata": {},
   "outputs": [
    {
     "data": {
      "text/plain": [
       "SVC(C=1.0, cache_size=200, class_weight=None, coef0=0.0,\n",
       "  decision_function_shape='ovr', degree=3, gamma='auto', kernel='linear',\n",
       "  max_iter=-1, probability=False, random_state=None, shrinking=True,\n",
       "  tol=0.001, verbose=False)"
      ]
     },
     "execution_count": 5,
     "metadata": {},
     "output_type": "execute_result"
    }
   ],
   "source": [
    "# 檢視 model\n",
    "svc"
   ]
  },
  {
   "cell_type": "code",
   "execution_count": 6,
   "metadata": {},
   "outputs": [
    {
     "data": {
      "text/plain": [
       "SVC(C=1.0, cache_size=200, class_weight=None, coef0=0.0,\n",
       "  decision_function_shape='ovr', degree=3, gamma='auto', kernel='linear',\n",
       "  max_iter=-1, probability=False, random_state=None, shrinking=True,\n",
       "  tol=0.001, verbose=False)"
      ]
     },
     "execution_count": 6,
     "metadata": {},
     "output_type": "execute_result"
    }
   ],
   "source": [
    "#fit model, using train data\n",
    "svc.fit(X_train,y_train)"
   ]
  },
  {
   "cell_type": "code",
   "execution_count": 7,
   "metadata": {},
   "outputs": [
    {
     "name": "stdout",
     "output_type": "stream",
     "text": [
      "SVC.support_vectors_  --> \n",
      " [[1.669e+01 2.020e+01 1.071e+02 ... 8.737e-02 4.677e-01 7.623e-02]\n",
      " [1.499e+01 2.520e+01 9.554e+01 ... 2.899e-02 1.565e-01 5.504e-02]\n",
      " [1.245e+01 1.570e+01 8.257e+01 ... 1.741e-01 3.985e-01 1.244e-01]\n",
      " ...\n",
      " [1.496e+01 1.910e+01 9.703e+01 ... 1.489e-01 2.962e-01 8.472e-02]\n",
      " [1.495e+01 1.877e+01 9.784e+01 ... 8.405e-02 2.852e-01 9.218e-02]\n",
      " [1.453e+01 1.934e+01 9.425e+01 ... 9.594e-02 2.471e-01 7.463e-02]]\n"
     ]
    }
   ],
   "source": [
    "# 列印 svc model fit 後, 學習出的支援向量(存放在 support_vectors_ 屬性內)\n",
    "print('SVC.support_vectors_  --> \\n',svc.support_vectors_)"
   ]
  },
  {
   "cell_type": "code",
   "execution_count": 8,
   "metadata": {},
   "outputs": [
    {
     "name": "stdout",
     "output_type": "stream",
     "text": [
      "SVC.dual_coef_  --> \n",
      " [[-0.67564511 -1.         -0.66311026 -0.4621508  -1.         -1.\n",
      "  -1.         -1.         -1.         -1.         -1.         -1.\n",
      "  -1.         -1.         -1.         -1.         -1.         -1.\n",
      "  -1.         -1.         -1.          1.          1.          0.30345471\n",
      "   1.          1.          1.          1.          0.81814273  1.\n",
      "   1.          1.          1.          1.          1.          1.\n",
      "   0.32359213  1.          1.          0.74410439  0.04488603  1.\n",
      "   0.56672617  1.        ]]\n"
     ]
    }
   ],
   "source": [
    "# 列印 dual_coef_ 屬性\n",
    "print('SVC.dual_coef_  --> \\n',svc.dual_coef_)"
   ]
  },
  {
   "cell_type": "code",
   "execution_count": 9,
   "metadata": {},
   "outputs": [
    {
     "name": "stdout",
     "output_type": "stream",
     "text": [
      "Accuracy on training set: 0.9671361502347418\n",
      "Accuracy on test set: 0.958041958041958\n"
     ]
    }
   ],
   "source": [
    "# 以 train data 及 test data 分別評估模型\n",
    "print(\"Accuracy on training set:\",svc.score(X_train,y_train))\n",
    "print(\"Accuracy on test set:\",svc.score(X_test,y_test))"
   ]
  },
  {
   "cell_type": "code",
   "execution_count": 10,
   "metadata": {},
   "outputs": [],
   "source": [
    "# 練習1: 分別以 NuSVC及LinearSVC 實作, 檢視成績\n",
    "#        注意! LinearSVC 沒有 kernel 參數, 它預設就是線性"
   ]
  },
  {
   "cell_type": "code",
   "execution_count": 11,
   "metadata": {},
   "outputs": [],
   "source": [
    "# 練習2: 以上述 SVM model,對鳶尾花資料集(iris dataset) 做多元分類\n",
    "#        參考解答: A_ch02_202_SVC_iris.ipynb"
   ]
  },
  {
   "cell_type": "code",
   "execution_count": null,
   "metadata": {},
   "outputs": [],
   "source": []
  }
 ],
 "metadata": {
  "kernelspec": {
   "display_name": "Python 3",
   "language": "python",
   "name": "python3"
  },
  "language_info": {
   "codemirror_mode": {
    "name": "ipython",
    "version": 3
   },
   "file_extension": ".py",
   "mimetype": "text/x-python",
   "name": "python",
   "nbconvert_exporter": "python",
   "pygments_lexer": "ipython3",
   "version": "3.6.4"
  }
 },
 "nbformat": 4,
 "nbformat_minor": 2
}
