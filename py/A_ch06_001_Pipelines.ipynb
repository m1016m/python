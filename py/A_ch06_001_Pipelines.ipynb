{
 "cells": [
  {
   "cell_type": "code",
   "execution_count": 1,
   "metadata": {
    "collapsed": true
   },
   "outputs": [],
   "source": [
    "#A_ch06_001_Pipelines.ipynb"
   ]
  },
  {
   "cell_type": "code",
   "execution_count": 1,
   "metadata": {
    "collapsed": true
   },
   "outputs": [],
   "source": [
    "#step 0a: 載入原始資料集(from UCI machine learning repository)\n",
    "#         569個樣本,每個樣本32個column(行)\n",
    "#         第1個column是「unique ID number」, 第2個column是label(M=Malignant,B=Benign)\n",
    "#         第3-32行是30個實數特徵(feature)"
   ]
  },
  {
   "cell_type": "code",
   "execution_count": 9,
   "metadata": {
    "collapsed": true
   },
   "outputs": [],
   "source": [
    "#step 0a-1: 使用pandas.read_csv() 讀取原始資料 'wdbc.data', 成為 dataframe 'cancer_df'\n",
    "#https://archive.ics.uci.edu/ml/machine-learning-databases/breast-cancer-wisconsin/wdbc.data\n",
    "import pandas as pd\n",
    "cancer_df=pd.read_csv('wdbc.data',header=None) #header=None"
   ]
  },
  {
   "cell_type": "code",
   "execution_count": 12,
   "metadata": {
    "collapsed": true
   },
   "outputs": [],
   "source": [
    "#step 0a-2: 使用dataframe.loc 裁取3-32行(30個特徵), 並取出dataframe.values(是ndarray) 'X'\n",
    "#                             裁取2行(label), 並取出dataframe.values(是ndarray) 'y'\n",
    "X=cancer_df.loc[:,2:].values\n",
    "y=cancer_df.loc[:,1].values"
   ]
  },
  {
   "cell_type": "code",
   "execution_count": 13,
   "metadata": {
    "collapsed": false
   },
   "outputs": [
    {
     "data": {
      "text/plain": [
       "array([1, 0], dtype=int64)"
      ]
     },
     "execution_count": 13,
     "metadata": {},
     "output_type": "execute_result"
    }
   ],
   "source": [
    "#step 0a-3: 使用 LabelEncoder 將Label字串('M'/'B') 轉成整數 1 / 0\n",
    "from sklearn.preprocessing import LabelEncoder\n",
    "lbc=LabelEncoder()      #create LabelEncoder object 'lbc'\n",
    "y=lbc.fit_transform(y)  #以 y fit 'lbc'\n",
    "lbc.transform(['M','B']) #transform"
   ]
  },
  {
   "cell_type": "code",
   "execution_count": 15,
   "metadata": {
    "collapsed": true
   },
   "outputs": [],
   "source": [
    "#step 0a-4: train_test_split\n",
    "from sklearn.model_selection import train_test_split\n",
    "X_train,X_test,y_train,y_test=train_test_split(X,y,random_state=0)"
   ]
  },
  {
   "cell_type": "code",
   "execution_count": null,
   "metadata": {
    "collapsed": true
   },
   "outputs": [],
   "source": [
    "#=================================================================\n",
    "# 如果你只要使用現成(已處理好)的資料集 step 0b."
   ]
  },
  {
   "cell_type": "code",
   "execution_count": 2,
   "metadata": {
    "collapsed": true
   },
   "outputs": [],
   "source": [
    "#step 0b: 載入範例資料集(現成的,sklearn.datasets) --> breast_cancer\n",
    "from sklearn.datasets import load_breast_cancer"
   ]
  },
  {
   "cell_type": "code",
   "execution_count": 4,
   "metadata": {
    "collapsed": true
   },
   "outputs": [],
   "source": [
    "#step 1: 演算法 --> SVC, 預處理 --> MinMaxScaler\n",
    "from sklearn.svm import SVC\n",
    "from sklearn.model_selection import train_test_split\n",
    "from sklearn.preprocessing import MinMaxScaler"
   ]
  },
  {
   "cell_type": "code",
   "execution_count": 5,
   "metadata": {
    "collapsed": true
   },
   "outputs": [],
   "source": [
    "#step 2: 載入與分割資料\n",
    "cancer=load_breast_cancer()\n",
    "X_train,X_test,y_train,y_test=train_test_split(cancer.data,cancer.target,random_state=0)"
   ]
  },
  {
   "cell_type": "code",
   "execution_count": 7,
   "metadata": {
    "collapsed": true
   },
   "outputs": [],
   "source": [
    "#step 3: 計算訓練資料集 'X_train' 內，最小和最大值\n",
    "scaler=MinMaxScaler()"
   ]
  },
  {
   "cell_type": "code",
   "execution_count": 17,
   "metadata": {
    "collapsed": true
   },
   "outputs": [],
   "source": [
    "scaler?"
   ]
  },
  {
   "cell_type": "code",
   "execution_count": 10,
   "metadata": {
    "collapsed": true
   },
   "outputs": [],
   "source": [
    "scaler=scaler.fit(X_train)"
   ]
  },
  {
   "cell_type": "code",
   "execution_count": 16,
   "metadata": {
    "collapsed": false
   },
   "outputs": [
    {
     "data": {
      "text/plain": [
       "array([[  1.18500000e+01,   1.74600000e+01,   7.55400000e+01, ...,\n",
       "          9.14000000e-02,   3.10100000e-01,   7.00700000e-02],\n",
       "       [  1.12200000e+01,   1.98600000e+01,   7.19400000e+01, ...,\n",
       "          2.02200000e-02,   3.29200000e-01,   6.52200000e-02],\n",
       "       [  2.01300000e+01,   2.82500000e+01,   1.31200000e+02, ...,\n",
       "          1.62800000e-01,   2.57200000e-01,   6.63700000e-02],\n",
       "       ..., \n",
       "       [  9.43600000e+00,   1.83200000e+01,   5.98200000e+01, ...,\n",
       "          5.05200000e-02,   2.45400000e-01,   8.13600000e-02],\n",
       "       [  9.72000000e+00,   1.82200000e+01,   6.07300000e+01, ...,\n",
       "          0.00000000e+00,   1.90900000e-01,   6.55900000e-02],\n",
       "       [  1.15100000e+01,   2.39300000e+01,   7.45200000e+01, ...,\n",
       "          9.65300000e-02,   2.11200000e-01,   8.73200000e-02]])"
      ]
     },
     "execution_count": 16,
     "metadata": {},
     "output_type": "execute_result"
    }
   ],
   "source": [
    "X_train"
   ]
  },
  {
   "cell_type": "code",
   "execution_count": 12,
   "metadata": {
    "collapsed": false
   },
   "outputs": [
    {
     "data": {
      "text/plain": [
       "array([  2.81100000e+01,   3.38100000e+01,   1.88500000e+02,\n",
       "         2.50100000e+03,   1.44700000e-01,   3.11400000e-01,\n",
       "         4.26800000e-01,   2.01200000e-01,   3.04000000e-01,\n",
       "         9.74400000e-02,   2.87300000e+00,   4.88500000e+00,\n",
       "         2.19800000e+01,   5.42200000e+02,   2.33300000e-02,\n",
       "         1.06400000e-01,   3.96000000e-01,   5.27900000e-02,\n",
       "         6.14600000e-02,   2.98400000e-02,   3.60400000e+01,\n",
       "         4.95400000e+01,   2.51200000e+02,   4.25400000e+03,\n",
       "         2.22600000e-01,   1.05800000e+00,   1.25200000e+00,\n",
       "         2.90300000e-01,   6.63800000e-01,   2.07500000e-01])"
      ]
     },
     "execution_count": 12,
     "metadata": {},
     "output_type": "execute_result"
    }
   ],
   "source": [
    "scaler.data_max_"
   ]
  },
  {
   "cell_type": "code",
   "execution_count": 13,
   "metadata": {
    "collapsed": false
   },
   "outputs": [
    {
     "data": {
      "text/plain": [
       "array([  6.98100000e+00,   9.71000000e+00,   4.37900000e+01,\n",
       "         1.43500000e+02,   5.26300000e-02,   1.93800000e-02,\n",
       "         0.00000000e+00,   0.00000000e+00,   1.06000000e-01,\n",
       "         4.99600000e-02,   1.11500000e-01,   3.62800000e-01,\n",
       "         7.57000000e-01,   7.22800000e+00,   1.71300000e-03,\n",
       "         2.25200000e-03,   0.00000000e+00,   0.00000000e+00,\n",
       "         7.88200000e-03,   8.94800000e-04,   7.93000000e+00,\n",
       "         1.20200000e+01,   5.04100000e+01,   1.85200000e+02,\n",
       "         7.11700000e-02,   2.72900000e-02,   0.00000000e+00,\n",
       "         0.00000000e+00,   1.56500000e-01,   5.50400000e-02])"
      ]
     },
     "execution_count": 13,
     "metadata": {},
     "output_type": "execute_result"
    }
   ],
   "source": [
    "scaler.data_min_"
   ]
  },
  {
   "cell_type": "code",
   "execution_count": 18,
   "metadata": {
    "collapsed": false
   },
   "outputs": [
    {
     "data": {
      "text/plain": [
       "array([  2.11290000e+01,   2.41000000e+01,   1.44710000e+02,\n",
       "         2.35750000e+03,   9.20700000e-02,   2.92020000e-01,\n",
       "         4.26800000e-01,   2.01200000e-01,   1.98000000e-01,\n",
       "         4.74800000e-02,   2.76150000e+00,   4.52220000e+00,\n",
       "         2.12230000e+01,   5.34972000e+02,   2.16170000e-02,\n",
       "         1.04148000e-01,   3.96000000e-01,   5.27900000e-02,\n",
       "         5.35780000e-02,   2.89452000e-02,   2.81100000e+01,\n",
       "         3.75200000e+01,   2.00790000e+02,   4.06880000e+03,\n",
       "         1.51430000e-01,   1.03071000e+00,   1.25200000e+00,\n",
       "         2.90300000e-01,   5.07300000e-01,   1.52460000e-01])"
      ]
     },
     "execution_count": 18,
     "metadata": {},
     "output_type": "execute_result"
    }
   ],
   "source": [
    "scaler.data_range_"
   ]
  },
  {
   "cell_type": "code",
   "execution_count": 19,
   "metadata": {
    "collapsed": true
   },
   "outputs": [],
   "source": [
    "#step 4: 重新縮放訓練資料 'X_train'\n",
    "X_train_scaled=scaler.transform(X_train)"
   ]
  },
  {
   "cell_type": "code",
   "execution_count": 20,
   "metadata": {
    "collapsed": true
   },
   "outputs": [],
   "source": [
    "#step 5: 建立 SVC model 'svcModel'\n",
    "svcModel=SVC()"
   ]
  },
  {
   "cell_type": "code",
   "execution_count": 22,
   "metadata": {
    "collapsed": false
   },
   "outputs": [
    {
     "data": {
      "text/plain": [
       "SVC(C=1.0, cache_size=200, class_weight=None, coef0=0.0,\n",
       "  decision_function_shape='ovr', degree=3, gamma='auto', kernel='rbf',\n",
       "  max_iter=-1, probability=False, random_state=None, shrinking=True,\n",
       "  tol=0.001, verbose=False)"
      ]
     },
     "execution_count": 22,
     "metadata": {},
     "output_type": "execute_result"
    }
   ],
   "source": [
    "#step 6: 以縮放過的資料 'X_train_scaled' 訓練模型\n",
    "svcModel.fit(X_train_scaled,y_train)"
   ]
  },
  {
   "cell_type": "code",
   "execution_count": 30,
   "metadata": {
    "collapsed": true
   },
   "outputs": [],
   "source": [
    "#step 7: score svcModel\n",
    "#step 7.1 先將 'X_test' 縮放為 'X_test_scaled' --> scaler.transform()\n",
    "X_test_scaled=scaler.transform(X_test)"
   ]
  },
  {
   "cell_type": "code",
   "execution_count": 31,
   "metadata": {
    "collapsed": false
   },
   "outputs": [
    {
     "data": {
      "text/plain": [
       "0.95104895104895104"
      ]
     },
     "execution_count": 31,
     "metadata": {},
     "output_type": "execute_result"
    }
   ],
   "source": [
    "svcModel.score(X_test_scaled,y_test)"
   ]
  },
  {
   "cell_type": "code",
   "execution_count": null,
   "metadata": {
    "collapsed": true
   },
   "outputs": [],
   "source": []
  }
 ],
 "metadata": {
  "anaconda-cloud": {},
  "kernelspec": {
   "display_name": "Python 3",
   "language": "python",
   "name": "python3"
  },
  "language_info": {
   "codemirror_mode": {
    "name": "ipython",
    "version": 3
   },
   "file_extension": ".py",
   "mimetype": "text/x-python",
   "name": "python",
   "nbconvert_exporter": "python",
   "pygments_lexer": "ipython3",
   "version": "3.5.2"
  }
 },
 "nbformat": 4,
 "nbformat_minor": 1
}
