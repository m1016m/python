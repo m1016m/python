{
 "cells": [
  {
   "cell_type": "code",
   "execution_count": 1,
   "metadata": {
    "collapsed": true
   },
   "outputs": [],
   "source": [
    "#web_scraping_06_regular_expressions_20160716"
   ]
  },
  {
   "cell_type": "code",
   "execution_count": 2,
   "metadata": {
    "collapsed": true
   },
   "outputs": [],
   "source": [
    "import re #import re (reqular expressions) module"
   ]
  },
  {
   "cell_type": "code",
   "execution_count": 3,
   "metadata": {
    "collapsed": true
   },
   "outputs": [],
   "source": [
    "#search() / findall() function, 取出匹配項目"
   ]
  },
  {
   "cell_type": "code",
   "execution_count": 4,
   "metadata": {
    "collapsed": true
   },
   "outputs": [],
   "source": [
    "source='My country is Taiwan, I love Taiwan'"
   ]
  },
  {
   "cell_type": "code",
   "execution_count": 5,
   "metadata": {
    "collapsed": false
   },
   "outputs": [
    {
     "name": "stdout",
     "output_type": "stream",
     "text": [
      "找到了!\n"
     ]
    }
   ],
   "source": [
    "if re.search('Taiwan',source): #字串'Taiwan'在 source 中\n",
    "    print('找到了!')"
   ]
  },
  {
   "cell_type": "code",
   "execution_count": 6,
   "metadata": {
    "collapsed": false
   },
   "outputs": [],
   "source": [
    "r=len(re.findall('Taiwan',source)) #'Taiwan' 在 source 中出現兩次"
   ]
  },
  {
   "cell_type": "code",
   "execution_count": 7,
   "metadata": {
    "collapsed": false
   },
   "outputs": [
    {
     "data": {
      "text/plain": [
       "2"
      ]
     },
     "execution_count": 7,
     "metadata": {},
     "output_type": "execute_result"
    }
   ],
   "source": [
    "r"
   ]
  },
  {
   "cell_type": "code",
   "execution_count": 8,
   "metadata": {
    "collapsed": true
   },
   "outputs": [],
   "source": [
    "#example 1: regular expression \"aa*bbb(cc)*(d | )\"\n",
    "            #第一個字是 a\n",
    "            #第二個字 a* --> 零個到多個 a\n",
    "            #bbb\n",
    "            #(cc)* --> 零個到多個 'cc'\n",
    "            #結尾是(d | ) --> 'd ' or ' '"
   ]
  },
  {
   "cell_type": "code",
   "execution_count": 9,
   "metadata": {
    "collapsed": false
   },
   "outputs": [
    {
     "name": "stdout",
     "output_type": "stream",
     "text": [
      "符合!\n"
     ]
    }
   ],
   "source": [
    "if re.search('aa*bbb(cc)*(d | )','aaabbbccccd '):\n",
    "    print(\"符合!\")"
   ]
  },
  {
   "cell_type": "code",
   "execution_count": 10,
   "metadata": {
    "collapsed": false
   },
   "outputs": [
    {
     "name": "stdout",
     "output_type": "stream",
     "text": [
      "符合!\n"
     ]
    }
   ],
   "source": [
    "if re.search('aa*bbb(cc)*(d | )','abbbcc '):\n",
    "    print(\"符合!\")"
   ]
  },
  {
   "cell_type": "code",
   "execution_count": 11,
   "metadata": {
    "collapsed": false
   },
   "outputs": [],
   "source": [
    "if re.search('aa*bbb(cc)*(d | )','aaaaaabbbcccd '):\n",
    "    print(\"符合!\")"
   ]
  },
  {
   "cell_type": "code",
   "execution_count": 12,
   "metadata": {
    "collapsed": true
   },
   "outputs": [],
   "source": [
    "#練習1: b? --> 零個或一個 'b';  a* -->零個或多個 'a'; (d|e) --> 'd' or 'e'  "
   ]
  },
  {
   "cell_type": "code",
   "execution_count": 13,
   "metadata": {
    "collapsed": false
   },
   "outputs": [
    {
     "name": "stdout",
     "output_type": "stream",
     "text": [
      "符合!\n"
     ]
    }
   ],
   "source": [
    "if re.search('a*b?(ccc)*(d|e)','aaabcccccce'):\n",
    "    print(\"符合!\")"
   ]
  },
  {
   "cell_type": "code",
   "execution_count": 14,
   "metadata": {
    "collapsed": true
   },
   "outputs": [],
   "source": [
    "#練習2: 'Taiwanese', [Tt]--> 'T' or 't'; .--> '\\n'之外任何單一字元"
   ]
  },
  {
   "cell_type": "code",
   "execution_count": 15,
   "metadata": {
    "collapsed": false
   },
   "outputs": [
    {
     "name": "stdout",
     "output_type": "stream",
     "text": [
      "符合!\n"
     ]
    }
   ],
   "source": [
    "if re.search('[Tt]a..a?....','Taiwanese'):\n",
    "    print(\"符合!\")"
   ]
  },
  {
   "cell_type": "code",
   "execution_count": 16,
   "metadata": {
    "collapsed": true
   },
   "outputs": [],
   "source": [
    "#練習3: 'Taiwan No1!', '\\d'-->一個數字字元; '\\w'-->一個英數字元; '\\s'-->一個空白字元\n",
    "#                      '\\W'-->一個非英數字元"
   ]
  },
  {
   "cell_type": "code",
   "execution_count": 17,
   "metadata": {
    "collapsed": false
   },
   "outputs": [
    {
     "name": "stdout",
     "output_type": "stream",
     "text": [
      " No1!\n"
     ]
    }
   ],
   "source": [
    "source='Taiwan No1!'\n",
    "m=re.search(r'\\s.\\w\\d\\W',source)  # r --> 不理會跳脫字元\n",
    "if m:\n",
    "    print(m.group())"
   ]
  },
  {
   "cell_type": "code",
   "execution_count": 18,
   "metadata": {
    "collapsed": true
   },
   "outputs": [],
   "source": [
    "#練習4: 'Taiwan No1!', '\\b'--> 一個單字範圍"
   ]
  },
  {
   "cell_type": "code",
   "execution_count": 19,
   "metadata": {
    "collapsed": false
   },
   "outputs": [
    {
     "name": "stdout",
     "output_type": "stream",
     "text": [
      " No1!\n"
     ]
    }
   ],
   "source": [
    "m=re.search(r'\\b\\s...!',source)\n",
    "if m:\n",
    "    print(m.group())"
   ]
  },
  {
   "cell_type": "code",
   "execution_count": null,
   "metadata": {
    "collapsed": true
   },
   "outputs": [],
   "source": []
  }
 ],
 "metadata": {
  "kernelspec": {
   "display_name": "Python 3",
   "language": "python",
   "name": "python3"
  },
  "language_info": {
   "codemirror_mode": {
    "name": "ipython",
    "version": 3
   },
   "file_extension": ".py",
   "mimetype": "text/x-python",
   "name": "python",
   "nbconvert_exporter": "python",
   "pygments_lexer": "ipython3",
   "version": "3.5.1"
  }
 },
 "nbformat": 4,
 "nbformat_minor": 0
}
