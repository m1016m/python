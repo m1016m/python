{
 "cells": [
  {
   "cell_type": "code",
   "execution_count": 1,
   "metadata": {
    "collapsed": true
   },
   "outputs": [],
   "source": [
    "#Broadcast 廣播變數"
   ]
  },
  {
   "cell_type": "code",
   "execution_count": 2,
   "metadata": {
    "collapsed": true
   },
   "outputs": [],
   "source": [
    "#step1. 不使用Broadcast"
   ]
  },
  {
   "cell_type": "code",
   "execution_count": 3,
   "metadata": {
    "collapsed": true
   },
   "outputs": [],
   "source": [
    "kvFruit=sc.parallelize([(1,\"apple\"),(2,\"orange\"),(3,\"banana\"),(4,\"grape\")])"
   ]
  },
  {
   "cell_type": "code",
   "execution_count": 4,
   "metadata": {
    "collapsed": true
   },
   "outputs": [],
   "source": [
    "kvMap=kvFruit.collectAsMap() #使用collectAsMap() 將RDD轉成 python dict."
   ]
  },
  {
   "cell_type": "code",
   "execution_count": 5,
   "metadata": {
    "collapsed": false
   },
   "outputs": [
    {
     "data": {
      "text/plain": [
       "{1: 'apple', 2: 'orange', 3: 'banana', 4: 'grape'}"
      ]
     },
     "execution_count": 5,
     "metadata": {},
     "output_type": "execute_result"
    }
   ],
   "source": [
    "kvMap #dictionary"
   ]
  },
  {
   "cell_type": "code",
   "execution_count": 6,
   "metadata": {
    "collapsed": false
   },
   "outputs": [
    {
     "name": "stdout",
     "output_type": "stream",
     "text": [
      "水果編號：[2, 4, 1, 3]\n"
     ]
    }
   ],
   "source": [
    "#建立fruitds\n",
    "fruitds=sc.parallelize([2,4,1,3])\n",
    "print(\"水果編號：\"+str(fruitds.collect()))"
   ]
  },
  {
   "cell_type": "code",
   "execution_count": 8,
   "metadata": {
    "collapsed": false
   },
   "outputs": [
    {
     "name": "stdout",
     "output_type": "stream",
     "text": [
      "使用 kvMap進行水果名稱轉換\n",
      "水果名稱：['orange', 'grape', 'apple', 'banana']\n"
     ]
    }
   ],
   "source": [
    "#使用dict. kvMap進行水果名稱轉換\n",
    "print(\"使用 kvMap進行水果名稱轉換\")\n",
    "fruitName=fruitds.map(lambda x:kvMap[x]).collect()\n",
    "print(\"水果名稱：\"+str(fruitName))"
   ]
  },
  {
   "cell_type": "code",
   "execution_count": 9,
   "metadata": {
    "collapsed": true
   },
   "outputs": [],
   "source": [
    "#step2. 使用Broadcast 廣播變數改寫 step1."
   ]
  },
  {
   "cell_type": "code",
   "execution_count": 10,
   "metadata": {
    "collapsed": true
   },
   "outputs": [],
   "source": [
    "#建立kvFruit\n",
    "kvFruit=sc.parallelize([(1,\"apple\"),(2,\"orange\"),(3,\"banana\"),(4,\"grape\")])"
   ]
  },
  {
   "cell_type": "code",
   "execution_count": 11,
   "metadata": {
    "collapsed": false
   },
   "outputs": [
    {
     "name": "stdout",
     "output_type": "stream",
     "text": [
      "對照表{1: 'apple', 2: 'orange', 3: 'banana', 4: 'grape'}\n"
     ]
    }
   ],
   "source": [
    "#以collectAsMap() 將kvFruit RDD 建為 python dictionary kvMap\n",
    "kvMap=kvFruit.collectAsMap()\n",
    "print(\"對照表\"+str(kvMap))"
   ]
  },
  {
   "cell_type": "code",
   "execution_count": 12,
   "metadata": {
    "collapsed": true
   },
   "outputs": [],
   "source": [
    "#將dict kvMap 轉成 bcFruitMap 廣播變數, 使用sc.broadcast()\n",
    "bcFruitMap=sc.broadcast(kvMap)"
   ]
  },
  {
   "cell_type": "code",
   "execution_count": 13,
   "metadata": {
    "collapsed": true
   },
   "outputs": [],
   "source": [
    "#建立fruitds\n",
    "fruitds=sc.parallelize([2,2,4,1])"
   ]
  },
  {
   "cell_type": "code",
   "execution_count": 14,
   "metadata": {
    "collapsed": false
   },
   "outputs": [
    {
     "name": "stdout",
     "output_type": "stream",
     "text": [
      "水果名稱：['orange', 'orange', 'grape', 'apple']\n"
     ]
    }
   ],
   "source": [
    "#使用bcFruitMap.value 進行轉換\n",
    "fruitName=fruitds.map(lambda x:bcFruitMap.value[x]).collect()\n",
    "print(\"水果名稱：\"+str(fruitName))"
   ]
  },
  {
   "cell_type": "code",
   "execution_count": 15,
   "metadata": {
    "collapsed": true
   },
   "outputs": [],
   "source": [
    "#accumulator累加器共享變數"
   ]
  },
  {
   "cell_type": "code",
   "execution_count": 16,
   "metadata": {
    "collapsed": true
   },
   "outputs": [],
   "source": [
    "#step1. accumulator累加器範例"
   ]
  },
  {
   "cell_type": "code",
   "execution_count": 17,
   "metadata": {
    "collapsed": true
   },
   "outputs": [],
   "source": [
    "#建立RDD\n",
    "intRDD=sc.parallelize([3,4,5,8,1,2])"
   ]
  },
  {
   "cell_type": "code",
   "execution_count": 18,
   "metadata": {
    "collapsed": true
   },
   "outputs": [],
   "source": [
    "total=sc.accumulator(0.0) #建立累加器 total, 起始值 0.0 (double)\n",
    "num=sc.accumulator(0)    #建立累加器num,起始值 0 (int)"
   ]
  },
  {
   "cell_type": "code",
   "execution_count": 19,
   "metadata": {
    "collapsed": true
   },
   "outputs": [],
   "source": [
    "#使用foreach傳入參數\n",
    "intRDD.foreach(lambda i : [total.add(i), num.add(i)])"
   ]
  },
  {
   "cell_type": "code",
   "execution_count": 24,
   "metadata": {
    "collapsed": false
   },
   "outputs": [
    {
     "name": "stdout",
     "output_type": "stream",
     "text": [
      "('sum:23.0', 'count:23')\n"
     ]
    }
   ],
   "source": [
    "print(\"sum:\"+str(total.value), \"count:\"+str(num.value))"
   ]
  },
  {
   "cell_type": "code",
   "execution_count": null,
   "metadata": {
    "collapsed": true
   },
   "outputs": [],
   "source": []
  }
 ],
 "metadata": {
  "kernelspec": {
   "display_name": "Python 2",
   "language": "python",
   "name": "python2"
  },
  "language_info": {
   "codemirror_mode": {
    "name": "ipython",
    "version": 2
   },
   "file_extension": ".py",
   "mimetype": "text/x-python",
   "name": "python",
   "nbconvert_exporter": "python",
   "pygments_lexer": "ipython2",
   "version": "2.7.13"
  }
 },
 "nbformat": 4,
 "nbformat_minor": 0
}
