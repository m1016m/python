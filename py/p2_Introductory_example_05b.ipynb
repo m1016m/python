# -*- coding: utf-8 -*-
"""
Created on Wed Aug  3 10:36:59 2016

@author: zzjack
"""
from urllib.request import urlopen
from bs4 import BeautifulSoup

html=urlopen("http://www.iiiedu.org.tw/south/")
bsObj=BeautifulSoup(html,'lxml')
print(bsObj.html.body)