{
 "cells": [
  {
   "cell_type": "code",
   "execution_count": 1,
   "metadata": {
    "collapsed": true
   },
   "outputs": [],
   "source": [
    "#06_DataLoading_01a_20160818, csv範例檔,證交所網站資料"
   ]
  },
  {
   "cell_type": "code",
   "execution_count": 2,
   "metadata": {
    "collapsed": true
   },
   "outputs": [],
   "source": [
    "import pandas as pd"
   ]
  },
  {
   "cell_type": "code",
   "execution_count": 3,
   "metadata": {
    "collapsed": true
   },
   "outputs": [],
   "source": [
    "from pandas import DataFrame,Series"
   ]
  },
  {
   "cell_type": "code",
   "execution_count": 4,
   "metadata": {
    "collapsed": true
   },
   "outputs": [],
   "source": [
    "import numpy as np"
   ]
  },
  {
   "cell_type": "code",
   "execution_count": 5,
   "metadata": {
    "collapsed": true
   },
   "outputs": [],
   "source": [
    "import matplotlib.pyplot as plt"
   ]
  },
  {
   "cell_type": "code",
   "execution_count": 6,
   "metadata": {
    "collapsed": true
   },
   "outputs": [],
   "source": [
    "%matplotlib inline"
   ]
  },
  {
   "cell_type": "code",
   "execution_count": 7,
   "metadata": {
    "collapsed": true
   },
   "outputs": [],
   "source": [
    "#file '2016072630_process_6.txt'"
   ]
  },
  {
   "cell_type": "code",
   "execution_count": 8,
   "metadata": {
    "collapsed": false
   },
   "outputs": [
    {
     "name": "stdout",
     "output_type": "stream",
     "text": [
      "嚜輯����訾誨���,霅���詨��蝔�,���鈭方�⊥��,���鈭斤�����,���鈭日��憿�,���鈭文��,���敺���剔內鞎瑕��,���敺���剔內鞎琿��,���敺���剔內鞈����,���敺���剔內鞈����\n",
      "2427,銝�������          ,\"1,457\",6,\"11,071\",7.6,7.6,\"1,235\",7.69,901\n",
      "2453,���蝢�            ,324,1,\"3,790\",11.7,11.7,675,11.9,816\n",
      "2468,��舐��            ,0,0,0,--,10.9,999,11,465\n",
      "2471,鞈����            ,300,3,\"4,063\",13.55,13.55,\"3,001\",13.65,847\n",
      "2480,��阡�賜��          ,660,5,\"16,300\",24.7,24.7,\"32,962\",24.8,\"1,398\"\n",
      "3029,��嗅ㄨ            ,400,5,\"7,200\",18,17.95,\"3,533\",18,\"2,230\"\n",
      "3130,銝���嗅��          ,63,3,\"8,599\",136.5,136.5,\"1,517\",139.5,306\n",
      "4994,��喳��            ,470,3,\"27,165\",57.8,57.6,\"2,498\",57.8,\"2,021\"\n",
      "5203,閮����            ,\"1,020\",8,\"72,824\",71.4,71.4,\"2,985\",71.7,\"4,604\"\n",
      "6112,���蝣�            ,161,3,\"4,249\",26.4,26.4,\"5,530\",26.5,990\n",
      "6183,���鞎�            ,0,0,0,--,26.2,\"2,498\",26.4,\"1,105\"\n",
      "6214,蝎曇��            ,\"1,340\",10,\"70,479\",52.6,52.6,\"63,205\",52.7,\"3,563\"\n"
     ]
    }
   ],
   "source": [
    "!type 2016072630_process_6.txt"
   ]
  },
  {
   "cell_type": "code",
   "execution_count": 9,
   "metadata": {
    "collapsed": false
   },
   "outputs": [],
   "source": [
    "df2=pd.read_csv('2016072630_process_6.txt') #檔案必須為 'UTF-8' 編碼 "
   ]
  },
  {
   "cell_type": "code",
   "execution_count": 10,
   "metadata": {
    "collapsed": false
   },
   "outputs": [
    {
     "data": {
      "text/html": [
       "<div>\n",
       "<table border=\"1\" class=\"dataframe\">\n",
       "  <thead>\n",
       "    <tr style=\"text-align: right;\">\n",
       "      <th></th>\n",
       "      <th>﻿證券代號</th>\n",
       "      <th>證券名稱</th>\n",
       "      <th>成交股數</th>\n",
       "      <th>成交筆數</th>\n",
       "      <th>成交金額</th>\n",
       "      <th>成交價</th>\n",
       "      <th>最後揭示買價</th>\n",
       "      <th>最後揭示買量</th>\n",
       "      <th>最後揭示賣價</th>\n",
       "      <th>最後揭示賣量</th>\n",
       "    </tr>\n",
       "  </thead>\n",
       "  <tbody>\n",
       "    <tr>\n",
       "      <th>0</th>\n",
       "      <td>2427</td>\n",
       "      <td>三商電</td>\n",
       "      <td>1,457</td>\n",
       "      <td>6</td>\n",
       "      <td>11,071</td>\n",
       "      <td>7.6</td>\n",
       "      <td>7.60</td>\n",
       "      <td>1,235</td>\n",
       "      <td>7.69</td>\n",
       "      <td>901</td>\n",
       "    </tr>\n",
       "    <tr>\n",
       "      <th>1</th>\n",
       "      <td>2453</td>\n",
       "      <td>凌群</td>\n",
       "      <td>324</td>\n",
       "      <td>1</td>\n",
       "      <td>3,790</td>\n",
       "      <td>11.7</td>\n",
       "      <td>11.70</td>\n",
       "      <td>675</td>\n",
       "      <td>11.90</td>\n",
       "      <td>816</td>\n",
       "    </tr>\n",
       "    <tr>\n",
       "      <th>2</th>\n",
       "      <td>2468</td>\n",
       "      <td>華經</td>\n",
       "      <td>0</td>\n",
       "      <td>0</td>\n",
       "      <td>0</td>\n",
       "      <td>--</td>\n",
       "      <td>10.90</td>\n",
       "      <td>999</td>\n",
       "      <td>11.00</td>\n",
       "      <td>465</td>\n",
       "    </tr>\n",
       "    <tr>\n",
       "      <th>3</th>\n",
       "      <td>2471</td>\n",
       "      <td>資通</td>\n",
       "      <td>300</td>\n",
       "      <td>3</td>\n",
       "      <td>4,063</td>\n",
       "      <td>13.55</td>\n",
       "      <td>13.55</td>\n",
       "      <td>3,001</td>\n",
       "      <td>13.65</td>\n",
       "      <td>847</td>\n",
       "    </tr>\n",
       "    <tr>\n",
       "      <th>4</th>\n",
       "      <td>2480</td>\n",
       "      <td>敦陽科</td>\n",
       "      <td>660</td>\n",
       "      <td>5</td>\n",
       "      <td>16,300</td>\n",
       "      <td>24.7</td>\n",
       "      <td>24.70</td>\n",
       "      <td>32,962</td>\n",
       "      <td>24.80</td>\n",
       "      <td>1,398</td>\n",
       "    </tr>\n",
       "    <tr>\n",
       "      <th>5</th>\n",
       "      <td>3029</td>\n",
       "      <td>零壹</td>\n",
       "      <td>400</td>\n",
       "      <td>5</td>\n",
       "      <td>7,200</td>\n",
       "      <td>18</td>\n",
       "      <td>17.95</td>\n",
       "      <td>3,533</td>\n",
       "      <td>18.00</td>\n",
       "      <td>2,230</td>\n",
       "    </tr>\n",
       "    <tr>\n",
       "      <th>6</th>\n",
       "      <td>3130</td>\n",
       "      <td>一零四</td>\n",
       "      <td>63</td>\n",
       "      <td>3</td>\n",
       "      <td>8,599</td>\n",
       "      <td>136.5</td>\n",
       "      <td>136.50</td>\n",
       "      <td>1,517</td>\n",
       "      <td>139.50</td>\n",
       "      <td>306</td>\n",
       "    </tr>\n",
       "    <tr>\n",
       "      <th>7</th>\n",
       "      <td>4994</td>\n",
       "      <td>傳奇</td>\n",
       "      <td>470</td>\n",
       "      <td>3</td>\n",
       "      <td>27,165</td>\n",
       "      <td>57.8</td>\n",
       "      <td>57.60</td>\n",
       "      <td>2,498</td>\n",
       "      <td>57.80</td>\n",
       "      <td>2,021</td>\n",
       "    </tr>\n",
       "    <tr>\n",
       "      <th>8</th>\n",
       "      <td>5203</td>\n",
       "      <td>訊連</td>\n",
       "      <td>1,020</td>\n",
       "      <td>8</td>\n",
       "      <td>72,824</td>\n",
       "      <td>71.4</td>\n",
       "      <td>71.40</td>\n",
       "      <td>2,985</td>\n",
       "      <td>71.70</td>\n",
       "      <td>4,604</td>\n",
       "    </tr>\n",
       "    <tr>\n",
       "      <th>9</th>\n",
       "      <td>6112</td>\n",
       "      <td>聚碩</td>\n",
       "      <td>161</td>\n",
       "      <td>3</td>\n",
       "      <td>4,249</td>\n",
       "      <td>26.4</td>\n",
       "      <td>26.40</td>\n",
       "      <td>5,530</td>\n",
       "      <td>26.50</td>\n",
       "      <td>990</td>\n",
       "    </tr>\n",
       "    <tr>\n",
       "      <th>10</th>\n",
       "      <td>6183</td>\n",
       "      <td>關貿</td>\n",
       "      <td>0</td>\n",
       "      <td>0</td>\n",
       "      <td>0</td>\n",
       "      <td>--</td>\n",
       "      <td>26.20</td>\n",
       "      <td>2,498</td>\n",
       "      <td>26.40</td>\n",
       "      <td>1,105</td>\n",
       "    </tr>\n",
       "    <tr>\n",
       "      <th>11</th>\n",
       "      <td>6214</td>\n",
       "      <td>精誠</td>\n",
       "      <td>1,340</td>\n",
       "      <td>10</td>\n",
       "      <td>70,479</td>\n",
       "      <td>52.6</td>\n",
       "      <td>52.60</td>\n",
       "      <td>63,205</td>\n",
       "      <td>52.70</td>\n",
       "      <td>3,563</td>\n",
       "    </tr>\n",
       "  </tbody>\n",
       "</table>\n",
       "</div>"
      ],
      "text/plain": [
       "    ﻿證券代號            證券名稱   成交股數  成交筆數    成交金額    成交價  最後揭示買價  最後揭示買量  最後揭示賣價  \\\n",
       "0    2427   三商電            1,457     6  11,071    7.6    7.60   1,235    7.69   \n",
       "1    2453  凌群                324     1   3,790   11.7   11.70     675   11.90   \n",
       "2    2468  華經                  0     0       0     --   10.90     999   11.00   \n",
       "3    2471  資通                300     3   4,063  13.55   13.55   3,001   13.65   \n",
       "4    2480   敦陽科              660     5  16,300   24.7   24.70  32,962   24.80   \n",
       "5    3029  零壹                400     5   7,200     18   17.95   3,533   18.00   \n",
       "6    3130   一零四               63     3   8,599  136.5  136.50   1,517  139.50   \n",
       "7    4994  傳奇                470     3  27,165   57.8   57.60   2,498   57.80   \n",
       "8    5203  訊連              1,020     8  72,824   71.4   71.40   2,985   71.70   \n",
       "9    6112  聚碩                161     3   4,249   26.4   26.40   5,530   26.50   \n",
       "10   6183  關貿                  0     0       0     --   26.20   2,498   26.40   \n",
       "11   6214  精誠              1,340    10  70,479   52.6   52.60  63,205   52.70   \n",
       "\n",
       "   最後揭示賣量  \n",
       "0     901  \n",
       "1     816  \n",
       "2     465  \n",
       "3     847  \n",
       "4   1,398  \n",
       "5   2,230  \n",
       "6     306  \n",
       "7   2,021  \n",
       "8   4,604  \n",
       "9     990  \n",
       "10  1,105  \n",
       "11  3,563  "
      ]
     },
     "execution_count": 10,
     "metadata": {},
     "output_type": "execute_result"
    }
   ],
   "source": [
    "df2"
   ]
  },
  {
   "cell_type": "code",
   "execution_count": null,
   "metadata": {
    "collapsed": true
   },
   "outputs": [],
   "source": []
  }
 ],
 "metadata": {
  "anaconda-cloud": {},
  "kernelspec": {
   "display_name": "Python [default]",
   "language": "python",
   "name": "python3"
  },
  "language_info": {
   "codemirror_mode": {
    "name": "ipython",
    "version": 3
   },
   "file_extension": ".py",
   "mimetype": "text/x-python",
   "name": "python",
   "nbconvert_exporter": "python",
   "pygments_lexer": "ipython3",
   "version": "3.5.2"
  }
 },
 "nbformat": 4,
 "nbformat_minor": 0
}
