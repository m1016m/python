{
 "cells": [
  {
   "cell_type": "code",
   "execution_count": 1,
   "metadata": {
    "collapsed": true
   },
   "outputs": [],
   "source": [
    "#ch20_SparkML_01.ipynb"
   ]
  },
  {
   "cell_type": "code",
   "execution_count": 2,
   "metadata": {
    "collapsed": false
   },
   "outputs": [],
   "source": [
    "#Step1.2 讀取文字檔，並查看資料筆數,\n",
    "row_df=sqlContext.read.format(\"csv\").option(\"header\",\"true\").option(\"delimiter\",\"\\t\").load(\"train.tsv\")"
   ]
  },
  {
   "cell_type": "code",
   "execution_count": 3,
   "metadata": {
    "collapsed": false
   },
   "outputs": [
    {
     "data": {
      "text/plain": [
       "pyspark.sql.dataframe.DataFrame"
      ]
     },
     "execution_count": 3,
     "metadata": {},
     "output_type": "execute_result"
    }
   ],
   "source": [
    "type(row_df) #pyspark.sql.dataframe.DataFrame"
   ]
  },
  {
   "cell_type": "code",
   "execution_count": 4,
   "metadata": {
    "collapsed": false
   },
   "outputs": [
    {
     "data": {
      "text/plain": [
       "7395"
      ]
     },
     "execution_count": 4,
     "metadata": {},
     "output_type": "execute_result"
    }
   ],
   "source": [
    "row_df.count() #row_df 筆數"
   ]
  },
  {
   "cell_type": "code",
   "execution_count": 5,
   "metadata": {
    "collapsed": true
   },
   "outputs": [],
   "source": [
    "#spark2.0  以 SparkSession 取代 sqlContext\n",
    "#from pyspark.sql import SparkSession"
   ]
  },
  {
   "cell_type": "code",
   "execution_count": 6,
   "metadata": {
    "collapsed": true
   },
   "outputs": [],
   "source": [
    "#spark = SparkSession \\\n",
    "#    .builder \\\n",
    "#    .appName(\"Python Spark SQL basic example\") \\\n",
    "#    .config(\"spark.some.config.option\", \"some-value\") \\\n",
    "#    .getOrCreate()"
   ]
  },
  {
   "cell_type": "code",
   "execution_count": 7,
   "metadata": {
    "collapsed": false
   },
   "outputs": [],
   "source": [
    "#df = spark.read.csv(\"train.tsv\")"
   ]
  },
  {
   "cell_type": "code",
   "execution_count": 8,
   "metadata": {
    "collapsed": false
   },
   "outputs": [],
   "source": [
    "#df.show()"
   ]
  },
  {
   "cell_type": "code",
   "execution_count": 9,
   "metadata": {
    "collapsed": false
   },
   "outputs": [
    {
     "name": "stdout",
     "output_type": "stream",
     "text": [
      "root\n",
      " |-- url: string (nullable = true)\n",
      " |-- urlid: string (nullable = true)\n",
      " |-- boilerplate: string (nullable = true)\n",
      " |-- alchemy_category: string (nullable = true)\n",
      " |-- alchemy_category_score: string (nullable = true)\n",
      " |-- avglinksize: string (nullable = true)\n",
      " |-- commonlinkratio_1: string (nullable = true)\n",
      " |-- commonlinkratio_2: string (nullable = true)\n",
      " |-- commonlinkratio_3: string (nullable = true)\n",
      " |-- commonlinkratio_4: string (nullable = true)\n",
      " |-- compression_ratio: string (nullable = true)\n",
      " |-- embed_ratio: string (nullable = true)\n",
      " |-- framebased: string (nullable = true)\n",
      " |-- frameTagRatio: string (nullable = true)\n",
      " |-- hasDomainLink: string (nullable = true)\n",
      " |-- html_ratio: string (nullable = true)\n",
      " |-- image_ratio: string (nullable = true)\n",
      " |-- is_news: string (nullable = true)\n",
      " |-- lengthyLinkDomain: string (nullable = true)\n",
      " |-- linkwordscore: string (nullable = true)\n",
      " |-- news_front_page: string (nullable = true)\n",
      " |-- non_markup_alphanum_characters: string (nullable = true)\n",
      " |-- numberOfLinks: string (nullable = true)\n",
      " |-- numwords_in_url: string (nullable = true)\n",
      " |-- parametrizedLinkRatio: string (nullable = true)\n",
      " |-- spelling_errors_ratio: string (nullable = true)\n",
      " |-- label: string (nullable = true)\n",
      "\n"
     ]
    }
   ],
   "source": [
    "#Step1.3 查看 schema, DataFrame.printSchema()\n",
    "row_df.printSchema()"
   ]
  },
  {
   "cell_type": "code",
   "execution_count": 10,
   "metadata": {
    "collapsed": false
   },
   "outputs": [
    {
     "name": "stdout",
     "output_type": "stream",
     "text": [
      "+--------------------+------------------+----------------------+-------+-----+\n",
      "|                 url|  alchemy_category|alchemy_category_score|is_news|label|\n",
      "+--------------------+------------------+----------------------+-------+-----+\n",
      "|http://www.bloomb...|          business|              0.789131|      1|    0|\n",
      "|http://www.popsci...|        recreation|              0.574147|      1|    1|\n",
      "|http://www.menshe...|            health|              0.996526|      1|    1|\n",
      "|http://www.dumbli...|            health|              0.801248|      1|    1|\n",
      "|http://bleacherre...|            sports|              0.719157|      1|    0|\n",
      "|http://www.conven...|                 ?|                     ?|      ?|    0|\n",
      "|http://gofashionl...|arts_entertainment|               0.22111|      1|    1|\n",
      "|http://www.inside...|                 ?|                     ?|      ?|    0|\n",
      "|http://www.valetm...|                 ?|                     ?|      1|    1|\n",
      "|http://www.howswe...|                 ?|                     ?|      ?|    1|\n",
      "+--------------------+------------------+----------------------+-------+-----+\n",
      "only showing top 10 rows\n",
      "\n"
     ]
    }
   ],
   "source": [
    "#Spep1.4 查看前10筆資料,並以select要檢視的欄位,DataFrame.select() method\n",
    "row_df.select('url','alchemy_category','alchemy_category_score','is_news','label').show(10)"
   ]
  },
  {
   "cell_type": "code",
   "execution_count": 11,
   "metadata": {
    "collapsed": true
   },
   "outputs": [],
   "source": [
    "#2.處理缺失值”?”, 使用DataFrame 的UDF (User Define Function)\n",
    "#Step2.1 建立 DataFrame UDF \n",
    "from pyspark.sql.functions import udf #import udf "
   ]
  },
  {
   "cell_type": "code",
   "execution_count": 12,
   "metadata": {
    "collapsed": true
   },
   "outputs": [],
   "source": [
    "def replace_question(x):         #define 一個 python function 'replace_qusetion()\n",
    "    return(\"0\" if x==\"?\" else x) "
   ]
  },
  {
   "cell_type": "code",
   "execution_count": 13,
   "metadata": {
    "collapsed": true
   },
   "outputs": [],
   "source": [
    "replace_question=udf(replace_question)  #以udf() method 將python function 轉成 UDF"
   ]
  },
  {
   "cell_type": "code",
   "execution_count": 14,
   "metadata": {
    "collapsed": true
   },
   "outputs": [],
   "source": [
    "#Step2.2 import col module, 以 col module 讀取欄位資料. import types module 後續作資料型別轉換時使用\n",
    "from pyspark.sql.functions import col\n",
    "import pyspark.sql.types"
   ]
  },
  {
   "cell_type": "code",
   "execution_count": 15,
   "metadata": {
    "collapsed": true
   },
   "outputs": [],
   "source": [
    "#Step2.3 將DataFrame row_df 中第4到最後欄位 ([4:]) 轉換成double,除最後一個欄位是label其餘欄位是feature\n",
    "#              並以UDF replace_question 處理（替代）缺失值 \"?\""
   ]
  },
  {
   "cell_type": "code",
   "execution_count": 16,
   "metadata": {
    "collapsed": true
   },
   "outputs": [],
   "source": [
    "df=row_df.select(                          #DataFrame.select([]) , 參數是list型態  \n",
    "    ['url','alchemy_category']+       #'url','alchemy_category' 這兩個欄位不轉換\n",
    "    [replace_question(col(c)).cast(\"double\").alias(c)\n",
    "    for c in row_df.columns[4:]])   #for c in row_df.columns[4:]  --> 從 row_df 第4個到最後欄位 逐一取出\n",
    "                                                       #col(c) --> 以col() 取值, replace_question(col(c)) --> 如果值是 \"?\" 以UDF replace_question 取代為 \"0\"\n",
    "                                                       #.cast(\"double\") 強至型別轉換, .alias(c) 以原欄位名稱作別名"
   ]
  },
  {
   "cell_type": "code",
   "execution_count": 17,
   "metadata": {
    "collapsed": false
   },
   "outputs": [
    {
     "name": "stdout",
     "output_type": "stream",
     "text": [
      "root\n",
      " |-- url: string (nullable = true)\n",
      " |-- alchemy_category: string (nullable = true)\n",
      " |-- alchemy_category_score: double (nullable = true)\n",
      " |-- avglinksize: double (nullable = true)\n",
      " |-- commonlinkratio_1: double (nullable = true)\n",
      " |-- commonlinkratio_2: double (nullable = true)\n",
      " |-- commonlinkratio_3: double (nullable = true)\n",
      " |-- commonlinkratio_4: double (nullable = true)\n",
      " |-- compression_ratio: double (nullable = true)\n",
      " |-- embed_ratio: double (nullable = true)\n",
      " |-- framebased: double (nullable = true)\n",
      " |-- frameTagRatio: double (nullable = true)\n",
      " |-- hasDomainLink: double (nullable = true)\n",
      " |-- html_ratio: double (nullable = true)\n",
      " |-- image_ratio: double (nullable = true)\n",
      " |-- is_news: double (nullable = true)\n",
      " |-- lengthyLinkDomain: double (nullable = true)\n",
      " |-- linkwordscore: double (nullable = true)\n",
      " |-- news_front_page: double (nullable = true)\n",
      " |-- non_markup_alphanum_characters: double (nullable = true)\n",
      " |-- numberOfLinks: double (nullable = true)\n",
      " |-- numwords_in_url: double (nullable = true)\n",
      " |-- parametrizedLinkRatio: double (nullable = true)\n",
      " |-- spelling_errors_ratio: double (nullable = true)\n",
      " |-- label: double (nullable = true)\n",
      "\n"
     ]
    }
   ],
   "source": [
    "#Step2.4 檢視整形後的DataFrame 'df'\n",
    "df.printSchema()"
   ]
  },
  {
   "cell_type": "code",
   "execution_count": 18,
   "metadata": {
    "collapsed": false
   },
   "outputs": [
    {
     "name": "stdout",
     "output_type": "stream",
     "text": [
      "+--------------------+------------------+----------------------+-------+-----+\n",
      "|                 url|  alchemy_category|alchemy_category_score|is_news|label|\n",
      "+--------------------+------------------+----------------------+-------+-----+\n",
      "|http://www.bloomb...|          business|              0.789131|    1.0|  0.0|\n",
      "|http://www.popsci...|        recreation|              0.574147|    1.0|  1.0|\n",
      "|http://www.menshe...|            health|              0.996526|    1.0|  1.0|\n",
      "|http://www.dumbli...|            health|              0.801248|    1.0|  1.0|\n",
      "|http://bleacherre...|            sports|              0.719157|    1.0|  0.0|\n",
      "|http://www.conven...|                 ?|                   0.0|    0.0|  0.0|\n",
      "|http://gofashionl...|arts_entertainment|               0.22111|    1.0|  1.0|\n",
      "|http://www.inside...|                 ?|                   0.0|    0.0|  0.0|\n",
      "|http://www.valetm...|                 ?|                   0.0|    1.0|  1.0|\n",
      "|http://www.howswe...|                 ?|                   0.0|    0.0|  1.0|\n",
      "+--------------------+------------------+----------------------+-------+-----+\n",
      "only showing top 10 rows\n",
      "\n"
     ]
    }
   ],
   "source": [
    "#Step2.5 檢視 DataFrame 'df ', 部份欄位前10筆資料, 注意！'alchemy_category_score','is_news' 原\"?\" --> 0.0\n",
    "df.select('url','alchemy_category','alchemy_category_score','is_news','label').show(10)"
   ]
  },
  {
   "cell_type": "code",
   "execution_count": 19,
   "metadata": {
    "collapsed": false
   },
   "outputs": [
    {
     "data": {
      "text/plain": [
       "DataFrame[url: string, alchemy_category: string, alchemy_category_score: double, avglinksize: double, commonlinkratio_1: double, commonlinkratio_2: double, commonlinkratio_3: double, commonlinkratio_4: double, compression_ratio: double, embed_ratio: double, framebased: double, frameTagRatio: double, hasDomainLink: double, html_ratio: double, image_ratio: double, is_news: double, lengthyLinkDomain: double, linkwordscore: double, news_front_page: double, non_markup_alphanum_characters: double, numberOfLinks: double, numwords_in_url: double, parametrizedLinkRatio: double, spelling_errors_ratio: double, label: double]"
      ]
     },
     "execution_count": 19,
     "metadata": {},
     "output_type": "execute_result"
    }
   ],
   "source": [
    "#3.將資料分成train_df 與test_df\n",
    "#使用DataFrame.randomSplit() 依設定7:3之比例\n",
    "#並以DataFrame.cache() 暫存於 MM中\n",
    "#step3.1\n",
    "train_df,test_df=df.randomSplit([0.7,0.3])\n",
    "train_df.cache()\n",
    "test_df.cache()"
   ]
  },
  {
   "cell_type": "code",
   "execution_count": 20,
   "metadata": {
    "collapsed": true
   },
   "outputs": [],
   "source": [
    "#4. Spark ML pipeline 流程元件, StringIndexer,OneHotEncoder,VectorAssenbler"
   ]
  },
  {
   "cell_type": "code",
   "execution_count": 21,
   "metadata": {
    "collapsed": true
   },
   "outputs": [],
   "source": [
    "#Step4.1, StringIndexer, 匯入StringIndexer module\n",
    "from pyspark.ml.feature import StringIndexer"
   ]
  },
  {
   "cell_type": "code",
   "execution_count": 22,
   "metadata": {
    "collapsed": true
   },
   "outputs": [],
   "source": [
    "#Step4.2 建立 StringIndexer 物件 'categoryIndexer', StringIndexer(inputCol, outputCol)\n",
    "categoryIndexer=StringIndexer(inputCol='alchemy_category',outputCol='alchemy_category_Index')"
   ]
  },
  {
   "cell_type": "code",
   "execution_count": 23,
   "metadata": {
    "collapsed": true
   },
   "outputs": [],
   "source": [
    "#Step4.3 以StringIndexer.fit(DataFrame) method, 產生一個 Transformer 物件 'categoryTransformer'\n",
    "#              StringIndexer 物件是一個 Estimator 物件\n",
    "categoryTransformer=categoryIndexer.fit(df)"
   ]
  },
  {
   "cell_type": "code",
   "execution_count": 24,
   "metadata": {
    "collapsed": false
   },
   "outputs": [
    {
     "name": "stdout",
     "output_type": "stream",
     "text": [
      "0:?\n",
      "1:recreation\n",
      "2:arts_entertainment\n",
      "3:business\n",
      "4:health\n",
      "5:sports\n",
      "6:culture_politics\n",
      "7:computer_internet\n",
      "8:science_technology\n",
      "9:gaming\n",
      "10:religion\n",
      "11:law_crime\n",
      "12:unknown\n",
      "13:weather\n"
     ]
    }
   ],
   "source": [
    "#Step4.4 查看 Transformer 物件 'categoryTransformer'內容,\n",
    "#              其中label屬性是一個網頁分類對照表\n",
    "for i in range(0,len(categoryTransformer.labels)):\n",
    "    print(str(i)+':'+categoryTransformer.labels[i])"
   ]
  },
  {
   "cell_type": "code",
   "execution_count": 25,
   "metadata": {
    "collapsed": false
   },
   "outputs": [],
   "source": [
    "#Step4.5 使用 'categoryTransformer' 的transform() method 將DataFrame train_df 轉換成 df1\n",
    "df1=categoryTransformer.transform(train_df)"
   ]
  },
  {
   "cell_type": "code",
   "execution_count": 26,
   "metadata": {
    "collapsed": false
   },
   "outputs": [
    {
     "data": {
      "text/plain": [
       "['url',\n",
       " 'alchemy_category',\n",
       " 'alchemy_category_score',\n",
       " 'avglinksize',\n",
       " 'commonlinkratio_1',\n",
       " 'commonlinkratio_2',\n",
       " 'commonlinkratio_3',\n",
       " 'commonlinkratio_4',\n",
       " 'compression_ratio',\n",
       " 'embed_ratio',\n",
       " 'framebased',\n",
       " 'frameTagRatio',\n",
       " 'hasDomainLink',\n",
       " 'html_ratio',\n",
       " 'image_ratio',\n",
       " 'is_news',\n",
       " 'lengthyLinkDomain',\n",
       " 'linkwordscore',\n",
       " 'news_front_page',\n",
       " 'non_markup_alphanum_characters',\n",
       " 'numberOfLinks',\n",
       " 'numwords_in_url',\n",
       " 'parametrizedLinkRatio',\n",
       " 'spelling_errors_ratio',\n",
       " 'label',\n",
       " 'alchemy_category_Index']"
      ]
     },
     "execution_count": 26,
     "metadata": {},
     "output_type": "execute_result"
    }
   ],
   "source": [
    "#Step4.6 檢視轉換後 DataFrame df1 的欄位\n",
    "df1.columns"
   ]
  },
  {
   "cell_type": "code",
   "execution_count": 27,
   "metadata": {
    "collapsed": false
   },
   "outputs": [
    {
     "name": "stdout",
     "output_type": "stream",
     "text": [
      "+------------------+----------------------+\n",
      "|  alchemy_category|alchemy_category_Index|\n",
      "+------------------+----------------------+\n",
      "|        recreation|                   1.0|\n",
      "|                 ?|                   0.0|\n",
      "|                 ?|                   0.0|\n",
      "|                 ?|                   0.0|\n",
      "|                 ?|                   0.0|\n",
      "|          business|                   3.0|\n",
      "|arts_entertainment|                   2.0|\n",
      "|          business|                   3.0|\n",
      "|          business|                   3.0|\n",
      "|                 ?|                   0.0|\n",
      "+------------------+----------------------+\n",
      "only showing top 10 rows\n",
      "\n"
     ]
    }
   ],
   "source": [
    "#Step4.7 查看轉換的結果, 已將 'alchemy_category'(文字）-->'alchemy_category_Index'(數值）\n",
    "df1.select(\"alchemy_category\",\"alchemy_category_Index\").show(10)"
   ]
  },
  {
   "cell_type": "code",
   "execution_count": 28,
   "metadata": {
    "collapsed": true
   },
   "outputs": [],
   "source": [
    "#Step5.1 OneHotEncoder: 將一個數字的分類Feature欄位，轉換為多個欄位的Vector. \n",
    "#              匯入OneHotEncoder module\n",
    "from pyspark.ml.feature import OneHotEncoder"
   ]
  },
  {
   "cell_type": "code",
   "execution_count": 29,
   "metadata": {
    "collapsed": false
   },
   "outputs": [],
   "source": [
    "#Step5.2  建立 OneHotEncoder 物件 'encoder'\n",
    "encoder=OneHotEncoder(dropLast=False,\n",
    "                      inputCol='alchemy_category_Index',\n",
    "                      outputCol='alchemy_category_IndexVec')"
   ]
  },
  {
   "cell_type": "code",
   "execution_count": 30,
   "metadata": {
    "collapsed": true
   },
   "outputs": [],
   "source": [
    "#Step5.3 使用 OneHotEncoder.transform(DataFrame) 將 df1 --> df2\n",
    "df2=encoder.transform(df1)"
   ]
  },
  {
   "cell_type": "code",
   "execution_count": 31,
   "metadata": {
    "collapsed": false
   },
   "outputs": [
    {
     "data": {
      "text/plain": [
       "['url',\n",
       " 'alchemy_category',\n",
       " 'alchemy_category_score',\n",
       " 'avglinksize',\n",
       " 'commonlinkratio_1',\n",
       " 'commonlinkratio_2',\n",
       " 'commonlinkratio_3',\n",
       " 'commonlinkratio_4',\n",
       " 'compression_ratio',\n",
       " 'embed_ratio',\n",
       " 'framebased',\n",
       " 'frameTagRatio',\n",
       " 'hasDomainLink',\n",
       " 'html_ratio',\n",
       " 'image_ratio',\n",
       " 'is_news',\n",
       " 'lengthyLinkDomain',\n",
       " 'linkwordscore',\n",
       " 'news_front_page',\n",
       " 'non_markup_alphanum_characters',\n",
       " 'numberOfLinks',\n",
       " 'numwords_in_url',\n",
       " 'parametrizedLinkRatio',\n",
       " 'spelling_errors_ratio',\n",
       " 'label',\n",
       " 'alchemy_category_Index',\n",
       " 'alchemy_category_IndexVec']"
      ]
     },
     "execution_count": 31,
     "metadata": {},
     "output_type": "execute_result"
    }
   ],
   "source": [
    "df2.columns #新增了 'alchemy_category_IndexVec' 欄位"
   ]
  },
  {
   "cell_type": "code",
   "execution_count": 32,
   "metadata": {
    "collapsed": false
   },
   "outputs": [
    {
     "name": "stdout",
     "output_type": "stream",
     "text": [
      "+------------------+----------------------+-------------------------+\n",
      "|  alchemy_category|alchemy_category_Index|alchemy_category_IndexVec|\n",
      "+------------------+----------------------+-------------------------+\n",
      "|        recreation|                   1.0|           (14,[1],[1.0])|\n",
      "|                 ?|                   0.0|           (14,[0],[1.0])|\n",
      "|                 ?|                   0.0|           (14,[0],[1.0])|\n",
      "|                 ?|                   0.0|           (14,[0],[1.0])|\n",
      "|                 ?|                   0.0|           (14,[0],[1.0])|\n",
      "|          business|                   3.0|           (14,[3],[1.0])|\n",
      "|arts_entertainment|                   2.0|           (14,[2],[1.0])|\n",
      "|          business|                   3.0|           (14,[3],[1.0])|\n",
      "|          business|                   3.0|           (14,[3],[1.0])|\n",
      "|                 ?|                   0.0|           (14,[0],[1.0])|\n",
      "+------------------+----------------------+-------------------------+\n",
      "only showing top 10 rows\n",
      "\n"
     ]
    }
   ],
   "source": [
    "#Step5.4  查看轉換後資料\n",
    "#alchemy_category: 原字串分類, alchemy_category_Index:轉換為一個數字, \n",
    "#alchemy_category_IndesVec:轉換為14個欄位的數字 (14,[3],[1.0]) -->這是稀疏向量(SparesVector)表示法\n",
    "#                                                                         共14個欄位,第3個欄位是1,其餘是0, --> 0,0,0,1,0,0,0,0,0,0,0,0,0,0\n",
    "df2.select(\"alchemy_category\",\"alchemy_category_Index\",\"alchemy_category_IndexVec\").show(10)"
   ]
  },
  {
   "cell_type": "code",
   "execution_count": 33,
   "metadata": {
    "collapsed": true
   },
   "outputs": [],
   "source": [
    "#Step6.1 VectorAssenbler: 將所有feature欄位整合成1個Vector欄位\n",
    "#              匯入VectorAssenbler module\n",
    "from pyspark.ml.feature import VectorAssembler"
   ]
  },
  {
   "cell_type": "code",
   "execution_count": 34,
   "metadata": {
    "collapsed": false
   },
   "outputs": [
    {
     "name": "stdout",
     "output_type": "stream",
     "text": [
      "['alchemy_category_IndexVec', 'alchemy_category_score', 'avglinksize', 'commonlinkratio_1', 'commonlinkratio_2', 'commonlinkratio_3', 'commonlinkratio_4', 'compression_ratio', 'embed_ratio', 'framebased', 'frameTagRatio', 'hasDomainLink', 'html_ratio', 'image_ratio', 'is_news', 'lengthyLinkDomain', 'linkwordscore', 'news_front_page', 'non_markup_alphanum_characters', 'numberOfLinks', 'numwords_in_url', 'parametrizedLinkRatio', 'spelling_errors_ratio']\n"
     ]
    }
   ],
   "source": [
    "#Step6.2 建立全部Feature 欄位List 'assemblerInputs'\n",
    "#'alchemy_category_IndexVec' (14個欄位的0/1)\n",
    "assemblerInputs=['alchemy_category_IndexVec']+row_df.columns[4:-1]  #[4:-1], 第4到倒數第2\n",
    "print(assemblerInputs)"
   ]
  },
  {
   "cell_type": "code",
   "execution_count": 35,
   "metadata": {
    "collapsed": false
   },
   "outputs": [],
   "source": [
    "#Step6.3 建立VectorAssenbler 物件 'assembler'\n",
    "assembler=VectorAssembler(inputCols=assemblerInputs,outputCol=\"features\")"
   ]
  },
  {
   "cell_type": "code",
   "execution_count": 36,
   "metadata": {
    "collapsed": true
   },
   "outputs": [],
   "source": [
    "#Step6.4 執行VectorAssenbler.transform(DataFrame) 轉換\n",
    "df3=assembler.transform(df2)"
   ]
  },
  {
   "cell_type": "code",
   "execution_count": 37,
   "metadata": {
    "collapsed": false
   },
   "outputs": [
    {
     "data": {
      "text/plain": [
       "['url',\n",
       " 'alchemy_category',\n",
       " 'alchemy_category_score',\n",
       " 'avglinksize',\n",
       " 'commonlinkratio_1',\n",
       " 'commonlinkratio_2',\n",
       " 'commonlinkratio_3',\n",
       " 'commonlinkratio_4',\n",
       " 'compression_ratio',\n",
       " 'embed_ratio',\n",
       " 'framebased',\n",
       " 'frameTagRatio',\n",
       " 'hasDomainLink',\n",
       " 'html_ratio',\n",
       " 'image_ratio',\n",
       " 'is_news',\n",
       " 'lengthyLinkDomain',\n",
       " 'linkwordscore',\n",
       " 'news_front_page',\n",
       " 'non_markup_alphanum_characters',\n",
       " 'numberOfLinks',\n",
       " 'numwords_in_url',\n",
       " 'parametrizedLinkRatio',\n",
       " 'spelling_errors_ratio',\n",
       " 'label',\n",
       " 'alchemy_category_Index',\n",
       " 'alchemy_category_IndexVec',\n",
       " 'features']"
      ]
     },
     "execution_count": 37,
     "metadata": {},
     "output_type": "execute_result"
    }
   ],
   "source": [
    "#Step6.5 檢視整合後結果, 新增了 'features' 欄位\n",
    "df3.columns"
   ]
  },
  {
   "cell_type": "code",
   "execution_count": 38,
   "metadata": {
    "collapsed": false
   },
   "outputs": [
    {
     "data": {
      "text/plain": [
       "[Row(features=SparseVector(36, {1: 1.0, 14: 0.3034, 15: 2.3529, 16: 0.7228, 17: 0.375, 18: 0.3043, 19: 0.288, 20: 0.483, 23: 0.034, 25: 0.223, 26: 0.2186, 27: 1.0, 28: 1.0, 29: 14.0, 31: 9935.0, 32: 184.0, 33: 3.0, 34: 0.3478, 35: 0.1383})),\n",
       " Row(features=SparseVector(36, {0: 1.0, 15: 0.3529, 20: 0.5749, 23: 0.0319, 25: 0.3047, 26: 0.128, 29: 6.0, 31: 446.0, 32: 17.0, 34: 0.0588, 35: 0.08}))]"
      ]
     },
     "execution_count": 38,
     "metadata": {},
     "output_type": "execute_result"
    }
   ],
   "source": [
    "#Step6.6 查看 features 欄位內容\n",
    "df3.select(\"features\").take(2)"
   ]
  },
  {
   "cell_type": "code",
   "execution_count": 39,
   "metadata": {
    "collapsed": true
   },
   "outputs": [],
   "source": [
    "#Step7: 使用DecisionTreeClassifier 二元分類\n",
    "#            step1: 使用 fit() method, 進行訓練產生DecisionTree模型\n",
    "#            step2: 使用transform() 進行轉換,轉換後會產生預測結果"
   ]
  },
  {
   "cell_type": "code",
   "execution_count": 40,
   "metadata": {
    "collapsed": true
   },
   "outputs": [],
   "source": [
    "#Step7.1 匯入 DecisionTreeClassifier module\n",
    "from pyspark.ml.classification import DecisionTreeClassifier"
   ]
  },
  {
   "cell_type": "code",
   "execution_count": 41,
   "metadata": {
    "collapsed": true
   },
   "outputs": [],
   "source": [
    "#Step7.2 執行 DecisionTreeClassifier() 建立 DecisionTreeClassifier 物件 dt\n",
    "dt=DecisionTreeClassifier(labelCol=\"label\",  #label欄位\n",
    "                          featuresCol=\"features\",        #feature 欄位\n",
    "                          impurity=\"gini\",                     #分裂原則--> 吉尼值最小者\n",
    "                          maxDepth=10,                       #最大深度\n",
    "                          maxBins=14)                          #最大分裂數"
   ]
  },
  {
   "cell_type": "code",
   "execution_count": 42,
   "metadata": {
    "collapsed": false
   },
   "outputs": [
    {
     "data": {
      "text/plain": [
       "pyspark.ml.classification.DecisionTreeClassifier"
      ]
     },
     "execution_count": 42,
     "metadata": {},
     "output_type": "execute_result"
    }
   ],
   "source": [
    "type(dt)"
   ]
  },
  {
   "cell_type": "code",
   "execution_count": 43,
   "metadata": {
    "collapsed": true
   },
   "outputs": [],
   "source": [
    "#Step7.3 執行訓練, 使用 DesisionTreeClassifier.fit() method\n",
    "dt_model=dt.fit(df3)"
   ]
  },
  {
   "cell_type": "code",
   "execution_count": 44,
   "metadata": {
    "collapsed": false
   },
   "outputs": [
    {
     "name": "stdout",
     "output_type": "stream",
     "text": [
      "DecisionTreeClassificationModel (uid=DecisionTreeClassifier_444da4ea5f751e8d2aa5) of depth 10 with 643 nodes\n"
     ]
    }
   ],
   "source": [
    "print(dt_model)"
   ]
  },
  {
   "cell_type": "code",
   "execution_count": 45,
   "metadata": {
    "collapsed": true
   },
   "outputs": [],
   "source": [
    "#Step7.4 進行預測, 使用df_model.transform(DataFrame)\n",
    "df4=dt_model.transform(df3)"
   ]
  },
  {
   "cell_type": "code",
   "execution_count": 46,
   "metadata": {
    "collapsed": false
   },
   "outputs": [
    {
     "name": "stdout",
     "output_type": "stream",
     "text": [
      "root\n",
      " |-- url: string (nullable = true)\n",
      " |-- alchemy_category: string (nullable = true)\n",
      " |-- alchemy_category_score: double (nullable = true)\n",
      " |-- avglinksize: double (nullable = true)\n",
      " |-- commonlinkratio_1: double (nullable = true)\n",
      " |-- commonlinkratio_2: double (nullable = true)\n",
      " |-- commonlinkratio_3: double (nullable = true)\n",
      " |-- commonlinkratio_4: double (nullable = true)\n",
      " |-- compression_ratio: double (nullable = true)\n",
      " |-- embed_ratio: double (nullable = true)\n",
      " |-- framebased: double (nullable = true)\n",
      " |-- frameTagRatio: double (nullable = true)\n",
      " |-- hasDomainLink: double (nullable = true)\n",
      " |-- html_ratio: double (nullable = true)\n",
      " |-- image_ratio: double (nullable = true)\n",
      " |-- is_news: double (nullable = true)\n",
      " |-- lengthyLinkDomain: double (nullable = true)\n",
      " |-- linkwordscore: double (nullable = true)\n",
      " |-- news_front_page: double (nullable = true)\n",
      " |-- non_markup_alphanum_characters: double (nullable = true)\n",
      " |-- numberOfLinks: double (nullable = true)\n",
      " |-- numwords_in_url: double (nullable = true)\n",
      " |-- parametrizedLinkRatio: double (nullable = true)\n",
      " |-- spelling_errors_ratio: double (nullable = true)\n",
      " |-- label: double (nullable = true)\n",
      " |-- alchemy_category_Index: double (nullable = true)\n",
      " |-- alchemy_category_IndexVec: vector (nullable = true)\n",
      " |-- features: vector (nullable = true)\n",
      " |-- rawPrediction: vector (nullable = true)\n",
      " |-- probability: vector (nullable = true)\n",
      " |-- prediction: double (nullable = true)\n",
      "\n"
     ]
    }
   ],
   "source": [
    "df4.printSchema()"
   ]
  },
  {
   "cell_type": "code",
   "execution_count": 47,
   "metadata": {
    "collapsed": false
   },
   "outputs": [
    {
     "name": "stdout",
     "output_type": "stream",
     "text": [
      "+--------------------+-----+\n",
      "|                 url|label|\n",
      "+--------------------+-----+\n",
      "|http://1000awesom...|  1.0|\n",
      "|http://100miledie...|  0.0|\n",
      "|http://123healtht...|  1.0|\n",
      "|http://13gb.com/p...|  0.0|\n",
      "|http://13gb.com/v...|  0.0|\n",
      "|http://17andbakin...|  1.0|\n",
      "|http://17andbakin...|  1.0|\n",
      "|http://17andbakin...|  1.0|\n",
      "|http://1greengene...|  1.0|\n",
      "|http://1x.com/pho...|  1.0|\n",
      "+--------------------+-----+\n",
      "only showing top 10 rows\n",
      "\n"
     ]
    }
   ],
   "source": [
    "df4.select(\"url\",\"label\").show(10)"
   ]
  },
  {
   "cell_type": "code",
   "execution_count": 48,
   "metadata": {
    "collapsed": true
   },
   "outputs": [],
   "source": [
    "#8. 將上述Machine Learning 流程各元件：StringIndexer, OneHotEncoder, VectorAssembler, DecisionTreeClassifier\n",
    "#    構成一個pipeline 物件, Machine Learning Pipeline 物件"
   ]
  },
  {
   "cell_type": "code",
   "execution_count": 49,
   "metadata": {
    "collapsed": true
   },
   "outputs": [],
   "source": [
    "#Step8.1 匯入全部需要的模組\n",
    "from pyspark.ml import Pipeline\n",
    "from pyspark.ml.feature import StringIndexer,OneHotEncoder,VectorAssembler\n",
    "from pyspark.ml.classification import DecisionTreeClassifier"
   ]
  },
  {
   "cell_type": "code",
   "execution_count": 52,
   "metadata": {
    "collapsed": false
   },
   "outputs": [],
   "source": [
    "#Step8.2 建立 Pipeline 物件 'pipeline'\n",
    "categoryIndexer=StringIndexer(inputCol='alchemy_category',       #StringIndexer 物件 'categoryIndexer'\n",
    "                              outputCol='alchemy_category_Index')\n",
    "encoder=OneHotEncoder(dropLast=False,                                        #OneHotEncoder 物件 'encoder'\n",
    "                      inputCol='alchemy_category_Index',\n",
    "                      outputCol='alchemy_category_IndexVec')\n",
    "assemblerInputs=['alchemy_category_IndexVec']+row_df.columns[4:-1]  #全部Feature 欄位List 物件 'assemblerInputs'\n",
    "assembler=VectorAssembler(inputCols=assemblerInputs,outputCol=\"features\")  #VectorAssenbler 物件 'assembler'\n",
    "dt=DecisionTreeClassifier(labelCol=\"label\",         #lDecisionTreeClassifier 物件 dt\n",
    "                          featuresCol=\"features\",       \n",
    "                          impurity=\"gini\",                    \n",
    "                          maxDepth=10,                       \n",
    "                          maxBins=14)    \n",
    "#---------------------------------------------------------------------------------------------------------------------------------------------------\n",
    "pipeline=Pipeline(stages=[categoryIndexer,encoder,assembler,dt])    #Pipeline 物件 'pipeline'"
   ]
  },
  {
   "cell_type": "code",
   "execution_count": 53,
   "metadata": {
    "collapsed": false
   },
   "outputs": [
    {
     "data": {
      "text/plain": [
       "[StringIndexer_4c92be9160ecd3acf197,\n",
       " OneHotEncoder_47dea4860e8c6dd6dfe7,\n",
       " VectorAssembler_41a2b09a2e5b1c4097aa,\n",
       " DecisionTreeClassifier_42f7a41ee6f8a0f1364d]"
      ]
     },
     "execution_count": 53,
     "metadata": {},
     "output_type": "execute_result"
    }
   ],
   "source": [
    "#Step8.3 查看 Pipeline stages, getStages() \n",
    "pipeline.getStages()"
   ]
  },
  {
   "cell_type": "code",
   "execution_count": 54,
   "metadata": {
    "collapsed": true
   },
   "outputs": [],
   "source": [
    "#9. 使用 ML pipeline 進行資料處理與訓練\n",
    "#Step9.1 使用 Pipeline.fit() 進行訓練, 傳入 train_df 訓練資料\n",
    "pipelineModel=pipeline.fit(train_df)"
   ]
  },
  {
   "cell_type": "code",
   "execution_count": 55,
   "metadata": {
    "collapsed": false
   },
   "outputs": [
    {
     "data": {
      "text/plain": [
       "pyspark.ml.pipeline.PipelineModel"
      ]
     },
     "execution_count": 55,
     "metadata": {},
     "output_type": "execute_result"
    }
   ],
   "source": [
    "type(pipelineModel)"
   ]
  },
  {
   "cell_type": "code",
   "execution_count": 56,
   "metadata": {
    "collapsed": false
   },
   "outputs": [
    {
     "data": {
      "text/plain": [
       "DecisionTreeClassificationModel (uid=DecisionTreeClassifier_42f7a41ee6f8a0f1364d) of depth 10 with 643 nodes"
      ]
     },
     "execution_count": 56,
     "metadata": {},
     "output_type": "execute_result"
    }
   ],
   "source": [
    "#Step9.2 檢視訓練後的決策樹模型\n",
    "pipelineModel.stages[3]"
   ]
  },
  {
   "cell_type": "code",
   "execution_count": 57,
   "metadata": {
    "collapsed": false
   },
   "outputs": [
    {
     "name": "stdout",
     "output_type": "stream",
     "text": [
      "DecisionTreeClassificationModel (uid=DecisionTreeClassifier_42f7a41ee6f8a0f1364d) of depth 10 with 643 nodes\n",
      "  If (feature 31 <= 1803.0)\n",
      "   If (feature 2 in {1.0})\n",
      "    If (feature 35 <= 0.166666667)\n",
      "     If (feature 31 <= 1337.0)\n",
      "      If (feature 26 <= 0.199304751)\n",
      "       If (feature 25 <= 0.167384934)\n",
      "        Predict: 1.0\n",
      "       Else (feature 25 > 0.167384934)\n",
      "        If (feature 14 <= 0.736574)\n",
      "         If (feature 33 <= 11.0)\n",
      "          If (feature 27 <= 0.0)\n",
      "           Predict: 0.0\n",
      "          Else (feature 27 > 0.0)\n",
      "           If (feature 28 <= 0.0)\n",
      "            Predict: 0.0\n",
      "           Else (feature 28 > 0.0)\n",
      "            Predict: 0.0\n",
      "         Else (feature 33 > 11.0)\n",
      "          Predict: 1.0\n",
      "        Else (feature 14 > 0.736574)\n",
      "         If (feature 20 <= 0.461231995)\n",
      "          Predict: 1.0\n",
      "         Else (feature 20 > 0.461231995)\n",
      "          If (feature 16 <= 0.239766082)\n",
      "           If (feature 15 <= 1.03125)\n",
      "            Predict: 0.0\n",
      "           Else (feature 15 > 1.03125)\n",
      "            Predict: 1.0\n",
      "          Else (feature 16 > 0.239766082)\n",
      "           Predict: 0.0\n",
      "      Else (feature 26 > 0.199304751)\n",
      "       If (feature 15 <= 1.03125)\n",
      "        If (feature 25 <= 0.265739174)\n",
      "         If (feature 14 <= 0.364581)\n",
      "          If (feature 20 <= 0.610810811)\n",
      "           Predict: 1.0\n",
      "          Else (feature 20 > 0.610810811)\n",
      "           Predict: 0.0\n",
      "         Else (feature 14 > 0.364581)\n",
      "          If (feature 14 <= 0.736574)\n",
      "           Predict: 0.0\n",
      "          Else (feature 14 > 0.736574)\n",
      "           If (feature 14 <= 0.809344)\n",
      "            Predict: 1.0\n",
      "           Else (feature 14 > 0.809344)\n",
      "            Predict: 0.0\n",
      "        Else (feature 25 > 0.265739174)\n",
      "         If (feature 27 <= 0.0)\n",
      "          Predict: 1.0\n",
      "         Else (feature 27 > 0.0)\n",
      "          If (feature 20 <= 0.484193012)\n",
      "           Predict: 0.0\n",
      "          Else (feature 20 > 0.484193012)\n",
      "           Predict: 0.0\n",
      "       Else (feature 15 > 1.03125)\n",
      "        If (feature 14 <= 0.469631)\n",
      "         If (feature 33 <= 1.0)\n",
      "          Predict: 1.0\n",
      "         Else (feature 33 > 1.0)\n",
      "          If (feature 35 <= 0.109057301)\n",
      "           Predict: 0.0\n",
      "          Else (feature 35 > 0.109057301)\n",
      "           Predict: 1.0\n",
      "        Else (feature 14 > 0.469631)\n",
      "         Predict: 0.0\n",
      "     Else (feature 31 > 1337.0)\n",
      "      If (feature 14 <= 0.364581)\n",
      "       Predict: 1.0\n",
      "      Else (feature 14 > 0.364581)\n",
      "       If (feature 29 <= 15.0)\n",
      "        Predict: 1.0\n",
      "       Else (feature 29 > 15.0)\n",
      "        If (feature 14 <= 0.469631)\n",
      "         If (feature 15 <= 2.208955224)\n",
      "          Predict: 1.0\n",
      "         Else (feature 15 > 2.208955224)\n",
      "          Predict: 0.0\n",
      "        Else (feature 14 > 0.469631)\n",
      "         If (feature 33 <= 9.0)\n",
      "          If (feature 33 <= 2.0)\n",
      "           If (feature 16 <= 0.481481481)\n",
      "            Predict: 0.0\n",
      "           Else (feature 16 > 0.481481481)\n",
      "            Predict: 1.0\n",
      "          Else (feature 33 > 2.0)\n",
      "           Predict: 0.0\n",
      "         Else (feature 33 > 9.0)\n",
      "          If (feature 34 <= 0.090909091)\n",
      "           Predict: 0.0\n",
      "          Else (feature 34 > 0.090909091)\n",
      "           Predict: 1.0\n",
      "    Else (feature 35 > 0.166666667)\n",
      "     If (feature 29 <= 64.0)\n",
      "      If (feature 14 <= 0.364581)\n",
      "       Predict: 0.0\n",
      "      Else (feature 14 > 0.364581)\n",
      "       If (feature 32 <= 121.0)\n",
      "        If (feature 27 <= 0.0)\n",
      "         If (feature 29 <= 45.0)\n",
      "          Predict: 0.0\n",
      "         Else (feature 29 > 45.0)\n",
      "          Predict: 1.0\n",
      "        Else (feature 27 > 0.0)\n",
      "         If (feature 25 <= 0.303613929)\n",
      "          Predict: 1.0\n",
      "         Else (feature 25 > 0.303613929)\n",
      "          Predict: 0.0\n",
      "       Else (feature 32 > 121.0)\n",
      "        Predict: 0.0\n",
      "     Else (feature 29 > 64.0)\n",
      "      Predict: 1.0\n",
      "   Else (feature 2 not in {1.0})\n",
      "    If (feature 23 <= 0.036191297)\n",
      "     If (feature 16 <= 0.755813953)\n",
      "      If (feature 1 in {1.0})\n",
      "       If (feature 31 <= 864.0)\n",
      "        If (feature 25 <= 0.195499804)\n",
      "         Predict: 0.0\n",
      "        Else (feature 25 > 0.195499804)\n",
      "         If (feature 14 <= 0.0784091)\n",
      "          Predict: 0.0\n",
      "         Else (feature 14 > 0.0784091)\n",
      "          Predict: 1.0\n",
      "       Else (feature 31 > 864.0)\n",
      "        If (feature 29 <= 18.0)\n",
      "         Predict: 0.0\n",
      "        Else (feature 29 > 18.0)\n",
      "         If (feature 17 <= 0.357466063)\n",
      "          Predict: 1.0\n",
      "         Else (feature 17 > 0.357466063)\n",
      "          If (feature 17 <= 0.436893204)\n",
      "           Predict: 0.0\n",
      "          Else (feature 17 > 0.436893204)\n",
      "           Predict: 1.0\n",
      "      Else (feature 1 not in {1.0})\n",
      "       If (feature 29 <= 29.0)\n",
      "        If (feature 9 in {1.0})\n",
      "         Predict: 0.0\n",
      "        Else (feature 9 not in {1.0})\n",
      "         If (feature 33 <= 0.0)\n",
      "          If (feature 17 <= 0.2)\n",
      "           Predict: 0.0\n",
      "          Else (feature 17 > 0.2)\n",
      "           Predict: 1.0\n",
      "         Else (feature 33 > 0.0)\n",
      "          If (feature 34 <= 0.176470588)\n",
      "           If (feature 26 <= 0.061403509)\n",
      "            Predict: 1.0\n",
      "           Else (feature 26 > 0.061403509)\n",
      "            Predict: 1.0\n",
      "          Else (feature 34 > 0.176470588)\n",
      "           If (feature 35 <= 0.095559846)\n",
      "            Predict: 1.0\n",
      "           Else (feature 35 > 0.095559846)\n",
      "            Predict: 0.0\n",
      "       Else (feature 29 > 29.0)\n",
      "        If (feature 3 in {1.0})\n",
      "         If (feature 29 <= 53.0)\n",
      "          Predict: 1.0\n",
      "         Else (feature 29 > 53.0)\n",
      "          If (feature 28 <= 0.0)\n",
      "           Predict: 0.0\n",
      "          Else (feature 28 > 0.0)\n",
      "           If (feature 15 <= 2.208955224)\n",
      "            Predict: 1.0\n",
      "           Else (feature 15 > 2.208955224)\n",
      "            Predict: 0.0\n",
      "        Else (feature 3 not in {1.0})\n",
      "         If (feature 6 in {1.0})\n",
      "          If (feature 16 <= 0.481481481)\n",
      "           If (feature 15 <= 1.956521739)\n",
      "            Predict: 1.0\n",
      "           Else (feature 15 > 1.956521739)\n",
      "            Predict: 0.0\n",
      "          Else (feature 16 > 0.481481481)\n",
      "           Predict: 1.0\n",
      "         Else (feature 6 not in {1.0})\n",
      "          If (feature 31 <= 864.0)\n",
      "           If (feature 4 in {1.0})\n",
      "            Predict: 1.0\n",
      "           Else (feature 4 not in {1.0})\n",
      "            Predict: 0.0\n",
      "          Else (feature 31 > 864.0)\n",
      "           If (feature 17 <= 0.357466063)\n",
      "            Predict: 0.0\n",
      "           Else (feature 17 > 0.357466063)\n",
      "            Predict: 1.0\n",
      "     Else (feature 16 > 0.755813953)\n",
      "      If (feature 25 <= 0.265739174)\n",
      "       If (feature 29 <= 33.0)\n",
      "        Predict: 0.0\n",
      "       Else (feature 29 > 33.0)\n",
      "        If (feature 31 <= 864.0)\n",
      "         If (feature 18 <= 0.102389078)\n",
      "          Predict: 1.0\n",
      "         Else (feature 18 > 0.102389078)\n",
      "          If (feature 0 in {0.0})\n",
      "           Predict: 0.0\n",
      "          Else (feature 0 not in {0.0})\n",
      "           If (feature 15 <= 2.357575758)\n",
      "            Predict: 0.0\n",
      "           Else (feature 15 > 2.357575758)\n",
      "            Predict: 1.0\n",
      "        Else (feature 31 > 864.0)\n",
      "         If (feature 3 in {1.0})\n",
      "          If (feature 35 <= 0.039772727)\n",
      "           Predict: 0.0\n",
      "          Else (feature 35 > 0.039772727)\n",
      "           Predict: 1.0\n",
      "         Else (feature 3 not in {1.0})\n",
      "          Predict: 1.0\n",
      "      Else (feature 25 > 0.265739174)\n",
      "       If (feature 0 in {0.0})\n",
      "        Predict: 0.0\n",
      "       Else (feature 0 not in {0.0})\n",
      "        Predict: 1.0\n",
      "    Else (feature 23 > 0.036191297)\n",
      "     If (feature 20 <= 0.499008592)\n",
      "      If (feature 5 in {1.0})\n",
      "       If (feature 14 <= 0.231925)\n",
      "        Predict: 1.0\n",
      "       Else (feature 14 > 0.231925)\n",
      "        If (feature 19 <= 0.165876777)\n",
      "         Predict: 0.0\n",
      "        Else (feature 19 > 0.165876777)\n",
      "         Predict: 1.0\n",
      "      Else (feature 5 not in {1.0})\n",
      "       If (feature 18 <= 0.06763285)\n",
      "        If (feature 33 <= 1.0)\n",
      "         If (feature 30 <= 0.0)\n",
      "          If (feature 25 <= 0.303613929)\n",
      "           Predict: 0.0\n",
      "          Else (feature 25 > 0.303613929)\n",
      "           If (feature 23 <= 0.041284404)\n",
      "            Predict: 1.0\n",
      "           Else (feature 23 > 0.041284404)\n",
      "            Predict: 0.0\n",
      "         Else (feature 30 > 0.0)\n",
      "          Predict: 1.0\n",
      "        Else (feature 33 > 1.0)\n",
      "         If (feature 31 <= 1337.0)\n",
      "          If (feature 35 <= 0.109057301)\n",
      "           If (feature 15 <= 2.524590164)\n",
      "            Predict: 0.0\n",
      "           Else (feature 15 > 2.524590164)\n",
      "            Predict: 1.0\n",
      "          Else (feature 35 > 0.109057301)\n",
      "           If (feature 16 <= 0.3125)\n",
      "            Predict: 0.0\n",
      "           Else (feature 16 > 0.3125)\n",
      "            Predict: 1.0\n",
      "         Else (feature 31 > 1337.0)\n",
      "          If (feature 32 <= 137.0)\n",
      "           If (feature 33 <= 7.0)\n",
      "            Predict: 1.0\n",
      "           Else (feature 33 > 7.0)\n",
      "            Predict: 0.0\n",
      "          Else (feature 32 > 137.0)\n",
      "           If (feature 15 <= 2.084033613)\n",
      "            Predict: 0.0\n",
      "           Else (feature 15 > 2.084033613)\n",
      "            Predict: 1.0\n",
      "       Else (feature 18 > 0.06763285)\n",
      "        If (feature 19 <= 0.055363322)\n",
      "         If (feature 16 <= 0.686131387)\n",
      "          If (feature 35 <= 0.117647059)\n",
      "           If (feature 21 <= 0.0)\n",
      "            Predict: 1.0\n",
      "           Else (feature 21 > 0.0)\n",
      "            Predict: 0.0\n",
      "          Else (feature 35 > 0.117647059)\n",
      "           If (feature 17 <= 0.282208589)\n",
      "            Predict: 0.0\n",
      "           Else (feature 17 > 0.282208589)\n",
      "            Predict: 1.0\n",
      "         Else (feature 16 > 0.686131387)\n",
      "          If (feature 35 <= 0.054545455)\n",
      "           Predict: 1.0\n",
      "          Else (feature 35 > 0.054545455)\n",
      "           If (feature 20 <= 0.461231995)\n",
      "            Predict: 1.0\n",
      "           Else (feature 20 > 0.461231995)\n",
      "            Predict: 0.0\n",
      "        Else (feature 19 > 0.055363322)\n",
      "         If (feature 35 <= 0.095559846)\n",
      "          If (feature 29 <= 45.0)\n",
      "           Predict: 1.0\n",
      "          Else (feature 29 > 45.0)\n",
      "           If (feature 6 in {1.0})\n",
      "            Predict: 1.0\n",
      "           Else (feature 6 not in {1.0})\n",
      "            Predict: 0.0\n",
      "         Else (feature 35 > 0.095559846)\n",
      "          If (feature 26 <= 0.020804438)\n",
      "           Predict: 1.0\n",
      "          Else (feature 26 > 0.020804438)\n",
      "           Predict: 0.0\n",
      "     Else (feature 20 > 0.499008592)\n",
      "      If (feature 4 in {1.0})\n",
      "       If (feature 32 <= 26.0)\n",
      "        If (feature 15 <= 1.307228916)\n",
      "         If (feature 14 <= 0.231925)\n",
      "          Predict: 1.0\n",
      "         Else (feature 14 > 0.231925)\n",
      "          Predict: 0.0\n",
      "        Else (feature 15 > 1.307228916)\n",
      "         Predict: 0.0\n",
      "       Else (feature 32 > 26.0)\n",
      "        If (feature 34 <= 0.352272727)\n",
      "         If (feature 35 <= 0.054545455)\n",
      "          If (feature 17 <= 0.2)\n",
      "           Predict: 1.0\n",
      "          Else (feature 17 > 0.2)\n",
      "           Predict: 0.0\n",
      "         Else (feature 35 > 0.054545455)\n",
      "          If (feature 24 <= 0.0)\n",
      "           If (feature 26 <= 0.199304751)\n",
      "            Predict: 1.0\n",
      "           Else (feature 26 > 0.199304751)\n",
      "            Predict: 1.0\n",
      "          Else (feature 24 > 0.0)\n",
      "           Predict: 0.0\n",
      "        Else (feature 34 > 0.352272727)\n",
      "         Predict: 0.0\n",
      "      Else (feature 4 not in {1.0})\n",
      "       If (feature 16 <= 0.134146341)\n",
      "        If (feature 34 <= 0.142414861)\n",
      "         If (feature 15 <= 1.03125)\n",
      "          If (feature 25 <= 0.184161515)\n",
      "           Predict: 1.0\n",
      "          Else (feature 25 > 0.184161515)\n",
      "           If (feature 26 <= 0.452380952)\n",
      "            Predict: 0.0\n",
      "           Else (feature 26 > 0.452380952)\n",
      "            Predict: 0.0\n",
      "         Else (feature 15 > 1.03125)\n",
      "          If (feature 25 <= 0.256518987)\n",
      "           If (feature 20 <= 11.0)\n",
      "            Predict: 0.0\n",
      "           Else (feature 20 > 11.0)\n",
      "            Predict: 1.0\n",
      "          Else (feature 25 > 0.256518987)\n",
      "           If (feature 15 <= 2.74025974)\n",
      "            Predict: 0.0\n",
      "           Else (feature 15 > 2.74025974)\n",
      "            Predict: 1.0\n",
      "        Else (feature 34 > 0.142414861)\n",
      "         If (feature 25 <= 0.265739174)\n",
      "          If (feature 15 <= 2.524590164)\n",
      "           If (feature 5 in {0.0})\n",
      "            Predict: 0.0\n",
      "           Else (feature 5 not in {0.0})\n",
      "            Predict: 1.0\n",
      "          Else (feature 15 > 2.524590164)\n",
      "           Predict: 1.0\n",
      "         Else (feature 25 > 0.265739174)\n",
      "          If (feature 5 in {1.0})\n",
      "           Predict: 0.0\n",
      "          Else (feature 5 not in {1.0})\n",
      "           If (feature 14 <= 0.736574)\n",
      "            Predict: 1.0\n",
      "           Else (feature 14 > 0.736574)\n",
      "            Predict: 0.0\n",
      "       Else (feature 16 > 0.134146341)\n",
      "        If (feature 32 <= 26.0)\n",
      "         If (feature 29 <= 33.0)\n",
      "          If (feature 34 <= 0.176470588)\n",
      "           If (feature 25 <= 0.256518987)\n",
      "            Predict: 0.0\n",
      "           Else (feature 25 > 0.256518987)\n",
      "            Predict: 1.0\n",
      "          Else (feature 34 > 0.176470588)\n",
      "           Predict: 0.0\n",
      "         Else (feature 29 > 33.0)\n",
      "          If (feature 30 <= 0.0)\n",
      "           If (feature 25 <= 0.247838404)\n",
      "            Predict: 0.0\n",
      "           Else (feature 25 > 0.247838404)\n",
      "            Predict: 0.0\n",
      "          Else (feature 30 > 0.0)\n",
      "           Predict: 1.0\n",
      "        Else (feature 32 > 26.0)\n",
      "         If (feature 28 <= 0.0)\n",
      "          If (feature 18 <= 0.027173913)\n",
      "           If (feature 24 <= 0.0)\n",
      "            Predict: 0.0\n",
      "           Else (feature 24 > 0.0)\n",
      "            Predict: 1.0\n",
      "          Else (feature 18 > 0.027173913)\n",
      "           If (feature 34 <= 0.270718232)\n",
      "            Predict: 1.0\n",
      "           Else (feature 34 > 0.270718232)\n",
      "            Predict: 0.0\n",
      "         Else (feature 28 > 0.0)\n",
      "          If (feature 17 <= 0.053030303)\n",
      "           If (feature 29 <= 53.0)\n",
      "            Predict: 0.0\n",
      "           Else (feature 29 > 53.0)\n",
      "            Predict: 1.0\n",
      "          Else (feature 17 > 0.053030303)\n",
      "           If (feature 5 in {1.0})\n",
      "            Predict: 0.0\n",
      "           Else (feature 5 not in {1.0})\n",
      "            Predict: 0.0\n",
      "  Else (feature 31 > 1803.0)\n",
      "   If (feature 1 in {1.0})\n",
      "    If (feature 35 <= 0.095559846)\n",
      "     If (feature 32 <= 26.0)\n",
      "      If (feature 14 <= 0.469631)\n",
      "       Predict: 0.0\n",
      "      Else (feature 14 > 0.469631)\n",
      "       Predict: 1.0\n",
      "     Else (feature 32 > 26.0)\n",
      "      If (feature 14 <= 0.85)\n",
      "       If (feature 23 <= 0.092783505)\n",
      "        If (feature 20 <= 11.0)\n",
      "         If (feature 15 <= 2.74025974)\n",
      "          If (feature 26 <= 0.00952381)\n",
      "           If (feature 20 <= 0.3890625)\n",
      "            Predict: 1.0\n",
      "           Else (feature 20 > 0.3890625)\n",
      "            Predict: 0.0\n",
      "          Else (feature 26 > 0.00952381)\n",
      "           If (feature 23 <= 0.031667491)\n",
      "            Predict: 1.0\n",
      "           Else (feature 23 > 0.031667491)\n",
      "            Predict: 1.0\n",
      "         Else (feature 15 > 2.74025974)\n",
      "          If (feature 29 <= 25.0)\n",
      "           If (feature 26 <= 0.452380952)\n",
      "            Predict: 1.0\n",
      "           Else (feature 26 > 0.452380952)\n",
      "            Predict: 1.0\n",
      "          Else (feature 29 > 25.0)\n",
      "           If (feature 26 <= 0.283333333)\n",
      "            Predict: 0.0\n",
      "           Else (feature 26 > 0.283333333)\n",
      "            Predict: 1.0\n",
      "        Else (feature 20 > 11.0)\n",
      "         Predict: 0.0\n",
      "       Else (feature 23 > 0.092783505)\n",
      "        If (feature 21 <= 0.0)\n",
      "         If (feature 29 <= 33.0)\n",
      "          Predict: 1.0\n",
      "         Else (feature 29 > 33.0)\n",
      "          Predict: 0.0\n",
      "        Else (feature 21 > 0.0)\n",
      "         Predict: 0.0\n",
      "      Else (feature 14 > 0.85)\n",
      "       If (feature 15 <= 2.524590164)\n",
      "        If (feature 18 <= 0.052493438)\n",
      "         If (feature 15 <= 2.208955224)\n",
      "          Predict: 0.0\n",
      "         Else (feature 15 > 2.208955224)\n",
      "          Predict: 1.0\n",
      "        Else (feature 18 > 0.052493438)\n",
      "         If (feature 18 <= 0.233463035)\n",
      "          Predict: 1.0\n",
      "         Else (feature 18 > 0.233463035)\n",
      "          Predict: 0.0\n",
      "       Else (feature 15 > 2.524590164)\n",
      "        Predict: 0.0\n",
      "    Else (feature 35 > 0.095559846)\n",
      "     If (feature 26 <= 0.020804438)\n",
      "      If (feature 25 <= 0.214938187)\n",
      "       If (feature 29 <= 9.0)\n",
      "        Predict: 1.0\n",
      "       Else (feature 29 > 9.0)\n",
      "        Predict: 0.0\n",
      "      Else (feature 25 > 0.214938187)\n",
      "       If (feature 14 <= 0.672267)\n",
      "        If (feature 29 <= 29.0)\n",
      "         If (feature 33 <= 5.0)\n",
      "          Predict: 1.0\n",
      "         Else (feature 33 > 5.0)\n",
      "          If (feature 20 <= 0.435738444)\n",
      "           Predict: 1.0\n",
      "          Else (feature 20 > 0.435738444)\n",
      "           If (feature 17 <= 0.316666667)\n",
      "            Predict: 0.0\n",
      "           Else (feature 17 > 0.316666667)\n",
      "            Predict: 1.0\n",
      "        Else (feature 29 > 29.0)\n",
      "         Predict: 0.0\n",
      "       Else (feature 14 > 0.672267)\n",
      "        If (feature 16 <= 0.481481481)\n",
      "         Predict: 0.0\n",
      "        Else (feature 16 > 0.481481481)\n",
      "         Predict: 1.0\n",
      "     Else (feature 26 > 0.020804438)\n",
      "      If (feature 14 <= 0.0784091)\n",
      "       If (feature 18 <= 0.039370079)\n",
      "        Predict: 0.0\n",
      "       Else (feature 18 > 0.039370079)\n",
      "        Predict: 1.0\n",
      "      Else (feature 14 > 0.0784091)\n",
      "       If (feature 15 <= 2.524590164)\n",
      "        If (feature 31 <= 14224.0)\n",
      "         If (feature 15 <= 1.03125)\n",
      "          If (feature 26 <= 0.108721625)\n",
      "           Predict: 1.0\n",
      "          Else (feature 26 > 0.108721625)\n",
      "           If (feature 33 <= 4.0)\n",
      "            Predict: 1.0\n",
      "           Else (feature 33 > 4.0)\n",
      "            Predict: 0.0\n",
      "         Else (feature 15 > 1.03125)\n",
      "          If (feature 35 <= 0.166666667)\n",
      "           If (feature 25 <= 0.247838404)\n",
      "            Predict: 1.0\n",
      "           Else (feature 25 > 0.247838404)\n",
      "            Predict: 1.0\n",
      "          Else (feature 35 > 0.166666667)\n",
      "           If (feature 16 <= 0.444751381)\n",
      "            Predict: 1.0\n",
      "           Else (feature 16 > 0.444751381)\n",
      "            Predict: 0.0\n",
      "        Else (feature 31 > 14224.0)\n",
      "         If (feature 16 <= 0.634782609)\n",
      "          If (feature 32 <= 207.0)\n",
      "           If (feature 15 <= 2.084033613)\n",
      "            Predict: 1.0\n",
      "           Else (feature 15 > 2.084033613)\n",
      "            Predict: 0.0\n",
      "          Else (feature 32 > 207.0)\n",
      "           Predict: 0.0\n",
      "         Else (feature 16 > 0.634782609)\n",
      "          Predict: 1.0\n",
      "       Else (feature 15 > 2.524590164)\n",
      "        If (feature 35 <= 0.101449275)\n",
      "         If (feature 17 <= 0.225490196)\n",
      "          Predict: 0.0\n",
      "         Else (feature 17 > 0.225490196)\n",
      "          If (feature 20 <= 0.449941452)\n",
      "           Predict: 0.0\n",
      "          Else (feature 20 > 0.449941452)\n",
      "           If (feature 14 <= 0.540131)\n",
      "            Predict: 1.0\n",
      "           Else (feature 14 > 0.540131)\n",
      "            Predict: 0.0\n",
      "        Else (feature 35 > 0.101449275)\n",
      "         If (feature 27 <= 0.0)\n",
      "          Predict: 1.0\n",
      "         Else (feature 27 > 0.0)\n",
      "          If (feature 14 <= 0.809344)\n",
      "           If (feature 26 <= 0.046464646)\n",
      "            Predict: 1.0\n",
      "           Else (feature 26 > 0.046464646)\n",
      "            Predict: 0.0\n",
      "          Else (feature 14 > 0.809344)\n",
      "           Predict: 1.0\n",
      "   Else (feature 1 not in {1.0})\n",
      "    If (feature 3 in {1.0})\n",
      "     If (feature 15 <= 2.74025974)\n",
      "      If (feature 35 <= 0.131455399)\n",
      "       If (feature 23 <= 0.036191297)\n",
      "        If (feature 16 <= 0.239766082)\n",
      "         If (feature 31 <= 14224.0)\n",
      "          If (feature 31 <= 2375.0)\n",
      "           Predict: 0.0\n",
      "          Else (feature 31 > 2375.0)\n",
      "           If (feature 25 <= 0.303613929)\n",
      "            Predict: 1.0\n",
      "           Else (feature 25 > 0.303613929)\n",
      "            Predict: 0.0\n",
      "         Else (feature 31 > 14224.0)\n",
      "          Predict: 0.0\n",
      "        Else (feature 16 > 0.239766082)\n",
      "         If (feature 26 <= 0.032085561)\n",
      "          If (feature 14 <= 0.364581)\n",
      "           Predict: 0.0\n",
      "          Else (feature 14 > 0.364581)\n",
      "           If (feature 16 <= 0.755813953)\n",
      "            Predict: 1.0\n",
      "           Else (feature 16 > 0.755813953)\n",
      "            Predict: 0.0\n",
      "         Else (feature 26 > 0.032085561)\n",
      "          If (feature 31 <= 2945.0)\n",
      "           If (feature 14 <= 0.469631)\n",
      "            Predict: 0.0\n",
      "           Else (feature 14 > 0.469631)\n",
      "            Predict: 1.0\n",
      "          Else (feature 31 > 2945.0)\n",
      "           Predict: 1.0\n",
      "       Else (feature 23 > 0.036191297)\n",
      "        If (feature 34 <= 0.018181818)\n",
      "         If (feature 29 <= 18.0)\n",
      "          If (feature 18 <= 0.0)\n",
      "           If (feature 20 <= 0.3890625)\n",
      "            Predict: 1.0\n",
      "           Else (feature 20 > 0.3890625)\n",
      "            Predict: 0.0\n",
      "          Else (feature 18 > 0.0)\n",
      "           Predict: 1.0\n",
      "         Else (feature 29 > 18.0)\n",
      "          If (feature 35 <= 0.101449275)\n",
      "           Predict: 0.0\n",
      "          Else (feature 35 > 0.101449275)\n",
      "           Predict: 1.0\n",
      "        Else (feature 34 > 0.018181818)\n",
      "         If (feature 26 <= 0.020804438)\n",
      "          If (feature 35 <= 0.101449275)\n",
      "           If (feature 35 <= 0.039772727)\n",
      "            Predict: 0.0\n",
      "           Else (feature 35 > 0.039772727)\n",
      "            Predict: 1.0\n",
      "          Else (feature 35 > 0.101449275)\n",
      "           If (feature 23 <= 0.069243156)\n",
      "            Predict: 0.0\n",
      "           Else (feature 23 > 0.069243156)\n",
      "            Predict: 1.0\n",
      "         Else (feature 26 > 0.020804438)\n",
      "          If (feature 25 <= 0.184161515)\n",
      "           If (feature 34 <= 0.142414861)\n",
      "            Predict: 0.0\n",
      "           Else (feature 34 > 0.142414861)\n",
      "            Predict: 1.0\n",
      "          Else (feature 25 > 0.184161515)\n",
      "           If (feature 15 <= 1.822222222)\n",
      "            Predict: 1.0\n",
      "           Else (feature 15 > 1.822222222)\n",
      "            Predict: 1.0\n",
      "      Else (feature 35 > 0.131455399)\n",
      "       If (feature 20 <= 0.499008592)\n",
      "        If (feature 25 <= 0.278417839)\n",
      "         If (feature 18 <= 0.084158416)\n",
      "          Predict: 0.0\n",
      "         Else (feature 18 > 0.084158416)\n",
      "          If (feature 14 <= 0.469631)\n",
      "           Predict: 1.0\n",
      "          Else (feature 14 > 0.469631)\n",
      "           Predict: 0.0\n",
      "        Else (feature 25 > 0.278417839)\n",
      "         Predict: 1.0\n",
      "       Else (feature 20 > 0.499008592)\n",
      "        If (feature 17 <= 0.282208589)\n",
      "         Predict: 1.0\n",
      "        Else (feature 17 > 0.282208589)\n",
      "         Predict: 0.0\n",
      "     Else (feature 15 > 2.74025974)\n",
      "      If (feature 19 <= 0.030120482)\n",
      "       If (feature 31 <= 2375.0)\n",
      "        Predict: 0.0\n",
      "       Else (feature 31 > 2375.0)\n",
      "        Predict: 1.0\n",
      "      Else (feature 19 > 0.030120482)\n",
      "       If (feature 17 <= 0.436893204)\n",
      "        If (feature 29 <= 45.0)\n",
      "         If (feature 17 <= 0.15)\n",
      "          Predict: 0.0\n",
      "         Else (feature 17 > 0.15)\n",
      "          If (feature 31 <= 4120.0)\n",
      "           Predict: 1.0\n",
      "          Else (feature 31 > 4120.0)\n",
      "           If (feature 25 <= 0.265739174)\n",
      "            Predict: 1.0\n",
      "           Else (feature 25 > 0.265739174)\n",
      "            Predict: 0.0\n",
      "        Else (feature 29 > 45.0)\n",
      "         If (feature 18 <= 0.084158416)\n",
      "          Predict: 1.0\n",
      "         Else (feature 18 > 0.084158416)\n",
      "          Predict: 0.0\n",
      "       Else (feature 17 > 0.436893204)\n",
      "        If (feature 25 <= 0.184161515)\n",
      "         Predict: 0.0\n",
      "        Else (feature 25 > 0.184161515)\n",
      "         If (feature 33 <= 9.0)\n",
      "          Predict: 1.0\n",
      "         Else (feature 33 > 9.0)\n",
      "          If (feature 14 <= 0.672267)\n",
      "           Predict: 0.0\n",
      "          Else (feature 14 > 0.672267)\n",
      "           Predict: 1.0\n",
      "    Else (feature 3 not in {1.0})\n",
      "     If (feature 14 <= 0.469631)\n",
      "      If (feature 15 <= 2.357575758)\n",
      "       If (feature 18 <= 0.06763285)\n",
      "        If (feature 29 <= 33.0)\n",
      "         If (feature 33 <= 7.0)\n",
      "          If (feature 30 <= 0.0)\n",
      "           If (feature 34 <= 0.496012759)\n",
      "            Predict: 1.0\n",
      "           Else (feature 34 > 0.496012759)\n",
      "            Predict: 0.0\n",
      "          Else (feature 30 > 0.0)\n",
      "           If (feature 16 <= 0.3125)\n",
      "            Predict: 1.0\n",
      "           Else (feature 16 > 0.3125)\n",
      "            Predict: 0.0\n",
      "         Else (feature 33 > 7.0)\n",
      "          If (feature 24 <= 0.0)\n",
      "           If (feature 20 <= 0.435738444)\n",
      "            Predict: 1.0\n",
      "           Else (feature 20 > 0.435738444)\n",
      "            Predict: 0.0\n",
      "          Else (feature 24 > 0.0)\n",
      "           Predict: 1.0\n",
      "        Else (feature 29 > 33.0)\n",
      "         If (feature 19 <= 0.0)\n",
      "          Predict: 0.0\n",
      "         Else (feature 19 > 0.0)\n",
      "          If (feature 20 <= 0.449941452)\n",
      "           If (feature 17 <= 0.15)\n",
      "            Predict: 0.0\n",
      "           Else (feature 17 > 0.15)\n",
      "            Predict: 1.0\n",
      "          Else (feature 20 > 0.449941452)\n",
      "           If (feature 25 <= 0.230745263)\n",
      "            Predict: 0.0\n",
      "           Else (feature 25 > 0.230745263)\n",
      "            Predict: 0.0\n",
      "       Else (feature 18 > 0.06763285)\n",
      "        If (feature 26 <= 0.020804438)\n",
      "         If (feature 29 <= 39.0)\n",
      "          If (feature 18 <= 0.102389078)\n",
      "           If (feature 23 <= 0.092783505)\n",
      "            Predict: 0.0\n",
      "           Else (feature 23 > 0.092783505)\n",
      "            Predict: 1.0\n",
      "          Else (feature 18 > 0.102389078)\n",
      "           If (feature 16 <= 0.634782609)\n",
      "            Predict: 1.0\n",
      "           Else (feature 16 > 0.634782609)\n",
      "            Predict: 1.0\n",
      "         Else (feature 29 > 39.0)\n",
      "          If (feature 16 <= 0.686131387)\n",
      "           If (feature 24 <= 0.0)\n",
      "            Predict: 0.0\n",
      "           Else (feature 24 > 0.0)\n",
      "            Predict: 0.0\n",
      "          Else (feature 16 > 0.686131387)\n",
      "           If (feature 17 <= 0.436893204)\n",
      "            Predict: 0.0\n",
      "           Else (feature 17 > 0.436893204)\n",
      "            Predict: 1.0\n",
      "        Else (feature 26 > 0.020804438)\n",
      "         If (feature 26 <= 0.8875)\n",
      "          If (feature 17 <= 0.251798561)\n",
      "           If (feature 23 <= 0.092783505)\n",
      "            Predict: 1.0\n",
      "           Else (feature 23 > 0.092783505)\n",
      "            Predict: 0.0\n",
      "          Else (feature 17 > 0.251798561)\n",
      "           If (feature 23 <= 0.060869565)\n",
      "            Predict: 1.0\n",
      "           Else (feature 23 > 0.060869565)\n",
      "            Predict: 0.0\n",
      "         Else (feature 26 > 0.8875)\n",
      "          If (feature 33 <= 2.0)\n",
      "           If (feature 15 <= 1.03125)\n",
      "            Predict: 1.0\n",
      "           Else (feature 15 > 1.03125)\n",
      "            Predict: 0.0\n",
      "          Else (feature 33 > 2.0)\n",
      "           If (feature 15 <= 2.084033613)\n",
      "            Predict: 1.0\n",
      "           Else (feature 15 > 2.084033613)\n",
      "            Predict: 0.0\n",
      "      Else (feature 15 > 2.357575758)\n",
      "       If (feature 23 <= 0.041284404)\n",
      "        If (feature 33 <= 0.0)\n",
      "         If (feature 29 <= 53.0)\n",
      "          If (feature 0 in {0.0})\n",
      "           Predict: 0.0\n",
      "          Else (feature 0 not in {0.0})\n",
      "           If (feature 15 <= 3.798798799)\n",
      "            Predict: 1.0\n",
      "           Else (feature 15 > 3.798798799)\n",
      "            Predict: 0.0\n",
      "         Else (feature 29 > 53.0)\n",
      "          Predict: 0.0\n",
      "        Else (feature 33 > 0.0)\n",
      "         If (feature 34 <= 0.142414861)\n",
      "          If (feature 16 <= 0.686131387)\n",
      "           If (feature 34 <= 0.090909091)\n",
      "            Predict: 0.0\n",
      "           Else (feature 34 > 0.090909091)\n",
      "            Predict: 0.0\n",
      "          Else (feature 16 > 0.686131387)\n",
      "           If (feature 20 <= 0.435738444)\n",
      "            Predict: 0.0\n",
      "           Else (feature 20 > 0.435738444)\n",
      "            Predict: 1.0\n",
      "         Else (feature 34 > 0.142414861)\n",
      "          If (feature 34 <= 0.352272727)\n",
      "           If (feature 35 <= 0.078328982)\n",
      "            Predict: 1.0\n",
      "           Else (feature 35 > 0.078328982)\n",
      "            Predict: 1.0\n",
      "          Else (feature 34 > 0.352272727)\n",
      "           If (feature 35 <= 0.054545455)\n",
      "            Predict: 0.0\n",
      "           Else (feature 35 > 0.054545455)\n",
      "            Predict: 1.0\n",
      "       Else (feature 23 > 0.041284404)\n",
      "        If (feature 20 <= 0.461231995)\n",
      "         If (feature 29 <= 45.0)\n",
      "          If (feature 35 <= 0.054545455)\n",
      "           If (feature 17 <= 0.316666667)\n",
      "            Predict: 1.0\n",
      "           Else (feature 17 > 0.316666667)\n",
      "            Predict: 0.0\n",
      "          Else (feature 35 > 0.054545455)\n",
      "           If (feature 25 <= 0.239493268)\n",
      "            Predict: 0.0\n",
      "           Else (feature 25 > 0.239493268)\n",
      "            Predict: 0.0\n",
      "         Else (feature 29 > 45.0)\n",
      "          If (feature 21 <= 0.0)\n",
      "           If (feature 23 <= 0.060869565)\n",
      "            Predict: 1.0\n",
      "           Else (feature 23 > 0.060869565)\n",
      "            Predict: 1.0\n",
      "          Else (feature 21 > 0.0)\n",
      "           Predict: 0.0\n",
      "        Else (feature 20 > 0.461231995)\n",
      "         If (feature 26 <= 0.108721625)\n",
      "          If (feature 15 <= 3.031746032)\n",
      "           If (feature 18 <= 0.176470588)\n",
      "            Predict: 0.0\n",
      "           Else (feature 18 > 0.176470588)\n",
      "            Predict: 1.0\n",
      "          Else (feature 15 > 3.031746032)\n",
      "           If (feature 4 in {0.0})\n",
      "            Predict: 0.0\n",
      "           Else (feature 4 not in {0.0})\n",
      "            Predict: 1.0\n",
      "         Else (feature 26 > 0.108721625)\n",
      "          If (feature 17 <= 0.225490196)\n",
      "           If (feature 32 <= 245.0)\n",
      "            Predict: 1.0\n",
      "           Else (feature 32 > 245.0)\n",
      "            Predict: 0.0\n",
      "          Else (feature 17 > 0.225490196)\n",
      "           If (feature 25 <= 0.256518987)\n",
      "            Predict: 0.0\n",
      "           Else (feature 25 > 0.256518987)\n",
      "            Predict: 1.0\n",
      "     Else (feature 14 > 0.469631)\n",
      "      If (feature 5 in {1.0})\n",
      "       If (feature 26 <= 0.00952381)\n",
      "        If (feature 23 <= 0.046548957)\n",
      "         Predict: 1.0\n",
      "        Else (feature 23 > 0.046548957)\n",
      "         If (feature 16 <= 0.755813953)\n",
      "          Predict: 0.0\n",
      "         Else (feature 16 > 0.755813953)\n",
      "          Predict: 1.0\n",
      "       Else (feature 26 > 0.00952381)\n",
      "        If (feature 33 <= 6.0)\n",
      "         If (feature 15 <= 2.524590164)\n",
      "          If (feature 15 <= 2.357575758)\n",
      "           If (feature 17 <= 0.282208589)\n",
      "            Predict: 0.0\n",
      "           Else (feature 17 > 0.282208589)\n",
      "            Predict: 1.0\n",
      "          Else (feature 15 > 2.357575758)\n",
      "           If (feature 34 <= 0.270718232)\n",
      "            Predict: 1.0\n",
      "           Else (feature 34 > 0.270718232)\n",
      "            Predict: 0.0\n",
      "         Else (feature 15 > 2.524590164)\n",
      "          If (feature 28 <= 0.0)\n",
      "           Predict: 1.0\n",
      "          Else (feature 28 > 0.0)\n",
      "           If (feature 34 <= 0.067669173)\n",
      "            Predict: 0.0\n",
      "           Else (feature 34 > 0.067669173)\n",
      "            Predict: 0.0\n",
      "        Else (feature 33 > 6.0)\n",
      "         If (feature 29 <= 53.0)\n",
      "          If (feature 35 <= 0.166666667)\n",
      "           If (feature 20 <= 0.473238482)\n",
      "            Predict: 0.0\n",
      "           Else (feature 20 > 0.473238482)\n",
      "            Predict: 0.0\n",
      "          Else (feature 35 > 0.166666667)\n",
      "           If (feature 14 <= 0.809344)\n",
      "            Predict: 0.0\n",
      "           Else (feature 14 > 0.809344)\n",
      "            Predict: 1.0\n",
      "         Else (feature 29 > 53.0)\n",
      "          If (feature 14 <= 0.809344)\n",
      "           Predict: 1.0\n",
      "          Else (feature 14 > 0.809344)\n",
      "           Predict: 0.0\n",
      "      Else (feature 5 not in {1.0})\n",
      "       If (feature 7 in {1.0})\n",
      "        If (feature 14 <= 0.540131)\n",
      "         If (feature 15 <= 1.822222222)\n",
      "          If (feature 26 <= 0.032085561)\n",
      "           If (feature 25 <= 0.167384934)\n",
      "            Predict: 1.0\n",
      "           Else (feature 25 > 0.167384934)\n",
      "            Predict: 0.0\n",
      "          Else (feature 26 > 0.032085561)\n",
      "           Predict: 1.0\n",
      "         Else (feature 15 > 1.822222222)\n",
      "          Predict: 0.0\n",
      "        Else (feature 14 > 0.540131)\n",
      "         If (feature 25 <= 0.223222905)\n",
      "          If (feature 31 <= 3487.0)\n",
      "           Predict: 0.0\n",
      "          Else (feature 31 > 3487.0)\n",
      "           If (feature 20 <= 0.418531606)\n",
      "            Predict: 1.0\n",
      "           Else (feature 20 > 0.418531606)\n",
      "            Predict: 0.0\n",
      "         Else (feature 25 > 0.223222905)\n",
      "          If (feature 26 <= 0.032085561)\n",
      "           Predict: 0.0\n",
      "          Else (feature 26 > 0.032085561)\n",
      "           If (feature 26 <= 0.061403509)\n",
      "            Predict: 0.0\n",
      "           Else (feature 26 > 0.061403509)\n",
      "            Predict: 0.0\n",
      "       Else (feature 7 not in {1.0})\n",
      "        If (feature 29 <= 25.0)\n",
      "         If (feature 17 <= 0.177083333)\n",
      "          If (feature 33 <= 6.0)\n",
      "           If (feature 4 in {1.0})\n",
      "            Predict: 1.0\n",
      "           Else (feature 4 not in {1.0})\n",
      "            Predict: 0.0\n",
      "          Else (feature 33 > 6.0)\n",
      "           If (feature 34 <= 0.0)\n",
      "            Predict: 1.0\n",
      "           Else (feature 34 > 0.0)\n",
      "            Predict: 0.0\n",
      "         Else (feature 17 > 0.177083333)\n",
      "          If (feature 15 <= 2.74025974)\n",
      "           If (feature 35 <= 0.095559846)\n",
      "            Predict: 1.0\n",
      "           Else (feature 35 > 0.095559846)\n",
      "            Predict: 1.0\n",
      "          Else (feature 15 > 2.74025974)\n",
      "           If (feature 29 <= 6.0)\n",
      "            Predict: 1.0\n",
      "           Else (feature 29 > 6.0)\n",
      "            Predict: 0.0\n",
      "        Else (feature 29 > 25.0)\n",
      "         If (feature 18 <= 0.039370079)\n",
      "          If (feature 15 <= 1.516129032)\n",
      "           If (feature 17 <= 0.119318182)\n",
      "            Predict: 0.0\n",
      "           Else (feature 17 > 0.119318182)\n",
      "            Predict: 1.0\n",
      "          Else (feature 15 > 1.516129032)\n",
      "           If (feature 15 <= 3.031746032)\n",
      "            Predict: 0.0\n",
      "           Else (feature 15 > 3.031746032)\n",
      "            Predict: 1.0\n",
      "         Else (feature 18 > 0.039370079)\n",
      "          If (feature 33 <= 10.0)\n",
      "           If (feature 4 in {1.0})\n",
      "            Predict: 1.0\n",
      "           Else (feature 4 not in {1.0})\n",
      "            Predict: 0.0\n",
      "          Else (feature 33 > 10.0)\n",
      "           If (feature 19 <= 0.015151515)\n",
      "            Predict: 1.0\n",
      "           Else (feature 19 > 0.015151515)\n",
      "            Predict: 0.0\n",
      "\n"
     ]
    }
   ],
   "source": [
    "#Step9.3 檢視訓練後的決策樹模型規則, toDebugString\n",
    "print(pipelineModel.stages[3].toDebugString)"
   ]
  },
  {
   "cell_type": "code",
   "execution_count": 58,
   "metadata": {
    "collapsed": true
   },
   "outputs": [],
   "source": [
    "#10. 使用pipelineModel 進行預測\n",
    "# Step10.1 使用pilelineModel.transform(), 傳入 test_df 測試資料進行預測\n",
    "predicted=pipelineModel.transform(test_df)"
   ]
  },
  {
   "cell_type": "code",
   "execution_count": 59,
   "metadata": {
    "collapsed": false
   },
   "outputs": [
    {
     "data": {
      "text/plain": [
       "pyspark.sql.dataframe.DataFrame"
      ]
     },
     "execution_count": 59,
     "metadata": {},
     "output_type": "execute_result"
    }
   ],
   "source": [
    "type(predicted)"
   ]
  },
  {
   "cell_type": "code",
   "execution_count": 60,
   "metadata": {
    "collapsed": false
   },
   "outputs": [
    {
     "data": {
      "text/plain": [
       "['url',\n",
       " 'alchemy_category',\n",
       " 'alchemy_category_score',\n",
       " 'avglinksize',\n",
       " 'commonlinkratio_1',\n",
       " 'commonlinkratio_2',\n",
       " 'commonlinkratio_3',\n",
       " 'commonlinkratio_4',\n",
       " 'compression_ratio',\n",
       " 'embed_ratio',\n",
       " 'framebased',\n",
       " 'frameTagRatio',\n",
       " 'hasDomainLink',\n",
       " 'html_ratio',\n",
       " 'image_ratio',\n",
       " 'is_news',\n",
       " 'lengthyLinkDomain',\n",
       " 'linkwordscore',\n",
       " 'news_front_page',\n",
       " 'non_markup_alphanum_characters',\n",
       " 'numberOfLinks',\n",
       " 'numwords_in_url',\n",
       " 'parametrizedLinkRatio',\n",
       " 'spelling_errors_ratio',\n",
       " 'label',\n",
       " 'alchemy_category_Index',\n",
       " 'alchemy_category_IndexVec',\n",
       " 'features',\n",
       " 'rawPrediction',\n",
       " 'probability',\n",
       " 'prediction']"
      ]
     },
     "execution_count": 60,
     "metadata": {},
     "output_type": "execute_result"
    }
   ],
   "source": [
    "#Step10.2 檢視預測結果 DataFrame 'predicted' 欄位,\n",
    "#新增了rawPrediction', 'probability', 'prediction' 3個欄位\n",
    "predicted.columns   "
   ]
  },
  {
   "cell_type": "code",
   "execution_count": 61,
   "metadata": {
    "collapsed": false
   },
   "outputs": [
    {
     "name": "stdout",
     "output_type": "stream",
     "text": [
      "+--------------------+--------------------+-------------+--------------------+-----+----------+\n",
      "|                 url|            features|rawPrediction|         probability|label|prediction|\n",
      "+--------------------+--------------------+-------------+--------------------+-----+----------+\n",
      "|http://1000awesom...|(36,[0,15,16,17,1...|  [20.0,74.0]|[0.21276595744680...|  1.0|       1.0|\n",
      "|http://1000awesom...|(36,[2,14,15,16,1...|  [26.0,84.0]|[0.23636363636363...|  1.0|       1.0|\n",
      "|http://2oddities....|(36,[7,14,15,16,1...| [161.0,62.0]|[0.72197309417040...|  1.0|       0.0|\n",
      "|http://30aeats.co...|(36,[0,15,16,17,1...|   [3.0,20.0]|[0.13043478260869...|  1.0|       1.0|\n",
      "|http://5secondrul...|(36,[10,14,15,16,...|  [53.0,20.0]|[0.72602739726027...|  1.0|       0.0|\n",
      "|http://98smile.co...|(36,[5,14,15,16,2...|   [17.0,4.0]|[0.80952380952380...|  0.0|       0.0|\n",
      "|http://98smile.co...|(36,[4,14,15,16,2...|    [7.0,0.0]|           [1.0,0.0]|  1.0|       0.0|\n",
      "|http://abeautiful...|(36,[2,14,15,16,1...|  [75.0,60.0]|[0.55555555555555...|  0.0|       0.0|\n",
      "|http://abeautiful...|(36,[0,15,16,17,1...| [14.0,123.0]|[0.10218978102189...|  1.0|       1.0|\n",
      "|http://achicdirec...|(36,[2,14,15,16,1...|   [11.0,6.0]|[0.64705882352941...|  1.0|       0.0|\n",
      "+--------------------+--------------------+-------------+--------------------+-----+----------+\n",
      "only showing top 10 rows\n",
      "\n"
     ]
    }
   ],
   "source": [
    "#Step10.3 查看預測結果, 'prediction': 預測結果 0 或 1\n",
    "predicted.select('url','features','rawPrediction', 'probability','label', 'prediction').show(10)"
   ]
  },
  {
   "cell_type": "code",
   "execution_count": 62,
   "metadata": {
    "collapsed": false
   },
   "outputs": [
    {
     "data": {
      "text/plain": [
       "[Row(probability=DenseVector([0.2128, 0.7872]), prediction=1.0),\n",
       " Row(probability=DenseVector([0.2364, 0.7636]), prediction=1.0),\n",
       " Row(probability=DenseVector([0.722, 0.278]), prediction=0.0),\n",
       " Row(probability=DenseVector([0.1304, 0.8696]), prediction=1.0),\n",
       " Row(probability=DenseVector([0.726, 0.274]), prediction=0.0),\n",
       " Row(probability=DenseVector([0.8095, 0.1905]), prediction=0.0),\n",
       " Row(probability=DenseVector([1.0, 0.0]), prediction=0.0),\n",
       " Row(probability=DenseVector([0.5556, 0.4444]), prediction=0.0),\n",
       " Row(probability=DenseVector([0.1022, 0.8978]), prediction=1.0),\n",
       " Row(probability=DenseVector([0.6471, 0.3529]), prediction=0.0)]"
      ]
     },
     "execution_count": 62,
     "metadata": {},
     "output_type": "execute_result"
    }
   ],
   "source": [
    "#Step10.4 查看預測結果與機率 'probability',\n",
    "#                probability 值是 DenseVector 格式是 [預測是0的機率, 預測是1的機率]\n",
    "predicted.select('probability','prediction').take(10)"
   ]
  },
  {
   "cell_type": "code",
   "execution_count": 63,
   "metadata": {
    "collapsed": true
   },
   "outputs": [],
   "source": [
    "#11. 評估模型的準確率\n",
    "#      我們已經使用建立的模型作預測, 現在我們將以 BinaryClassificationEvaluator module 作評估"
   ]
  },
  {
   "cell_type": "code",
   "execution_count": 64,
   "metadata": {
    "collapsed": true
   },
   "outputs": [],
   "source": [
    "#Step11.1 匯入模組\n",
    "from pyspark.ml.evaluation import BinaryClassificationEvaluator"
   ]
  },
  {
   "cell_type": "code",
   "execution_count": 65,
   "metadata": {
    "collapsed": true
   },
   "outputs": [],
   "source": [
    "#Step11.2 建立 BinaryClassificationEvaluator 物件 evaluator\n",
    "evaluator=BinaryClassificationEvaluator(rawPredictionCol=\"rawPrediction\",  #之前預測後產生的欄位\n",
    "                                        labelCol=\"label\",                                                              #label欄位\n",
    "                                        metricName=\"areaUnderROC\")                                      #area under ROC --> AUC"
   ]
  },
  {
   "cell_type": "code",
   "execution_count": 66,
   "metadata": {
    "collapsed": false
   },
   "outputs": [
    {
     "data": {
      "text/plain": [
       "0.6550426589264904"
      ]
     },
     "execution_count": 66,
     "metadata": {},
     "output_type": "execute_result"
    }
   ],
   "source": [
    "#Step11.3 計算AUC\n",
    "predictions=pipelineModel.transform(test_df)  #predictions 預測值\n",
    "auc=evaluator.evaluate(predictions)                   #以BinaryClassifictionEvaluator.evaluate() 做評估, 計算 AUC\n",
    "auc                                                                          #display auc"
   ]
  },
  {
   "cell_type": "code",
   "execution_count": 67,
   "metadata": {
    "collapsed": true
   },
   "outputs": [],
   "source": [
    "#12.找出最佳模型\n",
    "#使用Spark  ML Pipeline訓練驗證(TrainValidation)與交叉驗證(crossValidation)找出最佳模型"
   ]
  },
  {
   "cell_type": "code",
   "execution_count": 70,
   "metadata": {
    "collapsed": false
   },
   "outputs": [],
   "source": [
    "#Step12.1 匯入模組 ParamGridBuilder,TrainValidationSplit\n",
    "from pyspark.ml.tuning import ParamGridBuilder,TrainValidationSplit"
   ]
  },
  {
   "cell_type": "code",
   "execution_count": 71,
   "metadata": {
    "collapsed": true
   },
   "outputs": [],
   "source": [
    "#Step12.2 設定訓練驗證的參數, -->Step7.2 執行 DecisionTreeClassifier() 的參數：\n",
    "#                                                                               impurity(分裂原則),maxDepth(最大深度),maxBins(最大分裂數)\n",
    "paramGrid=ParamGridBuilder().addGrid(dt.impurity,[\"gini\",\"entropy\"])\\    #impurity 用 [\"gini\",\"entropy\"] 2類\n",
    ".addGrid(dt.maxDepth,[5,10,15])\\                                                                     #maxDepth 用  [5,10,15]           3種\n",
    ".addGrid(dt.maxBins,[10,15,20])\\                                                                      #maxBins 用 [10,15,20]             3種  \n",
    ".build()                                                                                                                  #共執行 2x3x3=18次"
   ]
  },
  {
   "cell_type": "code",
   "execution_count": 73,
   "metadata": {
    "collapsed": false
   },
   "outputs": [],
   "source": [
    "#Step12.3 建立TrainValidationSplit 物件 tvs\n",
    "tvs=TrainValidationSplit(estimator=df,                                  #DecisionTreeClassifier 'df'\n",
    "                         evaluator=evaluator,                                      #BinaryClassificationEvaluator 'evalutor'\n",
    "                         estimatorParamMaps=paramGrid,               #ParamGridBuilder 'paramGrid'\n",
    "                         trainRatio=0.8)                                                #訓練驗證前,會先將資料依8:2分成訓練資料與驗證資料"
   ]
  },
  {
   "cell_type": "code",
   "execution_count": 77,
   "metadata": {
    "collapsed": true
   },
   "outputs": [],
   "source": [
    "#Step12.4 建立 tvs_pipeline, 與之前 pipeline相同, 除最後加上一個 TrainValidationSplit 物件 tvs\n",
    "tvs_pipeline=Pipeline(stages=[categoryIndexer,encoder,assembler,tvs])"
   ]
  },
  {
   "cell_type": "code",
   "execution_count": 78,
   "metadata": {
    "collapsed": false
   },
   "outputs": [],
   "source": [
    "#Step12.5  使用tvs_pipeline 進行 \"訓練驗證\",以tvs_pipeline.fit(train_df)\n",
    "tvs_pipelineModel=tvs_pipeline.fit(train_df)"
   ]
  },
  {
   "cell_type": "code",
   "execution_count": 79,
   "metadata": {
    "collapsed": false
   },
   "outputs": [
    {
     "data": {
      "text/plain": [
       "[StringIndexer_4c92be9160ecd3acf197,\n",
       " OneHotEncoder_47dea4860e8c6dd6dfe7,\n",
       " VectorAssembler_41a2b09a2e5b1c4097aa,\n",
       " TrainValidationSplit_4578b573f30da71c2fb4]"
      ]
     },
     "execution_count": 79,
     "metadata": {},
     "output_type": "execute_result"
    }
   ],
   "source": [
    "#Step12.6 檢視訓練完成的 \"最佳模型\",  使用 Model.stage.bestModel 屬性\n",
    "tvs_pipeline.getStages() #TrainValidationSplit 在stages[3]  (第四個 stage)"
   ]
  },
  {
   "cell_type": "code",
   "execution_count": 81,
   "metadata": {
    "collapsed": false
   },
   "outputs": [
    {
     "data": {
      "text/plain": [
       "DecisionTreeClassificationModel (uid=DecisionTreeClassifier_4d25a02b86a56789c555) of depth 10 with 643 nodes"
      ]
     },
     "execution_count": 81,
     "metadata": {},
     "output_type": "execute_result"
    }
   ],
   "source": [
    "bestModel=tvs_pipelineModel.stages[3].bestModel\n",
    "bestModel"
   ]
  },
  {
   "cell_type": "code",
   "execution_count": 83,
   "metadata": {
    "collapsed": false
   },
   "outputs": [
    {
     "name": "stdout",
     "output_type": "stream",
     "text": [
      "DecisionTreeClassificationModel (uid=DecisionTreeClassifier_4d25a02b86a56789c555) of depth 10 with 643 nodes\n",
      "  If (feature 31 <= 1803.0)\n",
      "   If (feature 2 in {1.0})\n",
      "    If (feature 35 <= 0.166666667)\n",
      "     If (feature 31 <= 1337.0)\n",
      "      If (feature 26 <= 0.199304751)\n",
      "       If (feature 25 <= 0.167384934)\n",
      "        Predict: 1.0\n",
      "       Else (feature 25 > 0.167384934)\n",
      "        If (feature 14 <= 0.736574)\n",
      "         If (feature 33 <= 11.0)\n",
      "          If (feature 27 <= 0.0)\n",
      "           Predict: 0.0\n",
      "         \n"
     ]
    }
   ],
   "source": [
    "#Step12.7 檢視訓練驗證完成的最佳模型規則\n",
    "print(bestModel.toDebugString[:500])  #只顯示前500個"
   ]
  },
  {
   "cell_type": "code",
   "execution_count": 84,
   "metadata": {
    "collapsed": false
   },
   "outputs": [
    {
     "data": {
      "text/plain": [
       "0.6550426589264904"
      ]
     },
     "execution_count": 84,
     "metadata": {},
     "output_type": "execute_result"
    }
   ],
   "source": [
    "#Step12.8 評估最佳模型 AUC\n",
    "predictions=tvs_pipelineModel.transform(test_df)\n",
    "auc=evaluator.evaluate(predictions)\n",
    "auc"
   ]
  },
  {
   "cell_type": "code",
   "execution_count": 85,
   "metadata": {
    "collapsed": true
   },
   "outputs": [],
   "source": [
    "#Step13 使用CrossValidaton交叉驗證找出最佳模型\n",
    "#            交叉驗證:(以k-Fold, k=3為例)"
   ]
  },
  {
   "cell_type": "code",
   "execution_count": 86,
   "metadata": {
    "collapsed": true
   },
   "outputs": [],
   "source": [
    "#Step13.1 匯入模組\n",
    "from pyspark.ml.tuning import CrossValidator"
   ]
  },
  {
   "cell_type": "code",
   "execution_count": 87,
   "metadata": {
    "collapsed": true
   },
   "outputs": [],
   "source": [
    "#Step13.2 建立CrossValidator 物件 cv\n",
    "cv=CrossValidator(estimator=dt,                              #DecisionTreeClassifier 'df'\n",
    "                  evaluator=evaluator,                               #BinaryClassificationEvaluator 'evalutor'\n",
    "                  estimatorParamMaps=paramGrid,        #ParamGridBuilder 'paramGrid'(impurity:2, maxDepth:3, maxBins:3)\n",
    "                  numFolds=3)                                             #k=3,   2*3*3*3=54 次"
   ]
  },
  {
   "cell_type": "code",
   "execution_count": 88,
   "metadata": {
    "collapsed": true
   },
   "outputs": [],
   "source": [
    "#Step13.3 建立交叉驗證 pipeline, 'cv_pipeline'\n",
    "cv_pipeline=Pipeline(stages=[categoryIndexer,encoder,assembler,cv])"
   ]
  },
  {
   "cell_type": "code",
   "execution_count": 89,
   "metadata": {
    "collapsed": true
   },
   "outputs": [],
   "source": [
    "#Step13.4 使用cv_pipeline.fit(DataFrame) 進行交叉驗證, 產生model cv_pipelineModel\n",
    "cv_pipelineModel=cv_pipeline.fit(train_df)"
   ]
  },
  {
   "cell_type": "code",
   "execution_count": 90,
   "metadata": {
    "collapsed": false
   },
   "outputs": [
    {
     "data": {
      "text/plain": [
       "[StringIndexer_4c92be9160ecd3acf197,\n",
       " OneHotEncoder_47dea4860e8c6dd6dfe7,\n",
       " VectorAssembler_41a2b09a2e5b1c4097aa,\n",
       " CrossValidator_49198d37d9ed4762d1a9]"
      ]
     },
     "execution_count": 90,
     "metadata": {},
     "output_type": "execute_result"
    }
   ],
   "source": [
    "#Step13.5 檢視交叉驗證完成的最佳模型\n",
    "cv_pipeline.getStages()    #CrossValidator 在stages[3], 第4個stage"
   ]
  },
  {
   "cell_type": "code",
   "execution_count": 91,
   "metadata": {
    "collapsed": false
   },
   "outputs": [
    {
     "data": {
      "text/plain": [
       "DecisionTreeClassificationModel (uid=DecisionTreeClassifier_42f7a41ee6f8a0f1364d) of depth 15 with 1675 nodes"
      ]
     },
     "execution_count": 91,
     "metadata": {},
     "output_type": "execute_result"
    }
   ],
   "source": [
    "bestModel=cv_pipelineModel.stages[3].bestModel\n",
    "bestModel"
   ]
  },
  {
   "cell_type": "code",
   "execution_count": 92,
   "metadata": {
    "collapsed": false
   },
   "outputs": [
    {
     "name": "stdout",
     "output_type": "stream",
     "text": [
      "DecisionTreeClassificationModel (uid=DecisionTreeClassifier_42f7a41ee6f8a0f1364d) of depth 15 with 1675 nodes\n",
      "  If (feature 31 <= 1236.0)\n",
      "   If (feature 2 in {1.0})\n",
      "    If (feature 35 <= 0.171201814)\n",
      "     If (feature 25 <= 0.267837001)\n",
      "      If (feature 26 <= 0.09352518)\n",
      "       If (feature 25 <= 0.166314085)\n",
      "        Predict: 1.0\n",
      "       Else (feature 25 > 0.166314085)\n",
      "        If (feature 33 <= 0.0)\n",
      "         Predict: 1.0\n",
      "        Else (feature 33 > 0.0)\n",
      "         If (feature 29 <= 30.0)\n",
      "          Pr\n"
     ]
    }
   ],
   "source": [
    "#Step13.6 檢視訓練驗證完成的最佳模型規則\n",
    "print(bestModel.toDebugString[:500])  #只顯示前500個"
   ]
  },
  {
   "cell_type": "code",
   "execution_count": 93,
   "metadata": {
    "collapsed": false
   },
   "outputs": [
    {
     "data": {
      "text/plain": [
       "0.6693143944034504"
      ]
     },
     "execution_count": 93,
     "metadata": {},
     "output_type": "execute_result"
    }
   ],
   "source": [
    "#Step13.7 評估最佳模型 AUC\n",
    "predictions=cv_pipelineModel.transform(test_df)\n",
    "auc=evaluator.evaluate(predictions)\n",
    "auc"
   ]
  },
  {
   "cell_type": "code",
   "execution_count": 94,
   "metadata": {
    "collapsed": true
   },
   "outputs": [],
   "source": [
    "#Step14. Spark 機器學習RandomForest隨機森林分類器"
   ]
  },
  {
   "cell_type": "code",
   "execution_count": 96,
   "metadata": {
    "collapsed": false
   },
   "outputs": [],
   "source": [
    "#Step14.1 建立RandomForestClassifier Pipeline\n",
    "from pyspark.ml.classification import RandomForestClassifier   #匯入 RandomForestClassifier\n",
    "\n",
    "rf=RandomForestClassifier(labelCol='label',                  #建立 RandomForestClassifier 物件 'rf'              \n",
    "                          featuresCol='features',\n",
    "                          numTrees=10)\n",
    "\n",
    "rfpipeline=Pipeline(stages=[categoryIndexer,encoder,assembler,rf]) # 建立 Pipeline 物件 'rfpipeline'"
   ]
  },
  {
   "cell_type": "code",
   "execution_count": 97,
   "metadata": {
    "collapsed": false
   },
   "outputs": [
    {
     "data": {
      "text/plain": [
       "0.7340519854620389"
      ]
     },
     "execution_count": 97,
     "metadata": {},
     "output_type": "execute_result"
    }
   ],
   "source": [
    "#Step14.2 評估 RandomForestClassifier 的準確\n",
    "rfpipelineModel=rfpipeline.fit(train_df)  #以rfpipeline.fit(), 傳入train_df 進行訓練,產生模型 'rfpipelineModel'\n",
    "rfpredicted=rfpipelineModel.transform(test_df)  #以模型進行預測\n",
    "auc=evaluator.evaluate(rfpredicted) #計算AUC, AUC 比之前模型進步了！\n",
    "auc"
   ]
  },
  {
   "cell_type": "code",
   "execution_count": 102,
   "metadata": {
    "collapsed": false
   },
   "outputs": [
    {
     "data": {
      "text/plain": [
       "0.724546395509189"
      ]
     },
     "execution_count": 102,
     "metadata": {},
     "output_type": "execute_result"
    }
   ],
   "source": [
    "#Step14.3 使用RandomForestClassifier TrainValidation (訓練驗證) 找出最佳模型\n",
    "# import 所需模組, ParamGridBuilder, TrainValidationSplit, BinaryClassificationEvaluator, RandomForestClassifier,\n",
    "from pyspark.ml.tuning import ParamGridBuilder,TrainValidationSplit\n",
    "from pyspark.ml.evaluation import BinaryClassificationEvaluator\n",
    "from pyspark.ml.classification import RandomForestClassifier\n",
    "\n",
    "# 建立 ParamGridBuilder 物件 paramGrid\n",
    "paramGrid=ParamGridBuilder().addGrid(rf.impurity,[\"gini\",\"entropy\"])\\\n",
    ".addGrid(rf.maxDepth,[5,10,15])\\\n",
    ".addGrid(rf.maxBins,[10,20,30])\\\n",
    ".build()\n",
    "\n",
    "# 建立 TrainValidationSplit 訓練驗證 物件 'rftvs' ,訓練參數 -->paramGrid\n",
    "rftvs=TrainValidationSplit(estimator=rf,\n",
    "                          evaluator=evaluator,\n",
    "                          estimatorParamMaps=paramGrid,\n",
    "                          trainRatio=0.8)\n",
    "\n",
    "# 建立 Pipeline 物件 'rftvs_pipeline', 以Pipeline.fit() 訓練資料 train_df 得到model 'rftvs_pipelineModel,\n",
    "#以模型 rftvs_pipelineModel 對測試資料 test.df 作預測, 結果為 rftvspredictions\n",
    "rftvs_pipeline=Pipeline(stages=[categoryIndexer,encoder,assembler,rftvs])  #Pipeline 物件rftvs_pipeline\n",
    "rftvs_pipelineModel=rftvs_pipeline.fit(train_df)        #以rftvs_pipeline.fit() --> Model 'rftvs_pipelineModel'\n",
    "rftvspredictions=rftvs_pipelineModel.transform(test_df)  #以模型 rftvs_pipelineModel 對測試資料 test.df 作預測, 結果為 rftvspredictions\n",
    "auc=evaluator.evaluate(rftvspredictions) #以evaluator 評估rftvspredictions (計算AUC)\n",
    "auc"
   ]
  },
  {
   "cell_type": "code",
   "execution_count": 105,
   "metadata": {
    "collapsed": false
   },
   "outputs": [
    {
     "data": {
      "text/plain": [
       "0.7438775958961981"
      ]
     },
     "execution_count": 105,
     "metadata": {},
     "output_type": "execute_result"
    }
   ],
   "source": [
    "#Step14.4 使用RandomForestClassifier  作 crossValidation 交叉驗證 (k=3) 找出最佳模型\n",
    "# import 所需模組, ParamGridBuilder, TrainValidationSplit, BinaryClassificationEvaluator, RandomForestClassifier,\n",
    "#                               CrossValidator\n",
    "#from ......         #pyspark.ml.tuning   -->ParamGridBuilder,TrainValidationSplit\n",
    "#from ......         #pyspark.ml.evaluation  -->BinaryClassificationEvaluator\n",
    "#from ......         #pyspark.ml.classification -->RandomForestClassifier\n",
    "#from ......         #pyspark.ml.tuning -->CrossValidator\n",
    "\n",
    "# 建立 ParamGridBuilder 物件 paramGrid\n",
    "#paramGrid=\n",
    "\n",
    "# 建立 CrossValidator 交叉訓練驗證 物件 'rfcv' ,訓練參數 -->paramGrid, k=3\n",
    "#rfcv=CrossValidator(......\n",
    "                         \n",
    "\n",
    "# 建立 Pipeline 物件 'rfcv_pipeline', 以Pipeline.fit() 訓練資料 train_df 得到model 'rfcv_pipelineModel,\n",
    "#以模型 rfcv_pipelineModel 對測試資料 test.df 作預測, 結果為 rfcvpredictions\n",
    "#......"
   ]
  },
  {
   "cell_type": "code",
   "execution_count": 110,
   "metadata": {
    "collapsed": false
   },
   "outputs": [
    {
     "name": "stdout",
     "output_type": "stream",
     "text": [
      "URL Address:http://1000awesomethings.com/2008/07/07/989-blowing-your-nose-in-the-shower/\n",
      "   預測是:1.0   說明: (evergreen)\n",
      "\n",
      "URL Address:http://1000awesomethings.com/2008/12/29/864-mastering-the-art-of-the-all-you-can-eat-buffet/\n",
      "   預測是:1.0   說明: (evergreen)\n",
      "\n",
      "URL Address:http://2oddities.com/two-friends-talking-after-the-summer-holidays/\n",
      "   預測是:0.0   說明: (ephemeral)\n",
      "\n",
      "URL Address:http://30aeats.com/recipes/sun-dried-tomato-kalamata-olive-and-basil-pesto-focaccia/\n",
      "   預測是:1.0   說明: (evergreen)\n",
      "\n",
      "URL Address:http://5secondrule.typepad.com/my_weblog/2010/02/recipe-for-easy-potsticker-gyoza-dumplings.html\n",
      "   預測是:0.0   說明: (ephemeral)\n",
      "\n"
     ]
    }
   ],
   "source": [
    "#Step14.5 使用最佳模型預測結果\n",
    "DescDict={                                           #Dictionary DescDict\n",
    "    0:\"(ephemeral)\",\n",
    "    1:\"(evergreen)\"}\n",
    "\n",
    "for data in rfcvpredictions.select('url','prediction').take(5):\n",
    "    print(\"URL Address:\"+str(data[0])+\"\\n\"+ \\\n",
    "                             \"   預測是:\"+str(data[-1])+ \\\n",
    "                             \"   說明: \"+DescDict[data[-1]]+\"\\n\")"
   ]
  },
  {
   "cell_type": "code",
   "execution_count": 106,
   "metadata": {
    "collapsed": false
   },
   "outputs": [
    {
     "name": "stdout",
     "output_type": "stream",
     "text": [
      "root\n",
      " |-- url: string (nullable = true)\n",
      " |-- alchemy_category: string (nullable = true)\n",
      " |-- alchemy_category_score: double (nullable = true)\n",
      " |-- avglinksize: double (nullable = true)\n",
      " |-- commonlinkratio_1: double (nullable = true)\n",
      " |-- commonlinkratio_2: double (nullable = true)\n",
      " |-- commonlinkratio_3: double (nullable = true)\n",
      " |-- commonlinkratio_4: double (nullable = true)\n",
      " |-- compression_ratio: double (nullable = true)\n",
      " |-- embed_ratio: double (nullable = true)\n",
      " |-- framebased: double (nullable = true)\n",
      " |-- frameTagRatio: double (nullable = true)\n",
      " |-- hasDomainLink: double (nullable = true)\n",
      " |-- html_ratio: double (nullable = true)\n",
      " |-- image_ratio: double (nullable = true)\n",
      " |-- is_news: double (nullable = true)\n",
      " |-- lengthyLinkDomain: double (nullable = true)\n",
      " |-- linkwordscore: double (nullable = true)\n",
      " |-- news_front_page: double (nullable = true)\n",
      " |-- non_markup_alphanum_characters: double (nullable = true)\n",
      " |-- numberOfLinks: double (nullable = true)\n",
      " |-- numwords_in_url: double (nullable = true)\n",
      " |-- parametrizedLinkRatio: double (nullable = true)\n",
      " |-- spelling_errors_ratio: double (nullable = true)\n",
      " |-- label: double (nullable = true)\n",
      " |-- alchemy_category_Index: double (nullable = true)\n",
      " |-- alchemy_category_IndexVec: vector (nullable = true)\n",
      " |-- features: vector (nullable = true)\n",
      " |-- rawPrediction: vector (nullable = true)\n",
      " |-- probability: vector (nullable = true)\n",
      " |-- prediction: double (nullable = true)\n",
      "\n"
     ]
    }
   ],
   "source": [
    "rfcvpredictions.printSchema()"
   ]
  },
  {
   "cell_type": "code",
   "execution_count": 108,
   "metadata": {
    "collapsed": false
   },
   "outputs": [
    {
     "data": {
      "text/plain": [
       "[Row(url=u'http://1000awesomethings.com/2008/07/07/989-blowing-your-nose-in-the-shower/', alchemy_category=u'?', alchemy_category_score=0.0, avglinksize=2.144628099, commonlinkratio_1=0.796875, commonlinkratio_2=0.39453125, commonlinkratio_3=0.33203125, commonlinkratio_4=0.3203125, compression_ratio=0.502245815, embed_ratio=0.0, framebased=0.0, frameTagRatio=0.027994792, hasDomainLink=0.0, html_ratio=0.189758995, image_ratio=0.235416667, is_news=1.0, lengthyLinkDomain=1.0, linkwordscore=17.0, news_front_page=0.0, non_markup_alphanum_characters=10588.0, numberOfLinks=256.0, numwords_in_url=5.0, parametrizedLinkRatio=0.3828125, spelling_errors_ratio=0.136752137, label=1.0, alchemy_category_Index=0.0, alchemy_category_IndexVec=SparseVector(14, {0: 1.0}), features=SparseVector(36, {0: 1.0, 15: 2.1446, 16: 0.7969, 17: 0.3945, 18: 0.332, 19: 0.3203, 20: 0.5022, 23: 0.028, 25: 0.1898, 26: 0.2354, 27: 1.0, 28: 1.0, 29: 17.0, 31: 10588.0, 32: 256.0, 33: 5.0, 34: 0.3828, 35: 0.1368}), rawPrediction=DenseVector([1.9513, 8.0487]), probability=DenseVector([0.1951, 0.8049]), prediction=1.0),\n",
       " Row(url=u'http://1000awesomethings.com/2008/12/29/864-mastering-the-art-of-the-all-you-can-eat-buffet/', alchemy_category=u'arts_entertainment', alchemy_category_score=0.5811, avglinksize=2.526785714, commonlinkratio_1=0.680672269, commonlinkratio_2=0.327731092, commonlinkratio_3=0.268907563, commonlinkratio_4=0.260504202, compression_ratio=0.471047228, embed_ratio=0.0, framebased=0.0, frameTagRatio=0.027673897, hasDomainLink=0.0, html_ratio=0.218407242, image_ratio=0.105263158, is_news=1.0, lengthyLinkDomain=1.0, linkwordscore=13.0, news_front_page=0.0, non_markup_alphanum_characters=16382.0, numberOfLinks=238.0, numwords_in_url=8.0, parametrizedLinkRatio=0.336134454, spelling_errors_ratio=0.094298246, label=1.0, alchemy_category_Index=2.0, alchemy_category_IndexVec=SparseVector(14, {2: 1.0}), features=SparseVector(36, {2: 1.0, 14: 0.5811, 15: 2.5268, 16: 0.6807, 17: 0.3277, 18: 0.2689, 19: 0.2605, 20: 0.471, 23: 0.0277, 25: 0.2184, 26: 0.1053, 27: 1.0, 28: 1.0, 29: 13.0, 31: 16382.0, 32: 238.0, 33: 8.0, 34: 0.3361, 35: 0.0943}), rawPrediction=DenseVector([2.4158, 7.5842]), probability=DenseVector([0.2416, 0.7584]), prediction=1.0),\n",
       " Row(url=u'http://2oddities.com/two-friends-talking-after-the-summer-holidays/', alchemy_category=u'computer_internet', alchemy_category_score=0.299152, avglinksize=3.181818182, commonlinkratio_1=0.655172414, commonlinkratio_2=0.310344828, commonlinkratio_3=0.137931034, commonlinkratio_4=0.0, compression_ratio=21.0, embed_ratio=-1.0, framebased=0.0, frameTagRatio=0.185929648, hasDomainLink=0.0, html_ratio=0.240953332, image_ratio=-1.0, is_news=1.0, lengthyLinkDomain=1.0, linkwordscore=63.0, news_front_page=0.0, non_markup_alphanum_characters=219.0, numberOfLinks=29.0, numwords_in_url=7.0, parametrizedLinkRatio=0.172413793, spelling_errors_ratio=0.125, label=1.0, alchemy_category_Index=7.0, alchemy_category_IndexVec=SparseVector(14, {7: 1.0}), features=SparseVector(36, {7: 1.0, 14: 0.2992, 15: 3.1818, 16: 0.6552, 17: 0.3103, 18: 0.1379, 20: 21.0, 21: -1.0, 23: 0.1859, 25: 0.241, 26: -1.0, 27: 1.0, 28: 1.0, 29: 63.0, 31: 219.0, 32: 29.0, 33: 7.0, 34: 0.1724, 35: 0.125}), rawPrediction=DenseVector([8.1369, 1.8631]), probability=DenseVector([0.8137, 0.1863]), prediction=0.0),\n",
       " Row(url=u'http://30aeats.com/recipes/sun-dried-tomato-kalamata-olive-and-basil-pesto-focaccia/', alchemy_category=u'?', alchemy_category_score=0.0, avglinksize=2.185185185, commonlinkratio_1=0.486111111, commonlinkratio_2=0.3125, commonlinkratio_3=0.229166667, commonlinkratio_4=0.194444444, compression_ratio=0.431705298, embed_ratio=0.0, framebased=0.0, frameTagRatio=0.043235704, hasDomainLink=0.0, html_ratio=0.235925447, image_ratio=0.013910355, is_news=1.0, lengthyLinkDomain=1.0, linkwordscore=13.0, news_front_page=0.0, non_markup_alphanum_characters=8868.0, numberOfLinks=144.0, numwords_in_url=10.0, parametrizedLinkRatio=0.027777778, spelling_errors_ratio=0.069544365, label=1.0, alchemy_category_Index=0.0, alchemy_category_IndexVec=SparseVector(14, {0: 1.0}), features=SparseVector(36, {0: 1.0, 15: 2.1852, 16: 0.4861, 17: 0.3125, 18: 0.2292, 19: 0.1944, 20: 0.4317, 23: 0.0432, 25: 0.2359, 26: 0.0139, 27: 1.0, 28: 1.0, 29: 13.0, 31: 8868.0, 32: 144.0, 33: 10.0, 34: 0.0278, 35: 0.0695}), rawPrediction=DenseVector([2.7701, 7.2299]), probability=DenseVector([0.277, 0.723]), prediction=1.0),\n",
       " Row(url=u'http://5secondrule.typepad.com/my_weblog/2010/02/recipe-for-easy-potsticker-gyoza-dumplings.html', alchemy_category=u'religion', alchemy_category_score=0.846979, avglinksize=2.097560976, commonlinkratio_1=0.37007874, commonlinkratio_2=0.133858268, commonlinkratio_3=0.039370079, commonlinkratio_4=0.0, compression_ratio=0.493393393, embed_ratio=0.0, framebased=0.0, frameTagRatio=0.062634989, hasDomainLink=0.0, html_ratio=0.25486254, image_ratio=0.01322314, is_news=1.0, lengthyLinkDomain=1.0, linkwordscore=17.0, news_front_page=0.0, non_markup_alphanum_characters=5801.0, numberOfLinks=127.0, numwords_in_url=8.0, parametrizedLinkRatio=0.070866142, spelling_errors_ratio=0.125636672, label=1.0, alchemy_category_Index=10.0, alchemy_category_IndexVec=SparseVector(14, {10: 1.0}), features=SparseVector(36, {10: 1.0, 14: 0.847, 15: 2.0976, 16: 0.3701, 17: 0.1339, 18: 0.0394, 20: 0.4934, 23: 0.0626, 25: 0.2549, 26: 0.0132, 27: 1.0, 28: 1.0, 29: 17.0, 31: 5801.0, 32: 127.0, 33: 8.0, 34: 0.0709, 35: 0.1256}), rawPrediction=DenseVector([5.4563, 4.5437]), probability=DenseVector([0.5456, 0.4544]), prediction=0.0)]"
      ]
     },
     "execution_count": 108,
     "metadata": {},
     "output_type": "execute_result"
    }
   ],
   "source": [
    "rfcvpredictions.take(5)"
   ]
  },
  {
   "cell_type": "code",
   "execution_count": null,
   "metadata": {
    "collapsed": true
   },
   "outputs": [],
   "source": []
  }
 ],
 "metadata": {
  "kernelspec": {
   "display_name": "Python 2",
   "language": "python",
   "name": "python2"
  },
  "language_info": {
   "codemirror_mode": {
    "name": "ipython",
    "version": 2
   },
   "file_extension": ".py",
   "mimetype": "text/x-python",
   "name": "python",
   "nbconvert_exporter": "python",
   "pygments_lexer": "ipython2",
   "version": "2.7.12"
  }
 },
 "nbformat": 4,
 "nbformat_minor": 0
}
