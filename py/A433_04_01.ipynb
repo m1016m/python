{
 "cells": [
  {
   "cell_type": "code",
   "execution_count": 1,
   "metadata": {
    "collapsed": true
   },
   "outputs": [],
   "source": [
    "# 用 \\ 來延續多行"
   ]
  },
  {
   "cell_type": "code",
   "execution_count": 2,
   "metadata": {
    "collapsed": false
   },
   "outputs": [
    {
     "data": {
      "text/plain": [
       "55"
      ]
     },
     "execution_count": 2,
     "metadata": {},
     "output_type": "execute_result"
    }
   ],
   "source": [
    "1+2+3+4+5+ \\\n",
    "6+7+8+9+10"
   ]
  },
  {
   "cell_type": "code",
   "execution_count": 3,
   "metadata": {
    "collapsed": true
   },
   "outputs": [],
   "source": [
    "# if、elif and else"
   ]
  },
  {
   "cell_type": "code",
   "execution_count": 4,
   "metadata": {
    "collapsed": false
   },
   "outputs": [
    {
     "name": "stdout",
     "output_type": "stream",
     "text": [
      "wow!\n"
     ]
    }
   ],
   "source": [
    "honest=True\n",
    "if honest:\n",
    "    print('wow!')\n",
    "else:\n",
    "    print('Yee!')"
   ]
  },
  {
   "cell_type": "code",
   "execution_count": 5,
   "metadata": {
    "collapsed": true
   },
   "outputs": [],
   "source": [
    "#猜大小,if...else"
   ]
  },
  {
   "cell_type": "code",
   "execution_count": 7,
   "metadata": {
    "collapsed": false
   },
   "outputs": [
    {
     "name": "stdout",
     "output_type": "stream",
     "text": [
      "請輸入0~99的數字:89\n",
      "你贏了!\n"
     ]
    }
   ],
   "source": [
    "base_price=78\n",
    "guess=input('請輸入0~99的數字:')\n",
    "if int(guess) >= 78:\n",
    "    print('你贏了!')\n",
    "else:\n",
    "    print('你輸了!')"
   ]
  },
  {
   "cell_type": "code",
   "execution_count": 1,
   "metadata": {
    "collapsed": true
   },
   "outputs": [],
   "source": [
    "#電視分級,if...if...else"
   ]
  },
  {
   "cell_type": "code",
   "execution_count": 5,
   "metadata": {
    "collapsed": false
   },
   "outputs": [
    {
     "name": "stdout",
     "output_type": "stream",
     "text": [
      "請輸入真實年齡:20\n",
      "恭喜你,可以看限制級!\n"
     ]
    }
   ],
   "source": [
    "age=int(input('請輸入真實年齡:'))\n",
    "if age < 18:\n",
    "    if age >=12:\n",
    "        print('少年耶,可以看保護級!')\n",
    "    else:\n",
    "        print('小朋友,請看東森幼幼台!')\n",
    "else:\n",
    "    print('恭喜你,可以看限制級!') "
   ]
  },
  {
   "cell_type": "code",
   "execution_count": 6,
   "metadata": {
    "collapsed": true
   },
   "outputs": [],
   "source": [
    "#電視分級,if...elif,   elif(else if)"
   ]
  },
  {
   "cell_type": "code",
   "execution_count": 9,
   "metadata": {
    "collapsed": false
   },
   "outputs": [
    {
     "name": "stdout",
     "output_type": "stream",
     "text": [
      "請輸入真實年齡:15\n",
      "少年耶,可以看保護級\n"
     ]
    }
   ],
   "source": [
    "age2=int(input('請輸入真實年齡:'))\n",
    "if age2 >= 18:\n",
    "    print('恭喜你,可以看限制級!')\n",
    "elif age2 >=12:\n",
    "    print('少年耶,可以看保護級')\n",
    "else:\n",
    "    print('小朋友,請看東森幼幼台!')"
   ]
  },
  {
   "cell_type": "code",
   "execution_count": 10,
   "metadata": {
    "collapsed": true
   },
   "outputs": [],
   "source": [
    "#水果顏色,if...elif...elif...,else; ==運算子"
   ]
  },
  {
   "cell_type": "code",
   "execution_count": 12,
   "metadata": {
    "collapsed": false
   },
   "outputs": [
    {
     "name": "stdout",
     "output_type": "stream",
     "text": [
      "請輸入一種水果顏色(紅、橘、黃、...黃\n",
      "梨子\n"
     ]
    }
   ],
   "source": [
    "color=input('請輸入一種水果顏色(紅、橘、黃、...')\n",
    "if color=='紅':\n",
    "    print('蘋果')\n",
    "elif color=='橘':\n",
    "    print('橘子')\n",
    "elif color=='黃':\n",
    "    print('梨子')\n",
    "else:\n",
    "    print('我也不知道是甚麼?')"
   ]
  },
  {
   "cell_type": "code",
   "execution_count": 13,
   "metadata": {
    "collapsed": true
   },
   "outputs": [],
   "source": [
    "#電視分級, ?<x<?"
   ]
  },
  {
   "cell_type": "code",
   "execution_count": 16,
   "metadata": {
    "collapsed": false
   },
   "outputs": [
    {
     "name": "stdout",
     "output_type": "stream",
     "text": [
      "請輸入真實年齡:23\n",
      "other age\n"
     ]
    }
   ],
   "source": [
    "age3=int(input('請輸入真實年齡:'))\n",
    "if 19 >= age3 >= 13:\n",
    "    print('teen age!!')\n",
    "else:\n",
    "    print('other age')"
   ]
  },
  {
   "cell_type": "code",
   "execution_count": null,
   "metadata": {
    "collapsed": true
   },
   "outputs": [],
   "source": []
  }
 ],
 "metadata": {
  "kernelspec": {
   "display_name": "Python 3",
   "language": "python",
   "name": "python3"
  },
  "language_info": {
   "codemirror_mode": {
    "name": "ipython",
    "version": 3
   },
   "file_extension": ".py",
   "mimetype": "text/x-python",
   "name": "python",
   "nbconvert_exporter": "python",
   "pygments_lexer": "ipython3",
   "version": "3.5.1"
  }
 },
 "nbformat": 4,
 "nbformat_minor": 0
}
