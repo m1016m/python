{
 "cells": [
  {
   "cell_type": "code",
   "execution_count": 1,
   "metadata": {},
   "outputs": [],
   "source": [
    "#A_ch02_005_Linear_20180425.ipynb\n",
    "#linear regression (ordinary least squares) "
   ]
  },
  {
   "cell_type": "code",
   "execution_count": 2,
   "metadata": {},
   "outputs": [],
   "source": [
    "import numpy as np\n",
    "import matplotlib.pyplot as plt\n",
    "%matplotlib inline"
   ]
  },
  {
   "cell_type": "code",
   "execution_count": 3,
   "metadata": {},
   "outputs": [],
   "source": [
    "#產生一個資料集(波型資料), mglearn.datasets.make_wave()\n",
    "import mglearn"
   ]
  },
  {
   "cell_type": "code",
   "execution_count": 4,
   "metadata": {},
   "outputs": [],
   "source": [
    "mglearn.plots.plot_linear_regression_wave?"
   ]
  },
  {
   "cell_type": "code",
   "execution_count": 5,
   "metadata": {},
   "outputs": [
    {
     "name": "stdout",
     "output_type": "stream",
     "text": [
      "w[0]: 0.393906  b: -0.031804\n"
     ]
    },
    {
     "data": {
      "image/png": "[encoded data removed]",
      "text/plain": [
       "<matplotlib.figure.Figure at 0x17da000ebe0>"
      ]
     },
     "metadata": {},
     "output_type": "display_data"
    }
   ],
   "source": [
    "mglearn.plots.plot_linear_regression_wave() #w[0]-->斜率, b-->y軸水平位移(截距)"
   ]
  },
  {
   "cell_type": "code",
   "execution_count": 6,
   "metadata": {},
   "outputs": [],
   "source": [
    "#匯入scikit-learn中的線性迴歸模組 LinearRegression\n",
    "from sklearn.linear_model import LinearRegression"
   ]
  },
  {
   "cell_type": "code",
   "execution_count": 7,
   "metadata": {},
   "outputs": [],
   "source": [
    "#生成一個60個資料點的wave資料\n",
    "X,y=mglearn.datasets.make_wave(n_samples=60)"
   ]
  },
  {
   "cell_type": "code",
   "execution_count": 8,
   "metadata": {},
   "outputs": [],
   "source": [
    "#檢視make_wave() 合成的測試資料"
   ]
  },
  {
   "cell_type": "code",
   "execution_count": 9,
   "metadata": {},
   "outputs": [
    {
     "name": "stdout",
     "output_type": "stream",
     "text": [
      "X.shape --> (60, 1)  y.shape --> (60,)  X[0]--> [-0.75275929]  y[0]--> -1.1807331091906834\n"
     ]
    }
   ],
   "source": [
    "print('X.shape -->',X.shape,' y.shape -->',y.shape,' X[0]-->',X[0],' y[0]-->',y[0])"
   ]
  },
  {
   "cell_type": "code",
   "execution_count": 10,
   "metadata": {},
   "outputs": [
    {
     "data": {
      "text/plain": [
       "Text(0,0.5,'Target y')"
      ]
     },
     "execution_count": 10,
     "metadata": {},
     "output_type": "execute_result"
    },
    {
     "data": {
      "image/png": "[encoded data removed]",
      "text/plain": [
       "<matplotlib.figure.Figure at 0x17da2232550>"
      ]
     },
     "metadata": {},
     "output_type": "display_data"
    }
   ],
   "source": [
    "#繪製圖型檢視\n",
    "plt.plot(X,y,'ro') #'ro', r--> red, o--> 圈圈; 你可以試試 'g^'\n",
    "plt.ylim(-3,3)\n",
    "plt.xlabel(\"Feature x\")  #Feature X\n",
    "plt.ylabel(\"Target y\")   #Label y"
   ]
  },
  {
   "cell_type": "code",
   "execution_count": 11,
   "metadata": {},
   "outputs": [],
   "source": [
    "#import train_test_split() function\n",
    "from sklearn.model_selection import train_test_split"
   ]
  },
  {
   "cell_type": "code",
   "execution_count": 12,
   "metadata": {},
   "outputs": [],
   "source": [
    "#準備訓練(train)與測試(test)資料集 (train:test  3:1)\n",
    "X_train,X_test,y_train,y_test=train_test_split(X,y,random_state=42)"
   ]
  },
  {
   "cell_type": "code",
   "execution_count": 13,
   "metadata": {},
   "outputs": [
    {
     "name": "stdout",
     "output_type": "stream",
     "text": [
      "len(X_train): 45  len(X_test): 15\n"
     ]
    }
   ],
   "source": [
    "print('len(X_train):',len(X_train),' len(X_test):',len(X_test))"
   ]
  },
  {
   "cell_type": "code",
   "execution_count": 14,
   "metadata": {},
   "outputs": [],
   "source": [
    "#1. train phase:\n",
    "#叫用 LinearRegression , fit() method. 以train dataset X_train,y_train 做訓練\n",
    "#訓練後得到一個 LinearRegression model object 'lrModel'\n",
    "lrModel=LinearRegression().fit(X_train,y_train)"
   ]
  },
  {
   "cell_type": "code",
   "execution_count": 15,
   "metadata": {},
   "outputs": [
    {
     "name": "stdout",
     "output_type": "stream",
     "text": [
      "lrModel.coef_(斜率,w[0]):[0.39390555]\n",
      "lrModel.intercept_(截距,b):-0.031804343026759746\n"
     ]
    }
   ],
   "source": [
    "#檢視 lrModel 的斜率(w[0]) 及 截距(b)\n",
    "print(\"lrModel.coef_(斜率,w[0]):{}\".format(lrModel.coef_))         #Model.coef_ 存放斜率\n",
    "print(\"lrModel.intercept_(截距,b):{}\".format(lrModel.intercept_))  #Model.intercept_ 存放截距\n",
    "                                                                   #scikit-learn總是將從訓練集得到的屬性末端加上'_',\n",
    "                                                                   #以區別使用者自訂的屬性"
   ]
  },
  {
   "cell_type": "code",
   "execution_count": 16,
   "metadata": {},
   "outputs": [
    {
     "data": {
      "text/plain": [
       "array([-0.58327211])"
      ]
     },
     "execution_count": 16,
     "metadata": {},
     "output_type": "execute_result"
    }
   ],
   "source": [
    "#2. predict, 使用已訓練模型 lrModel.predict()\n",
    "px=np.array([-1.4]) #以np.array() 將 list [-1.4] 轉換為 1d array\n",
    "px=px.reshape(-1,1) #再 reshape 為 2d array (1,1)\n",
    "lrModel.predict(px) #以 lrModel.predict() 預測"
   ]
  },
  {
   "cell_type": "code",
   "execution_count": 17,
   "metadata": {},
   "outputs": [
    {
     "data": {
      "text/plain": [
       "[<matplotlib.lines.Line2D at 0x17da24a5908>]"
      ]
     },
     "execution_count": 17,
     "metadata": {},
     "output_type": "execute_result"
    },
    {
     "data": {
      "image/png": "[encoded data removed]",
      "text/plain": [
       "<matplotlib.figure.Figure at 0x17da24a5710>"
      ]
     },
     "metadata": {},
     "output_type": "display_data"
    }
   ],
   "source": [
    "plt.plot(X,y,'ro') #'ro', r--> red, o--> 圈圈; 你可以試試 'g^'\n",
    "plt.ylim(-3,3)\n",
    "plt.xlabel(\"Feature\")  #Feature X\n",
    "plt.ylabel(\"Target\")   #Label y\n",
    "line = np.linspace(-3, 3, num=100).reshape(-1, 1)  #以np.linespace().reshape(-1,1) 產生測試資料 line\n",
    "plt.plot(line, lrModel.predict(line))              #將 line 以 lrModel.predict() 預測並畫圖\n",
    "ax = plt.gca()\n",
    "ax.legend([\"training data\",\"model\"], loc=\"best\")\n",
    "plt.plot(px,lrModel.predict(px),'g^')  #將預測結果以 'g^' 畫出"
   ]
  },
  {
   "cell_type": "code",
   "execution_count": 18,
   "metadata": {},
   "outputs": [
    {
     "name": "stdout",
     "output_type": "stream",
     "text": [
      "訓練集分數,score(X_train,y_train):0.67\n",
      "測試集分數,score(X_test,y_test):0.66\n"
     ]
    }
   ],
   "source": [
    "#3. Evaluation\n",
    "print(\"訓練集分數,score(X_train,y_train):{:.2f}\".format(lrModel.score(X_train,y_train)))\n",
    "print(\"測試集分數,score(X_test,y_test):{:.2f}\".format(lrModel.score(X_test,y_test)))"
   ]
  },
  {
   "cell_type": "code",
   "execution_count": 19,
   "metadata": {},
   "outputs": [],
   "source": [
    "#雖然R2很差,但無 orverfitting 問題\n",
    "#是 underfitting"
   ]
  },
  {
   "cell_type": "code",
   "execution_count": 20,
   "metadata": {},
   "outputs": [],
   "source": [
    "#=============================================================================\n",
    "#part II: LinearRegression 在 extended_Boston Dataset \n",
    "#         (506 data point, 105 衍生 feature)"
   ]
  },
  {
   "cell_type": "code",
   "execution_count": 21,
   "metadata": {},
   "outputs": [],
   "source": [
    "#準備資料\n",
    "X,y=mglearn.datasets.load_extended_boston()\n",
    "X_train,X_test,y_train,y_test=train_test_split(X,y,random_state=0)"
   ]
  },
  {
   "cell_type": "code",
   "execution_count": 22,
   "metadata": {},
   "outputs": [],
   "source": [
    "#訓練\n",
    "lrModel=LinearRegression().fit(X_train,y_train)"
   ]
  },
  {
   "cell_type": "code",
   "execution_count": 23,
   "metadata": {},
   "outputs": [
    {
     "name": "stdout",
     "output_type": "stream",
     "text": [
      "訓練集分數,score(X_train,y_train):0.95\n",
      "測試集分數,score(X_test,y_test):0.61\n"
     ]
    }
   ],
   "source": [
    "#predict, Evaluation\n",
    "print(\"訓練集分數,score(X_train,y_train):{:.2f}\".format(lrModel.score(X_train,y_train)))\n",
    "print(\"測試集分數,score(X_test,y_test):{:.2f}\".format(lrModel.score(X_test,y_test)))"
   ]
  },
  {
   "cell_type": "code",
   "execution_count": 24,
   "metadata": {},
   "outputs": [],
   "source": [
    "#非常明顯的 orverfitting"
   ]
  },
  {
   "cell_type": "code",
   "execution_count": 25,
   "metadata": {},
   "outputs": [],
   "source": [
    "#因為標準線性迴歸不允許我們控制複雜度\n",
    "#我們常以正規化線性迴歸(ridge regression) 替代"
   ]
  },
  {
   "cell_type": "code",
   "execution_count": 26,
   "metadata": {
    "collapsed": true
   },
   "outputs": [],
   "source": [
    "#============================================================================\n",
    "#numpy.linespace() 說明\n",
    "#numpy.linspace(start, stop, num=50, endpoint=True, retstep=False, dtype=None)\n",
    "lpt=np.linspace(2.0,5.0,20)"
   ]
  },
  {
   "cell_type": "code",
   "execution_count": 27,
   "metadata": {},
   "outputs": [
    {
     "data": {
      "text/plain": [
       "array([ 2.        ,  2.15789474,  2.31578947,  2.47368421,  2.63157895,\n",
       "        2.78947368,  2.94736842,  3.10526316,  3.26315789,  3.42105263,\n",
       "        3.57894737,  3.73684211,  3.89473684,  4.05263158,  4.21052632,\n",
       "        4.36842105,  4.52631579,  4.68421053,  4.84210526,  5.        ])"
      ]
     },
     "execution_count": 27,
     "metadata": {},
     "output_type": "execute_result"
    }
   ],
   "source": [
    "lpt"
   ]
  },
  {
   "cell_type": "code",
   "execution_count": 28,
   "metadata": {},
   "outputs": [
    {
     "data": {
      "text/plain": [
       "(20,)"
      ]
     },
     "execution_count": 28,
     "metadata": {},
     "output_type": "execute_result"
    }
   ],
   "source": [
    "lpt.shape"
   ]
  },
  {
   "cell_type": "code",
   "execution_count": 29,
   "metadata": {
    "collapsed": true
   },
   "outputs": [],
   "source": [
    "lpt2d=lpt.reshape(-1,1)"
   ]
  },
  {
   "cell_type": "code",
   "execution_count": 30,
   "metadata": {},
   "outputs": [
    {
     "data": {
      "text/plain": [
       "(20, 1)"
      ]
     },
     "execution_count": 30,
     "metadata": {},
     "output_type": "execute_result"
    }
   ],
   "source": [
    "lpt2d.shape"
   ]
  },
  {
   "cell_type": "code",
   "execution_count": 31,
   "metadata": {},
   "outputs": [
    {
     "data": {
      "text/plain": [
       "array([[ 2.        ],\n",
       "       [ 2.15789474],\n",
       "       [ 2.31578947],\n",
       "       [ 2.47368421],\n",
       "       [ 2.63157895],\n",
       "       [ 2.78947368],\n",
       "       [ 2.94736842],\n",
       "       [ 3.10526316],\n",
       "       [ 3.26315789],\n",
       "       [ 3.42105263],\n",
       "       [ 3.57894737],\n",
       "       [ 3.73684211],\n",
       "       [ 3.89473684],\n",
       "       [ 4.05263158],\n",
       "       [ 4.21052632],\n",
       "       [ 4.36842105],\n",
       "       [ 4.52631579],\n",
       "       [ 4.68421053],\n",
       "       [ 4.84210526],\n",
       "       [ 5.        ]])"
      ]
     },
     "execution_count": 31,
     "metadata": {},
     "output_type": "execute_result"
    }
   ],
   "source": [
    "lpt2d"
   ]
  },
  {
   "cell_type": "code",
   "execution_count": null,
   "metadata": {
    "collapsed": true
   },
   "outputs": [],
   "source": []
  }
 ],
 "metadata": {
  "anaconda-cloud": {},
  "kernelspec": {
   "display_name": "Python 3",
   "language": "python",
   "name": "python3"
  },
  "language_info": {
   "codemirror_mode": {
    "name": "ipython",
    "version": 3
   },
   "file_extension": ".py",
   "mimetype": "text/x-python",
   "name": "python",
   "nbconvert_exporter": "python",
   "pygments_lexer": "ipython3",
   "version": "3.6.4"
  }
 },
 "nbformat": 4,
 "nbformat_minor": 1
}
