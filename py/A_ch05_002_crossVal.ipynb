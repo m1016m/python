{
 "cells": [
  {
   "cell_type": "code",
   "execution_count": 1,
   "metadata": {
    "collapsed": true
   },
   "outputs": [],
   "source": [
    "#A_ch05_002_crossVal.ipynb\n",
    "#cross-validation (交叉驗證)\n",
    "#example 1, 以make_blobs虛擬資料集為例"
   ]
  },
  {
   "cell_type": "code",
   "execution_count": 2,
   "metadata": {
    "collapsed": true
   },
   "outputs": [],
   "source": [
    "from sklearn.model_selection import cross_val_score #import cross_val_score\n",
    "from sklearn.datasets import make_blobs\n",
    "from sklearn.linear_model import LogisticRegression"
   ]
  },
  {
   "cell_type": "code",
   "execution_count": 3,
   "metadata": {
    "collapsed": true
   },
   "outputs": [],
   "source": [
    "#step 0. 建立一組虛擬資料, 使用 make_blobs\n",
    "X,y=make_blobs(random_state=0,n_samples=200)"
   ]
  },
  {
   "cell_type": "code",
   "execution_count": 4,
   "metadata": {
    "collapsed": true
   },
   "outputs": [],
   "source": [
    "#step 1. 建立及訓練(fit)模型,用資料集(X,y)來做交叉驗證\n",
    "logregModel=LogisticRegression() #使用LogisticRegression()建立模型 'logregModel'"
   ]
  },
  {
   "cell_type": "code",
   "execution_count": 5,
   "metadata": {
    "collapsed": true
   },
   "outputs": [],
   "source": [
    "#step 2. 以cross_val_score() 做交叉訓練驗證\n",
    "#        estimator=LogisticRegression model 'logregModel'\n",
    "#        fold number=3,(cv=3)\n",
    "score_k3=cross_val_score(logregModel,X,y,cv=3)"
   ]
  },
  {
   "cell_type": "code",
   "execution_count": 6,
   "metadata": {
    "collapsed": false
   },
   "outputs": [
    {
     "name": "stdout",
     "output_type": "stream",
     "text": [
      "Cross-validation score:[ 0.95588235  0.93939394  0.92424242]\n"
     ]
    }
   ],
   "source": [
    "#step 3. 檢視cross_validation 過程\n",
    "print(\"Cross-validation score:{}\".format(score_k3))"
   ]
  },
  {
   "cell_type": "code",
   "execution_count": 7,
   "metadata": {
    "collapsed": false
   },
   "outputs": [
    {
     "name": "stdout",
     "output_type": "stream",
     "text": [
      "Average cross-validation score:0.94\n"
     ]
    }
   ],
   "source": [
    "#step 4. 檢視acc平均值, score_k3.mean()\n",
    "print(\"Average cross-validation score:{:.2f}\".format(score_k3.mean()))"
   ]
  },
  {
   "cell_type": "code",
   "execution_count": 8,
   "metadata": {
    "collapsed": true
   },
   "outputs": [],
   "source": [
    "#step 5. 更改flod值為5 (cv=5), 做交叉訓練驗證\n",
    "score_k5=cross_val_score(logregModel,X,y,cv=5)"
   ]
  },
  {
   "cell_type": "code",
   "execution_count": 9,
   "metadata": {
    "collapsed": false
   },
   "outputs": [
    {
     "name": "stdout",
     "output_type": "stream",
     "text": [
      "Cross-validation score:[ 0.97619048  0.95121951  0.92307692  0.97435897  0.8974359 ]\n",
      "Average cross-validation score:0.94\n"
     ]
    }
   ],
   "source": [
    "#step 6. 檢視cross_validation 過程,檢視acc平均值, score_k5.mean()\n",
    "print(\"Cross-validation score:{}\".format(score_k5))\n",
    "print(\"Average cross-validation score:{:.2f}\".format(score_k5.mean()))"
   ]
  },
  {
   "cell_type": "code",
   "execution_count": 10,
   "metadata": {
    "collapsed": true
   },
   "outputs": [],
   "source": [
    "#step 7. 由上可知,對這組資料以邏輯斯回歸演算法來擬合(estimator=LogisticRegression)\n",
    "#        k=3,k=5 Avg. acc. 差不多是 0.94\n",
    "#        以下, 同一組資料我們換一個演算法 SVM 做k=3,k=5的交叉驗證訓練並檢視結果"
   ]
  },
  {
   "cell_type": "code",
   "execution_count": 11,
   "metadata": {
    "collapsed": true
   },
   "outputs": [],
   "source": [
    "from sklearn import svm"
   ]
  },
  {
   "cell_type": "code",
   "execution_count": 12,
   "metadata": {
    "collapsed": true
   },
   "outputs": [],
   "source": [
    "#建立svm.SVC model 'svmModel'\n",
    "svmModel=svm.SVC() "
   ]
  },
  {
   "cell_type": "code",
   "execution_count": 13,
   "metadata": {
    "collapsed": true
   },
   "outputs": [],
   "source": [
    "#以svm model 做擬合演算法, cv=3\n",
    "score_svm_k3=cross_val_score(svmModel,X,y,cv=3)"
   ]
  },
  {
   "cell_type": "code",
   "execution_count": 14,
   "metadata": {
    "collapsed": false
   },
   "outputs": [
    {
     "name": "stdout",
     "output_type": "stream",
     "text": [
      "Cross-validation score:[ 0.91176471  0.95454545  0.93939394]\n",
      "Average cross-validation score:0.94\n"
     ]
    }
   ],
   "source": [
    "#檢視cross_validation 過程,檢視acc平均值, score_svm_k3.mean()\n",
    "print(\"Cross-validation score:{}\".format(score_svm_k3))\n",
    "print(\"Average cross-validation score:{:.2f}\".format(score_svm_k3.mean()))"
   ]
  },
  {
   "cell_type": "code",
   "execution_count": 15,
   "metadata": {
    "collapsed": true
   },
   "outputs": [],
   "source": [
    "#以svm model 做擬合演算法, cv=5\n",
    "score_svm_k5=cross_val_score(svmModel,X,y,cv=5)"
   ]
  },
  {
   "cell_type": "code",
   "execution_count": 16,
   "metadata": {
    "collapsed": false
   },
   "outputs": [
    {
     "name": "stdout",
     "output_type": "stream",
     "text": [
      "Cross-validation score:[ 0.92857143  0.90243902  0.94871795  0.97435897  0.8974359 ]\n",
      "Average cross-validation score:0.93\n"
     ]
    }
   ],
   "source": [
    "#檢視cross_validation 過程,檢視acc平均值, score_svm_k5.mean()\n",
    "print(\"Cross-validation score:{}\".format(score_svm_k5))\n",
    "print(\"Average cross-validation score:{:.2f}\".format(score_svm_k5.mean()))"
   ]
  },
  {
   "cell_type": "code",
   "execution_count": null,
   "metadata": {
    "collapsed": true
   },
   "outputs": [],
   "source": []
  }
 ],
 "metadata": {
  "kernelspec": {
   "display_name": "Python 3",
   "language": "python",
   "name": "python3"
  },
  "language_info": {
   "codemirror_mode": {
    "name": "ipython",
    "version": 3
   },
   "file_extension": ".py",
   "mimetype": "text/x-python",
   "name": "python",
   "nbconvert_exporter": "python",
   "pygments_lexer": "ipython3",
   "version": "3.5.2"
  }
 },
 "nbformat": 4,
 "nbformat_minor": 1
}
