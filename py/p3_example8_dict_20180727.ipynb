{
 "cells": [
  {
   "cell_type": "code",
   "execution_count": 1,
   "metadata": {
    "collapsed": true
   },
   "outputs": [],
   "source": [
    "#p3_example8_dict_20180727.ipynb"
   ]
  },
  {
   "cell_type": "code",
   "execution_count": 2,
   "metadata": {
    "collapsed": true
   },
   "outputs": [],
   "source": [
    "#dictionary"
   ]
  },
  {
   "cell_type": "code",
   "execution_count": 3,
   "metadata": {
    "collapsed": true
   },
   "outputs": [],
   "source": [
    "empty_dict={} #用 {} 建立空的字典"
   ]
  },
  {
   "cell_type": "code",
   "execution_count": 4,
   "metadata": {},
   "outputs": [
    {
     "data": {
      "text/plain": [
       "{}"
      ]
     },
     "execution_count": 4,
     "metadata": {},
     "output_type": "execute_result"
    }
   ],
   "source": [
    "empty_dict"
   ]
  },
  {
   "cell_type": "code",
   "execution_count": 5,
   "metadata": {
    "collapsed": true
   },
   "outputs": [],
   "source": [
    "#建立字典"
   ]
  },
  {
   "cell_type": "code",
   "execution_count": 6,
   "metadata": {
    "collapsed": true
   },
   "outputs": [],
   "source": [
    "program_language={'C':'Dennis Ritchie,1972','Python':'Guido van Rossum,1991',\n",
    "                  'Java':'James Gosling,1995'} #以逗點隔開的 key:value 對"
   ]
  },
  {
   "cell_type": "code",
   "execution_count": 7,
   "metadata": {},
   "outputs": [
    {
     "data": {
      "text/plain": [
       "{'C': 'Dennis Ritchie,1972',\n",
       " 'Java': 'James Gosling,1995',\n",
       " 'Python': 'Guido van Rossum,1991'}"
      ]
     },
     "execution_count": 7,
     "metadata": {},
     "output_type": "execute_result"
    }
   ],
   "source": [
    "program_language #display dict. progrma_language"
   ]
  },
  {
   "cell_type": "code",
   "execution_count": 8,
   "metadata": {},
   "outputs": [
    {
     "data": {
      "text/plain": [
       "'Dennis Ritchie,1972'"
      ]
     },
     "execution_count": 8,
     "metadata": {},
     "output_type": "execute_result"
    }
   ],
   "source": [
    "program_language['C'] #以[key] 當註標"
   ]
  },
  {
   "cell_type": "code",
   "execution_count": 9,
   "metadata": {
    "collapsed": true
   },
   "outputs": [],
   "source": [
    "#更改元素內容\n",
    "program_language['Java'] = 'James Gosling,1995, top 1 now' "
   ]
  },
  {
   "cell_type": "code",
   "execution_count": 10,
   "metadata": {},
   "outputs": [
    {
     "data": {
      "text/plain": [
       "{'C': 'Dennis Ritchie,1972',\n",
       " 'Java': 'James Gosling,1995, top 1 now',\n",
       " 'Python': 'Guido van Rossum,1991'}"
      ]
     },
     "execution_count": 10,
     "metadata": {},
     "output_type": "execute_result"
    }
   ],
   "source": [
    "program_language #key 'Java', 內容已更改"
   ]
  },
  {
   "cell_type": "code",
   "execution_count": 11,
   "metadata": {
    "collapsed": true
   },
   "outputs": [],
   "source": [
    "#dict() function,將雙值序列轉換成字典\n",
    "#只要 \"雙值序列\" 樣式的都可以"
   ]
  },
  {
   "cell_type": "code",
   "execution_count": 12,
   "metadata": {
    "collapsed": true
   },
   "outputs": [],
   "source": [
    "lol=[[1.0,'aaa'],[2.0,'bbb'],[3.0,'ccc']] #list of lists"
   ]
  },
  {
   "cell_type": "code",
   "execution_count": 13,
   "metadata": {},
   "outputs": [],
   "source": [
    "dict_lol=dict(lol)"
   ]
  },
  {
   "cell_type": "code",
   "execution_count": 14,
   "metadata": {},
   "outputs": [
    {
     "data": {
      "text/plain": [
       "{1.0: 'aaa', 2.0: 'bbb', 3.0: 'ccc'}"
      ]
     },
     "execution_count": 14,
     "metadata": {},
     "output_type": "execute_result"
    }
   ],
   "source": [
    "dict_lol"
   ]
  },
  {
   "cell_type": "code",
   "execution_count": 15,
   "metadata": {},
   "outputs": [
    {
     "data": {
      "text/plain": [
       "'bbb'"
      ]
     },
     "execution_count": 15,
     "metadata": {},
     "output_type": "execute_result"
    }
   ],
   "source": [
    "dict_lol[2.0] #dict_lol is a dict, 以 [key] 當註標, 不是[offset]\n",
    "            # 2.0 是 key"
   ]
  },
  {
   "cell_type": "code",
   "execution_count": 16,
   "metadata": {
    "collapsed": true
   },
   "outputs": [],
   "source": [
    "lot=[('111','aaa'),('222','bbb'),('333','ccc')] #list of tuples"
   ]
  },
  {
   "cell_type": "code",
   "execution_count": 17,
   "metadata": {
    "collapsed": true
   },
   "outputs": [],
   "source": [
    "dict_lot=dict(lot)"
   ]
  },
  {
   "cell_type": "code",
   "execution_count": 18,
   "metadata": {},
   "outputs": [
    {
     "data": {
      "text/plain": [
       "{'111': 'aaa', '222': 'bbb', '333': 'ccc'}"
      ]
     },
     "execution_count": 18,
     "metadata": {},
     "output_type": "execute_result"
    }
   ],
   "source": [
    "dict_lot"
   ]
  },
  {
   "cell_type": "code",
   "execution_count": 19,
   "metadata": {
    "collapsed": true
   },
   "outputs": [],
   "source": [
    "dict_lot['222']='bbbb'"
   ]
  },
  {
   "cell_type": "code",
   "execution_count": 20,
   "metadata": {
    "collapsed": true
   },
   "outputs": [],
   "source": [
    "tol=(['11','aa'],['22','bb'],['33','cc']) #tuple of lists"
   ]
  },
  {
   "cell_type": "code",
   "execution_count": 21,
   "metadata": {
    "collapsed": true
   },
   "outputs": [],
   "source": [
    "dict_tol=dict(tol) "
   ]
  },
  {
   "cell_type": "code",
   "execution_count": 22,
   "metadata": {},
   "outputs": [
    {
     "data": {
      "text/plain": [
       "{'11': 'aa', '22': 'bb', '33': 'cc'}"
      ]
     },
     "execution_count": 22,
     "metadata": {},
     "output_type": "execute_result"
    }
   ],
   "source": [
    "dict_tol"
   ]
  },
  {
   "cell_type": "code",
   "execution_count": 23,
   "metadata": {
    "collapsed": true
   },
   "outputs": [],
   "source": [
    "los=['3a','2b','1c'] #含有雙字元字串的list, list of string"
   ]
  },
  {
   "cell_type": "code",
   "execution_count": 24,
   "metadata": {
    "collapsed": true
   },
   "outputs": [],
   "source": [
    "dict_los=dict(los)"
   ]
  },
  {
   "cell_type": "code",
   "execution_count": 25,
   "metadata": {},
   "outputs": [
    {
     "data": {
      "text/plain": [
       "{'1': 'c', '2': 'b', '3': 'a'}"
      ]
     },
     "execution_count": 25,
     "metadata": {},
     "output_type": "execute_result"
    }
   ],
   "source": [
    "dict_los #注意!dict. 是以key排序"
   ]
  },
  {
   "cell_type": "code",
   "execution_count": 26,
   "metadata": {
    "collapsed": true
   },
   "outputs": [],
   "source": [
    "tos=('a1','b2','c3') #含有雙字元字串的tuple, tuple of string"
   ]
  },
  {
   "cell_type": "code",
   "execution_count": 27,
   "metadata": {},
   "outputs": [
    {
     "data": {
      "text/plain": [
       "{'a': '1', 'b': '2', 'c': '3'}"
      ]
     },
     "execution_count": 27,
     "metadata": {},
     "output_type": "execute_result"
    }
   ],
   "source": [
    "dict(tos)"
   ]
  },
  {
   "cell_type": "code",
   "execution_count": 47,
   "metadata": {
    "collapsed": true
   },
   "outputs": [],
   "source": [
    "#Creating dicts from sequences\n",
    "#to occasionally end up with two sequences that you want to pair up\n",
    "#element-wise in a dict. (useing zip())"
   ]
  },
  {
   "cell_type": "code",
   "execution_count": 49,
   "metadata": {},
   "outputs": [],
   "source": [
    "mapdic={} #empty dict\n",
    "language=['Java','Go','Python','C#','Perl']\n",
    "\n",
    "for k,v in zip(range(1,10),language):\n",
    "    mapdic[k]=v"
   ]
  },
  {
   "cell_type": "code",
   "execution_count": 50,
   "metadata": {},
   "outputs": [
    {
     "data": {
      "text/plain": [
       "{1: 'Java', 2: 'Go', 3: 'Python', 4: 'C#', 5: 'Perl'}"
      ]
     },
     "execution_count": 50,
     "metadata": {},
     "output_type": "execute_result"
    }
   ],
   "source": [
    "mapdic"
   ]
  },
  {
   "cell_type": "code",
   "execution_count": 51,
   "metadata": {},
   "outputs": [
    {
     "data": {
      "text/plain": [
       "{1: 'Java', 2: 'Go', 3: 'Python', 4: 'C#', 5: 'Perl'}"
      ]
     },
     "execution_count": 51,
     "metadata": {},
     "output_type": "execute_result"
    }
   ],
   "source": [
    "#或者這樣做\n",
    "mapdic2=dict(zip(range(1,10),language))\n",
    "mapdic2"
   ]
  },
  {
   "cell_type": "code",
   "execution_count": 55,
   "metadata": {},
   "outputs": [],
   "source": [
    "#練習1: 將list 'language' 依其元素字串長度 編成字典 'mapdic3' 如下:\n",
    "# {1: 'Python', 2: 'Java', 3: 'Perl', 4: 'Go', 5: 'C#'} "
   ]
  },
  {
   "cell_type": "code",
   "execution_count": null,
   "metadata": {
    "collapsed": true
   },
   "outputs": [],
   "source": [
    "#========================================================================"
   ]
  },
  {
   "cell_type": "code",
   "execution_count": 28,
   "metadata": {
    "collapsed": true
   },
   "outputs": [],
   "source": [
    "#用[key]來添加或變更項目"
   ]
  },
  {
   "cell_type": "code",
   "execution_count": 29,
   "metadata": {
    "collapsed": true
   },
   "outputs": [],
   "source": [
    "pop_language={'C':'Dennis Ritchie,1972','Python':'Guido van Rossum,1991',\n",
    "                  'Java':'James Gosling,1995'} #dictionary pop_language"
   ]
  },
  {
   "cell_type": "code",
   "execution_count": 30,
   "metadata": {
    "collapsed": true
   },
   "outputs": [],
   "source": [
    "pop_language['Java']='James Gosling,1995, No. 1 in 2016' #藉由[key],指定值 "
   ]
  },
  {
   "cell_type": "code",
   "execution_count": 31,
   "metadata": {},
   "outputs": [
    {
     "data": {
      "text/plain": [
       "{'C': 'Dennis Ritchie,1972',\n",
       " 'Java': 'James Gosling,1995, No. 1 in 2016',\n",
       " 'Python': 'Guido van Rossum,1991'}"
      ]
     },
     "execution_count": 31,
     "metadata": {},
     "output_type": "execute_result"
    }
   ],
   "source": [
    "pop_language"
   ]
  },
  {
   "cell_type": "code",
   "execution_count": 32,
   "metadata": {
    "collapsed": true
   },
   "outputs": [],
   "source": [
    "pop_language['Go']='Robert Griesemer,2009' #如果[key] 不存在,就新增此 key:value pair"
   ]
  },
  {
   "cell_type": "code",
   "execution_count": 33,
   "metadata": {
    "collapsed": true
   },
   "outputs": [],
   "source": [
    "# 練習2: pop_language['perl'] ? why?"
   ]
  },
  {
   "cell_type": "code",
   "execution_count": 34,
   "metadata": {},
   "outputs": [
    {
     "data": {
      "text/plain": [
       "{'C': 'Dennis Ritchie,1972',\n",
       " 'Go': 'Robert Griesemer,2009',\n",
       " 'Java': 'James Gosling,1995, No. 1 in 2016',\n",
       " 'Python': 'Guido van Rossum,1991'}"
      ]
     },
     "execution_count": 34,
     "metadata": {},
     "output_type": "execute_result"
    }
   ],
   "source": [
    "pop_language"
   ]
  },
  {
   "cell_type": "code",
   "execution_count": 35,
   "metadata": {
    "collapsed": true
   },
   "outputs": [],
   "source": [
    "#dict. 中的 key 必須 unique,如果多次使用,最後一個值勝出\n",
    "pop_language['Java']='一種程式語言' "
   ]
  },
  {
   "cell_type": "code",
   "execution_count": 36,
   "metadata": {},
   "outputs": [
    {
     "data": {
      "text/plain": [
       "{'C': 'Dennis Ritchie,1972',\n",
       " 'Go': 'Robert Griesemer,2009',\n",
       " 'Java': '一種程式語言',\n",
       " 'Python': 'Guido van Rossum,1991'}"
      ]
     },
     "execution_count": 36,
     "metadata": {},
     "output_type": "execute_result"
    }
   ],
   "source": [
    "pop_language"
   ]
  },
  {
   "cell_type": "code",
   "execution_count": 37,
   "metadata": {
    "collapsed": true
   },
   "outputs": [],
   "source": [
    "#用dict.update(dict) method,合併其他字典"
   ]
  },
  {
   "cell_type": "code",
   "execution_count": 1,
   "metadata": {},
   "outputs": [
    {
     "ename": "NameError",
     "evalue": "name 'pop_language' is not defined",
     "output_type": "error",
     "traceback": [
      "\u001b[0;31m---------------------------------------------------------------------------\u001b[0m",
      "\u001b[0;31mNameError\u001b[0m                                 Traceback (most recent call last)",
      "\u001b[0;32m<ipython-input-1-fc74d98f835f>\u001b[0m in \u001b[0;36m<module>\u001b[0;34m()\u001b[0m\n\u001b[0;32m----> 1\u001b[0;31m \u001b[0mpop_language\u001b[0m\u001b[0;34m\u001b[0m\u001b[0m\n\u001b[0m",
      "\u001b[0;31mNameError\u001b[0m: name 'pop_language' is not defined"
     ]
    }
   ],
   "source": [
    "pop_language"
   ]
  },
  {
   "cell_type": "code",
   "execution_count": 38,
   "metadata": {
    "collapsed": true
   },
   "outputs": [],
   "source": [
    "another_language={'C#':'microsoft','Java':'James Gosling,1995'} #another dict."
   ]
  },
  {
   "cell_type": "code",
   "execution_count": 39,
   "metadata": {
    "collapsed": true
   },
   "outputs": [],
   "source": [
    "pop_language.update(another_language) #使用update() method 將一dict. 併入"
   ]
  },
  {
   "cell_type": "code",
   "execution_count": 40,
   "metadata": {},
   "outputs": [
    {
     "data": {
      "text/plain": [
       "{'C': 'Dennis Ritchie,1972',\n",
       " 'C#': 'microsoft',\n",
       " 'Go': 'Robert Griesemer,2009',\n",
       " 'Java': 'James Gosling,1995',\n",
       " 'Python': 'Guido van Rossum,1991'}"
      ]
     },
     "execution_count": 40,
     "metadata": {},
     "output_type": "execute_result"
    }
   ],
   "source": [
    "pop_language #['Java'] 重複,後者勝出, [C#]新增"
   ]
  },
  {
   "cell_type": "code",
   "execution_count": 41,
   "metadata": {
    "collapsed": true
   },
   "outputs": [],
   "source": [
    "#用 del 指令與鍵來刪除項目"
   ]
  },
  {
   "cell_type": "code",
   "execution_count": 42,
   "metadata": {
    "collapsed": true
   },
   "outputs": [],
   "source": [
    "del pop_language['Go'] #Go 語言不再流行,刪除"
   ]
  },
  {
   "cell_type": "code",
   "execution_count": 43,
   "metadata": {},
   "outputs": [
    {
     "data": {
      "text/plain": [
       "{'C': 'Dennis Ritchie,1972',\n",
       " 'C#': 'microsoft',\n",
       " 'Java': 'James Gosling,1995',\n",
       " 'Python': 'Guido van Rossum,1991'}"
      ]
     },
     "execution_count": 43,
     "metadata": {},
     "output_type": "execute_result"
    }
   ],
   "source": [
    "pop_language"
   ]
  },
  {
   "cell_type": "code",
   "execution_count": 44,
   "metadata": {
    "collapsed": true
   },
   "outputs": [],
   "source": [
    "pop_language['Go']='Go language' #把 Go 加回去"
   ]
  },
  {
   "cell_type": "code",
   "execution_count": 45,
   "metadata": {
    "scrolled": true
   },
   "outputs": [
    {
     "data": {
      "text/plain": [
       "'Go language'"
      ]
     },
     "execution_count": 45,
     "metadata": {},
     "output_type": "execute_result"
    }
   ],
   "source": [
    "#以 pop('key') method pop 字典元素值\n",
    "x=pop_language.pop('Go')\n",
    "x"
   ]
  },
  {
   "cell_type": "code",
   "execution_count": 46,
   "metadata": {},
   "outputs": [
    {
     "data": {
      "text/plain": [
       "{'C': 'Dennis Ritchie,1972',\n",
       " 'C#': 'microsoft',\n",
       " 'Java': 'James Gosling,1995',\n",
       " 'Python': 'Guido van Rossum,1991'}"
      ]
     },
     "execution_count": 46,
     "metadata": {},
     "output_type": "execute_result"
    }
   ],
   "source": [
    "pop_language #Go 被 pop 出來了"
   ]
  },
  {
   "cell_type": "code",
   "execution_count": 45,
   "metadata": {
    "collapsed": true
   },
   "outputs": [],
   "source": [
    "#使用 in 指令來測試鍵"
   ]
  },
  {
   "cell_type": "code",
   "execution_count": 46,
   "metadata": {},
   "outputs": [
    {
     "data": {
      "text/plain": [
       "True"
      ]
     },
     "execution_count": 46,
     "metadata": {},
     "output_type": "execute_result"
    }
   ],
   "source": [
    "'Python' in pop_language #['Python'] 是否在dict. pop_language 中"
   ]
  },
  {
   "cell_type": "code",
   "execution_count": 47,
   "metadata": {},
   "outputs": [
    {
     "data": {
      "text/plain": [
       "False"
      ]
     },
     "execution_count": 47,
     "metadata": {},
     "output_type": "execute_result"
    }
   ],
   "source": [
    "'Go' in pop_language #['Go'] 是否在dict. pop_language 中"
   ]
  },
  {
   "cell_type": "code",
   "execution_count": 48,
   "metadata": {
    "collapsed": true
   },
   "outputs": [],
   "source": [
    "#用clear() method 來刪除所有項目 "
   ]
  },
  {
   "cell_type": "code",
   "execution_count": 49,
   "metadata": {
    "collapsed": true
   },
   "outputs": [],
   "source": [
    "another_language.clear() #clear() method"
   ]
  },
  {
   "cell_type": "code",
   "execution_count": 50,
   "metadata": {},
   "outputs": [
    {
     "data": {
      "text/plain": [
       "{}"
      ]
     },
     "execution_count": 50,
     "metadata": {},
     "output_type": "execute_result"
    }
   ],
   "source": [
    "another_language"
   ]
  },
  {
   "cell_type": "code",
   "execution_count": 51,
   "metadata": {
    "collapsed": true
   },
   "outputs": [],
   "source": [
    "#用[key]來取得一個項目"
   ]
  },
  {
   "cell_type": "code",
   "execution_count": 52,
   "metadata": {},
   "outputs": [
    {
     "data": {
      "text/plain": [
       "'James Gosling,1995'"
      ]
     },
     "execution_count": 52,
     "metadata": {},
     "output_type": "execute_result"
    }
   ],
   "source": [
    "pop_language['Java'] #['Java'] "
   ]
  },
  {
   "cell_type": "code",
   "execution_count": 53,
   "metadata": {},
   "outputs": [
    {
     "ename": "KeyError",
     "evalue": "'COBOL'",
     "output_type": "error",
     "traceback": [
      "\u001b[1;31m---------------------------------------------------------------------------\u001b[0m",
      "\u001b[1;31mKeyError\u001b[0m                                  Traceback (most recent call last)",
      "\u001b[1;32m<ipython-input-53-19963bb730e5>\u001b[0m in \u001b[0;36m<module>\u001b[1;34m()\u001b[0m\n\u001b[1;32m----> 1\u001b[1;33m \u001b[0mpop_language\u001b[0m\u001b[1;33m[\u001b[0m\u001b[1;34m'COBOL'\u001b[0m\u001b[1;33m]\u001b[0m \u001b[1;31m#如果 key 不存在,你會得到一個例外\u001b[0m\u001b[1;33m\u001b[0m\u001b[0m\n\u001b[0m\u001b[0;32m      2\u001b[0m                       \u001b[1;31m#但是如果 pop_language['COBLO']='一個古老的語言' --> OK.\u001b[0m\u001b[1;33m\u001b[0m\u001b[1;33m\u001b[0m\u001b[0m\n",
      "\u001b[1;31mKeyError\u001b[0m: 'COBOL'"
     ]
    }
   ],
   "source": [
    "pop_language['COBOL'] #如果 key 不存在,你會得到一個例外\n",
    "                      #但是如果 pop_language['COBLO']='一個古老的語言' --> OK."
   ]
  },
  {
   "cell_type": "code",
   "execution_count": 54,
   "metadata": {
    "collapsed": true
   },
   "outputs": [],
   "source": [
    "pop_language['COBOL']='一個古老的語言' #在指定時['COBOL'] key不存在,此時會變新增"
   ]
  },
  {
   "cell_type": "code",
   "execution_count": 55,
   "metadata": {
    "collapsed": true
   },
   "outputs": [],
   "source": [
    "#get() function"
   ]
  },
  {
   "cell_type": "code",
   "execution_count": 56,
   "metadata": {},
   "outputs": [
    {
     "data": {
      "text/plain": [
       "'not exists'"
      ]
     },
     "execution_count": 56,
     "metadata": {},
     "output_type": "execute_result"
    }
   ],
   "source": [
    "pop_language.get('PROLOG','not exists') #改用get() method, 如果key不存在,出現替代值"
   ]
  },
  {
   "cell_type": "code",
   "execution_count": 57,
   "metadata": {},
   "outputs": [
    {
     "data": {
      "text/plain": [
       "'James Gosling,1995'"
      ]
     },
     "execution_count": 57,
     "metadata": {},
     "output_type": "execute_result"
    }
   ],
   "source": [
    "pop_language.get('Java') #可以get() 來取得一個項目"
   ]
  },
  {
   "cell_type": "code",
   "execution_count": 58,
   "metadata": {
    "collapsed": true
   },
   "outputs": [],
   "source": [
    "pop_language.get('PROLOG') #沒有替代值時,以none出現,不會出現例外"
   ]
  },
  {
   "cell_type": "code",
   "execution_count": 59,
   "metadata": {
    "collapsed": true
   },
   "outputs": [],
   "source": [
    "#keys(), values(), items() method"
   ]
  },
  {
   "cell_type": "code",
   "execution_count": 60,
   "metadata": {
    "collapsed": true
   },
   "outputs": [],
   "source": [
    "#用keys() method,取得所有鍵"
   ]
  },
  {
   "cell_type": "code",
   "execution_count": 61,
   "metadata": {
    "collapsed": true
   },
   "outputs": [],
   "source": [
    "pop_language_list=list(pop_language.keys()) #用keys()取得字典所有鍵,以list() function\n",
    "                                            #轉成list "
   ]
  },
  {
   "cell_type": "code",
   "execution_count": 62,
   "metadata": {},
   "outputs": [
    {
     "data": {
      "text/plain": [
       "['C#', 'C', 'Python', 'Java', 'COBOL']"
      ]
     },
     "execution_count": 62,
     "metadata": {},
     "output_type": "execute_result"
    }
   ],
   "source": [
    "pop_language_list #list pop_language_list"
   ]
  },
  {
   "cell_type": "code",
   "execution_count": 63,
   "metadata": {
    "collapsed": true
   },
   "outputs": [],
   "source": [
    "#用values() method,取得所有值"
   ]
  },
  {
   "cell_type": "code",
   "execution_count": 64,
   "metadata": {
    "collapsed": true
   },
   "outputs": [],
   "source": [
    "pop_language_value_list=list(pop_language.values()) #用values() 取得字典所有值,\n",
    "                                                    #以list() 轉成list"
   ]
  },
  {
   "cell_type": "code",
   "execution_count": 65,
   "metadata": {},
   "outputs": [
    {
     "data": {
      "text/plain": [
       "['microsoft',\n",
       " 'Dennis Ritchie,1972',\n",
       " 'Guido van Rossum,1991',\n",
       " 'James Gosling,1995',\n",
       " '一個古老的語言']"
      ]
     },
     "execution_count": 65,
     "metadata": {},
     "output_type": "execute_result"
    }
   ],
   "source": [
    "pop_language_value_list"
   ]
  },
  {
   "cell_type": "code",
   "execution_count": 66,
   "metadata": {
    "collapsed": true
   },
   "outputs": [],
   "source": [
    "#用items() method,取得所有 key/value pair , 將以list of tuple ('key','value') 傳回"
   ]
  },
  {
   "cell_type": "code",
   "execution_count": 67,
   "metadata": {
    "collapsed": true
   },
   "outputs": [],
   "source": [
    "pair_list=list(pop_language.items()) "
   ]
  },
  {
   "cell_type": "code",
   "execution_count": 68,
   "metadata": {
    "scrolled": true
   },
   "outputs": [
    {
     "data": {
      "text/plain": [
       "[('C#', 'microsoft'),\n",
       " ('C', 'Dennis Ritchie,1972'),\n",
       " ('Python', 'Guido van Rossum,1991'),\n",
       " ('Java', 'James Gosling,1995'),\n",
       " ('COBOL', '一個古老的語言')]"
      ]
     },
     "execution_count": 68,
     "metadata": {},
     "output_type": "execute_result"
    }
   ],
   "source": [
    "pair_list #以list of tuple ('key','value') 傳回"
   ]
  },
  {
   "cell_type": "code",
   "execution_count": 69,
   "metadata": {
    "collapsed": true
   },
   "outputs": [],
   "source": [
    "#綜合範例:從dict. pop_language 中,將三個字母以上的程式\n",
    "#        (['key'] 長度大於三) 的 item 取出, 回傳結果仍是 dict."
   ]
  },
  {
   "cell_type": "code",
   "execution_count": 70,
   "metadata": {},
   "outputs": [
    {
     "data": {
      "text/plain": [
       "{'C': 'Dennis Ritchie,1972',\n",
       " 'C#': 'microsoft',\n",
       " 'COBOL': '一個古老的語言',\n",
       " 'Java': 'James Gosling,1995',\n",
       " 'Python': 'Guido van Rossum,1991'}"
      ]
     },
     "execution_count": 70,
     "metadata": {},
     "output_type": "execute_result"
    }
   ],
   "source": [
    "pop_language #dict. pop_language"
   ]
  },
  {
   "cell_type": "code",
   "execution_count": 6,
   "metadata": {},
   "outputs": [
    {
     "ename": "TypeError",
     "evalue": "'int' object is not subscriptable",
     "output_type": "error",
     "traceback": [
      "\u001b[0;31m---------------------------------------------------------------------------\u001b[0m",
      "\u001b[0;31mTypeError\u001b[0m                                 Traceback (most recent call last)",
      "\u001b[0;32m<ipython-input-6-805aa49a408b>\u001b[0m in \u001b[0;36m<module>\u001b[0;34m()\u001b[0m\n\u001b[1;32m      1\u001b[0m \u001b[0ma\u001b[0m \u001b[0;34m=\u001b[0m \u001b[0;34m{\u001b[0m\u001b[0;34m'C'\u001b[0m\u001b[0;34m:\u001b[0m \u001b[0;34m'Dennis Ritchie,1972'\u001b[0m\u001b[0;34m,\u001b[0m  \u001b[0;34m'C#'\u001b[0m\u001b[0;34m:\u001b[0m \u001b[0;34m'microsoft'\u001b[0m\u001b[0;34m,\u001b[0m  \u001b[0;34m'COBOL'\u001b[0m\u001b[0;34m:\u001b[0m \u001b[0;34m'一個古老的語言'\u001b[0m\u001b[0;34m,\u001b[0m  \u001b[0;34m'Java'\u001b[0m\u001b[0;34m:\u001b[0m \u001b[0;34m'James Gosling,1995'\u001b[0m\u001b[0;34m,\u001b[0m  \u001b[0;34m'Python'\u001b[0m\u001b[0;34m:\u001b[0m \u001b[0;34m'Guido van Rossum,1991'\u001b[0m\u001b[0;34m}\u001b[0m\u001b[0;34m\u001b[0m\u001b[0m\n\u001b[1;32m      2\u001b[0m \u001b[0mb\u001b[0m \u001b[0;34m=\u001b[0m \u001b[0mlist\u001b[0m\u001b[0;34m(\u001b[0m\u001b[0ma\u001b[0m\u001b[0;34m.\u001b[0m\u001b[0mitems\u001b[0m\u001b[0;34m(\u001b[0m\u001b[0;34m)\u001b[0m\u001b[0;34m)\u001b[0m\u001b[0;34m\u001b[0m\u001b[0m\n\u001b[0;32m----> 3\u001b[0;31m \u001b[0mc\u001b[0m \u001b[0;34m=\u001b[0m \u001b[0;34m[\u001b[0m\u001b[0mx\u001b[0m \u001b[0;32mfor\u001b[0m \u001b[0mx\u001b[0m \u001b[0;32min\u001b[0m \u001b[0mb\u001b[0m \u001b[0;32mif\u001b[0m \u001b[0mlen\u001b[0m\u001b[0;34m(\u001b[0m\u001b[0mx\u001b[0m\u001b[0;34m)\u001b[0m\u001b[0;34m[\u001b[0m\u001b[0;36m0\u001b[0m\u001b[0;34m]\u001b[0m \u001b[0;34m>\u001b[0m \u001b[0;36m3\u001b[0m\u001b[0;34m]\u001b[0m\u001b[0;34m\u001b[0m\u001b[0m\n\u001b[0m\u001b[1;32m      4\u001b[0m \u001b[0mprint\u001b[0m\u001b[0;34m(\u001b[0m\u001b[0mc\u001b[0m\u001b[0;34m)\u001b[0m\u001b[0;34m\u001b[0m\u001b[0m\n",
      "\u001b[0;32m<ipython-input-6-805aa49a408b>\u001b[0m in \u001b[0;36m<listcomp>\u001b[0;34m(.0)\u001b[0m\n\u001b[1;32m      1\u001b[0m \u001b[0ma\u001b[0m \u001b[0;34m=\u001b[0m \u001b[0;34m{\u001b[0m\u001b[0;34m'C'\u001b[0m\u001b[0;34m:\u001b[0m \u001b[0;34m'Dennis Ritchie,1972'\u001b[0m\u001b[0;34m,\u001b[0m  \u001b[0;34m'C#'\u001b[0m\u001b[0;34m:\u001b[0m \u001b[0;34m'microsoft'\u001b[0m\u001b[0;34m,\u001b[0m  \u001b[0;34m'COBOL'\u001b[0m\u001b[0;34m:\u001b[0m \u001b[0;34m'一個古老的語言'\u001b[0m\u001b[0;34m,\u001b[0m  \u001b[0;34m'Java'\u001b[0m\u001b[0;34m:\u001b[0m \u001b[0;34m'James Gosling,1995'\u001b[0m\u001b[0;34m,\u001b[0m  \u001b[0;34m'Python'\u001b[0m\u001b[0;34m:\u001b[0m \u001b[0;34m'Guido van Rossum,1991'\u001b[0m\u001b[0;34m}\u001b[0m\u001b[0;34m\u001b[0m\u001b[0m\n\u001b[1;32m      2\u001b[0m \u001b[0mb\u001b[0m \u001b[0;34m=\u001b[0m \u001b[0mlist\u001b[0m\u001b[0;34m(\u001b[0m\u001b[0ma\u001b[0m\u001b[0;34m.\u001b[0m\u001b[0mitems\u001b[0m\u001b[0;34m(\u001b[0m\u001b[0;34m)\u001b[0m\u001b[0;34m)\u001b[0m\u001b[0;34m\u001b[0m\u001b[0m\n\u001b[0;32m----> 3\u001b[0;31m \u001b[0mc\u001b[0m \u001b[0;34m=\u001b[0m \u001b[0;34m[\u001b[0m\u001b[0mx\u001b[0m \u001b[0;32mfor\u001b[0m \u001b[0mx\u001b[0m \u001b[0;32min\u001b[0m \u001b[0mb\u001b[0m \u001b[0;32mif\u001b[0m \u001b[0mlen\u001b[0m\u001b[0;34m(\u001b[0m\u001b[0mx\u001b[0m\u001b[0;34m)\u001b[0m\u001b[0;34m[\u001b[0m\u001b[0;36m0\u001b[0m\u001b[0;34m]\u001b[0m \u001b[0;34m>\u001b[0m \u001b[0;36m3\u001b[0m\u001b[0;34m]\u001b[0m\u001b[0;34m\u001b[0m\u001b[0m\n\u001b[0m\u001b[1;32m      4\u001b[0m \u001b[0mprint\u001b[0m\u001b[0;34m(\u001b[0m\u001b[0mc\u001b[0m\u001b[0;34m)\u001b[0m\u001b[0;34m\u001b[0m\u001b[0m\n",
      "\u001b[0;31mTypeError\u001b[0m: 'int' object is not subscriptable"
     ]
    }
   ],
   "source": [
    "a = {'C': 'Dennis Ritchie,1972',  'C#': 'microsoft',  'COBOL': '一個古老的語言',  'Java': 'James Gosling,1995',  'Python': 'Guido van Rossum,1991'}\n",
    "b = list(a.items())\n",
    "c = [x for x in b if len(x)[0] > 3]\n",
    "print(c)"
   ]
  },
  {
   "cell_type": "code",
   "execution_count": 9,
   "metadata": {},
   "outputs": [
    {
     "ename": "NameError",
     "evalue": "name 'pop_language' is not defined",
     "output_type": "error",
     "traceback": [
      "\u001b[0;31m---------------------------------------------------------------------------\u001b[0m",
      "\u001b[0;31mNameError\u001b[0m                                 Traceback (most recent call last)",
      "\u001b[0;32m<ipython-input-9-3edb3302854e>\u001b[0m in \u001b[0;36m<module>\u001b[0;34m()\u001b[0m\n\u001b[1;32m      1\u001b[0m \u001b[0mnew_dict\u001b[0m \u001b[0;34m=\u001b[0m \u001b[0;34m{\u001b[0m\u001b[0;34m'C'\u001b[0m\u001b[0;34m:\u001b[0m \u001b[0;34m'Dennis Ritchie,1972'\u001b[0m\u001b[0;34m,\u001b[0m\u001b[0;34m'C#'\u001b[0m\u001b[0;34m:\u001b[0m \u001b[0;34m'microsoft'\u001b[0m\u001b[0;34m,\u001b[0m\u001b[0;34m'COBOL'\u001b[0m\u001b[0;34m:\u001b[0m \u001b[0;34m'一個古老的語言'\u001b[0m\u001b[0;34m,\u001b[0m\u001b[0;34m'Java'\u001b[0m\u001b[0;34m:\u001b[0m \u001b[0;34m'James Gosling,1995'\u001b[0m\u001b[0;34m,\u001b[0m\u001b[0;34m'Python'\u001b[0m\u001b[0;34m:\u001b[0m \u001b[0;34m'Guido van Rossum,1991'\u001b[0m\u001b[0;34m}\u001b[0m\u001b[0;34m\u001b[0m\u001b[0m\n\u001b[0;32m----> 2\u001b[0;31m \u001b[0mnew_dict\u001b[0m \u001b[0;34m=\u001b[0m \u001b[0;34m{\u001b[0m\u001b[0mk\u001b[0m\u001b[0;34m:\u001b[0m\u001b[0mv\u001b[0m \u001b[0;32mfor\u001b[0m \u001b[0mk\u001b[0m\u001b[0;34m,\u001b[0m\u001b[0mv\u001b[0m \u001b[0;32min\u001b[0m \u001b[0mpop_language\u001b[0m\u001b[0;34m.\u001b[0m\u001b[0mitems\u001b[0m\u001b[0;34m(\u001b[0m\u001b[0;34m)\u001b[0m \u001b[0;32mif\u001b[0m \u001b[0mlen\u001b[0m\u001b[0;34m(\u001b[0m\u001b[0mk\u001b[0m\u001b[0;34m)\u001b[0m \u001b[0;34m>\u001b[0m \u001b[0;36m3\u001b[0m\u001b[0;34m}\u001b[0m\u001b[0;34m\u001b[0m\u001b[0m\n\u001b[0m\u001b[1;32m      3\u001b[0m \u001b[0mnew_dict\u001b[0m\u001b[0;34m\u001b[0m\u001b[0m\n",
      "\u001b[0;31mNameError\u001b[0m: name 'pop_language' is not defined"
     ]
    }
   ],
   "source": [
    "new_dict = {'C': 'Dennis Ritchie,1972','C#': 'microsoft','COBOL': '一個古老的語言','Java': 'James Gosling,1995','Python': 'Guido van Rossum,1991'}\n",
    "new_dict = {k:v for k,v in pop_language.items() if len(k) > 3}\n",
    "new_dict"
   ]
  },
  {
   "cell_type": "code",
   "execution_count": 3,
   "metadata": {},
   "outputs": [
    {
     "name": "stdout",
     "output_type": "stream",
     "text": [
      "[('C', 'Dennis Ritchie,1972'), ('C#', 'microsoft'), ('COBOL', '一個古老的語言'), ('Java', 'James Gosling,1995'), ('Python', 'Guido van Rossum,1991')]\n",
      "['一個古老的語言', 'James Gosling,1995', 'Guido van Rossum,1991']\n"
     ]
    }
   ],
   "source": [
    "a = {'C': 'Dennis Ritchie,1972',  'C#': 'microsoft',  'COBOL': '一個古老的語言',  'Java': 'James Gosling,1995',  'Python': 'Guido van Rossum,1991'}\n",
    "b = list(a.items())\n",
    "print(b)\n",
    "c = []\n",
    "for i in b:\n",
    "    if len(i[0]) > 3:\n",
    "        c.append(i[1])\n",
    "print(c)\n",
    "        "
   ]
  },
  {
   "cell_type": "code",
   "execution_count": 72,
   "metadata": {},
   "outputs": [
    {
     "name": "stdout",
     "output_type": "stream",
     "text": [
      "('C#', 'microsoft')\n",
      "('C', 'Dennis Ritchie,1972')\n",
      "('Python', 'Guido van Rossum,1991')\n",
      "('Java', 'James Gosling,1995')\n",
      "('COBOL', '一個古老的語言')\n"
     ]
    }
   ],
   "source": [
    "#分解動作1:\n",
    "for d in pop_language.items():\n",
    "    print(d)"
   ]
  },
  {
   "cell_type": "code",
   "execution_count": 73,
   "metadata": {},
   "outputs": [
    {
     "name": "stdout",
     "output_type": "stream",
     "text": [
      "key= C# 長度為: 2\n",
      "key= C 長度為: 1\n",
      "key= Python 長度為: 6\n",
      "key= Java 長度為: 4\n",
      "key= COBOL 長度為: 5\n"
     ]
    }
   ],
   "source": [
    "#分解動作2:\n",
    "for d in pop_language.items():\n",
    "    print('key=',d[0],'長度為:',len(d[0]))"
   ]
  },
  {
   "cell_type": "code",
   "execution_count": 74,
   "metadata": {},
   "outputs": [
    {
     "name": "stdout",
     "output_type": "stream",
     "text": [
      "('Python', 'Guido van Rossum,1991')\n",
      "('Java', 'James Gosling,1995')\n",
      "('COBOL', '一個古老的語言')\n"
     ]
    }
   ],
   "source": [
    "#分解動作3:\n",
    "for d in pop_language.items():\n",
    "    if len(d[0])>=3:\n",
    "        print(d)"
   ]
  },
  {
   "cell_type": "code",
   "execution_count": 75,
   "metadata": {
    "collapsed": true
   },
   "outputs": [],
   "source": [
    "#練習: 使用串列生成式解答:"
   ]
  },
  {
   "cell_type": "code",
   "execution_count": 76,
   "metadata": {},
   "outputs": [
    {
     "data": {
      "text/plain": [
       "[('C#', 'microsoft'),\n",
       " ('C', 'Dennis Ritchie,1972'),\n",
       " ('Python', 'Guido van Rossum,1991'),\n",
       " ('Java', 'James Gosling,1995'),\n",
       " ('COBOL', '一個古老的語言')]"
      ]
     },
     "execution_count": 76,
     "metadata": {},
     "output_type": "execute_result"
    }
   ],
   "source": [
    "[(d[0],d[1]) for d in pop_language.items()] #使用串列生成式,將pop_language.items() \n",
    "                                            #轉為 list of tuple"
   ]
  },
  {
   "cell_type": "code",
   "execution_count": 77,
   "metadata": {},
   "outputs": [],
   "source": [
    "lot=[(d[0],d[1]) for d in pop_language.items() if len(d[0])>=3] #在串列生成式中使用 if "
   ]
  },
  {
   "cell_type": "code",
   "execution_count": 78,
   "metadata": {},
   "outputs": [
    {
     "data": {
      "text/plain": [
       "[('Python', 'Guido van Rossum,1991'),\n",
       " ('Java', 'James Gosling,1995'),\n",
       " ('COBOL', '一個古老的語言')]"
      ]
     },
     "execution_count": 78,
     "metadata": {},
     "output_type": "execute_result"
    }
   ],
   "source": [
    "lot"
   ]
  },
  {
   "cell_type": "code",
   "execution_count": 79,
   "metadata": {},
   "outputs": [],
   "source": [
    "dict03=dict(lot) #再以dict() 將list of tuple 轉成 dict"
   ]
  },
  {
   "cell_type": "code",
   "execution_count": 80,
   "metadata": {},
   "outputs": [
    {
     "data": {
      "text/plain": [
       "{'COBOL': '一個古老的語言',\n",
       " 'Java': 'James Gosling,1995',\n",
       " 'Python': 'Guido van Rossum,1991'}"
      ]
     },
     "execution_count": 80,
     "metadata": {},
     "output_type": "execute_result"
    }
   ],
   "source": [
    "dict03"
   ]
  },
  {
   "cell_type": "code",
   "execution_count": 81,
   "metadata": {
    "collapsed": true
   },
   "outputs": [],
   "source": [
    "#用copy() method來複製 "
   ]
  },
  {
   "cell_type": "code",
   "execution_count": 82,
   "metadata": {
    "collapsed": true
   },
   "outputs": [],
   "source": [
    "pop_language_2=pop_language.copy() #copy() 一份新的dict."
   ]
  },
  {
   "cell_type": "code",
   "execution_count": 83,
   "metadata": {},
   "outputs": [
    {
     "data": {
      "text/plain": [
       "{'C': 'Dennis Ritchie,1972',\n",
       " 'C#': 'microsoft',\n",
       " 'COBOL': '一個古老的語言',\n",
       " 'Java': 'James Gosling,1995',\n",
       " 'Python': 'Guido van Rossum,1991'}"
      ]
     },
     "execution_count": 83,
     "metadata": {},
     "output_type": "execute_result"
    }
   ],
   "source": [
    "pop_language_2"
   ]
  },
  {
   "cell_type": "code",
   "execution_count": 84,
   "metadata": {
    "collapsed": true
   },
   "outputs": [],
   "source": [
    "pop_language_2['Java']='James Gosling,1995, Top 1 in 2016'"
   ]
  },
  {
   "cell_type": "code",
   "execution_count": 85,
   "metadata": {},
   "outputs": [
    {
     "data": {
      "text/plain": [
       "{'C': 'Dennis Ritchie,1972',\n",
       " 'C#': 'microsoft',\n",
       " 'COBOL': '一個古老的語言',\n",
       " 'Java': 'James Gosling,1995, Top 1 in 2016',\n",
       " 'Python': 'Guido van Rossum,1991'}"
      ]
     },
     "execution_count": 85,
     "metadata": {},
     "output_type": "execute_result"
    }
   ],
   "source": [
    "pop_language_2"
   ]
  },
  {
   "cell_type": "code",
   "execution_count": 86,
   "metadata": {},
   "outputs": [
    {
     "data": {
      "text/plain": [
       "{'C': 'Dennis Ritchie,1972',\n",
       " 'C#': 'microsoft',\n",
       " 'COBOL': '一個古老的語言',\n",
       " 'Java': 'James Gosling,1995',\n",
       " 'Python': 'Guido van Rossum,1991'}"
      ]
     },
     "execution_count": 86,
     "metadata": {},
     "output_type": "execute_result"
    }
   ],
   "source": [
    "pop_language"
   ]
  },
  {
   "cell_type": "code",
   "execution_count": 87,
   "metadata": {
    "collapsed": true
   },
   "outputs": [],
   "source": [
    "#練習3: 讀取高雄市政府資料開放平台(http://data.kaohsiung.gov.tw/Opendata/index.aspx)\n",
    "#     捷運動態資料之站代號及站名稱對照表 (kmrt.txt) csv 格式\n",
    "#     將站代號與站名稱製成一個字典如下: \n",
    "#{'O1': '西子灣,Sizihwan',\n",
    "# 'O10': '衛武營,Weiwuying',\n",
    "# 'O11': '鳳山西站,Fongshan West',\n",
    "# 'O12': '鳳山,Fongshan',\n",
    "# ......}"
   ]
  },
  {
   "cell_type": "code",
   "execution_count": null,
   "metadata": {
    "collapsed": true
   },
   "outputs": [],
   "source": [
    "#練習1: 參考解答\n",
    "#mapdic3={i+1:lan for i,lan in enumerate(sorted(language,key=len,reverse=True))}\n",
    "#mapdic3"
   ]
  },
  {
   "cell_type": "code",
   "execution_count": 59,
   "metadata": {},
   "outputs": [
    {
     "data": {
      "text/plain": [
       "{'O1': '西子灣,Sizihwan',\n",
       " 'O10': '衛武營,Weiwuying',\n",
       " 'O11': '鳳山西站,Fongshan West',\n",
       " 'O12': '鳳山,Fongshan',\n",
       " 'O13': '大東,Dadong',\n",
       " 'O14': '鳳山國中,Fongshan Junior High School',\n",
       " 'O2': '鹽埕埔,Yanchengpu',\n",
       " 'O4': '市議會,City Council',\n",
       " 'O5': '美麗島,Formosa Boulevard',\n",
       " 'O5/R10': '美麗島,Formosa Boulevard',\n",
       " 'O6': '信義國小,Sinyi Elementary School',\n",
       " 'O7': '文化中心,Cultural Center',\n",
       " 'O8': '五塊厝,Wukuaicuo',\n",
       " 'O9': '技擊館,Martial Arts Stadium',\n",
       " 'OT1': '大寮,Daliao',\n",
       " 'R10': '美麗島,Formosa Boulevard',\n",
       " 'R11': '高雄車站,Kaohsiung Main Station',\n",
       " 'R12': '後驛,Houyi',\n",
       " 'R13': '凹子底,Aozihdi',\n",
       " 'R14': '巨蛋,Kaohsiung Arena',\n",
       " 'R15': '生態園區,Ecological District',\n",
       " 'R16': '左營,Zuoying',\n",
       " 'R17': '世運,World Games',\n",
       " 'R18': '油廠國小,Oil Refinery Elementary School',\n",
       " 'R19': '楠梓加工區,Nanzih Export Processing Zone',\n",
       " 'R20': '後勁,Houjing',\n",
       " 'R21': '都會公園,Metropolitan Park',\n",
       " 'R22': '青埔,Cingpu',\n",
       " 'R22A': '橋頭糖廠,Ciaotou Sugar Refinery',\n",
       " 'R23': '橋頭火車站,Ciaotou Station',\n",
       " 'R24': '南崗山,Gangshan South',\n",
       " 'R3': '小港,Siaogang',\n",
       " 'R4': '高雄國際機場,Kaohsiung International Airport',\n",
       " 'R4A': '草衙,Caoya',\n",
       " 'R5': '前鎮高中,Cianjhen Senior High School',\n",
       " 'R6': '凱旋,Kaisyuan',\n",
       " 'R7': '獅甲,Shihjia',\n",
       " 'R8': '三多商圈,Sanduo Shopping District',\n",
       " 'R9': '中央公園,Central Park'}"
      ]
     },
     "execution_count": 59,
     "metadata": {},
     "output_type": "execute_result"
    }
   ],
   "source": [
    "#練習3 參考解答:\n",
    "import csv\n",
    "with open('kmrt3.txt','r') as fin:\n",
    "    list_of_kmrt=[x for x in csv.reader(fin)]  #轉成list\n",
    "    list_of_kmrt_2=list_of_kmrt[1:]            #list第一個元素不要\n",
    "    dict_of_kmrt={k[1]:k[3]+','+k[4] for k in list_of_kmrt_2} #字典生成式\n",
    "    \n",
    "dict_of_kmrt  #display   "
   ]
  },
  {
   "cell_type": "code",
   "execution_count": null,
   "metadata": {
    "collapsed": true
   },
   "outputs": [],
   "source": [
    "#python 中 其他類型的字典:\n",
    "# collections.OrderedDict()\n",
    "# collections.defaultdict()"
   ]
  },
  {
   "cell_type": "code",
   "execution_count": null,
   "metadata": {
    "collapsed": true
   },
   "outputs": [],
   "source": []
  }
 ],
 "metadata": {
  "anaconda-cloud": {},
  "kernelspec": {
   "display_name": "Python 3",
   "language": "python",
   "name": "python3"
  },
  "language_info": {
   "codemirror_mode": {
    "name": "ipython",
    "version": 3
   },
   "file_extension": ".py",
   "mimetype": "text/x-python",
   "name": "python",
   "nbconvert_exporter": "python",
   "pygments_lexer": "ipython3",
   "version": "3.7.0"
  }
 },
 "nbformat": 4,
 "nbformat_minor": 1
}
