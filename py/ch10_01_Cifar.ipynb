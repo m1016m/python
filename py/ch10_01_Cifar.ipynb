{
 "cells": [
  {
   "cell_type": "code",
   "execution_count": 1,
   "metadata": {
    "collapsed": true
   },
   "outputs": [],
   "source": [
    "#ch10_01_Cifar.ipynb\n",
    "#以keras建立Convolution Neural Network, CNN model\n",
    "#以訓練資料集 fit model,評估model準確率\n",
    "#以fit完成的model辨識 cifar-10 影像資料集"
   ]
  },
  {
   "cell_type": "code",
   "execution_count": 2,
   "metadata": {
    "collapsed": true
   },
   "outputs": [],
   "source": [
    "#step0. CNN,Convolutional Neural Network 簡介\n",
    "#\n",
    "#step0.1 CNN可分為2大部分: 1.影像特徵提取 2.完全連結神經網路\n",
    "#        1.影像特徵提取:卷積層1,池化層1,卷積層2,池化層2\n",
    "#        2.完全連結神經網路: 平坦層(Flatten),隱藏層,輸出層"
   ]
  },
  {
   "cell_type": "code",
   "execution_count": 3,
   "metadata": {
    "collapsed": true
   },
   "outputs": [],
   "source": [
    "#step1. Data Preprocess\n",
    "#cifar-10 Data Preprocess ==> ch09_01_Cifar_Intro.ipynb"
   ]
  },
  {
   "cell_type": "code",
   "execution_count": 4,
   "metadata": {},
   "outputs": [
    {
     "name": "stderr",
     "output_type": "stream",
     "text": [
      "Using TensorFlow backend.\n"
     ]
    }
   ],
   "source": [
    "#step1.1 import necessary module\n",
    "from keras.datasets import cifar10\n",
    "import numpy as np\n",
    "np.random.seed(10)"
   ]
  },
  {
   "cell_type": "code",
   "execution_count": 5,
   "metadata": {
    "collapsed": true
   },
   "outputs": [],
   "source": [
    "#step1.2 讀取 cifar-10 資料\n",
    "(x_img_train,y_label_train),(x_img_test,y_label_test)=cifar10.load_data()"
   ]
  },
  {
   "cell_type": "code",
   "execution_count": 6,
   "metadata": {},
   "outputs": [
    {
     "name": "stdout",
     "output_type": "stream",
     "text": [
      "train data x_img_train: (50000, 32, 32, 3)  train data y_label_train: (50000, 1)\n",
      "test data x_img_test: (10000, 32, 32, 3)  test data y_label_test: (10000, 1)\n"
     ]
    }
   ],
   "source": [
    "#step1.3 檢視 train/test dataset\n",
    "print(\"train data x_img_train:\",x_img_train.shape,\" train data y_label_train:\",y_label_train.shape)\n",
    "print(\"test data x_img_test:\",x_img_test.shape,\" test data y_label_test:\",y_label_test.shape)"
   ]
  },
  {
   "cell_type": "code",
   "execution_count": 7,
   "metadata": {
    "collapsed": true
   },
   "outputs": [],
   "source": [
    "#step1.4 將features (影像資料) 標準化\n",
    "x_img_train_normalize=x_img_train.astype('float32')/255.0\n",
    "x_img_test_normalize=x_img_test.astype('float32')/255.0"
   ]
  },
  {
   "cell_type": "code",
   "execution_count": 8,
   "metadata": {},
   "outputs": [],
   "source": [
    "#step1.5 將labels (影像值 [0],[1],...,[9]) Onehot encoding 編碼\n",
    "#        以np_utils.to_categorical()\n",
    "from keras.utils import np_utils"
   ]
  },
  {
   "cell_type": "code",
   "execution_count": 9,
   "metadata": {
    "collapsed": true
   },
   "outputs": [],
   "source": [
    "y_label_train_OneHot=np_utils.to_categorical(y_label_train)\n",
    "y_label_test_OneHot=np_utils.to_categorical(y_label_test)"
   ]
  },
  {
   "cell_type": "code",
   "execution_count": 10,
   "metadata": {
    "collapsed": true
   },
   "outputs": [],
   "source": [
    "#==============================================================\n",
    "#step2. 建立模型\n",
    "#"
   ]
  },
  {
   "cell_type": "code",
   "execution_count": 11,
   "metadata": {
    "collapsed": true
   },
   "outputs": [],
   "source": [
    "#step2.1 import necessary module\n",
    "from keras.models import Sequential #keras Sequential module, https://keras.io/getting-started/sequential-model-guide/\n",
    "from keras.layers import Dense, Dropout, Activation, Flatten #keras layers module: Dense,Dropout,Activation,Flatten\n",
    "from keras.layers import Conv2D, MaxPooling2D,ZeroPadding2D"
   ]
  },
  {
   "cell_type": "code",
   "execution_count": 12,
   "metadata": {
    "collapsed": true
   },
   "outputs": [],
   "source": [
    "#step2.2 建立 keras的 Sequential model\n",
    "model=Sequential()"
   ]
  },
  {
   "cell_type": "code",
   "execution_count": 13,
   "metadata": {},
   "outputs": [],
   "source": [
    "#step2.3 建立卷積層1與池化層1, 以model.add()\n",
    "#        a.fiters=32 --> 隨機產生32個濾鏡, b.size=(3,3) --> 每個濾鏡大小是 (3x3)\n",
    "#        c.padding='same' -->設定此卷積運算不改變大小, d.activation='relu' activation function 為'ReLU'\n",
    "#step2.3.1 建立卷積層1, Conv2D()\n",
    "model.add(Conv2D(filters=32,kernel_size=(3,3),\n",
    "                 input_shape=(32,32,3),\n",
    "                 activation='relu',\n",
    "                 padding='same'))"
   ]
  },
  {
   "cell_type": "code",
   "execution_count": 14,
   "metadata": {
    "collapsed": true
   },
   "outputs": [],
   "source": [
    "#step2.3.2 加入Dropoup層,避免 Overfitting, Dropout()\n",
    "model.add(Dropout(rate=0.25))# 脫落率為0.25"
   ]
  },
  {
   "cell_type": "code",
   "execution_count": 15,
   "metadata": {
    "collapsed": true
   },
   "outputs": [],
   "source": [
    "#step2.3.3 建立池化層1, MaxPooling2D, pool_size=(2,2) 縮減取樣,將32x32的影像縮小為16x16,影像數量仍是32個\n",
    "model.add(MaxPooling2D(pool_size=(2,2)))"
   ]
  },
  {
   "cell_type": "code",
   "execution_count": 16,
   "metadata": {
    "collapsed": true
   },
   "outputs": [],
   "source": [
    "#step2.4 建立卷積層2與池化層2\n",
    "#step2.4.1 建立第2次卷積層, Conv2D(), filters=64 (64個濾鏡)\n",
    "model.add(Conv2D(filters=64,kernel_size=(3,3),activation='relu',padding='same'))"
   ]
  },
  {
   "cell_type": "code",
   "execution_count": 17,
   "metadata": {
    "collapsed": true
   },
   "outputs": [],
   "source": [
    "#step2.4.2 再加入 Dropout 避免 overfitting  \n",
    "model.add(Dropout(0.25))"
   ]
  },
  {
   "cell_type": "code",
   "execution_count": 18,
   "metadata": {
    "collapsed": true
   },
   "outputs": [],
   "source": [
    "#step2.4.3 建立池化層2, pool_size=(2,2),執行第二次縮減取樣,將16x16的影像縮小為8x8,影像數量仍為64個\n",
    "model.add(MaxPooling2D(pool_size=(2,2)))"
   ]
  },
  {
   "cell_type": "code",
   "execution_count": 19,
   "metadata": {
    "collapsed": true
   },
   "outputs": [],
   "source": [
    "#============================================================================================\n",
    "#step2.5 建立神經網路(平坦層、隱藏層、輸出層)"
   ]
  },
  {
   "cell_type": "code",
   "execution_count": 20,
   "metadata": {
    "collapsed": true
   },
   "outputs": [],
   "source": [
    "#step2.5.1 建立平坦層, Flatten, 將step2.4.3 池化層2 (64x8x8) 轉化為1維向量 4096 個 float (4096個神經元)\n",
    "#          並加入一個「脫線層」Dorpout, 隨機脫線(放棄) 25% 的神經元(rate=0.25), 用以避免 overfitting\n",
    "model.add(Flatten())\n",
    "model.add(Dropout(rate=0.25))"
   ]
  },
  {
   "cell_type": "code",
   "execution_count": 21,
   "metadata": {
    "collapsed": true
   },
   "outputs": [],
   "source": [
    "#step2.5.2 建立一個1024個神經元的隱藏層,使用 Dense(), activation function為 'ReLU'\n",
    "#          同樣加入一個「脫線層」Dorpout, 隨機脫線(放棄) 25% 的神經元(rate=0.25), 用以避免 overfitting\n",
    "model.add(Dense(1024,activation='relu'))\n",
    "model.add(Dropout(rate=0.25))"
   ]
  },
  {
   "cell_type": "code",
   "execution_count": 22,
   "metadata": {
    "collapsed": true
   },
   "outputs": [],
   "source": [
    "#step2.5.3 建立輸出層,共10個神經元,對應到0~9共10個影像類別\n",
    "#          activateion function 為 softmax()\n",
    "model.add(Dense(10,activation='softmax'))"
   ]
  },
  {
   "cell_type": "code",
   "execution_count": 23,
   "metadata": {},
   "outputs": [
    {
     "name": "stdout",
     "output_type": "stream",
     "text": [
      "_________________________________________________________________\n",
      "Layer (type)                 Output Shape              Param #   \n",
      "=================================================================\n",
      "conv2d_1 (Conv2D)            (None, 32, 32, 32)        896       \n",
      "_________________________________________________________________\n",
      "dropout_1 (Dropout)          (None, 32, 32, 32)        0         \n",
      "_________________________________________________________________\n",
      "max_pooling2d_1 (MaxPooling2 (None, 16, 16, 32)        0         \n",
      "_________________________________________________________________\n",
      "conv2d_2 (Conv2D)            (None, 16, 16, 64)        18496     \n",
      "_________________________________________________________________\n",
      "dropout_2 (Dropout)          (None, 16, 16, 64)        0         \n",
      "_________________________________________________________________\n",
      "max_pooling2d_2 (MaxPooling2 (None, 8, 8, 64)          0         \n",
      "_________________________________________________________________\n",
      "flatten_1 (Flatten)          (None, 4096)              0         \n",
      "_________________________________________________________________\n",
      "dropout_3 (Dropout)          (None, 4096)              0         \n",
      "_________________________________________________________________\n",
      "dense_1 (Dense)              (None, 1024)              4195328   \n",
      "_________________________________________________________________\n",
      "dropout_4 (Dropout)          (None, 1024)              0         \n",
      "_________________________________________________________________\n",
      "dense_2 (Dense)              (None, 10)                10250     \n",
      "=================================================================\n",
      "Total params: 4,224,970\n",
      "Trainable params: 4,224,970\n",
      "Non-trainable params: 0\n",
      "_________________________________________________________________\n",
      "None\n"
     ]
    }
   ],
   "source": [
    "#==================================================================================\n",
    "#step2.6 檢視模型的摘要\n",
    "print(model.summary())"
   ]
  },
  {
   "cell_type": "code",
   "execution_count": 25,
   "metadata": {
    "collapsed": true
   },
   "outputs": [],
   "source": [
    "#===================================================================\n",
    "#step3. 進行訓練\n",
    "#step3.1 定義訓練方式, 使用model.compile() method\n",
    "#        loss function --> 'crossentropy'(交叉墒) | optimizer --> 'adam' | metrics(評估方式) --> accuracy \n",
    "#        訓練方法說明: tf_ch03_01_linearRegression.py\n",
    "model.compile(loss='categorical_crossentropy',optimizer='adam',metrics=['accuracy'])"
   ]
  },
  {
   "cell_type": "code",
   "execution_count": 26,
   "metadata": {},
   "outputs": [
    {
     "name": "stdout",
     "output_type": "stream",
     "text": [
      "Train on 40000 samples, validate on 10000 samples\n",
      "Epoch 1/10\n",
      "40000/40000 [==============================] - 79s 2ms/step - loss: 1.5000 - acc: 0.4607 - val_loss: 1.2861 - val_acc: 0.5767\n",
      "Epoch 2/10\n",
      "40000/40000 [==============================] - 79s 2ms/step - loss: 1.1416 - acc: 0.5951 - val_loss: 1.1031 - val_acc: 0.6372\n",
      "Epoch 3/10\n",
      "40000/40000 [==============================] - 78s 2ms/step - loss: 0.9839 - acc: 0.6546 - val_loss: 1.0086 - val_acc: 0.6670\n",
      "Epoch 4/10\n",
      "40000/40000 [==============================] - 77s 2ms/step - loss: 0.8777 - acc: 0.6914 - val_loss: 0.9407 - val_acc: 0.6943\n",
      "Epoch 5/10\n",
      "40000/40000 [==============================] - 77s 2ms/step - loss: 0.7874 - acc: 0.7234 - val_loss: 0.8898 - val_acc: 0.7071\n",
      "Epoch 6/10\n",
      "40000/40000 [==============================] - 80s 2ms/step - loss: 0.7066 - acc: 0.7501 - val_loss: 0.8389 - val_acc: 0.7202\n",
      "Epoch 7/10\n",
      "40000/40000 [==============================] - 77s 2ms/step - loss: 0.6246 - acc: 0.7825 - val_loss: 0.8066 - val_acc: 0.7301\n",
      "Epoch 8/10\n",
      "40000/40000 [==============================] - 77s 2ms/step - loss: 0.5564 - acc: 0.8053 - val_loss: 0.7842 - val_acc: 0.7396\n",
      "Epoch 9/10\n",
      "40000/40000 [==============================] - 78s 2ms/step - loss: 0.4895 - acc: 0.8272 - val_loss: 0.7508 - val_acc: 0.7425\n",
      "Epoch 10/10\n",
      "40000/40000 [==============================] - 78s 2ms/step - loss: 0.4391 - acc: 0.8459 - val_loss: 0.7648 - val_acc: 0.7361\n"
     ]
    }
   ],
   "source": [
    "#step3.2 開始訓練並記錄,\n",
    "#        關於模型評估與改善-->A_ch05_001_Evalution.ipynb (ML 4.11)\n",
    "train_history=model.fit(x_img_train_normalize,y_label_train_OneHot,  #train dataset\n",
    "                        validation_split=0.2,                        #有20%的 validation data\n",
    "                        epochs=10,                                   #訓練週期=10(次)\n",
    "                        batch_size=128,                              #每周期批次量=128\n",
    "                        verbose=1)                                   #verbose 層級 1 "
   ]
  },
  {
   "cell_type": "code",
   "execution_count": 27,
   "metadata": {
    "collapsed": true
   },
   "outputs": [],
   "source": [
    "#step3.3 顯示(繪圖)訓練過程\n",
    "#        讀取 train_history 中 loss 與 accuracy, 繪圖\n",
    "import matplotlib.pyplot as plt\n",
    "def show_train_history(train_history,train,validation):  #define a function 'show_train_history'\n",
    "    plt.plot(train_history.history[train])              #train_history.history 是一個 dict\n",
    "    plt.plot(train_history.history[validation])\n",
    "    plt.title('Train History')\n",
    "    plt.ylabel(train)\n",
    "    plt.xlabel('Epoch')\n",
    "    plt.legend(['train','validation'],loc='upper left')\n",
    "    plt.show()"
   ]
  },
  {
   "cell_type": "code",
   "execution_count": 28,
   "metadata": {},
   "outputs": [
    {
     "data": {
      "image/png": "[encoded data removed]",
      "text/plain": [
       "<matplotlib.figure.Figure at 0x23681ee8518>"
      ]
     },
     "metadata": {},
     "output_type": "display_data"
    }
   ],
   "source": [
    "#step3.4 畫出 accuracy 執行結果, 使用 show_train_history\n",
    "%matplotlib inline\n",
    "show_train_history(train_history,'acc','val_acc')"
   ]
  },
  {
   "cell_type": "code",
   "execution_count": 29,
   "metadata": {},
   "outputs": [
    {
     "data": {
      "image/png": "[encoded data removed]",
      "text/plain": [
       "<matplotlib.figure.Figure at 0x23680623c50>"
      ]
     },
     "metadata": {},
     "output_type": "display_data"
    }
   ],
   "source": [
    "#step3.5 畫出 loss 誤差值\n",
    "show_train_history(train_history,'loss','val_loss')"
   ]
  },
  {
   "cell_type": "code",
   "execution_count": 41,
   "metadata": {},
   "outputs": [
    {
     "name": "stdout",
     "output_type": "stream",
     "text": [
      "10000/10000 [==============================] - 4s 443us/step\n"
     ]
    }
   ],
   "source": [
    "#step4. 評估模型準確率, 使用獨立的test資料集 (10000筆),model.evaluate()                     \n",
    "score=model.evaluate(x_img_test_normalize,y_label_test_OneHot,verbose=1)"
   ]
  },
  {
   "cell_type": "code",
   "execution_count": 42,
   "metadata": {},
   "outputs": [
    {
     "data": {
      "text/plain": [
       "0.73409999999999997"
      ]
     },
     "execution_count": 42,
     "metadata": {},
     "output_type": "execute_result"
    }
   ],
   "source": [
    "#step4.1 檢視 score\n",
    "score[1]"
   ]
  },
  {
   "cell_type": "code",
   "execution_count": 38,
   "metadata": {
    "collapsed": true
   },
   "outputs": [],
   "source": [
    "model.evaluate?"
   ]
  },
  {
   "cell_type": "code",
   "execution_count": 43,
   "metadata": {
    "collapsed": true
   },
   "outputs": [],
   "source": [
    "#====================================================================\n",
    "#step5. 進行預測, 雖然 model 在 fit 後 準確率僅有 0.73\n",
    "#       我們還是先拿它來預測看看"
   ]
  },
  {
   "cell_type": "code",
   "execution_count": 45,
   "metadata": {},
   "outputs": [],
   "source": [
    "#step5.1 執行預測, 以 x_img_test_normalize (1000筆資料), 將預測結果寫到 prediction\n",
    "#        叫用的是 model.predict_classes() method\n",
    "prediction=model.predict_classes(x_img_test_normalize)"
   ]
  },
  {
   "cell_type": "code",
   "execution_count": 74,
   "metadata": {},
   "outputs": [
    {
     "name": "stdout",
     "output_type": "stream",
     "text": [
      "prediction[10:21]   --> [4 5 6 3 1 1 5 6 8 5 4 0 2 2 9 4 0 4 2 5 8]\n",
      "y_label_test[10:21]--> [[4 5 6 3 1 1 3 6 8 7 4 0 6 2 1 3 0 4 2 7 8]]\n"
     ]
    }
   ],
   "source": [
    "#step5.2 檢視預測結果(20筆 [100:121]),並對照 y_label_test 的值\n",
    "print('prediction[10:21]   -->',prediction[100:121])\n",
    "print('y_label_test[10:21]-->',y_label_test[100:121].reshape(1,-1))"
   ]
  },
  {
   "cell_type": "code",
   "execution_count": 70,
   "metadata": {
    "collapsed": true
   },
   "outputs": [],
   "source": [
    "#step5.3 繪圖顯示預測結果,\n",
    "#step5.3.1 定義label_dict\n",
    "label_dict={0:\"airplane\",1:\"automobile\",2:\"bird\",3:\"cat\",4:\"deer\",\n",
    "           5:\"dog\",6:\"frog\",7:\"horse\",8:\"ship\",9:\"truck\"}\n",
    "#step5.3.2 定義繪圖函數 plot_images_labels_prediction()\n",
    "#          !!!這個函數寫得有點問題，稍後改寫!\n",
    "import matplotlib.pyplot as plt\n",
    "def plot_images_labels_prediction(images,labels,prediction,\n",
    "                                  idx,num=10):\n",
    "    fig = plt.gcf()\n",
    "    fig.set_size_inches(12, 14)\n",
    "    if num>25: num=25 \n",
    "    for i in range(0, num):\n",
    "        ax=plt.subplot(5,5, 1+i)\n",
    "        ax.imshow(images[idx],cmap='binary')\n",
    "                \n",
    "        title=str(i)+','+label_dict[labels[i][0]]\n",
    "        if len(prediction)>0:\n",
    "            title+='=>'+label_dict[prediction[i]]\n",
    "            \n",
    "        ax.set_title(title,fontsize=10) \n",
    "        ax.set_xticks([]);ax.set_yticks([])        \n",
    "        idx+=1 \n",
    "    plt.show()"
   ]
  },
  {
   "cell_type": "code",
   "execution_count": 75,
   "metadata": {},
   "outputs": [
    {
     "data": {
      "image/png": "[encoded data removed]",
      "text/plain": [
       "<matplotlib.figure.Figure at 0x23683484438>"
      ]
     },
     "metadata": {},
     "output_type": "display_data"
    }
   ],
   "source": [
    "#step5.3.3 以 plot_images_labels_prediction() 顯示其中10筆([10:21])預測值及label值\n",
    "plot_images_labels_prediction(x_img_test,y_label_test,prediction,0,10)"
   ]
  },
  {
   "cell_type": "code",
   "execution_count": 76,
   "metadata": {
    "collapsed": true
   },
   "outputs": [],
   "source": [
    "#=========================================================================================\n",
    "#step6. 檢視每種類別的預測機率\n",
    "#step6.1 使用測試資料進行預測, model.predict()\n",
    "Predicted_Probability=model.predict(x_img_test_normalize)"
   ]
  },
  {
   "cell_type": "code",
   "execution_count": 78,
   "metadata": {
    "collapsed": true
   },
   "outputs": [],
   "source": [
    "#step6.2 建立 show_Predicted_Probability() function\n",
    "def show_Predicted_Probability(y,prediction,\n",
    "                               x_img,Predicted_Probability,i):\n",
    "    print('label:',label_dict[y[i][0]],\n",
    "          'predict:',label_dict[prediction[i]])\n",
    "    plt.figure(figsize=(2,2))\n",
    "    plt.imshow(np.reshape(x_img[i],(32, 32,3)))\n",
    "    plt.show()\n",
    "    for j in range(10):\n",
    "        print(label_dict[j]+\n",
    "              ' Probability:%1.9f'%(Predicted_Probability[i][j]))"
   ]
  },
  {
   "cell_type": "code",
   "execution_count": 79,
   "metadata": {},
   "outputs": [
    {
     "data": {
      "text/plain": [
       "array([[  2.95531261e-03,   3.28316097e-03,   1.23255579e-02,\n",
       "          5.19916594e-01,   2.38914369e-03,   3.78448427e-01,\n",
       "          5.72649837e-02,   4.35832329e-03,   1.73014104e-02,\n",
       "          1.75711222e-03],\n",
       "       [  1.84069632e-03,   1.03921771e-01,   1.41929632e-07,\n",
       "          8.32867590e-06,   1.36283504e-07,   8.57735643e-07,\n",
       "          7.60167859e-06,   3.68898312e-09,   8.92089546e-01,\n",
       "          2.13096198e-03],\n",
       "       [  1.98961109e-01,   4.20059152e-02,   5.22107491e-03,\n",
       "          4.04981105e-03,   7.47366482e-03,   1.88362796e-03,\n",
       "          6.82727143e-04,   1.06920116e-03,   7.00236976e-01,\n",
       "          3.84159461e-02],\n",
       "       [  7.80549824e-01,   2.22504605e-03,   2.09023543e-02,\n",
       "          4.88292775e-04,   2.66764895e-03,   7.37314849e-06,\n",
       "          6.42201048e-05,   4.54982228e-06,   1.92937717e-01,\n",
       "          1.52957917e-04],\n",
       "       [  6.14369640e-08,   8.66357914e-06,   2.60276496e-02,\n",
       "          1.69532821e-01,   1.04532978e-02,   1.15462739e-04,\n",
       "          7.93839395e-01,   2.84170891e-08,   2.20577476e-05,\n",
       "          6.03196384e-07],\n",
       "       [  1.14422859e-04,   1.61168227e-05,   2.13284884e-03,\n",
       "          6.75202766e-03,   1.89363584e-03,   1.51557485e-02,\n",
       "          9.73332524e-01,   2.23173993e-04,   2.95744918e-04,\n",
       "          8.38062115e-05],\n",
       "       [  4.11537662e-03,   9.56164598e-01,   1.48834573e-04,\n",
       "          1.01308757e-02,   7.16283030e-05,   2.86374311e-03,\n",
       "          9.28249676e-04,   9.88529413e-04,   4.63849166e-04,\n",
       "          2.41243485e-02],\n",
       "       [  1.58286728e-02,   2.30867838e-04,   9.66105908e-02,\n",
       "          1.47870099e-02,   2.07003094e-02,   8.84658366e-04,\n",
       "          8.49454761e-01,   3.36951547e-04,   6.33754767e-04,\n",
       "          5.32440958e-04],\n",
       "       [  8.72028002e-04,   3.28262977e-05,   2.06857920e-02,\n",
       "          8.44752550e-01,   4.61476818e-02,   3.95737849e-02,\n",
       "          3.98828164e-02,   7.32072489e-03,   5.74450496e-05,\n",
       "          6.74335111e-04],\n",
       "       [  6.55116572e-04,   6.26807272e-01,   1.69160805e-04,\n",
       "          1.84317440e-04,   2.68301155e-05,   3.52810981e-04,\n",
       "          6.13276032e-04,   6.93363518e-06,   1.45491874e-02,\n",
       "          3.56635034e-01]], dtype=float32)"
      ]
     },
     "execution_count": 79,
     "metadata": {},
     "output_type": "execute_result"
    }
   ],
   "source": [
    "Predicted_Probability[:10]"
   ]
  },
  {
   "cell_type": "code",
   "execution_count": 88,
   "metadata": {},
   "outputs": [
    {
     "name": "stdout",
     "output_type": "stream",
     "text": [
      "label: automobile predict: automobile\n"
     ]
    },
    {
     "data": {
      "image/png": "[encoded data removed]",
      "text/plain": [
       "<matplotlib.figure.Figure at 0x236872c1748>"
      ]
     },
     "metadata": {},
     "output_type": "display_data"
    },
    {
     "name": "stdout",
     "output_type": "stream",
     "text": [
      "airplane Probability:0.000655117\n",
      "automobile Probability:0.626807272\n",
      "bird Probability:0.000169161\n",
      "cat Probability:0.000184317\n",
      "deer Probability:0.000026830\n",
      "dog Probability:0.000352811\n",
      "frog Probability:0.000613276\n",
      "horse Probability:0.000006934\n",
      "ship Probability:0.014549187\n",
      "truck Probability:0.356635034\n"
     ]
    }
   ],
   "source": [
    "#step6.3 檢視第9筆資料預測的機率\n",
    "show_Predicted_Probability(y_label_test,prediction,x_img_test,Predicted_Probability,9)"
   ]
  },
  {
   "cell_type": "code",
   "execution_count": 89,
   "metadata": {},
   "outputs": [
    {
     "name": "stdout",
     "output_type": "stream",
     "text": [
      "label: horse predict: dog\n"
     ]
    },
    {
     "data": {
      "image/png": "[encoded data removed]",
      "text/plain": [
       "<matplotlib.figure.Figure at 0x23683c9c1d0>"
      ]
     },
     "metadata": {},
     "output_type": "display_data"
    },
    {
     "name": "stdout",
     "output_type": "stream",
     "text": [
      "airplane Probability:0.000349176\n",
      "automobile Probability:0.001151670\n",
      "bird Probability:0.035414658\n",
      "cat Probability:0.038448818\n",
      "deer Probability:0.064927138\n",
      "dog Probability:0.798778176\n",
      "frog Probability:0.001143488\n",
      "horse Probability:0.059477646\n",
      "ship Probability:0.000083357\n",
      "truck Probability:0.000225883\n"
     ]
    }
   ],
   "source": [
    "#step6.3 檢視第119筆資料預測的機率\n",
    "show_Predicted_Probability(y_label_test,prediction,x_img_test,Predicted_Probability,119)"
   ]
  },
  {
   "cell_type": "code",
   "execution_count": null,
   "metadata": {
    "collapsed": true
   },
   "outputs": [],
   "source": []
  }
 ],
 "metadata": {
  "kernelspec": {
   "display_name": "Python 3",
   "language": "python",
   "name": "python3"
  },
  "language_info": {
   "codemirror_mode": {
    "name": "ipython",
    "version": 3
   },
   "file_extension": ".py",
   "mimetype": "text/x-python",
   "name": "python",
   "nbconvert_exporter": "python",
   "pygments_lexer": "ipython3",
   "version": "3.5.4"
  }
 },
 "nbformat": 4,
 "nbformat_minor": 2
}
