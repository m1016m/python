{
 "cells": [
  {
   "cell_type": "code",
   "execution_count": 1,
   "metadata": {
    "collapsed": true
   },
   "outputs": [],
   "source": [
    "#ch15_01_tensorflow_intro.ipynb"
   ]
  },
  {
   "cell_type": "code",
   "execution_count": 3,
   "metadata": {
    "collapsed": true
   },
   "outputs": [],
   "source": [
    "#step1. 建立計算圖(Computational Graph)\n",
    "#       簡單範例-->一個常數,一個變數, 建立計算圖,執行此計算圖"
   ]
  },
  {
   "cell_type": "code",
   "execution_count": 4,
   "metadata": {
    "collapsed": true
   },
   "outputs": [],
   "source": [
    "#step1.1 匯入 TensorFlow module\n",
    "import tensorflow as tf"
   ]
  },
  {
   "cell_type": "code",
   "execution_count": 6,
   "metadata": {},
   "outputs": [],
   "source": [
    "#step1.2 建立 TensorFlow 常數\n",
    "ts_c=tf.constant(2,name='ts_c') #name='ts_c',此名稱將會顯示在計算圖上"
   ]
  },
  {
   "cell_type": "code",
   "execution_count": 7,
   "metadata": {},
   "outputs": [
    {
     "data": {
      "text/plain": [
       "<tf.Tensor 'ts_c:0' shape=() dtype=int32>"
      ]
     },
     "execution_count": 7,
     "metadata": {},
     "output_type": "execute_result"
    }
   ],
   "source": [
    "#step1.2.a 查看 TensorFlow 常數, tf.Tensor: TensorFlow tensor(張量), shape=():0維的tensor 即數值, int32:此張量的datatype\n",
    "ts_c"
   ]
  },
  {
   "cell_type": "code",
   "execution_count": 8,
   "metadata": {
    "collapsed": true
   },
   "outputs": [],
   "source": [
    "#step1.3 建立 TensorFlow 變數, ts_x, 值為ts_c+5\n",
    "ts_x=tf.Variable(ts_c+5,name='ts_x')"
   ]
  },
  {
   "cell_type": "code",
   "execution_count": 9,
   "metadata": {},
   "outputs": [
    {
     "data": {
      "text/plain": [
       "<tf.Variable 'ts_x:0' shape=() dtype=int32_ref>"
      ]
     },
     "execution_count": 9,
     "metadata": {},
     "output_type": "execute_result"
    }
   ],
   "source": [
    "#step1.3.a 查看 TensorFlow 變數\n",
    "ts_x"
   ]
  },
  {
   "cell_type": "code",
   "execution_count": 10,
   "metadata": {
    "collapsed": true
   },
   "outputs": [],
   "source": [
    "#step1.2.1 / 1.3.a 並無法檢視變數及常數的值, 必須執行此計算圖後才能看到結果"
   ]
  },
  {
   "cell_type": "code",
   "execution_count": 11,
   "metadata": {
    "collapsed": true
   },
   "outputs": [],
   "source": [
    "#step2.執行計算圖(Computational Graph)\n",
    "#      執行計算圖之前必須先建立 'Session', 在 TensorFlow 中 Session 代表用戶端與執行裝置間建立連結"
   ]
  },
  {
   "cell_type": "code",
   "execution_count": 12,
   "metadata": {
    "collapsed": true
   },
   "outputs": [],
   "source": [
    "#step2.1 建立 Session, tf.Session\n",
    "sess=tf.Session()"
   ]
  },
  {
   "cell_type": "code",
   "execution_count": 13,
   "metadata": {
    "collapsed": true
   },
   "outputs": [],
   "source": [
    "#step2.2 執行 TensorFlow 初始化變數, tf.global_variables_initializer()\n",
    "init=tf.global_variables_initializer()\n",
    "sess.run(init)"
   ]
  },
  {
   "cell_type": "code",
   "execution_count": 15,
   "metadata": {},
   "outputs": [
    {
     "name": "stdout",
     "output_type": "stream",
     "text": [
      "ts_c= 2\n"
     ]
    }
   ],
   "source": [
    "#step2.3 顯示 TensorFlow 常數, sess.run()\n",
    "print('ts_c=',sess.run(ts_c))"
   ]
  },
  {
   "cell_type": "code",
   "execution_count": 17,
   "metadata": {},
   "outputs": [
    {
     "name": "stdout",
     "output_type": "stream",
     "text": [
      "ts_x= 7\n"
     ]
    }
   ],
   "source": [
    "#step2.4 顯示 TensorFlow 變數, sess.run()\n",
    "print('ts_x=',sess.run(ts_x))"
   ]
  },
  {
   "cell_type": "code",
   "execution_count": 18,
   "metadata": {},
   "outputs": [
    {
     "name": "stdout",
     "output_type": "stream",
     "text": [
      "ts_c= 2\n"
     ]
    }
   ],
   "source": [
    "#step2.5 顯示 TensorFlow 常數, 常數.eval() method\n",
    "print('ts_c=',ts_c.eval(session=sess))"
   ]
  },
  {
   "cell_type": "code",
   "execution_count": 19,
   "metadata": {},
   "outputs": [
    {
     "name": "stdout",
     "output_type": "stream",
     "text": [
      "ts_x= 7\n"
     ]
    }
   ],
   "source": [
    "#step2.6 顯示 TensorFlow 變數, 變數.eval() method\n",
    "print('ts_x=',ts_x.eval(session=sess))"
   ]
  },
  {
   "cell_type": "code",
   "execution_count": 20,
   "metadata": {
    "collapsed": true
   },
   "outputs": [],
   "source": [
    "#step2.7 關閉 TensorFlow Session, 不再使用時,必須以 Session.close() 關閉 Session\n",
    "sess.close()"
   ]
  },
  {
   "cell_type": "code",
   "execution_count": 22,
   "metadata": {},
   "outputs": [
    {
     "name": "stdout",
     "output_type": "stream",
     "text": [
      "a= 2\n",
      "x= 7\n"
     ]
    }
   ],
   "source": [
    "#step2.8 整合以上所有程式, 並以 With 語法開啟 Session, Session 將在程式結束時自動關閉\n",
    "import tensorflow as tf\n",
    "#建立計算圖\n",
    "a=tf.constant(2,name='a')\n",
    "x=tf.Variable(a+5,name='x')\n",
    "\n",
    "#開啟Session\n",
    "with tf.Session() as sess:\n",
    "    init=tf.global_variables_initializer()\n",
    "    sess.run(init)\n",
    "    print('a=',sess.run(a))\n",
    "    print('x=',sess.run(x))"
   ]
  },
  {
   "cell_type": "code",
   "execution_count": 23,
   "metadata": {
    "collapsed": true
   },
   "outputs": [],
   "source": [
    "#step3. TensorFlow placeholder\n",
    "#前例,我們設定的變數 ts_x,內容為 ts_c+5,這是在建立 計算圖 階段就設定完成。\n",
    "#如果我們希望能在 執行 計算圖時才設定數值,就必須使用 placeholder, tf.placeholder()"
   ]
  },
  {
   "cell_type": "code",
   "execution_count": 24,
   "metadata": {
    "collapsed": true
   },
   "outputs": [],
   "source": [
    "#step3.1 建立 「計算圖」\n",
    "width=tf.placeholder(\"int32\")  #建立 placeholder 'width', datatype為 int32\n",
    "heigh=tf.placeholder(\"int32\")  #建立 placeholder 'heigh',datatype為 int32\n",
    "area=tf.multiply(width,heigh)  #tf.multiply() 相乘"
   ]
  },
  {
   "cell_type": "code",
   "execution_count": 25,
   "metadata": {},
   "outputs": [
    {
     "name": "stdout",
     "output_type": "stream",
     "text": [
      "area= 48\n"
     ]
    }
   ],
   "source": [
    "#step3.2 執行 「計算圖」\n",
    "with tf.Session() as sess02:\n",
    "    init=tf.global_variables_initializer()\n",
    "    sess02.run(init)\n",
    "    print('area=',sess02.run(area,feed_dict={width:6,heigh:8})) #feed_dict"
   ]
  },
  {
   "cell_type": "code",
   "execution_count": null,
   "metadata": {
    "collapsed": true
   },
   "outputs": [],
   "source": [
    "#step4. TensorFlow 數值運算方法\n",
    "#       https://www.tensorflow.org/api_docs/python/math_ops/\n",
    "#       \n",
    "#       tf.add() 加法\n",
    "#       tf.subtract() 減法\n",
    "#       tf.multiply() 乘法\n",
    "#       tf.divide()   除法\n",
    "#       tf.mod()      餘數\n",
    "#       tf.sqrt()     平方\n",
    "#       tf.abs()      絕對值"
   ]
  }
 ],
 "metadata": {
  "kernelspec": {
   "display_name": "Python 3",
   "language": "python",
   "name": "python3"
  },
  "language_info": {
   "codemirror_mode": {
    "name": "ipython",
    "version": 3
   },
   "file_extension": ".py",
   "mimetype": "text/x-python",
   "name": "python",
   "nbconvert_exporter": "python",
   "pygments_lexer": "ipython3",
   "version": "3.5.3"
  }
 },
 "nbformat": 4,
 "nbformat_minor": 2
}
