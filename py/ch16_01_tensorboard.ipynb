{
 "cells": [
  {
   "cell_type": "code",
   "execution_count": null,
   "metadata": {
    "collapsed": true
   },
   "outputs": [],
   "source": [
    "#tensorboard for ch16_01"
   ]
  },
  {
   "cell_type": "code",
   "execution_count": 1,
   "metadata": {
    "collapsed": true
   },
   "outputs": [],
   "source": [
    "import tensorflow as tf\n",
    "import numpy as np"
   ]
  },
  {
   "cell_type": "code",
   "execution_count": 2,
   "metadata": {
    "collapsed": true
   },
   "outputs": [],
   "source": [
    "def layer(output_dim,input_dim,inputs,activation=None):\n",
    "    #產生維度 [input_dim,output_dim] 的常態分佈亂數矩陣,作為Weight的初值\n",
    "    W=tf.Variable(tf.random_normal([input_dim,output_dim])) \n",
    "    #產生維度 [1,output_dim]的常態分佈亂數矩陣,作為bias的初值\n",
    "    b=tf.Variable(tf.random_normal([1,output_dim]))\n",
    "    #矩陣運算式 XWb=(inputs*W)+b\n",
    "    XWb=tf.matmul(inputs,W)+b\n",
    "    #activation function 設定\n",
    "    if activation is None:  #如果未指定 activation function\n",
    "        outputs=XWb         #回傳 XWb\n",
    "    else:                   #如果有指定 activation function\n",
    "        outputs=activation(XWb)\n",
    "    return outputs"
   ]
  },
  {
   "cell_type": "code",
   "execution_count": 3,
   "metadata": {
    "collapsed": true
   },
   "outputs": [],
   "source": [
    "X=tf.placeholder(\"float\",[1,4])  "
   ]
  },
  {
   "cell_type": "code",
   "execution_count": 4,
   "metadata": {
    "collapsed": true
   },
   "outputs": [],
   "source": [
    "h=layer(output_dim=3,input_dim=4,inputs=X,\n",
    "       activation=tf.nn.relu)"
   ]
  },
  {
   "cell_type": "code",
   "execution_count": 5,
   "metadata": {
    "collapsed": true
   },
   "outputs": [],
   "source": [
    "y=layer(output_dim=2,input_dim=3,inputs=h)"
   ]
  },
  {
   "cell_type": "code",
   "execution_count": 6,
   "metadata": {
    "collapsed": true
   },
   "outputs": [],
   "source": [
    "with tf.Session() as sess:\n",
    "    init=tf.global_variables_initializer()\n",
    "    sess.run(init)\n",
    "    #設定X_array 值為 np.array[[4]]\n",
    "    X_array=np.array([[0.4,0.2,0.4,0.5]])\n",
    "    #執行sess.run(), feed_dict參數 {X:X_array}\n",
    "    (layer_X,layer_h,layer_y)=sess.run((X,h,y),feed_dict={X:X_array})"
   ]
  },
  {
   "cell_type": "code",
   "execution_count": 7,
   "metadata": {
    "collapsed": true
   },
   "outputs": [],
   "source": [
    "tf.summary.merge_all() #將所有要顯示在TensorBoard的資料整合\n",
    "train_writer=tf.summary.FileWriter('log/area',sess.graph) "
   ]
  },
  {
   "cell_type": "code",
   "execution_count": 8,
   "metadata": {},
   "outputs": [
    {
     "name": "stdout",
     "output_type": "stream",
     "text": [
      "[[-0.30584958 -0.22676972]]\n"
     ]
    }
   ],
   "source": [
    "print(layer_y)"
   ]
  },
  {
   "cell_type": "code",
   "execution_count": null,
   "metadata": {
    "collapsed": true
   },
   "outputs": [],
   "source": []
  }
 ],
 "metadata": {
  "kernelspec": {
   "display_name": "Python 3",
   "language": "python",
   "name": "python3"
  },
  "language_info": {
   "codemirror_mode": {
    "name": "ipython",
    "version": 3
   },
   "file_extension": ".py",
   "mimetype": "text/x-python",
   "name": "python",
   "nbconvert_exporter": "python",
   "pygments_lexer": "ipython3",
   "version": "3.5.3"
  }
 },
 "nbformat": 4,
 "nbformat_minor": 2
}
