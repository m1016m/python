{
 "cells": [
  {
   "cell_type": "code",
   "execution_count": 1,
   "metadata": {},
   "outputs": [],
   "source": [
    "#ch07_01_MLP_b.ipynb"
   ]
  },
  {
   "cell_type": "code",
   "execution_count": 2,
   "metadata": {},
   "outputs": [],
   "source": [
    "#關於 keras sequential model 中，參數epochs 與 batch_size "
   ]
  },
  {
   "cell_type": "code",
   "execution_count": 3,
   "metadata": {},
   "outputs": [],
   "source": [
    "#step1 讀取並預處理資料"
   ]
  },
  {
   "cell_type": "code",
   "execution_count": 4,
   "metadata": {},
   "outputs": [
    {
     "name": "stderr",
     "output_type": "stream",
     "text": [
      "C:\\ProgramData\\Anaconda3\\envs\\tensorflow\\lib\\site-packages\\h5py\\__init__.py:36: FutureWarning: Conversion of the second argument of issubdtype from `float` to `np.floating` is deprecated. In future, it will be treated as `np.float64 == np.dtype(float).type`.\n",
      "  from ._conv import register_converters as _register_converters\n",
      "Using TensorFlow backend.\n"
     ]
    }
   ],
   "source": [
    "#step1.1 匯入所需模組, keras.utils.np_utils\n",
    "from keras.utils import np_utils\n",
    "import numpy as np"
   ]
  },
  {
   "cell_type": "code",
   "execution_count": 5,
   "metadata": {},
   "outputs": [],
   "source": [
    "#step1.1.a 將亂數種子固定\n",
    "np.random.seed(10)"
   ]
  },
  {
   "cell_type": "code",
   "execution_count": 6,
   "metadata": {},
   "outputs": [],
   "source": [
    "#step1.2 從keras.dataset 讀取 mnist 資料集\n",
    "from keras.datasets import mnist"
   ]
  },
  {
   "cell_type": "code",
   "execution_count": 7,
   "metadata": {},
   "outputs": [],
   "source": [
    "#step1.2.1 以mnist.load_data() method 讀取資料,(train/test)\n",
    "(x_train_image,y_train_label),(x_test_image,y_test_label)=mnist.load_data()"
   ]
  },
  {
   "cell_type": "code",
   "execution_count": 8,
   "metadata": {},
   "outputs": [],
   "source": [
    "#step1.3 將features(28x28 數字影像特徵值) reshape 為 1 dimension array \n",
    "#                                       (28x28=784),並轉換為 float32\n",
    "x_Train=x_train_image.reshape(60000,784).astype('float32')\n",
    "x_Test=x_test_image.reshape(10000,784).astype('float32')"
   ]
  },
  {
   "cell_type": "code",
   "execution_count": 9,
   "metadata": {},
   "outputs": [],
   "source": [
    "#step1.4 將1.3的features標準化 (0.0~255.0)-->(0.0~1.0)\n",
    "x_Train_normalize=x_Train/255\n",
    "x_Test_normalize=x_Test/255"
   ]
  },
  {
   "cell_type": "code",
   "execution_count": 10,
   "metadata": {},
   "outputs": [],
   "source": [
    "#step1.5 將label值(0,1,~9) One-hot encoding 編碼, \n",
    "#        使用 np_utils.to_categorical() method\n",
    "y_Train_OneHot=np_utils.to_categorical(y_train_label)\n",
    "y_Test_OneHot=np_utils.to_categorical(y_test_label)"
   ]
  },
  {
   "cell_type": "code",
   "execution_count": 11,
   "metadata": {},
   "outputs": [],
   "source": [
    "#step2. 建立MLP模型, 輸入層(x),784個神經元;  隱藏層(h),256個神經元; 輸出層(y),10個神經元 "
   ]
  },
  {
   "cell_type": "code",
   "execution_count": 12,
   "metadata": {},
   "outputs": [],
   "source": [
    "#step2.1 或入所需模組 keras.model.Sequentail, keras.layers.Dense\n",
    "from keras.models import Sequential\n",
    "from keras.layers import Dense"
   ]
  },
  {
   "cell_type": "code",
   "execution_count": 13,
   "metadata": {},
   "outputs": [],
   "source": [
    "#step2.2 建立一個 Sequential model 's_model'\n",
    "#        The core data structure of Keras is a model, a way to organize layers.\n",
    "#        The simplest type of model is the Sequential model, a linear stack of layers. \n",
    "s_model=Sequential()  #Linear stack of layers."
   ]
  },
  {
   "cell_type": "code",
   "execution_count": 14,
   "metadata": {},
   "outputs": [],
   "source": [
    "#step2.3 建立輸入層(x)及隱藏層(h), 以Sequential.add() method, 加入 Dense神經網路層\n",
    "#        Dense() 函數 實作 h=relu(x*w1+b1) 隱藏層\n",
    "s_model.add(Dense(units=256,                      #設定隱藏層神經元個數256\n",
    "                 input_dim=784,                   #設定輸入層神經元個數784\n",
    "                 kernel_initializer='normal',     #使用 normal distribution 亂數,初始化 weight及bias\n",
    "                 activation='relu'))              #activation function 'relu'"
   ]
  },
  {
   "cell_type": "code",
   "execution_count": 15,
   "metadata": {},
   "outputs": [],
   "source": [
    "#step2.4 建立「輸出層」,使用Sequential.add() , Dense()\n",
    "#        輸出層 activattion function 使用 softmax\n",
    "#        Dense() 函數 實作 y=softmax(h1*w2+b2) 輸出層 \n",
    "s_model.add(Dense(units=10,                      #設定輸出層神經元個數為10\n",
    "                 kernel_initializer='normal',    #使用 normal distribution 亂數,初始化 weight及bias\n",
    "                 activation='softmax'))          #activation function 'softmax'"
   ]
  },
  {
   "cell_type": "code",
   "execution_count": 16,
   "metadata": {},
   "outputs": [],
   "source": [
    "#====================================================================\n",
    "#建立深度學習模型後，就可以使用反向傳播演算法(Back Propagation)進行訓練\n",
    "#step3. 進行訓練"
   ]
  },
  {
   "cell_type": "code",
   "execution_count": 17,
   "metadata": {},
   "outputs": [],
   "source": [
    "#step3.1 定義訓練方式\n",
    "#        以 Sequential.compile(), 設定模型訓練方式\n",
    "#        Compilation:\n",
    "#        Before training a model, you need to configure the learning process, \n",
    "#        which is done via the compile method. It receives three arguments:\n",
    "#            1.An optimizer.      (設定訓練時的優化方法, 如adam)\n",
    "#            2.A loss function.   (設定損失函數, 如 cross_entropy)\n",
    "#            3.A list of metrics. (設定評估模型的方式, 如 accuracy)\n",
    "s_model.compile(loss='categorical_crossentropy',\n",
    "               optimizer='adam',metrics=['accuracy'])"
   ]
  },
  {
   "cell_type": "code",
   "execution_count": 18,
   "metadata": {},
   "outputs": [
    {
     "name": "stdout",
     "output_type": "stream",
     "text": [
      "Train on 48000 samples, validate on 12000 samples\n",
      "Epoch 1/10\n",
      " - 7s - loss: 0.2691 - acc: 0.9228 - val_loss: 0.1320 - val_acc: 0.9616\n",
      "Epoch 2/10\n",
      " - 6s - loss: 0.1074 - acc: 0.9684 - val_loss: 0.1050 - val_acc: 0.9685\n",
      "Epoch 3/10\n",
      " - 6s - loss: 0.0712 - acc: 0.9785 - val_loss: 0.0919 - val_acc: 0.9726\n",
      "Epoch 4/10\n",
      " - 6s - loss: 0.0512 - acc: 0.9840 - val_loss: 0.0828 - val_acc: 0.9758\n",
      "Epoch 5/10\n",
      " - 6s - loss: 0.0373 - acc: 0.9885 - val_loss: 0.0813 - val_acc: 0.9750\n",
      "Epoch 6/10\n",
      " - 6s - loss: 0.0267 - acc: 0.9919 - val_loss: 0.0757 - val_acc: 0.9782\n",
      "Epoch 7/10\n",
      " - 6s - loss: 0.0206 - acc: 0.9934 - val_loss: 0.0884 - val_acc: 0.9768\n",
      "Epoch 8/10\n",
      " - 6s - loss: 0.0171 - acc: 0.9946 - val_loss: 0.0853 - val_acc: 0.9783\n",
      "Epoch 9/10\n",
      " - 5s - loss: 0.0126 - acc: 0.9959 - val_loss: 0.1012 - val_acc: 0.9748\n",
      "Epoch 10/10\n",
      " - 6s - loss: 0.0107 - acc: 0.9967 - val_loss: 0.0965 - val_acc: 0.9778\n"
     ]
    }
   ],
   "source": [
    "#step3.2 開始訓練, 以Sequential.fit(),batch_size 設定為預設值 32, epochs 不變，仍為10 \n",
    "train_history=s_model.fit(x=x_Train_normalize,                 #feature 數字影像標準化值\n",
    "                         y=y_Train_OneHot,validation_split=0.2, #lebel One-Hot encoding 值\n",
    "                         epochs=10,batch_size=32,verbose=2)    #epochs, 訓練週期為 10"
   ]
  },
  {
   "cell_type": "code",
   "execution_count": 21,
   "metadata": {},
   "outputs": [
    {
     "data": {
      "image/png": "[encoded data removed]",
      "text/plain": [
       "<Figure size 432x288 with 1 Axes>"
      ]
     },
     "metadata": {},
     "output_type": "display_data"
    }
   ],
   "source": [
    "#step3.3 顯示(繪圖)訓練過程\n",
    "#        讀取 train_history 中 loss 與 accuracy, 繪圖\n",
    "import toolFunction \n",
    "#step3.5 畫出 loss 誤差值\n",
    "%matplotlib inline\n",
    "toolFunction.show_train_history(train_history,'loss','val_loss')"
   ]
  },
  {
   "cell_type": "code",
   "execution_count": 22,
   "metadata": {},
   "outputs": [
    {
     "data": {
      "image/png": "[encoded data removed]",
      "text/plain": [
       "<Figure size 432x288 with 1 Axes>"
      ]
     },
     "metadata": {},
     "output_type": "display_data"
    }
   ],
   "source": [
    "#step3.4 畫出 accuracy 執行結果, 使用 show_train_history\n",
    "toolFunction.show_train_history(train_history,'acc','val_acc')"
   ]
  },
  {
   "cell_type": "code",
   "execution_count": 23,
   "metadata": {},
   "outputs": [
    {
     "name": "stdout",
     "output_type": "stream",
     "text": [
      "10000/10000 [==============================] - 0s 28us/step\n",
      "\n",
      "accuracy= 0.9778\n"
     ]
    }
   ],
   "source": [
    "#step4. 以獨立的 10000 筆測試資料 (x_test_image,y_test_label) 評估模型準確率\n",
    "#       使用 Sequential.evaluate() method\n",
    "score=s_model.evaluate(x_Test_normalize,y_Test_OneHot)\n",
    "print()\n",
    "print('accuracy=',score[1])"
   ]
  },
  {
   "cell_type": "code",
   "execution_count": 25,
   "metadata": {},
   "outputs": [],
   "source": [
    "#step2.2 建立一個 Sequential model 's_model_2000'\n",
    "s_model_2000=Sequential()  #Linear stack of layers.\n",
    "\n",
    "s_model_2000.add(Dense(units=256,                      #設定隱藏層神經元個數256\n",
    "                 input_dim=784,                   #設定輸入層神經元個數784\n",
    "                 kernel_initializer='normal',     #使用 normal distribution 亂數,初始化 weight及bias\n",
    "                 activation='relu'))              #activation function 'relu'\n",
    "\n",
    "s_model_2000.add(Dense(units=10,                      #設定輸出層神經元個數為10\n",
    "                 kernel_initializer='normal',    #使用 normal distribution 亂數,初始化 weight及bias\n",
    "                 activation='softmax'))          #activation function 'softmax'\n",
    "\n",
    "s_model_2000.compile(loss='categorical_crossentropy',\n",
    "               optimizer='adam',metrics=['accuracy'])"
   ]
  },
  {
   "cell_type": "code",
   "execution_count": 26,
   "metadata": {},
   "outputs": [
    {
     "name": "stdout",
     "output_type": "stream",
     "text": [
      "Train on 48000 samples, validate on 12000 samples\n",
      "Epoch 1/10\n",
      " - 2s - loss: 1.2610 - acc: 0.7109 - val_loss: 0.5303 - val_acc: 0.8703\n",
      "Epoch 2/10\n",
      " - 1s - loss: 0.4418 - acc: 0.8826 - val_loss: 0.3368 - val_acc: 0.9077\n",
      "Epoch 3/10\n",
      " - 1s - loss: 0.3304 - acc: 0.9072 - val_loss: 0.2851 - val_acc: 0.9208\n",
      "Epoch 4/10\n",
      " - 1s - loss: 0.2854 - acc: 0.9198 - val_loss: 0.2551 - val_acc: 0.9291\n",
      "Epoch 5/10\n",
      " - 1s - loss: 0.2542 - acc: 0.9291 - val_loss: 0.2330 - val_acc: 0.9365\n",
      "Epoch 6/10\n",
      " - 1s - loss: 0.2296 - acc: 0.9362 - val_loss: 0.2145 - val_acc: 0.9406\n",
      "Epoch 7/10\n",
      " - 1s - loss: 0.2080 - acc: 0.9423 - val_loss: 0.1982 - val_acc: 0.9455\n",
      "Epoch 8/10\n",
      " - 1s - loss: 0.1908 - acc: 0.9466 - val_loss: 0.1849 - val_acc: 0.9491\n",
      "Epoch 9/10\n",
      " - 1s - loss: 0.1759 - acc: 0.9503 - val_loss: 0.1744 - val_acc: 0.9526\n",
      "Epoch 10/10\n",
      " - 1s - loss: 0.1618 - acc: 0.9540 - val_loss: 0.1644 - val_acc: 0.9551\n"
     ]
    }
   ],
   "source": [
    "#一個較極端的 batch_size 設定為 2000, epochs 不變，仍為10 \n",
    "train_history=s_model_2000.fit(x=x_Train_normalize,                 #feature 數字影像標準化值\n",
    "                         y=y_Train_OneHot,validation_split=0.2, #lebel One-Hot encoding 值\n",
    "                         epochs=10,batch_size=2000,verbose=2)    #epochs, 訓練週期為 10"
   ]
  },
  {
   "cell_type": "code",
   "execution_count": 27,
   "metadata": {},
   "outputs": [
    {
     "data": {
      "image/png": "[encoded data removed]",
      "text/plain": [
       "<Figure size 432x288 with 1 Axes>"
      ]
     },
     "metadata": {},
     "output_type": "display_data"
    }
   ],
   "source": [
    "toolFunction.show_train_history(train_history,'loss','val_loss')"
   ]
  },
  {
   "cell_type": "code",
   "execution_count": 29,
   "metadata": {},
   "outputs": [
    {
     "name": "stdout",
     "output_type": "stream",
     "text": [
      "10000/10000 [==============================] - 0s 29us/step\n",
      "\n",
      "accuracy= 0.953\n"
     ]
    }
   ],
   "source": [
    "score=s_model_2000.evaluate(x_Test_normalize,y_Test_OneHot)\n",
    "print()\n",
    "print('accuracy=',score[1])"
   ]
  },
  {
   "cell_type": "code",
   "execution_count": null,
   "metadata": {},
   "outputs": [],
   "source": []
  }
 ],
 "metadata": {
  "kernelspec": {
   "display_name": "Python 3",
   "language": "python",
   "name": "python3"
  },
  "language_info": {
   "codemirror_mode": {
    "name": "ipython",
    "version": 3
   },
   "file_extension": ".py",
   "mimetype": "text/x-python",
   "name": "python",
   "nbconvert_exporter": "python",
   "pygments_lexer": "ipython3",
   "version": "3.5.5"
  }
 },
 "nbformat": 4,
 "nbformat_minor": 2
}
