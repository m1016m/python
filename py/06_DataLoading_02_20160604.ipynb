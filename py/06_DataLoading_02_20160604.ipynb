{
 "cells": [
  {
   "cell_type": "code",
   "execution_count": 1,
   "metadata": {
    "collapsed": true
   },
   "outputs": [],
   "source": [
    "#06_DataLoading_02_20160604"
   ]
  },
  {
   "cell_type": "code",
   "execution_count": 2,
   "metadata": {
    "collapsed": true
   },
   "outputs": [],
   "source": [
    "import pandas as pd #import pandas as pd"
   ]
  },
  {
   "cell_type": "code",
   "execution_count": 3,
   "metadata": {
    "collapsed": true
   },
   "outputs": [],
   "source": [
    "from pandas import Series,DataFrame "
   ]
  },
  {
   "cell_type": "code",
   "execution_count": 4,
   "metadata": {
    "collapsed": true
   },
   "outputs": [],
   "source": [
    "import json #import json module"
   ]
  },
  {
   "cell_type": "code",
   "execution_count": 5,
   "metadata": {
    "collapsed": true
   },
   "outputs": [],
   "source": [
    "#a json example:"
   ]
  },
  {
   "cell_type": "code",
   "execution_count": 6,
   "metadata": {
    "collapsed": true
   },
   "outputs": [],
   "source": [
    "json_obj=\"\"\"\n",
    "{\"name\": \"Wes\",\n",
    "\"places_lived\": [\"United States\", \"Spain\", \"Germany\"],\n",
    "\"pet\": null,\n",
    "\"siblings\": [{\"name\": \"Scott\", \"age\": 25, \"pet\": \"Zuko\"},\n",
    "{\"name\": \"Katie\", \"age\": 33, \"pet\": \"Cisco\"}]\n",
    "}\n",
    "\"\"\""
   ]
  },
  {
   "cell_type": "code",
   "execution_count": 7,
   "metadata": {
    "collapsed": false
   },
   "outputs": [
    {
     "data": {
      "text/plain": [
       "str"
      ]
     },
     "execution_count": 7,
     "metadata": {},
     "output_type": "execute_result"
    }
   ],
   "source": [
    "type(json_obj)"
   ]
  },
  {
   "cell_type": "code",
   "execution_count": 8,
   "metadata": {
    "collapsed": true
   },
   "outputs": [],
   "source": [
    "j_obj=json.loads(json_obj) #json.loads() function"
   ]
  },
  {
   "cell_type": "code",
   "execution_count": 9,
   "metadata": {
    "collapsed": false
   },
   "outputs": [
    {
     "data": {
      "text/plain": [
       "dict"
      ]
     },
     "execution_count": 9,
     "metadata": {},
     "output_type": "execute_result"
    }
   ],
   "source": [
    "type(j_obj)"
   ]
  },
  {
   "cell_type": "code",
   "execution_count": 10,
   "metadata": {
    "collapsed": false
   },
   "outputs": [
    {
     "data": {
      "text/plain": [
       "{'name': 'Wes',\n",
       " 'pet': None,\n",
       " 'places_lived': ['United States', 'Spain', 'Germany'],\n",
       " 'siblings': [{'age': 25, 'name': 'Scott', 'pet': 'Zuko'},\n",
       "  {'age': 33, 'name': 'Katie', 'pet': 'Cisco'}]}"
      ]
     },
     "execution_count": 10,
     "metadata": {},
     "output_type": "execute_result"
    }
   ],
   "source": [
    "j_obj #is a dict"
   ]
  },
  {
   "cell_type": "code",
   "execution_count": 11,
   "metadata": {
    "collapsed": false
   },
   "outputs": [
    {
     "data": {
      "text/plain": [
       "[{'age': 25, 'name': 'Scott', 'pet': 'Zuko'},\n",
       " {'age': 33, 'name': 'Katie', 'pet': 'Cisco'}]"
      ]
     },
     "execution_count": 11,
     "metadata": {},
     "output_type": "execute_result"
    }
   ],
   "source": [
    "j_obj['siblings']"
   ]
  },
  {
   "cell_type": "code",
   "execution_count": 12,
   "metadata": {
    "collapsed": true
   },
   "outputs": [],
   "source": [
    "#使用json.loads(), 讀json file "
   ]
  },
  {
   "cell_type": "code",
   "execution_count": 19,
   "metadata": {
    "collapsed": false
   },
   "outputs": [
    {
     "data": {
      "text/plain": [
       "'{\"_id\":{\"$oid\":\"56e7a3607c2cd237d266a292\"},\"category\":\"clothing\",\"details\":{\"manufacturer\":\"XYZ Company\",\"model\":\"14Q3\"},\"item\":\"ABC1\",\"stock\":[{\"qty\":25.0,\"size\":\"S\"},{\"qty\":50.0,\"size\":\"M\"}]}\\n{\"_id\":{\"$oid\":\"56e7a5737c2cd237d266a293\"},\"category\":\"clothing\",\"details\":{\"manufacturer\":\"M1 Corporation\",\"model\":\"14Q3\"},\"item\":\"ABC2\",\"stock\":[{\"qty\":50.0,\"size\":\"M\"}]}\\n{\"_id\":{\"$oid\":\"56e7a5737c2cd237d266a294\"},\"category\":\"clothing\",\"details\":{\"manufacturer\":\"ABC Company\",\"model\":\"14Q3\"},\"item\":\"MNO2\",\"stock\":[{\"qty\":5.0,\"size\":\"S\"},{\"qty\":5.0,\"size\":\"M\"},{\"qty\":1.0,\"size\":\"L\"}]}\\n{\"_id\":{\"$oid\":\"56e7a5737c2cd237d266a295\"},\"category\":\"houseware\",\"details\":{\"manufacturer\":\"M5 Corporation\",\"model\":\"14Q2\"},\"item\":\"IJK2\",\"stock\":[{\"qty\":5.0,\"size\":\"S\"},{\"qty\":1.0,\"size\":\"L\"}]}\\n{\"_id\":{\"$oid\":\"56e8b831716536561adc2498\"},\"category\":\"clothing\",\"details\":{\"manufacturer\":\"XYZ Company\",\"model\":\"14Q2\"},\"item\":\"BE10\",\"stock\":[{\"qty\":5.0,\"size\":\"L\"}]}\\n{\"_id\":{\"$oid\":\"56e8b831716536561adc2499\"},\"category\":\"houseware\",\"details\":{\"manufacturer\":\"ABC Company\",\"model\":\"14Q1\"},\"item\":\"ZYT1\",\"stock\":[{\"qty\":5.0,\"size\":\"S\"},{\"qty\":5.0,\"size\":\"M\"}]}\\n'"
      ]
     },
     "execution_count": 19,
     "metadata": {},
     "output_type": "execute_result"
    }
   ],
   "source": [
    "open('inventory.json').read()"
   ]
  },
  {
   "cell_type": "code",
   "execution_count": null,
   "metadata": {
    "collapsed": true
   },
   "outputs": [],
   "source": []
  }
 ],
 "metadata": {
  "kernelspec": {
   "display_name": "Python 3",
   "language": "python",
   "name": "python3"
  },
  "language_info": {
   "codemirror_mode": {
    "name": "ipython",
    "version": 3
   },
   "file_extension": ".py",
   "mimetype": "text/x-python",
   "name": "python",
   "nbconvert_exporter": "python",
   "pygments_lexer": "ipython3",
   "version": "3.5.1"
  }
 },
 "nbformat": 4,
 "nbformat_minor": 0
}
