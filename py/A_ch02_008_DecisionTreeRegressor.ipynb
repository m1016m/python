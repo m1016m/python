{
 "cells": [
  {
   "cell_type": "code",
   "execution_count": 1,
   "metadata": {},
   "outputs": [],
   "source": [
    "#A_ch02_008_DecisionTreeRegressor.ipynb\n",
    "#以decision tree 做迴歸--DecisionTreeRegressor\n",
    "#以記憶體價格資料 ram_prices.csv 為例"
   ]
  },
  {
   "cell_type": "code",
   "execution_count": 2,
   "metadata": {},
   "outputs": [],
   "source": [
    "import pandas as pd\n",
    "import numpy as np\n",
    "import matplotlib.pyplot as plt"
   ]
  },
  {
   "cell_type": "code",
   "execution_count": 3,
   "metadata": {},
   "outputs": [],
   "source": [
    "#step 0. 讀取資料\n",
    "ram_prices=pd.read_csv(\"ram_price.csv\")"
   ]
  },
  {
   "cell_type": "code",
   "execution_count": 4,
   "metadata": {},
   "outputs": [
    {
     "data": {
      "text/html": [
       "<div>\n",
       "<style scoped>\n",
       "    .dataframe tbody tr th:only-of-type {\n",
       "        vertical-align: middle;\n",
       "    }\n",
       "\n",
       "    .dataframe tbody tr th {\n",
       "        vertical-align: top;\n",
       "    }\n",
       "\n",
       "    .dataframe thead th {\n",
       "        text-align: right;\n",
       "    }\n",
       "</style>\n",
       "<table border=\"1\" class=\"dataframe\">\n",
       "  <thead>\n",
       "    <tr style=\"text-align: right;\">\n",
       "      <th></th>\n",
       "      <th>Unnamed: 0</th>\n",
       "      <th>date</th>\n",
       "      <th>price</th>\n",
       "    </tr>\n",
       "  </thead>\n",
       "  <tbody>\n",
       "    <tr>\n",
       "      <th>0</th>\n",
       "      <td>0</td>\n",
       "      <td>1957.00</td>\n",
       "      <td>4.110418e+08</td>\n",
       "    </tr>\n",
       "    <tr>\n",
       "      <th>1</th>\n",
       "      <td>1</td>\n",
       "      <td>1959.00</td>\n",
       "      <td>6.794772e+07</td>\n",
       "    </tr>\n",
       "    <tr>\n",
       "      <th>2</th>\n",
       "      <td>2</td>\n",
       "      <td>1960.00</td>\n",
       "      <td>5.242880e+06</td>\n",
       "    </tr>\n",
       "    <tr>\n",
       "      <th>3</th>\n",
       "      <td>3</td>\n",
       "      <td>1965.00</td>\n",
       "      <td>2.642412e+06</td>\n",
       "    </tr>\n",
       "    <tr>\n",
       "      <th>4</th>\n",
       "      <td>4</td>\n",
       "      <td>1970.00</td>\n",
       "      <td>7.340030e+05</td>\n",
       "    </tr>\n",
       "    <tr>\n",
       "      <th>5</th>\n",
       "      <td>5</td>\n",
       "      <td>1973.00</td>\n",
       "      <td>3.993600e+05</td>\n",
       "    </tr>\n",
       "    <tr>\n",
       "      <th>6</th>\n",
       "      <td>6</td>\n",
       "      <td>1974.00</td>\n",
       "      <td>3.145730e+05</td>\n",
       "    </tr>\n",
       "    <tr>\n",
       "      <th>7</th>\n",
       "      <td>7</td>\n",
       "      <td>1975.00</td>\n",
       "      <td>4.218880e+05</td>\n",
       "    </tr>\n",
       "    <tr>\n",
       "      <th>8</th>\n",
       "      <td>8</td>\n",
       "      <td>1975.08</td>\n",
       "      <td>1.802240e+05</td>\n",
       "    </tr>\n",
       "    <tr>\n",
       "      <th>9</th>\n",
       "      <td>9</td>\n",
       "      <td>1975.25</td>\n",
       "      <td>6.758400e+04</td>\n",
       "    </tr>\n",
       "    <tr>\n",
       "      <th>10</th>\n",
       "      <td>10</td>\n",
       "      <td>1975.75</td>\n",
       "      <td>4.992000e+04</td>\n",
       "    </tr>\n",
       "    <tr>\n",
       "      <th>11</th>\n",
       "      <td>11</td>\n",
       "      <td>1976.00</td>\n",
       "      <td>4.070400e+04</td>\n",
       "    </tr>\n",
       "    <tr>\n",
       "      <th>12</th>\n",
       "      <td>12</td>\n",
       "      <td>1976.17</td>\n",
       "      <td>4.896000e+04</td>\n",
       "    </tr>\n",
       "    <tr>\n",
       "      <th>13</th>\n",
       "      <td>13</td>\n",
       "      <td>1976.42</td>\n",
       "      <td>2.304000e+04</td>\n",
       "    </tr>\n",
       "    <tr>\n",
       "      <th>14</th>\n",
       "      <td>14</td>\n",
       "      <td>1976.58</td>\n",
       "      <td>3.200000e+04</td>\n",
       "    </tr>\n",
       "    <tr>\n",
       "      <th>15</th>\n",
       "      <td>15</td>\n",
       "      <td>1977.08</td>\n",
       "      <td>3.680000e+04</td>\n",
       "    </tr>\n",
       "    <tr>\n",
       "      <th>16</th>\n",
       "      <td>16</td>\n",
       "      <td>1978.17</td>\n",
       "      <td>2.800000e+04</td>\n",
       "    </tr>\n",
       "    <tr>\n",
       "      <th>17</th>\n",
       "      <td>17</td>\n",
       "      <td>1978.25</td>\n",
       "      <td>2.944000e+04</td>\n",
       "    </tr>\n",
       "    <tr>\n",
       "      <th>18</th>\n",
       "      <td>18</td>\n",
       "      <td>1978.33</td>\n",
       "      <td>1.920000e+04</td>\n",
       "    </tr>\n",
       "    <tr>\n",
       "      <th>19</th>\n",
       "      <td>19</td>\n",
       "      <td>1978.50</td>\n",
       "      <td>2.400000e+04</td>\n",
       "    </tr>\n",
       "    <tr>\n",
       "      <th>20</th>\n",
       "      <td>20</td>\n",
       "      <td>1978.58</td>\n",
       "      <td>1.600000e+04</td>\n",
       "    </tr>\n",
       "    <tr>\n",
       "      <th>21</th>\n",
       "      <td>21</td>\n",
       "      <td>1978.75</td>\n",
       "      <td>1.520000e+04</td>\n",
       "    </tr>\n",
       "    <tr>\n",
       "      <th>22</th>\n",
       "      <td>22</td>\n",
       "      <td>1979.00</td>\n",
       "      <td>1.052800e+04</td>\n",
       "    </tr>\n",
       "    <tr>\n",
       "      <th>23</th>\n",
       "      <td>23</td>\n",
       "      <td>1979.75</td>\n",
       "      <td>6.704000e+03</td>\n",
       "    </tr>\n",
       "    <tr>\n",
       "      <th>24</th>\n",
       "      <td>24</td>\n",
       "      <td>1980.00</td>\n",
       "      <td>6.480000e+03</td>\n",
       "    </tr>\n",
       "    <tr>\n",
       "      <th>25</th>\n",
       "      <td>25</td>\n",
       "      <td>1981.00</td>\n",
       "      <td>8.800000e+03</td>\n",
       "    </tr>\n",
       "    <tr>\n",
       "      <th>26</th>\n",
       "      <td>26</td>\n",
       "      <td>1981.58</td>\n",
       "      <td>4.479000e+03</td>\n",
       "    </tr>\n",
       "    <tr>\n",
       "      <th>27</th>\n",
       "      <td>27</td>\n",
       "      <td>1982.00</td>\n",
       "      <td>3.520000e+03</td>\n",
       "    </tr>\n",
       "    <tr>\n",
       "      <th>28</th>\n",
       "      <td>28</td>\n",
       "      <td>1982.17</td>\n",
       "      <td>4.464000e+03</td>\n",
       "    </tr>\n",
       "    <tr>\n",
       "      <th>29</th>\n",
       "      <td>29</td>\n",
       "      <td>1982.67</td>\n",
       "      <td>1.980000e+03</td>\n",
       "    </tr>\n",
       "    <tr>\n",
       "      <th>...</th>\n",
       "      <td>...</td>\n",
       "      <td>...</td>\n",
       "      <td>...</td>\n",
       "    </tr>\n",
       "    <tr>\n",
       "      <th>303</th>\n",
       "      <td>303</td>\n",
       "      <td>2012.33</td>\n",
       "      <td>4.900000e-03</td>\n",
       "    </tr>\n",
       "    <tr>\n",
       "      <th>304</th>\n",
       "      <td>304</td>\n",
       "      <td>2012.58</td>\n",
       "      <td>4.800000e-03</td>\n",
       "    </tr>\n",
       "    <tr>\n",
       "      <th>305</th>\n",
       "      <td>305</td>\n",
       "      <td>2012.67</td>\n",
       "      <td>4.000000e-03</td>\n",
       "    </tr>\n",
       "    <tr>\n",
       "      <th>306</th>\n",
       "      <td>306</td>\n",
       "      <td>2012.83</td>\n",
       "      <td>3.700000e-03</td>\n",
       "    </tr>\n",
       "    <tr>\n",
       "      <th>307</th>\n",
       "      <td>307</td>\n",
       "      <td>2013.00</td>\n",
       "      <td>4.300000e-03</td>\n",
       "    </tr>\n",
       "    <tr>\n",
       "      <th>308</th>\n",
       "      <td>308</td>\n",
       "      <td>2013.08</td>\n",
       "      <td>5.400000e-03</td>\n",
       "    </tr>\n",
       "    <tr>\n",
       "      <th>309</th>\n",
       "      <td>309</td>\n",
       "      <td>2013.33</td>\n",
       "      <td>6.700000e-03</td>\n",
       "    </tr>\n",
       "    <tr>\n",
       "      <th>310</th>\n",
       "      <td>310</td>\n",
       "      <td>2013.42</td>\n",
       "      <td>6.100000e-03</td>\n",
       "    </tr>\n",
       "    <tr>\n",
       "      <th>311</th>\n",
       "      <td>311</td>\n",
       "      <td>2013.58</td>\n",
       "      <td>7.300000e-03</td>\n",
       "    </tr>\n",
       "    <tr>\n",
       "      <th>312</th>\n",
       "      <td>312</td>\n",
       "      <td>2013.67</td>\n",
       "      <td>6.500000e-03</td>\n",
       "    </tr>\n",
       "    <tr>\n",
       "      <th>313</th>\n",
       "      <td>313</td>\n",
       "      <td>2013.75</td>\n",
       "      <td>8.200000e-03</td>\n",
       "    </tr>\n",
       "    <tr>\n",
       "      <th>314</th>\n",
       "      <td>314</td>\n",
       "      <td>2013.83</td>\n",
       "      <td>8.500000e-03</td>\n",
       "    </tr>\n",
       "    <tr>\n",
       "      <th>315</th>\n",
       "      <td>315</td>\n",
       "      <td>2013.92</td>\n",
       "      <td>7.900000e-03</td>\n",
       "    </tr>\n",
       "    <tr>\n",
       "      <th>316</th>\n",
       "      <td>316</td>\n",
       "      <td>2014.08</td>\n",
       "      <td>9.500000e-03</td>\n",
       "    </tr>\n",
       "    <tr>\n",
       "      <th>317</th>\n",
       "      <td>317</td>\n",
       "      <td>2014.17</td>\n",
       "      <td>7.900000e-03</td>\n",
       "    </tr>\n",
       "    <tr>\n",
       "      <th>318</th>\n",
       "      <td>318</td>\n",
       "      <td>2014.25</td>\n",
       "      <td>7.300000e-03</td>\n",
       "    </tr>\n",
       "    <tr>\n",
       "      <th>319</th>\n",
       "      <td>319</td>\n",
       "      <td>2014.42</td>\n",
       "      <td>7.900000e-03</td>\n",
       "    </tr>\n",
       "    <tr>\n",
       "      <th>320</th>\n",
       "      <td>320</td>\n",
       "      <td>2014.58</td>\n",
       "      <td>8.500000e-03</td>\n",
       "    </tr>\n",
       "    <tr>\n",
       "      <th>321</th>\n",
       "      <td>321</td>\n",
       "      <td>2014.67</td>\n",
       "      <td>8.500000e-03</td>\n",
       "    </tr>\n",
       "    <tr>\n",
       "      <th>322</th>\n",
       "      <td>322</td>\n",
       "      <td>2014.83</td>\n",
       "      <td>8.500000e-03</td>\n",
       "    </tr>\n",
       "    <tr>\n",
       "      <th>323</th>\n",
       "      <td>323</td>\n",
       "      <td>2015.00</td>\n",
       "      <td>7.800000e-03</td>\n",
       "    </tr>\n",
       "    <tr>\n",
       "      <th>324</th>\n",
       "      <td>324</td>\n",
       "      <td>2015.08</td>\n",
       "      <td>7.300000e-03</td>\n",
       "    </tr>\n",
       "    <tr>\n",
       "      <th>325</th>\n",
       "      <td>325</td>\n",
       "      <td>2015.25</td>\n",
       "      <td>6.100000e-03</td>\n",
       "    </tr>\n",
       "    <tr>\n",
       "      <th>326</th>\n",
       "      <td>326</td>\n",
       "      <td>2015.33</td>\n",
       "      <td>5.600000e-03</td>\n",
       "    </tr>\n",
       "    <tr>\n",
       "      <th>327</th>\n",
       "      <td>327</td>\n",
       "      <td>2015.50</td>\n",
       "      <td>4.900000e-03</td>\n",
       "    </tr>\n",
       "    <tr>\n",
       "      <th>328</th>\n",
       "      <td>328</td>\n",
       "      <td>2015.58</td>\n",
       "      <td>4.500000e-03</td>\n",
       "    </tr>\n",
       "    <tr>\n",
       "      <th>329</th>\n",
       "      <td>329</td>\n",
       "      <td>2015.67</td>\n",
       "      <td>4.300000e-03</td>\n",
       "    </tr>\n",
       "    <tr>\n",
       "      <th>330</th>\n",
       "      <td>330</td>\n",
       "      <td>2015.75</td>\n",
       "      <td>4.200000e-03</td>\n",
       "    </tr>\n",
       "    <tr>\n",
       "      <th>331</th>\n",
       "      <td>331</td>\n",
       "      <td>2015.83</td>\n",
       "      <td>3.800000e-03</td>\n",
       "    </tr>\n",
       "    <tr>\n",
       "      <th>332</th>\n",
       "      <td>332</td>\n",
       "      <td>2015.92</td>\n",
       "      <td>3.700000e-03</td>\n",
       "    </tr>\n",
       "  </tbody>\n",
       "</table>\n",
       "<p>333 rows × 3 columns</p>\n",
       "</div>"
      ],
      "text/plain": [
       "     Unnamed: 0     date         price\n",
       "0             0  1957.00  4.110418e+08\n",
       "1             1  1959.00  6.794772e+07\n",
       "2             2  1960.00  5.242880e+06\n",
       "3             3  1965.00  2.642412e+06\n",
       "4             4  1970.00  7.340030e+05\n",
       "5             5  1973.00  3.993600e+05\n",
       "6             6  1974.00  3.145730e+05\n",
       "7             7  1975.00  4.218880e+05\n",
       "8             8  1975.08  1.802240e+05\n",
       "9             9  1975.25  6.758400e+04\n",
       "10           10  1975.75  4.992000e+04\n",
       "11           11  1976.00  4.070400e+04\n",
       "12           12  1976.17  4.896000e+04\n",
       "13           13  1976.42  2.304000e+04\n",
       "14           14  1976.58  3.200000e+04\n",
       "15           15  1977.08  3.680000e+04\n",
       "16           16  1978.17  2.800000e+04\n",
       "17           17  1978.25  2.944000e+04\n",
       "18           18  1978.33  1.920000e+04\n",
       "19           19  1978.50  2.400000e+04\n",
       "20           20  1978.58  1.600000e+04\n",
       "21           21  1978.75  1.520000e+04\n",
       "22           22  1979.00  1.052800e+04\n",
       "23           23  1979.75  6.704000e+03\n",
       "24           24  1980.00  6.480000e+03\n",
       "25           25  1981.00  8.800000e+03\n",
       "26           26  1981.58  4.479000e+03\n",
       "27           27  1982.00  3.520000e+03\n",
       "28           28  1982.17  4.464000e+03\n",
       "29           29  1982.67  1.980000e+03\n",
       "..          ...      ...           ...\n",
       "303         303  2012.33  4.900000e-03\n",
       "304         304  2012.58  4.800000e-03\n",
       "305         305  2012.67  4.000000e-03\n",
       "306         306  2012.83  3.700000e-03\n",
       "307         307  2013.00  4.300000e-03\n",
       "308         308  2013.08  5.400000e-03\n",
       "309         309  2013.33  6.700000e-03\n",
       "310         310  2013.42  6.100000e-03\n",
       "311         311  2013.58  7.300000e-03\n",
       "312         312  2013.67  6.500000e-03\n",
       "313         313  2013.75  8.200000e-03\n",
       "314         314  2013.83  8.500000e-03\n",
       "315         315  2013.92  7.900000e-03\n",
       "316         316  2014.08  9.500000e-03\n",
       "317         317  2014.17  7.900000e-03\n",
       "318         318  2014.25  7.300000e-03\n",
       "319         319  2014.42  7.900000e-03\n",
       "320         320  2014.58  8.500000e-03\n",
       "321         321  2014.67  8.500000e-03\n",
       "322         322  2014.83  8.500000e-03\n",
       "323         323  2015.00  7.800000e-03\n",
       "324         324  2015.08  7.300000e-03\n",
       "325         325  2015.25  6.100000e-03\n",
       "326         326  2015.33  5.600000e-03\n",
       "327         327  2015.50  4.900000e-03\n",
       "328         328  2015.58  4.500000e-03\n",
       "329         329  2015.67  4.300000e-03\n",
       "330         330  2015.75  4.200000e-03\n",
       "331         331  2015.83  3.800000e-03\n",
       "332         332  2015.92  3.700000e-03\n",
       "\n",
       "[333 rows x 3 columns]"
      ]
     },
     "execution_count": 4,
     "metadata": {},
     "output_type": "execute_result"
    }
   ],
   "source": [
    "#step 0.1 檢視資料 DataFrame 'ram_prices'\n",
    "ram_prices"
   ]
  },
  {
   "cell_type": "code",
   "execution_count": 5,
   "metadata": {},
   "outputs": [],
   "source": [
    "#reset index use 'date'\n",
    "p_ram_prices=ram_prices.set_index('date')"
   ]
  },
  {
   "cell_type": "code",
   "execution_count": 6,
   "metadata": {},
   "outputs": [],
   "source": [
    "%matplotlib inline"
   ]
  },
  {
   "cell_type": "code",
   "execution_count": 7,
   "metadata": {},
   "outputs": [
    {
     "data": {
      "text/plain": [
       "Text(0.5,0,'Year')"
      ]
     },
     "execution_count": 7,
     "metadata": {},
     "output_type": "execute_result"
    },
    {
     "data": {
      "image/png": "[encoded data removed]",
      "text/plain": [
       "<matplotlib.figure.Figure at 0x1d4cd07ccc0>"
      ]
     },
     "metadata": {},
     "output_type": "display_data"
    }
   ],
   "source": [
    "ax=p_ram_prices['price'].plot(logy=True) #y軸以對數尺度 logy=True\n",
    "ax.set_ylabel(\"price in $/Mbytes\")     #ylabel\n",
    "ax.set_xlabel(\"Year\")                  #xlabel"
   ]
  },
  {
   "cell_type": "code",
   "execution_count": 8,
   "metadata": {},
   "outputs": [],
   "source": [
    "#=============================================================\n",
    "# 目標--> 以2000年以前的資料對2000年後做預測\n",
    "# 特徵--> 日期是唯一的特徵\n",
    "# 模型--> 比較 DecisionTreeRegressor 與 LinearRegression\n",
    "# 前置處理 --> 用對數重新調整價格，讓關係變為線性\n",
    "#             並在訓練及預測後，使用指數映射來撤銷對數轉換"
   ]
  },
  {
   "cell_type": "code",
   "execution_count": 9,
   "metadata": {},
   "outputs": [],
   "source": [
    "#DecisionTreeRegressor, LinearRegressor\n",
    "from sklearn.tree import DecisionTreeRegressor\n",
    "from sklearn.linear_model import LinearRegression"
   ]
  },
  {
   "cell_type": "code",
   "execution_count": 10,
   "metadata": {},
   "outputs": [],
   "source": [
    "#以布林陣列 ram_prices.data < 2000 擷取\n",
    "#擷取2000前資料作為 train data\n",
    "data_train=ram_prices[ram_prices.date < 2000]"
   ]
  },
  {
   "cell_type": "code",
   "execution_count": 11,
   "metadata": {},
   "outputs": [],
   "source": [
    "#以布林陣列 ram_prices.data >= 2000 擷取\n",
    "#擷取2000前後資料作為 test data\n",
    "data_test=ram_prices[ram_prices.date >= 2000]"
   ]
  },
  {
   "cell_type": "code",
   "execution_count": 12,
   "metadata": {},
   "outputs": [],
   "source": [
    "#將Serier 'data_train.date', 以 np.newaxis\n",
    "#從 1D --> 2D, 設為 X_train\n",
    "X_train=data_train.date[:,np.newaxis]"
   ]
  },
  {
   "cell_type": "code",
   "execution_count": 13,
   "metadata": {},
   "outputs": [
    {
     "name": "stdout",
     "output_type": "stream",
     "text": [
      "data_train.data.shape--> (202,)\n"
     ]
    }
   ],
   "source": [
    "#檢視 data_train.data shape \n",
    "print(\"data_train.data.shape-->\",data_train.date.shape)"
   ]
  },
  {
   "cell_type": "code",
   "execution_count": 14,
   "metadata": {},
   "outputs": [
    {
     "name": "stdout",
     "output_type": "stream",
     "text": [
      "X_train.shape --> (202, 1)\n"
     ]
    }
   ],
   "source": [
    "#檢視 X_train shape \n",
    "print(\"X_train.shape -->\",X_train.shape)"
   ]
  },
  {
   "cell_type": "code",
   "execution_count": 15,
   "metadata": {},
   "outputs": [],
   "source": [
    "#將price 以np.log() 做對數轉換\n",
    "y_train=np.log(data_train.price)"
   ]
  },
  {
   "cell_type": "code",
   "execution_count": 16,
   "metadata": {},
   "outputs": [
    {
     "name": "stdout",
     "output_type": "stream",
     "text": [
      "y_train.shape --> (202,)\n"
     ]
    }
   ],
   "source": [
    "#檢視 y_train shape \n",
    "print(\"y_train.shape -->\",y_train.shape)"
   ]
  },
  {
   "cell_type": "code",
   "execution_count": 18,
   "metadata": {},
   "outputs": [],
   "source": [
    "#fitting\n",
    "\n",
    "#fit model, DecisionTreeRegressor\n",
    "treeModel=DecisionTreeRegressor().fit(X_train,y_train)"
   ]
  },
  {
   "cell_type": "code",
   "execution_count": 19,
   "metadata": {},
   "outputs": [],
   "source": [
    "#fit model, LinearRegression\n",
    "linearRegModel=LinearRegression().fit(X_train,y_train)"
   ]
  },
  {
   "cell_type": "code",
   "execution_count": 20,
   "metadata": {},
   "outputs": [],
   "source": [
    "#predict, model.predict() method\n",
    "#以全部(date)資料作預測, 一樣要以 np.newaxis 擴充一個維度\n",
    "X_all=ram_prices.date[:,np.newaxis]"
   ]
  },
  {
   "cell_type": "code",
   "execution_count": 21,
   "metadata": {},
   "outputs": [],
   "source": [
    "pred_tree=treeModel.predict(X_all)\n",
    "pred_lr=linearRegModel.predict(X_all)"
   ]
  },
  {
   "cell_type": "code",
   "execution_count": 22,
   "metadata": {},
   "outputs": [],
   "source": [
    "#以指數函數 np.exp() 撤銷對數\n",
    "price_tree=np.exp(pred_tree)\n",
    "price_lr=np.exp(pred_lr)"
   ]
  },
  {
   "cell_type": "code",
   "execution_count": 23,
   "metadata": {},
   "outputs": [],
   "source": [
    "#繪圖比較 DecisionTreeRegressor,LinearRegression\n",
    "#以 plt.semilogy(), Make a plot with log scaling on the y axis.\n",
    "#https://matplotlib.org/api/_as_gen/matplotlib.pyplot.semilogy.html"
   ]
  },
  {
   "cell_type": "code",
   "execution_count": 24,
   "metadata": {},
   "outputs": [
    {
     "data": {
      "text/plain": [
       "<matplotlib.legend.Legend at 0x1d4cf851748>"
      ]
     },
     "execution_count": 24,
     "metadata": {},
     "output_type": "execute_result"
    },
    {
     "data": {
      "image/png": "[encoded data removed]",
      "text/plain": [
       "<matplotlib.figure.Figure at 0x1d4cffdc080>"
      ]
     },
     "metadata": {},
     "output_type": "display_data"
    }
   ],
   "source": [
    "plt.semilogy(data_train.date, data_train.price, ls='--',label=\"Training data\")\n",
    "plt.semilogy(data_test.date,data_test.price, label=\"Test data\")\n",
    "plt.semilogy(ram_prices.date, price_tree, alpha=0.5,label=\"Tree prediction\")\n",
    "plt.semilogy(ram_prices.date, price_lr, c='r',ls='--',label=\"Linear prediction\")\n",
    "plt.legend()"
   ]
  },
  {
   "cell_type": "code",
   "execution_count": 26,
   "metadata": {},
   "outputs": [],
   "source": [
    "#treeModel 在train data (2000年以前)幾乎完美的預測\n",
    "#但是在train data外(2000年以後)只會保留最後一個已知點\n",
    "#超過訓練資料範圍，tree mode 沒有辦法回應\n",
    "#在以 tree 做基礎的模型皆有這個缺點"
   ]
  },
  {
   "cell_type": "code",
   "execution_count": null,
   "metadata": {},
   "outputs": [],
   "source": []
  }
 ],
 "metadata": {
  "anaconda-cloud": {},
  "kernelspec": {
   "display_name": "Python 3",
   "language": "python",
   "name": "python3"
  },
  "language_info": {
   "codemirror_mode": {
    "name": "ipython",
    "version": 3
   },
   "file_extension": ".py",
   "mimetype": "text/x-python",
   "name": "python",
   "nbconvert_exporter": "python",
   "pygments_lexer": "ipython3",
   "version": "3.6.4"
  }
 },
 "nbformat": 4,
 "nbformat_minor": 1
}
