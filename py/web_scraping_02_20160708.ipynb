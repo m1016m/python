{
 "cells": [
  {
   "cell_type": "code",
   "execution_count": 1,
   "metadata": {
    "collapsed": true
   },
   "outputs": [],
   "source": [
    "#web_scraping_02_20160708, BeautifulSoup"
   ]
  },
  {
   "cell_type": "code",
   "execution_count": 2,
   "metadata": {
    "collapsed": true
   },
   "outputs": [],
   "source": [
    "from urllib.request import urlopen"
   ]
  },
  {
   "cell_type": "code",
   "execution_count": 3,
   "metadata": {
    "collapsed": true
   },
   "outputs": [],
   "source": [
    "from bs4 import BeautifulSoup #from bs4 import BeautifulSoup"
   ]
  },
  {
   "cell_type": "code",
   "execution_count": 4,
   "metadata": {
    "collapsed": true
   },
   "outputs": [],
   "source": [
    "html=urlopen(\"http://www.pythonscraping.com/pages/page1.html\")"
   ]
  },
  {
   "cell_type": "code",
   "execution_count": 5,
   "metadata": {
    "collapsed": false
   },
   "outputs": [],
   "source": [
    "bsObj=BeautifulSoup(html.read(),\"lxml\") #叫用BeautifulSoup() 將html.read() \n",
    "                                        #轉成 bs4.BeautifulSoup object"
   ]
  },
  {
   "cell_type": "code",
   "execution_count": 6,
   "metadata": {
    "collapsed": false
   },
   "outputs": [],
   "source": [
    "bsObj?"
   ]
  },
  {
   "cell_type": "code",
   "execution_count": 7,
   "metadata": {
    "collapsed": false
   },
   "outputs": [
    {
     "name": "stdout",
     "output_type": "stream",
     "text": [
      "<h1>An Interesting Title</h1>\n"
     ]
    }
   ],
   "source": [
    "print(bsObj.h1) "
   ]
  },
  {
   "cell_type": "code",
   "execution_count": 8,
   "metadata": {
    "collapsed": false
   },
   "outputs": [
    {
     "data": {
      "text/plain": [
       "<html>\n",
       "<head>\n",
       "<title>A Useful Page</title>\n",
       "</head>\n",
       "<body>\n",
       "<h1>An Interesting Title</h1>\n",
       "<div>\n",
       "Lorem ipsum dolor sit amet, consectetur adipisicing elit, sed do eiusmod tempor incididunt ut labore et dolore magna aliqua. Ut enim ad minim veniam, quis nostrud exercitation ullamco laboris nisi ut aliquip ex ea commodo consequat. Duis aute irure dolor in reprehenderit in voluptate velit esse cillum dolore eu fugiat nulla pariatur. Excepteur sint occaecat cupidatat non proident, sunt in culpa qui officia deserunt mollit anim id est laborum.\n",
       "</div>\n",
       "</body>\n",
       "</html>"
      ]
     },
     "execution_count": 8,
     "metadata": {},
     "output_type": "execute_result"
    }
   ],
   "source": [
    "bsObj"
   ]
  },
  {
   "cell_type": "code",
   "execution_count": 9,
   "metadata": {
    "collapsed": false
   },
   "outputs": [
    {
     "name": "stdout",
     "output_type": "stream",
     "text": [
      "<h1>An Interesting Title</h1>\n"
     ]
    }
   ],
   "source": [
    "print(bsObj.html.body.h1) #完整的描述"
   ]
  },
  {
   "cell_type": "code",
   "execution_count": 10,
   "metadata": {
    "collapsed": false
   },
   "outputs": [
    {
     "name": "stdout",
     "output_type": "stream",
     "text": [
      "<h1>An Interesting Title</h1>\n"
     ]
    }
   ],
   "source": [
    "print(bsObj.body.h1) #這樣也可以"
   ]
  },
  {
   "cell_type": "code",
   "execution_count": 11,
   "metadata": {
    "collapsed": false
   },
   "outputs": [
    {
     "name": "stdout",
     "output_type": "stream",
     "text": [
      "<h1>An Interesting Title</h1>\n"
     ]
    }
   ],
   "source": [
    "print(bsObj.h1) #這樣就可以了"
   ]
  },
  {
   "cell_type": "code",
   "execution_count": 12,
   "metadata": {
    "collapsed": false
   },
   "outputs": [
    {
     "name": "stdout",
     "output_type": "stream",
     "text": [
      "<body>\n",
      "<h1>An Interesting Title</h1>\n",
      "<div>\n",
      "Lorem ipsum dolor sit amet, consectetur adipisicing elit, sed do eiusmod tempor incididunt ut labore et dolore magna aliqua. Ut enim ad minim veniam, quis nostrud exercitation ullamco laboris nisi ut aliquip ex ea commodo consequat. Duis aute irure dolor in reprehenderit in voluptate velit esse cillum dolore eu fugiat nulla pariatur. Excepteur sint occaecat cupidatat non proident, sunt in culpa qui officia deserunt mollit anim id est laborum.\n",
      "</div>\n",
      "</body>\n"
     ]
    }
   ],
   "source": [
    "print(bsObj.body)"
   ]
  },
  {
   "cell_type": "code",
   "execution_count": 13,
   "metadata": {
    "collapsed": true
   },
   "outputs": [],
   "source": [
    "#練習1: 資策會南區網址\"http://www.iiiedu.org.tw/south/\""
   ]
  },
  {
   "cell_type": "code",
   "execution_count": 14,
   "metadata": {
    "collapsed": true
   },
   "outputs": [],
   "source": [
    "from urllib.request import urlopen"
   ]
  },
  {
   "cell_type": "code",
   "execution_count": 15,
   "metadata": {
    "collapsed": true
   },
   "outputs": [],
   "source": [
    "from bs4 import BeautifulSoup"
   ]
  },
  {
   "cell_type": "code",
   "execution_count": 16,
   "metadata": {
    "collapsed": true
   },
   "outputs": [],
   "source": [
    "html_iii=urlopen(\"http://www.iiiedu.org.tw/south/\")"
   ]
  },
  {
   "cell_type": "code",
   "execution_count": 17,
   "metadata": {
    "collapsed": false
   },
   "outputs": [],
   "source": [
    "iii_bsObj=BeautifulSoup(html_iii.read().decode(),\"lxml\") #記得 decode()"
   ]
  },
  {
   "cell_type": "code",
   "execution_count": 18,
   "metadata": {
    "collapsed": false
   },
   "outputs": [
    {
     "name": "stdout",
     "output_type": "stream",
     "text": [
      "<!DOCTYPE html PUBLIC \"-//W3C//DTD XHTML 1.0 Transitional//EN\" \"http://www.w3.org/TR/xhtml1/DTD/xhtml1-transitional.dtd\">\n",
      "<html xmlns=\"http://www.w3.org/1999/xhtml\">\n",
      "<head>\n",
      "<title>財團法人資訊工業策進會 數位教育研究所 南區教育訓練中心 台南高雄</title>\n",
      "<meta content=\"tGDvTjoQhHbWZ6VUfbcPCVMgKgbLLVola3dpa0sJYRw\" name=\"google-site-verification\"/>\n",
      "<meta content=\"text/html; charset=utf-8\" http-equiv=\"Content-Type\"/>\n",
      "<meta content=\"資訊工業策進會南區訓練中心\" name=\"description\"/>\n",
      "<meta content=\"財團法人資訊工業策進會 台南高雄,南區訓練中心,資策會 台南高雄,PMP,JavaScript,jQuery,JavaScript API,php,MySQL,CCNA,QUT,LPI,ASP,C#,JAVA,LINUX,RFID,CWNA,NPDP,行動應用,海外留學,留學澳洲,就業養成,網工班,程式設計,Flash,MCITP,VUE,Prometric,雲端,企劃書,CEH,虛擬化,教育訓練\" name=\"keywords\"/>\n",
      "<meta content=\"財團法人資訊工業策進會-南區訓練中心,PMP,CCNA,ITIL,LINUX,NPDP,BIG DATA,R軟體,CBAP,GA認證,PYTHON,社群行銷,物聯網,工業4.0,智慧聯網 \" name=\"description\"/>\n",
      "<meta content=\"財團法人資訊工業策進會 數位教育研究所 - 南區訓練中心\" name=\"searchtitle\"/>\n",
      "<meta content=\"d33331cd6bfe41b7\" name=\"y_key\"/>\n",
      "<meta content=\"ALL,INDEX\" name=\"robots\"/>\n",
      "<meta content=\"5784D42D52AD9CEB33F48F7DD1DBBA9A\" name=\"msvalidate.01\"/>\n",
      "<script type=\"text/javascript\">\r\n",
      "  var _gaq = _gaq || [];\r\n",
      "  _gaq.push(['_setAccount', 'UA-16811802-1']);\r\n",
      "  _gaq.push(['_trackPageview']);\r\n",
      "  (function() {\r\n",
      "    var ga = document.createElement('script'); ga.type = 'text/javascript'; ga.async = true;\r\n",
      "    ga.src = ('https:' == document.location.protocol ? 'https://ssl' : 'http://www') + '.google-analytics.com/ga.js';\r\n",
      "    var s = document.getElementsByTagName('script')[0]; s.parentNode.insertBefore(ga, s);\r\n",
      "  })();\r\n",
      "</script>\n",
      "</head><frameset border=\"0\" frameborder=\"0\" framespacing=\"0\" rows=\"110,*\">\n",
      "<frame name=\"banner\" noresize=\"\" scrolling=\"no\" src=\"indFC_headmenu.htm\" target=\"_self\"/>\n",
      "<frameset border=\"0\" cols=\"108,*\" frameborder=\"NO\" framespacing=\"0\">\n",
      "<frame name=\"contents\" noresize=\"\" scrolling=\"no\" src=\"indEC_items.htm\" target=\"contents\"/>\n",
      "<frame name=\"main\" src=\"ind_news.htm\" target=\"main\"/>\n",
      "</frameset>\n",
      "<noframes></noframes>\n",
      "</frameset>\n",
      "<body><a href=\"http://pagerank.easylife.tw\" target=\"_blank\" title=\"Google PageRank查詢\">\n",
      "<img alt=\"Google PageRank查詢\" border=\"0\" onerror=\"this.style.display='none';\" src=\"http://pagerank.easylife.tw/pagerank.php?skin=ng2&amp;url=http://www.iiiedu.org.tw/south\"/></a>\n",
      "</body></html>\n"
     ]
    }
   ],
   "source": [
    "print(iii_bsObj)"
   ]
  },
  {
   "cell_type": "code",
   "execution_count": 19,
   "metadata": {
    "collapsed": false
   },
   "outputs": [
    {
     "name": "stdout",
     "output_type": "stream",
     "text": [
      "<title>財團法人資訊工業策進會 數位教育研究所 南區教育訓練中心 台南高雄</title>\n"
     ]
    }
   ],
   "source": [
    "print(iii_bsObj.title)"
   ]
  },
  {
   "cell_type": "code",
   "execution_count": 20,
   "metadata": {
    "collapsed": false
   },
   "outputs": [
    {
     "name": "stdout",
     "output_type": "stream",
     "text": [
      "<body><a href=\"http://pagerank.easylife.tw\" target=\"_blank\" title=\"Google PageRank查詢\">\n",
      "<img alt=\"Google PageRank查詢\" border=\"0\" onerror=\"this.style.display='none';\" src=\"http://pagerank.easylife.tw/pagerank.php?skin=ng2&amp;url=http://www.iiiedu.org.tw/south\"/></a>\n",
      "</body>\n"
     ]
    }
   ],
   "source": [
    "print(iii_bsObj.body)"
   ]
  },
  {
   "cell_type": "code",
   "execution_count": 21,
   "metadata": {
    "collapsed": false
   },
   "outputs": [
    {
     "name": "stdout",
     "output_type": "stream",
     "text": [
      "<img alt=\"Google PageRank查詢\" border=\"0\" onerror=\"this.style.display='none';\" src=\"http://pagerank.easylife.tw/pagerank.php?skin=ng2&amp;url=http://www.iiiedu.org.tw/south\"/>\n"
     ]
    }
   ],
   "source": [
    "print(iii_bsObj.body.img)"
   ]
  },
  {
   "cell_type": "code",
   "execution_count": null,
   "metadata": {
    "collapsed": true
   },
   "outputs": [],
   "source": []
  }
 ],
 "metadata": {
  "kernelspec": {
   "display_name": "Python 3",
   "language": "python",
   "name": "python3"
  },
  "language_info": {
   "codemirror_mode": {
    "name": "ipython",
    "version": 3
   },
   "file_extension": ".py",
   "mimetype": "text/x-python",
   "name": "python",
   "nbconvert_exporter": "python",
   "pygments_lexer": "ipython3",
   "version": "3.5.1"
  }
 },
 "nbformat": 4,
 "nbformat_minor": 0
}
