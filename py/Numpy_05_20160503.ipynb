{
 "cells": [
  {
   "cell_type": "code",
   "execution_count": 1,
   "metadata": {
    "collapsed": true
   },
   "outputs": [],
   "source": [
    "#Numpy_05_20160503"
   ]
  },
  {
   "cell_type": "code",
   "execution_count": 2,
   "metadata": {
    "collapsed": true
   },
   "outputs": [],
   "source": [
    "import numpy as np #import numpy as np"
   ]
  },
  {
   "cell_type": "code",
   "execution_count": 3,
   "metadata": {
    "collapsed": true
   },
   "outputs": [],
   "source": [
    "from numpy.random import randn #from numpy.random import randn"
   ]
  },
  {
   "cell_type": "code",
   "execution_count": 4,
   "metadata": {
    "collapsed": false
   },
   "outputs": [],
   "source": [
    "import matplotlib.pyplot as plt #import matplotlib.pyplot as plt"
   ]
  },
  {
   "cell_type": "code",
   "execution_count": 5,
   "metadata": {
    "collapsed": true
   },
   "outputs": [],
   "source": [
    "%matplotlib inline"
   ]
  },
  {
   "cell_type": "code",
   "execution_count": 6,
   "metadata": {
    "collapsed": true
   },
   "outputs": [],
   "source": [
    "#Mathematical and Statistical Methods"
   ]
  },
  {
   "cell_type": "code",
   "execution_count": 7,
   "metadata": {
    "collapsed": true
   },
   "outputs": [],
   "source": [
    "#Aggregations (often called reductions) like sum, mean, and standard deviation std"
   ]
  },
  {
   "cell_type": "code",
   "execution_count": 8,
   "metadata": {
    "collapsed": true
   },
   "outputs": [],
   "source": [
    "arr=np.random.randn(5,4) #製作一組 normally-distributed data"
   ]
  },
  {
   "cell_type": "code",
   "execution_count": 9,
   "metadata": {
    "collapsed": false
   },
   "outputs": [
    {
     "data": {
      "text/plain": [
       "array([[-0.79102504, -0.27258824,  1.04899979, -0.77153198],\n",
       "       [-0.03614726, -0.74499009,  0.34507797, -1.38525598],\n",
       "       [-0.09718111, -0.28855451,  0.18235359, -1.85793314],\n",
       "       [-0.72590253, -0.50842228,  0.46859756, -0.00644891],\n",
       "       [-0.49410239,  2.81039333, -0.71108791,  0.59367336]])"
      ]
     },
     "execution_count": 9,
     "metadata": {},
     "output_type": "execute_result"
    }
   ],
   "source": [
    "arr #numpy.ndarray object"
   ]
  },
  {
   "cell_type": "code",
   "execution_count": 10,
   "metadata": {
    "collapsed": false
   },
   "outputs": [
    {
     "data": {
      "text/plain": [
       "-0.16210378780447479"
      ]
     },
     "execution_count": 10,
     "metadata": {},
     "output_type": "execute_result"
    }
   ],
   "source": [
    "arr.mean() #叫用 mean() method  "
   ]
  },
  {
   "cell_type": "code",
   "execution_count": 11,
   "metadata": {
    "collapsed": false
   },
   "outputs": [
    {
     "data": {
      "text/plain": [
       "-3.2420757560894957"
      ]
     },
     "execution_count": 11,
     "metadata": {},
     "output_type": "execute_result"
    }
   ],
   "source": [
    "arr.sum() #叫用 sum() method"
   ]
  },
  {
   "cell_type": "code",
   "execution_count": 12,
   "metadata": {
    "collapsed": false
   },
   "outputs": [
    {
     "data": {
      "text/plain": [
       "(5, 4)"
      ]
     },
     "execution_count": 12,
     "metadata": {},
     "output_type": "execute_result"
    }
   ],
   "source": [
    "arr.shape"
   ]
  },
  {
   "cell_type": "code",
   "execution_count": 13,
   "metadata": {
    "collapsed": false
   },
   "outputs": [
    {
     "data": {
      "text/plain": [
       "array([-0.42887167,  0.19916764,  0.2667882 , -0.68549933])"
      ]
     },
     "execution_count": 13,
     "metadata": {},
     "output_type": "execute_result"
    }
   ],
   "source": [
    "arr.mean(axis=0) #沿axis0 計算"
   ]
  },
  {
   "cell_type": "code",
   "execution_count": 14,
   "metadata": {
    "collapsed": false
   },
   "outputs": [
    {
     "data": {
      "text/plain": [
       "array([-0.78614546, -1.82131536, -2.06131517, -0.77217616,  2.19887639])"
      ]
     },
     "execution_count": 14,
     "metadata": {},
     "output_type": "execute_result"
    }
   ],
   "source": [
    "arr.sum(1) #沿axis1 計算"
   ]
  },
  {
   "cell_type": "code",
   "execution_count": 15,
   "metadata": {
    "collapsed": true
   },
   "outputs": [],
   "source": [
    "#cumsum and cumprod do not aggregate"
   ]
  },
  {
   "cell_type": "code",
   "execution_count": 20,
   "metadata": {
    "collapsed": true
   },
   "outputs": [],
   "source": [
    "arr02=np.array([[0,1,2],[3,4,5],[6,7,8]])"
   ]
  },
  {
   "cell_type": "code",
   "execution_count": 21,
   "metadata": {
    "collapsed": false
   },
   "outputs": [
    {
     "data": {
      "text/plain": [
       "array([[0, 1, 2],\n",
       "       [3, 4, 5],\n",
       "       [6, 7, 8]])"
      ]
     },
     "execution_count": 21,
     "metadata": {},
     "output_type": "execute_result"
    }
   ],
   "source": [
    "arr02 #numpy.ndarray objecta"
   ]
  },
  {
   "cell_type": "code",
   "execution_count": 22,
   "metadata": {
    "collapsed": false
   },
   "outputs": [
    {
     "data": {
      "text/plain": [
       "array([[ 0,  1,  2],\n",
       "       [ 3,  5,  7],\n",
       "       [ 9, 12, 15]], dtype=int32)"
      ]
     },
     "execution_count": 22,
     "metadata": {},
     "output_type": "execute_result"
    }
   ],
   "source": [
    "arr02.cumsum(0) #沿著 axis0 累加\n",
    "                #    0,    1,    2\n",
    "                #  0+3,  1+4,  2+5\n",
    "                #0+3+6,1+4+7,2+5+8"
   ]
  },
  {
   "cell_type": "code",
   "execution_count": 23,
   "metadata": {
    "collapsed": false
   },
   "outputs": [
    {
     "data": {
      "text/plain": [
       "array([[  0,   0,   0],\n",
       "       [  3,  12,  60],\n",
       "       [  6,  42, 336]], dtype=int32)"
      ]
     },
     "execution_count": 23,
     "metadata": {},
     "output_type": "execute_result"
    }
   ],
   "source": [
    "arr02.cumprod(1) #沿著 axis1 \n",
    "                 # 0, 0*1, 0*1*2\n",
    "                 # 3, 3*4, 3*4*5\n",
    "                 # 6, 6*7, 6*7*8"
   ]
  },
  {
   "cell_type": "code",
   "execution_count": 24,
   "metadata": {
    "collapsed": true
   },
   "outputs": [],
   "source": [
    "# Methods for Boolean Arrays"
   ]
  },
  {
   "cell_type": "code",
   "execution_count": 31,
   "metadata": {
    "collapsed": true
   },
   "outputs": [],
   "source": [
    "arr03=randn(100)"
   ]
  },
  {
   "cell_type": "code",
   "execution_count": 32,
   "metadata": {
    "collapsed": false
   },
   "outputs": [
    {
     "data": {
      "text/plain": [
       "array([-0.61053373,  0.7351839 ,  0.6255526 ,  0.48245728,  0.85430011,\n",
       "       -0.00786675, -1.32722955,  0.50009546, -1.17755239,  1.98831965,\n",
       "        0.84407651, -0.69144499, -0.2812578 ,  0.13542092,  1.01270824,\n",
       "        0.23393042, -1.21415229, -0.42287179, -1.53234583, -1.31088868,\n",
       "       -0.68475258,  1.3344198 , -0.06981633, -0.72387335,  0.9153071 ,\n",
       "       -0.71779661,  0.45142475,  1.58377577, -0.20880034,  1.72840144,\n",
       "       -0.93367024, -0.161056  , -0.55315027,  2.18761038, -1.38795587,\n",
       "       -0.97572883, -1.4263993 ,  0.04568191, -1.05556066, -1.26582743,\n",
       "       -0.16665796, -0.75502432, -0.10075119,  0.07165692,  0.16061818,\n",
       "       -1.00425735,  0.42736206, -0.0604713 ,  2.48754448,  0.71042669,\n",
       "        0.54937913,  0.18077802, -0.45603298, -1.71321751, -2.0293947 ,\n",
       "        1.48958848,  1.38616354, -0.87877343,  1.04797569,  0.27205284,\n",
       "       -1.51880063,  0.92824069,  0.39573754, -0.7338545 ,  0.45684683,\n",
       "        1.08974995,  0.29560642, -1.72742901,  0.84958737,  1.43470303,\n",
       "       -1.1906206 ,  0.70944471,  1.38444042, -1.53956565, -0.16010819,\n",
       "        1.60526304,  0.57355477,  0.61611518,  0.12530595,  0.18359169,\n",
       "       -0.43897787,  0.71609192,  1.45448292, -0.08125698,  0.65645918,\n",
       "       -1.36495144, -0.40296902,  0.05845707, -0.53802363,  0.44674655,\n",
       "        1.28690454, -1.96837018,  0.43195839,  1.65540521,  0.79283925,\n",
       "        0.57069472, -0.34181722,  0.8585415 ,  1.38510489, -0.03127816])"
      ]
     },
     "execution_count": 32,
     "metadata": {},
     "output_type": "execute_result"
    }
   ],
   "source": [
    "arr03"
   ]
  },
  {
   "cell_type": "code",
   "execution_count": 33,
   "metadata": {
    "collapsed": false
   },
   "outputs": [
    {
     "data": {
      "text/plain": [
       "54"
      ]
     },
     "execution_count": 33,
     "metadata": {},
     "output_type": "execute_result"
    }
   ],
   "source": [
    "(arr03 > 0).sum() #arr03 中 正數的個數, 在這些方法中布林值會被強制轉換為1(True), 0(False) \n",
    "                  #sum() 用來計算 True 的個數"
   ]
  },
  {
   "cell_type": "code",
   "execution_count": 37,
   "metadata": {
    "collapsed": true
   },
   "outputs": [],
   "source": [
    "#any() and all()"
   ]
  },
  {
   "cell_type": "code",
   "execution_count": 38,
   "metadata": {
    "collapsed": true
   },
   "outputs": [],
   "source": [
    "bool_arr=np.array([False,False,True,False]) #create a bool array"
   ]
  },
  {
   "cell_type": "code",
   "execution_count": 39,
   "metadata": {
    "collapsed": false
   },
   "outputs": [
    {
     "data": {
      "text/plain": [
       "True"
      ]
     },
     "execution_count": 39,
     "metadata": {},
     "output_type": "execute_result"
    }
   ],
   "source": [
    "bool_arr.any() #any(), 檢視 bool_arr 中是否有 True 值"
   ]
  },
  {
   "cell_type": "code",
   "execution_count": 40,
   "metadata": {
    "collapsed": true
   },
   "outputs": [],
   "source": [
    "arr04=np.array([4,5,7]) #numpy.ndarray object arr04 "
   ]
  },
  {
   "cell_type": "code",
   "execution_count": 41,
   "metadata": {
    "collapsed": false
   },
   "outputs": [
    {
     "data": {
      "text/plain": [
       "array([4, 5, 7])"
      ]
     },
     "execution_count": 41,
     "metadata": {},
     "output_type": "execute_result"
    }
   ],
   "source": [
    "arr04"
   ]
  },
  {
   "cell_type": "code",
   "execution_count": 42,
   "metadata": {
    "collapsed": false
   },
   "outputs": [
    {
     "data": {
      "text/plain": [
       "True"
      ]
     },
     "execution_count": 42,
     "metadata": {},
     "output_type": "execute_result"
    }
   ],
   "source": [
    "(arr04 > 5).any() #檢視 (arr04 > 5) 有無任一個 True"
   ]
  },
  {
   "cell_type": "code",
   "execution_count": 43,
   "metadata": {
    "collapsed": false
   },
   "outputs": [
    {
     "data": {
      "text/plain": [
       "False"
      ]
     },
     "execution_count": 43,
     "metadata": {},
     "output_type": "execute_result"
    }
   ],
   "source": [
    "(arr04 > 5).all() #檢視 (arr04 > 5) 每一個是否皆為 True, 結果為 False"
   ]
  },
  {
   "cell_type": "code",
   "execution_count": 44,
   "metadata": {
    "collapsed": false
   },
   "outputs": [
    {
     "data": {
      "text/plain": [
       "True"
      ]
     },
     "execution_count": 44,
     "metadata": {},
     "output_type": "execute_result"
    }
   ],
   "source": [
    "(arr04 > 3).all() #檢視 (arr04 > 5) 每一個是否皆為 True, 結果為 True"
   ]
  },
  {
   "cell_type": "code",
   "execution_count": 46,
   "metadata": {
    "collapsed": true
   },
   "outputs": [],
   "source": [
    "#sorting"
   ]
  },
  {
   "cell_type": "code",
   "execution_count": 47,
   "metadata": {
    "collapsed": true
   },
   "outputs": [],
   "source": [
    "arr05=randn(8)"
   ]
  },
  {
   "cell_type": "code",
   "execution_count": 48,
   "metadata": {
    "collapsed": false
   },
   "outputs": [
    {
     "data": {
      "text/plain": [
       "array([-0.61222407,  1.4647044 ,  0.69515955,  0.48125241, -0.14860503,\n",
       "        1.02511507,  1.81115012,  0.92737158])"
      ]
     },
     "execution_count": 48,
     "metadata": {},
     "output_type": "execute_result"
    }
   ],
   "source": [
    "arr05"
   ]
  },
  {
   "cell_type": "code",
   "execution_count": 49,
   "metadata": {
    "collapsed": true
   },
   "outputs": [],
   "source": [
    "arr05.sort() #沒有copy, 就是 arr05 自身排序"
   ]
  },
  {
   "cell_type": "code",
   "execution_count": 50,
   "metadata": {
    "collapsed": false
   },
   "outputs": [
    {
     "data": {
      "text/plain": [
       "array([-0.61222407, -0.14860503,  0.48125241,  0.69515955,  0.92737158,\n",
       "        1.02511507,  1.4647044 ,  1.81115012])"
      ]
     },
     "execution_count": 50,
     "metadata": {},
     "output_type": "execute_result"
    }
   ],
   "source": [
    "arr05"
   ]
  },
  {
   "cell_type": "code",
   "execution_count": 51,
   "metadata": {
    "collapsed": true
   },
   "outputs": [],
   "source": [
    "#多維陣列,沿某一 axis 排序"
   ]
  },
  {
   "cell_type": "code",
   "execution_count": 52,
   "metadata": {
    "collapsed": true
   },
   "outputs": [],
   "source": [
    "arr06=randn(5,3)"
   ]
  },
  {
   "cell_type": "code",
   "execution_count": 53,
   "metadata": {
    "collapsed": false
   },
   "outputs": [
    {
     "data": {
      "text/plain": [
       "array([[ 0.42789189,  2.47866906,  0.78075619],\n",
       "       [ 0.82480986, -0.32310433,  0.89568545],\n",
       "       [-1.9718076 ,  1.28359353, -0.98321018],\n",
       "       [ 0.71362266,  0.09930162,  1.05430765],\n",
       "       [ 0.67389732, -0.90783221, -1.28405991]])"
      ]
     },
     "execution_count": 53,
     "metadata": {},
     "output_type": "execute_result"
    }
   ],
   "source": [
    "arr06"
   ]
  },
  {
   "cell_type": "code",
   "execution_count": 54,
   "metadata": {
    "collapsed": true
   },
   "outputs": [],
   "source": [
    "arr06.sort(0) #沿 axis0 sorting"
   ]
  },
  {
   "cell_type": "code",
   "execution_count": 55,
   "metadata": {
    "collapsed": false
   },
   "outputs": [
    {
     "data": {
      "text/plain": [
       "array([[-1.9718076 , -0.90783221, -1.28405991],\n",
       "       [ 0.42789189, -0.32310433, -0.98321018],\n",
       "       [ 0.67389732,  0.09930162,  0.78075619],\n",
       "       [ 0.71362266,  1.28359353,  0.89568545],\n",
       "       [ 0.82480986,  2.47866906,  1.05430765]])"
      ]
     },
     "execution_count": 55,
     "metadata": {},
     "output_type": "execute_result"
    }
   ],
   "source": [
    "arr06"
   ]
  },
  {
   "cell_type": "code",
   "execution_count": 56,
   "metadata": {
    "collapsed": true
   },
   "outputs": [],
   "source": [
    "arr06.sort(1) #沿 axis1 sorting"
   ]
  },
  {
   "cell_type": "code",
   "execution_count": 57,
   "metadata": {
    "collapsed": false
   },
   "outputs": [
    {
     "data": {
      "text/plain": [
       "array([[-1.9718076 , -1.28405991, -0.90783221],\n",
       "       [-0.98321018, -0.32310433,  0.42789189],\n",
       "       [ 0.09930162,  0.67389732,  0.78075619],\n",
       "       [ 0.71362266,  0.89568545,  1.28359353],\n",
       "       [ 0.82480986,  1.05430765,  2.47866906]])"
      ]
     },
     "execution_count": 57,
     "metadata": {},
     "output_type": "execute_result"
    }
   ],
   "source": [
    "arr06"
   ]
  },
  {
   "cell_type": "code",
   "execution_count": 58,
   "metadata": {
    "collapsed": true
   },
   "outputs": [],
   "source": [
    "#利用 sort 及 slice 取前面 10%的資料"
   ]
  },
  {
   "cell_type": "code",
   "execution_count": 59,
   "metadata": {
    "collapsed": true
   },
   "outputs": [],
   "source": [
    "arr07=randn(100) "
   ]
  },
  {
   "cell_type": "code",
   "execution_count": 60,
   "metadata": {
    "collapsed": false
   },
   "outputs": [
    {
     "data": {
      "text/plain": [
       "array([ 0.80450762, -1.92966076,  0.00959612,  0.28097258,  1.35744092,\n",
       "        1.24779844, -1.38562586,  0.17895053,  0.55126891,  0.88507785,\n",
       "       -0.08632661,  0.05389666,  2.68964848, -0.99469101, -0.37808665,\n",
       "        1.66146778, -0.45643725,  0.70745065,  0.6902141 ,  1.1884371 ,\n",
       "        0.89772821,  0.83368763,  1.37346358,  0.84849148,  0.20099398,\n",
       "       -0.11206999, -0.24184335, -0.13858119,  0.41477979,  0.98371757,\n",
       "        0.46393438, -0.42618562, -1.06738587,  0.00740003, -0.91210229,\n",
       "        0.04475298, -0.24193125,  1.34414741, -0.09327293,  0.63272755,\n",
       "       -0.37465029,  0.16407043,  0.32379922, -0.63164153, -0.41494326,\n",
       "       -0.06921142,  0.41538754,  0.71796652,  0.47327543,  0.81668067,\n",
       "        1.85776832,  0.65037015,  0.0819872 ,  1.25086176,  0.02246477,\n",
       "        0.69180002,  0.06361096,  0.15628901,  1.55386197, -0.40571967,\n",
       "       -0.96357461, -0.69221138, -1.66070418,  0.64435561,  0.03788071,\n",
       "       -1.1534107 , -0.91382243,  1.23742528,  1.56203212, -1.48964813,\n",
       "       -0.30042026, -0.10538875, -0.43335434,  1.24659341,  0.76843936,\n",
       "       -0.01533023, -1.87823831, -0.28843244,  1.02118   , -1.92366043,\n",
       "       -0.07791894,  0.25507088,  0.43881428, -0.23236461,  0.4199452 ,\n",
       "       -0.69162469, -0.50946579,  0.02982251,  0.0802983 ,  1.08211972,\n",
       "       -0.22900176, -0.80451293, -1.07347804,  0.51380205,  0.01412109,\n",
       "        0.79530169,  0.14018147,  0.33953834,  0.24926183,  1.28145718])"
      ]
     },
     "execution_count": 60,
     "metadata": {},
     "output_type": "execute_result"
    }
   ],
   "source": [
    "arr07"
   ]
  },
  {
   "cell_type": "code",
   "execution_count": 61,
   "metadata": {
    "collapsed": true
   },
   "outputs": [],
   "source": [
    "arr07.sort()"
   ]
  },
  {
   "cell_type": "code",
   "execution_count": 62,
   "metadata": {
    "collapsed": false
   },
   "outputs": [
    {
     "data": {
      "text/plain": [
       "array([-1.92966076, -1.92366043, -1.87823831, -1.66070418, -1.48964813,\n",
       "       -1.38562586, -1.1534107 , -1.07347804, -1.06738587, -0.99469101,\n",
       "       -0.96357461, -0.91382243, -0.91210229, -0.80451293, -0.69221138,\n",
       "       -0.69162469, -0.63164153, -0.50946579, -0.45643725, -0.43335434,\n",
       "       -0.42618562, -0.41494326, -0.40571967, -0.37808665, -0.37465029,\n",
       "       -0.30042026, -0.28843244, -0.24193125, -0.24184335, -0.23236461,\n",
       "       -0.22900176, -0.13858119, -0.11206999, -0.10538875, -0.09327293,\n",
       "       -0.08632661, -0.07791894, -0.06921142, -0.01533023,  0.00740003,\n",
       "        0.00959612,  0.01412109,  0.02246477,  0.02982251,  0.03788071,\n",
       "        0.04475298,  0.05389666,  0.06361096,  0.0802983 ,  0.0819872 ,\n",
       "        0.14018147,  0.15628901,  0.16407043,  0.17895053,  0.20099398,\n",
       "        0.24926183,  0.25507088,  0.28097258,  0.32379922,  0.33953834,\n",
       "        0.41477979,  0.41538754,  0.4199452 ,  0.43881428,  0.46393438,\n",
       "        0.47327543,  0.51380205,  0.55126891,  0.63272755,  0.64435561,\n",
       "        0.65037015,  0.6902141 ,  0.69180002,  0.70745065,  0.71796652,\n",
       "        0.76843936,  0.79530169,  0.80450762,  0.81668067,  0.83368763,\n",
       "        0.84849148,  0.88507785,  0.89772821,  0.98371757,  1.02118   ,\n",
       "        1.08211972,  1.1884371 ,  1.23742528,  1.24659341,  1.24779844,\n",
       "        1.25086176,  1.28145718,  1.34414741,  1.35744092,  1.37346358,\n",
       "        1.55386197,  1.56203212,  1.66146778,  1.85776832,  2.68964848])"
      ]
     },
     "execution_count": 62,
     "metadata": {},
     "output_type": "execute_result"
    }
   ],
   "source": [
    "arr07"
   ]
  },
  {
   "cell_type": "code",
   "execution_count": 63,
   "metadata": {
    "collapsed": false
   },
   "outputs": [
    {
     "data": {
      "text/plain": [
       "array([-1.92966076, -1.92366043, -1.87823831, -1.66070418, -1.48964813,\n",
       "       -1.38562586, -1.1534107 , -1.07347804, -1.06738587, -0.99469101])"
      ]
     },
     "execution_count": 63,
     "metadata": {},
     "output_type": "execute_result"
    }
   ],
   "source": [
    "arr07[0:int(0.1*len(arr07))] #將已排序的 arr07 切片 [0:int(0.1*len(arr07))] "
   ]
  },
  {
   "cell_type": "code",
   "execution_count": 65,
   "metadata": {
    "collapsed": true
   },
   "outputs": [],
   "source": [
    "#練習: 取最高的 5%"
   ]
  },
  {
   "cell_type": "code",
   "execution_count": 72,
   "metadata": {
    "collapsed": false
   },
   "outputs": [
    {
     "data": {
      "text/plain": [
       "array([ 2.68964848,  1.85776832,  1.66146778,  1.56203212,  1.55386197])"
      ]
     },
     "execution_count": 72,
     "metadata": {},
     "output_type": "execute_result"
    }
   ],
   "source": [
    "arr07[:-(int(0.05*len(arr07))+1):-1] "
   ]
  },
  {
   "cell_type": "code",
   "execution_count": 66,
   "metadata": {
    "collapsed": true
   },
   "outputs": [],
   "source": [
    "list01=[0,1,2,3,4,5]"
   ]
  },
  {
   "cell_type": "code",
   "execution_count": 67,
   "metadata": {
    "collapsed": false
   },
   "outputs": [
    {
     "data": {
      "text/plain": [
       "[0, 1, 2]"
      ]
     },
     "execution_count": 67,
     "metadata": {},
     "output_type": "execute_result"
    }
   ],
   "source": [
    "list01[0:3]"
   ]
  },
  {
   "cell_type": "code",
   "execution_count": 70,
   "metadata": {
    "collapsed": false
   },
   "outputs": [
    {
     "data": {
      "text/plain": [
       "[5, 4]"
      ]
     },
     "execution_count": 70,
     "metadata": {},
     "output_type": "execute_result"
    }
   ],
   "source": [
    "list01[:-3:-1]"
   ]
  },
  {
   "cell_type": "code",
   "execution_count": null,
   "metadata": {
    "collapsed": true
   },
   "outputs": [],
   "source": []
  }
 ],
 "metadata": {
  "kernelspec": {
   "display_name": "Python 3",
   "language": "python",
   "name": "python3"
  },
  "language_info": {
   "codemirror_mode": {
    "name": "ipython",
    "version": 3
   },
   "file_extension": ".py",
   "mimetype": "text/x-python",
   "name": "python",
   "nbconvert_exporter": "python",
   "pygments_lexer": "ipython3",
   "version": "3.5.1"
  }
 },
 "nbformat": 4,
 "nbformat_minor": 0
}
