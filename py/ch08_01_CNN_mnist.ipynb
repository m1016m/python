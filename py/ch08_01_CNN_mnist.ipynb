{
 "cells": [
  {
   "cell_type": "code",
   "execution_count": 1,
   "metadata": {
    "collapsed": true
   },
   "outputs": [],
   "source": [
    "#ch08_01_CNN_mnist.ipynb"
   ]
  },
  {
   "cell_type": "code",
   "execution_count": 2,
   "metadata": {
    "collapsed": true
   },
   "outputs": [],
   "source": [
    "#step0. CNN,Convolutional Neural Network 簡介\n",
    "#\n",
    "#step0.1 MLP vs. CNN\n",
    "#step0.2 CNN可分為2大部分: 1.影像特徵提取 2.完全連結神經網路\n",
    "#        1.影像特徵提取:卷積層1,池化層1,卷積層2,池化層2\n",
    "#        2.完全連結神經網路: 平坦層(Flatten),隱藏層,輸出層"
   ]
  },
  {
   "cell_type": "code",
   "execution_count": 3,
   "metadata": {
    "collapsed": true
   },
   "outputs": [],
   "source": [
    "#step1. 資料預處理(Preprocess)\n",
    "#       在MlP,我們將資料 reshape(60000,784)\n",
    "#       在CNN,我們將資料 reshape(60000,28,28,1) (1,單色)"
   ]
  },
  {
   "cell_type": "code",
   "execution_count": 4,
   "metadata": {},
   "outputs": [
    {
     "name": "stderr",
     "output_type": "stream",
     "text": [
      "Using TensorFlow backend.\n"
     ]
    }
   ],
   "source": [
    "#step1.1 匯入所需模組\n",
    "from keras.datasets import mnist\n",
    "from keras.utils import np_utils\n",
    "import numpy as np\n",
    "np.random.seed(10)"
   ]
  },
  {
   "cell_type": "code",
   "execution_count": 5,
   "metadata": {
    "collapsed": true
   },
   "outputs": [],
   "source": [
    "#step1.2 讀取 mnist 資料\n",
    "(x_Train,y_Train),(x_Test,y_Test)=mnist.load_data()"
   ]
  },
  {
   "cell_type": "code",
   "execution_count": 6,
   "metadata": {},
   "outputs": [
    {
     "data": {
      "text/plain": [
       "(60000, 28, 28)"
      ]
     },
     "execution_count": 6,
     "metadata": {},
     "output_type": "execute_result"
    }
   ],
   "source": [
    "#step1.3 將features(數字影像特徵值) 轉換為4維矩陣,並轉型為 'float32'\n",
    "x_Train.shape #原資料 shape (60000,28,28)"
   ]
  },
  {
   "cell_type": "code",
   "execution_count": 7,
   "metadata": {},
   "outputs": [],
   "source": [
    "x_Train4D=x_Train.reshape(x_Train.shape[0],28,28,1).astype('float32')\n",
    "x_Test4D=x_Test.reshape(x_Test.shape[0],28,28,1).astype('float32')"
   ]
  },
  {
   "cell_type": "code",
   "execution_count": 8,
   "metadata": {},
   "outputs": [
    {
     "data": {
      "text/plain": [
       "(60000, 28, 28, 1)"
      ]
     },
     "execution_count": 8,
     "metadata": {},
     "output_type": "execute_result"
    }
   ],
   "source": [
    "x_Train4D.shape"
   ]
  },
  {
   "cell_type": "code",
   "execution_count": 9,
   "metadata": {
    "collapsed": true
   },
   "outputs": [],
   "source": [
    "#step1.4 將features(數字影像特徵值)標準化\n",
    "x_Train4D_normalize=x_Train4D/255\n",
    "x_Test4D_normalize=x_Test4D/255"
   ]
  },
  {
   "cell_type": "code",
   "execution_count": 10,
   "metadata": {
    "collapsed": true
   },
   "outputs": [],
   "source": [
    "#step1.5 將label(數字的真實值)以Onehot encoding 轉換, np_utils.to_categorical()\n",
    "y_TrainOneHot=np_utils.to_categorical(y_Train)\n",
    "y_TestOneHot=np_utils.to_categorical(y_Test)"
   ]
  },
  {
   "cell_type": "code",
   "execution_count": 11,
   "metadata": {
    "collapsed": true
   },
   "outputs": [],
   "source": [
    "#============================================================================\n",
    "#step2. 建立模型, CNN, Convolutional Neural Network"
   ]
  },
  {
   "cell_type": "code",
   "execution_count": 12,
   "metadata": {
    "collapsed": true
   },
   "outputs": [],
   "source": [
    "#step2.1 匯入所需模組\n",
    "from keras.models import Sequential\n",
    "from keras.layers import Dense,Dropout,Flatten,Conv2D,MaxPooling2D\n",
    "     #在這個影像處理的例子,我們使用的是 keras的 Conv2D做卷積層(對應 tensorflow tf.nn.conv2d),\n",
    "     #                                       MaxPooling2D做池化層 (對應 tensorflow tf.layers.MaxPooling2D)"
   ]
  },
  {
   "cell_type": "code",
   "execution_count": 13,
   "metadata": {
    "collapsed": true
   },
   "outputs": [],
   "source": [
    "#step2.2 建立keras.Sequential model 'cnn_model'\n",
    "cnn_model=Sequential()"
   ]
  },
  {
   "cell_type": "code",
   "execution_count": 14,
   "metadata": {
    "collapsed": true
   },
   "outputs": [],
   "source": [
    "#step2.3 建立卷積層1 與 池化層1\n",
    "#step2.3.a 建立卷積層1, 以Conv2D()\n",
    "cnn_model.add(Conv2D(filters=16,      #建立16個濾鏡 filter weight\n",
    "             kernel_size=(5,5),       #濾鏡大小 5x5\n",
    "             padding='same',          #設定卷積運算,產生的卷積影像大小不變\n",
    "             input_shape=(28,28,1),   #影像大小 28x28, 第三個維度 1 -->灰色單階\n",
    "             activation='relu'))      #activation function 'relu'"
   ]
  },
  {
   "cell_type": "code",
   "execution_count": 15,
   "metadata": {
    "collapsed": true
   },
   "outputs": [],
   "source": [
    "#step2.3.b 建立池化層1, 以MaxPooling2D()\n",
    "cnn_model.add(MaxPooling2D(pool_size=(2,2))) #第一次縮減取樣, 將16個 28x28 --> 16個 14x14"
   ]
  },
  {
   "cell_type": "code",
   "execution_count": 16,
   "metadata": {
    "collapsed": true
   },
   "outputs": [],
   "source": [
    "#step2.4 建立卷積層2 與 池化層2\n",
    "#step2.4.a 建立卷積層2, 以Conv2D(), 將原本16個影像,轉換為36個影像,影像大小維持 14x14 (2.3.b)\n",
    "cnn_model.add(Conv2D(filters=36,\n",
    "                     kernel_size=(5,5),\n",
    "                     padding='same',\n",
    "                     activation='relu'))"
   ]
  },
  {
   "cell_type": "code",
   "execution_count": 17,
   "metadata": {
    "collapsed": true
   },
   "outputs": [],
   "source": [
    "#step2.4.b 建立池化層2, 以MaxPooling2D(), 參數 pool_size=(2,2)\n",
    "#          執行第二次縮減取樣, 將36個 14x14 --> 36個 7x7\n",
    "cnn_model.add(MaxPooling2D(pool_size=(2,2)))"
   ]
  },
  {
   "cell_type": "code",
   "execution_count": 18,
   "metadata": {
    "collapsed": true
   },
   "outputs": [],
   "source": [
    "#step2.4.c 加入 Dropout 避免 overfitting\n",
    "cnn_model.add(Dropout(0.25)) #0.25, 每次訓練迭代時,會隨機地在神經網路中放棄25%的神經元,以避免overfitting"
   ]
  },
  {
   "cell_type": "code",
   "execution_count": 19,
   "metadata": {
    "collapsed": true
   },
   "outputs": [],
   "source": [
    "#==================================================================================================\n",
    "#以上,建立        1.影像特徵提取:卷積層1,池化層1,卷積層2,池化層2\n",
    "#接下來,我們建立   2.完全連結神經網路: 平坦層(Flatten),隱藏層,輸出層"
   ]
  },
  {
   "cell_type": "code",
   "execution_count": 20,
   "metadata": {
    "collapsed": true
   },
   "outputs": [],
   "source": [
    "#step2.5 建立完全連結神經網路: 平坦層(Flatten),隱藏層,輸出層"
   ]
  },
  {
   "cell_type": "code",
   "execution_count": 21,
   "metadata": {
    "collapsed": true
   },
   "outputs": [],
   "source": [
    "#step2.5.a 建立平坦層(Flatten)\n",
    "#          之前池化層2 (36個 7x7影像),轉為 1維 36x7x7=1764個 float\n",
    "#          這一層的位置就如同MLP的輸入層\n",
    "cnn_model.add(Flatten())"
   ]
  },
  {
   "cell_type": "code",
   "execution_count": 23,
   "metadata": {},
   "outputs": [],
   "source": [
    "#step2.5.b 建立隱藏層, 設定為 128個神經元, 以Dense() 實作, activation function 為 'relu'\n",
    "#          'relu' activation function 其實是一個 Rectified Linear Units (線性整流單元)\n",
    "cnn_model.add(Dense(128,activation='relu'))"
   ]
  },
  {
   "cell_type": "code",
   "execution_count": 24,
   "metadata": {
    "collapsed": true
   },
   "outputs": [],
   "source": [
    "#step2.5.c 再加一個 Dropout(0.5),防止overfitting\n",
    "cnn_model.add(Dropout(0.5))"
   ]
  },
  {
   "cell_type": "code",
   "execution_count": 25,
   "metadata": {
    "collapsed": true
   },
   "outputs": [],
   "source": [
    "#setp2.5.d 最後建立一個輸出層, 10個神經元,對應0~9共10個數字, activation function為softmax()\n",
    "cnn_model.add(Dense(10,activation='softmax'))"
   ]
  },
  {
   "cell_type": "code",
   "execution_count": 26,
   "metadata": {},
   "outputs": [
    {
     "name": "stdout",
     "output_type": "stream",
     "text": [
      "_________________________________________________________________\n",
      "Layer (type)                 Output Shape              Param #   \n",
      "=================================================================\n",
      "conv2d_1 (Conv2D)            (None, 28, 28, 16)        416       \n",
      "_________________________________________________________________\n",
      "max_pooling2d_1 (MaxPooling2 (None, 14, 14, 16)        0         \n",
      "_________________________________________________________________\n",
      "conv2d_2 (Conv2D)            (None, 14, 14, 36)        14436     \n",
      "_________________________________________________________________\n",
      "max_pooling2d_2 (MaxPooling2 (None, 7, 7, 36)          0         \n",
      "_________________________________________________________________\n",
      "dropout_1 (Dropout)          (None, 7, 7, 36)          0         \n",
      "_________________________________________________________________\n",
      "flatten_1 (Flatten)          (None, 1764)              0         \n",
      "_________________________________________________________________\n",
      "dense_2 (Dense)              (None, 128)               225920    \n",
      "_________________________________________________________________\n",
      "dropout_2 (Dropout)          (None, 128)               0         \n",
      "_________________________________________________________________\n",
      "dense_3 (Dense)              (None, 10)                1290      \n",
      "=================================================================\n",
      "Total params: 242,062\n",
      "Trainable params: 242,062\n",
      "Non-trainable params: 0\n",
      "_________________________________________________________________\n",
      "None\n"
     ]
    }
   ],
   "source": [
    "#step2.6 檢視 cnn_model 模型摘要\n",
    "print(cnn_model.summary())"
   ]
  },
  {
   "cell_type": "code",
   "execution_count": 27,
   "metadata": {
    "collapsed": true
   },
   "outputs": [],
   "source": [
    "#==============================================================================\n",
    "#step3. 進行訓練, 以 Back Propagation algorithm"
   ]
  },
  {
   "cell_type": "code",
   "execution_count": 28,
   "metadata": {
    "collapsed": true
   },
   "outputs": [],
   "source": [
    "#step3.1 定義訓練方式, 使用 comile() function\n",
    "cnn_model.compile(loss='categorical_crossentropy', #設定損失函數(loss function),使用 cross_entropy(交叉墒)\n",
    "                  optimizer='adam',                #設定優化方法為 'adam'\n",
    "                  metrics=['accuracy'])            #設定評估模型的方法為 'accuracy' 準確率"
   ]
  },
  {
   "cell_type": "code",
   "execution_count": 29,
   "metadata": {},
   "outputs": [
    {
     "name": "stdout",
     "output_type": "stream",
     "text": [
      "Train on 48000 samples, validate on 12000 samples\n",
      "Epoch 1/10\n",
      " - 28s - loss: 0.4901 - acc: 0.8479 - val_loss: 0.0971 - val_acc: 0.9720\n",
      "Epoch 2/10\n",
      " - 27s - loss: 0.1410 - acc: 0.9586 - val_loss: 0.0636 - val_acc: 0.9802\n",
      "Epoch 3/10\n",
      " - 27s - loss: 0.1021 - acc: 0.9696 - val_loss: 0.0514 - val_acc: 0.9843\n",
      "Epoch 4/10\n",
      " - 27s - loss: 0.0845 - acc: 0.9752 - val_loss: 0.0465 - val_acc: 0.9854\n",
      "Epoch 5/10\n",
      " - 27s - loss: 0.0721 - acc: 0.9777 - val_loss: 0.0399 - val_acc: 0.9879\n",
      "Epoch 6/10\n",
      " - 27s - loss: 0.0641 - acc: 0.9809 - val_loss: 0.0396 - val_acc: 0.9883\n",
      "Epoch 7/10\n",
      " - 27s - loss: 0.0572 - acc: 0.9826 - val_loss: 0.0407 - val_acc: 0.9880\n",
      "Epoch 8/10\n",
      " - 27s - loss: 0.0512 - acc: 0.9843 - val_loss: 0.0334 - val_acc: 0.9905\n",
      "Epoch 9/10\n",
      " - 27s - loss: 0.0445 - acc: 0.9869 - val_loss: 0.0346 - val_acc: 0.9904\n",
      "Epoch 10/10\n",
      " - 27s - loss: 0.0423 - acc: 0.9871 - val_loss: 0.0357 - val_acc: 0.9900\n"
     ]
    }
   ],
   "source": [
    "#step3.2 開始訓練\n",
    "train_history=cnn_model.fit(x=x_Train4D_normalize,   #feature數字影像特徵值\n",
    "                            y=y_TrainOneHot,         #label數字影像真實的值\n",
    "                            validation_split=0.2,    #train:validation  80:20\n",
    "                            epochs=10,               #週期為10\n",
    "                            batch_size=300,          #每一批次 300筆\n",
    "                            verbose=2)               #verbose 層級為2"
   ]
  },
  {
   "cell_type": "code",
   "execution_count": 30,
   "metadata": {
    "collapsed": true
   },
   "outputs": [],
   "source": [
    "#step3.3 顯示(繪圖)訓練過程\n",
    "#        讀取 train_history 中 loss 與 accuracy, 繪圖\n",
    "import matplotlib.pyplot as plt\n",
    "def show_train_history(train_history,train,validation):  #define a function 'show_train_history'\n",
    "    plt.plot(train_history.history[train])              #train_history.history 是一個 dict\n",
    "    plt.plot(train_history.history[validation])\n",
    "    plt.title('Train History')\n",
    "    plt.ylabel(train)\n",
    "    plt.xlabel('Epoch')\n",
    "    plt.legend(['train','validation'],loc='upper left')\n",
    "    plt.show()"
   ]
  },
  {
   "cell_type": "code",
   "execution_count": 31,
   "metadata": {},
   "outputs": [
    {
     "data": {
      "image/png": "[encoded data removed]",
      "text/plain": [
       "<matplotlib.figure.Figure at 0x19c711127f0>"
      ]
     },
     "metadata": {},
     "output_type": "display_data"
    }
   ],
   "source": [
    "#step3.4 畫出 accuracy 執行結果, 使用 show_train_history\n",
    "%matplotlib inline\n",
    "show_train_history(train_history,'acc','val_acc')"
   ]
  },
  {
   "cell_type": "code",
   "execution_count": 32,
   "metadata": {},
   "outputs": [
    {
     "data": {
      "image/png": "[encoded data removed]",
      "text/plain": [
       "<matplotlib.figure.Figure at 0x19c6fb0eeb8>"
      ]
     },
     "metadata": {},
     "output_type": "display_data"
    }
   ],
   "source": [
    "#step3.5 畫出 loss 誤差值\n",
    "show_train_history(train_history,'loss','val_loss')"
   ]
  },
  {
   "cell_type": "code",
   "execution_count": 33,
   "metadata": {},
   "outputs": [
    {
     "name": "stdout",
     "output_type": "stream",
     "text": [
      "10000/10000 [==============================] - 2s 233us/step\n"
     ]
    },
    {
     "data": {
      "text/plain": [
       "0.99009999999999998"
      ]
     },
     "execution_count": 33,
     "metadata": {},
     "output_type": "execute_result"
    }
   ],
   "source": [
    "#step4 評估模型準確率, 使用獨立的test資料集 (10000筆)\n",
    "score=cnn_model.evaluate(x_Test4D_normalize,y_TestOneHot)\n",
    "score[1]"
   ]
  },
  {
   "cell_type": "code",
   "execution_count": 34,
   "metadata": {
    "collapsed": true
   },
   "outputs": [],
   "source": [
    "#step5 執行預測\n",
    "#step5.1 以訓練完的模型 (accuracy=0.99)執行預測\n",
    "prediction=cnn_model.predict_classes(x_Test4D_normalize)"
   ]
  },
  {
   "cell_type": "code",
   "execution_count": 35,
   "metadata": {},
   "outputs": [
    {
     "data": {
      "text/plain": [
       "array([7, 2, 1, 0, 4, 1, 4, 9, 5, 9], dtype=int64)"
      ]
     },
     "execution_count": 35,
     "metadata": {},
     "output_type": "execute_result"
    }
   ],
   "source": [
    "#step5.2 檢視預測結果\n",
    "prediction[:10]"
   ]
  },
  {
   "cell_type": "code",
   "execution_count": 36,
   "metadata": {
    "collapsed": true
   },
   "outputs": [],
   "source": [
    "#step5.3 顯示預測結果\n",
    "#step5.3.a 建立看多筆資料函數 plot_images_labels_prediction()\n",
    "def plot_images_labels_prediction(images,labels,prediction,idx,num=10):\n",
    "    fig=plt.gcf() \n",
    "    fig.set_size_inches(12,14)      #設定顯示圖形為12\"x14\" \n",
    "    if num>25: num=25               #如果顯示筆數大於25,就設定為25\n",
    "    for i in range(0,num):          #畫出num個數字圖形\n",
    "        ax=plt.subplot(5,5,1+i)     #subplot(nrows, ncols, plot_number), plot_number starts at 1, increments across rows first and has a maximum of nrows * ncols.\n",
    "        ax.imshow(images[idx], cmap='binary') #show 第 [idx] 個 images, colormap='binary'\n",
    "        title=\"label=\"+str(labels[idx])       #此一subplot抬頭為對應的label值\n",
    "        if len(prediction)>0:                      #如果呼叫此函數時,有給定預測值prediction (a list)\n",
    "            title+=\",predit=\"+str(prediction[idx]) #   在抬頭加上對應的預測值 prediction[idx]\n",
    "        \n",
    "        ax.set_title(title,fontsize=10)  #設定subplot ax 的 title\n",
    "        ax.set_xticks([]);ax.set_yticks([]) #set_xticks(ticks, minor=False), Set the x ticks with list of ticks, 此處[]為不設定刻度\n",
    "        idx+=1\n",
    "    plt.show()  "
   ]
  },
  {
   "cell_type": "code",
   "execution_count": 37,
   "metadata": {},
   "outputs": [
    {
     "data": {
      "image/png": "[encoded data removed]",
      "text/plain": [
       "<matplotlib.figure.Figure at 0x19c728ab198>"
      ]
     },
     "metadata": {},
     "output_type": "display_data"
    }
   ],
   "source": [
    "plot_images_labels_prediction(x_Test,y_Test,prediction,idx=0,num=10)"
   ]
  },
  {
   "cell_type": "code",
   "execution_count": 38,
   "metadata": {
    "collapsed": true
   },
   "outputs": [],
   "source": [
    "#step6. 顯示混淆矩陣 (confusion matrix)"
   ]
  },
  {
   "cell_type": "code",
   "execution_count": 39,
   "metadata": {
    "collapsed": true
   },
   "outputs": [],
   "source": [
    "#step6.1 使用 pandas crosstab 建立 confusion matrix\n",
    "import pandas as pd"
   ]
  },
  {
   "cell_type": "code",
   "execution_count": 40,
   "metadata": {},
   "outputs": [
    {
     "data": {
      "text/html": [
       "<div>\n",
       "<style>\n",
       "    .dataframe thead tr:only-child th {\n",
       "        text-align: right;\n",
       "    }\n",
       "\n",
       "    .dataframe thead th {\n",
       "        text-align: left;\n",
       "    }\n",
       "\n",
       "    .dataframe tbody tr th {\n",
       "        vertical-align: top;\n",
       "    }\n",
       "</style>\n",
       "<table border=\"1\" class=\"dataframe\">\n",
       "  <thead>\n",
       "    <tr style=\"text-align: right;\">\n",
       "      <th>predict</th>\n",
       "      <th>0</th>\n",
       "      <th>1</th>\n",
       "      <th>2</th>\n",
       "      <th>3</th>\n",
       "      <th>4</th>\n",
       "      <th>5</th>\n",
       "      <th>6</th>\n",
       "      <th>7</th>\n",
       "      <th>8</th>\n",
       "      <th>9</th>\n",
       "    </tr>\n",
       "    <tr>\n",
       "      <th>label</th>\n",
       "      <th></th>\n",
       "      <th></th>\n",
       "      <th></th>\n",
       "      <th></th>\n",
       "      <th></th>\n",
       "      <th></th>\n",
       "      <th></th>\n",
       "      <th></th>\n",
       "      <th></th>\n",
       "      <th></th>\n",
       "    </tr>\n",
       "  </thead>\n",
       "  <tbody>\n",
       "    <tr>\n",
       "      <th>0</th>\n",
       "      <td>976</td>\n",
       "      <td>1</td>\n",
       "      <td>0</td>\n",
       "      <td>0</td>\n",
       "      <td>0</td>\n",
       "      <td>0</td>\n",
       "      <td>2</td>\n",
       "      <td>1</td>\n",
       "      <td>0</td>\n",
       "      <td>0</td>\n",
       "    </tr>\n",
       "    <tr>\n",
       "      <th>1</th>\n",
       "      <td>0</td>\n",
       "      <td>1130</td>\n",
       "      <td>1</td>\n",
       "      <td>0</td>\n",
       "      <td>0</td>\n",
       "      <td>1</td>\n",
       "      <td>1</td>\n",
       "      <td>1</td>\n",
       "      <td>1</td>\n",
       "      <td>0</td>\n",
       "    </tr>\n",
       "    <tr>\n",
       "      <th>2</th>\n",
       "      <td>2</td>\n",
       "      <td>3</td>\n",
       "      <td>1023</td>\n",
       "      <td>0</td>\n",
       "      <td>1</td>\n",
       "      <td>0</td>\n",
       "      <td>0</td>\n",
       "      <td>3</td>\n",
       "      <td>0</td>\n",
       "      <td>0</td>\n",
       "    </tr>\n",
       "    <tr>\n",
       "      <th>3</th>\n",
       "      <td>0</td>\n",
       "      <td>0</td>\n",
       "      <td>0</td>\n",
       "      <td>1004</td>\n",
       "      <td>0</td>\n",
       "      <td>2</td>\n",
       "      <td>0</td>\n",
       "      <td>2</td>\n",
       "      <td>2</td>\n",
       "      <td>0</td>\n",
       "    </tr>\n",
       "    <tr>\n",
       "      <th>4</th>\n",
       "      <td>0</td>\n",
       "      <td>0</td>\n",
       "      <td>0</td>\n",
       "      <td>0</td>\n",
       "      <td>976</td>\n",
       "      <td>0</td>\n",
       "      <td>1</td>\n",
       "      <td>1</td>\n",
       "      <td>1</td>\n",
       "      <td>3</td>\n",
       "    </tr>\n",
       "    <tr>\n",
       "      <th>5</th>\n",
       "      <td>1</td>\n",
       "      <td>0</td>\n",
       "      <td>0</td>\n",
       "      <td>6</td>\n",
       "      <td>0</td>\n",
       "      <td>880</td>\n",
       "      <td>2</td>\n",
       "      <td>1</td>\n",
       "      <td>0</td>\n",
       "      <td>2</td>\n",
       "    </tr>\n",
       "    <tr>\n",
       "      <th>6</th>\n",
       "      <td>5</td>\n",
       "      <td>2</td>\n",
       "      <td>0</td>\n",
       "      <td>1</td>\n",
       "      <td>1</td>\n",
       "      <td>1</td>\n",
       "      <td>947</td>\n",
       "      <td>0</td>\n",
       "      <td>1</td>\n",
       "      <td>0</td>\n",
       "    </tr>\n",
       "    <tr>\n",
       "      <th>7</th>\n",
       "      <td>0</td>\n",
       "      <td>2</td>\n",
       "      <td>1</td>\n",
       "      <td>2</td>\n",
       "      <td>0</td>\n",
       "      <td>0</td>\n",
       "      <td>0</td>\n",
       "      <td>1022</td>\n",
       "      <td>1</td>\n",
       "      <td>0</td>\n",
       "    </tr>\n",
       "    <tr>\n",
       "      <th>8</th>\n",
       "      <td>4</td>\n",
       "      <td>1</td>\n",
       "      <td>3</td>\n",
       "      <td>2</td>\n",
       "      <td>1</td>\n",
       "      <td>1</td>\n",
       "      <td>0</td>\n",
       "      <td>2</td>\n",
       "      <td>955</td>\n",
       "      <td>5</td>\n",
       "    </tr>\n",
       "    <tr>\n",
       "      <th>9</th>\n",
       "      <td>1</td>\n",
       "      <td>4</td>\n",
       "      <td>1</td>\n",
       "      <td>2</td>\n",
       "      <td>6</td>\n",
       "      <td>2</td>\n",
       "      <td>0</td>\n",
       "      <td>5</td>\n",
       "      <td>0</td>\n",
       "      <td>988</td>\n",
       "    </tr>\n",
       "  </tbody>\n",
       "</table>\n",
       "</div>"
      ],
      "text/plain": [
       "predict    0     1     2     3    4    5    6     7    8    9\n",
       "label                                                        \n",
       "0        976     1     0     0    0    0    2     1    0    0\n",
       "1          0  1130     1     0    0    1    1     1    1    0\n",
       "2          2     3  1023     0    1    0    0     3    0    0\n",
       "3          0     0     0  1004    0    2    0     2    2    0\n",
       "4          0     0     0     0  976    0    1     1    1    3\n",
       "5          1     0     0     6    0  880    2     1    0    2\n",
       "6          5     2     0     1    1    1  947     0    1    0\n",
       "7          0     2     1     2    0    0    0  1022    1    0\n",
       "8          4     1     3     2    1    1    0     2  955    5\n",
       "9          1     4     1     2    6    2    0     5    0  988"
      ]
     },
     "execution_count": 40,
     "metadata": {},
     "output_type": "execute_result"
    }
   ],
   "source": [
    "pd.crosstab(y_Test,prediction,rownames=['label'],colnames=['predict'])"
   ]
  },
  {
   "cell_type": "code",
   "execution_count": null,
   "metadata": {
    "collapsed": true
   },
   "outputs": [],
   "source": []
  }
 ],
 "metadata": {
  "kernelspec": {
   "display_name": "Python 3",
   "language": "python",
   "name": "python3"
  },
  "language_info": {
   "codemirror_mode": {
    "name": "ipython",
    "version": 3
   },
   "file_extension": ".py",
   "mimetype": "text/x-python",
   "name": "python",
   "nbconvert_exporter": "python",
   "pygments_lexer": "ipython3",
   "version": "3.5.3"
  }
 },
 "nbformat": 4,
 "nbformat_minor": 2
}
