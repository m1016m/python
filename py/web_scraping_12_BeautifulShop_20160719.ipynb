{
 "cells": [
  {
   "cell_type": "code",
   "execution_count": 1,
   "metadata": {
    "collapsed": true
   },
   "outputs": [],
   "source": [
    "#web_scraping_12_BeautifulShop_20160719"
   ]
  },
  {
   "cell_type": "code",
   "execution_count": 2,
   "metadata": {
    "collapsed": true
   },
   "outputs": [],
   "source": [
    "#Beautiful Soup is a Python library for pulling data out of HTML and XML files.\n",
    "#It works with your favorite parser to provide idiomatic ways of navigating, searching, and modifying\n",
    "#the parse tree. "
   ]
  },
  {
   "cell_type": "code",
   "execution_count": 3,
   "metadata": {
    "collapsed": true
   },
   "outputs": [],
   "source": [
    "from urllib.request import urlopen #from urllib.request import urlopen() function"
   ]
  },
  {
   "cell_type": "code",
   "execution_count": 4,
   "metadata": {
    "collapsed": true
   },
   "outputs": [],
   "source": [
    "from bs4 import BeautifulSoup #from bs4 library import BeautifulSoup"
   ]
  },
  {
   "cell_type": "code",
   "execution_count": 5,
   "metadata": {
    "collapsed": true
   },
   "outputs": [],
   "source": [
    "html=urlopen(\"http://www.iiiedu.org.tw/south/\") #取得資策會高雄網站首頁 html file"
   ]
  },
  {
   "cell_type": "code",
   "execution_count": 6,
   "metadata": {
    "collapsed": true
   },
   "outputs": [],
   "source": [
    "bsObj=BeautifulSoup(html,'lxml') #以BeautifulSoup() 將html 轉成 BeautifulSoup object bsObj"
   ]
  },
  {
   "cell_type": "code",
   "execution_count": 7,
   "metadata": {
    "collapsed": false
   },
   "outputs": [
    {
     "data": {
      "text/plain": [
       "<!DOCTYPE html PUBLIC \"-//W3C//DTD XHTML 1.0 Transitional//EN\" \"http://www.w3.org/TR/xhtml1/DTD/xhtml1-transitional.dtd\">\n",
       "<html xmlns=\"http://www.w3.org/1999/xhtml\">\n",
       "<head>\n",
       "<title>財團法人資訊工業策進會 數位教育研究所 南區教育訓練中心 台南高雄</title>\n",
       "<meta content=\"tGDvTjoQhHbWZ6VUfbcPCVMgKgbLLVola3dpa0sJYRw\" name=\"google-site-verification\"/>\n",
       "<meta content=\"text/html; charset=utf-8\" http-equiv=\"Content-Type\"/>\n",
       "<meta content=\"資訊工業策進會南區訓練中心\" name=\"description\"/>\n",
       "<meta content=\"財團法人資訊工業策進會 台南高雄,南區訓練中心,資策會 台南高雄,PMP,JavaScript,jQuery,JavaScript API,php,MySQL,CCNA,QUT,LPI,ASP,C#,JAVA,LINUX,RFID,CWNA,NPDP,行動應用,海外留學,留學澳洲,就業養成,網工班,程式設計,Flash,MCITP,VUE,Prometric,雲端,企劃書,CEH,虛擬化,教育訓練\" name=\"keywords\"/>\n",
       "<meta content=\"財團法人資訊工業策進會-南區訓練中心,PMP,CCNA,ITIL,LINUX,NPDP,BIG DATA,R軟體,CBAP,GA認證,PYTHON,社群行銷,物聯網,工業4.0,智慧聯網 \" name=\"description\"/>\n",
       "<meta content=\"財團法人資訊工業策進會 數位教育研究所 - 南區訓練中心\" name=\"searchtitle\"/>\n",
       "<meta content=\"d33331cd6bfe41b7\" name=\"y_key\"/>\n",
       "<meta content=\"ALL,INDEX\" name=\"robots\"/>\n",
       "<meta content=\"5784D42D52AD9CEB33F48F7DD1DBBA9A\" name=\"msvalidate.01\"/>\n",
       "<script type=\"text/javascript\">\n",
       "  var _gaq = _gaq || [];\n",
       "  _gaq.push(['_setAccount', 'UA-16811802-1']);\n",
       "  _gaq.push(['_trackPageview']);\n",
       "  (function() {\n",
       "    var ga = document.createElement('script'); ga.type = 'text/javascript'; ga.async = true;\n",
       "    ga.src = ('https:' == document.location.protocol ? 'https://ssl' : 'http://www') + '.google-analytics.com/ga.js';\n",
       "    var s = document.getElementsByTagName('script')[0]; s.parentNode.insertBefore(ga, s);\n",
       "  })();\n",
       "</script>\n",
       "</head><frameset border=\"0\" frameborder=\"0\" framespacing=\"0\" rows=\"110,*\">\n",
       "<frame name=\"banner\" noresize=\"\" scrolling=\"no\" src=\"indFC_headmenu.htm\" target=\"_self\"/>\n",
       "<frameset border=\"0\" cols=\"108,*\" frameborder=\"NO\" framespacing=\"0\">\n",
       "<frame name=\"contents\" noresize=\"\" scrolling=\"no\" src=\"indEC_items.htm\" target=\"contents\"/>\n",
       "<frame name=\"main\" src=\"ind_news.htm\" target=\"main\"/>\n",
       "</frameset>\n",
       "<noframes></noframes>\n",
       "</frameset>\n",
       "<body><a href=\"http://pagerank.easylife.tw\" target=\"_blank\" title=\"Google PageRank查詢\">\n",
       "<img alt=\"Google PageRank查詢\" border=\"0\" onerror=\"this.style.display='none';\" src=\"http://pagerank.easylife.tw/pagerank.php?skin=ng2&amp;url=http://www.iiiedu.org.tw/south\"/></a>\n",
       "</body></html>"
      ]
     },
     "execution_count": 7,
     "metadata": {},
     "output_type": "execute_result"
    }
   ],
   "source": [
    "bsObj #直接看 bs object"
   ]
  },
  {
   "cell_type": "code",
   "execution_count": 8,
   "metadata": {
    "collapsed": true
   },
   "outputs": [],
   "source": [
    "#prettify() functin, 排版美化"
   ]
  },
  {
   "cell_type": "code",
   "execution_count": 9,
   "metadata": {
    "collapsed": false
   },
   "outputs": [
    {
     "name": "stdout",
     "output_type": "stream",
     "text": [
      "<!DOCTYPE html PUBLIC \"-//W3C//DTD XHTML 1.0 Transitional//EN\" \"http://www.w3.org/TR/xhtml1/DTD/xhtml1-transitional.dtd\">\n",
      "<html xmlns=\"http://www.w3.org/1999/xhtml\">\n",
      " <head>\n",
      "  <title>\n",
      "   財團法人資訊工業策進會 數位教育研究所 南區教育訓練中心 台南高雄\n",
      "  </title>\n",
      "  <meta content=\"tGDvTjoQhHbWZ6VUfbcPCVMgKgbLLVola3dpa0sJYRw\" name=\"google-site-verification\"/>\n",
      "  <meta content=\"text/html; charset=utf-8\" http-equiv=\"Content-Type\"/>\n",
      "  <meta content=\"資訊工業策進會南區訓練中心\" name=\"description\"/>\n",
      "  <meta content=\"財團法人資訊工業策進會 台南高雄,南區訓練中心,資策會 台南高雄,PMP,JavaScript,jQuery,JavaScript API,php,MySQL,CCNA,QUT,LPI,ASP,C#,JAVA,LINUX,RFID,CWNA,NPDP,行動應用,海外留學,留學澳洲,就業養成,網工班,程式設計,Flash,MCITP,VUE,Prometric,雲端,企劃書,CEH,虛擬化,教育訓練\" name=\"keywords\"/>\n",
      "  <meta content=\"財團法人資訊工業策進會-南區訓練中心,PMP,CCNA,ITIL,LINUX,NPDP,BIG DATA,R軟體,CBAP,GA認證,PYTHON,社群行銷,物聯網,工業4.0,智慧聯網 \" name=\"description\"/>\n",
      "  <meta content=\"財團法人資訊工業策進會 數位教育研究所 - 南區訓練中心\" name=\"searchtitle\"/>\n",
      "  <meta content=\"d33331cd6bfe41b7\" name=\"y_key\"/>\n",
      "  <meta content=\"ALL,INDEX\" name=\"robots\"/>\n",
      "  <meta content=\"5784D42D52AD9CEB33F48F7DD1DBBA9A\" name=\"msvalidate.01\"/>\n",
      "  <script type=\"text/javascript\">\n",
      "   var _gaq = _gaq || [];\r\n",
      "  _gaq.push(['_setAccount', 'UA-16811802-1']);\r\n",
      "  _gaq.push(['_trackPageview']);\r\n",
      "  (function() {\r\n",
      "    var ga = document.createElement('script'); ga.type = 'text/javascript'; ga.async = true;\r\n",
      "    ga.src = ('https:' == document.location.protocol ? 'https://ssl' : 'http://www') + '.google-analytics.com/ga.js';\r\n",
      "    var s = document.getElementsByTagName('script')[0]; s.parentNode.insertBefore(ga, s);\r\n",
      "  })();\n",
      "  </script>\n",
      " </head>\n",
      " <frameset border=\"0\" frameborder=\"0\" framespacing=\"0\" rows=\"110,*\">\n",
      "  <frame name=\"banner\" noresize=\"\" scrolling=\"no\" src=\"indFC_headmenu.htm\" target=\"_self\"/>\n",
      "  <frameset border=\"0\" cols=\"108,*\" frameborder=\"NO\" framespacing=\"0\">\n",
      "   <frame name=\"contents\" noresize=\"\" scrolling=\"no\" src=\"indEC_items.htm\" target=\"contents\"/>\n",
      "   <frame name=\"main\" src=\"ind_news.htm\" target=\"main\"/>\n",
      "  </frameset>\n",
      "  <noframes>\n",
      "  </noframes>\n",
      " </frameset>\n",
      " <body>\n",
      "  <a href=\"http://pagerank.easylife.tw\" target=\"_blank\" title=\"Google PageRank查詢\">\n",
      "   <img alt=\"Google PageRank查詢\" border=\"0\" onerror=\"this.style.display='none';\" src=\"http://pagerank.easylife.tw/pagerank.php?skin=ng2&amp;url=http://www.iiiedu.org.tw/south\"/>\n",
      "  </a>\n",
      " </body>\n",
      "</html>\n"
     ]
    }
   ],
   "source": [
    "print(bsObj.prettify()) #使用bs object prettify() 排版美化"
   ]
  },
  {
   "cell_type": "code",
   "execution_count": 10,
   "metadata": {
    "collapsed": true
   },
   "outputs": [],
   "source": [
    "#navigate that data structure (bs tree) "
   ]
  },
  {
   "cell_type": "code",
   "execution_count": 11,
   "metadata": {
    "collapsed": false
   },
   "outputs": [
    {
     "data": {
      "text/plain": [
       "<title>財團法人資訊工業策進會 數位教育研究所 南區教育訓練中心 台南高雄</title>"
      ]
     },
     "execution_count": 11,
     "metadata": {},
     "output_type": "execute_result"
    }
   ],
   "source": [
    "bsObj.html.head.title #tag <title>"
   ]
  },
  {
   "cell_type": "code",
   "execution_count": 12,
   "metadata": {
    "collapsed": false
   },
   "outputs": [
    {
     "data": {
      "text/plain": [
       "<title>財團法人資訊工業策進會 數位教育研究所 南區教育訓練中心 台南高雄</title>"
      ]
     },
     "execution_count": 12,
     "metadata": {},
     "output_type": "execute_result"
    }
   ],
   "source": [
    "bsObj.title #這樣也可以"
   ]
  },
  {
   "cell_type": "code",
   "execution_count": 13,
   "metadata": {
    "collapsed": false
   },
   "outputs": [
    {
     "data": {
      "text/plain": [
       "'title'"
      ]
     },
     "execution_count": 13,
     "metadata": {},
     "output_type": "execute_result"
    }
   ],
   "source": [
    "bsObj.title.name #tag <title> 的name"
   ]
  },
  {
   "cell_type": "code",
   "execution_count": 14,
   "metadata": {
    "collapsed": false
   },
   "outputs": [
    {
     "data": {
      "text/plain": [
       "'財團法人資訊工業策進會 數位教育研究所 南區教育訓練中心 台南高雄'"
      ]
     },
     "execution_count": 14,
     "metadata": {},
     "output_type": "execute_result"
    }
   ],
   "source": [
    "bsObj.title.string #tag <title> 的內容字串"
   ]
  },
  {
   "cell_type": "code",
   "execution_count": 15,
   "metadata": {
    "collapsed": false
   },
   "outputs": [
    {
     "data": {
      "text/plain": [
       "[<meta content=\"tGDvTjoQhHbWZ6VUfbcPCVMgKgbLLVola3dpa0sJYRw\" name=\"google-site-verification\"/>,\n",
       " <meta content=\"text/html; charset=utf-8\" http-equiv=\"Content-Type\"/>,\n",
       " <meta content=\"資訊工業策進會南區訓練中心\" name=\"description\"/>,\n",
       " <meta content=\"財團法人資訊工業策進會 台南高雄,南區訓練中心,資策會 台南高雄,PMP,JavaScript,jQuery,JavaScript API,php,MySQL,CCNA,QUT,LPI,ASP,C#,JAVA,LINUX,RFID,CWNA,NPDP,行動應用,海外留學,留學澳洲,就業養成,網工班,程式設計,Flash,MCITP,VUE,Prometric,雲端,企劃書,CEH,虛擬化,教育訓練\" name=\"keywords\"/>,\n",
       " <meta content=\"財團法人資訊工業策進會-南區訓練中心,PMP,CCNA,ITIL,LINUX,NPDP,BIG DATA,R軟體,CBAP,GA認證,PYTHON,社群行銷,物聯網,工業4.0,智慧聯網 \" name=\"description\"/>,\n",
       " <meta content=\"財團法人資訊工業策進會 數位教育研究所 - 南區訓練中心\" name=\"searchtitle\"/>,\n",
       " <meta content=\"d33331cd6bfe41b7\" name=\"y_key\"/>,\n",
       " <meta content=\"ALL,INDEX\" name=\"robots\"/>,\n",
       " <meta content=\"5784D42D52AD9CEB33F48F7DD1DBBA9A\" name=\"msvalidate.01\"/>]"
      ]
     },
     "execution_count": 15,
     "metadata": {},
     "output_type": "execute_result"
    }
   ],
   "source": [
    "bsObj.head.findAll(\"meta\") #tag <head> 內,所有 tag <meta> --> 以Python list 傳回"
   ]
  },
  {
   "cell_type": "code",
   "execution_count": 16,
   "metadata": {
    "collapsed": true
   },
   "outputs": [],
   "source": [
    "meta_list=bsObj.head.findAll(\"meta\") #存成list meta_list"
   ]
  },
  {
   "cell_type": "code",
   "execution_count": 17,
   "metadata": {
    "collapsed": false
   },
   "outputs": [
    {
     "data": {
      "text/plain": [
       "<meta content=\"資訊工業策進會南區訓練中心\" name=\"description\"/>"
      ]
     },
     "execution_count": 17,
     "metadata": {},
     "output_type": "execute_result"
    }
   ],
   "source": [
    "meta_list[2] #meta_list 第三個元素"
   ]
  },
  {
   "cell_type": "code",
   "execution_count": 18,
   "metadata": {
    "collapsed": false
   },
   "outputs": [
    {
     "data": {
      "text/plain": [
       "{'content': '資訊工業策進會南區訓練中心', 'name': 'description'}"
      ]
     },
     "execution_count": 18,
     "metadata": {},
     "output_type": "execute_result"
    }
   ],
   "source": [
    "meta_list[2].attrs #meta_list[2] 的屬性(attrs) -->以Python dict. 傳回"
   ]
  },
  {
   "cell_type": "code",
   "execution_count": 19,
   "metadata": {
    "collapsed": false
   },
   "outputs": [
    {
     "data": {
      "text/plain": [
       "'資訊工業策進會南區訓練中心'"
      ]
     },
     "execution_count": 19,
     "metadata": {},
     "output_type": "execute_result"
    }
   ],
   "source": [
    "meta_list[2].attrs[\"content\"] #\"content\"屬性的值 -->以Python str 傳回"
   ]
  },
  {
   "cell_type": "code",
   "execution_count": 20,
   "metadata": {
    "collapsed": true
   },
   "outputs": [],
   "source": [
    "#findAll()  / find() "
   ]
  },
  {
   "cell_type": "code",
   "execution_count": 21,
   "metadata": {
    "collapsed": false
   },
   "outputs": [
    {
     "data": {
      "text/plain": [
       "[<a href=\"http://pagerank.easylife.tw\" target=\"_blank\" title=\"Google PageRank查詢\">\n",
       " <img alt=\"Google PageRank查詢\" border=\"0\" onerror=\"this.style.display='none';\" src=\"http://pagerank.easylife.tw/pagerank.php?skin=ng2&amp;url=http://www.iiiedu.org.tw/south\"/></a>]"
      ]
     },
     "execution_count": 21,
     "metadata": {},
     "output_type": "execute_result"
    }
   ],
   "source": [
    "bsObj.findAll(\"a\") #找所有 tag <a> -->以Python list 傳回"
   ]
  },
  {
   "cell_type": "code",
   "execution_count": 22,
   "metadata": {
    "collapsed": false
   },
   "outputs": [
    {
     "data": {
      "text/plain": [
       "<img alt=\"Google PageRank查詢\" border=\"0\" onerror=\"this.style.display='none';\" src=\"http://pagerank.easylife.tw/pagerank.php?skin=ng2&amp;url=http://www.iiiedu.org.tw/south\"/>"
      ]
     },
     "execution_count": 22,
     "metadata": {},
     "output_type": "execute_result"
    }
   ],
   "source": [
    "bsObj.find(alt=\"Google PageRank查詢\") #找第一個屬性 alt=\"Google PageRank查詢\" 的 tag --> bs4.element.Tag"
   ]
  },
  {
   "cell_type": "code",
   "execution_count": 23,
   "metadata": {
    "collapsed": true
   },
   "outputs": [],
   "source": [
    "#get()"
   ]
  },
  {
   "cell_type": "code",
   "execution_count": 24,
   "metadata": {
    "collapsed": false
   },
   "outputs": [
    {
     "name": "stdout",
     "output_type": "stream",
     "text": [
      "http://pagerank.easylife.tw\n"
     ]
    }
   ],
   "source": [
    "for link in bsObj.findAll(\"a\"): #將每個 tag <a> 中,屬性 href 的值\n",
    "    print(link.get('href'))     #以 get() 取出 "
   ]
  },
  {
   "cell_type": "code",
   "execution_count": 25,
   "metadata": {
    "collapsed": true
   },
   "outputs": [],
   "source": [
    "#練習: 將上式以 list comprehension 改寫:"
   ]
  },
  {
   "cell_type": "code",
   "execution_count": 26,
   "metadata": {
    "collapsed": false
   },
   "outputs": [
    {
     "data": {
      "text/plain": [
       "['http://pagerank.easylife.tw']"
      ]
     },
     "execution_count": 26,
     "metadata": {},
     "output_type": "execute_result"
    }
   ],
   "source": [
    "[link.get('href') for link in bsObj.findAll(\"a\")]"
   ]
  },
  {
   "cell_type": "code",
   "execution_count": 27,
   "metadata": {
    "collapsed": true
   },
   "outputs": [],
   "source": [
    "#get_text()"
   ]
  },
  {
   "cell_type": "code",
   "execution_count": 28,
   "metadata": {
    "collapsed": false
   },
   "outputs": [
    {
     "name": "stdout",
     "output_type": "stream",
     "text": [
      "財團法人資訊工業策進會 數位教育研究所 南區教育訓練中心 台南高雄\n"
     ]
    }
   ],
   "source": [
    "print(bsObj.title.get_text()) #tag <title> 的 text"
   ]
  },
  {
   "cell_type": "code",
   "execution_count": 29,
   "metadata": {
    "collapsed": false
   },
   "outputs": [
    {
     "name": "stdout",
     "output_type": "stream",
     "text": [
      "\n",
      "\n",
      "財團法人資訊工業策進會 數位教育研究所 南區教育訓練中心 台南高雄\n",
      "\n",
      "\n",
      "\n",
      "\n",
      "\n",
      "\n",
      "\n",
      "\n",
      "\n",
      "\r\n",
      "  var _gaq = _gaq || [];\r\n",
      "  _gaq.push(['_setAccount', 'UA-16811802-1']);\r\n",
      "  _gaq.push(['_trackPageview']);\r\n",
      "  (function() {\r\n",
      "    var ga = document.createElement('script'); ga.type = 'text/javascript'; ga.async = true;\r\n",
      "    ga.src = ('https:' == document.location.protocol ? 'https://ssl' : 'http://www') + '.google-analytics.com/ga.js';\r\n",
      "    var s = document.getElementsByTagName('script')[0]; s.parentNode.insertBefore(ga, s);\r\n",
      "  })();\r\n",
      "\n",
      "\n",
      "\n",
      "\n",
      "\n",
      "\n",
      "\n",
      "\n",
      "\n",
      "\n",
      "\n",
      "\n"
     ]
    }
   ],
   "source": [
    "print(bsObj.get_text()) #所有 tag 的 text"
   ]
  },
  {
   "cell_type": "code",
   "execution_count": null,
   "metadata": {
    "collapsed": true
   },
   "outputs": [],
   "source": []
  }
 ],
 "metadata": {
  "kernelspec": {
   "display_name": "Python 3",
   "language": "python",
   "name": "python3"
  },
  "language_info": {
   "codemirror_mode": {
    "name": "ipython",
    "version": 3
   },
   "file_extension": ".py",
   "mimetype": "text/x-python",
   "name": "python",
   "nbconvert_exporter": "python",
   "pygments_lexer": "ipython3",
   "version": "3.5.1"
  }
 },
 "nbformat": 4,
 "nbformat_minor": 0
}
