{
 "cells": [
  {
   "cell_type": "code",
   "execution_count": 1,
   "metadata": {
    "collapsed": true
   },
   "outputs": [],
   "source": [
    "#A_ch02_005_Linear_20171211.ipynb\n",
    "#linear regression(線性迴歸) / ordinary least squares, OLS (最小平方法) \n",
    "#y=w[0]*X+b (w[0]-->斜率, b-->截距)\n",
    "#用一個線性函數來做預測"
   ]
  },
  {
   "cell_type": "code",
   "execution_count": 2,
   "metadata": {
    "collapsed": true
   },
   "outputs": [],
   "source": [
    "import numpy as np\n",
    "import matplotlib.pyplot as plt\n",
    "%matplotlib inline"
   ]
  },
  {
   "cell_type": "code",
   "execution_count": 3,
   "metadata": {
    "collapsed": true
   },
   "outputs": [],
   "source": [
    "#產生一個資料集(波型資料), mglearn.datasets.make_wave()\n",
    "import mglearn"
   ]
  },
  {
   "cell_type": "code",
   "execution_count": 4,
   "metadata": {
    "collapsed": true
   },
   "outputs": [],
   "source": [
    "mglearn.plots.plot_linear_regression_wave?"
   ]
  },
  {
   "cell_type": "code",
   "execution_count": 5,
   "metadata": {},
   "outputs": [
    {
     "name": "stdout",
     "output_type": "stream",
     "text": [
      "w[0]: 0.393906  b: -0.031804\n"
     ]
    },
    {
     "data": {
      "image/png": "[encoded data removed]",
      "text/plain": [
       "<matplotlib.figure.Figure at 0x20c9ff39128>"
      ]
     },
     "metadata": {},
     "output_type": "display_data"
    }
   ],
   "source": [
    "#以 mglearn package 提供的繪圖範例繪圖展示 linear regression model\n",
    "mglearn.plots.plot_linear_regression_wave() #w[0]-->斜率, b-->截距"
   ]
  },
  {
   "cell_type": "code",
   "execution_count": 6,
   "metadata": {
    "collapsed": true
   },
   "outputs": [],
   "source": [
    "#匯入scikit-learn中的線性迴歸模組 LinearRegression\n",
    "from sklearn.linear_model import LinearRegression"
   ]
  },
  {
   "cell_type": "code",
   "execution_count": 7,
   "metadata": {
    "collapsed": true
   },
   "outputs": [],
   "source": [
    "#生成一個60個資料點的wave資料,以 mglearn.dateset.make_wave()\n",
    "X,y=mglearn.datasets.make_wave(n_samples=60)"
   ]
  },
  {
   "cell_type": "code",
   "execution_count": 8,
   "metadata": {
    "collapsed": true
   },
   "outputs": [],
   "source": [
    "#檢視make_wave() 合成的測試資料"
   ]
  },
  {
   "cell_type": "code",
   "execution_count": 9,
   "metadata": {},
   "outputs": [
    {
     "name": "stdout",
     "output_type": "stream",
     "text": [
      "X.shape --> (60, 1)  y.shape --> (60,)  X[0]--> [-0.75275929]  y[0]--> -1.18073310919\n"
     ]
    }
   ],
   "source": [
    "print('X.shape -->',X.shape,' y.shape -->',y.shape,' X[0]-->',X[0],' y[0]-->',y[0])"
   ]
  },
  {
   "cell_type": "code",
   "execution_count": 10,
   "metadata": {},
   "outputs": [
    {
     "data": {
      "text/plain": [
       "<matplotlib.text.Text at 0x20ca00cdf60>"
      ]
     },
     "execution_count": 10,
     "metadata": {},
     "output_type": "execute_result"
    },
    {
     "data": {
      "image/png": "[encoded data removed]",
      "text/plain": [
       "<matplotlib.figure.Figure at 0x20ca0162940>"
      ]
     },
     "metadata": {},
     "output_type": "display_data"
    }
   ],
   "source": [
    "#繪製圖型檢視\n",
    "plt.plot(X,y,'ro') #'ro', r--> red, o--> 圈圈; 你可以試試 'g^'\n",
    "plt.ylim(-3,3)\n",
    "plt.xlabel(\"Feature\")  #Feature X\n",
    "plt.ylabel(\"Target\")   #Label y"
   ]
  },
  {
   "cell_type": "code",
   "execution_count": 11,
   "metadata": {
    "collapsed": true
   },
   "outputs": [],
   "source": [
    "#import train_test_split() function\n",
    "from sklearn.model_selection import train_test_split"
   ]
  },
  {
   "cell_type": "code",
   "execution_count": 12,
   "metadata": {
    "collapsed": true
   },
   "outputs": [],
   "source": [
    "#準備訓練(train)與測試(test)資料集 (train:test  3:1)\n",
    "X_train,X_test,y_train,y_test=train_test_split(X,y,random_state=42)"
   ]
  },
  {
   "cell_type": "code",
   "execution_count": 13,
   "metadata": {},
   "outputs": [
    {
     "name": "stdout",
     "output_type": "stream",
     "text": [
      "len(X_train): 45  len(X_test): 15\n"
     ]
    }
   ],
   "source": [
    "print('len(X_train):',len(X_train),' len(X_test):',len(X_test))"
   ]
  },
  {
   "cell_type": "code",
   "execution_count": 14,
   "metadata": {
    "collapsed": true
   },
   "outputs": [],
   "source": [
    "#1. train phase:\n",
    "#叫用 LinearRegression , fit() method. 以train dataset X_train,y_train 做訓練\n",
    "#訓練後得到一個 LinearRegression model object 'lrModel'\n",
    "lrModel=LinearRegression().fit(X_train,y_train)"
   ]
  },
  {
   "cell_type": "code",
   "execution_count": 15,
   "metadata": {},
   "outputs": [
    {
     "name": "stdout",
     "output_type": "stream",
     "text": [
      "lrModel.coef_(斜率,w[0]):[ 0.39390555]\n",
      "lrModel.intercept_(截距,b):-0.031804343026759746\n"
     ]
    }
   ],
   "source": [
    "#檢視 lrModel 的斜率(w[0]) 及 截距(b)\n",
    "print(\"lrModel.coef_(斜率,w[0]):{}\".format(lrModel.coef_))         #Model.coef_ 存放斜率\n",
    "print(\"lrModel.intercept_(截距,b):{}\".format(lrModel.intercept_))  #Model.intercept_ 存放截距,\n",
    "                                                                 #scikit-learn會將從訓練集得到的屬性加上 '_',以區別使用者設定的屬性"
   ]
  },
  {
   "cell_type": "code",
   "execution_count": 17,
   "metadata": {},
   "outputs": [
    {
     "data": {
      "text/plain": [
       "array([-0.58327211])"
      ]
     },
     "execution_count": 17,
     "metadata": {},
     "output_type": "execute_result"
    }
   ],
   "source": [
    "#2.predict, 使用已訓練模型 lrModel.predict()\n",
    "px=np.array([-1.4]) #以np.array() 將 list [-1.4] 轉換為 1d array\n",
    "px=px.reshape(-1,1) #再 reshape 為 2d array (1,1)\n",
    "lrModel.predict(px) #以 lrModel.predict() 預測"
   ]
  },
  {
   "cell_type": "code",
   "execution_count": 18,
   "metadata": {},
   "outputs": [
    {
     "data": {
      "text/plain": [
       "[<matplotlib.lines.Line2D at 0x20ca0457908>]"
      ]
     },
     "execution_count": 18,
     "metadata": {},
     "output_type": "execute_result"
    },
    {
     "data": {
      "image/png": "[encoded data removed]",
      "text/plain": [
       "<matplotlib.figure.Figure at 0x20c9ff42ba8>"
      ]
     },
     "metadata": {},
     "output_type": "display_data"
    }
   ],
   "source": [
    "plt.plot(X,y,'go') #'ro', r--> red, o--> 圈圈; 你可以試試 'g^'\n",
    "plt.ylim(-3,3)\n",
    "plt.xlabel(\"Feature\")  #Feature X\n",
    "plt.ylabel(\"Target\")   #Label y\n",
    "line = np.linspace(-3, 3, num=100).reshape(-1, 1)  #以np.linespace().reshape(-1,1) 產生測試資料 line\n",
    "plt.plot(line, lrModel.predict(line))              #將 line 以 lrModel.predict() 預測並畫圖\n",
    "ax = plt.gca()\n",
    "ax.legend([\"training data\",\"model\"], loc=\"best\")\n",
    "plt.plot(px,lrModel.predict(px),'r^')  #將預測結果以 'g^' 畫出"
   ]
  },
  {
   "cell_type": "code",
   "execution_count": 19,
   "metadata": {},
   "outputs": [
    {
     "name": "stdout",
     "output_type": "stream",
     "text": [
      "訓練集分數,score(X_train,y_train):0.67\n",
      "測試集分數,score(X_test,y_test):0.66\n"
     ]
    }
   ],
   "source": [
    "#2. 3. predict, Evaluation\n",
    "#以lrModel.score() method\n",
    "print(\"訓練集分數,score(X_train,y_train):{:.2f}\".format(lrModel.score(X_train,y_train)))\n",
    "print(\"測試集分數,score(X_test,y_test):{:.2f}\".format(lrModel.score(X_test,y_test)))"
   ]
  },
  {
   "cell_type": "code",
   "execution_count": 20,
   "metadata": {
    "collapsed": true
   },
   "outputs": [],
   "source": [
    "#此模型(lrModel) 在 train 資料集與 test 資料集 計算的 auc 值差異不大 (雖然兩者都不高) \n",
    "#顯示並無 orverfittin 問題"
   ]
  },
  {
   "cell_type": "code",
   "execution_count": 21,
   "metadata": {
    "collapsed": true
   },
   "outputs": [],
   "source": [
    "#===============================================================================\n",
    "#part II: LinearRegression 在 Boston Dataset (506 data point, 105 衍生 feature)\n",
    "#         真實複雜資料集\n",
    "#         前面,我們使用 make_wave() 合成資料做說明, 並無明顯 overfitting 問題\n",
    "#         以下,我們以一個真實資料集 Boston Dataset, 實作說明 overfitting "
   ]
  },
  {
   "cell_type": "code",
   "execution_count": 22,
   "metadata": {
    "collapsed": true
   },
   "outputs": [],
   "source": [
    "#準備資料\n",
    "X,y=mglearn.datasets.load_extended_boston()\n",
    "X_train,X_test,y_train,y_test=train_test_split(X,y,random_state=0)"
   ]
  },
  {
   "cell_type": "code",
   "execution_count": 23,
   "metadata": {},
   "outputs": [
    {
     "name": "stdout",
     "output_type": "stream",
     "text": [
      "len(X_train): 379  len(X_test): 127\n"
     ]
    }
   ],
   "source": [
    "#檢視 train 及 test 資料集\n",
    "print('len(X_train):',len(X_train),' len(X_test):',len(X_test))"
   ]
  },
  {
   "cell_type": "code",
   "execution_count": 24,
   "metadata": {
    "collapsed": true
   },
   "outputs": [],
   "source": [
    "#訓練, 以 train 資料集\n",
    "lrModel=LinearRegression().fit(X_train,y_train)"
   ]
  },
  {
   "cell_type": "code",
   "execution_count": 25,
   "metadata": {},
   "outputs": [
    {
     "name": "stdout",
     "output_type": "stream",
     "text": [
      "訓練集分數,score(X_train,y_train):0.95\n",
      "測試集分數,score(X_test,y_test):0.61\n"
     ]
    }
   ],
   "source": [
    "#predict, Evaluation\n",
    "print(\"訓練集分數,score(X_train,y_train):{:.2f}\".format(lrModel.score(X_train,y_train)))\n",
    "print(\"測試集分數,score(X_test,y_test):{:.2f}\".format(lrModel.score(X_test,y_test)))"
   ]
  },
  {
   "cell_type": "code",
   "execution_count": 26,
   "metadata": {
    "collapsed": true
   },
   "outputs": [],
   "source": [
    "#非常明顯的 orverfitting"
   ]
  },
  {
   "cell_type": "code",
   "execution_count": 35,
   "metadata": {
    "collapsed": true
   },
   "outputs": [],
   "source": [
    "#因為標準線性迴歸不允許我們控制複雜度\n",
    "#我們常以多變數線性迴歸(ridge regression) 替代"
   ]
  }
 ],
 "metadata": {
  "kernelspec": {
   "display_name": "Python 3",
   "language": "python",
   "name": "python3"
  },
  "language_info": {
   "codemirror_mode": {
    "name": "ipython",
    "version": 3
   },
   "file_extension": ".py",
   "mimetype": "text/x-python",
   "name": "python",
   "nbconvert_exporter": "python",
   "pygments_lexer": "ipython3",
   "version": "3.5.3"
  }
 },
 "nbformat": 4,
 "nbformat_minor": 1
}
