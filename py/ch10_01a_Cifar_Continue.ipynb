{
 "cells": [
  {
   "cell_type": "code",
   "execution_count": 1,
   "metadata": {
    "collapsed": true
   },
   "outputs": [],
   "source": [
    "#ch10_01a_Cifar_Continue.ipynb\n",
    "#模型的儲存與載入"
   ]
  },
  {
   "cell_type": "code",
   "execution_count": 2,
   "metadata": {
    "collapsed": true
   },
   "outputs": [],
   "source": [
    "#step0. CNN,Convolutional Neural Network 簡介\n",
    "#\n",
    "#step0.1 CNN可分為2大部分: 1.影像特徵提取 2.完全連結神經網路\n",
    "#        1.影像特徵提取:卷積層1,池化層1,卷積層2,池化層2\n",
    "#        2.完全連結神經網路: 平坦層(Flatten),隱藏層,輸出層"
   ]
  },
  {
   "cell_type": "code",
   "execution_count": 3,
   "metadata": {
    "collapsed": true
   },
   "outputs": [],
   "source": [
    "#step1. Data Preprocess\n",
    "#cifar-10 Data Preprocess ==> ch09_01_Cifar_Intro.ipynb"
   ]
  },
  {
   "cell_type": "code",
   "execution_count": 4,
   "metadata": {},
   "outputs": [
    {
     "name": "stderr",
     "output_type": "stream",
     "text": [
      "C:\\Program Files\\Anaconda3\\envs\\tensorflow\\lib\\site-packages\\h5py\\__init__.py:34: FutureWarning: Conversion of the second argument of issubdtype from `float` to `np.floating` is deprecated. In future, it will be treated as `np.float64 == np.dtype(float).type`.\n",
      "  from ._conv import register_converters as _register_converters\n",
      "Using TensorFlow backend.\n"
     ]
    }
   ],
   "source": [
    "#step1.1 import necessary module\n",
    "from keras.datasets import cifar10\n",
    "import numpy as np\n",
    "np.random.seed(10)"
   ]
  },
  {
   "cell_type": "code",
   "execution_count": 5,
   "metadata": {
    "collapsed": true
   },
   "outputs": [],
   "source": [
    "#step1.2 讀取 cifar-10 資料\n",
    "(x_img_train,y_label_train),(x_img_test,y_label_test)=cifar10.load_data()"
   ]
  },
  {
   "cell_type": "code",
   "execution_count": 6,
   "metadata": {},
   "outputs": [
    {
     "name": "stdout",
     "output_type": "stream",
     "text": [
      "train data x_img_train: (50000, 32, 32, 3)  train data y_label_train: (50000, 1)\n",
      "test data x_img_test: (10000, 32, 32, 3)  test data y_label_test: (10000, 1)\n"
     ]
    }
   ],
   "source": [
    "#step1.3 檢視 train/test dataset\n",
    "print(\"train data x_img_train:\",x_img_train.shape,\" train data y_label_train:\",y_label_train.shape)\n",
    "print(\"test data x_img_test:\",x_img_test.shape,\" test data y_label_test:\",y_label_test.shape)"
   ]
  },
  {
   "cell_type": "code",
   "execution_count": 7,
   "metadata": {
    "collapsed": true
   },
   "outputs": [],
   "source": [
    "#step1.4 將features (影像資料) 標準化\n",
    "x_img_train_normalize=x_img_train.astype('float32')/255.0\n",
    "x_img_test_normalize=x_img_test.astype('float32')/255.0"
   ]
  },
  {
   "cell_type": "code",
   "execution_count": 8,
   "metadata": {
    "collapsed": true
   },
   "outputs": [],
   "source": [
    "#step1.5 將labels (影像值 [0],[1],...,[9]) Onehot encoding 編碼\n",
    "#        以np_utils.to_categorical()\n",
    "from keras.utils import np_utils"
   ]
  },
  {
   "cell_type": "code",
   "execution_count": 9,
   "metadata": {
    "collapsed": true
   },
   "outputs": [],
   "source": [
    "y_label_train_OneHot=np_utils.to_categorical(y_label_train)\n",
    "y_label_test_OneHot=np_utils.to_categorical(y_label_test)"
   ]
  },
  {
   "cell_type": "code",
   "execution_count": 10,
   "metadata": {
    "collapsed": true
   },
   "outputs": [],
   "source": [
    "#==============================================================\n",
    "#step2. 建立模型\n",
    "#"
   ]
  },
  {
   "cell_type": "code",
   "execution_count": 11,
   "metadata": {
    "collapsed": true
   },
   "outputs": [],
   "source": [
    "#step2.1 import necessary module\n",
    "from keras.models import Sequential #keras Sequential module, https://keras.io/getting-started/sequential-model-guide/\n",
    "from keras.layers import Dense, Dropout, Activation, Flatten #keras layers module: Dense,Dropout,Activation,Flatten\n",
    "from keras.layers import Conv2D, MaxPooling2D,ZeroPadding2D"
   ]
  },
  {
   "cell_type": "code",
   "execution_count": 12,
   "metadata": {
    "collapsed": true
   },
   "outputs": [],
   "source": [
    "#step2.2 建立 keras的 Sequential model\n",
    "model=Sequential()"
   ]
  },
  {
   "cell_type": "code",
   "execution_count": 13,
   "metadata": {
    "collapsed": true
   },
   "outputs": [],
   "source": [
    "#step2.3 建立卷積層1與池化層1, 以model.add()\n",
    "#        a.fiters=32 --> 隨機產生32個濾鏡, b.size=(3,3) --> 每個濾鏡大小是 (3x3)\n",
    "#        c.padding='same' -->設定此卷積運算不改變大小, d.activation='relu' activation function 為'ReLU'\n",
    "#step2.3.1 建立卷積層1, Conv2D()\n",
    "model.add(Conv2D(filters=32,kernel_size=(3,3),\n",
    "                 input_shape=(32,32,3),\n",
    "                 activation='relu',\n",
    "                 padding='same'))"
   ]
  },
  {
   "cell_type": "code",
   "execution_count": 14,
   "metadata": {
    "collapsed": true
   },
   "outputs": [],
   "source": [
    "#step2.3.2 加入Dropoup層,避免 Overfitting, Dropout()\n",
    "model.add(Dropout(rate=0.25))"
   ]
  },
  {
   "cell_type": "code",
   "execution_count": 15,
   "metadata": {
    "collapsed": true
   },
   "outputs": [],
   "source": [
    "#step2.3.3 建立池化層1, MaxPooling2D, pool_size=(2,2) 縮減取樣,將32x32的影像縮小為16x16,影像數量仍是32個\n",
    "model.add(MaxPooling2D(pool_size=(2,2)))"
   ]
  },
  {
   "cell_type": "code",
   "execution_count": 16,
   "metadata": {
    "collapsed": true
   },
   "outputs": [],
   "source": [
    "#step2.4 建立卷積層2與池化層2\n",
    "#step2.4.1 建立第2次卷積層, Conv2D(), filters=64 (64個濾鏡)\n",
    "model.add(Conv2D(filters=64,kernel_size=(3,3),activation='relu',padding='same'))"
   ]
  },
  {
   "cell_type": "code",
   "execution_count": 17,
   "metadata": {
    "collapsed": true
   },
   "outputs": [],
   "source": [
    "#step2.4.2 再加入 Dropout 避免 overfitting\n",
    "model.add(Dropout(0.25))"
   ]
  },
  {
   "cell_type": "code",
   "execution_count": 18,
   "metadata": {
    "collapsed": true
   },
   "outputs": [],
   "source": [
    "#step2.4.3 建立池化層2, pool_size=(2,2),執行第二次縮減取樣,將16x16的影像縮小為8x8,影像數量仍為64個\n",
    "model.add(MaxPooling2D(pool_size=(2,2)))"
   ]
  },
  {
   "cell_type": "code",
   "execution_count": 19,
   "metadata": {
    "collapsed": true
   },
   "outputs": [],
   "source": [
    "#============================================================================================\n",
    "#step2.5 建立神經網路(平坦層、隱藏層、輸出層)"
   ]
  },
  {
   "cell_type": "code",
   "execution_count": 20,
   "metadata": {
    "collapsed": true
   },
   "outputs": [],
   "source": [
    "#step2.5.1 建立平坦層, Flatten, 將step2.4.3 池化層2 (64x8x8) 轉化為1維向量 4096 個 float (4096個神經元)\n",
    "#          並加入一個「脫線層」Dorpout, 隨機脫線(放棄) 25% 的神經元(rate=0.25), 用以避免 overfitting\n",
    "model.add(Flatten())\n",
    "model.add(Dropout(rate=0.25))"
   ]
  },
  {
   "cell_type": "code",
   "execution_count": 21,
   "metadata": {
    "collapsed": true
   },
   "outputs": [],
   "source": [
    "#step2.5.2 建立一個1024個神經元的隱藏層,使用 Dense(), activation function為 'ReLU'\n",
    "#          同樣加入一個「脫線層」Dorpout, 隨機脫線(放棄) 25% 的神經元(rate=0.25), 用以避免 overfitting\n",
    "model.add(Dense(1024,activation='relu'))\n",
    "model.add(Dropout(rate=0.25))"
   ]
  },
  {
   "cell_type": "code",
   "execution_count": 22,
   "metadata": {
    "collapsed": true
   },
   "outputs": [],
   "source": [
    "#step2.5.3 建立輸出層,共10個神經元,對應到0~9共10個影像類別\n",
    "#          activateion function 為 softmax()\n",
    "model.add(Dense(10,activation='softmax'))"
   ]
  },
  {
   "cell_type": "code",
   "execution_count": 23,
   "metadata": {},
   "outputs": [
    {
     "name": "stdout",
     "output_type": "stream",
     "text": [
      "_________________________________________________________________\n",
      "Layer (type)                 Output Shape              Param #   \n",
      "=================================================================\n",
      "conv2d_1 (Conv2D)            (None, 32, 32, 32)        896       \n",
      "_________________________________________________________________\n",
      "dropout_1 (Dropout)          (None, 32, 32, 32)        0         \n",
      "_________________________________________________________________\n",
      "max_pooling2d_1 (MaxPooling2 (None, 16, 16, 32)        0         \n",
      "_________________________________________________________________\n",
      "conv2d_2 (Conv2D)            (None, 16, 16, 64)        18496     \n",
      "_________________________________________________________________\n",
      "dropout_2 (Dropout)          (None, 16, 16, 64)        0         \n",
      "_________________________________________________________________\n",
      "max_pooling2d_2 (MaxPooling2 (None, 8, 8, 64)          0         \n",
      "_________________________________________________________________\n",
      "flatten_1 (Flatten)          (None, 4096)              0         \n",
      "_________________________________________________________________\n",
      "dropout_3 (Dropout)          (None, 4096)              0         \n",
      "_________________________________________________________________\n",
      "dense_1 (Dense)              (None, 1024)              4195328   \n",
      "_________________________________________________________________\n",
      "dropout_4 (Dropout)          (None, 1024)              0         \n",
      "_________________________________________________________________\n",
      "dense_2 (Dense)              (None, 10)                10250     \n",
      "=================================================================\n",
      "Total params: 4,224,970\n",
      "Trainable params: 4,224,970\n",
      "Non-trainable params: 0\n",
      "_________________________________________________________________\n",
      "None\n"
     ]
    }
   ],
   "source": [
    "#==================================================================================\n",
    "#step2.6 檢視模型的摘要\n",
    "print(model.summary())"
   ]
  },
  {
   "cell_type": "code",
   "execution_count": 24,
   "metadata": {
    "collapsed": true
   },
   "outputs": [],
   "source": [
    "#===================================================================\n",
    "#step3. 進行訓練\n",
    "#step3.1 定義訓練方式, 使用model.compile() method\n",
    "#        loss function --> 'crossentropy'(交叉墒) | optimizer --> 'adam' | metrics(評估方式) --> accuracy \n",
    "#        訓練方法說明: tf_ch03_01_linearRegression.py\n",
    "model.compile(loss='categorical_crossentropy',optimizer='adam',metrics=['accuracy'])"
   ]
  },
  {
   "cell_type": "code",
   "execution_count": 25,
   "metadata": {},
   "outputs": [
    {
     "name": "stdout",
     "output_type": "stream",
     "text": [
      "Loading model weight failed!\n"
     ]
    }
   ],
   "source": [
    "#step3.1a 先檢視是否有之前訓練的模型權重(weight)\n",
    "try:\n",
    "    model.load_weights(\"cifarCNNModel.h5\")\n",
    "    print(\"Loading model weights successfully!\")\n",
    "except:\n",
    "    print(\"Loading model weight failed!\")"
   ]
  },
  {
   "cell_type": "code",
   "execution_count": 26,
   "metadata": {},
   "outputs": [
    {
     "name": "stdout",
     "output_type": "stream",
     "text": [
      "Train on 40000 samples, validate on 10000 samples\n",
      "Epoch 1/5\n",
      "40000/40000 [==============================] - 64s 2ms/step - loss: 1.5033 - acc: 0.4587 - val_loss: 1.2785 - val_acc: 0.5814\n",
      "Epoch 2/5\n",
      "40000/40000 [==============================] - 63s 2ms/step - loss: 1.1385 - acc: 0.5954 - val_loss: 1.1070 - val_acc: 0.6424\n",
      "Epoch 3/5\n",
      "40000/40000 [==============================] - 63s 2ms/step - loss: 0.9837 - acc: 0.6549 - val_loss: 1.0193 - val_acc: 0.6591\n",
      "Epoch 4/5\n",
      "40000/40000 [==============================] - 63s 2ms/step - loss: 0.8748 - acc: 0.6924 - val_loss: 0.9535 - val_acc: 0.6956\n",
      "Epoch 5/5\n",
      "40000/40000 [==============================] - 63s 2ms/step - loss: 0.7834 - acc: 0.7260 - val_loss: 0.8851 - val_acc: 0.7033\n"
     ]
    }
   ],
   "source": [
    "#step3.2 if loading model weight failed, 我們就要重新訓練一個。\n",
    "#        這次，我們的 epochs 設定為 5 就好\n",
    "train_history=model.fit(x_img_train_normalize,y_label_train_OneHot,  #train dataset\n",
    "                        validation_split=0.2,                        #有20%的 validation data\n",
    "                        epochs=5,                                   #訓練週期=5(次)\n",
    "                        batch_size=128,                              #每周期批次量=128\n",
    "                        verbose=1)                                   #verbose 層級 1 "
   ]
  },
  {
   "cell_type": "code",
   "execution_count": 27,
   "metadata": {
    "collapsed": true
   },
   "outputs": [],
   "source": [
    "#step3.3 訓練結束後(5個epochs後),使用 model.save_weights 儲存訓練後的weghts \n",
    "model.save_weights(\"cifarCNNModel.h5\") #在現行目錄"
   ]
  },
  {
   "cell_type": "code",
   "execution_count": 28,
   "metadata": {},
   "outputs": [
    {
     "name": "stdout",
     "output_type": "stream",
     "text": [
      " 磁碟區 E 中的磁碟沒有標籤。\n",
      " 磁碟區序號:  BE0A-1016\n",
      "\n",
      " E:\\worspace\\tensorflow\\py 的目錄\n",
      "\n",
      "2018/09/27  上午 11:35        16,925,000 cifarCNNModel.h5\n",
      "               1 個檔案      16,925,000 位元組\n",
      "               0 個目錄  350,160,732,160 位元組可用\n"
     ]
    }
   ],
   "source": [
    "#檢視檔案\n",
    "!dir *.h5"
   ]
  },
  {
   "cell_type": "code",
   "execution_count": 29,
   "metadata": {},
   "outputs": [
    {
     "name": "stdout",
     "output_type": "stream",
     "text": [
      "Loading model weights successfully!\n"
     ]
    }
   ],
   "source": [
    "#step3.4 重啟訓練，我們先將之前的模型權重檔載入\n",
    "try:\n",
    "    model.load_weights(\"cifarCNNModel.h5\")\n",
    "    print(\"Loading model weights successfully!\")\n",
    "except:\n",
    "    print(\"Loading model weight failed!\")"
   ]
  },
  {
   "cell_type": "code",
   "execution_count": 30,
   "metadata": {},
   "outputs": [
    {
     "name": "stdout",
     "output_type": "stream",
     "text": [
      "Train on 40000 samples, validate on 10000 samples\n",
      "Epoch 1/5\n",
      "40000/40000 [==============================] - 63s 2ms/step - loss: 0.7022 - acc: 0.7498 - val_loss: 0.8195 - val_acc: 0.7288\n",
      "Epoch 2/5\n",
      "40000/40000 [==============================] - 63s 2ms/step - loss: 0.6191 - acc: 0.7824 - val_loss: 0.8102 - val_acc: 0.7295\n",
      "Epoch 3/5\n",
      "40000/40000 [==============================] - 63s 2ms/step - loss: 0.5519 - acc: 0.8041 - val_loss: 0.7823 - val_acc: 0.7423\n",
      "Epoch 4/5\n",
      "40000/40000 [==============================] - 63s 2ms/step - loss: 0.4890 - acc: 0.8288 - val_loss: 0.7536 - val_acc: 0.7460\n",
      "Epoch 5/5\n",
      "40000/40000 [==============================] - 63s 2ms/step - loss: 0.4237 - acc: 0.8512 - val_loss: 0.7566 - val_acc: 0.7448\n"
     ]
    }
   ],
   "source": [
    "#step3.5 模型權重檔載入成功，我們以載入的權重為權重，再作5個epochs訓練\n",
    "train_history_2=model.fit(x_img_train_normalize,y_label_train_OneHot,  #train dataset\n",
    "                        validation_split=0.2,                        #有20%的 validation data\n",
    "                        epochs=5,                                   #訓練週期=5(次)\n",
    "                        batch_size=128,                              #每周期批次量=128\n",
    "                        verbose=1)                                   #verbose 層級 1 "
   ]
  },
  {
   "cell_type": "code",
   "execution_count": null,
   "metadata": {
    "collapsed": true
   },
   "outputs": [],
   "source": []
  }
 ],
 "metadata": {
  "kernelspec": {
   "display_name": "Python 3",
   "language": "python",
   "name": "python3"
  },
  "language_info": {
   "codemirror_mode": {
    "name": "ipython",
    "version": 3
   },
   "file_extension": ".py",
   "mimetype": "text/x-python",
   "name": "python",
   "nbconvert_exporter": "python",
   "pygments_lexer": "ipython3",
   "version": "3.5.3"
  }
 },
 "nbformat": 4,
 "nbformat_minor": 2
}
