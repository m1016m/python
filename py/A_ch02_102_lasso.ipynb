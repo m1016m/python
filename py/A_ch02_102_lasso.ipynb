{
 "cells": [
  {
   "cell_type": "code",
   "execution_count": 1,
   "metadata": {
    "collapsed": true
   },
   "outputs": [],
   "source": [
    "#A_ch02_102_lasso.ipynb\n",
    "#正規化線性迴歸 Lasso (L1 regularization)"
   ]
  },
  {
   "cell_type": "code",
   "execution_count": 2,
   "metadata": {
    "collapsed": true
   },
   "outputs": [],
   "source": [
    "import mglearn\n",
    "import numpy as np\n",
    "import matplotlib.pyplot as plt\n",
    "from sklearn.model_selection import train_test_split"
   ]
  },
  {
   "cell_type": "code",
   "execution_count": 3,
   "metadata": {
    "collapsed": true
   },
   "outputs": [],
   "source": [
    "#step 1. 準備資料 Boston Dataset (506 data point, 105 衍生 feature)\n",
    "X,y=mglearn.datasets.load_extended_boston()\n",
    "X_train,X_test,y_train,y_test=train_test_split(X,y,random_state=0)"
   ]
  },
  {
   "cell_type": "code",
   "execution_count": 4,
   "metadata": {
    "collapsed": true
   },
   "outputs": [],
   "source": [
    "#step 2. 建立與訓練模型\n",
    "from sklearn.linear_model import Lasso #import Lasso\n",
    "from sklearn.linear_model import Ridge #import ridge"
   ]
  },
  {
   "cell_type": "code",
   "execution_count": 5,
   "metadata": {},
   "outputs": [],
   "source": [
    "ridgeModel=Ridge(alpha=0.1).fit(X_train,y_train)"
   ]
  },
  {
   "cell_type": "code",
   "execution_count": 6,
   "metadata": {
    "collapsed": true
   },
   "outputs": [],
   "source": [
    "lassoModel=Lasso().fit(X_train,y_train)"
   ]
  },
  {
   "cell_type": "code",
   "execution_count": 7,
   "metadata": {},
   "outputs": [
    {
     "name": "stdout",
     "output_type": "stream",
     "text": [
      "0.293237689911\n",
      "Number of features used: 4\n"
     ]
    }
   ],
   "source": [
    "#step 3. 評估\n",
    "#train dataset\n",
    "train_score=lassoModel.score(X_train,y_train)\n",
    "print(train_score)\n",
    "print('Number of features used:',np.sum(lassoModel.coef_!=0)) #係數不為零者"
   ]
  },
  {
   "cell_type": "code",
   "execution_count": 8,
   "metadata": {},
   "outputs": [
    {
     "name": "stdout",
     "output_type": "stream",
     "text": [
      "0.209375032553\n",
      "Number of features used: 4\n"
     ]
    }
   ],
   "source": [
    "#test dataset\n",
    "test_score=lassoModel.score(X_test,y_test)\n",
    "print(test_score)\n",
    "print('Number of features used:',np.sum(lassoModel.coef_!=0)) #係數不為零者"
   ]
  },
  {
   "cell_type": "code",
   "execution_count": 9,
   "metadata": {
    "collapsed": true
   },
   "outputs": [],
   "source": [
    "#=========================================================================\n",
    "#Lasso 模型參數調整,alpha,max_iter"
   ]
  },
  {
   "cell_type": "code",
   "execution_count": 10,
   "metadata": {},
   "outputs": [
    {
     "name": "stdout",
     "output_type": "stream",
     "text": [
      "train_score: 0.293237689911\n",
      "test_score:  0.209375032553\n",
      "Number of features used: 4\n"
     ]
    }
   ],
   "source": [
    "#預設 alpha=1.0\n",
    "lassoModel_1=Lasso(1.0).fit(X_train,y_train)\n",
    "train_score=lassoModel_1.score(X_train,y_train)\n",
    "test_score=lassoModel_1.score(X_test,y_test)\n",
    "print('train_score:',train_score)\n",
    "print('test_score: ',test_score)\n",
    "print('Number of features used:',np.sum(lassoModel_1.coef_!=0))"
   ]
  },
  {
   "cell_type": "code",
   "execution_count": 11,
   "metadata": {},
   "outputs": [
    {
     "name": "stdout",
     "output_type": "stream",
     "text": [
      "train_score: 0.896506955975\n",
      "test_score:  0.765648988784\n",
      "Number of features used: 33\n"
     ]
    }
   ],
   "source": [
    "# alpha=0.01, max_iter=100000\n",
    "lassoModel_001=Lasso(alpha=0.01,max_iter=100000).fit(X_train,y_train)\n",
    "train_score=lassoModel_001.score(X_train,y_train)\n",
    "test_score=lassoModel_001.score(X_test,y_test)\n",
    "print('train_score:',train_score)\n",
    "print('test_score: ',test_score)\n",
    "print('Number of features used:',np.sum(lassoModel_001.coef_!=0))"
   ]
  },
  {
   "cell_type": "code",
   "execution_count": 12,
   "metadata": {},
   "outputs": [
    {
     "name": "stdout",
     "output_type": "stream",
     "text": [
      "train_score: 0.951061043618\n",
      "test_score:  0.640309899416\n",
      "Number of features used: 94\n"
     ]
    }
   ],
   "source": [
    "# alpha=0.0001, max_iter=100000\n",
    "lassoModel_00001=Lasso(alpha=0.0001,max_iter=100000).fit(X_train,y_train)\n",
    "train_score=lassoModel_00001.score(X_train,y_train)\n",
    "test_score=lassoModel_00001.score(X_test,y_test)\n",
    "print('train_score:',train_score)\n",
    "print('test_score: ',test_score)\n",
    "print('Number of features used:',np.sum(lassoModel_00001.coef_!=0))"
   ]
  },
  {
   "cell_type": "code",
   "execution_count": 13,
   "metadata": {
    "collapsed": true
   },
   "outputs": [],
   "source": [
    "#======================================================================\n",
    "#繪圖比較 不同alpha值 lasso model"
   ]
  },
  {
   "cell_type": "code",
   "execution_count": 14,
   "metadata": {
    "collapsed": true
   },
   "outputs": [],
   "source": [
    "%matplotlib inline"
   ]
  },
  {
   "cell_type": "code",
   "execution_count": 17,
   "metadata": {},
   "outputs": [
    {
     "data": {
      "text/plain": [
       "<matplotlib.legend.Legend at 0x2921d3225f8>"
      ]
     },
     "execution_count": 17,
     "metadata": {},
     "output_type": "execute_result"
    },
    {
     "data": {
      "image/png": "[encoded data removed]",
      "text/plain": [
       "<matplotlib.figure.Figure at 0x2921d278940>"
      ]
     },
     "metadata": {},
     "output_type": "display_data"
    }
   ],
   "source": [
    "plt.plot(lassoModel_1.coef_,'rs',label='Lasso alpha=1')\n",
    "plt.plot(lassoModel_001.coef_,'g^',label='Lasso alpha=0.01')\n",
    "plt.plot(lassoModel_00001.coef_,'bv',label='Lasso alpha=0.0001')\n",
    "plt.plot(ridgeModel.coef_,'ko',alpha=0.5,label='Ridge alhpa=0.1')\n",
    "plt.ylim(-25,25)\n",
    "plt.xlabel(\"Coefficient index\")\n",
    "plt.ylabel(\"Coefficient magnitude\")\n",
    "plt.legend(loc=0)"
   ]
  },
  {
   "cell_type": "code",
   "execution_count": null,
   "metadata": {
    "collapsed": true
   },
   "outputs": [],
   "source": []
  }
 ],
 "metadata": {
  "anaconda-cloud": {},
  "kernelspec": {
   "display_name": "Python [conda root]",
   "language": "python",
   "name": "conda-root-py"
  },
  "language_info": {
   "codemirror_mode": {
    "name": "ipython",
    "version": 3
   },
   "file_extension": ".py",
   "mimetype": "text/x-python",
   "name": "python",
   "nbconvert_exporter": "python",
   "pygments_lexer": "ipython3",
   "version": "3.5.2"
  }
 },
 "nbformat": 4,
 "nbformat_minor": 1
}
