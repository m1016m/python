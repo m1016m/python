{
 "cells": [
  {
   "cell_type": "code",
   "execution_count": 1,
   "metadata": {
    "collapsed": true
   },
   "outputs": [],
   "source": [
    "#ch14_NLP_RNN_03.ipynb\n",
    "#以Keras建立RNN model，進行IMDb情緒分析\n",
    "#改善模型, 使用較大的字典(2000-->3800),加大「數字list」(100-->380)"
   ]
  },
  {
   "cell_type": "code",
   "execution_count": 2,
   "metadata": {
    "collapsed": true
   },
   "outputs": [],
   "source": [
    "#=============================================================\n",
    "#step 0. 資料預處理"
   ]
  },
  {
   "cell_type": "code",
   "execution_count": 3,
   "metadata": {},
   "outputs": [
    {
     "name": "stderr",
     "output_type": "stream",
     "text": [
      "C:\\ProgramData\\Anaconda3\\envs\\tensorflow\\lib\\site-packages\\h5py\\__init__.py:36: FutureWarning: Conversion of the second argument of issubdtype from `float` to `np.floating` is deprecated. In future, it will be treated as `np.float64 == np.dtype(float).type`.\n",
      "  from ._conv import register_converters as _register_converters\n",
      "Using TensorFlow backend.\n"
     ]
    }
   ],
   "source": [
    "#step 0.1 匯入所需模組\n",
    "from keras.datasets import imdb\n",
    "from keras.preprocessing import sequence\n",
    "from keras.preprocessing.text import Tokenizer"
   ]
  },
  {
   "cell_type": "code",
   "execution_count": 4,
   "metadata": {
    "collapsed": true
   },
   "outputs": [],
   "source": [
    "#step 0.2 讀取IMDb資料集目錄,以read_file() function, toolFuction.py\n",
    "# import toolFuction\n",
    "import toolFunction"
   ]
  },
  {
   "cell_type": "code",
   "execution_count": 5,
   "metadata": {},
   "outputs": [
    {
     "name": "stdout",
     "output_type": "stream",
     "text": [
      "read train files: 25000\n"
     ]
    }
   ],
   "source": [
    "#讀取訓練資料 'train'\n",
    "y_train,train_text=toolFunction.read_files('train')"
   ]
  },
  {
   "cell_type": "code",
   "execution_count": 6,
   "metadata": {},
   "outputs": [
    {
     "name": "stdout",
     "output_type": "stream",
     "text": [
      "read test files: 25000\n"
     ]
    }
   ],
   "source": [
    "#讀取測試資料 'test'\n",
    "y_test,test_text=toolFunction.read_files('test')"
   ]
  },
  {
   "cell_type": "code",
   "execution_count": 7,
   "metadata": {
    "collapsed": true
   },
   "outputs": [],
   "source": [
    "#step 0.3 建立 token 字典, num_words=3800 (將token字典由 2000-->3800)\n",
    "token=Tokenizer(num_words=3800) #指定要建立3800字的token字典\n",
    "token.fit_on_texts(train_text) #以token.fit_on_texts(), fit資料 \"train_text\" "
   ]
  },
  {
   "cell_type": "code",
   "execution_count": 8,
   "metadata": {
    "collapsed": true
   },
   "outputs": [],
   "source": [
    "#step 0.4 將「影評文字」對應 token 字典,轉換成「數字list」\n",
    "#         以 Tokenizer.texts_to_sequences() \n",
    "x_train_seq=token.texts_to_sequences(train_text) \n",
    "x_test_seq=token.texts_to_sequences(test_text)"
   ]
  },
  {
   "cell_type": "code",
   "execution_count": 9,
   "metadata": {
    "collapsed": true
   },
   "outputs": [],
   "source": [
    "#step 0.5 截長補短,將所有「數字list」裁成長度380 (100-->380)\n",
    "#         以sequence.pad_sequences()\n",
    "x_train=sequence.pad_sequences(x_train_seq,maxlen=380)\n",
    "x_test=sequence.pad_sequences(x_test_seq,maxlen=380)"
   ]
  },
  {
   "cell_type": "code",
   "execution_count": 10,
   "metadata": {
    "collapsed": true
   },
   "outputs": [],
   "source": [
    "#=============================================================================\n",
    "#step 1. 加入Embeding 層, Keras提供Embedding層可以將「數字list」轉換為「向量list」\n",
    "#        關於詞向量"
   ]
  },
  {
   "cell_type": "code",
   "execution_count": 11,
   "metadata": {
    "collapsed": true
   },
   "outputs": [],
   "source": [
    "#step 1.1 匯入所需模組\n",
    "from keras.models import Sequential\n",
    "from keras.layers.core import Dense,Dropout,Activation,Flatten\n",
    "from keras.layers.embeddings import Embedding\n",
    "from keras.layers.recurrent import SimpleRNN #SimpleRNN model"
   ]
  },
  {
   "cell_type": "code",
   "execution_count": 12,
   "metadata": {
    "collapsed": true
   },
   "outputs": [],
   "source": [
    "#step 1.2 建立模型, 建立一個 Sequential model (線性堆疊模型)\n",
    "#         後續, 我們將各NN層加入model\n",
    "model=Sequential()"
   ]
  },
  {
   "cell_type": "code",
   "execution_count": 13,
   "metadata": {
    "collapsed": true
   },
   "outputs": [],
   "source": [
    "#step 1.3 將「Embedding」層加到 Sequential model\n",
    "model.add(Embedding(output_dim=32,       #設定向量維度 32\n",
    "                    input_dim=3800,      #token 字典, 字數3800\n",
    "                    input_length=380))   #每個資料點(每筆資料都已裁成長度380)\n",
    "model.add(Dropout(0.35))  #加入Dropout()層,避免overfitting"
   ]
  },
  {
   "cell_type": "code",
   "execution_count": 14,
   "metadata": {
    "collapsed": true
   },
   "outputs": [],
   "source": [
    "#==========================================================================\n",
    "#step 2. 建立 RNN model(Simple RNN) "
   ]
  },
  {
   "cell_type": "code",
   "execution_count": 15,
   "metadata": {
    "collapsed": true
   },
   "outputs": [],
   "source": [
    "#step 2.1 將 「RNN」層加入 model\n",
    "model.add(SimpleRNN(units=16)) #16個神經元"
   ]
  },
  {
   "cell_type": "code",
   "execution_count": 16,
   "metadata": {
    "collapsed": true
   },
   "outputs": [],
   "source": [
    "#step 2.2 將 「hidden」(隱藏層)加入 model, 使用 Dense()\n",
    "model.add(Dense(units=256,activation='relu'))\n",
    "model.add(Dropout(0.35))  #加入Dropout()層,避免overfitting"
   ]
  },
  {
   "cell_type": "code",
   "execution_count": 17,
   "metadata": {
    "collapsed": true
   },
   "outputs": [],
   "source": [
    "#step 2.3 將「output」(輸出層)加入 model,使用 Dense(), \n",
    "model.add(Dense(units=1,\n",
    "                activation='sigmoid')) #activation function--> sigmoid"
   ]
  },
  {
   "cell_type": "code",
   "execution_count": 18,
   "metadata": {},
   "outputs": [
    {
     "name": "stdout",
     "output_type": "stream",
     "text": [
      "_________________________________________________________________\n",
      "Layer (type)                 Output Shape              Param #   \n",
      "=================================================================\n",
      "embedding_1 (Embedding)      (None, 380, 32)           121600    \n",
      "_________________________________________________________________\n",
      "dropout_1 (Dropout)          (None, 380, 32)           0         \n",
      "_________________________________________________________________\n",
      "simple_rnn_1 (SimpleRNN)     (None, 16)                784       \n",
      "_________________________________________________________________\n",
      "dense_1 (Dense)              (None, 256)               4352      \n",
      "_________________________________________________________________\n",
      "dropout_2 (Dropout)          (None, 256)               0         \n",
      "_________________________________________________________________\n",
      "dense_2 (Dense)              (None, 1)                 257       \n",
      "=================================================================\n",
      "Total params: 126,993\n",
      "Trainable params: 126,993\n",
      "Non-trainable params: 0\n",
      "_________________________________________________________________\n"
     ]
    }
   ],
   "source": [
    "#step 2.4 檢視模型摘要\n",
    "model.summary()"
   ]
  },
  {
   "cell_type": "code",
   "execution_count": 19,
   "metadata": {
    "collapsed": true
   },
   "outputs": [],
   "source": [
    "#====================================================================\n",
    "#step 4. 訓練模型, 使用反向傳播演算法"
   ]
  },
  {
   "cell_type": "code",
   "execution_count": 20,
   "metadata": {
    "collapsed": true
   },
   "outputs": [],
   "source": [
    "#step 4.1 定義訓練方式, 使用 compile() method\n",
    "model.compile(loss='binary_crossentropy', #設定損失函數為 cross_entropy\n",
    "             optimizer='adam',            #設定優化方法 'adam'\n",
    "             metrics=['accuracy'])        #評估模型方式是 accuracy 準確率"
   ]
  },
  {
   "cell_type": "code",
   "execution_count": 21,
   "metadata": {},
   "outputs": [
    {
     "name": "stdout",
     "output_type": "stream",
     "text": [
      "Train on 20000 samples, validate on 5000 samples\n",
      "Epoch 1/10\n",
      " - 18s - loss: 0.5233 - acc: 0.7334 - val_loss: 0.4357 - val_acc: 0.8340\n",
      "Epoch 2/10\n",
      " - 14s - loss: 0.3343 - acc: 0.8618 - val_loss: 0.4228 - val_acc: 0.8164\n",
      "Epoch 3/10\n",
      " - 14s - loss: 0.2821 - acc: 0.8880 - val_loss: 0.3783 - val_acc: 0.8662\n",
      "Epoch 4/10\n",
      " - 14s - loss: 0.2557 - acc: 0.8990 - val_loss: 0.4638 - val_acc: 0.8214\n",
      "Epoch 5/10\n",
      " - 14s - loss: 0.2105 - acc: 0.9207 - val_loss: 0.4589 - val_acc: 0.8354\n",
      "Epoch 6/10\n",
      " - 14s - loss: 0.1752 - acc: 0.9358 - val_loss: 0.5691 - val_acc: 0.7810\n",
      "Epoch 7/10\n",
      " - 14s - loss: 0.1501 - acc: 0.9453 - val_loss: 0.7257 - val_acc: 0.7490\n",
      "Epoch 8/10\n",
      " - 14s - loss: 0.1354 - acc: 0.9493 - val_loss: 0.6698 - val_acc: 0.8238\n",
      "Epoch 9/10\n",
      " - 13s - loss: 0.1043 - acc: 0.9621 - val_loss: 0.8654 - val_acc: 0.7846\n",
      "Epoch 10/10\n",
      " - 13s - loss: 0.1013 - acc: 0.9632 - val_loss: 1.0792 - val_acc: 0.7166\n"
     ]
    }
   ],
   "source": [
    "#step 4.2 開始訓練\n",
    "train_history=model.fit(x_train,y_train,batch_size=100,\n",
    "                        epochs=10,verbose=2,\n",
    "                        validation_split=0.2)"
   ]
  },
  {
   "cell_type": "code",
   "execution_count": 22,
   "metadata": {},
   "outputs": [
    {
     "data": {
      "image/png": "[encoded data removed]",
      "text/plain": [
       "<matplotlib.figure.Figure at 0x28b5bb22320>"
      ]
     },
     "metadata": {},
     "output_type": "display_data"
    }
   ],
   "source": [
    "#step 4.3 畫出 accuracy 執行結果, 使用 show_train_history\n",
    "%matplotlib inline\n",
    "toolFunction.show_train_history(train_history,'acc','val_acc')"
   ]
  },
  {
   "cell_type": "code",
   "execution_count": null,
   "metadata": {},
   "outputs": [
    {
     "name": "stdout",
     "output_type": "stream",
     "text": [
      " 5664/25000 [=====>........................] - ETA: 21s"
     ]
    }
   ],
   "source": [
    "#評估模型準確率\n",
    "scores = model.evaluate(x_test, y_test, verbose=1)\n",
    "scores[1]"
   ]
  },
  {
   "cell_type": "code",
   "execution_count": 28,
   "metadata": {
    "collapsed": true
   },
   "outputs": [],
   "source": [
    "#====================================================================================\n",
    "#???  0.8299"
   ]
  },
  {
   "cell_type": "code",
   "execution_count": null,
   "metadata": {
    "collapsed": true
   },
   "outputs": [],
   "source": []
  }
 ],
 "metadata": {
  "kernelspec": {
   "display_name": "Python 3",
   "language": "python",
   "name": "python3"
  },
  "language_info": {
   "codemirror_mode": {
    "name": "ipython",
    "version": 3
   },
   "file_extension": ".py",
   "mimetype": "text/x-python",
   "name": "python",
   "nbconvert_exporter": "python",
   "pygments_lexer": "ipython3",
   "version": "3.5.4"
  }
 },
 "nbformat": 4,
 "nbformat_minor": 2
}
