{
 "cells": [
  {
   "cell_type": "code",
   "execution_count": 1,
   "metadata": {
    "collapsed": true
   },
   "outputs": [],
   "source": [
    "#04_Numpy_05_20160508"
   ]
  },
  {
   "cell_type": "code",
   "execution_count": 2,
   "metadata": {
    "collapsed": true
   },
   "outputs": [],
   "source": [
    "import numpy as np #import numpy as np"
   ]
  },
  {
   "cell_type": "code",
   "execution_count": 3,
   "metadata": {
    "collapsed": true
   },
   "outputs": [],
   "source": [
    "from numpy.random import randn #from numpy.random import randn"
   ]
  },
  {
   "cell_type": "code",
   "execution_count": 4,
   "metadata": {
    "collapsed": false
   },
   "outputs": [],
   "source": [
    "import matplotlib.pyplot as plt #import matplotlib.pyplot as plt"
   ]
  },
  {
   "cell_type": "code",
   "execution_count": 5,
   "metadata": {
    "collapsed": true
   },
   "outputs": [],
   "source": [
    "%matplotlib inline"
   ]
  },
  {
   "cell_type": "code",
   "execution_count": 6,
   "metadata": {
    "collapsed": true
   },
   "outputs": [],
   "source": [
    "#Mathematical and Statistical Methods"
   ]
  },
  {
   "cell_type": "code",
   "execution_count": 7,
   "metadata": {
    "collapsed": true
   },
   "outputs": [],
   "source": [
    "#Aggregations (often called reductions) like sum, mean, and standard deviation std"
   ]
  },
  {
   "cell_type": "code",
   "execution_count": 8,
   "metadata": {
    "collapsed": true
   },
   "outputs": [],
   "source": [
    "arr=np.random.randn(5,4) #製作一組 normally-distributed data"
   ]
  },
  {
   "cell_type": "code",
   "execution_count": 9,
   "metadata": {
    "collapsed": false
   },
   "outputs": [
    {
     "data": {
      "text/plain": [
       "array([[ 1.40576806,  0.60541517,  0.94673884,  0.09469963],\n",
       "       [-0.11649694, -0.04106679,  1.12607491, -0.92142958],\n",
       "       [-0.54507579,  0.47690486,  0.11761088, -0.59496561],\n",
       "       [ 1.42659866, -0.5678367 , -1.06960921,  0.5180088 ],\n",
       "       [-0.43627296,  2.08519442,  0.50444702, -0.81700386]])"
      ]
     },
     "execution_count": 9,
     "metadata": {},
     "output_type": "execute_result"
    }
   ],
   "source": [
    "arr #numpy.ndarray object"
   ]
  },
  {
   "cell_type": "code",
   "execution_count": 10,
   "metadata": {
    "collapsed": false
   },
   "outputs": [
    {
     "data": {
      "text/plain": [
       "0.2098851899656467"
      ]
     },
     "execution_count": 10,
     "metadata": {},
     "output_type": "execute_result"
    }
   ],
   "source": [
    "arr.mean() #叫用 mean() method  "
   ]
  },
  {
   "cell_type": "code",
   "execution_count": 11,
   "metadata": {
    "collapsed": false
   },
   "outputs": [
    {
     "data": {
      "text/plain": [
       "4.1977037993129338"
      ]
     },
     "execution_count": 11,
     "metadata": {},
     "output_type": "execute_result"
    }
   ],
   "source": [
    "arr.sum() #叫用 sum() method"
   ]
  },
  {
   "cell_type": "code",
   "execution_count": 12,
   "metadata": {
    "collapsed": false
   },
   "outputs": [
    {
     "data": {
      "text/plain": [
       "(5, 4)"
      ]
     },
     "execution_count": 12,
     "metadata": {},
     "output_type": "execute_result"
    }
   ],
   "source": [
    "arr.shape"
   ]
  },
  {
   "cell_type": "code",
   "execution_count": 13,
   "metadata": {
    "collapsed": false
   },
   "outputs": [
    {
     "data": {
      "text/plain": [
       "array([ 0.34690421,  0.51172219,  0.32505249, -0.34413813])"
      ]
     },
     "execution_count": 13,
     "metadata": {},
     "output_type": "execute_result"
    }
   ],
   "source": [
    "arr.mean(axis=0) #沿axis0 計算"
   ]
  },
  {
   "cell_type": "code",
   "execution_count": 14,
   "metadata": {
    "collapsed": false
   },
   "outputs": [
    {
     "data": {
      "text/plain": [
       "array([ 3.0526217 ,  0.0470816 , -0.54552566,  0.30716156,  1.3363646 ])"
      ]
     },
     "execution_count": 14,
     "metadata": {},
     "output_type": "execute_result"
    }
   ],
   "source": [
    "arr.sum(1) #沿axis1 計算"
   ]
  },
  {
   "cell_type": "code",
   "execution_count": 15,
   "metadata": {
    "collapsed": true
   },
   "outputs": [],
   "source": [
    "#cumsum and cumprod do not aggregate"
   ]
  },
  {
   "cell_type": "code",
   "execution_count": 16,
   "metadata": {
    "collapsed": true
   },
   "outputs": [],
   "source": [
    "arr02=np.array([[0,1,2],[3,4,5],[6,7,8]])"
   ]
  },
  {
   "cell_type": "code",
   "execution_count": 17,
   "metadata": {
    "collapsed": false
   },
   "outputs": [
    {
     "data": {
      "text/plain": [
       "array([[0, 1, 2],\n",
       "       [3, 4, 5],\n",
       "       [6, 7, 8]])"
      ]
     },
     "execution_count": 17,
     "metadata": {},
     "output_type": "execute_result"
    }
   ],
   "source": [
    "arr02 #numpy.ndarray objecta"
   ]
  },
  {
   "cell_type": "code",
   "execution_count": 18,
   "metadata": {
    "collapsed": false
   },
   "outputs": [
    {
     "data": {
      "text/plain": [
       "array([[ 0,  1,  2],\n",
       "       [ 3,  5,  7],\n",
       "       [ 9, 12, 15]], dtype=int32)"
      ]
     },
     "execution_count": 18,
     "metadata": {},
     "output_type": "execute_result"
    }
   ],
   "source": [
    "arr02.cumsum(0) #沿著 axis0 累加\n",
    "                #    0,    1,    2\n",
    "                #  0+3,  1+4,  2+5\n",
    "                #0+3+6,1+4+7,2+5+8"
   ]
  },
  {
   "cell_type": "code",
   "execution_count": 19,
   "metadata": {
    "collapsed": false
   },
   "outputs": [
    {
     "data": {
      "text/plain": [
       "array([[  0,   0,   0],\n",
       "       [  3,  12,  60],\n",
       "       [  6,  42, 336]], dtype=int32)"
      ]
     },
     "execution_count": 19,
     "metadata": {},
     "output_type": "execute_result"
    }
   ],
   "source": [
    "arr02.cumprod(1) #沿著 axis1 \n",
    "                 # 0, 0*1, 0*1*2\n",
    "                 # 3, 3*4, 3*4*5\n",
    "                 # 6, 6*7, 6*7*8"
   ]
  },
  {
   "cell_type": "code",
   "execution_count": 20,
   "metadata": {
    "collapsed": true
   },
   "outputs": [],
   "source": [
    "# Methods for Boolean Arrays"
   ]
  },
  {
   "cell_type": "code",
   "execution_count": 21,
   "metadata": {
    "collapsed": true
   },
   "outputs": [],
   "source": [
    "arr03=randn(100)"
   ]
  },
  {
   "cell_type": "code",
   "execution_count": 22,
   "metadata": {
    "collapsed": false
   },
   "outputs": [
    {
     "data": {
      "text/plain": [
       "array([ 0.54665513, -0.72410648, -1.28394563, -0.3008683 , -0.63242565,\n",
       "       -0.55219407,  1.2877984 , -1.35717933, -0.01738355, -0.4753172 ,\n",
       "        1.89369944,  0.57207989,  2.31372138,  1.66226048,  0.19161508,\n",
       "        0.4375482 , -1.55297621,  0.34653601,  0.37642058, -0.88787637,\n",
       "        2.35808239,  0.26051455,  0.43091721, -0.47486801,  1.61370646,\n",
       "        0.27140846, -1.59236896,  0.20396375,  1.36138757, -0.60010193,\n",
       "       -1.13439287,  0.45069886, -0.16478636, -0.93409243, -1.41328922,\n",
       "       -0.17778385, -1.48276565, -0.29580734, -0.2363087 ,  1.41788243,\n",
       "        0.38681303,  1.28099031, -0.34824161,  0.63948581, -0.56512685,\n",
       "        0.32702067,  0.17163924, -0.74938425,  0.89081971,  1.09745973,\n",
       "        1.0088317 , -0.29332605, -0.7999299 ,  1.05315885,  0.12170105,\n",
       "        0.26695518,  0.80131209,  0.32067873, -0.9073989 , -0.0201813 ,\n",
       "        0.859068  ,  0.75643334,  0.02139729, -0.46886494,  0.60207411,\n",
       "        0.2295929 , -1.30359248,  0.0349273 ,  1.83303907, -0.70208776,\n",
       "       -0.61735789, -0.29512567,  0.66866304, -0.28865528, -1.62379923,\n",
       "       -1.21492057, -0.98609642, -0.11868818, -0.77658472, -0.41739381,\n",
       "        0.59456941,  0.15908759,  0.96074389,  1.15920863, -2.13349244,\n",
       "       -1.00026893, -0.39794623,  0.72996741, -0.07947169,  0.08505602,\n",
       "        1.37273808, -0.48511878, -0.35615446,  0.50813416,  0.572785  ,\n",
       "        1.96840167,  0.80218579, -0.02931161,  0.65058936,  0.01313913])"
      ]
     },
     "execution_count": 22,
     "metadata": {},
     "output_type": "execute_result"
    }
   ],
   "source": [
    "arr03"
   ]
  },
  {
   "cell_type": "code",
   "execution_count": 24,
   "metadata": {
    "collapsed": false
   },
   "outputs": [
    {
     "data": {
      "text/plain": [
       "53"
      ]
     },
     "execution_count": 24,
     "metadata": {},
     "output_type": "execute_result"
    }
   ],
   "source": [
    "(arr03 > 0).sum() #arr03 中 正數的個數, 在這些方法中布林值會被強制轉換為1(True), 0(False) \n",
    "                  #sum() 用來計算 True 的個數"
   ]
  },
  {
   "cell_type": "code",
   "execution_count": 25,
   "metadata": {
    "collapsed": true
   },
   "outputs": [],
   "source": [
    "#any() and all()"
   ]
  },
  {
   "cell_type": "code",
   "execution_count": 26,
   "metadata": {
    "collapsed": true
   },
   "outputs": [],
   "source": [
    "bool_arr=np.array([False,False,True,False]) #create a bool array"
   ]
  },
  {
   "cell_type": "code",
   "execution_count": 27,
   "metadata": {
    "collapsed": false
   },
   "outputs": [
    {
     "data": {
      "text/plain": [
       "True"
      ]
     },
     "execution_count": 27,
     "metadata": {},
     "output_type": "execute_result"
    }
   ],
   "source": [
    "bool_arr.any() #any(), 檢視 bool_arr 中是否有 True 值"
   ]
  },
  {
   "cell_type": "code",
   "execution_count": 28,
   "metadata": {
    "collapsed": true
   },
   "outputs": [],
   "source": [
    "arr04=np.array([4,5,7]) #numpy.ndarray object arr04 "
   ]
  },
  {
   "cell_type": "code",
   "execution_count": 29,
   "metadata": {
    "collapsed": false
   },
   "outputs": [
    {
     "data": {
      "text/plain": [
       "array([4, 5, 7])"
      ]
     },
     "execution_count": 29,
     "metadata": {},
     "output_type": "execute_result"
    }
   ],
   "source": [
    "arr04"
   ]
  },
  {
   "cell_type": "code",
   "execution_count": 30,
   "metadata": {
    "collapsed": false
   },
   "outputs": [
    {
     "data": {
      "text/plain": [
       "True"
      ]
     },
     "execution_count": 30,
     "metadata": {},
     "output_type": "execute_result"
    }
   ],
   "source": [
    "(arr04 > 5).any() #檢視 (arr04 > 5) 有無任一個 True"
   ]
  },
  {
   "cell_type": "code",
   "execution_count": 31,
   "metadata": {
    "collapsed": false
   },
   "outputs": [
    {
     "data": {
      "text/plain": [
       "False"
      ]
     },
     "execution_count": 31,
     "metadata": {},
     "output_type": "execute_result"
    }
   ],
   "source": [
    "(arr04 > 5).all() #檢視 (arr04 > 5) 每一個是否皆為 True, 結果為 False"
   ]
  },
  {
   "cell_type": "code",
   "execution_count": 32,
   "metadata": {
    "collapsed": false
   },
   "outputs": [
    {
     "data": {
      "text/plain": [
       "True"
      ]
     },
     "execution_count": 32,
     "metadata": {},
     "output_type": "execute_result"
    }
   ],
   "source": [
    "(arr04 > 3).all() #檢視 (arr04 > 5) 每一個是否皆為 True, 結果為 True"
   ]
  },
  {
   "cell_type": "code",
   "execution_count": 34,
   "metadata": {
    "collapsed": true
   },
   "outputs": [],
   "source": [
    "#練習:\n",
    "#arr041=np.array([[120,-144,20],[390,-13,-90],[-490,89,130]])\n",
    "#(arr041.sum(axis=1) > 0).all() "
   ]
  },
  {
   "cell_type": "code",
   "execution_count": 33,
   "metadata": {
    "collapsed": true
   },
   "outputs": [],
   "source": [
    "#sorting"
   ]
  },
  {
   "cell_type": "code",
   "execution_count": 33,
   "metadata": {
    "collapsed": true
   },
   "outputs": [],
   "source": [
    "arr05=randn(8)"
   ]
  },
  {
   "cell_type": "code",
   "execution_count": 34,
   "metadata": {
    "collapsed": false
   },
   "outputs": [
    {
     "data": {
      "text/plain": [
       "array([-0.27316483,  1.27613207, -1.11408063, -1.57396713,  0.34146587,\n",
       "        0.29652747, -0.65683066,  0.09043367])"
      ]
     },
     "execution_count": 34,
     "metadata": {},
     "output_type": "execute_result"
    }
   ],
   "source": [
    "arr05"
   ]
  },
  {
   "cell_type": "code",
   "execution_count": 35,
   "metadata": {
    "collapsed": true
   },
   "outputs": [],
   "source": [
    "arr05.sort() #沒有copy, 就是 arr05 自身排序"
   ]
  },
  {
   "cell_type": "code",
   "execution_count": 36,
   "metadata": {
    "collapsed": false
   },
   "outputs": [
    {
     "data": {
      "text/plain": [
       "array([-1.57396713, -1.11408063, -0.65683066, -0.27316483,  0.09043367,\n",
       "        0.29652747,  0.34146587,  1.27613207])"
      ]
     },
     "execution_count": 36,
     "metadata": {},
     "output_type": "execute_result"
    }
   ],
   "source": [
    "arr05"
   ]
  },
  {
   "cell_type": "code",
   "execution_count": 37,
   "metadata": {
    "collapsed": true
   },
   "outputs": [],
   "source": [
    "#多維陣列,沿某一 axis 排序"
   ]
  },
  {
   "cell_type": "code",
   "execution_count": 38,
   "metadata": {
    "collapsed": true
   },
   "outputs": [],
   "source": [
    "arr06=randn(5,3)"
   ]
  },
  {
   "cell_type": "code",
   "execution_count": 39,
   "metadata": {
    "collapsed": false
   },
   "outputs": [
    {
     "data": {
      "text/plain": [
       "array([[-1.2009874 ,  0.08850827,  0.24332165],\n",
       "       [ 0.30025798,  0.66041628, -0.38547847],\n",
       "       [-1.68972025, -0.55672062,  0.48360287],\n",
       "       [-0.41605056, -0.71615916,  0.86003035],\n",
       "       [-0.39175125,  0.70582012,  0.13813161]])"
      ]
     },
     "execution_count": 39,
     "metadata": {},
     "output_type": "execute_result"
    }
   ],
   "source": [
    "arr06"
   ]
  },
  {
   "cell_type": "code",
   "execution_count": 40,
   "metadata": {
    "collapsed": true
   },
   "outputs": [],
   "source": [
    "arr06.sort(0) #沿 axis0 sorting"
   ]
  },
  {
   "cell_type": "code",
   "execution_count": 41,
   "metadata": {
    "collapsed": false
   },
   "outputs": [
    {
     "data": {
      "text/plain": [
       "array([[-1.68972025, -0.71615916, -0.38547847],\n",
       "       [-1.2009874 , -0.55672062,  0.13813161],\n",
       "       [-0.41605056,  0.08850827,  0.24332165],\n",
       "       [-0.39175125,  0.66041628,  0.48360287],\n",
       "       [ 0.30025798,  0.70582012,  0.86003035]])"
      ]
     },
     "execution_count": 41,
     "metadata": {},
     "output_type": "execute_result"
    }
   ],
   "source": [
    "arr06"
   ]
  },
  {
   "cell_type": "code",
   "execution_count": 42,
   "metadata": {
    "collapsed": true
   },
   "outputs": [],
   "source": [
    "arr06.sort(1) #沿 axis1 sorting"
   ]
  },
  {
   "cell_type": "code",
   "execution_count": 43,
   "metadata": {
    "collapsed": false
   },
   "outputs": [
    {
     "data": {
      "text/plain": [
       "array([[-1.68972025, -0.71615916, -0.38547847],\n",
       "       [-1.2009874 , -0.55672062,  0.13813161],\n",
       "       [-0.41605056,  0.08850827,  0.24332165],\n",
       "       [-0.39175125,  0.48360287,  0.66041628],\n",
       "       [ 0.30025798,  0.70582012,  0.86003035]])"
      ]
     },
     "execution_count": 43,
     "metadata": {},
     "output_type": "execute_result"
    }
   ],
   "source": [
    "arr06"
   ]
  },
  {
   "cell_type": "code",
   "execution_count": 44,
   "metadata": {
    "collapsed": true
   },
   "outputs": [],
   "source": [
    "#利用 sort 及 slice 取前面 10%的資料"
   ]
  },
  {
   "cell_type": "code",
   "execution_count": 45,
   "metadata": {
    "collapsed": true
   },
   "outputs": [],
   "source": [
    "arr07=randn(100) "
   ]
  },
  {
   "cell_type": "code",
   "execution_count": 46,
   "metadata": {
    "collapsed": false
   },
   "outputs": [
    {
     "data": {
      "text/plain": [
       "array([ 1.91638473,  0.23994593,  0.15329653, -0.29629913, -1.18904552,\n",
       "       -0.03992272, -0.67738844, -0.16635251, -2.10037506, -0.45951526,\n",
       "        0.74971193, -0.48745147, -0.00746754, -0.07255009, -0.90356833,\n",
       "        0.06291296,  0.17473576, -0.4899817 , -0.00900906,  0.4205378 ,\n",
       "        0.18470658,  1.02867941,  0.12797024, -0.91767042,  0.1363749 ,\n",
       "        0.97164813,  0.38395896,  0.84603163,  1.35728257, -1.65229928,\n",
       "       -1.60168851, -0.27027453, -0.58193016,  1.58161214, -0.5926414 ,\n",
       "       -1.76605129,  0.39870449,  0.31958789,  1.06269339, -1.30766491,\n",
       "       -0.91206324,  0.32052875, -0.3912391 , -1.03220099,  0.44227307,\n",
       "       -1.12033357,  1.46899038, -1.53282873,  0.98256737, -1.13125182,\n",
       "        0.32670241,  0.26972285, -1.42766765, -1.15215368,  0.6792135 ,\n",
       "       -0.47397515, -1.665165  , -0.1803816 , -0.78280541, -0.47425531,\n",
       "        0.41891005, -1.91072157, -1.0663103 ,  0.92605252, -0.34765855,\n",
       "        0.16334256,  1.53177651, -0.18676499,  0.01440156, -1.88429805,\n",
       "        0.31683764,  0.93551381, -0.37126017, -1.05670129, -0.9374375 ,\n",
       "       -0.31922388, -0.84224689,  1.21818558,  0.96450261, -0.31721888,\n",
       "        1.6117195 ,  0.07537365,  1.25209221,  0.49924424,  1.8786485 ,\n",
       "       -1.03220014,  1.79965196,  1.77766516, -0.32224058,  1.17825413,\n",
       "        0.09293362, -0.09016079,  0.84348945, -0.17944946, -2.24615266,\n",
       "       -1.48494749, -0.83189965, -0.65210696, -1.06548608, -0.03329268])"
      ]
     },
     "execution_count": 46,
     "metadata": {},
     "output_type": "execute_result"
    }
   ],
   "source": [
    "arr07"
   ]
  },
  {
   "cell_type": "code",
   "execution_count": 47,
   "metadata": {
    "collapsed": true
   },
   "outputs": [],
   "source": [
    "arr07.sort()"
   ]
  },
  {
   "cell_type": "code",
   "execution_count": 48,
   "metadata": {
    "collapsed": false
   },
   "outputs": [
    {
     "data": {
      "text/plain": [
       "array([-2.24615266, -2.10037506, -1.91072157, -1.88429805, -1.76605129,\n",
       "       -1.665165  , -1.65229928, -1.60168851, -1.53282873, -1.48494749,\n",
       "       -1.42766765, -1.30766491, -1.18904552, -1.15215368, -1.13125182,\n",
       "       -1.12033357, -1.0663103 , -1.06548608, -1.05670129, -1.03220099,\n",
       "       -1.03220014, -0.9374375 , -0.91767042, -0.91206324, -0.90356833,\n",
       "       -0.84224689, -0.83189965, -0.78280541, -0.67738844, -0.65210696,\n",
       "       -0.5926414 , -0.58193016, -0.4899817 , -0.48745147, -0.47425531,\n",
       "       -0.47397515, -0.45951526, -0.3912391 , -0.37126017, -0.34765855,\n",
       "       -0.32224058, -0.31922388, -0.31721888, -0.29629913, -0.27027453,\n",
       "       -0.18676499, -0.1803816 , -0.17944946, -0.16635251, -0.09016079,\n",
       "       -0.07255009, -0.03992272, -0.03329268, -0.00900906, -0.00746754,\n",
       "        0.01440156,  0.06291296,  0.07537365,  0.09293362,  0.12797024,\n",
       "        0.1363749 ,  0.15329653,  0.16334256,  0.17473576,  0.18470658,\n",
       "        0.23994593,  0.26972285,  0.31683764,  0.31958789,  0.32052875,\n",
       "        0.32670241,  0.38395896,  0.39870449,  0.41891005,  0.4205378 ,\n",
       "        0.44227307,  0.49924424,  0.6792135 ,  0.74971193,  0.84348945,\n",
       "        0.84603163,  0.92605252,  0.93551381,  0.96450261,  0.97164813,\n",
       "        0.98256737,  1.02867941,  1.06269339,  1.17825413,  1.21818558,\n",
       "        1.25209221,  1.35728257,  1.46899038,  1.53177651,  1.58161214,\n",
       "        1.6117195 ,  1.77766516,  1.79965196,  1.8786485 ,  1.91638473])"
      ]
     },
     "execution_count": 48,
     "metadata": {},
     "output_type": "execute_result"
    }
   ],
   "source": [
    "arr07"
   ]
  },
  {
   "cell_type": "code",
   "execution_count": 49,
   "metadata": {
    "collapsed": false
   },
   "outputs": [
    {
     "data": {
      "text/plain": [
       "array([-2.24615266, -2.10037506, -1.91072157, -1.88429805, -1.76605129,\n",
       "       -1.665165  , -1.65229928, -1.60168851, -1.53282873, -1.48494749])"
      ]
     },
     "execution_count": 49,
     "metadata": {},
     "output_type": "execute_result"
    }
   ],
   "source": [
    "arr07[0:int(0.1*len(arr07))] #將已排序的 arr07 切片 [0:int(0.1*len(arr07))] "
   ]
  },
  {
   "cell_type": "code",
   "execution_count": 50,
   "metadata": {
    "collapsed": true
   },
   "outputs": [],
   "source": [
    "#練習: 取最高的 5%"
   ]
  },
  {
   "cell_type": "code",
   "execution_count": 51,
   "metadata": {
    "collapsed": false
   },
   "outputs": [
    {
     "data": {
      "text/plain": [
       "array([ 1.91638473,  1.8786485 ,  1.79965196,  1.77766516,  1.6117195 ])"
      ]
     },
     "execution_count": 51,
     "metadata": {},
     "output_type": "execute_result"
    }
   ],
   "source": [
    "arr07[:-(int(0.05*len(arr07))+1):-1] "
   ]
  },
  {
   "cell_type": "code",
   "execution_count": 52,
   "metadata": {
    "collapsed": true
   },
   "outputs": [],
   "source": [
    "list01=[0,1,2,3,4,5]"
   ]
  },
  {
   "cell_type": "code",
   "execution_count": 53,
   "metadata": {
    "collapsed": false
   },
   "outputs": [
    {
     "data": {
      "text/plain": [
       "[0, 1, 2]"
      ]
     },
     "execution_count": 53,
     "metadata": {},
     "output_type": "execute_result"
    }
   ],
   "source": [
    "list01[0:3]"
   ]
  },
  {
   "cell_type": "code",
   "execution_count": 54,
   "metadata": {
    "collapsed": false
   },
   "outputs": [
    {
     "data": {
      "text/plain": [
       "[5, 4]"
      ]
     },
     "execution_count": 54,
     "metadata": {},
     "output_type": "execute_result"
    }
   ],
   "source": [
    "list01[:-3:-1]"
   ]
  },
  {
   "cell_type": "code",
   "execution_count": 55,
   "metadata": {
    "collapsed": true
   },
   "outputs": [],
   "source": [
    "# Unique and Other Set Logic, SQL unique"
   ]
  },
  {
   "cell_type": "code",
   "execution_count": 56,
   "metadata": {
    "collapsed": true
   },
   "outputs": [],
   "source": [
    "names=np.array(['Bob','Joe','Will','Bob','Joe','Joe']) #array object --> names"
   ]
  },
  {
   "cell_type": "code",
   "execution_count": 57,
   "metadata": {
    "collapsed": false
   },
   "outputs": [
    {
     "data": {
      "text/plain": [
       "array(['Bob', 'Joe', 'Will'], \n",
       "      dtype='<U4')"
      ]
     },
     "execution_count": 57,
     "metadata": {},
     "output_type": "execute_result"
    }
   ],
   "source": [
    "np.unique(names) #unique"
   ]
  },
  {
   "cell_type": "code",
   "execution_count": 58,
   "metadata": {
    "collapsed": true
   },
   "outputs": [],
   "source": [
    "ints=np.array([3,3,4,2,5,3,1]) #array of ints"
   ]
  },
  {
   "cell_type": "code",
   "execution_count": 59,
   "metadata": {
    "collapsed": false
   },
   "outputs": [
    {
     "data": {
      "text/plain": [
       "array([1, 2, 3, 4, 5])"
      ]
     },
     "execution_count": 59,
     "metadata": {},
     "output_type": "execute_result"
    }
   ],
   "source": [
    "np.unique(ints)"
   ]
  },
  {
   "cell_type": "code",
   "execution_count": 60,
   "metadata": {
    "collapsed": false
   },
   "outputs": [
    {
     "data": {
      "text/plain": [
       "array([3, 3, 4, 2, 5, 3, 1])"
      ]
     },
     "execution_count": 60,
     "metadata": {},
     "output_type": "execute_result"
    }
   ],
   "source": [
    "ints"
   ]
  },
  {
   "cell_type": "code",
   "execution_count": 61,
   "metadata": {
    "collapsed": true
   },
   "outputs": [],
   "source": [
    "#與np.unique 等價的 Python --> sorted(set(names))"
   ]
  },
  {
   "cell_type": "code",
   "execution_count": 62,
   "metadata": {
    "collapsed": false
   },
   "outputs": [
    {
     "data": {
      "text/plain": [
       "{'Bob', 'Joe', 'Will'}"
      ]
     },
     "execution_count": 62,
     "metadata": {},
     "output_type": "execute_result"
    }
   ],
   "source": [
    "set(names)"
   ]
  },
  {
   "cell_type": "code",
   "execution_count": 63,
   "metadata": {
    "collapsed": false
   },
   "outputs": [
    {
     "data": {
      "text/plain": [
       "['Bob', 'Joe', 'Will']"
      ]
     },
     "execution_count": 63,
     "metadata": {},
     "output_type": "execute_result"
    }
   ],
   "source": [
    "sorted(set(names))"
   ]
  },
  {
   "cell_type": "code",
   "execution_count": 64,
   "metadata": {
    "collapsed": true
   },
   "outputs": [],
   "source": [
    "#np.in1d"
   ]
  },
  {
   "cell_type": "code",
   "execution_count": 65,
   "metadata": {
    "collapsed": true
   },
   "outputs": [],
   "source": [
    "values=np.array([6,0,0,3,2,5,6])"
   ]
  },
  {
   "cell_type": "code",
   "execution_count": 66,
   "metadata": {
    "collapsed": false
   },
   "outputs": [
    {
     "data": {
      "text/plain": [
       "array([6, 0, 0, 3, 2, 5, 6])"
      ]
     },
     "execution_count": 66,
     "metadata": {},
     "output_type": "execute_result"
    }
   ],
   "source": [
    "values"
   ]
  },
  {
   "cell_type": "code",
   "execution_count": 67,
   "metadata": {
    "collapsed": false
   },
   "outputs": [
    {
     "data": {
      "text/plain": [
       "array([ True, False, False,  True,  True, False,  True], dtype=bool)"
      ]
     },
     "execution_count": 67,
     "metadata": {},
     "output_type": "execute_result"
    }
   ],
   "source": [
    "np.in1d(values,[2,3,6])"
   ]
  },
  {
   "cell_type": "code",
   "execution_count": null,
   "metadata": {
    "collapsed": true
   },
   "outputs": [],
   "source": []
  }
 ],
 "metadata": {
  "kernelspec": {
   "display_name": "Python [default]",
   "language": "python",
   "name": "python3"
  },
  "language_info": {
   "codemirror_mode": {
    "name": "ipython",
    "version": 3
   },
   "file_extension": ".py",
   "mimetype": "text/x-python",
   "name": "python",
   "nbconvert_exporter": "python",
   "pygments_lexer": "ipython3",
   "version": "3.5.2"
  }
 },
 "nbformat": 4,
 "nbformat_minor": 0
}
