{
 "cells": [
  {
   "cell_type": "code",
   "execution_count": 1,
   "metadata": {
    "collapsed": true
   },
   "outputs": [],
   "source": [
    "#ch15_03_tensor_1D2D.ipynb"
   ]
  },
  {
   "cell_type": "code",
   "execution_count": 1,
   "metadata": {
    "collapsed": true
   },
   "outputs": [],
   "source": [
    "import tensorflow as tf"
   ]
  },
  {
   "cell_type": "code",
   "execution_count": 3,
   "metadata": {
    "collapsed": true
   },
   "outputs": [],
   "source": [
    "#step1. 建立一維張量(tensor) --> vector, tf.Variable([list])\n",
    "ts_1D=tf.Variable([2,5,7,8])"
   ]
  },
  {
   "cell_type": "code",
   "execution_count": 5,
   "metadata": {},
   "outputs": [
    {
     "name": "stdout",
     "output_type": "stream",
     "text": [
      "[2 5 7 8]\n"
     ]
    }
   ],
   "source": [
    "with tf.Session() as sess:\n",
    "    init=tf.global_variables_initializer()\n",
    "    sess.run(init)\n",
    "    x1D=sess.run(ts_1D)\n",
    "    print(x1D)"
   ]
  },
  {
   "cell_type": "code",
   "execution_count": 7,
   "metadata": {},
   "outputs": [
    {
     "name": "stdout",
     "output_type": "stream",
     "text": [
      "(4,)\n"
     ]
    }
   ],
   "source": [
    "#step1.1 查看 1D tensor \n",
    "print(x1D.shape)"
   ]
  },
  {
   "cell_type": "code",
   "execution_count": 8,
   "metadata": {
    "collapsed": true
   },
   "outputs": [],
   "source": [
    "#step2. 建立二維張量(tensor) --> array, tf.Variable([[list]])\n",
    "ts_2D=tf.Variable([[2,5,7,8]])"
   ]
  },
  {
   "cell_type": "code",
   "execution_count": 9,
   "metadata": {},
   "outputs": [
    {
     "name": "stdout",
     "output_type": "stream",
     "text": [
      "[[2 5 7 8]]\n"
     ]
    }
   ],
   "source": [
    "with tf.Session() as sess01:\n",
    "    init=tf.global_variables_initializer()\n",
    "    sess01.run(init)\n",
    "    x2D=sess01.run(ts_2D)\n",
    "    print(x2D)"
   ]
  },
  {
   "cell_type": "code",
   "execution_count": 10,
   "metadata": {},
   "outputs": [
    {
     "name": "stdout",
     "output_type": "stream",
     "text": [
      "(1, 4)\n"
     ]
    }
   ],
   "source": [
    "print(x2D.shape) #二維資料 (1,4), 第一個維度只有1筆資料 1"
   ]
  },
  {
   "cell_type": "code",
   "execution_count": 11,
   "metadata": {
    "collapsed": true
   },
   "outputs": [],
   "source": [
    "#step2.1 建立另一個二維張量(tensor) --> array, tf.Variable([[list1],[list2],...])\n",
    "ts_2D2=tf.Variable([[1,2,3,4],[5,6,7,8],[9,10,11,12]])"
   ]
  },
  {
   "cell_type": "code",
   "execution_count": 12,
   "metadata": {},
   "outputs": [
    {
     "name": "stdout",
     "output_type": "stream",
     "text": [
      "[[ 1  2  3  4]\n",
      " [ 5  6  7  8]\n",
      " [ 9 10 11 12]]\n"
     ]
    }
   ],
   "source": [
    "with tf.Session() as sess02:\n",
    "    init=tf.global_variables_initializer()\n",
    "    sess02.run(init)\n",
    "    x2D2=sess02.run(ts_2D2)\n",
    "    print(x2D2)"
   ]
  },
  {
   "cell_type": "code",
   "execution_count": 13,
   "metadata": {},
   "outputs": [
    {
     "name": "stdout",
     "output_type": "stream",
     "text": [
      "(3, 4)\n"
     ]
    }
   ],
   "source": [
    "print(x2D2.shape)"
   ]
  },
  {
   "cell_type": "code",
   "execution_count": 14,
   "metadata": {
    "collapsed": true
   },
   "outputs": [],
   "source": [
    "#step3. 矩陣基本運算"
   ]
  },
  {
   "cell_type": "code",
   "execution_count": 16,
   "metadata": {},
   "outputs": [
    {
     "name": "stdout",
     "output_type": "stream",
     "text": [
      "[[130 130 130]]\n"
     ]
    }
   ],
   "source": [
    "#step3.1 矩陣乘法, tf.matmul()\n",
    "X=tf.Variable([[10.0,10.0,10.0,10.0]]) #(1,4) 2維矩陣\n",
    "W=tf.Variable([[2.0,3.0,4.0],[5.0,6.0,7.0],[8.0,9.0,10.0],[-2.0,-5.0,-8.0]]) #(4,3) 2維矩陣\n",
    "XW=tf.matmul(X,W)\n",
    "\n",
    "with tf.Session() as sess02:\n",
    "    init=tf.global_variables_initializer()\n",
    "    sess02.run(init)\n",
    "    print(sess02.run(XW))"
   ]
  },
  {
   "cell_type": "code",
   "execution_count": 17,
   "metadata": {},
   "outputs": [
    {
     "name": "stdout",
     "output_type": "stream",
     "text": [
      "(1, 3)\n"
     ]
    }
   ],
   "source": [
    "print(XW.shape)"
   ]
  },
  {
   "cell_type": "code",
   "execution_count": 3,
   "metadata": {},
   "outputs": [
    {
     "name": "stdout",
     "output_type": "stream",
     "text": [
      "XW+b=\n",
      "[[ 130.5         130.3999939   130.30000305]]\n"
     ]
    }
   ],
   "source": [
    "#step3.2 矩陣加法, 線性方程式　y=X*W+b\n",
    "b=tf.Variable([[0.5,0.4,0.3]])\n",
    "XW=tf.Variable([[130.0,130.0,130.0]])\n",
    "sum=XW+b\n",
    "with tf.Session() as sess03:\n",
    "    init=tf.global_variables_initializer()\n",
    "    sess03.run(init)\n",
    "    print('XW+b=')\n",
    "    print(sess03.run(sum))"
   ]
  },
  {
   "cell_type": "code",
   "execution_count": 4,
   "metadata": {},
   "outputs": [
    {
     "name": "stdout",
     "output_type": "stream",
     "text": [
      "X*W+b=\n",
      "[[ 130.5         130.3999939   130.30000305]]\n"
     ]
    }
   ],
   "source": [
    "#step3.3 矩陣加法與乘法, X*W+b\n",
    "X=tf.Variable([[10.0,10.0,10.0,10.0]]) #(1,4) 2維矩陣\n",
    "W=tf.Variable([[2.0,3.0,4.0],[5.0,6.0,7.0],[8.0,9.0,10.0],[-2.0,-5.0,-8.0]]) #(4,3) 2維矩陣\n",
    "b=tf.Variable([[0.5,0.4,0.3]])\n",
    "\n",
    "y=tf.matmul(X,W)+b\n",
    "\n",
    "with tf.Session() as sess04:\n",
    "    init=tf.global_variables_initializer()\n",
    "    sess04.run(init)\n",
    "    print('X*W+b=')\n",
    "    print(sess04.run(y))"
   ]
  },
  {
   "cell_type": "code",
   "execution_count": null,
   "metadata": {
    "collapsed": true
   },
   "outputs": [],
   "source": []
  }
 ],
 "metadata": {
  "kernelspec": {
   "display_name": "Python 3",
   "language": "python",
   "name": "python3"
  },
  "language_info": {
   "codemirror_mode": {
    "name": "ipython",
    "version": 3
   },
   "file_extension": ".py",
   "mimetype": "text/x-python",
   "name": "python",
   "nbconvert_exporter": "python",
   "pygments_lexer": "ipython3",
   "version": "3.5.3"
  }
 },
 "nbformat": 4,
 "nbformat_minor": 2
}
