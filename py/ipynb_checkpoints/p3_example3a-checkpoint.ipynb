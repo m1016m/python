{
 "cells": [
  {
   "cell_type": "code",
   "execution_count": 1,
   "metadata": {
    "collapsed": true
   },
   "outputs": [],
   "source": [
    "#p3_example3a, 單字出現頻率統計程式"
   ]
  },
  {
   "cell_type": "code",
   "execution_count": 2,
   "metadata": {
    "collapsed": true
   },
   "outputs": [],
   "source": [
    "import re #import regular expression module"
   ]
  },
  {
   "cell_type": "code",
   "execution_count": 3,
   "metadata": {
    "collapsed": false
   },
   "outputs": [],
   "source": [
    "fp=open('sample.txt','r') #以'r',read model 開啟 sample.txt"
   ]
  },
  {
   "cell_type": "code",
   "execution_count": 4,
   "metadata": {
    "collapsed": true
   },
   "outputs": [],
   "source": [
    "article=fp.read() #以read() method 讀進 str article"
   ]
  },
  {
   "cell_type": "code",
   "execution_count": 5,
   "metadata": {
    "collapsed": false
   },
   "outputs": [
    {
     "data": {
      "text/plain": [
       "'There was a bomb scare on an Air France flight on Sunday. The plane was flying from the Indian Ocean island of Mauritius to Paris. A passenger found a strange-looking device made from a kitchen timer, cardboard and paper in a toilet. They alerted staff and the pilot decided to make an emergency landing in the Kenyan port city of Mombasa, which was the nearest airport. Air France\\'s CEO Frederic Gagey said the device was harmless and caused a \"false alarm\". He said that someone probably put it in the toilet at some point during the flight. Mr Gagey added: \"All the information available to us at the moment indicates that the object was not capable of creating an explosion or damaging a plane.\"\\n'"
      ]
     },
     "execution_count": 5,
     "metadata": {},
     "output_type": "execute_result"
    }
   ],
   "source": [
    "article"
   ]
  },
  {
   "cell_type": "code",
   "execution_count": 6,
   "metadata": {
    "collapsed": true
   },
   "outputs": [],
   "source": [
    "new_article=re.sub(\"[^a-zA-Z\\s]\",\"\",article) #sub,substitute\n",
    "                                             #re [^a-zA-Z\\s] ^a-zA-Z,只要不是英文字母或不是 \\s 空白\n",
    "                                             # \\s ,Matches Unicode whitespace characters\n",
    "                                             #此程式將非英文字母的字元移除,空白保留 "
   ]
  },
  {
   "cell_type": "code",
   "execution_count": 7,
   "metadata": {
    "collapsed": false
   },
   "outputs": [
    {
     "data": {
      "text/plain": [
       "'There was a bomb scare on an Air France flight on Sunday The plane was flying from the Indian Ocean island of Mauritius to Paris A passenger found a strangelooking device made from a kitchen timer cardboard and paper in a toilet They alerted staff and the pilot decided to make an emergency landing in the Kenyan port city of Mombasa which was the nearest airport Air Frances CEO Frederic Gagey said the device was harmless and caused a false alarm He said that someone probably put it in the toilet at some point during the flight Mr Gagey added All the information available to us at the moment indicates that the object was not capable of creating an explosion or damaging a plane\\n'"
      ]
     },
     "execution_count": 7,
     "metadata": {},
     "output_type": "execute_result"
    }
   ],
   "source": [
    "new_article"
   ]
  },
  {
   "cell_type": "code",
   "execution_count": 8,
   "metadata": {
    "collapsed": true
   },
   "outputs": [],
   "source": [
    "words=new_article.split() #用str.split() method 分割成一個個單字\n",
    "                          #words 是 list of str"
   ]
  },
  {
   "cell_type": "code",
   "execution_count": 9,
   "metadata": {
    "collapsed": true
   },
   "outputs": [],
   "source": [
    "word_counts={} #create a empty dict, word_counts"
   ]
  },
  {
   "cell_type": "code",
   "execution_count": 10,
   "metadata": {
    "collapsed": false
   },
   "outputs": [],
   "source": [
    "for w in words:\n",
    "    if w.upper() in word_counts:\n",
    "        word_counts[w.upper()]=word_counts[w.upper()]+1 #如果已出現過\n",
    "    else:\n",
    "        word_counts[w.upper()]=1 #如果是第一次出現       "
   ]
  },
  {
   "cell_type": "code",
   "execution_count": 11,
   "metadata": {
    "collapsed": false
   },
   "outputs": [
    {
     "data": {
      "text/plain": [
       "{'A': 7,\n",
       " 'ADDED': 1,\n",
       " 'AIR': 2,\n",
       " 'AIRPORT': 1,\n",
       " 'ALARM': 1,\n",
       " 'ALERTED': 1,\n",
       " 'ALL': 1,\n",
       " 'AN': 3,\n",
       " 'AND': 3,\n",
       " 'AT': 2,\n",
       " 'AVAILABLE': 1,\n",
       " 'BOMB': 1,\n",
       " 'CAPABLE': 1,\n",
       " 'CARDBOARD': 1,\n",
       " 'CAUSED': 1,\n",
       " 'CEO': 1,\n",
       " 'CITY': 1,\n",
       " 'CREATING': 1,\n",
       " 'DAMAGING': 1,\n",
       " 'DECIDED': 1,\n",
       " 'DEVICE': 2,\n",
       " 'DURING': 1,\n",
       " 'EMERGENCY': 1,\n",
       " 'EXPLOSION': 1,\n",
       " 'FALSE': 1,\n",
       " 'FLIGHT': 2,\n",
       " 'FLYING': 1,\n",
       " 'FOUND': 1,\n",
       " 'FRANCE': 1,\n",
       " 'FRANCES': 1,\n",
       " 'FREDERIC': 1,\n",
       " 'FROM': 2,\n",
       " 'GAGEY': 2,\n",
       " 'HARMLESS': 1,\n",
       " 'HE': 1,\n",
       " 'IN': 3,\n",
       " 'INDIAN': 1,\n",
       " 'INDICATES': 1,\n",
       " 'INFORMATION': 1,\n",
       " 'ISLAND': 1,\n",
       " 'IT': 1,\n",
       " 'KENYAN': 1,\n",
       " 'KITCHEN': 1,\n",
       " 'LANDING': 1,\n",
       " 'MADE': 1,\n",
       " 'MAKE': 1,\n",
       " 'MAURITIUS': 1,\n",
       " 'MOMBASA': 1,\n",
       " 'MOMENT': 1,\n",
       " 'MR': 1,\n",
       " 'NEAREST': 1,\n",
       " 'NOT': 1,\n",
       " 'OBJECT': 1,\n",
       " 'OCEAN': 1,\n",
       " 'OF': 3,\n",
       " 'ON': 2,\n",
       " 'OR': 1,\n",
       " 'PAPER': 1,\n",
       " 'PARIS': 1,\n",
       " 'PASSENGER': 1,\n",
       " 'PILOT': 1,\n",
       " 'PLANE': 2,\n",
       " 'POINT': 1,\n",
       " 'PORT': 1,\n",
       " 'PROBABLY': 1,\n",
       " 'PUT': 1,\n",
       " 'SAID': 2,\n",
       " 'SCARE': 1,\n",
       " 'SOME': 1,\n",
       " 'SOMEONE': 1,\n",
       " 'STAFF': 1,\n",
       " 'STRANGELOOKING': 1,\n",
       " 'SUNDAY': 1,\n",
       " 'THAT': 2,\n",
       " 'THE': 11,\n",
       " 'THERE': 1,\n",
       " 'THEY': 1,\n",
       " 'TIMER': 1,\n",
       " 'TO': 3,\n",
       " 'TOILET': 2,\n",
       " 'US': 1,\n",
       " 'WAS': 5,\n",
       " 'WHICH': 1}"
      ]
     },
     "execution_count": 11,
     "metadata": {},
     "output_type": "execute_result"
    }
   ],
   "source": [
    "word_counts #dict"
   ]
  },
  {
   "cell_type": "code",
   "execution_count": 12,
   "metadata": {
    "collapsed": true
   },
   "outputs": [],
   "source": [
    "#將字典 word_counts 依值排序, key=lambda x: (-x[1], x[0]), 回傳值是 list of tuple\n",
    "w_list=sorted(word_counts.items(), key=lambda x: (-x[1], x[0]))"
   ]
  },
  {
   "cell_type": "code",
   "execution_count": 13,
   "metadata": {
    "collapsed": false
   },
   "outputs": [],
   "source": [
    "sorted_word_counts=dict(w_list[:5]) #擷取前五個元素,轉成字典"
   ]
  },
  {
   "cell_type": "code",
   "execution_count": 14,
   "metadata": {
    "collapsed": false
   },
   "outputs": [
    {
     "data": {
      "text/plain": [
       "{'A': 7, 'AN': 3, 'AND': 3, 'THE': 11, 'WAS': 5}"
      ]
     },
     "execution_count": 14,
     "metadata": {},
     "output_type": "execute_result"
    }
   ],
   "source": [
    "sorted_word_counts"
   ]
  },
  {
   "cell_type": "code",
   "execution_count": null,
   "metadata": {
    "collapsed": true
   },
   "outputs": [],
   "source": []
  }
 ],
 "metadata": {
  "anaconda-cloud": {},
  "kernelspec": {
   "display_name": "Python 3",
   "language": "python",
   "name": "python3"
  },
  "language_info": {
   "codemirror_mode": {
    "name": "ipython",
    "version": 3
   },
   "file_extension": ".py",
   "mimetype": "text/x-python",
   "name": "python",
   "nbconvert_exporter": "python",
   "pygments_lexer": "ipython3",
   "version": "3.5.2"
  }
 },
 "nbformat": 4,
 "nbformat_minor": 0
}
