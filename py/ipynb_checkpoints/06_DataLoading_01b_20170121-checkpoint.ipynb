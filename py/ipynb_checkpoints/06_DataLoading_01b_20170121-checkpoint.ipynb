{
 "cells": [
  {
   "cell_type": "code",
   "execution_count": 1,
   "metadata": {
    "collapsed": true
   },
   "outputs": [],
   "source": [
    "#06_DataLoading_01b_20160820, xls範例檔,證交所網站資料"
   ]
  },
  {
   "cell_type": "code",
   "execution_count": 1,
   "metadata": {
    "collapsed": true
   },
   "outputs": [],
   "source": [
    "import pandas as pd"
   ]
  },
  {
   "cell_type": "code",
   "execution_count": 2,
   "metadata": {
    "collapsed": true
   },
   "outputs": [],
   "source": [
    "from pandas import DataFrame,Series"
   ]
  },
  {
   "cell_type": "code",
   "execution_count": 3,
   "metadata": {
    "collapsed": true
   },
   "outputs": [],
   "source": [
    "import numpy as np"
   ]
  },
  {
   "cell_type": "code",
   "execution_count": 4,
   "metadata": {
    "collapsed": true
   },
   "outputs": [],
   "source": [
    "import matplotlib.pyplot as plt"
   ]
  },
  {
   "cell_type": "code",
   "execution_count": 5,
   "metadata": {
    "collapsed": true
   },
   "outputs": [],
   "source": [
    "%matplotlib inline"
   ]
  },
  {
   "cell_type": "code",
   "execution_count": 6,
   "metadata": {
    "collapsed": false
   },
   "outputs": [
    {
     "ename": "FileNotFoundError",
     "evalue": "[Errno 2] No such file or directory: '20160820_process.xlsx'",
     "output_type": "error",
     "traceback": [
      "\u001b[1;31m---------------------------------------------------------------------------\u001b[0m",
      "\u001b[1;31mFileNotFoundError\u001b[0m                         Traceback (most recent call last)",
      "\u001b[1;32m<ipython-input-6-754493b380c3>\u001b[0m in \u001b[0;36m<module>\u001b[1;34m()\u001b[0m\n\u001b[1;32m----> 1\u001b[1;33m \u001b[0mdf_01\u001b[0m\u001b[1;33m=\u001b[0m\u001b[0mpd\u001b[0m\u001b[1;33m.\u001b[0m\u001b[0mread_excel\u001b[0m\u001b[1;33m(\u001b[0m\u001b[1;34m'20160820_process.xlsx'\u001b[0m\u001b[1;33m,\u001b[0m\u001b[1;34m'20160820'\u001b[0m\u001b[1;33m)\u001b[0m\u001b[1;33m\u001b[0m\u001b[0m\n\u001b[0m",
      "\u001b[1;32mE:\\Anaconda3\\lib\\site-packages\\pandas\\io\\excel.py\u001b[0m in \u001b[0;36mread_excel\u001b[1;34m(io, sheetname, header, skiprows, skip_footer, index_col, names, parse_cols, parse_dates, date_parser, na_values, thousands, convert_float, has_index_names, converters, true_values, false_values, engine, squeeze, **kwds)\u001b[0m\n\u001b[0;32m    189\u001b[0m \u001b[1;33m\u001b[0m\u001b[0m\n\u001b[0;32m    190\u001b[0m     \u001b[1;32mif\u001b[0m \u001b[1;32mnot\u001b[0m \u001b[0misinstance\u001b[0m\u001b[1;33m(\u001b[0m\u001b[0mio\u001b[0m\u001b[1;33m,\u001b[0m \u001b[0mExcelFile\u001b[0m\u001b[1;33m)\u001b[0m\u001b[1;33m:\u001b[0m\u001b[1;33m\u001b[0m\u001b[0m\n\u001b[1;32m--> 191\u001b[1;33m         \u001b[0mio\u001b[0m \u001b[1;33m=\u001b[0m \u001b[0mExcelFile\u001b[0m\u001b[1;33m(\u001b[0m\u001b[0mio\u001b[0m\u001b[1;33m,\u001b[0m \u001b[0mengine\u001b[0m\u001b[1;33m=\u001b[0m\u001b[0mengine\u001b[0m\u001b[1;33m)\u001b[0m\u001b[1;33m\u001b[0m\u001b[0m\n\u001b[0m\u001b[0;32m    192\u001b[0m \u001b[1;33m\u001b[0m\u001b[0m\n\u001b[0;32m    193\u001b[0m     return io._parse_excel(\n",
      "\u001b[1;32mE:\\Anaconda3\\lib\\site-packages\\pandas\\io\\excel.py\u001b[0m in \u001b[0;36m__init__\u001b[1;34m(self, io, **kwds)\u001b[0m\n\u001b[0;32m    247\u001b[0m             \u001b[0mself\u001b[0m\u001b[1;33m.\u001b[0m\u001b[0mbook\u001b[0m \u001b[1;33m=\u001b[0m \u001b[0mxlrd\u001b[0m\u001b[1;33m.\u001b[0m\u001b[0mopen_workbook\u001b[0m\u001b[1;33m(\u001b[0m\u001b[0mfile_contents\u001b[0m\u001b[1;33m=\u001b[0m\u001b[0mdata\u001b[0m\u001b[1;33m)\u001b[0m\u001b[1;33m\u001b[0m\u001b[0m\n\u001b[0;32m    248\u001b[0m         \u001b[1;32melif\u001b[0m \u001b[0misinstance\u001b[0m\u001b[1;33m(\u001b[0m\u001b[0mio\u001b[0m\u001b[1;33m,\u001b[0m \u001b[0mcompat\u001b[0m\u001b[1;33m.\u001b[0m\u001b[0mstring_types\u001b[0m\u001b[1;33m)\u001b[0m\u001b[1;33m:\u001b[0m\u001b[1;33m\u001b[0m\u001b[0m\n\u001b[1;32m--> 249\u001b[1;33m             \u001b[0mself\u001b[0m\u001b[1;33m.\u001b[0m\u001b[0mbook\u001b[0m \u001b[1;33m=\u001b[0m \u001b[0mxlrd\u001b[0m\u001b[1;33m.\u001b[0m\u001b[0mopen_workbook\u001b[0m\u001b[1;33m(\u001b[0m\u001b[0mio\u001b[0m\u001b[1;33m)\u001b[0m\u001b[1;33m\u001b[0m\u001b[0m\n\u001b[0m\u001b[0;32m    250\u001b[0m         \u001b[1;32melse\u001b[0m\u001b[1;33m:\u001b[0m\u001b[1;33m\u001b[0m\u001b[0m\n\u001b[0;32m    251\u001b[0m             raise ValueError('Must explicitly set engine if not passing in'\n",
      "\u001b[1;32mE:\\Anaconda3\\lib\\site-packages\\xlrd\\__init__.py\u001b[0m in \u001b[0;36mopen_workbook\u001b[1;34m(filename, logfile, verbosity, use_mmap, file_contents, encoding_override, formatting_info, on_demand, ragged_rows)\u001b[0m\n\u001b[0;32m    392\u001b[0m         \u001b[0mpeek\u001b[0m \u001b[1;33m=\u001b[0m \u001b[0mfile_contents\u001b[0m\u001b[1;33m[\u001b[0m\u001b[1;33m:\u001b[0m\u001b[0mpeeksz\u001b[0m\u001b[1;33m]\u001b[0m\u001b[1;33m\u001b[0m\u001b[0m\n\u001b[0;32m    393\u001b[0m     \u001b[1;32melse\u001b[0m\u001b[1;33m:\u001b[0m\u001b[1;33m\u001b[0m\u001b[0m\n\u001b[1;32m--> 394\u001b[1;33m         \u001b[0mf\u001b[0m \u001b[1;33m=\u001b[0m \u001b[0mopen\u001b[0m\u001b[1;33m(\u001b[0m\u001b[0mfilename\u001b[0m\u001b[1;33m,\u001b[0m \u001b[1;34m\"rb\"\u001b[0m\u001b[1;33m)\u001b[0m\u001b[1;33m\u001b[0m\u001b[0m\n\u001b[0m\u001b[0;32m    395\u001b[0m         \u001b[0mpeek\u001b[0m \u001b[1;33m=\u001b[0m \u001b[0mf\u001b[0m\u001b[1;33m.\u001b[0m\u001b[0mread\u001b[0m\u001b[1;33m(\u001b[0m\u001b[0mpeeksz\u001b[0m\u001b[1;33m)\u001b[0m\u001b[1;33m\u001b[0m\u001b[0m\n\u001b[0;32m    396\u001b[0m         \u001b[0mf\u001b[0m\u001b[1;33m.\u001b[0m\u001b[0mclose\u001b[0m\u001b[1;33m(\u001b[0m\u001b[1;33m)\u001b[0m\u001b[1;33m\u001b[0m\u001b[0m\n",
      "\u001b[1;31mFileNotFoundError\u001b[0m: [Errno 2] No such file or directory: '20160820_process.xlsx'"
     ]
    }
   ],
   "source": [
    "df_01=pd.read_excel('20160820_process.xlsx','20160820') "
   ]
  },
  {
   "cell_type": "code",
   "execution_count": 8,
   "metadata": {
    "collapsed": false
   },
   "outputs": [
    {
     "data": {
      "text/html": [
       "<div>\n",
       "<table border=\"1\" class=\"dataframe\">\n",
       "  <thead>\n",
       "    <tr style=\"text-align: right;\">\n",
       "      <th></th>\n",
       "      <th>證券代號</th>\n",
       "      <th>證券名稱</th>\n",
       "      <th>成交股數</th>\n",
       "      <th>成交筆數</th>\n",
       "      <th>成交金額</th>\n",
       "      <th>成交價</th>\n",
       "      <th>最後揭示買價</th>\n",
       "      <th>最後揭示買量</th>\n",
       "      <th>最後揭示賣價</th>\n",
       "      <th>最後揭示賣量</th>\n",
       "    </tr>\n",
       "  </thead>\n",
       "  <tbody>\n",
       "    <tr>\n",
       "      <th>0</th>\n",
       "      <td>2427</td>\n",
       "      <td>三商電</td>\n",
       "      <td>882</td>\n",
       "      <td>3</td>\n",
       "      <td>6350</td>\n",
       "      <td>7.20</td>\n",
       "      <td>7.20</td>\n",
       "      <td>1618</td>\n",
       "      <td>7.31</td>\n",
       "      <td>695</td>\n",
       "    </tr>\n",
       "    <tr>\n",
       "      <th>1</th>\n",
       "      <td>2453</td>\n",
       "      <td>凌群</td>\n",
       "      <td>322</td>\n",
       "      <td>3</td>\n",
       "      <td>3864</td>\n",
       "      <td>12.00</td>\n",
       "      <td>12.00</td>\n",
       "      <td>1349</td>\n",
       "      <td>--</td>\n",
       "      <td>0</td>\n",
       "    </tr>\n",
       "    <tr>\n",
       "      <th>2</th>\n",
       "      <td>2468</td>\n",
       "      <td>華經</td>\n",
       "      <td>388</td>\n",
       "      <td>6</td>\n",
       "      <td>4498</td>\n",
       "      <td>11.60</td>\n",
       "      <td>11.60</td>\n",
       "      <td>3107</td>\n",
       "      <td>12.4</td>\n",
       "      <td>88</td>\n",
       "    </tr>\n",
       "    <tr>\n",
       "      <th>3</th>\n",
       "      <td>2471</td>\n",
       "      <td>資通</td>\n",
       "      <td>869</td>\n",
       "      <td>18</td>\n",
       "      <td>11381</td>\n",
       "      <td>13.10</td>\n",
       "      <td>13.10</td>\n",
       "      <td>1394</td>\n",
       "      <td>--</td>\n",
       "      <td>0</td>\n",
       "    </tr>\n",
       "    <tr>\n",
       "      <th>4</th>\n",
       "      <td>2480</td>\n",
       "      <td>敦陽科</td>\n",
       "      <td>1285</td>\n",
       "      <td>21</td>\n",
       "      <td>32567</td>\n",
       "      <td>25.35</td>\n",
       "      <td>25.35</td>\n",
       "      <td>102159</td>\n",
       "      <td>25.75</td>\n",
       "      <td>520</td>\n",
       "    </tr>\n",
       "    <tr>\n",
       "      <th>5</th>\n",
       "      <td>3029</td>\n",
       "      <td>零壹</td>\n",
       "      <td>1213</td>\n",
       "      <td>19</td>\n",
       "      <td>21761</td>\n",
       "      <td>17.95</td>\n",
       "      <td>17.95</td>\n",
       "      <td>2445</td>\n",
       "      <td>18</td>\n",
       "      <td>1220</td>\n",
       "    </tr>\n",
       "    <tr>\n",
       "      <th>6</th>\n",
       "      <td>3130</td>\n",
       "      <td>一零四</td>\n",
       "      <td>599</td>\n",
       "      <td>9</td>\n",
       "      <td>90449</td>\n",
       "      <td>151.00</td>\n",
       "      <td>151.00</td>\n",
       "      <td>504</td>\n",
       "      <td>151.5</td>\n",
       "      <td>848</td>\n",
       "    </tr>\n",
       "    <tr>\n",
       "      <th>7</th>\n",
       "      <td>4994</td>\n",
       "      <td>傳奇</td>\n",
       "      <td>1098</td>\n",
       "      <td>8</td>\n",
       "      <td>57096</td>\n",
       "      <td>52.00</td>\n",
       "      <td>52.00</td>\n",
       "      <td>2084</td>\n",
       "      <td>52.9</td>\n",
       "      <td>1058</td>\n",
       "    </tr>\n",
       "    <tr>\n",
       "      <th>8</th>\n",
       "      <td>5203</td>\n",
       "      <td>訊連</td>\n",
       "      <td>1099</td>\n",
       "      <td>20</td>\n",
       "      <td>73633</td>\n",
       "      <td>67.00</td>\n",
       "      <td>67.00</td>\n",
       "      <td>3792</td>\n",
       "      <td>67.2</td>\n",
       "      <td>926</td>\n",
       "    </tr>\n",
       "    <tr>\n",
       "      <th>9</th>\n",
       "      <td>6112</td>\n",
       "      <td>聚碩</td>\n",
       "      <td>6783</td>\n",
       "      <td>56</td>\n",
       "      <td>179741</td>\n",
       "      <td>26.50</td>\n",
       "      <td>26.50</td>\n",
       "      <td>18320</td>\n",
       "      <td>26.55</td>\n",
       "      <td>2840</td>\n",
       "    </tr>\n",
       "    <tr>\n",
       "      <th>10</th>\n",
       "      <td>6183</td>\n",
       "      <td>關貿</td>\n",
       "      <td>758</td>\n",
       "      <td>4</td>\n",
       "      <td>20541</td>\n",
       "      <td>27.10</td>\n",
       "      <td>27.10</td>\n",
       "      <td>2921</td>\n",
       "      <td>27.55</td>\n",
       "      <td>920</td>\n",
       "    </tr>\n",
       "    <tr>\n",
       "      <th>11</th>\n",
       "      <td>6214</td>\n",
       "      <td>精誠</td>\n",
       "      <td>2378</td>\n",
       "      <td>23</td>\n",
       "      <td>123406</td>\n",
       "      <td>51.90</td>\n",
       "      <td>51.90</td>\n",
       "      <td>72421</td>\n",
       "      <td>52</td>\n",
       "      <td>3265</td>\n",
       "    </tr>\n",
       "  </tbody>\n",
       "</table>\n",
       "</div>"
      ],
      "text/plain": [
       "    證券代號            證券名稱  成交股數  成交筆數    成交金額     成交價  最後揭示買價  最後揭示買量 最後揭示賣價  \\\n",
       "0   2427   三商電             882     3    6350    7.20    7.20    1618   7.31   \n",
       "1   2453  凌群               322     3    3864   12.00   12.00    1349     --   \n",
       "2   2468  華經               388     6    4498   11.60   11.60    3107   12.4   \n",
       "3   2471  資通               869    18   11381   13.10   13.10    1394     --   \n",
       "4   2480   敦陽科            1285    21   32567   25.35   25.35  102159  25.75   \n",
       "5   3029  零壹              1213    19   21761   17.95   17.95    2445     18   \n",
       "6   3130   一零四             599     9   90449  151.00  151.00     504  151.5   \n",
       "7   4994  傳奇              1098     8   57096   52.00   52.00    2084   52.9   \n",
       "8   5203  訊連              1099    20   73633   67.00   67.00    3792   67.2   \n",
       "9   6112  聚碩              6783    56  179741   26.50   26.50   18320  26.55   \n",
       "10  6183  關貿               758     4   20541   27.10   27.10    2921  27.55   \n",
       "11  6214  精誠              2378    23  123406   51.90   51.90   72421     52   \n",
       "\n",
       "    最後揭示賣量  \n",
       "0      695  \n",
       "1        0  \n",
       "2       88  \n",
       "3        0  \n",
       "4      520  \n",
       "5     1220  \n",
       "6      848  \n",
       "7     1058  \n",
       "8      926  \n",
       "9     2840  \n",
       "10     920  \n",
       "11    3265  "
      ]
     },
     "execution_count": 8,
     "metadata": {},
     "output_type": "execute_result"
    }
   ],
   "source": [
    "df_01"
   ]
  },
  {
   "cell_type": "code",
   "execution_count": 9,
   "metadata": {
    "collapsed": true
   },
   "outputs": [],
   "source": [
    "#pandas.read_html('url'), \n",
    "#以'http://www.twse.com.tw/ch/trading/exchange/FMTQIK/FMTQIK.php'\n",
    "#台灣證券交易所為例"
   ]
  },
  {
   "cell_type": "code",
   "execution_count": 10,
   "metadata": {
    "collapsed": true
   },
   "outputs": [],
   "source": [
    "#必須先安裝 html5lib"
   ]
  },
  {
   "cell_type": "code",
   "execution_count": 11,
   "metadata": {
    "collapsed": true
   },
   "outputs": [],
   "source": [
    "import html5lib"
   ]
  },
  {
   "cell_type": "code",
   "execution_count": 12,
   "metadata": {
    "collapsed": true
   },
   "outputs": [],
   "source": [
    "url='http://www.twse.com.tw/ch/trading/exchange/FMTQIK/FMTQIK.php'"
   ]
  },
  {
   "cell_type": "code",
   "execution_count": 13,
   "metadata": {
    "collapsed": false
   },
   "outputs": [],
   "source": [
    "df_2=pd.read_html(url)[0]"
   ]
  },
  {
   "cell_type": "code",
   "execution_count": 14,
   "metadata": {
    "collapsed": false
   },
   "outputs": [
    {
     "data": {
      "text/html": [
       "<div>\n",
       "<table border=\"1\" class=\"dataframe\">\n",
       "  <thead>\n",
       "    <tr style=\"text-align: right;\">\n",
       "      <th></th>\n",
       "      <th>0</th>\n",
       "      <th>1</th>\n",
       "      <th>2</th>\n",
       "      <th>3</th>\n",
       "      <th>4</th>\n",
       "      <th>5</th>\n",
       "    </tr>\n",
       "  </thead>\n",
       "  <tbody>\n",
       "    <tr>\n",
       "      <th>0</th>\n",
       "      <td>105/08/01</td>\n",
       "      <td>3871706261</td>\n",
       "      <td>78804102182</td>\n",
       "      <td>765901</td>\n",
       "      <td>9080.71</td>\n",
       "      <td>96.30</td>\n",
       "    </tr>\n",
       "    <tr>\n",
       "      <th>1</th>\n",
       "      <td>105/08/02</td>\n",
       "      <td>3884166772</td>\n",
       "      <td>74010051370</td>\n",
       "      <td>737921</td>\n",
       "      <td>9068.76</td>\n",
       "      <td>-11.95</td>\n",
       "    </tr>\n",
       "    <tr>\n",
       "      <th>2</th>\n",
       "      <td>105/08/03</td>\n",
       "      <td>3834059543</td>\n",
       "      <td>70771446177</td>\n",
       "      <td>732463</td>\n",
       "      <td>9001.71</td>\n",
       "      <td>-67.05</td>\n",
       "    </tr>\n",
       "    <tr>\n",
       "      <th>3</th>\n",
       "      <td>105/08/04</td>\n",
       "      <td>3829779330</td>\n",
       "      <td>74418273151</td>\n",
       "      <td>713559</td>\n",
       "      <td>9024.71</td>\n",
       "      <td>23.00</td>\n",
       "    </tr>\n",
       "    <tr>\n",
       "      <th>4</th>\n",
       "      <td>105/08/05</td>\n",
       "      <td>4226749494</td>\n",
       "      <td>84243393706</td>\n",
       "      <td>791540</td>\n",
       "      <td>9092.12</td>\n",
       "      <td>67.41</td>\n",
       "    </tr>\n",
       "    <tr>\n",
       "      <th>5</th>\n",
       "      <td>105/08/08</td>\n",
       "      <td>4083690279</td>\n",
       "      <td>83400282896</td>\n",
       "      <td>751688</td>\n",
       "      <td>9150.26</td>\n",
       "      <td>58.14</td>\n",
       "    </tr>\n",
       "    <tr>\n",
       "      <th>6</th>\n",
       "      <td>105/08/09</td>\n",
       "      <td>4066821718</td>\n",
       "      <td>79859408846</td>\n",
       "      <td>799032</td>\n",
       "      <td>9155.08</td>\n",
       "      <td>4.82</td>\n",
       "    </tr>\n",
       "    <tr>\n",
       "      <th>7</th>\n",
       "      <td>105/08/10</td>\n",
       "      <td>4225760731</td>\n",
       "      <td>80598942348</td>\n",
       "      <td>792698</td>\n",
       "      <td>9200.42</td>\n",
       "      <td>45.34</td>\n",
       "    </tr>\n",
       "    <tr>\n",
       "      <th>8</th>\n",
       "      <td>105/08/11</td>\n",
       "      <td>4760190883</td>\n",
       "      <td>93559858446</td>\n",
       "      <td>880676</td>\n",
       "      <td>9131.83</td>\n",
       "      <td>-68.59</td>\n",
       "    </tr>\n",
       "    <tr>\n",
       "      <th>9</th>\n",
       "      <td>105/08/12</td>\n",
       "      <td>4015197342</td>\n",
       "      <td>88441767577</td>\n",
       "      <td>825333</td>\n",
       "      <td>9150.39</td>\n",
       "      <td>18.56</td>\n",
       "    </tr>\n",
       "    <tr>\n",
       "      <th>10</th>\n",
       "      <td>105/08/15</td>\n",
       "      <td>4100081258</td>\n",
       "      <td>79893213002</td>\n",
       "      <td>760158</td>\n",
       "      <td>9148.51</td>\n",
       "      <td>-1.88</td>\n",
       "    </tr>\n",
       "    <tr>\n",
       "      <th>11</th>\n",
       "      <td>105/08/16</td>\n",
       "      <td>4451022067</td>\n",
       "      <td>84870784913</td>\n",
       "      <td>797042</td>\n",
       "      <td>9110.36</td>\n",
       "      <td>-38.15</td>\n",
       "    </tr>\n",
       "    <tr>\n",
       "      <th>12</th>\n",
       "      <td>105/08/17</td>\n",
       "      <td>3978438268</td>\n",
       "      <td>81245429214</td>\n",
       "      <td>839612</td>\n",
       "      <td>9117.70</td>\n",
       "      <td>7.34</td>\n",
       "    </tr>\n",
       "    <tr>\n",
       "      <th>13</th>\n",
       "      <td>105/08/18</td>\n",
       "      <td>4015535468</td>\n",
       "      <td>79316393081</td>\n",
       "      <td>753628</td>\n",
       "      <td>9122.50</td>\n",
       "      <td>4.80</td>\n",
       "    </tr>\n",
       "    <tr>\n",
       "      <th>14</th>\n",
       "      <td>105/08/19</td>\n",
       "      <td>4388582310</td>\n",
       "      <td>83781157067</td>\n",
       "      <td>808295</td>\n",
       "      <td>9034.27</td>\n",
       "      <td>-88.23</td>\n",
       "    </tr>\n",
       "  </tbody>\n",
       "</table>\n",
       "</div>"
      ],
      "text/plain": [
       "            0           1            2       3        4      5\n",
       "0   105/08/01  3871706261  78804102182  765901  9080.71  96.30\n",
       "1   105/08/02  3884166772  74010051370  737921  9068.76 -11.95\n",
       "2   105/08/03  3834059543  70771446177  732463  9001.71 -67.05\n",
       "3   105/08/04  3829779330  74418273151  713559  9024.71  23.00\n",
       "4   105/08/05  4226749494  84243393706  791540  9092.12  67.41\n",
       "5   105/08/08  4083690279  83400282896  751688  9150.26  58.14\n",
       "6   105/08/09  4066821718  79859408846  799032  9155.08   4.82\n",
       "7   105/08/10  4225760731  80598942348  792698  9200.42  45.34\n",
       "8   105/08/11  4760190883  93559858446  880676  9131.83 -68.59\n",
       "9   105/08/12  4015197342  88441767577  825333  9150.39  18.56\n",
       "10  105/08/15  4100081258  79893213002  760158  9148.51  -1.88\n",
       "11  105/08/16  4451022067  84870784913  797042  9110.36 -38.15\n",
       "12  105/08/17  3978438268  81245429214  839612  9117.70   7.34\n",
       "13  105/08/18  4015535468  79316393081  753628  9122.50   4.80\n",
       "14  105/08/19  4388582310  83781157067  808295  9034.27 -88.23"
      ]
     },
     "execution_count": 14,
     "metadata": {},
     "output_type": "execute_result"
    }
   ],
   "source": [
    "df_2"
   ]
  },
  {
   "cell_type": "code",
   "execution_count": null,
   "metadata": {
    "collapsed": true
   },
   "outputs": [],
   "source": []
  }
 ],
 "metadata": {
  "anaconda-cloud": {},
  "kernelspec": {
   "display_name": "Python 3",
   "language": "python",
   "name": "python3"
  },
  "language_info": {
   "codemirror_mode": {
    "name": "ipython",
    "version": 3
   },
   "file_extension": ".py",
   "mimetype": "text/x-python",
   "name": "python",
   "nbconvert_exporter": "python",
   "pygments_lexer": "ipython3",
   "version": "3.5.2"
  }
 },
 "nbformat": 4,
 "nbformat_minor": 0
}
