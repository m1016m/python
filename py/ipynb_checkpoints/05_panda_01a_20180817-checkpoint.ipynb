{
 "cells": [
  {
   "cell_type": "code",
   "execution_count": 1,
   "metadata": {
    "collapsed": true
   },
   "outputs": [],
   "source": [
    "#05_panda_01a_20180817.ipynb\n",
    "#pandas DataFrame loc,iloc,ix\n",
    "import pandas as pd"
   ]
  },
  {
   "cell_type": "code",
   "execution_count": 2,
   "metadata": {
    "collapsed": true
   },
   "outputs": [],
   "source": [
    "from pandas import DataFrame,Series"
   ]
  },
  {
   "cell_type": "code",
   "execution_count": 3,
   "metadata": {
    "collapsed": true
   },
   "outputs": [],
   "source": [
    "import numpy as np"
   ]
  },
  {
   "cell_type": "code",
   "execution_count": 4,
   "metadata": {
    "collapsed": true
   },
   "outputs": [],
   "source": [
    "#使用pandas.dtate_range() function,建立一個日期序列 'dates_01'\n",
    "dates_01 = pd.date_range('8/1/2018', periods=8)"
   ]
  },
  {
   "cell_type": "code",
   "execution_count": 9,
   "metadata": {
    "collapsed": true
   },
   "outputs": [],
   "source": [
    "#使用pandas.DataFrame() function,建立一個DataFrame 'df'\n",
    "#指定 index為日期序列 'dates_01', columns為 ['甲', '乙', '丁', '丙']\n",
    "#值 (DataFrame.values) 為 np.random.randn(8,4)\n",
    "df = pd.DataFrame(np.random.randn(8, 4), index=dates_01, columns=['甲', '乙', '丁', '丙'])"
   ]
  },
  {
   "cell_type": "code",
   "execution_count": 10,
   "metadata": {
    "collapsed": false
   },
   "outputs": [
    {
     "data": {
      "text/html": [
       "<div>\n",
       "<table border=\"1\" class=\"dataframe\">\n",
       "  <thead>\n",
       "    <tr style=\"text-align: right;\">\n",
       "      <th></th>\n",
       "      <th>甲</th>\n",
       "      <th>乙</th>\n",
       "      <th>丁</th>\n",
       "      <th>丙</th>\n",
       "    </tr>\n",
       "  </thead>\n",
       "  <tbody>\n",
       "    <tr>\n",
       "      <th>2018-08-01</th>\n",
       "      <td>-0.458154</td>\n",
       "      <td>1.687118</td>\n",
       "      <td>0.432620</td>\n",
       "      <td>-0.305890</td>\n",
       "    </tr>\n",
       "    <tr>\n",
       "      <th>2018-08-02</th>\n",
       "      <td>1.345652</td>\n",
       "      <td>1.137522</td>\n",
       "      <td>0.143303</td>\n",
       "      <td>-0.103475</td>\n",
       "    </tr>\n",
       "    <tr>\n",
       "      <th>2018-08-03</th>\n",
       "      <td>0.424385</td>\n",
       "      <td>0.645046</td>\n",
       "      <td>0.801084</td>\n",
       "      <td>0.428940</td>\n",
       "    </tr>\n",
       "    <tr>\n",
       "      <th>2018-08-04</th>\n",
       "      <td>-0.801386</td>\n",
       "      <td>0.305941</td>\n",
       "      <td>-1.198230</td>\n",
       "      <td>-0.963627</td>\n",
       "    </tr>\n",
       "    <tr>\n",
       "      <th>2018-08-05</th>\n",
       "      <td>-0.297151</td>\n",
       "      <td>-0.119252</td>\n",
       "      <td>0.130274</td>\n",
       "      <td>-0.741603</td>\n",
       "    </tr>\n",
       "    <tr>\n",
       "      <th>2018-08-06</th>\n",
       "      <td>-0.634673</td>\n",
       "      <td>0.192923</td>\n",
       "      <td>-0.982708</td>\n",
       "      <td>-0.643888</td>\n",
       "    </tr>\n",
       "    <tr>\n",
       "      <th>2018-08-07</th>\n",
       "      <td>1.039931</td>\n",
       "      <td>-1.049430</td>\n",
       "      <td>-0.940273</td>\n",
       "      <td>1.055282</td>\n",
       "    </tr>\n",
       "    <tr>\n",
       "      <th>2018-08-08</th>\n",
       "      <td>-1.537118</td>\n",
       "      <td>0.289430</td>\n",
       "      <td>1.110027</td>\n",
       "      <td>0.529932</td>\n",
       "    </tr>\n",
       "  </tbody>\n",
       "</table>\n",
       "</div>"
      ],
      "text/plain": [
       "                   甲         乙         丁         丙\n",
       "2018-08-01 -0.458154  1.687118  0.432620 -0.305890\n",
       "2018-08-02  1.345652  1.137522  0.143303 -0.103475\n",
       "2018-08-03  0.424385  0.645046  0.801084  0.428940\n",
       "2018-08-04 -0.801386  0.305941 -1.198230 -0.963627\n",
       "2018-08-05 -0.297151 -0.119252  0.130274 -0.741603\n",
       "2018-08-06 -0.634673  0.192923 -0.982708 -0.643888\n",
       "2018-08-07  1.039931 -1.049430 -0.940273  1.055282\n",
       "2018-08-08 -1.537118  0.289430  1.110027  0.529932"
      ]
     },
     "execution_count": 10,
     "metadata": {},
     "output_type": "execute_result"
    }
   ],
   "source": [
    "df"
   ]
  },
  {
   "cell_type": "code",
   "execution_count": 11,
   "metadata": {
    "collapsed": false
   },
   "outputs": [
    {
     "data": {
      "text/html": [
       "<div>\n",
       "<table border=\"1\" class=\"dataframe\">\n",
       "  <thead>\n",
       "    <tr style=\"text-align: right;\">\n",
       "      <th></th>\n",
       "      <th>甲</th>\n",
       "      <th>丁</th>\n",
       "    </tr>\n",
       "  </thead>\n",
       "  <tbody>\n",
       "    <tr>\n",
       "      <th>2018-08-01</th>\n",
       "      <td>-0.458154</td>\n",
       "      <td>0.432620</td>\n",
       "    </tr>\n",
       "    <tr>\n",
       "      <th>2018-08-02</th>\n",
       "      <td>1.345652</td>\n",
       "      <td>0.143303</td>\n",
       "    </tr>\n",
       "    <tr>\n",
       "      <th>2018-08-03</th>\n",
       "      <td>0.424385</td>\n",
       "      <td>0.801084</td>\n",
       "    </tr>\n",
       "    <tr>\n",
       "      <th>2018-08-04</th>\n",
       "      <td>-0.801386</td>\n",
       "      <td>-1.198230</td>\n",
       "    </tr>\n",
       "    <tr>\n",
       "      <th>2018-08-05</th>\n",
       "      <td>-0.297151</td>\n",
       "      <td>0.130274</td>\n",
       "    </tr>\n",
       "  </tbody>\n",
       "</table>\n",
       "</div>"
      ],
      "text/plain": [
       "                   甲         丁\n",
       "2018-08-01 -0.458154  0.432620\n",
       "2018-08-02  1.345652  0.143303\n",
       "2018-08-03  0.424385  0.801084\n",
       "2018-08-04 -0.801386 -1.198230\n",
       "2018-08-05 -0.297151  0.130274"
      ]
     },
     "execution_count": 11,
     "metadata": {},
     "output_type": "execute_result"
    }
   ],
   "source": [
    "#方法 1:\n",
    "#擷取 index '2018-08-01'至 '2018-08-05';\n",
    "#     columns ['甲','丁']\n",
    "df['2018-08-01':'2018-08-05'][['甲','丁']]"
   ]
  },
  {
   "cell_type": "code",
   "execution_count": 13,
   "metadata": {
    "collapsed": false
   },
   "outputs": [],
   "source": [
    "#練習: 擷取 index '2018-07-01'至 '2018-08-20'試試看"
   ]
  },
  {
   "cell_type": "code",
   "execution_count": 14,
   "metadata": {
    "collapsed": false
   },
   "outputs": [
    {
     "data": {
      "text/html": [
       "<div>\n",
       "<table border=\"1\" class=\"dataframe\">\n",
       "  <thead>\n",
       "    <tr style=\"text-align: right;\">\n",
       "      <th></th>\n",
       "      <th>甲</th>\n",
       "      <th>丁</th>\n",
       "    </tr>\n",
       "  </thead>\n",
       "  <tbody>\n",
       "    <tr>\n",
       "      <th>2018-08-01</th>\n",
       "      <td>-0.458154</td>\n",
       "      <td>0.432620</td>\n",
       "    </tr>\n",
       "    <tr>\n",
       "      <th>2018-08-02</th>\n",
       "      <td>1.345652</td>\n",
       "      <td>0.143303</td>\n",
       "    </tr>\n",
       "    <tr>\n",
       "      <th>2018-08-03</th>\n",
       "      <td>0.424385</td>\n",
       "      <td>0.801084</td>\n",
       "    </tr>\n",
       "    <tr>\n",
       "      <th>2018-08-04</th>\n",
       "      <td>-0.801386</td>\n",
       "      <td>-1.198230</td>\n",
       "    </tr>\n",
       "    <tr>\n",
       "      <th>2018-08-05</th>\n",
       "      <td>-0.297151</td>\n",
       "      <td>0.130274</td>\n",
       "    </tr>\n",
       "  </tbody>\n",
       "</table>\n",
       "</div>"
      ],
      "text/plain": [
       "                   甲         丁\n",
       "2018-08-01 -0.458154  0.432620\n",
       "2018-08-02  1.345652  0.143303\n",
       "2018-08-03  0.424385  0.801084\n",
       "2018-08-04 -0.801386 -1.198230\n",
       "2018-08-05 -0.297151  0.130274"
      ]
     },
     "execution_count": 14,
     "metadata": {},
     "output_type": "execute_result"
    }
   ],
   "source": [
    "#方法2a: DataFrame.loc() method \n",
    "#         Selecting rows by label/index; \n",
    "df.loc['2018-08-01':'2018-08-05'][['甲','丁']]"
   ]
  },
  {
   "cell_type": "code",
   "execution_count": 15,
   "metadata": {
    "collapsed": false
   },
   "outputs": [
    {
     "data": {
      "text/html": [
       "<div>\n",
       "<table border=\"1\" class=\"dataframe\">\n",
       "  <thead>\n",
       "    <tr style=\"text-align: right;\">\n",
       "      <th></th>\n",
       "      <th>甲</th>\n",
       "      <th>丁</th>\n",
       "    </tr>\n",
       "  </thead>\n",
       "  <tbody>\n",
       "    <tr>\n",
       "      <th>2018-08-01</th>\n",
       "      <td>-0.458154</td>\n",
       "      <td>0.432620</td>\n",
       "    </tr>\n",
       "    <tr>\n",
       "      <th>2018-08-02</th>\n",
       "      <td>1.345652</td>\n",
       "      <td>0.143303</td>\n",
       "    </tr>\n",
       "    <tr>\n",
       "      <th>2018-08-03</th>\n",
       "      <td>0.424385</td>\n",
       "      <td>0.801084</td>\n",
       "    </tr>\n",
       "    <tr>\n",
       "      <th>2018-08-04</th>\n",
       "      <td>-0.801386</td>\n",
       "      <td>-1.198230</td>\n",
       "    </tr>\n",
       "    <tr>\n",
       "      <th>2018-08-05</th>\n",
       "      <td>-0.297151</td>\n",
       "      <td>0.130274</td>\n",
       "    </tr>\n",
       "  </tbody>\n",
       "</table>\n",
       "</div>"
      ],
      "text/plain": [
       "                   甲         丁\n",
       "2018-08-01 -0.458154  0.432620\n",
       "2018-08-02  1.345652  0.143303\n",
       "2018-08-03  0.424385  0.801084\n",
       "2018-08-04 -0.801386 -1.198230\n",
       "2018-08-05 -0.297151  0.130274"
      ]
     },
     "execution_count": 15,
     "metadata": {},
     "output_type": "execute_result"
    }
   ],
   "source": [
    "#方法2b: DataFrame.loc() method\n",
    "df.loc['2018-08-01':'2018-08-05',['甲','丁']]"
   ]
  },
  {
   "cell_type": "code",
   "execution_count": 16,
   "metadata": {
    "collapsed": false
   },
   "outputs": [
    {
     "data": {
      "text/html": [
       "<div>\n",
       "<table border=\"1\" class=\"dataframe\">\n",
       "  <thead>\n",
       "    <tr style=\"text-align: right;\">\n",
       "      <th></th>\n",
       "      <th>甲</th>\n",
       "      <th>乙</th>\n",
       "    </tr>\n",
       "  </thead>\n",
       "  <tbody>\n",
       "    <tr>\n",
       "      <th>2018-08-03</th>\n",
       "      <td>0.424385</td>\n",
       "      <td>0.645046</td>\n",
       "    </tr>\n",
       "    <tr>\n",
       "      <th>2018-08-04</th>\n",
       "      <td>-0.801386</td>\n",
       "      <td>0.305941</td>\n",
       "    </tr>\n",
       "    <tr>\n",
       "      <th>2018-08-05</th>\n",
       "      <td>-0.297151</td>\n",
       "      <td>-0.119252</td>\n",
       "    </tr>\n",
       "    <tr>\n",
       "      <th>2018-08-06</th>\n",
       "      <td>-0.634673</td>\n",
       "      <td>0.192923</td>\n",
       "    </tr>\n",
       "  </tbody>\n",
       "</table>\n",
       "</div>"
      ],
      "text/plain": [
       "                   甲         乙\n",
       "2018-08-03  0.424385  0.645046\n",
       "2018-08-04 -0.801386  0.305941\n",
       "2018-08-05 -0.297151 -0.119252\n",
       "2018-08-06 -0.634673  0.192923"
      ]
     },
     "execution_count": 16,
     "metadata": {},
     "output_type": "execute_result"
    }
   ],
   "source": [
    "#方法3: DataFrame.iloc() method (integer-location based indexing)\n",
    "df.iloc[2:6,0:2]"
   ]
  },
  {
   "cell_type": "code",
   "execution_count": 17,
   "metadata": {
    "collapsed": true
   },
   "outputs": [],
   "source": [
    "#方法4: DataFrame.ix() method\n",
    "#      新版pandas 0.20 已棄用"
   ]
  },
  {
   "cell_type": "code",
   "execution_count": null,
   "metadata": {
    "collapsed": true
   },
   "outputs": [],
   "source": []
  }
 ],
 "metadata": {
  "kernelspec": {
   "display_name": "Python 3",
   "language": "python",
   "name": "python3"
  },
  "language_info": {
   "codemirror_mode": {
    "name": "ipython",
    "version": 3
   },
   "file_extension": ".py",
   "mimetype": "text/x-python",
   "name": "python",
   "nbconvert_exporter": "python",
   "pygments_lexer": "ipython3",
   "version": "3.5.2"
  }
 },
 "nbformat": 4,
 "nbformat_minor": 0
}
