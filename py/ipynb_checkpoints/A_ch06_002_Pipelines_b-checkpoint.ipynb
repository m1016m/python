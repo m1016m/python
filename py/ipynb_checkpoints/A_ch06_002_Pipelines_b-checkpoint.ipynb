{
 "cells": [
  {
   "cell_type": "code",
   "execution_count": 1,
   "metadata": {
    "collapsed": true
   },
   "outputs": [],
   "source": [
    "#A_ch06_002_Pipelines_b.ipynb"
   ]
  },
  {
   "cell_type": "code",
   "execution_count": 2,
   "metadata": {
    "collapsed": true
   },
   "outputs": [],
   "source": [
    "#step 0:  載入原始資料集(from UCI machine learning repository)\n",
    "#         569個樣本,每個樣本32個column(行)\n",
    "#         第1個column是「unique ID number」, 第2個column是label(M=Malignant,B=Benign)\n",
    "#         第3-32行是30個實數特徵(feature)"
   ]
  },
  {
   "cell_type": "code",
   "execution_count": 3,
   "metadata": {
    "collapsed": true
   },
   "outputs": [],
   "source": [
    "#step 0.1: 使用pandas.read_csv() 讀取原始資料 'wdbc.data', 成為 dataframe 'cancer_df'\n",
    "#https://archive.ics.uci.edu/ml/machine-learning-databases/breast-cancer-wisconsin/wdbc.data\n",
    "import pandas as pd\n",
    "url_file='https://archive.ics.uci.edu/ml/machine-learning-databases/breast-cancer-wisconsin/wdbc.data'\n",
    "cancer_df=pd.read_csv(url_file,header=None) #header=None\n",
    "#cancer_df=pd.read_csv('wdbc.data',header=None) #如果離線"
   ]
  },
  {
   "cell_type": "code",
   "execution_count": 5,
   "metadata": {
    "collapsed": true
   },
   "outputs": [],
   "source": [
    "#step 0.2: 使用dataframe.loc 裁取第3-32行(30個特徵), 並取出dataframe.values(是ndarray) 'X'\n",
    "#                         裁取第2行(label), 並取出dataframe.values(是ndarray) 'y'\n",
    "X=cancer_df.loc[:,2:].values   #第3-32行是30個實數特徵(feature)\n",
    "y=cancer_df.loc[:,1].values    #第2個column是label(M=Malignant,B=Benign)"
   ]
  },
  {
   "cell_type": "code",
   "execution_count": 6,
   "metadata": {
    "collapsed": false
   },
   "outputs": [
    {
     "data": {
      "text/plain": [
       "array([1, 0], dtype=int64)"
      ]
     },
     "execution_count": 6,
     "metadata": {},
     "output_type": "execute_result"
    }
   ],
   "source": [
    "#step 0.3: 使用 LabelEncoder 將Label字串('M'/'B') 轉成整數 1 / 0\n",
    "from sklearn.preprocessing import LabelEncoder\n",
    "lbc=LabelEncoder()      #create LabelEncoder object 'lbc'\n",
    "y=lbc.fit_transform(y)  #以 y fit 'lbc'\n",
    "lbc.transform(['M','B']) #transform"
   ]
  },
  {
   "cell_type": "code",
   "execution_count": 6,
   "metadata": {
    "collapsed": true
   },
   "outputs": [],
   "source": [
    "#step 0.4: train_test_split (使用 sklearn.cross_validation / 也可以用 model_selection)\n",
    "from sklearn.cross_validation import train_test_split\n",
    "X_train,X_test,y_train,y_test=train_test_split(X,y,test_size=0.20, random_state=0)"
   ]
  },
  {
   "cell_type": "code",
   "execution_count": 7,
   "metadata": {
    "collapsed": true
   },
   "outputs": [],
   "source": [
    "#===================================================================================\n",
    "#建立一個 Pipeline 物件 'pipe_lr', 將下列各動作整合:\n",
    "#1. preprocessing: StandardScaler\n",
    "#2. preprocession: PCA\n",
    "#3. classification: Logistic regression\n",
    "\n",
    "#Pipeline 的參數是 list of tuples, \n",
    "#每個 tuple由 ('識別字串','transfer / Evaluator')組成"
   ]
  },
  {
   "cell_type": "code",
   "execution_count": 8,
   "metadata": {
    "collapsed": true
   },
   "outputs": [],
   "source": [
    "from sklearn.pipeline import Pipeline\n",
    "from sklearn.preprocessing import StandardScaler\n",
    "from sklearn.decomposition import PCA\n",
    "from sklearn.linear_model import LogisticRegression"
   ]
  },
  {
   "cell_type": "code",
   "execution_count": 9,
   "metadata": {
    "collapsed": true
   },
   "outputs": [],
   "source": [
    "#建立ipeline 物件 'pipe_lr'\n",
    "pipe_lr=Pipeline([('stdScl',StandardScaler()),\n",
    "                 ('pca',PCA(n_components=2)),\n",
    "                 ('lrc',LogisticRegression(random_state=1))])"
   ]
  },
  {
   "cell_type": "code",
   "execution_count": 10,
   "metadata": {
    "collapsed": false
   },
   "outputs": [
    {
     "data": {
      "text/plain": [
       "Pipeline(memory=None,\n",
       "     steps=[('stdScl', StandardScaler(copy=True, with_mean=True, with_std=True)), ('pca', PCA(copy=True, iterated_power='auto', n_components=2, random_state=None,\n",
       "  svd_solver='auto', tol=0.0, whiten=False)), ('lrc', LogisticRegression(C=1.0, class_weight=None, dual=False, fit_intercept=True,\n",
       "          intercept_scaling=1, max_iter=100, multi_class='ovr', n_jobs=1,\n",
       "          penalty='l2', random_state=1, solver='liblinear', tol=0.0001,\n",
       "          verbose=0, warm_start=False))])"
      ]
     },
     "execution_count": 10,
     "metadata": {},
     "output_type": "execute_result"
    }
   ],
   "source": [
    "#以train data fit pipe_lr\n",
    "pipe_lr.fit(X_train,y_train)"
   ]
  },
  {
   "cell_type": "code",
   "execution_count": 11,
   "metadata": {
    "collapsed": false
   },
   "outputs": [
    {
     "name": "stdout",
     "output_type": "stream",
     "text": [
      "Test Accuracy: 0.921\n"
     ]
    }
   ],
   "source": [
    "#score pipe_lr\n",
    "print('Test Accuracy: %.3f' % pipe_lr.score(X_test,y_test))"
   ]
  },
  {
   "cell_type": "code",
   "execution_count": null,
   "metadata": {
    "collapsed": true
   },
   "outputs": [],
   "source": []
  },
  {
   "cell_type": "code",
   "execution_count": null,
   "metadata": {
    "collapsed": true
   },
   "outputs": [],
   "source": []
  },
  {
   "cell_type": "code",
   "execution_count": 7,
   "metadata": {
    "collapsed": true
   },
   "outputs": [],
   "source": [
    "#===================================================================\n",
    "#動手做--在均格搜尋中使用Pipelines 練習"
   ]
  },
  {
   "cell_type": "code",
   "execution_count": null,
   "metadata": {
    "collapsed": true
   },
   "outputs": [],
   "source": [
    "#定義一個參數均格 param_grid\n",
    "#'pca_n_components' --> Pipeline 'pipe_lr' 的 'pca' step, 參數 n_components 的值\n",
    "#'lrc_C' --> Pipeline 'pipe_lr' 的 'lrc' step, 參數 C 的值\n",
    "param_grid={'pca_n_components':[1,2,3],\n",
    "            'lrc_C':[0.01,0.1,1,10]}\n",
    "from sklearn.model_selection import GridSearchCV\n",
    "grid=GridSearchCV()"
   ]
  }
 ],
 "metadata": {
  "anaconda-cloud": {},
  "kernelspec": {
   "display_name": "Python 3",
   "language": "python",
   "name": "python3"
  },
  "language_info": {
   "codemirror_mode": {
    "name": "ipython",
    "version": 3
   },
   "file_extension": ".py",
   "mimetype": "text/x-python",
   "name": "python",
   "nbconvert_exporter": "python",
   "pygments_lexer": "ipython3",
   "version": "3.5.2"
  }
 },
 "nbformat": 4,
 "nbformat_minor": 1
}
