{
 "cells": [
  {
   "cell_type": "code",
   "execution_count": 1,
   "metadata": {
    "collapsed": true
   },
   "outputs": [],
   "source": [
    "#A_ch05_001_evaluation.ipynb\n",
    "#評估與改善模型效能,一個簡單完整的範例(scikit-learn)"
   ]
  },
  {
   "cell_type": "code",
   "execution_count": 2,
   "metadata": {
    "collapsed": true
   },
   "outputs": [],
   "source": [
    "from sklearn.datasets import make_blobs\n",
    "from sklearn.linear_model import LogisticRegression\n",
    "from sklearn.model_selection import train_test_split"
   ]
  },
  {
   "cell_type": "code",
   "execution_count": 3,
   "metadata": {
    "collapsed": true
   },
   "outputs": [],
   "source": [
    "#step 0. 建立一組虛擬資料, 使用 make_blobs\n",
    "X,y=make_blobs(random_state=0,n_samples=200)"
   ]
  },
  {
   "cell_type": "code",
   "execution_count": 4,
   "metadata": {
    "collapsed": false
   },
   "outputs": [
    {
     "name": "stdout",
     "output_type": "stream",
     "text": [
      "type(X)= <class 'numpy.ndarray'>  X.shape= (200, 2)  type(y)= <class 'numpy.ndarray'>  y.shape= (200,)\n"
     ]
    }
   ],
   "source": [
    "#檢視虛擬資料型態\n",
    "print('type(X)=',type(X),' X.shape=',X.shape,' type(y)=',type(y),' y.shape=',y.shape)"
   ]
  },
  {
   "cell_type": "code",
   "execution_count": 5,
   "metadata": {
    "collapsed": false
   },
   "outputs": [
    {
     "data": {
      "text/plain": [
       "array([[-1.73380769,  3.79806117],\n",
       "       [ 0.62835793,  4.4601363 ],\n",
       "       [ 1.1312175 ,  4.68194985],\n",
       "       [-1.42917905,  3.50083594],\n",
       "       [ 1.27450825,  5.63017322]])"
      ]
     },
     "execution_count": 5,
     "metadata": {},
     "output_type": "execute_result"
    }
   ],
   "source": [
    "#檢視 X 前5個資料點\n",
    "X[:5]"
   ]
  },
  {
   "cell_type": "code",
   "execution_count": 6,
   "metadata": {
    "collapsed": false
   },
   "outputs": [
    {
     "data": {
      "text/plain": [
       "1    67\n",
       "0    67\n",
       "2    66\n",
       "Name: label, dtype: int64"
      ]
     },
     "execution_count": 6,
     "metadata": {},
     "output_type": "execute_result"
    }
   ],
   "source": [
    "#檢視 y(ndarray) 值有多少種, --> 0,1,2 三種\n",
    "from pandas import DataFrame        #import pandas.DataFrame\n",
    "df=DataFrame(y,columns=['label'])   #將 y(ndarray) 轉成 DataFrame\n",
    "df.label.value_counts()             #叫用 DataFrame.value_counts() "
   ]
  },
  {
   "cell_type": "code",
   "execution_count": 7,
   "metadata": {
    "collapsed": true
   },
   "outputs": [],
   "source": [
    "import matplotlib.pyplot as plt\n",
    "%matplotlib inline"
   ]
  },
  {
   "cell_type": "code",
   "execution_count": 10,
   "metadata": {
    "collapsed": false
   },
   "outputs": [
    {
     "data": {
      "image/png": "[encoded data removed]",
      "text/plain": [
       "<matplotlib.figure.Figure at 0xb8878d0>"
      ]
     },
     "metadata": {},
     "output_type": "display_data"
    }
   ],
   "source": [
    "#繪製檢視 X,y \n",
    "for pos in range(0,len(y)):\n",
    "    if y[pos]==0:\n",
    "        plt.plot(X[pos][0],X[pos][1],'r^')\n",
    "    if y[pos]==1:\n",
    "        plt.plot(X[pos][0],X[pos][1],'g^')\n",
    "    if y[pos]==2:\n",
    "        plt.plot(X[pos][0],X[pos][1],'b^')\n",
    "#plt.scatter(X[:,0],X[:,1],c=y,marker='^',s=60) "
   ]
  },
  {
   "cell_type": "code",
   "execution_count": 8,
   "metadata": {
    "collapsed": true
   },
   "outputs": [],
   "source": [
    "#step 1. 把資料分成train dataset和test dataset\n",
    "#        train_test_split(), 預設 trainData:testDate 0.75:0.25, stratify=y, y(label) 比例也是 0.75:0.25 \n",
    "X_train,X_test,y_train,y_test=train_test_split(X,y,random_state=0,stratify=y)"
   ]
  },
  {
   "cell_type": "code",
   "execution_count": 9,
   "metadata": {
    "collapsed": false
   },
   "outputs": [
    {
     "name": "stdout",
     "output_type": "stream",
     "text": [
      "len(X_train): 150  len(X_test): 50\n"
     ]
    }
   ],
   "source": [
    "#檢視資料比例\n",
    "print('len(X_train):',len(X_train),' len(X_test):',len(X_test))"
   ]
  },
  {
   "cell_type": "code",
   "execution_count": 10,
   "metadata": {
    "collapsed": true
   },
   "outputs": [],
   "source": [
    "#step 2. 建立及訓練(fit)模型,用訓練資料集(X_train,y_train)\n",
    "logregModel=LogisticRegression() #使用LogisticRegression()建立模型 'logregModel'"
   ]
  },
  {
   "cell_type": "code",
   "execution_count": 11,
   "metadata": {
    "collapsed": false
   },
   "outputs": [
    {
     "data": {
      "text/plain": [
       "LogisticRegression(C=1.0, class_weight=None, dual=False, fit_intercept=True,\n",
       "          intercept_scaling=1, max_iter=100, multi_class='ovr', n_jobs=1,\n",
       "          penalty='l2', random_state=None, solver='liblinear', tol=0.0001,\n",
       "          verbose=0, warm_start=False)"
      ]
     },
     "execution_count": 11,
     "metadata": {},
     "output_type": "execute_result"
    }
   ],
   "source": [
    "logregModel.fit(X_train,y_train) #以 train data fit 模型"
   ]
  },
  {
   "cell_type": "code",
   "execution_count": 12,
   "metadata": {
    "collapsed": true
   },
   "outputs": [],
   "source": [
    "#step 3. 評估模型(score),用測試資料集(X_test,y_test)\n",
    "score=logregModel.score(X_test,y_test)"
   ]
  },
  {
   "cell_type": "code",
   "execution_count": 13,
   "metadata": {
    "collapsed": false
   },
   "outputs": [
    {
     "name": "stdout",
     "output_type": "stream",
     "text": [
      "0.96\n"
     ]
    }
   ],
   "source": [
    "print(score)"
   ]
  },
  {
   "cell_type": "code",
   "execution_count": 14,
   "metadata": {
    "collapsed": false
   },
   "outputs": [
    {
     "data": {
      "text/plain": [
       "array([2])"
      ]
     },
     "execution_count": 14,
     "metadata": {},
     "output_type": "execute_result"
    }
   ],
   "source": [
    "#step 4. 使用模型預測,注意! predict() 接受的引數 資料維度\n",
    "logregModel.predict([[-1.73380769,  3.79806117]])"
   ]
  },
  {
   "cell_type": "code",
   "execution_count": 15,
   "metadata": {
    "collapsed": false
   },
   "outputs": [
    {
     "data": {
      "text/plain": [
       "array([2])"
      ]
     },
     "execution_count": 15,
     "metadata": {},
     "output_type": "execute_result"
    }
   ],
   "source": [
    "logregModel.predict([X_test[0]])"
   ]
  },
  {
   "cell_type": "code",
   "execution_count": null,
   "metadata": {
    "collapsed": true
   },
   "outputs": [],
   "source": [
    "#變更資料維度的方法:\n",
    "# ndarray.reshape() \n",
    "# np.newaxis() "
   ]
  }
 ],
 "metadata": {
  "anaconda-cloud": {},
  "kernelspec": {
   "display_name": "Python 3",
   "language": "python",
   "name": "python3"
  },
  "language_info": {
   "codemirror_mode": {
    "name": "ipython",
    "version": 3
   },
   "file_extension": ".py",
   "mimetype": "text/x-python",
   "name": "python",
   "nbconvert_exporter": "python",
   "pygments_lexer": "ipython3",
   "version": "3.5.2"
  }
 },
 "nbformat": 4,
 "nbformat_minor": 1
}
