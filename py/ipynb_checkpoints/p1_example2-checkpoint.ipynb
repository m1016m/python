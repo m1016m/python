{
 "cells": [
  {
   "cell_type": "code",
   "execution_count": 1,
   "metadata": {
    "collapsed": true
   },
   "outputs": [],
   "source": [
    "#p1_example2 資策會 \"http://www.iiiedu.org.tw/ites/ites/ind_roomRent.htm\""
   ]
  },
  {
   "cell_type": "code",
   "execution_count": 2,
   "metadata": {
    "collapsed": true
   },
   "outputs": [],
   "source": [
    "from urllib.request import urlopen\n",
    "#from urllib.request module import urlopen function"
   ]
  },
  {
   "cell_type": "code",
   "execution_count": 3,
   "metadata": {
    "collapsed": true
   },
   "outputs": [],
   "source": [
    "from bs4 import BeautifulSoup\n",
    "#from bs4 module import BeautifulSoup function "
   ]
  },
  {
   "cell_type": "code",
   "execution_count": 4,
   "metadata": {
    "collapsed": true
   },
   "outputs": [],
   "source": [
    "import re\n",
    "#import regular expression module,規則運算式"
   ]
  },
  {
   "cell_type": "code",
   "execution_count": 5,
   "metadata": {
    "collapsed": true
   },
   "outputs": [],
   "source": [
    "html=urlopen(\"http://www.iiiedu.org.tw/ites/ites/ind_roomRent.htm\")\n",
    "#以urlopen() 開啟連結 url,並以html變數指向它"
   ]
  },
  {
   "cell_type": "code",
   "execution_count": 6,
   "metadata": {
    "collapsed": false
   },
   "outputs": [],
   "source": [
    "bsObj=BeautifulSoup(html,\"lxml\") \n",
    "#以BeautifulSoup() function, 'lxml' 解析方式, 你也可以用 'htlm5lib'\n",
    "#將html 轉成 BeautifulSoup Object bsObj, "
   ]
  },
  {
   "cell_type": "code",
   "execution_count": 7,
   "metadata": {
    "collapsed": false
   },
   "outputs": [],
   "source": [
    "list_a=bsObj.findAll(\"a\")\n",
    "#以findAll() method 找出所有的 tag <a>\n",
    "#回傳值是一個list (list of tag <a>)"
   ]
  },
  {
   "cell_type": "code",
   "execution_count": 8,
   "metadata": {
    "collapsed": true
   },
   "outputs": [],
   "source": [
    "#regular string \" [A-Za-z0-9\\._+]+@[A-Za-z]+\\.(com|org|edu|net) \""
   ]
  },
  {
   "cell_type": "code",
   "execution_count": 9,
   "metadata": {
    "collapsed": false
   },
   "outputs": [
    {
     "name": "stdout",
     "output_type": "stream",
     "text": [
      "amberhsu@iii.org.tw\n"
     ]
    }
   ],
   "source": [
    "for la in list_a:\n",
    "    if re.search(\"[A-Za-z0-9\\._+]+@[A-Za-z]+\\.(com|org|edu|net)\",la.get_text()):\n",
    "        print(la.get_text())"
   ]
  },
  {
   "cell_type": "code",
   "execution_count": null,
   "metadata": {
    "collapsed": true
   },
   "outputs": [],
   "source": []
  }
 ],
 "metadata": {
  "anaconda-cloud": {},
  "kernelspec": {
   "display_name": "Python 3",
   "language": "python",
   "name": "python3"
  },
  "language_info": {
   "codemirror_mode": {
    "name": "ipython",
    "version": 3
   },
   "file_extension": ".py",
   "mimetype": "text/x-python",
   "name": "python",
   "nbconvert_exporter": "python",
   "pygments_lexer": "ipython3",
   "version": "3.5.2"
  }
 },
 "nbformat": 4,
 "nbformat_minor": 0
}
