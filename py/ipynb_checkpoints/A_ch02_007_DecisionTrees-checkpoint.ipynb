{
 "cells": [
  {
   "cell_type": "code",
   "execution_count": 1,
   "metadata": {
    "collapsed": true
   },
   "outputs": [],
   "source": [
    "#A_ch02_007_DecisionTrees.ipynb\n",
    "#控制決策樹的複雜度,以scikit-learn 內附威斯康辛乳癌資料集, 為範例"
   ]
  },
  {
   "cell_type": "code",
   "execution_count": 2,
   "metadata": {
    "collapsed": true
   },
   "outputs": [],
   "source": [
    "import numpy as np\n",
    "import matplotlib.pyplot as plt\n",
    "import pandas as pd\n",
    "import mglearn"
   ]
  },
  {
   "cell_type": "code",
   "execution_count": 3,
   "metadata": {
    "collapsed": true
   },
   "outputs": [],
   "source": [
    "#從scikit-learn 載入資料\n",
    "from sklearn.datasets import load_breast_cancer\n",
    "cancerData=load_breast_cancer() #載入 breast cancer 資料,並以cancerData 指定"
   ]
  },
  {
   "cell_type": "code",
   "execution_count": 4,
   "metadata": {
    "collapsed": true
   },
   "outputs": [],
   "source": [
    "#檢視資料, Dictionary-like object\n",
    "cancerData?"
   ]
  },
  {
   "cell_type": "code",
   "execution_count": 5,
   "metadata": {
    "collapsed": false
   },
   "outputs": [
    {
     "name": "stdout",
     "output_type": "stream",
     "text": [
      "cancerData.keys(): \n",
      "dict_keys(['feature_names', 'DESCR', 'data', 'target', 'target_names'])\n"
     ]
    }
   ],
   "source": [
    "print(\"cancerData.keys(): \\n{}\".format(cancerData.keys()))"
   ]
  },
  {
   "cell_type": "code",
   "execution_count": 6,
   "metadata": {
    "collapsed": false
   },
   "outputs": [
    {
     "name": "stdout",
     "output_type": "stream",
     "text": [
      "cancerData.data 資料列與特徵數:(569, 30)\n"
     ]
    }
   ],
   "source": [
    "#資料列與特徵數, cancerData.data\n",
    "print(\"cancerData.data 資料列與特徵數:{}\".format(cancerData.data.shape))"
   ]
  },
  {
   "cell_type": "code",
   "execution_count": 7,
   "metadata": {
    "collapsed": false
   },
   "outputs": [
    {
     "name": "stdout",
     "output_type": "stream",
     "text": [
      "cancerData.target , target_names:\n",
      "{'malignant': 212, 'benign': 357}\n"
     ]
    }
   ],
   "source": [
    "#目標值,cancerData.target, np.bincount() bins count ,Count number of occurrences of each value in array of non-negative ints\n",
    "import numpy as np\n",
    "print(\"cancerData.target , target_names:\\n{}\".format(\n",
    "    {n: v for n,v in zip(cancerData.target_names, np.bincount(cancerData.target))}))"
   ]
  },
  {
   "cell_type": "code",
   "execution_count": 8,
   "metadata": {
    "collapsed": false
   },
   "outputs": [],
   "source": [
    "#準備訓練(train)與測試(test)資料集\n",
    "#import train_test_split() function\n",
    "from sklearn.model_selection import train_test_split\n",
    "X_train,X_test,y_train,y_test=train_test_split(cancerData.data,cancerData.target,\n",
    "                                               stratify=cancerData.target,random_state=42)"
   ]
  },
  {
   "cell_type": "code",
   "execution_count": 9,
   "metadata": {
    "collapsed": true
   },
   "outputs": [],
   "source": [
    "#匯入 DecisionTree Classifier\n",
    "from sklearn.tree import DecisionTreeClassifier"
   ]
  },
  {
   "cell_type": "code",
   "execution_count": 10,
   "metadata": {
    "collapsed": true
   },
   "outputs": [],
   "source": [
    "#建立一個 DecisionTreeClassifier object 'tree01', random_state 亂數種子\n",
    "tree01=DecisionTreeClassifier(random_state=0)"
   ]
  },
  {
   "cell_type": "code",
   "execution_count": 12,
   "metadata": {
    "collapsed": false
   },
   "outputs": [],
   "source": [
    "#訓練模型, 未作任何限制, 建了一棵完全發展數,所有樹葉都是純的(pure)\n",
    "treeModel01=tree01.fit(X_train,y_train)"
   ]
  },
  {
   "cell_type": "code",
   "execution_count": 13,
   "metadata": {
    "collapsed": false
   },
   "outputs": [
    {
     "data": {
      "text/plain": [
       "DecisionTreeClassifier(class_weight=None, criterion='gini', max_depth=None,\n",
       "            max_features=None, max_leaf_nodes=None,\n",
       "            min_impurity_split=1e-07, min_samples_leaf=1,\n",
       "            min_samples_split=2, min_weight_fraction_leaf=0.0,\n",
       "            presort=False, random_state=0, splitter='best')"
      ]
     },
     "execution_count": 13,
     "metadata": {},
     "output_type": "execute_result"
    }
   ],
   "source": [
    "treeModel01"
   ]
  },
  {
   "cell_type": "code",
   "execution_count": 14,
   "metadata": {
    "collapsed": false
   },
   "outputs": [
    {
     "data": {
      "text/plain": [
       "1.0"
      ]
     },
     "execution_count": 14,
     "metadata": {},
     "output_type": "execute_result"
    }
   ],
   "source": [
    "#使用訓練資料集,驗證這個完全樹,treeModel01\n",
    "#auc=1.0, 100%完全命中\n",
    "treeModel01.score(X_train,y_train)"
   ]
  },
  {
   "cell_type": "code",
   "execution_count": 15,
   "metadata": {
    "collapsed": false
   },
   "outputs": [
    {
     "data": {
      "text/plain": [
       "0.93706293706293708"
      ]
     },
     "execution_count": 15,
     "metadata": {},
     "output_type": "execute_result"
    }
   ],
   "source": [
    "#但，改用測試資料集, auc=0.937\n",
    "treeModel01.score(X_test,y_test)"
   ]
  },
  {
   "cell_type": "code",
   "execution_count": 16,
   "metadata": {
    "collapsed": true
   },
   "outputs": [],
   "source": [
    "#以上可知，若不限制決策樹深度(不修剪),樹會變得任意深而複雜，易於過度擬合(overfitting)"
   ]
  },
  {
   "cell_type": "code",
   "execution_count": 17,
   "metadata": {
    "collapsed": true
   },
   "outputs": [],
   "source": [
    "#下例,我們以 max_depth, 限制樹的深度 (預修剪)"
   ]
  },
  {
   "cell_type": "code",
   "execution_count": 18,
   "metadata": {
    "collapsed": false
   },
   "outputs": [
    {
     "data": {
      "text/plain": [
       "DecisionTreeClassifier(class_weight=None, criterion='gini', max_depth=4,\n",
       "            max_features=None, max_leaf_nodes=None,\n",
       "            min_impurity_split=1e-07, min_samples_leaf=1,\n",
       "            min_samples_split=2, min_weight_fraction_leaf=0.0,\n",
       "            presort=False, random_state=0, splitter='best')"
      ]
     },
     "execution_count": 18,
     "metadata": {},
     "output_type": "execute_result"
    }
   ],
   "source": [
    "treeModel02=DecisionTreeClassifier(max_depth=4,random_state=0)\n",
    "treeModel02.fit(X_train,y_train)"
   ]
  },
  {
   "cell_type": "code",
   "execution_count": 22,
   "metadata": {
    "collapsed": false
   },
   "outputs": [
    {
     "name": "stdout",
     "output_type": "stream",
     "text": [
      "Auc on trainint set:0.988\n",
      "Auc on test set:0.951\n"
     ]
    }
   ],
   "source": [
    "#再分別以訓練資料集及測試資料集計算auc\n",
    "#訓練集不再100%,但測試集auc提高\n",
    "print('Auc on trainint set:{:.3f}'.format(treeModel02.score(X_train,y_train)))\n",
    "print('Auc on test set:{:.3f}'.format(treeModel02.score(X_test,y_test)))"
   ]
  },
  {
   "cell_type": "code",
   "execution_count": 25,
   "metadata": {
    "collapsed": false
   },
   "outputs": [],
   "source": [
    "#分析決策樹,以scikit-learn export_graphviz() 將樹視覺化, 存到 \"tree02.dot\" 檔\n",
    "from sklearn.tree import export_graphviz\n",
    "export_graphviz(treeModel02,out_file=\"tree02.dot\",class_names=[\"malignant\",\"benign\"],\n",
    "               feature_names=cancerData.feature_names,impurity=False,filled=True)"
   ]
  },
  {
   "cell_type": "code",
   "execution_count": null,
   "metadata": {
    "collapsed": true
   },
   "outputs": [],
   "source": [
    "#檢視 \"tree02.dot\" 檔\n",
    "import graphviz"
   ]
  }
 ],
 "metadata": {
  "kernelspec": {
   "display_name": "Python 3",
   "language": "python",
   "name": "python3"
  },
  "language_info": {
   "codemirror_mode": {
    "name": "ipython",
    "version": 3
   },
   "file_extension": ".py",
   "mimetype": "text/x-python",
   "name": "python",
   "nbconvert_exporter": "python",
   "pygments_lexer": "ipython3",
   "version": "3.5.2"
  }
 },
 "nbformat": 4,
 "nbformat_minor": 0
}
