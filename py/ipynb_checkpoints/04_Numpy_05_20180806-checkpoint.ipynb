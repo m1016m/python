{
 "cells": [
  {
   "cell_type": "code",
   "execution_count": 1,
   "metadata": {
    "collapsed": true
   },
   "outputs": [],
   "source": [
    "#04_Numpy_05_20180806.ipynb"
   ]
  },
  {
   "cell_type": "code",
   "execution_count": 2,
   "metadata": {
    "collapsed": true
   },
   "outputs": [],
   "source": [
    "import numpy as np #import numpy as np"
   ]
  },
  {
   "cell_type": "code",
   "execution_count": 3,
   "metadata": {
    "collapsed": true
   },
   "outputs": [],
   "source": [
    "from numpy.random import randn #from numpy.random import randn"
   ]
  },
  {
   "cell_type": "code",
   "execution_count": 4,
   "metadata": {
    "collapsed": false
   },
   "outputs": [],
   "source": [
    "import matplotlib.pyplot as plt #import matplotlib.pyplot as plt"
   ]
  },
  {
   "cell_type": "code",
   "execution_count": 5,
   "metadata": {
    "collapsed": true
   },
   "outputs": [],
   "source": [
    "%matplotlib notebook"
   ]
  },
  {
   "cell_type": "code",
   "execution_count": 6,
   "metadata": {
    "collapsed": true
   },
   "outputs": [],
   "source": [
    "#Mathematical and Statistical Methods"
   ]
  },
  {
   "cell_type": "code",
   "execution_count": 16,
   "metadata": {
    "collapsed": true
   },
   "outputs": [],
   "source": [
    "#Aggregations (often called reductions) like sum, mean, and standard deviation std"
   ]
  },
  {
   "cell_type": "code",
   "execution_count": 17,
   "metadata": {
    "collapsed": false
   },
   "outputs": [],
   "source": [
    "arr=np.random.randn(5,4) #製作一組 normally-distributed data"
   ]
  },
  {
   "cell_type": "code",
   "execution_count": 18,
   "metadata": {
    "collapsed": false
   },
   "outputs": [
    {
     "data": {
      "text/plain": [
       "array([[-0.57793968, -1.11641669, -0.80332388, -1.12776893],\n",
       "       [ 0.43057437,  0.04214507, -1.31293821,  0.39306482],\n",
       "       [ 1.02843538,  0.64677991, -0.41661528, -0.10326973],\n",
       "       [-0.00831778, -0.06071051, -1.18914819,  0.14312558],\n",
       "       [-1.33539329,  1.20492626,  1.07557679, -1.12663329]])"
      ]
     },
     "execution_count": 18,
     "metadata": {},
     "output_type": "execute_result"
    }
   ],
   "source": [
    "arr #numpy.ndarray object"
   ]
  },
  {
   "cell_type": "code",
   "execution_count": 19,
   "metadata": {
    "collapsed": true
   },
   "outputs": [],
   "source": [
    "arr=np.where(arr>0, 1, -1) #將arr 整成正負1"
   ]
  },
  {
   "cell_type": "code",
   "execution_count": 20,
   "metadata": {
    "collapsed": false
   },
   "outputs": [
    {
     "data": {
      "text/plain": [
       "array([[-1, -1, -1, -1],\n",
       "       [ 1,  1, -1,  1],\n",
       "       [ 1,  1, -1, -1],\n",
       "       [-1, -1, -1,  1],\n",
       "       [-1,  1,  1, -1]])"
      ]
     },
     "execution_count": 20,
     "metadata": {},
     "output_type": "execute_result"
    }
   ],
   "source": [
    "arr"
   ]
  },
  {
   "cell_type": "code",
   "execution_count": 21,
   "metadata": {
    "collapsed": false
   },
   "outputs": [
    {
     "data": {
      "text/plain": [
       "-0.20000000000000001"
      ]
     },
     "execution_count": 21,
     "metadata": {},
     "output_type": "execute_result"
    }
   ],
   "source": [
    "arr.mean() #叫用 mean() method  "
   ]
  },
  {
   "cell_type": "code",
   "execution_count": 22,
   "metadata": {
    "collapsed": false
   },
   "outputs": [
    {
     "data": {
      "text/plain": [
       "-4"
      ]
     },
     "execution_count": 22,
     "metadata": {},
     "output_type": "execute_result"
    }
   ],
   "source": [
    "arr.sum() #叫用 sum() method"
   ]
  },
  {
   "cell_type": "code",
   "execution_count": 13,
   "metadata": {
    "collapsed": false
   },
   "outputs": [
    {
     "data": {
      "text/plain": [
       "(5, 4)"
      ]
     },
     "execution_count": 13,
     "metadata": {},
     "output_type": "execute_result"
    }
   ],
   "source": [
    "arr.shape"
   ]
  },
  {
   "cell_type": "code",
   "execution_count": 23,
   "metadata": {
    "collapsed": false
   },
   "outputs": [
    {
     "data": {
      "text/plain": [
       "array([-0.2,  0.2, -0.6, -0.2])"
      ]
     },
     "execution_count": 23,
     "metadata": {},
     "output_type": "execute_result"
    }
   ],
   "source": [
    "arr.mean(axis=0) #沿axis0 計算"
   ]
  },
  {
   "cell_type": "code",
   "execution_count": 24,
   "metadata": {
    "collapsed": false
   },
   "outputs": [
    {
     "data": {
      "text/plain": [
       "array([-4,  2,  0, -2,  0])"
      ]
     },
     "execution_count": 24,
     "metadata": {},
     "output_type": "execute_result"
    }
   ],
   "source": [
    "arr.sum(1) #沿axis1 計算"
   ]
  },
  {
   "cell_type": "code",
   "execution_count": 25,
   "metadata": {
    "collapsed": true
   },
   "outputs": [],
   "source": [
    "#cumsum and cumprod do not aggregate"
   ]
  },
  {
   "cell_type": "code",
   "execution_count": 26,
   "metadata": {
    "collapsed": true
   },
   "outputs": [],
   "source": [
    "arr02=np.array([[0,1,2],[3,4,5],[6,7,8]])"
   ]
  },
  {
   "cell_type": "code",
   "execution_count": 27,
   "metadata": {
    "collapsed": false
   },
   "outputs": [
    {
     "data": {
      "text/plain": [
       "array([[0, 1, 2],\n",
       "       [3, 4, 5],\n",
       "       [6, 7, 8]])"
      ]
     },
     "execution_count": 27,
     "metadata": {},
     "output_type": "execute_result"
    }
   ],
   "source": [
    "arr02 #numpy.ndarray objecta"
   ]
  },
  {
   "cell_type": "code",
   "execution_count": 28,
   "metadata": {
    "collapsed": false
   },
   "outputs": [
    {
     "data": {
      "text/plain": [
       "array([[ 0,  1,  2],\n",
       "       [ 3,  5,  7],\n",
       "       [ 9, 12, 15]], dtype=int32)"
      ]
     },
     "execution_count": 28,
     "metadata": {},
     "output_type": "execute_result"
    }
   ],
   "source": [
    "arr02.cumsum(0) #沿著 axis0 累加\n",
    "                #    0,    1,    2\n",
    "                #  0+3,  1+4,  2+5\n",
    "                #0+3+6,1+4+7,2+5+8"
   ]
  },
  {
   "cell_type": "code",
   "execution_count": 29,
   "metadata": {
    "collapsed": false
   },
   "outputs": [
    {
     "data": {
      "text/plain": [
       "array([[  0,   0,   0],\n",
       "       [  3,  12,  60],\n",
       "       [  6,  42, 336]], dtype=int32)"
      ]
     },
     "execution_count": 29,
     "metadata": {},
     "output_type": "execute_result"
    }
   ],
   "source": [
    "arr02.cumprod(1) #沿著 axis1 \n",
    "                 # 0, 0*1, 0*1*2\n",
    "                 # 3, 3*4, 3*4*5\n",
    "                 # 6, 6*7, 6*7*8"
   ]
  },
  {
   "cell_type": "code",
   "execution_count": 30,
   "metadata": {
    "collapsed": true
   },
   "outputs": [],
   "source": [
    "# Methods for Boolean Arrays"
   ]
  },
  {
   "cell_type": "code",
   "execution_count": 31,
   "metadata": {
    "collapsed": true
   },
   "outputs": [],
   "source": [
    "arr03=randn(100)"
   ]
  },
  {
   "cell_type": "code",
   "execution_count": 32,
   "metadata": {
    "collapsed": false
   },
   "outputs": [
    {
     "data": {
      "text/plain": [
       "array([-1.58526463, -0.18097972,  2.44911421, -0.15926533, -0.62754644,\n",
       "        0.90140403,  0.80344812, -0.75348036,  0.57274735,  1.24980006,\n",
       "       -0.7152929 , -0.19609852, -0.52268128,  0.10968662,  0.19179984,\n",
       "        0.12029857,  0.22959928,  0.6757333 ,  0.85111891,  0.45655643,\n",
       "       -0.62895661,  0.77198464, -1.24035287, -0.60215902, -1.66311071,\n",
       "        1.34191484,  0.11900642, -1.11187597, -1.2195808 ,  0.26389247,\n",
       "        0.35719115, -0.83388003, -0.63390001, -1.54957227,  0.01743607,\n",
       "       -0.76940243, -0.14200997, -0.40197074, -2.17418688, -0.40010184,\n",
       "        0.89264154, -1.56471917, -1.15813196, -0.85418685,  0.47827263,\n",
       "       -0.70836219, -0.05089749,  1.19543785,  0.54955455,  0.49959576,\n",
       "        0.6227891 , -0.75202884, -0.55026864,  0.08725219, -0.94326758,\n",
       "       -0.58469549,  0.3107256 ,  0.59288586,  0.06020055,  0.53996571,\n",
       "       -0.048171  , -0.43711335, -0.74587561, -1.29165774, -0.53420713,\n",
       "        0.29278736, -0.54210258,  1.83375614,  1.2688145 , -0.16376802,\n",
       "        1.35171649, -0.35140218, -0.02989933,  0.30029633, -1.491986  ,\n",
       "       -0.51826332,  0.65184813, -0.26214766, -0.36278804, -0.4580403 ,\n",
       "        1.64779884, -1.09731177,  1.49346891,  1.00524123, -2.58302878,\n",
       "        0.78407175,  0.77411494, -1.70826999,  1.39365243,  0.36329053,\n",
       "        0.13028494,  0.04687028,  1.25092154,  0.44047575, -1.04038583,\n",
       "        1.19914318, -0.65599237, -0.93875597,  1.09446761,  0.35626713])"
      ]
     },
     "execution_count": 32,
     "metadata": {},
     "output_type": "execute_result"
    }
   ],
   "source": [
    "arr03"
   ]
  },
  {
   "cell_type": "code",
   "execution_count": 33,
   "metadata": {
    "collapsed": false
   },
   "outputs": [
    {
     "data": {
      "text/plain": [
       "49"
      ]
     },
     "execution_count": 33,
     "metadata": {},
     "output_type": "execute_result"
    }
   ],
   "source": [
    "(arr03 > 0).sum() #arr03 中 正數的個數, 在這些方法中布林值會被強制轉換為1(True), 0(False) \n",
    "                  #sum() 用來計算 True 的個數"
   ]
  },
  {
   "cell_type": "code",
   "execution_count": 57,
   "metadata": {
    "collapsed": true
   },
   "outputs": [],
   "source": [
    "#any() and all(); argmax()(True 比 False 大) "
   ]
  },
  {
   "cell_type": "code",
   "execution_count": 58,
   "metadata": {
    "collapsed": false
   },
   "outputs": [
    {
     "data": {
      "text/plain": [
       "array([False, False,  True, False,  True], dtype=bool)"
      ]
     },
     "execution_count": 58,
     "metadata": {},
     "output_type": "execute_result"
    }
   ],
   "source": [
    "#create a bool array\n",
    "namelist=np.array(['John','Bob','Jack','Mary','Jack'])\n",
    "bool_arr=namelist=='Jack'\n",
    "bool_arr"
   ]
  },
  {
   "cell_type": "code",
   "execution_count": 59,
   "metadata": {
    "collapsed": false
   },
   "outputs": [
    {
     "data": {
      "text/plain": [
       "True"
      ]
     },
     "execution_count": 59,
     "metadata": {},
     "output_type": "execute_result"
    }
   ],
   "source": [
    "#any(), 'Jack' 有在 namelist 中嗎? \n",
    "#檢視 bool_arr 中是否有 True 值\n",
    "bool_arr.any() "
   ]
  },
  {
   "cell_type": "code",
   "execution_count": 60,
   "metadata": {
    "collapsed": false
   },
   "outputs": [
    {
     "data": {
      "text/plain": [
       "False"
      ]
     },
     "execution_count": 60,
     "metadata": {},
     "output_type": "execute_result"
    }
   ],
   "source": [
    "#any(), namelist 全部是 'Jack' 嗎?\n",
    "#檢視 bool_arr 中是否全維 True 值\n",
    "bool_arr.all()"
   ]
  },
  {
   "cell_type": "code",
   "execution_count": 61,
   "metadata": {
    "collapsed": false
   },
   "outputs": [
    {
     "data": {
      "text/plain": [
       "2"
      ]
     },
     "execution_count": 61,
     "metadata": {},
     "output_type": "execute_result"
    }
   ],
   "source": [
    "#argmax(),'Jack' 第一次出現位置\n",
    "#檢視 bool_arr 第一個 True index\n",
    "bool_arr.argmax()"
   ]
  },
  {
   "cell_type": "code",
   "execution_count": 62,
   "metadata": {
    "collapsed": false
   },
   "outputs": [
    {
     "data": {
      "text/plain": [
       "2"
      ]
     },
     "execution_count": 62,
     "metadata": {},
     "output_type": "execute_result"
    }
   ],
   "source": [
    "#有幾個 'Jack'?\n",
    "bool_arr.sum()"
   ]
  },
  {
   "cell_type": "code",
   "execution_count": 63,
   "metadata": {
    "collapsed": true
   },
   "outputs": [],
   "source": [
    "#any(), all() another example:"
   ]
  },
  {
   "cell_type": "code",
   "execution_count": 64,
   "metadata": {
    "collapsed": true
   },
   "outputs": [],
   "source": [
    "#numpy.ndarray object arr04\n",
    "arr04=np.array([4,5,7]) "
   ]
  },
  {
   "cell_type": "code",
   "execution_count": 65,
   "metadata": {
    "collapsed": false
   },
   "outputs": [
    {
     "data": {
      "text/plain": [
       "array([4, 5, 7])"
      ]
     },
     "execution_count": 65,
     "metadata": {},
     "output_type": "execute_result"
    }
   ],
   "source": [
    "arr04"
   ]
  },
  {
   "cell_type": "code",
   "execution_count": 66,
   "metadata": {
    "collapsed": false
   },
   "outputs": [
    {
     "data": {
      "text/plain": [
       "True"
      ]
     },
     "execution_count": 66,
     "metadata": {},
     "output_type": "execute_result"
    }
   ],
   "source": [
    "(arr04 > 5).any() #檢視 (arr04 > 5) 有無任一個 True"
   ]
  },
  {
   "cell_type": "code",
   "execution_count": 67,
   "metadata": {
    "collapsed": false
   },
   "outputs": [
    {
     "data": {
      "text/plain": [
       "False"
      ]
     },
     "execution_count": 67,
     "metadata": {},
     "output_type": "execute_result"
    }
   ],
   "source": [
    "(arr04 > 5).all() #檢視 (arr04 > 5) 每一個是否皆為 True, 結果為 False"
   ]
  },
  {
   "cell_type": "code",
   "execution_count": 68,
   "metadata": {
    "collapsed": false
   },
   "outputs": [
    {
     "data": {
      "text/plain": [
       "True"
      ]
     },
     "execution_count": 68,
     "metadata": {},
     "output_type": "execute_result"
    }
   ],
   "source": [
    "(arr04 > 3).all() #檢視 (arr04 > 5) 每一個是否皆為 True, 結果為 True"
   ]
  },
  {
   "cell_type": "code",
   "execution_count": 69,
   "metadata": {
    "collapsed": false
   },
   "outputs": [
    {
     "data": {
      "text/plain": [
       "2"
      ]
     },
     "execution_count": 69,
     "metadata": {},
     "output_type": "execute_result"
    }
   ],
   "source": [
    "(arr04 > 5).argmax() #第一個符合條件的index"
   ]
  },
  {
   "cell_type": "code",
   "execution_count": 80,
   "metadata": {
    "collapsed": false
   },
   "outputs": [
    {
     "data": {
      "text/plain": [
       "(4, 3)"
      ]
     },
     "execution_count": 80,
     "metadata": {},
     "output_type": "execute_result"
    }
   ],
   "source": [
    "#練習1: 全班四位學生, 各自三次考試成績如下: (stuScore)\n",
    "stuScore=np.array([[90,45,67],[99,53,91],[80,56,40],[90,60,45]])\n",
    "stuScore.shape\n",
    "#Q1: 全班有 all pass 嗎? (平均 60(含)以上?) (一個式子, 回答 True or False) \n",
    "#Q2: 不及格(如果有)是第幾位? (一個式子, index 值)"
   ]
  },
  {
   "cell_type": "code",
   "execution_count": 81,
   "metadata": {
    "collapsed": true
   },
   "outputs": [],
   "source": [
    "#sorting"
   ]
  },
  {
   "cell_type": "code",
   "execution_count": 82,
   "metadata": {
    "collapsed": true
   },
   "outputs": [],
   "source": [
    "arr05=randn(8)"
   ]
  },
  {
   "cell_type": "code",
   "execution_count": 83,
   "metadata": {
    "collapsed": false
   },
   "outputs": [
    {
     "data": {
      "text/plain": [
       "array([-0.11926619, -0.84171986, -1.55222283, -0.99303693, -0.52442559,\n",
       "        0.08885758, -1.06024969, -0.04022367])"
      ]
     },
     "execution_count": 83,
     "metadata": {},
     "output_type": "execute_result"
    }
   ],
   "source": [
    "arr05"
   ]
  },
  {
   "cell_type": "code",
   "execution_count": 84,
   "metadata": {
    "collapsed": true
   },
   "outputs": [],
   "source": [
    "arr05.sort() #沒有copy, 就是 arr05 自身排序"
   ]
  },
  {
   "cell_type": "code",
   "execution_count": 85,
   "metadata": {
    "collapsed": false
   },
   "outputs": [
    {
     "data": {
      "text/plain": [
       "array([-1.55222283, -1.06024969, -0.99303693, -0.84171986, -0.52442559,\n",
       "       -0.11926619, -0.04022367,  0.08885758])"
      ]
     },
     "execution_count": 85,
     "metadata": {},
     "output_type": "execute_result"
    }
   ],
   "source": [
    "arr05"
   ]
  },
  {
   "cell_type": "code",
   "execution_count": 86,
   "metadata": {
    "collapsed": true
   },
   "outputs": [],
   "source": [
    "#多維陣列,沿某一 axis 排序"
   ]
  },
  {
   "cell_type": "code",
   "execution_count": 87,
   "metadata": {
    "collapsed": true
   },
   "outputs": [],
   "source": [
    "arr06=randn(5,3)"
   ]
  },
  {
   "cell_type": "code",
   "execution_count": 88,
   "metadata": {
    "collapsed": false
   },
   "outputs": [
    {
     "data": {
      "text/plain": [
       "array([[ 0.51245031,  1.13004659,  0.28278436],\n",
       "       [-0.89388616,  0.07958218,  0.16898888],\n",
       "       [-0.30240909,  1.01755656,  0.0216779 ],\n",
       "       [-1.14844842, -1.44410107, -0.04279448],\n",
       "       [-0.5894783 ,  0.5038378 ,  0.08329159]])"
      ]
     },
     "execution_count": 88,
     "metadata": {},
     "output_type": "execute_result"
    }
   ],
   "source": [
    "arr06"
   ]
  },
  {
   "cell_type": "code",
   "execution_count": 91,
   "metadata": {
    "collapsed": true
   },
   "outputs": [],
   "source": [
    "arr06.sort(0) #沿 axis0 sorting"
   ]
  },
  {
   "cell_type": "code",
   "execution_count": 92,
   "metadata": {
    "collapsed": false
   },
   "outputs": [
    {
     "data": {
      "text/plain": [
       "array([[-1.14844842, -1.44410107, -0.04279448],\n",
       "       [-0.89388616,  0.07958218,  0.0216779 ],\n",
       "       [-0.5894783 ,  0.5038378 ,  0.08329159],\n",
       "       [-0.30240909,  1.01755656,  0.16898888],\n",
       "       [ 0.51245031,  1.13004659,  0.28278436]])"
      ]
     },
     "execution_count": 92,
     "metadata": {},
     "output_type": "execute_result"
    }
   ],
   "source": [
    "arr06"
   ]
  },
  {
   "cell_type": "code",
   "execution_count": 93,
   "metadata": {
    "collapsed": true
   },
   "outputs": [],
   "source": [
    "arr06.sort(1) #沿 axis1 sorting"
   ]
  },
  {
   "cell_type": "code",
   "execution_count": 94,
   "metadata": {
    "collapsed": false
   },
   "outputs": [
    {
     "data": {
      "text/plain": [
       "array([[-1.44410107, -1.14844842, -0.04279448],\n",
       "       [-0.89388616,  0.0216779 ,  0.07958218],\n",
       "       [-0.5894783 ,  0.08329159,  0.5038378 ],\n",
       "       [-0.30240909,  0.16898888,  1.01755656],\n",
       "       [ 0.28278436,  0.51245031,  1.13004659]])"
      ]
     },
     "execution_count": 94,
     "metadata": {},
     "output_type": "execute_result"
    }
   ],
   "source": [
    "arr06"
   ]
  },
  {
   "cell_type": "code",
   "execution_count": 95,
   "metadata": {
    "collapsed": true
   },
   "outputs": [],
   "source": [
    "#範例: 利用 sort 及 slice 取前面 10%的資料"
   ]
  },
  {
   "cell_type": "code",
   "execution_count": 96,
   "metadata": {
    "collapsed": true
   },
   "outputs": [],
   "source": [
    "arr07=randn(100) "
   ]
  },
  {
   "cell_type": "code",
   "execution_count": 97,
   "metadata": {
    "collapsed": false
   },
   "outputs": [
    {
     "data": {
      "text/plain": [
       "array([ 2.34623533, -1.24340991, -0.73536094, -0.33159985,  0.73894208,\n",
       "        0.33363219,  0.29983126,  0.72959331,  1.90273201,  0.25547843,\n",
       "       -0.05879295,  0.59549423,  0.47217138,  0.10582522,  1.90314419,\n",
       "        0.41152729,  1.82754834, -0.85909428, -1.29113269, -1.5108878 ,\n",
       "        1.6461378 , -1.32724327, -1.85172964,  0.41350507,  0.18067175,\n",
       "        0.46305819, -0.47175693,  0.29510474,  0.34158769,  0.48953808,\n",
       "        0.72482639, -0.47885726, -0.43706692, -0.90666262,  1.11226802,\n",
       "       -2.04543449, -1.66033928,  0.17297731, -0.5029411 ,  0.94057668,\n",
       "        0.66044429,  0.04860612,  0.54576515,  0.68402993, -0.39857052,\n",
       "        0.78212466,  1.05721106,  0.25480088,  0.09545395, -0.78413477,\n",
       "        0.24365827, -0.37643804,  0.04906847, -0.02561957,  1.64948331,\n",
       "       -0.12381817,  0.01459036,  0.18195427,  0.79581174, -0.4973057 ,\n",
       "       -1.33838668, -0.14791376,  2.10529074,  2.49586995,  0.51445241,\n",
       "       -0.13846686,  1.15839497,  2.73615755,  0.25817234,  1.0448171 ,\n",
       "        0.71099893,  0.21013728,  1.17327315,  0.69382847,  1.13128089,\n",
       "        0.89462323, -0.32576773,  1.28082052, -0.94956012, -0.39361744,\n",
       "        0.6557815 , -1.72144033,  0.67027234,  1.51973645, -0.96500898,\n",
       "       -0.37922761, -1.66462108,  0.03050575, -1.48976022, -0.2005349 ,\n",
       "        0.56930087, -0.09414312, -0.2809067 , -0.00457012, -1.06436952,\n",
       "        0.64174659,  0.50141597, -0.3523242 , -0.52774765,  0.26170743])"
      ]
     },
     "execution_count": 97,
     "metadata": {},
     "output_type": "execute_result"
    }
   ],
   "source": [
    "arr07"
   ]
  },
  {
   "cell_type": "code",
   "execution_count": 46,
   "metadata": {
    "collapsed": false
   },
   "outputs": [],
   "source": [
    "arr07.sort()"
   ]
  },
  {
   "cell_type": "code",
   "execution_count": 47,
   "metadata": {
    "collapsed": false
   },
   "outputs": [
    {
     "data": {
      "text/plain": [
       "array([-2.65513324, -2.37762013, -2.20160215, -1.82199269, -1.7938752 ,\n",
       "       -1.75827996, -1.699592  , -1.68282911, -1.62767252, -1.27110652,\n",
       "       -1.22161146, -1.21697646, -1.18657195, -1.11804547, -1.05954763,\n",
       "       -1.04812738, -0.96517273, -0.85026766, -0.7769112 , -0.77640555,\n",
       "       -0.76713991, -0.74923418, -0.72315251, -0.65348732, -0.64034034,\n",
       "       -0.60212863, -0.59578536, -0.54749344, -0.4667493 , -0.38633397,\n",
       "       -0.37163752, -0.36258631, -0.30842794, -0.30391767, -0.29228734,\n",
       "       -0.25928284, -0.23998916, -0.18378517, -0.11875204, -0.10718694,\n",
       "       -0.10650709, -0.03892878,  0.030332  ,  0.03324286,  0.11613332,\n",
       "        0.17279991,  0.18819702,  0.20012757,  0.21701186,  0.25200851,\n",
       "        0.2561781 ,  0.2632899 ,  0.26523038,  0.28664014,  0.3423129 ,\n",
       "        0.3492338 ,  0.35770675,  0.36857   ,  0.37560934,  0.39667436,\n",
       "        0.42573556,  0.43743446,  0.4685925 ,  0.46905264,  0.4914837 ,\n",
       "        0.50342907,  0.50870656,  0.5216216 ,  0.52803489,  0.57284279,\n",
       "        0.64433453,  0.66348055,  0.67341618,  0.69261621,  0.6993066 ,\n",
       "        0.69989417,  0.72271358,  0.75935973,  0.77668805,  0.77707871,\n",
       "        0.78377157,  0.90041302,  0.92682803,  0.93180611,  0.9745269 ,\n",
       "        0.97949139,  1.00608726,  1.0384564 ,  1.07004319,  1.22180581,\n",
       "        1.2554648 ,  1.28690972,  1.29457905,  1.32604788,  1.3757996 ,\n",
       "        1.42788588,  1.49130832,  1.59195805,  1.77218001,  1.86561803])"
      ]
     },
     "execution_count": 47,
     "metadata": {},
     "output_type": "execute_result"
    }
   ],
   "source": [
    "arr07"
   ]
  },
  {
   "cell_type": "code",
   "execution_count": 48,
   "metadata": {
    "collapsed": false
   },
   "outputs": [
    {
     "data": {
      "text/plain": [
       "array([-2.65513324, -2.37762013, -2.20160215, -1.82199269, -1.7938752 ,\n",
       "       -1.75827996, -1.699592  , -1.68282911, -1.62767252, -1.27110652])"
      ]
     },
     "execution_count": 48,
     "metadata": {},
     "output_type": "execute_result"
    }
   ],
   "source": [
    "arr07[0:int(0.1*len(arr07))] #將已排序的 arr07 切片 [0:int(0.1*len(arr07))] "
   ]
  },
  {
   "cell_type": "code",
   "execution_count": 49,
   "metadata": {
    "collapsed": true
   },
   "outputs": [],
   "source": [
    "#練習2: 取最高的 5%"
   ]
  },
  {
   "cell_type": "code",
   "execution_count": 58,
   "metadata": {
    "collapsed": true
   },
   "outputs": [],
   "source": [
    "# Unique and Other Set Logic, SQL unique"
   ]
  },
  {
   "cell_type": "code",
   "execution_count": 59,
   "metadata": {
    "collapsed": true
   },
   "outputs": [],
   "source": [
    "names=np.array(['Bob','Joe','Will','Bob','Joe','Joe']) #array object --> names"
   ]
  },
  {
   "cell_type": "code",
   "execution_count": 60,
   "metadata": {
    "collapsed": false
   },
   "outputs": [
    {
     "data": {
      "text/plain": [
       "array(['Bob', 'Joe', 'Will'], \n",
       "      dtype='<U4')"
      ]
     },
     "execution_count": 60,
     "metadata": {},
     "output_type": "execute_result"
    }
   ],
   "source": [
    "np.unique(names) #unique"
   ]
  },
  {
   "cell_type": "code",
   "execution_count": 61,
   "metadata": {
    "collapsed": true
   },
   "outputs": [],
   "source": [
    "ints=np.array([3,3,4,2,5,3,1]) #array of ints"
   ]
  },
  {
   "cell_type": "code",
   "execution_count": 62,
   "metadata": {
    "collapsed": false
   },
   "outputs": [
    {
     "data": {
      "text/plain": [
       "array([1, 2, 3, 4, 5])"
      ]
     },
     "execution_count": 62,
     "metadata": {},
     "output_type": "execute_result"
    }
   ],
   "source": [
    "np.unique(ints)"
   ]
  },
  {
   "cell_type": "code",
   "execution_count": 63,
   "metadata": {
    "collapsed": false
   },
   "outputs": [
    {
     "data": {
      "text/plain": [
       "array([3, 3, 4, 2, 5, 3, 1])"
      ]
     },
     "execution_count": 63,
     "metadata": {},
     "output_type": "execute_result"
    }
   ],
   "source": [
    "ints"
   ]
  },
  {
   "cell_type": "code",
   "execution_count": 64,
   "metadata": {
    "collapsed": true
   },
   "outputs": [],
   "source": [
    "#與np.unique 等價的 Python --> sorted(set(names))"
   ]
  },
  {
   "cell_type": "code",
   "execution_count": 65,
   "metadata": {
    "collapsed": false
   },
   "outputs": [
    {
     "data": {
      "text/plain": [
       "{'Bob', 'Joe', 'Will'}"
      ]
     },
     "execution_count": 65,
     "metadata": {},
     "output_type": "execute_result"
    }
   ],
   "source": [
    "set(names)"
   ]
  },
  {
   "cell_type": "code",
   "execution_count": 66,
   "metadata": {
    "collapsed": false
   },
   "outputs": [
    {
     "data": {
      "text/plain": [
       "['Bob', 'Joe', 'Will']"
      ]
     },
     "execution_count": 66,
     "metadata": {},
     "output_type": "execute_result"
    }
   ],
   "source": [
    "sorted(set(names))"
   ]
  },
  {
   "cell_type": "code",
   "execution_count": 1,
   "metadata": {
    "collapsed": true
   },
   "outputs": [],
   "source": [
    "#Transposing / reshape\n",
    "import numpy as np"
   ]
  },
  {
   "cell_type": "code",
   "execution_count": 2,
   "metadata": {
    "collapsed": true
   },
   "outputs": [],
   "source": [
    "arr99=np.arange(21)"
   ]
  },
  {
   "cell_type": "code",
   "execution_count": 3,
   "metadata": {
    "collapsed": false
   },
   "outputs": [
    {
     "data": {
      "text/plain": [
       "array([ 0,  1,  2,  3,  4,  5,  6,  7,  8,  9, 10, 11, 12, 13, 14, 15, 16,\n",
       "       17, 18, 19, 20])"
      ]
     },
     "execution_count": 3,
     "metadata": {},
     "output_type": "execute_result"
    }
   ],
   "source": [
    "arr99"
   ]
  },
  {
   "cell_type": "code",
   "execution_count": 5,
   "metadata": {
    "collapsed": false
   },
   "outputs": [
    {
     "data": {
      "text/plain": [
       "array([[ 0,  1,  2,  3,  4,  5,  6],\n",
       "       [ 7,  8,  9, 10, 11, 12, 13],\n",
       "       [14, 15, 16, 17, 18, 19, 20]])"
      ]
     },
     "execution_count": 5,
     "metadata": {},
     "output_type": "execute_result"
    }
   ],
   "source": [
    "arr99.reshape((3,7))"
   ]
  },
  {
   "cell_type": "code",
   "execution_count": 6,
   "metadata": {
    "collapsed": false
   },
   "outputs": [
    {
     "data": {
      "text/plain": [
       "array([[ 0,  7, 14],\n",
       "       [ 1,  8, 15],\n",
       "       [ 2,  9, 16],\n",
       "       [ 3, 10, 17],\n",
       "       [ 4, 11, 18],\n",
       "       [ 5, 12, 19],\n",
       "       [ 6, 13, 20]])"
      ]
     },
     "execution_count": 6,
     "metadata": {},
     "output_type": "execute_result"
    }
   ],
   "source": [
    "arr99.reshape((3,7)).T"
   ]
  },
  {
   "cell_type": "code",
   "execution_count": null,
   "metadata": {
    "collapsed": true
   },
   "outputs": [],
   "source": []
  },
  {
   "cell_type": "code",
   "execution_count": null,
   "metadata": {
    "collapsed": true
   },
   "outputs": [],
   "source": [
    "#練習1 參考解答:\n",
    "stuScore=np.array([[90,45,67],[99,53,91],[80,56,40],[90,60,45]])\n",
    "stuScore.shape\n",
    "#Q1: 全班有 all pass 嗎? (平均 60(含)以上?) (一個式子, 回答 True or False) \n",
    "(stuScore.mean(axis=1)>60).all()\n",
    "#Q2: 不及格(如果有)是第幾位?\n",
    "(stuScore.mean(axis=1)>60).argmin()"
   ]
  },
  {
   "cell_type": "code",
   "execution_count": null,
   "metadata": {
    "collapsed": true
   },
   "outputs": [],
   "source": [
    "#練習2 參考解答:\n",
    "arr07[:-(int(0.05*len(arr07))+1):-1] "
   ]
  }
 ],
 "metadata": {
  "kernelspec": {
   "display_name": "Python 3",
   "language": "python",
   "name": "python3"
  },
  "language_info": {
   "codemirror_mode": {
    "name": "ipython",
    "version": 3
   },
   "file_extension": ".py",
   "mimetype": "text/x-python",
   "name": "python",
   "nbconvert_exporter": "python",
   "pygments_lexer": "ipython3",
   "version": "3.5.2"
  }
 },
 "nbformat": 4,
 "nbformat_minor": 0
}
