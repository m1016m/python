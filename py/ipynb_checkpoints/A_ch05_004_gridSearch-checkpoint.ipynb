{
 "cells": [
  {
   "cell_type": "code",
   "execution_count": 1,
   "metadata": {
    "collapsed": true
   },
   "outputs": [],
   "source": [
    "#A_ch05_004_gridSearch.ipynb"
   ]
  },
  {
   "cell_type": "code",
   "execution_count": 2,
   "metadata": {
    "collapsed": true
   },
   "outputs": [],
   "source": [
    "#我們以 SVC (預設核心化技巧為 RBF)\n",
    "from sklearn.svm import SVC"
   ]
  },
  {
   "cell_type": "code",
   "execution_count": 3,
   "metadata": {
    "collapsed": true
   },
   "outputs": [],
   "source": [
    "#以 iris datasets 為例\n",
    "from sklearn.datasets import load_iris\n",
    "iris=load_iris()"
   ]
  },
  {
   "cell_type": "code",
   "execution_count": 4,
   "metadata": {
    "collapsed": true
   },
   "outputs": [],
   "source": [
    "from sklearn.model_selection import train_test_split\n",
    "X_train,X_test,y_train,y_test=train_test_split(\n",
    "iris.data,iris.target,random_state=0)"
   ]
  },
  {
   "cell_type": "code",
   "execution_count": 5,
   "metadata": {
    "collapsed": false
   },
   "outputs": [
    {
     "name": "stdout",
     "output_type": "stream",
     "text": [
      "Size of training dataset 112 Size of test dataset 38\n"
     ]
    }
   ],
   "source": [
    "print(\"Size of training dataset\",X_train.shape[0],\"Size of test dataset\",X_test.shape[0])"
   ]
  },
  {
   "cell_type": "code",
   "execution_count": 6,
   "metadata": {
    "collapsed": true
   },
   "outputs": [],
   "source": [
    "#設定變數 best_score=0\n",
    "best_score=0"
   ]
  },
  {
   "cell_type": "code",
   "execution_count": 7,
   "metadata": {
    "collapsed": false
   },
   "outputs": [
    {
     "name": "stdout",
     "output_type": "stream",
     "text": [
      "Best score: 0.973684210526\n",
      "Best parameters: {'gamma': 0.001, 'C': 100}\n"
     ]
    }
   ],
   "source": [
    "#設定gamma與C 的2維陣列\n",
    "for gamma in [0.001,0.01,0.1,1,10,100]:\n",
    "    for C in [0.001,0.01,0.1,1,10,100]:\n",
    "        #對參數每種組合，訓練一個SVC\n",
    "        svm=SVC(gamma=gamma,C=C)\n",
    "        svm.fit(X_train,y_train)\n",
    "        #用測試集評估SVC\n",
    "        score=svm.score(X_test,y_test)\n",
    "        #若有較好成績，就存起來\n",
    "        if score > best_score:\n",
    "            best_score=score\n",
    "            best_parameters={'C':C,'gamma':gamma}\n",
    "print('Best score:',best_score)\n",
    "print('Best parameters:',best_parameters)\n",
    "            "
   ]
  },
  {
   "cell_type": "code",
   "execution_count": 8,
   "metadata": {
    "collapsed": true
   },
   "outputs": [],
   "source": [
    "#========================================================"
   ]
  },
  {
   "cell_type": "code",
   "execution_count": 9,
   "metadata": {
    "collapsed": true
   },
   "outputs": [],
   "source": [
    "import mglearn\n",
    "import matplotlib.pyplot as plt\n",
    "%matplotlib inline"
   ]
  },
  {
   "cell_type": "code",
   "execution_count": 10,
   "metadata": {
    "collapsed": false
   },
   "outputs": [
    {
     "data": {
      "image/png": "[encoded data removed]",
      "text/plain": [
       "<matplotlib.figure.Figure at 0x232caa49438>"
      ]
     },
     "metadata": {},
     "output_type": "display_data"
    }
   ],
   "source": [
    "mglearn.plots.plot_threefold_split()"
   ]
  },
  {
   "cell_type": "code",
   "execution_count": 11,
   "metadata": {
    "collapsed": true
   },
   "outputs": [],
   "source": [
    "#====================================================================\n",
    "#training / validation / test set\n",
    "#trainval=training+validation"
   ]
  },
  {
   "cell_type": "code",
   "execution_count": 12,
   "metadata": {
    "collapsed": true
   },
   "outputs": [],
   "source": [
    "#step 1. 先將 iris dataset 分成 (trainval / test)\n",
    "X_trainval,X_test,y_trainval,y_test=train_test_split(\n",
    "iris.data,iris.target,random_state=0)"
   ]
  },
  {
   "cell_type": "code",
   "execution_count": 13,
   "metadata": {
    "collapsed": false
   },
   "outputs": [
    {
     "name": "stdout",
     "output_type": "stream",
     "text": [
      "Size of trainval dataset 112 Size of test dataset 38\n"
     ]
    }
   ],
   "source": [
    "print(\"Size of trainval dataset\",X_trainval.shape[0],\"Size of test dataset\",X_test.shape[0])"
   ]
  },
  {
   "cell_type": "code",
   "execution_count": 14,
   "metadata": {
    "collapsed": true
   },
   "outputs": [],
   "source": [
    "#step 2 再將 trainval 分為 train / valid \n",
    "#       trainval=train+valid ; step 1 的 test 保持不變\n",
    "X_train,X_valid,y_train,y_valid=train_test_split(\n",
    "X_trainval,y_trainval,random_state=1)"
   ]
  },
  {
   "cell_type": "code",
   "execution_count": 15,
   "metadata": {
    "collapsed": false
   },
   "outputs": [
    {
     "name": "stdout",
     "output_type": "stream",
     "text": [
      "Size of train dataset 84\n",
      "Size of valid dataset 28\n",
      "Size of test dataset 38\n"
     ]
    }
   ],
   "source": [
    "print(\"Size of train dataset\",X_train.shape[0])\n",
    "print(\"Size of valid dataset\",X_valid.shape[0])\n",
    "print(\"Size of test dataset\",X_test.shape[0])"
   ]
  },
  {
   "cell_type": "code",
   "execution_count": 16,
   "metadata": {
    "collapsed": true
   },
   "outputs": [],
   "source": [
    "#step 3. 均格搜尋, 找出最佳參數組合\n",
    "#設定變數 best_score=0\n",
    "best_score=0"
   ]
  },
  {
   "cell_type": "code",
   "execution_count": 17,
   "metadata": {
    "collapsed": false
   },
   "outputs": [
    {
     "name": "stdout",
     "output_type": "stream",
     "text": [
      "Best score: 0.9642857142857143\n",
      "Best parameters: {'C': 10, 'gamma': 0.001}\n"
     ]
    }
   ],
   "source": [
    "#設定gamma與C 的2維陣列\n",
    "for gamma in [0.001,0.01,0.1,1,10,100]:\n",
    "    for C in [0.001,0.01,0.1,1,10,100]:\n",
    "        #對參數每種組合，訓練一個SVC\n",
    "        svm=SVC(gamma=gamma,C=C)\n",
    "        svm.fit(X_train,y_train)\n",
    "        #用驗證資料集(valid set)評估SVC\n",
    "        score=svm.score(X_valid,y_valid)\n",
    "        #若有較好成績，就存起來\n",
    "        if score > best_score:\n",
    "            best_score=score\n",
    "            best_parameters={'C':C,'gamma':gamma}\n",
    "print('Best score:',best_score)\n",
    "print('Best parameters:',best_parameters)"
   ]
  },
  {
   "cell_type": "code",
   "execution_count": 18,
   "metadata": {
    "collapsed": true
   },
   "outputs": [],
   "source": [
    "#均格搜尋後,最佳參數 best_parameters={'C': 10, 'gamma': 0.001}"
   ]
  },
  {
   "cell_type": "code",
   "execution_count": 19,
   "metadata": {
    "collapsed": false
   },
   "outputs": [
    {
     "data": {
      "text/plain": [
       "SVC(C=10, cache_size=200, class_weight=None, coef0=0.0,\n",
       "  decision_function_shape='ovr', degree=3, gamma=0.001, kernel='rbf',\n",
       "  max_iter=-1, probability=False, random_state=None, shrinking=True,\n",
       "  tol=0.001, verbose=False)"
      ]
     },
     "execution_count": 19,
     "metadata": {},
     "output_type": "execute_result"
    }
   ],
   "source": [
    "#step 4. 以 最佳參數 best_parameters,Trainval dataset 重新fit SVC model\n",
    "#        Trainval=(train+valid)\n",
    "#        以 test dataset 做評估\n",
    "svm=SVC(**best_parameters)      #以 最佳參數 best_parameters\n",
    "svm.fit(X_trainval,y_trainval)  #以 Trainval dataset 重新fit SVC model"
   ]
  },
  {
   "cell_type": "code",
   "execution_count": 20,
   "metadata": {
    "collapsed": true
   },
   "outputs": [],
   "source": [
    "test_score=svm.score(X_test,y_test)  #以 test dataset 做評估 "
   ]
  },
  {
   "cell_type": "code",
   "execution_count": 21,
   "metadata": {
    "collapsed": false
   },
   "outputs": [
    {
     "name": "stdout",
     "output_type": "stream",
     "text": [
      "Best score on validation set: 0.9642857142857143\n",
      "Best parameters: {'C': 10, 'gamma': 0.001}\n",
      "Test set score with best parameters: 0.9210526315789473\n"
     ]
    }
   ],
   "source": [
    "print(\"Best score on validation set:\",best_score)\n",
    "print(\"Best parameters:\",best_parameters)\n",
    "print(\"Test set score with best parameters:\",test_score)"
   ]
  },
  {
   "cell_type": "code",
   "execution_count": 22,
   "metadata": {
    "collapsed": true
   },
   "outputs": [],
   "source": [
    "#=================================================================\n",
    "#均格搜尋的交叉驗證,\n",
    "#使用交叉驗證取代單一分割成訓練和驗證資料集，來評估均格搜尋中各參數組合的效能。\n",
    "from sklearn.model_selection import cross_val_score\n",
    "import numpy as np"
   ]
  },
  {
   "cell_type": "code",
   "execution_count": 23,
   "metadata": {
    "collapsed": false
   },
   "outputs": [
    {
     "name": "stdout",
     "output_type": "stream",
     "text": [
      "gamma= 0.001  C= 0.001 ----->\n",
      "scores= [0.375      0.34782609 0.36363636 0.36363636 0.38095238]  mean score= 0.366210239036326 \n",
      "\n",
      "gamma= 0.001  C= 0.01 ----->\n",
      "scores= [0.375      0.34782609 0.36363636 0.36363636 0.38095238]  mean score= 0.366210239036326 \n",
      "\n",
      "gamma= 0.001  C= 0.1 ----->\n",
      "scores= [0.375      0.34782609 0.36363636 0.36363636 0.38095238]  mean score= 0.366210239036326 \n",
      "\n",
      "gamma= 0.001  C= 1 ----->\n",
      "scores= [0.70833333 0.69565217 0.68181818 0.68181818 0.71428571]  mean score= 0.6963815170336909 \n",
      "\n",
      "gamma= 0.001  C= 10 ----->\n",
      "scores= [0.875      0.91304348 1.         0.90909091 0.95238095]  mean score= 0.9299030679465462 \n",
      "\n",
      "gamma= 0.001  C= 100 ----->\n",
      "scores= [1.         0.95652174 1.         0.90909091 0.95238095]  mean score= 0.9635987201204592 \n",
      "\n",
      "gamma= 0.01  C= 0.001 ----->\n",
      "scores= [0.375      0.34782609 0.36363636 0.36363636 0.38095238]  mean score= 0.366210239036326 \n",
      "\n",
      "gamma= 0.01  C= 0.01 ----->\n",
      "scores= [0.375      0.34782609 0.36363636 0.36363636 0.38095238]  mean score= 0.366210239036326 \n",
      "\n",
      "gamma= 0.01  C= 0.1 ----->\n",
      "scores= [0.70833333 0.69565217 0.68181818 0.68181818 0.71428571]  mean score= 0.6963815170336909 \n",
      "\n",
      "gamma= 0.01  C= 1 ----->\n",
      "scores= [0.875      0.91304348 1.         0.90909091 0.95238095]  mean score= 0.9299030679465462 \n",
      "\n",
      "gamma= 0.01  C= 10 ----->\n",
      "scores= [1.         0.95652174 1.         0.90909091 0.95238095]  mean score= 0.9635987201204592 \n",
      "\n",
      "gamma= 0.01  C= 100 ----->\n",
      "scores= [1.         0.95652174 1.         0.95454545 0.95238095]  mean score= 0.9726896292113683 \n",
      "\n",
      "gamma= 0.1  C= 0.001 ----->\n",
      "scores= [0.375      0.34782609 0.36363636 0.36363636 0.38095238]  mean score= 0.366210239036326 \n",
      "\n",
      "gamma= 0.1  C= 0.01 ----->\n",
      "scores= [0.375      0.34782609 0.36363636 0.36363636 0.38095238]  mean score= 0.366210239036326 \n",
      "\n",
      "gamma= 0.1  C= 0.1 ----->\n",
      "scores= [0.91666667 0.91304348 1.         0.86363636 0.9047619 ]  mean score= 0.9196216826651609 \n",
      "\n",
      "gamma= 0.1  C= 1 ----->\n",
      "scores= [1.         0.95652174 1.         0.90909091 0.95238095]  mean score= 0.9635987201204592 \n",
      "\n",
      "gamma= 0.1  C= 10 ----->\n",
      "scores= [0.95833333 0.95652174 1.         0.95454545 0.95238095]  mean score= 0.9643562958780351 \n",
      "\n",
      "gamma= 0.1  C= 100 ----->\n",
      "scores= [0.95833333 1.         1.         0.86363636 0.95238095]  mean score= 0.95487012987013 \n",
      "\n",
      "gamma= 1  C= 0.001 ----->\n",
      "scores= [0.375      0.34782609 0.36363636 0.36363636 0.38095238]  mean score= 0.366210239036326 \n",
      "\n",
      "gamma= 1  C= 0.01 ----->\n",
      "scores= [0.375      0.34782609 0.36363636 0.36363636 0.38095238]  mean score= 0.366210239036326 \n",
      "\n",
      "gamma= 1  C= 0.1 ----->\n",
      "scores= [1.         0.91304348 1.         0.90909091 0.95238095]  mean score= 0.9549030679465462 \n",
      "\n",
      "gamma= 1  C= 1 ----->\n",
      "scores= [0.91666667 0.95652174 1.         0.90909091 0.95238095]  mean score= 0.9469320534537926 \n",
      "\n",
      "gamma= 1  C= 10 ----->\n",
      "scores= [0.91666667 0.95652174 1.         0.86363636 0.95238095]  mean score= 0.9378411443628835 \n",
      "\n",
      "gamma= 1  C= 100 ----->\n",
      "scores= [0.91666667 1.         1.         0.86363636 0.95238095]  mean score= 0.9465367965367966 \n",
      "\n",
      "gamma= 10  C= 0.001 ----->\n",
      "scores= [0.375      0.34782609 0.36363636 0.36363636 0.38095238]  mean score= 0.366210239036326 \n",
      "\n",
      "gamma= 10  C= 0.01 ----->\n",
      "scores= [0.375      0.34782609 0.36363636 0.36363636 0.38095238]  mean score= 0.366210239036326 \n",
      "\n",
      "gamma= 10  C= 0.1 ----->\n",
      "scores= [0.375      0.34782609 0.36363636 0.36363636 0.38095238]  mean score= 0.366210239036326 \n",
      "\n",
      "gamma= 10  C= 1 ----->\n",
      "scores= [0.875      0.95652174 1.         0.81818182 0.95238095]  mean score= 0.9204169019386411 \n",
      "\n",
      "gamma= 10  C= 10 ----->\n",
      "scores= [0.875      0.95652174 1.         0.81818182 0.95238095]  mean score= 0.9204169019386411 \n",
      "\n",
      "gamma= 10  C= 100 ----->\n",
      "scores= [0.875      0.95652174 1.         0.81818182 0.95238095]  mean score= 0.9204169019386411 \n",
      "\n",
      "gamma= 100  C= 0.001 ----->\n",
      "scores= [0.375      0.34782609 0.36363636 0.36363636 0.38095238]  mean score= 0.366210239036326 \n",
      "\n",
      "gamma= 100  C= 0.01 ----->\n",
      "scores= [0.375      0.34782609 0.36363636 0.36363636 0.38095238]  mean score= 0.366210239036326 \n",
      "\n",
      "gamma= 100  C= 0.1 ----->\n",
      "scores= [0.375      0.34782609 0.36363636 0.36363636 0.38095238]  mean score= 0.366210239036326 \n",
      "\n",
      "gamma= 100  C= 1 ----->\n",
      "scores= [0.5        0.43478261 0.54545455 0.5        0.57142857]  mean score= 0.5103331451157538 \n",
      "\n",
      "gamma= 100  C= 10 ----->\n",
      "scores= [0.54166667 0.47826087 0.59090909 0.59090909 0.61904762]  mean score= 0.564158667419537 \n",
      "\n",
      "gamma= 100  C= 100 ----->\n",
      "scores= [0.54166667 0.47826087 0.59090909 0.59090909 0.61904762]  mean score= 0.564158667419537 \n",
      "\n"
     ]
    }
   ],
   "source": [
    "best_score=0\n",
    "\n",
    "for gamma in [0.001,0.01,0.1,1,10,100]:\n",
    "    for C in [0.001,0.01,0.1,1,10,100]:\n",
    "        #對每個gamma,C參數組合訓練一個SVC, 共6*6=36種組合\n",
    "        svm=SVC(gamma=gamma,C=C) \n",
    "        #對每種組合以 cross_val_score,執行交叉驗證 cv=5,\n",
    "        #36*5=180, 需訓練180次\n",
    "        scores=cross_val_score(svm,X_trainval,y_trainval,cv=5)\n",
    "        #計算交叉驗證平均成績\n",
    "        mean_score=np.mean(scores)\n",
    "        #列印過程\n",
    "        print('gamma=',gamma,' C=',C, '----->')\n",
    "        print('scores=',scores,' mean score=',mean_score,'\\n')\n",
    "        #如果得到更好的分數，儲存分數和參數\n",
    "        if mean_score > best_score:\n",
    "            best_score=mean_score\n",
    "            best_parameters={'C':C,'gamma':gamma}"
   ]
  },
  {
   "cell_type": "code",
   "execution_count": 24,
   "metadata": {
    "collapsed": false
   },
   "outputs": [
    {
     "name": "stdout",
     "output_type": "stream",
     "text": [
      "best_parameters:  {'C': 100, 'gamma': 0.01}\n"
     ]
    }
   ],
   "source": [
    "#print best_parameters\n",
    "print(\"best_parameters: \",best_parameters)"
   ]
  },
  {
   "cell_type": "code",
   "execution_count": 25,
   "metadata": {
    "collapsed": false
   },
   "outputs": [
    {
     "data": {
      "text/plain": [
       "SVC(C=100, cache_size=200, class_weight=None, coef0=0.0,\n",
       "  decision_function_shape='ovr', degree=3, gamma=0.01, kernel='rbf',\n",
       "  max_iter=-1, probability=False, random_state=None, shrinking=True,\n",
       "  tol=0.001, verbose=False)"
      ]
     },
     "execution_count": 25,
     "metadata": {},
     "output_type": "execute_result"
    }
   ],
   "source": [
    "#以best_parameters, trainval set 重新fit model\n",
    "svm=SVC(**best_parameters)\n",
    "svm.fit(X_trainval,y_trainval)"
   ]
  },
  {
   "cell_type": "code",
   "execution_count": 26,
   "metadata": {
    "collapsed": false
   },
   "outputs": [
    {
     "data": {
      "text/plain": [
       "0.9736842105263158"
      ]
     },
     "execution_count": 26,
     "metadata": {},
     "output_type": "execute_result"
    }
   ],
   "source": [
    "svm.score(X_test,y_test)"
   ]
  },
  {
   "cell_type": "code",
   "execution_count": 27,
   "metadata": {
    "collapsed": true
   },
   "outputs": [],
   "source": [
    "#==================================================================\n",
    "#均格搜尋的交叉驗證--GridSearchCV"
   ]
  },
  {
   "cell_type": "code",
   "execution_count": 28,
   "metadata": {
    "collapsed": true
   },
   "outputs": [],
   "source": [
    "#step1. 以dict.形式設定參數均格(parameter grid) 'param_grid'\n",
    "param_grid={'C':[0.001,0.01,0.1,1,10,100],\n",
    "            'gamma':[0.001,0.01,0.1,1,10,100]}"
   ]
  },
  {
   "cell_type": "code",
   "execution_count": 29,
   "metadata": {
    "collapsed": true
   },
   "outputs": [],
   "source": [
    "#step 2. SVC model, param_grid, cv=5\n",
    "#        建立 GridSearchCV object 'grid_search'\n",
    "from sklearn.model_selection import GridSearchCV\n",
    "grid_search=GridSearchCV(SVC(),param_grid,cv=5)"
   ]
  },
  {
   "cell_type": "code",
   "execution_count": 30,
   "metadata": {
    "collapsed": true
   },
   "outputs": [],
   "source": [
    "#step 3. 我們還是需要先將資料分成 train/test\n",
    "X_train,X_test,y_train,y_test=train_test_split(\n",
    "iris.data,iris.target,random_state=0)"
   ]
  },
  {
   "cell_type": "code",
   "execution_count": 31,
   "metadata": {
    "collapsed": false
   },
   "outputs": [
    {
     "data": {
      "text/plain": [
       "GridSearchCV(cv=5, error_score='raise',\n",
       "       estimator=SVC(C=1.0, cache_size=200, class_weight=None, coef0=0.0,\n",
       "  decision_function_shape='ovr', degree=3, gamma='auto', kernel='rbf',\n",
       "  max_iter=-1, probability=False, random_state=None, shrinking=True,\n",
       "  tol=0.001, verbose=False),\n",
       "       fit_params=None, iid=True, n_jobs=1,\n",
       "       param_grid={'C': [0.001, 0.01, 0.1, 1, 10, 100], 'gamma': [0.001, 0.01, 0.1, 1, 10, 100]},\n",
       "       pre_dispatch='2*n_jobs', refit=True, return_train_score='warn',\n",
       "       scoring=None, verbose=0)"
      ]
     },
     "execution_count": 31,
     "metadata": {},
     "output_type": "execute_result"
    }
   ],
   "source": [
    "#step 4. fit\n",
    "grid_search.fit(X_train,y_train)"
   ]
  },
  {
   "cell_type": "code",
   "execution_count": 32,
   "metadata": {
    "collapsed": false
   },
   "outputs": [
    {
     "data": {
      "text/plain": [
       "0.9736842105263158"
      ]
     },
     "execution_count": 32,
     "metadata": {},
     "output_type": "execute_result"
    }
   ],
   "source": [
    "#step 5. score\n",
    "grid_search.score(X_test,y_test)"
   ]
  },
  {
   "cell_type": "code",
   "execution_count": 33,
   "metadata": {
    "collapsed": false
   },
   "outputs": [
    {
     "name": "stdout",
     "output_type": "stream",
     "text": [
      "Best_parameters: {'C': 100, 'gamma': 0.01}\n",
      "Best cross-validation score: 0.9732142857142857\n",
      "Best estimator: SVC(C=100, cache_size=200, class_weight=None, coef0=0.0,\n",
      "  decision_function_shape='ovr', degree=3, gamma=0.01, kernel='rbf',\n",
      "  max_iter=-1, probability=False, random_state=None, shrinking=True,\n",
      "  tol=0.001, verbose=False)\n"
     ]
    }
   ],
   "source": [
    "#step 5. 檢視GridSearchCV 內各種重要屬性:\n",
    "#        best_params_-->找到的最佳參數組合\n",
    "#        best_score_ -->交叉驗證最佳平均準確度 (for best_params)\n",
    "#        best_estimator -->最佳模型(for best_params)\n",
    "print(\"Best_parameters:\",grid_search.best_params_)\n",
    "print(\"Best cross-validation score:\",grid_search.best_score_)\n",
    "print(\"Best estimator:\",grid_search.best_estimator_)"
   ]
  },
  {
   "cell_type": "code",
   "execution_count": 34,
   "metadata": {
    "collapsed": false
   },
   "outputs": [
    {
     "data": {
      "image/png": "[encoded data removed]",
      "text/plain": [
       "<matplotlib.figure.Figure at 0x232ce4e8da0>"
      ]
     },
     "metadata": {},
     "output_type": "display_data"
    }
   ],
   "source": [
    "mglearn.plots.plot_grid_search_overview()"
   ]
  },
  {
   "cell_type": "code",
   "execution_count": null,
   "metadata": {
    "collapsed": true
   },
   "outputs": [],
   "source": []
  }
 ],
 "metadata": {
  "kernelspec": {
   "display_name": "Python 3",
   "language": "python",
   "name": "python3"
  },
  "language_info": {
   "codemirror_mode": {
    "name": "ipython",
    "version": 3
   },
   "file_extension": ".py",
   "mimetype": "text/x-python",
   "name": "python",
   "nbconvert_exporter": "python",
   "pygments_lexer": "ipython3",
   "version": "3.5.2"
  }
 },
 "nbformat": 4,
 "nbformat_minor": 1
}
