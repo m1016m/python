{
 "cells": [
  {
   "cell_type": "code",
   "execution_count": 1,
   "metadata": {
    "collapsed": true
   },
   "outputs": [],
   "source": [
    "#06_DataLoading_01a_20161014, csv範例檔,證交所網站資料\n",
    "#201610_F3_1_2.csv --> 201610_F3_1_2_process.csv (以utf-8存檔)"
   ]
  },
  {
   "cell_type": "code",
   "execution_count": 2,
   "metadata": {
    "collapsed": true
   },
   "outputs": [],
   "source": [
    "import pandas as pd"
   ]
  },
  {
   "cell_type": "code",
   "execution_count": 3,
   "metadata": {
    "collapsed": true
   },
   "outputs": [],
   "source": [
    "from pandas import DataFrame,Series"
   ]
  },
  {
   "cell_type": "code",
   "execution_count": 4,
   "metadata": {
    "collapsed": true
   },
   "outputs": [],
   "source": [
    "import numpy as np"
   ]
  },
  {
   "cell_type": "code",
   "execution_count": 5,
   "metadata": {
    "collapsed": true
   },
   "outputs": [],
   "source": [
    "import matplotlib.pyplot as plt"
   ]
  },
  {
   "cell_type": "code",
   "execution_count": 6,
   "metadata": {
    "collapsed": false
   },
   "outputs": [
    {
     "name": "stdout",
     "output_type": "stream",
     "text": [
      "Using matplotlib backend: Qt4Agg\n",
      "Populating the interactive namespace from numpy and matplotlib\n"
     ]
    }
   ],
   "source": [
    "%pylab"
   ]
  },
  {
   "cell_type": "code",
   "execution_count": 7,
   "metadata": {
    "collapsed": true
   },
   "outputs": [],
   "source": [
    "#file '201610_F3_1_2_process.csv'"
   ]
  },
  {
   "cell_type": "code",
   "execution_count": 8,
   "metadata": {
    "collapsed": false
   },
   "outputs": [
    {
     "name": "stdout",
     "output_type": "stream",
     "text": [
      "嚜踵�交��,���鈭方�⊥��,���鈭日��憿�,���鈭斤�����,��潸��������甈���∪�寞�����,瞍脰��暺����\n",
      " 105/10/03,\"3,002,161,742\",\"55,597,456,402\",\"571,417\",\"9,234.20\",67.35\n",
      " 105/10/04,\"3,066,078,644\",\"62,014,403,325\",\"661,773\",\"9,287.77\",53.57\n",
      " 105/10/05,\"3,002,597,984\",\"60,936,666,203\",\"615,998\",\"9,272.28\",-15.49\n",
      " 105/10/06,\"3,137,942,343\",\"63,331,394,814\",\"633,418\",\"9,284.31\",12.03\n",
      " 105/10/07,\"2,981,282,506\",\"63,235,529,397\",\"653,647\",\"9,265.81\",-18.5\n",
      " 105/10/11,\"4,127,460,101\",\"89,690,544,555\",\"874,057\",\"9,219.82\",-45.99\n",
      " 105/10/12,\"3,407,399,739\",\"66,304,575,010\",\"649,095\",\"9,252.60\",32.78\n",
      " 105/10/13,\"3,342,252,755\",\"75,218,324,164\",\"714,011\",\"9,219.17\",-33.43\n",
      " 105/10/14,\"3,222,233,294\",\"67,985,163,367\",\"656,200\",\"9,165.17\",-54\n"
     ]
    }
   ],
   "source": [
    "!type 201610_F3_1_2_process.csv"
   ]
  },
  {
   "cell_type": "code",
   "execution_count": 9,
   "metadata": {
    "collapsed": false
   },
   "outputs": [],
   "source": [
    "df1=pd.read_csv('201610_F3_1_2_process.csv') #檔案必須為 'UTF-8' 編碼 "
   ]
  },
  {
   "cell_type": "code",
   "execution_count": 10,
   "metadata": {
    "collapsed": false
   },
   "outputs": [
    {
     "data": {
      "text/html": [
       "<div>\n",
       "<table border=\"1\" class=\"dataframe\">\n",
       "  <thead>\n",
       "    <tr style=\"text-align: right;\">\n",
       "      <th></th>\n",
       "      <th>日期</th>\n",
       "      <th>成交股數</th>\n",
       "      <th>成交金額</th>\n",
       "      <th>成交筆數</th>\n",
       "      <th>發行量加權股價指數</th>\n",
       "      <th>漲跌點數</th>\n",
       "    </tr>\n",
       "  </thead>\n",
       "  <tbody>\n",
       "    <tr>\n",
       "      <th>0</th>\n",
       "      <td>105/10/03</td>\n",
       "      <td>3,002,161,742</td>\n",
       "      <td>55,597,456,402</td>\n",
       "      <td>571,417</td>\n",
       "      <td>9,234.20</td>\n",
       "      <td>67.35</td>\n",
       "    </tr>\n",
       "    <tr>\n",
       "      <th>1</th>\n",
       "      <td>105/10/04</td>\n",
       "      <td>3,066,078,644</td>\n",
       "      <td>62,014,403,325</td>\n",
       "      <td>661,773</td>\n",
       "      <td>9,287.77</td>\n",
       "      <td>53.57</td>\n",
       "    </tr>\n",
       "    <tr>\n",
       "      <th>2</th>\n",
       "      <td>105/10/05</td>\n",
       "      <td>3,002,597,984</td>\n",
       "      <td>60,936,666,203</td>\n",
       "      <td>615,998</td>\n",
       "      <td>9,272.28</td>\n",
       "      <td>-15.49</td>\n",
       "    </tr>\n",
       "    <tr>\n",
       "      <th>3</th>\n",
       "      <td>105/10/06</td>\n",
       "      <td>3,137,942,343</td>\n",
       "      <td>63,331,394,814</td>\n",
       "      <td>633,418</td>\n",
       "      <td>9,284.31</td>\n",
       "      <td>12.03</td>\n",
       "    </tr>\n",
       "    <tr>\n",
       "      <th>4</th>\n",
       "      <td>105/10/07</td>\n",
       "      <td>2,981,282,506</td>\n",
       "      <td>63,235,529,397</td>\n",
       "      <td>653,647</td>\n",
       "      <td>9,265.81</td>\n",
       "      <td>-18.50</td>\n",
       "    </tr>\n",
       "    <tr>\n",
       "      <th>5</th>\n",
       "      <td>105/10/11</td>\n",
       "      <td>4,127,460,101</td>\n",
       "      <td>89,690,544,555</td>\n",
       "      <td>874,057</td>\n",
       "      <td>9,219.82</td>\n",
       "      <td>-45.99</td>\n",
       "    </tr>\n",
       "    <tr>\n",
       "      <th>6</th>\n",
       "      <td>105/10/12</td>\n",
       "      <td>3,407,399,739</td>\n",
       "      <td>66,304,575,010</td>\n",
       "      <td>649,095</td>\n",
       "      <td>9,252.60</td>\n",
       "      <td>32.78</td>\n",
       "    </tr>\n",
       "    <tr>\n",
       "      <th>7</th>\n",
       "      <td>105/10/13</td>\n",
       "      <td>3,342,252,755</td>\n",
       "      <td>75,218,324,164</td>\n",
       "      <td>714,011</td>\n",
       "      <td>9,219.17</td>\n",
       "      <td>-33.43</td>\n",
       "    </tr>\n",
       "    <tr>\n",
       "      <th>8</th>\n",
       "      <td>105/10/14</td>\n",
       "      <td>3,222,233,294</td>\n",
       "      <td>67,985,163,367</td>\n",
       "      <td>656,200</td>\n",
       "      <td>9,165.17</td>\n",
       "      <td>-54.00</td>\n",
       "    </tr>\n",
       "  </tbody>\n",
       "</table>\n",
       "</div>"
      ],
      "text/plain": [
       "           日期           成交股數            成交金額     成交筆數 發行量加權股價指數   漲跌點數\n",
       "0   105/10/03  3,002,161,742  55,597,456,402  571,417  9,234.20  67.35\n",
       "1   105/10/04  3,066,078,644  62,014,403,325  661,773  9,287.77  53.57\n",
       "2   105/10/05  3,002,597,984  60,936,666,203  615,998  9,272.28 -15.49\n",
       "3   105/10/06  3,137,942,343  63,331,394,814  633,418  9,284.31  12.03\n",
       "4   105/10/07  2,981,282,506  63,235,529,397  653,647  9,265.81 -18.50\n",
       "5   105/10/11  4,127,460,101  89,690,544,555  874,057  9,219.82 -45.99\n",
       "6   105/10/12  3,407,399,739  66,304,575,010  649,095  9,252.60  32.78\n",
       "7   105/10/13  3,342,252,755  75,218,324,164  714,011  9,219.17 -33.43\n",
       "8   105/10/14  3,222,233,294  67,985,163,367  656,200  9,165.17 -54.00"
      ]
     },
     "execution_count": 10,
     "metadata": {},
     "output_type": "execute_result"
    }
   ],
   "source": [
    "df1"
   ]
  },
  {
   "cell_type": "code",
   "execution_count": 11,
   "metadata": {
    "collapsed": true
   },
   "outputs": [],
   "source": [
    "#預計將df1.成交金額做累加(cumsum)並以柱狀圖繪圖\n",
    "#問題是擷取的資料中成交金額 '55,597,456,402' 是字串而且帶有',' ~@@@~\n",
    "#解決方法是:1.先用str.replace() 將','-->''; \n",
    "#          2.以int() --> int"
   ]
  },
  {
   "cell_type": "code",
   "execution_count": 12,
   "metadata": {
    "collapsed": false
   },
   "outputs": [
    {
     "data": {
      "text/plain": [
       "55597456402"
      ]
     },
     "execution_count": 12,
     "metadata": {},
     "output_type": "execute_result"
    }
   ],
   "source": [
    "int(df1.成交金額[0].replace(',','')) #試作"
   ]
  },
  {
   "cell_type": "code",
   "execution_count": 13,
   "metadata": {
    "collapsed": false
   },
   "outputs": [
    {
     "name": "stdout",
     "output_type": "stream",
     "text": [
      "55597456402\n",
      "62014403325\n",
      "60936666203\n",
      "63331394814\n",
      "63235529397\n",
      "89690544555\n",
      "66304575010\n",
      "75218324164\n",
      "67985163367\n"
     ]
    }
   ],
   "source": [
    "for s in df1.成交金額:          #以for loop 迭代 df1.df1.成交金額\n",
    "    s=int(s.replace(',',''))   \n",
    "    print(s)"
   ]
  },
  {
   "cell_type": "code",
   "execution_count": 14,
   "metadata": {
    "collapsed": false
   },
   "outputs": [],
   "source": [
    "#在DataFrame df1 中,將成交金額欄位置換為 int\n",
    "#Series([串列生成式])\n",
    "df1['成交金額']=Series([int(s.replace(',','')) for s in df1.成交金額])\n",
    "\n",
    "#更簡潔的寫法: \n",
    "#df1['成交金額']=df1['成交金額'].apply(lambda s:int(s.replace(',',''))) "
   ]
  },
  {
   "cell_type": "code",
   "execution_count": 15,
   "metadata": {
    "collapsed": false
   },
   "outputs": [
    {
     "data": {
      "text/html": [
       "<div>\n",
       "<table border=\"1\" class=\"dataframe\">\n",
       "  <thead>\n",
       "    <tr style=\"text-align: right;\">\n",
       "      <th></th>\n",
       "      <th>日期</th>\n",
       "      <th>成交股數</th>\n",
       "      <th>成交金額</th>\n",
       "      <th>成交筆數</th>\n",
       "      <th>發行量加權股價指數</th>\n",
       "      <th>漲跌點數</th>\n",
       "    </tr>\n",
       "  </thead>\n",
       "  <tbody>\n",
       "    <tr>\n",
       "      <th>0</th>\n",
       "      <td>105/10/03</td>\n",
       "      <td>3,002,161,742</td>\n",
       "      <td>55597456402</td>\n",
       "      <td>571,417</td>\n",
       "      <td>9,234.20</td>\n",
       "      <td>67.35</td>\n",
       "    </tr>\n",
       "    <tr>\n",
       "      <th>1</th>\n",
       "      <td>105/10/04</td>\n",
       "      <td>3,066,078,644</td>\n",
       "      <td>62014403325</td>\n",
       "      <td>661,773</td>\n",
       "      <td>9,287.77</td>\n",
       "      <td>53.57</td>\n",
       "    </tr>\n",
       "    <tr>\n",
       "      <th>2</th>\n",
       "      <td>105/10/05</td>\n",
       "      <td>3,002,597,984</td>\n",
       "      <td>60936666203</td>\n",
       "      <td>615,998</td>\n",
       "      <td>9,272.28</td>\n",
       "      <td>-15.49</td>\n",
       "    </tr>\n",
       "    <tr>\n",
       "      <th>3</th>\n",
       "      <td>105/10/06</td>\n",
       "      <td>3,137,942,343</td>\n",
       "      <td>63331394814</td>\n",
       "      <td>633,418</td>\n",
       "      <td>9,284.31</td>\n",
       "      <td>12.03</td>\n",
       "    </tr>\n",
       "    <tr>\n",
       "      <th>4</th>\n",
       "      <td>105/10/07</td>\n",
       "      <td>2,981,282,506</td>\n",
       "      <td>63235529397</td>\n",
       "      <td>653,647</td>\n",
       "      <td>9,265.81</td>\n",
       "      <td>-18.50</td>\n",
       "    </tr>\n",
       "    <tr>\n",
       "      <th>5</th>\n",
       "      <td>105/10/11</td>\n",
       "      <td>4,127,460,101</td>\n",
       "      <td>89690544555</td>\n",
       "      <td>874,057</td>\n",
       "      <td>9,219.82</td>\n",
       "      <td>-45.99</td>\n",
       "    </tr>\n",
       "    <tr>\n",
       "      <th>6</th>\n",
       "      <td>105/10/12</td>\n",
       "      <td>3,407,399,739</td>\n",
       "      <td>66304575010</td>\n",
       "      <td>649,095</td>\n",
       "      <td>9,252.60</td>\n",
       "      <td>32.78</td>\n",
       "    </tr>\n",
       "    <tr>\n",
       "      <th>7</th>\n",
       "      <td>105/10/13</td>\n",
       "      <td>3,342,252,755</td>\n",
       "      <td>75218324164</td>\n",
       "      <td>714,011</td>\n",
       "      <td>9,219.17</td>\n",
       "      <td>-33.43</td>\n",
       "    </tr>\n",
       "    <tr>\n",
       "      <th>8</th>\n",
       "      <td>105/10/14</td>\n",
       "      <td>3,222,233,294</td>\n",
       "      <td>67985163367</td>\n",
       "      <td>656,200</td>\n",
       "      <td>9,165.17</td>\n",
       "      <td>-54.00</td>\n",
       "    </tr>\n",
       "  </tbody>\n",
       "</table>\n",
       "</div>"
      ],
      "text/plain": [
       "           日期           成交股數         成交金額     成交筆數 發行量加權股價指數   漲跌點數\n",
       "0   105/10/03  3,002,161,742  55597456402  571,417  9,234.20  67.35\n",
       "1   105/10/04  3,066,078,644  62014403325  661,773  9,287.77  53.57\n",
       "2   105/10/05  3,002,597,984  60936666203  615,998  9,272.28 -15.49\n",
       "3   105/10/06  3,137,942,343  63331394814  633,418  9,284.31  12.03\n",
       "4   105/10/07  2,981,282,506  63235529397  653,647  9,265.81 -18.50\n",
       "5   105/10/11  4,127,460,101  89690544555  874,057  9,219.82 -45.99\n",
       "6   105/10/12  3,407,399,739  66304575010  649,095  9,252.60  32.78\n",
       "7   105/10/13  3,342,252,755  75218324164  714,011  9,219.17 -33.43\n",
       "8   105/10/14  3,222,233,294  67985163367  656,200  9,165.17 -54.00"
      ]
     },
     "execution_count": 15,
     "metadata": {},
     "output_type": "execute_result"
    }
   ],
   "source": [
    "df1"
   ]
  },
  {
   "cell_type": "code",
   "execution_count": 16,
   "metadata": {
    "collapsed": false
   },
   "outputs": [
    {
     "data": {
      "text/plain": [
       "0     55597456402\n",
       "1    117611859727\n",
       "2    178548525930\n",
       "3    241879920744\n",
       "4    305115450141\n",
       "5    394805994696\n",
       "6    461110569706\n",
       "7    536328893870\n",
       "8    604314057237\n",
       "Name: 成交金額, dtype: int64"
      ]
     },
     "execution_count": 16,
     "metadata": {},
     "output_type": "execute_result"
    }
   ],
   "source": [
    "df1.成交金額.cumsum() #累加 cumsum()"
   ]
  },
  {
   "cell_type": "code",
   "execution_count": 17,
   "metadata": {
    "collapsed": false
   },
   "outputs": [
    {
     "data": {
      "text/plain": [
       "<matplotlib.axes._subplots.AxesSubplot at 0x91944a8>"
      ]
     },
     "execution_count": 17,
     "metadata": {},
     "output_type": "execute_result"
    }
   ],
   "source": [
    "df1.plot(yticks=df1.成交金額,kind='bar',color='g')"
   ]
  },
  {
   "cell_type": "code",
   "execution_count": 18,
   "metadata": {
    "collapsed": false
   },
   "outputs": [
    {
     "data": {
      "text/html": [
       "<div>\n",
       "<table border=\"1\" class=\"dataframe\">\n",
       "  <thead>\n",
       "    <tr style=\"text-align: right;\">\n",
       "      <th></th>\n",
       "      <th>成交股數</th>\n",
       "      <th>成交金額</th>\n",
       "      <th>成交筆數</th>\n",
       "      <th>發行量加權股價指數</th>\n",
       "      <th>漲跌點數</th>\n",
       "    </tr>\n",
       "    <tr>\n",
       "      <th>日期</th>\n",
       "      <th></th>\n",
       "      <th></th>\n",
       "      <th></th>\n",
       "      <th></th>\n",
       "      <th></th>\n",
       "    </tr>\n",
       "  </thead>\n",
       "  <tbody>\n",
       "    <tr>\n",
       "      <th>105/10/03</th>\n",
       "      <td>3,002,161,742</td>\n",
       "      <td>55597456402</td>\n",
       "      <td>571,417</td>\n",
       "      <td>9,234.20</td>\n",
       "      <td>67.35</td>\n",
       "    </tr>\n",
       "    <tr>\n",
       "      <th>105/10/04</th>\n",
       "      <td>3,066,078,644</td>\n",
       "      <td>62014403325</td>\n",
       "      <td>661,773</td>\n",
       "      <td>9,287.77</td>\n",
       "      <td>53.57</td>\n",
       "    </tr>\n",
       "    <tr>\n",
       "      <th>105/10/05</th>\n",
       "      <td>3,002,597,984</td>\n",
       "      <td>60936666203</td>\n",
       "      <td>615,998</td>\n",
       "      <td>9,272.28</td>\n",
       "      <td>-15.49</td>\n",
       "    </tr>\n",
       "    <tr>\n",
       "      <th>105/10/06</th>\n",
       "      <td>3,137,942,343</td>\n",
       "      <td>63331394814</td>\n",
       "      <td>633,418</td>\n",
       "      <td>9,284.31</td>\n",
       "      <td>12.03</td>\n",
       "    </tr>\n",
       "    <tr>\n",
       "      <th>105/10/07</th>\n",
       "      <td>2,981,282,506</td>\n",
       "      <td>63235529397</td>\n",
       "      <td>653,647</td>\n",
       "      <td>9,265.81</td>\n",
       "      <td>-18.50</td>\n",
       "    </tr>\n",
       "    <tr>\n",
       "      <th>105/10/11</th>\n",
       "      <td>4,127,460,101</td>\n",
       "      <td>89690544555</td>\n",
       "      <td>874,057</td>\n",
       "      <td>9,219.82</td>\n",
       "      <td>-45.99</td>\n",
       "    </tr>\n",
       "    <tr>\n",
       "      <th>105/10/12</th>\n",
       "      <td>3,407,399,739</td>\n",
       "      <td>66304575010</td>\n",
       "      <td>649,095</td>\n",
       "      <td>9,252.60</td>\n",
       "      <td>32.78</td>\n",
       "    </tr>\n",
       "    <tr>\n",
       "      <th>105/10/13</th>\n",
       "      <td>3,342,252,755</td>\n",
       "      <td>75218324164</td>\n",
       "      <td>714,011</td>\n",
       "      <td>9,219.17</td>\n",
       "      <td>-33.43</td>\n",
       "    </tr>\n",
       "    <tr>\n",
       "      <th>105/10/14</th>\n",
       "      <td>3,222,233,294</td>\n",
       "      <td>67985163367</td>\n",
       "      <td>656,200</td>\n",
       "      <td>9,165.17</td>\n",
       "      <td>-54.00</td>\n",
       "    </tr>\n",
       "  </tbody>\n",
       "</table>\n",
       "</div>"
      ],
      "text/plain": [
       "                     成交股數         成交金額     成交筆數 發行量加權股價指數   漲跌點數\n",
       "日期                                                              \n",
       " 105/10/03  3,002,161,742  55597456402  571,417  9,234.20  67.35\n",
       " 105/10/04  3,066,078,644  62014403325  661,773  9,287.77  53.57\n",
       " 105/10/05  3,002,597,984  60936666203  615,998  9,272.28 -15.49\n",
       " 105/10/06  3,137,942,343  63331394814  633,418  9,284.31  12.03\n",
       " 105/10/07  2,981,282,506  63235529397  653,647  9,265.81 -18.50\n",
       " 105/10/11  4,127,460,101  89690544555  874,057  9,219.82 -45.99\n",
       " 105/10/12  3,407,399,739  66304575010  649,095  9,252.60  32.78\n",
       " 105/10/13  3,342,252,755  75218324164  714,011  9,219.17 -33.43\n",
       " 105/10/14  3,222,233,294  67985163367  656,200  9,165.17 -54.00"
      ]
     },
     "execution_count": 18,
     "metadata": {},
     "output_type": "execute_result"
    }
   ],
   "source": [
    "#將日期欄位轉為索引, set_index()\n",
    "df1.set_index('日期')"
   ]
  },
  {
   "cell_type": "code",
   "execution_count": null,
   "metadata": {
    "collapsed": true
   },
   "outputs": [],
   "source": []
  }
 ],
 "metadata": {
  "kernelspec": {
   "display_name": "Python 3",
   "language": "python",
   "name": "python3"
  },
  "language_info": {
   "codemirror_mode": {
    "name": "ipython",
    "version": 3
   },
   "file_extension": ".py",
   "mimetype": "text/x-python",
   "name": "python",
   "nbconvert_exporter": "python",
   "pygments_lexer": "ipython3",
   "version": "3.5.2"
  }
 },
 "nbformat": 4,
 "nbformat_minor": 0
}
