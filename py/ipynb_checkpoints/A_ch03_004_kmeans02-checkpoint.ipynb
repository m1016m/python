{
 "cells": [
  {
   "cell_type": "code",
   "execution_count": 1,
   "metadata": {
    "collapsed": true
   },
   "outputs": [],
   "source": [
    "#A_ch03_004_kmeans02.ipynb"
   ]
  },
  {
   "cell_type": "code",
   "execution_count": 2,
   "metadata": {
    "collapsed": true
   },
   "outputs": [],
   "source": [
    "import matplotlib.pyplot as plt\n",
    "%matplotlib inline"
   ]
  },
  {
   "cell_type": "code",
   "execution_count": 3,
   "metadata": {
    "collapsed": true
   },
   "outputs": [],
   "source": [
    "import mglearn"
   ]
  },
  {
   "cell_type": "code",
   "execution_count": 4,
   "metadata": {
    "collapsed": true
   },
   "outputs": [],
   "source": [
    "#import make_blobs\n",
    "from sklearn.datasets import make_blobs"
   ]
  },
  {
   "cell_type": "code",
   "execution_count": 5,
   "metadata": {
    "collapsed": true
   },
   "outputs": [],
   "source": [
    "#import KMeans module\n",
    "from sklearn.cluster import KMeans "
   ]
  },
  {
   "cell_type": "code",
   "execution_count": 6,
   "metadata": {
    "collapsed": true
   },
   "outputs": [],
   "source": [
    "#以 make_blobs 建立虛擬資料\n",
    "X,y=make_blobs(random_state=1)"
   ]
  },
  {
   "cell_type": "code",
   "execution_count": 7,
   "metadata": {
    "collapsed": false
   },
   "outputs": [
    {
     "name": "stdout",
     "output_type": "stream",
     "text": [
      "X.shape : (100, 2)\n"
     ]
    }
   ],
   "source": [
    "#檢視資料集 X (本例，不管y) \n",
    "print('X.shape :',X.shape)"
   ]
  },
  {
   "cell_type": "code",
   "execution_count": 8,
   "metadata": {
    "collapsed": false
   },
   "outputs": [
    {
     "data": {
      "text/plain": [
       "<matplotlib.collections.PathCollection at 0xb4c5cf8>"
      ]
     },
     "execution_count": 8,
     "metadata": {},
     "output_type": "execute_result"
    },
    {
     "data": {
      "image/png": "[encoded data removed]",
      "text/plain": [
       "<matplotlib.figure.Figure at 0xb3137b8>"
      ]
     },
     "metadata": {},
     "output_type": "display_data"
    }
   ],
   "source": [
    "#繪製檢視 X\n",
    "plt.scatter(X[:,0],X[:,1],c='r',s=60)"
   ]
  },
  {
   "cell_type": "code",
   "execution_count": 9,
   "metadata": {
    "collapsed": true
   },
   "outputs": [],
   "source": [
    "#建置 K-means 分群模型"
   ]
  },
  {
   "cell_type": "code",
   "execution_count": 10,
   "metadata": {
    "collapsed": true
   },
   "outputs": [],
   "source": [
    "kmeans_3=KMeans(n_clusters=3) #設定 k=3"
   ]
  },
  {
   "cell_type": "code",
   "execution_count": 11,
   "metadata": {
    "collapsed": false
   },
   "outputs": [
    {
     "data": {
      "text/plain": [
       "KMeans(algorithm='auto', copy_x=True, init='k-means++', max_iter=300,\n",
       "    n_clusters=3, n_init=10, n_jobs=1, precompute_distances='auto',\n",
       "    random_state=None, tol=0.0001, verbose=0)"
      ]
     },
     "execution_count": 11,
     "metadata": {},
     "output_type": "execute_result"
    }
   ],
   "source": [
    "#以 X fit model\n",
    "kmeans_3.fit(X)"
   ]
  },
  {
   "cell_type": "code",
   "execution_count": 12,
   "metadata": {
    "collapsed": true
   },
   "outputs": [],
   "source": [
    "#訓練後，X內每個點將會指定一個群標籤，可以在 Kmeans_3.labels_ 屬性內找到"
   ]
  },
  {
   "cell_type": "code",
   "execution_count": 13,
   "metadata": {
    "collapsed": false
   },
   "outputs": [
    {
     "name": "stdout",
     "output_type": "stream",
     "text": [
      "Cluster memberships:\n",
      " [1 0 0 0 2 2 2 0 1 1 0 0 2 1 2 2 2 1 0 0 2 0 2 1 0 2 2 1 1 2 1 1 2 1 0 2 0\n",
      " 0 0 2 2 0 1 0 0 2 1 1 1 1 0 2 2 2 1 2 0 0 1 1 0 2 2 0 0 2 1 2 1 0 0 0 2 1\n",
      " 1 0 2 2 1 0 1 0 0 2 1 1 1 1 0 1 2 1 1 0 0 2 2 1 2 1]\n"
     ]
    }
   ],
   "source": [
    "print('Cluster memberships:\\n',kmeans_3.labels_)\n",
    "#我們設定的是k=3,所以群標籤為0,1,2"
   ]
  },
  {
   "cell_type": "code",
   "execution_count": 14,
   "metadata": {
    "collapsed": false
   },
   "outputs": [
    {
     "data": {
      "text/plain": [
       "array([0, 2, 1])"
      ]
     },
     "execution_count": 14,
     "metadata": {},
     "output_type": "execute_result"
    }
   ],
   "source": [
    "#你也可以使用訓練好的 kmeans model 對新資料點作預測(雖然這不是我們的主要目的)\n",
    "#當預測時，新資料點被指給最接近的群中心，但現有模型不再改變\n",
    "#kmean.predict()\n",
    "#我們以 X_test 兩資料點作預測\n",
    "import numpy as np\n",
    "X_test=np.array([[-10.0,-7.0],[-6.0,-14.0],[-1.0,1.0]])\n",
    "pred=kmeans_3.predict(X_test)\n",
    "pred"
   ]
  },
  {
   "cell_type": "code",
   "execution_count": 15,
   "metadata": {
    "collapsed": true
   },
   "outputs": [],
   "source": [
    "#分群類似分類，每個 X 中的資料點都得到一個標籤。\n",
    "#然而，它不是真實標籤，因為標籤本身沒有固有的意義。\n",
    "#演算法給你的唯一資訊是，所有標示為2的點都是相似的 (0,1亦同)\n",
    "#因為初始化隨機的性質，再次運行演算法可能會產生不同的群標籤。"
   ]
  },
  {
   "cell_type": "code",
   "execution_count": 16,
   "metadata": {
    "collapsed": true
   },
   "outputs": [],
   "source": [
    "#群中心被儲存在 model.culster_centers_ 屬性 (群標籤在 model.label_ 屬性)"
   ]
  },
  {
   "cell_type": "code",
   "execution_count": 17,
   "metadata": {
    "collapsed": true
   },
   "outputs": [],
   "source": [
    "#我們以 mglearn.discrete_scatter() 繪圖來展示 k-means 訓練結果"
   ]
  },
  {
   "cell_type": "code",
   "execution_count": 18,
   "metadata": {
    "collapsed": false
   },
   "outputs": [
    {
     "data": {
      "text/plain": [
       "[<matplotlib.lines.Line2D at 0xb7b5588>,\n",
       " <matplotlib.lines.Line2D at 0xb7b5d68>,\n",
       " <matplotlib.lines.Line2D at 0xb7bd588>]"
      ]
     },
     "execution_count": 18,
     "metadata": {},
     "output_type": "execute_result"
    },
    {
     "data": {
      "image/png": "[encoded data removed]",
      "text/plain": [
       "<matplotlib.figure.Figure at 0xb524908>"
      ]
     },
     "metadata": {},
     "output_type": "display_data"
    }
   ],
   "source": [
    "#繪製已分群模型 .labels\n",
    "mglearn.discrete_scatter(X[:,0],X[:,1],kmeans_3.labels_,markers='o',                       )\n",
    "#繪製分群中心點 .cluster_centers_\n",
    "mglearn.discrete_scatter(kmeans_3.cluster_centers_[:,0],\n",
    "                        kmeans_3.cluster_centers_[:,1],[0,1,2],\n",
    "                        markers='^',c='r',markeredgewidth=1)\n",
    "#繪製新資料點(X_test)預測結果\n",
    "mglearn.discrete_scatter(X_test[:,0],X_test[:,1],pred,markers='v',\n",
    "                         markeredgewidth=1,s=12)"
   ]
  },
  {
   "cell_type": "code",
   "execution_count": 20,
   "metadata": {
    "collapsed": true
   },
   "outputs": [],
   "source": [
    "#同樣的資料，我們設定 k=2 及 k=5 試試看:"
   ]
  },
  {
   "cell_type": "code",
   "execution_count": 39,
   "metadata": {
    "collapsed": false
   },
   "outputs": [
    {
     "data": {
      "text/plain": [
       "[<matplotlib.lines.Line2D at 0x22d67e7c358>,\n",
       " <matplotlib.lines.Line2D at 0x22d67e7c4a8>,\n",
       " <matplotlib.lines.Line2D at 0x22d67e7c8d0>,\n",
       " <matplotlib.lines.Line2D at 0x22d67e7cd30>,\n",
       " <matplotlib.lines.Line2D at 0x22d67e851d0>]"
      ]
     },
     "execution_count": 39,
     "metadata": {},
     "output_type": "execute_result"
    },
    {
     "data": {
      "image/png": "[encoded data removed]",
      "text/plain": [
       "<Figure size 720x360 with 2 Axes>"
      ]
     },
     "metadata": {},
     "output_type": "display_data"
    }
   ],
   "source": [
    "#先設定一個 (1,2) 的 subplots\n",
    "fig,axes=plt.subplots(1,2,figsize=(10,5))\n",
    "\n",
    "#設定 k=2\n",
    "kmeans_2=KMeans(n_clusters=2)\n",
    "kmeans_2.fit(X)\n",
    "assignments=kmeans_2.labels_\n",
    "#繪圖\n",
    "mglearn.discrete_scatter(X[:,0],X[:,1],assignments,ax=axes[0])\n",
    "#也把群中心畫出\n",
    "mglearn.discrete_scatter(kmeans_2.cluster_centers_[:,0],\n",
    "                        kmeans_2.cluster_centers_[:,1],[0,1],\n",
    "                        markers='>',markeredgewidth=2,c='r',ax=axes[0])\n",
    "\n",
    "#設定 k=5\n",
    "kmeans_5=KMeans(n_clusters=5)\n",
    "kmeans_5.fit(X)\n",
    "assignments=kmeans_5.labels_\n",
    "#繪圖\n",
    "mglearn.discrete_scatter(X[:,0],X[:,1],assignments,ax=axes[1])\n",
    "#也把群中心畫出\n",
    "mglearn.discrete_scatter(kmeans_5.cluster_centers_[:,0],\n",
    "                        kmeans_5.cluster_centers_[:,1],[0,1,2,3,4],\n",
    "                        markers='>',markeredgewidth=2,c='r',ax=axes[1])"
   ]
  },
  {
   "cell_type": "code",
   "execution_count": null,
   "metadata": {
    "collapsed": true
   },
   "outputs": [],
   "source": []
  }
 ],
 "metadata": {
  "kernelspec": {
   "display_name": "Python 3",
   "language": "python",
   "name": "python3"
  },
  "language_info": {
   "codemirror_mode": {
    "name": "ipython",
    "version": 3
   },
   "file_extension": ".py",
   "mimetype": "text/x-python",
   "name": "python",
   "nbconvert_exporter": "python",
   "pygments_lexer": "ipython3",
   "version": "3.5.2"
  }
 },
 "nbformat": 4,
 "nbformat_minor": 2
}
