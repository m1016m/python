{
 "cells": [
  {
   "cell_type": "code",
   "execution_count": 1,
   "metadata": {
    "collapsed": true
   },
   "outputs": [],
   "source": [
    "# A_ch02_202_SVC_iris.ipynb\n",
    "#以 SVM model,對鳶尾花資料集(iris dataset) 做多元分類"
   ]
  },
  {
   "cell_type": "code",
   "execution_count": 2,
   "metadata": {
    "collapsed": true
   },
   "outputs": [],
   "source": [
    "# import module\n",
    "from sklearn.svm import SVC,NuSVC,LinearSVC\n",
    "from sklearn.datasets import load_iris\n",
    "from sklearn.model_selection import train_test_split"
   ]
  },
  {
   "cell_type": "code",
   "execution_count": 3,
   "metadata": {
    "collapsed": true
   },
   "outputs": [],
   "source": [
    "iris=load_iris()"
   ]
  },
  {
   "cell_type": "code",
   "execution_count": 4,
   "metadata": {
    "collapsed": true
   },
   "outputs": [],
   "source": [
    "X_train,X_test,y_train,y_test=train_test_split(\n",
    "iris.data,iris.target,random_state=0)"
   ]
  },
  {
   "cell_type": "code",
   "execution_count": 5,
   "metadata": {
    "collapsed": true
   },
   "outputs": [],
   "source": [
    "# create a linearSVM model 'svc' by SVC(), 設定kernel='linear'\n",
    "svc=SVC(kernel='linear')\n",
    "nusvc=NuSVC(kernel='linear')\n",
    "linearsvc=LinearSVC() \n",
    "models=[svc,nusvc,linearsvc]"
   ]
  },
  {
   "cell_type": "code",
   "execution_count": 6,
   "metadata": {
    "collapsed": false
   },
   "outputs": [
    {
     "name": "stdout",
     "output_type": "stream",
     "text": [
      "<class 'sklearn.svm.classes.SVC'> :\n",
      " Accuracy on training set: 0.982142857143\n",
      " Accuracy on test set: 0.973684210526 \n",
      "\n",
      "<class 'sklearn.svm.classes.NuSVC'> :\n",
      " Accuracy on training set: 0.964285714286\n",
      " Accuracy on test set: 0.973684210526 \n",
      "\n",
      "<class 'sklearn.svm.classes.LinearSVC'> :\n",
      " Accuracy on training set: 0.982142857143\n",
      " Accuracy on test set: 0.921052631579 \n",
      "\n"
     ]
    }
   ],
   "source": [
    "for model in models:\n",
    "    model.fit(X_train,y_train)\n",
    "    print(model.__class__,\":\\n Accuracy on training set:\",model.score(X_train,y_train))\n",
    "    print(\" Accuracy on test set:\",model.score(X_test,y_test),\"\\n\")"
   ]
  },
  {
   "cell_type": "code",
   "execution_count": null,
   "metadata": {
    "collapsed": true
   },
   "outputs": [],
   "source": []
  }
 ],
 "metadata": {
  "anaconda-cloud": {},
  "kernelspec": {
   "display_name": "Python 3",
   "language": "python",
   "name": "python3"
  },
  "language_info": {
   "codemirror_mode": {
    "name": "ipython",
    "version": 3
   },
   "file_extension": ".py",
   "mimetype": "text/x-python",
   "name": "python",
   "nbconvert_exporter": "python",
   "pygments_lexer": "ipython3",
   "version": "3.5.2"
  }
 },
 "nbformat": 4,
 "nbformat_minor": 1
}
