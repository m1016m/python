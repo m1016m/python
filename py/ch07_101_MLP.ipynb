{
 "cells": [
  {
   "cell_type": "code",
   "execution_count": 1,
   "metadata": {},
   "outputs": [],
   "source": [
    "#ch07_01_MLP.ipynb"
   ]
  },
  {
   "cell_type": "code",
   "execution_count": 2,
   "metadata": {},
   "outputs": [
    {
     "name": "stderr",
     "output_type": "stream",
     "text": [
      "C:\\ProgramData\\Anaconda3\\envs\\tensorflow\\lib\\site-packages\\h5py\\__init__.py:36: FutureWarning: Conversion of the second argument of issubdtype from `float` to `np.floating` is deprecated. In future, it will be treated as `np.float64 == np.dtype(float).type`.\n",
      "  from ._conv import register_converters as _register_converters\n",
      "Using TensorFlow backend.\n"
     ]
    }
   ],
   "source": [
    "#step1.1 匯入所需模組, keras.utils.np_utils\n",
    "from keras.utils import np_utils\n",
    "import numpy as np\n",
    "np.random.seed(10)"
   ]
  },
  {
   "cell_type": "code",
   "execution_count": 3,
   "metadata": {},
   "outputs": [],
   "source": [
    "#step1.2 從keras.dataset 讀取 mnist 資料集\n",
    "from keras.datasets import mnist\n",
    "#step1.2.1 以mnist.load_data() method 讀取資料,(train/test)\n",
    "(x_train_image,y_train_label),(x_test_image,y_test_label)=mnist.load_data()"
   ]
  },
  {
   "cell_type": "code",
   "execution_count": 4,
   "metadata": {},
   "outputs": [],
   "source": [
    "#step1.3 將features(28x28 數字影像特徵值) reshape 為 1 dimension array (784),並轉換為float\n",
    "x_Train=x_train_image.reshape(60000,784).astype('float32')\n",
    "x_Test=x_test_image.reshape(10000,784).astype('float32')"
   ]
  },
  {
   "cell_type": "code",
   "execution_count": 5,
   "metadata": {},
   "outputs": [],
   "source": [
    "#step1.4 將1.3的features標準化 (0.0~255.0)-->(0.0~1.0)\n",
    "x_Train_normalize=x_Train/255\n",
    "x_Test_normalize=x_Test/255"
   ]
  },
  {
   "cell_type": "code",
   "execution_count": 6,
   "metadata": {},
   "outputs": [],
   "source": [
    "#step1.5 將label值(0,1,~9) One-hot encoding 編碼, 使用 np_utils.to_categorical() method\n",
    "y_Train_OneHot=np_utils.to_categorical(y_train_label)\n",
    "y_Test_OneHot=np_utils.to_categorical(y_test_label)"
   ]
  },
  {
   "cell_type": "code",
   "execution_count": 7,
   "metadata": {},
   "outputs": [],
   "source": [
    "#======================================================================================="
   ]
  },
  {
   "cell_type": "code",
   "execution_count": 8,
   "metadata": {},
   "outputs": [],
   "source": [
    "#step2. 建立MLP模型, 輸入層(x),784個神經元;  隱藏層(h),256個神經元; 輸出層(y),10個神經元 "
   ]
  },
  {
   "cell_type": "code",
   "execution_count": 9,
   "metadata": {},
   "outputs": [],
   "source": [
    "#step2.1 輸入所需模組 keras.model.Sequentail, keras.layers.Dense\n",
    "from keras.models import Sequential\n",
    "from keras.layers import Dense"
   ]
  },
  {
   "cell_type": "code",
   "execution_count": 10,
   "metadata": {},
   "outputs": [],
   "source": [
    "#defined function eval_hp_batchSize(batchSize=32,hiddenNum=256)\n",
    "def eval_hp_batchSize(batchSize=32,hiddenNum=256):\n",
    "    s_model=Sequential()\n",
    "\n",
    "    s_model.add(Dense(units=hiddenNum,                      \n",
    "                     input_dim=784,                  \n",
    "                     kernel_initializer='normal',     \n",
    "                     activation='relu'))\n",
    "\n",
    "    s_model.add(Dense(units=10,                     \n",
    "                     kernel_initializer='normal',   \n",
    "                     activation='softmax'))  \n",
    "\n",
    "    s_model.compile(loss='categorical_crossentropy',\n",
    "                   optimizer='adam',metrics=['accuracy'])\n",
    "\n",
    "    s_model.fit(x=x_Train_normalize,\n",
    "                y=y_Train_OneHot,validation_split=0.2,\n",
    "                epochs=10,batch_size=batchSize,verbose=2) \n",
    "\n",
    "    score=s_model.evaluate(x_Test_normalize,y_Test_OneHot)\n",
    "\n",
    "    return score[1]"
   ]
  },
  {
   "cell_type": "code",
   "execution_count": 11,
   "metadata": {},
   "outputs": [
    {
     "name": "stdout",
     "output_type": "stream",
     "text": [
      "Train on 48000 samples, validate on 12000 samples\n",
      "Epoch 1/10\n",
      " - 3s - loss: 0.2698 - acc: 0.9224 - val_loss: 0.1324 - val_acc: 0.9610\n",
      "Epoch 2/10\n",
      " - 3s - loss: 0.1077 - acc: 0.9681 - val_loss: 0.1023 - val_acc: 0.9696\n",
      "Epoch 3/10\n",
      " - 3s - loss: 0.0712 - acc: 0.9783 - val_loss: 0.0932 - val_acc: 0.9733\n",
      "Epoch 4/10\n",
      " - 3s - loss: 0.0514 - acc: 0.9841 - val_loss: 0.0810 - val_acc: 0.9758\n",
      "Epoch 5/10\n",
      " - 3s - loss: 0.0377 - acc: 0.9879 - val_loss: 0.0780 - val_acc: 0.9748\n",
      "Epoch 6/10\n",
      " - 3s - loss: 0.0263 - acc: 0.9921 - val_loss: 0.0765 - val_acc: 0.9784\n",
      "Epoch 7/10\n",
      " - 3s - loss: 0.0201 - acc: 0.9938 - val_loss: 0.0869 - val_acc: 0.9769\n",
      "Epoch 8/10\n",
      " - 3s - loss: 0.0158 - acc: 0.9953 - val_loss: 0.0830 - val_acc: 0.9788\n",
      "Epoch 9/10\n",
      " - 3s - loss: 0.0133 - acc: 0.9961 - val_loss: 0.0922 - val_acc: 0.9776\n",
      "Epoch 10/10\n",
      " - 3s - loss: 0.0113 - acc: 0.9965 - val_loss: 0.0997 - val_acc: 0.9758\n",
      "10000/10000 [==============================] - 0s 15us/step\n"
     ]
    },
    {
     "data": {
      "text/plain": [
       "0.9754"
      ]
     },
     "execution_count": 11,
     "metadata": {},
     "output_type": "execute_result"
    }
   ],
   "source": [
    "# Call function eval_hp_batchSize\n",
    "eval_hp_batchSize()"
   ]
  },
  {
   "cell_type": "code",
   "execution_count": 11,
   "metadata": {},
   "outputs": [
    {
     "name": "stdout",
     "output_type": "stream",
     "text": [
      "Train on 48000 samples, validate on 12000 samples\n",
      "Epoch 1/10\n",
      " - 20s - loss: 0.2214 - acc: 0.9346 - val_loss: 0.1145 - val_acc: 0.9660\n",
      "Epoch 2/10\n",
      " - 18s - loss: 0.0912 - acc: 0.9722 - val_loss: 0.0888 - val_acc: 0.9737\n",
      "Epoch 3/10\n",
      " - 18s - loss: 0.0605 - acc: 0.9799 - val_loss: 0.0919 - val_acc: 0.9724\n",
      "Epoch 4/10\n",
      " - 18s - loss: 0.0440 - acc: 0.9860 - val_loss: 0.0923 - val_acc: 0.9732\n",
      "Epoch 5/10\n",
      " - 18s - loss: 0.0336 - acc: 0.9894 - val_loss: 0.0845 - val_acc: 0.9762\n",
      "Epoch 6/10\n",
      " - 16s - loss: 0.0254 - acc: 0.9912 - val_loss: 0.0884 - val_acc: 0.9794\n",
      "Epoch 7/10\n",
      " - 11s - loss: 0.0217 - acc: 0.9925 - val_loss: 0.1091 - val_acc: 0.9732\n",
      "Epoch 8/10\n",
      " - 9s - loss: 0.0199 - acc: 0.9935 - val_loss: 0.1050 - val_acc: 0.9770\n",
      "Epoch 9/10\n",
      " - 10s - loss: 0.0161 - acc: 0.9944 - val_loss: 0.1137 - val_acc: 0.9753\n",
      "Epoch 10/10\n",
      " - 11s - loss: 0.0142 - acc: 0.9950 - val_loss: 0.1159 - val_acc: 0.9777\n",
      "10000/10000 [==============================] - 0s 20us/step\n",
      "Train on 48000 samples, validate on 12000 samples\n",
      "Epoch 1/10\n",
      " - 5s - loss: 0.2675 - acc: 0.9234 - val_loss: 0.1541 - val_acc: 0.9550\n",
      "Epoch 2/10\n",
      " - 5s - loss: 0.1110 - acc: 0.9666 - val_loss: 0.1216 - val_acc: 0.9643\n",
      "Epoch 3/10\n",
      " - 5s - loss: 0.0719 - acc: 0.9791 - val_loss: 0.0995 - val_acc: 0.9702\n",
      "Epoch 4/10\n",
      " - 5s - loss: 0.0510 - acc: 0.9837 - val_loss: 0.0817 - val_acc: 0.9762\n",
      "Epoch 5/10\n",
      " - 5s - loss: 0.0354 - acc: 0.9894 - val_loss: 0.0956 - val_acc: 0.9744\n",
      "Epoch 6/10\n",
      " - 5s - loss: 0.0280 - acc: 0.9916 - val_loss: 0.0937 - val_acc: 0.9733\n",
      "Epoch 7/10\n",
      " - 5s - loss: 0.0198 - acc: 0.9939 - val_loss: 0.0903 - val_acc: 0.9747\n",
      "Epoch 8/10\n",
      " - 5s - loss: 0.0164 - acc: 0.9949 - val_loss: 0.0872 - val_acc: 0.9772\n",
      "Epoch 9/10\n",
      " - 5s - loss: 0.0135 - acc: 0.9955 - val_loss: 0.1033 - val_acc: 0.9755\n",
      "Epoch 10/10\n",
      " - 5s - loss: 0.0104 - acc: 0.9968 - val_loss: 0.1051 - val_acc: 0.9754\n",
      "10000/10000 [==============================] - 0s 19us/step\n",
      "Train on 48000 samples, validate on 12000 samples\n",
      "Epoch 1/10\n",
      " - 3s - loss: 0.2994 - acc: 0.9157 - val_loss: 0.1612 - val_acc: 0.9538\n",
      "Epoch 2/10\n",
      " - 3s - loss: 0.1247 - acc: 0.9635 - val_loss: 0.1286 - val_acc: 0.9605\n",
      "Epoch 3/10\n",
      " - 3s - loss: 0.0832 - acc: 0.9753 - val_loss: 0.0961 - val_acc: 0.9703\n",
      "Epoch 4/10\n",
      " - 3s - loss: 0.0593 - acc: 0.9819 - val_loss: 0.0867 - val_acc: 0.9739\n",
      "Epoch 5/10\n",
      " - 3s - loss: 0.0443 - acc: 0.9873 - val_loss: 0.0820 - val_acc: 0.9745\n",
      "Epoch 6/10\n",
      " - 3s - loss: 0.0341 - acc: 0.9900 - val_loss: 0.0771 - val_acc: 0.9769\n",
      "Epoch 7/10\n",
      " - 3s - loss: 0.0245 - acc: 0.9933 - val_loss: 0.0883 - val_acc: 0.9742\n",
      "Epoch 8/10\n",
      " - 3s - loss: 0.0194 - acc: 0.9945 - val_loss: 0.0823 - val_acc: 0.9758\n",
      "Epoch 9/10\n",
      " - 3s - loss: 0.0143 - acc: 0.9959 - val_loss: 0.0892 - val_acc: 0.9766\n",
      "Epoch 10/10\n",
      " - 3s - loss: 0.0119 - acc: 0.9966 - val_loss: 0.0959 - val_acc: 0.9748\n",
      "10000/10000 [==============================] - 0s 25us/step\n",
      "Train on 48000 samples, validate on 12000 samples\n",
      "Epoch 1/10\n",
      " - 3s - loss: 0.3211 - acc: 0.9114 - val_loss: 0.1714 - val_acc: 0.9511\n",
      "Epoch 2/10\n",
      " - 2s - loss: 0.1363 - acc: 0.9608 - val_loss: 0.1238 - val_acc: 0.9632\n",
      "Epoch 3/10\n",
      " - 2s - loss: 0.0927 - acc: 0.9731 - val_loss: 0.1027 - val_acc: 0.9695\n",
      "Epoch 4/10\n",
      " - 2s - loss: 0.0673 - acc: 0.9806 - val_loss: 0.0994 - val_acc: 0.9694\n",
      "Epoch 5/10\n",
      " - 2s - loss: 0.0504 - acc: 0.9851 - val_loss: 0.0931 - val_acc: 0.9726\n",
      "Epoch 6/10\n",
      " - 3s - loss: 0.0391 - acc: 0.9884 - val_loss: 0.0819 - val_acc: 0.9762\n",
      "Epoch 7/10\n",
      " - 3s - loss: 0.0303 - acc: 0.9913 - val_loss: 0.0797 - val_acc: 0.9761\n",
      "Epoch 8/10\n",
      " - 3s - loss: 0.0220 - acc: 0.9941 - val_loss: 0.0818 - val_acc: 0.9780\n",
      "Epoch 9/10\n",
      " - 3s - loss: 0.0184 - acc: 0.9950 - val_loss: 0.0845 - val_acc: 0.9772\n",
      "Epoch 10/10\n",
      " - 2s - loss: 0.0138 - acc: 0.9966 - val_loss: 0.0788 - val_acc: 0.9783\n",
      "10000/10000 [==============================] - 0s 20us/step\n",
      "Train on 48000 samples, validate on 12000 samples\n",
      "Epoch 1/10\n",
      " - 2s - loss: 0.3511 - acc: 0.9019 - val_loss: 0.1819 - val_acc: 0.9489\n",
      "Epoch 2/10\n",
      " - 2s - loss: 0.1490 - acc: 0.9569 - val_loss: 0.1260 - val_acc: 0.9652\n",
      "Epoch 3/10\n",
      " - 2s - loss: 0.1004 - acc: 0.9712 - val_loss: 0.1033 - val_acc: 0.9703\n",
      "Epoch 4/10\n",
      " - 2s - loss: 0.0733 - acc: 0.9792 - val_loss: 0.0905 - val_acc: 0.9742\n",
      "Epoch 5/10\n",
      " - 2s - loss: 0.0558 - acc: 0.9837 - val_loss: 0.0928 - val_acc: 0.9727\n",
      "Epoch 6/10\n",
      " - 2s - loss: 0.0430 - acc: 0.9881 - val_loss: 0.0876 - val_acc: 0.9742\n",
      "Epoch 7/10\n",
      " - 2s - loss: 0.0334 - acc: 0.9905 - val_loss: 0.0829 - val_acc: 0.9746\n",
      "Epoch 8/10\n",
      " - 2s - loss: 0.0258 - acc: 0.9934 - val_loss: 0.0813 - val_acc: 0.9763\n",
      "Epoch 9/10\n",
      " - 2s - loss: 0.0212 - acc: 0.9945 - val_loss: 0.0782 - val_acc: 0.9773\n",
      "Epoch 10/10\n",
      " - 2s - loss: 0.0151 - acc: 0.9967 - val_loss: 0.0824 - val_acc: 0.9766\n",
      "10000/10000 [==============================] - 0s 21us/step\n",
      "Train on 48000 samples, validate on 12000 samples\n",
      "Epoch 1/10\n",
      " - 2s - loss: 0.3712 - acc: 0.8979 - val_loss: 0.1906 - val_acc: 0.9483\n",
      "Epoch 2/10\n",
      " - 2s - loss: 0.1606 - acc: 0.9534 - val_loss: 0.1350 - val_acc: 0.9600\n",
      "Epoch 3/10\n",
      " - 2s - loss: 0.1102 - acc: 0.9684 - val_loss: 0.1076 - val_acc: 0.9693\n",
      "Epoch 4/10\n",
      " - 2s - loss: 0.0801 - acc: 0.9776 - val_loss: 0.0948 - val_acc: 0.9709\n",
      "Epoch 5/10\n",
      " - 2s - loss: 0.0627 - acc: 0.9823 - val_loss: 0.0911 - val_acc: 0.9730\n",
      "Epoch 6/10\n",
      " - 2s - loss: 0.0480 - acc: 0.9862 - val_loss: 0.0811 - val_acc: 0.9747\n",
      "Epoch 7/10\n",
      " - 2s - loss: 0.0380 - acc: 0.9894 - val_loss: 0.0770 - val_acc: 0.9772\n",
      "Epoch 8/10\n",
      " - 2s - loss: 0.0299 - acc: 0.9918 - val_loss: 0.0792 - val_acc: 0.9765\n",
      "Epoch 9/10\n",
      " - 2s - loss: 0.0243 - acc: 0.9936 - val_loss: 0.0796 - val_acc: 0.9763\n",
      "Epoch 10/10\n",
      " - 2s - loss: 0.0187 - acc: 0.9960 - val_loss: 0.0786 - val_acc: 0.9779\n",
      "10000/10000 [==============================] - 0s 21us/step\n",
      "Train on 48000 samples, validate on 12000 samples\n",
      "Epoch 1/10\n",
      " - 2s - loss: 0.3835 - acc: 0.8973 - val_loss: 0.2033 - val_acc: 0.9432\n",
      "Epoch 2/10\n",
      " - 1s - loss: 0.1666 - acc: 0.9517 - val_loss: 0.1455 - val_acc: 0.9584\n",
      "Epoch 3/10\n",
      " - 1s - loss: 0.1134 - acc: 0.9677 - val_loss: 0.1117 - val_acc: 0.9685\n",
      "Epoch 4/10\n",
      " - 1s - loss: 0.0845 - acc: 0.9759 - val_loss: 0.1035 - val_acc: 0.9692\n",
      "Epoch 5/10\n",
      " - 1s - loss: 0.0658 - acc: 0.9810 - val_loss: 0.0908 - val_acc: 0.9732\n",
      "Epoch 6/10\n",
      " - 1s - loss: 0.0524 - acc: 0.9856 - val_loss: 0.0851 - val_acc: 0.9752\n",
      "Epoch 7/10\n",
      " - 1s - loss: 0.0420 - acc: 0.9881 - val_loss: 0.0808 - val_acc: 0.9754\n",
      "Epoch 8/10\n",
      " - 1s - loss: 0.0333 - acc: 0.9912 - val_loss: 0.0794 - val_acc: 0.9753\n",
      "Epoch 9/10\n",
      " - 1s - loss: 0.0268 - acc: 0.9934 - val_loss: 0.0823 - val_acc: 0.9759\n",
      "Epoch 10/10\n",
      " - 1s - loss: 0.0232 - acc: 0.9941 - val_loss: 0.0767 - val_acc: 0.9778\n",
      "10000/10000 [==============================] - 0s 21us/step\n",
      "Train on 48000 samples, validate on 12000 samples\n",
      "Epoch 1/10\n",
      " - 2s - loss: 0.3972 - acc: 0.8918 - val_loss: 0.2003 - val_acc: 0.9443\n",
      "Epoch 2/10\n",
      " - 1s - loss: 0.1692 - acc: 0.9516 - val_loss: 0.1469 - val_acc: 0.9571\n",
      "Epoch 3/10\n",
      " - 1s - loss: 0.1170 - acc: 0.9664 - val_loss: 0.1140 - val_acc: 0.9655\n",
      "Epoch 4/10\n",
      " - 1s - loss: 0.0871 - acc: 0.9755 - val_loss: 0.1016 - val_acc: 0.9695\n",
      "Epoch 5/10\n",
      " - 1s - loss: 0.0693 - acc: 0.9803 - val_loss: 0.1011 - val_acc: 0.9710\n",
      "Epoch 6/10\n",
      " - 1s - loss: 0.0546 - acc: 0.9846 - val_loss: 0.0876 - val_acc: 0.9729\n",
      "Epoch 7/10\n",
      " - 1s - loss: 0.0444 - acc: 0.9877 - val_loss: 0.0827 - val_acc: 0.9759\n",
      "Epoch 8/10\n",
      " - 1s - loss: 0.0362 - acc: 0.9903 - val_loss: 0.0815 - val_acc: 0.9755\n",
      "Epoch 9/10\n",
      " - 1s - loss: 0.0299 - acc: 0.9923 - val_loss: 0.0786 - val_acc: 0.9760\n",
      "Epoch 10/10\n",
      " - 1s - loss: 0.0243 - acc: 0.9941 - val_loss: 0.0759 - val_acc: 0.9766\n",
      "10000/10000 [==============================] - 0s 21us/step\n",
      "Train on 48000 samples, validate on 12000 samples\n",
      "Epoch 1/10\n",
      " - 2s - loss: 0.4092 - acc: 0.8915 - val_loss: 0.2071 - val_acc: 0.9432\n",
      "Epoch 2/10\n",
      " - 1s - loss: 0.1759 - acc: 0.9501 - val_loss: 0.1496 - val_acc: 0.9593\n",
      "Epoch 3/10\n",
      " - 1s - loss: 0.1224 - acc: 0.9653 - val_loss: 0.1238 - val_acc: 0.9650\n",
      "Epoch 4/10\n",
      " - 1s - loss: 0.0929 - acc: 0.9739 - val_loss: 0.1048 - val_acc: 0.9703\n",
      "Epoch 5/10\n",
      " - 1s - loss: 0.0717 - acc: 0.9804 - val_loss: 0.0947 - val_acc: 0.9724\n",
      "Epoch 6/10\n",
      " - 1s - loss: 0.0584 - acc: 0.9836 - val_loss: 0.0905 - val_acc: 0.9747\n",
      "Epoch 7/10\n",
      " - 1s - loss: 0.0477 - acc: 0.9866 - val_loss: 0.0872 - val_acc: 0.9736\n",
      "Epoch 8/10\n",
      " - 1s - loss: 0.0385 - acc: 0.9901 - val_loss: 0.0829 - val_acc: 0.9745\n"
     ]
    },
    {
     "name": "stdout",
     "output_type": "stream",
     "text": [
      "Epoch 9/10\n",
      " - 1s - loss: 0.0321 - acc: 0.9917 - val_loss: 0.0851 - val_acc: 0.9757\n",
      "Epoch 10/10\n",
      " - 1s - loss: 0.0266 - acc: 0.9936 - val_loss: 0.0865 - val_acc: 0.9752\n",
      "10000/10000 [==============================] - 0s 22us/step\n",
      "Train on 48000 samples, validate on 12000 samples\n",
      "Epoch 1/10\n",
      " - 1s - loss: 0.4342 - acc: 0.8823 - val_loss: 0.2186 - val_acc: 0.9394\n",
      "Epoch 2/10\n",
      " - 1s - loss: 0.1888 - acc: 0.9471 - val_loss: 0.1515 - val_acc: 0.9587\n",
      "Epoch 3/10\n",
      " - 1s - loss: 0.1331 - acc: 0.9620 - val_loss: 0.1260 - val_acc: 0.9647\n",
      "Epoch 4/10\n",
      " - 1s - loss: 0.1004 - acc: 0.9715 - val_loss: 0.1117 - val_acc: 0.9678\n",
      "Epoch 5/10\n",
      " - 1s - loss: 0.0796 - acc: 0.9772 - val_loss: 0.0980 - val_acc: 0.9707\n",
      "Epoch 6/10\n",
      " - 1s - loss: 0.0648 - acc: 0.9818 - val_loss: 0.0919 - val_acc: 0.9730\n",
      "Epoch 7/10\n",
      " - 1s - loss: 0.0531 - acc: 0.9849 - val_loss: 0.0860 - val_acc: 0.9749\n",
      "Epoch 8/10\n",
      " - 1s - loss: 0.0433 - acc: 0.9886 - val_loss: 0.0823 - val_acc: 0.9748\n",
      "Epoch 9/10\n",
      " - 1s - loss: 0.0357 - acc: 0.9907 - val_loss: 0.0814 - val_acc: 0.9757\n",
      "Epoch 10/10\n",
      " - 1s - loss: 0.0303 - acc: 0.9925 - val_loss: 0.0796 - val_acc: 0.9761\n",
      "10000/10000 [==============================] - 0s 21us/step\n"
     ]
    }
   ],
   "source": [
    "#設定batch size 參數均格 bspg\n",
    "bspg=range(10,200,20)\n",
    "#score\n",
    "score=[]\n",
    "bestScore=0\n",
    "bestBatchSize=10\n",
    "\n",
    "for bs in bspg:\n",
    "    scr=eval_hp_batchSize(batchSize=bs,hiddenNum=256)\n",
    "    score.append(scr)\n",
    "    if scr > bestScore:\n",
    "        bestScore=scr\n",
    "        bestBatchSize=bs"
   ]
  },
  {
   "cell_type": "code",
   "execution_count": 12,
   "metadata": {},
   "outputs": [
    {
     "data": {
      "text/plain": [
       "[0.9784, 0.978, 0.9758, 0.9778, 0.9781, 0.9776, 0.9799, 0.9782, 0.9774, 0.9789]"
      ]
     },
     "execution_count": 12,
     "metadata": {},
     "output_type": "execute_result"
    }
   ],
   "source": [
    "score"
   ]
  },
  {
   "cell_type": "code",
   "execution_count": 13,
   "metadata": {},
   "outputs": [
    {
     "data": {
      "text/plain": [
       "130"
      ]
     },
     "execution_count": 13,
     "metadata": {},
     "output_type": "execute_result"
    }
   ],
   "source": [
    "bestBatchSize"
   ]
  },
  {
   "cell_type": "code",
   "execution_count": 14,
   "metadata": {},
   "outputs": [],
   "source": [
    "#繪圖檢視\n",
    "import matplotlib.pyplot as plt\n",
    "%matplotlib inline"
   ]
  },
  {
   "cell_type": "code",
   "execution_count": 15,
   "metadata": {},
   "outputs": [
    {
     "data": {
      "text/plain": [
       "[<matplotlib.lines.Line2D at 0x27d8022fcf8>]"
      ]
     },
     "execution_count": 15,
     "metadata": {},
     "output_type": "execute_result"
    },
    {
     "data": {
      "image/png": "[encoded data removed]",
      "text/plain": [
       "<Figure size 432x288 with 1 Axes>"
      ]
     },
     "metadata": {},
     "output_type": "display_data"
    }
   ],
   "source": [
    "plt.plot(bspg,score)"
   ]
  },
  {
   "cell_type": "code",
   "execution_count": null,
   "metadata": {},
   "outputs": [],
   "source": []
  }
 ],
 "metadata": {
  "kernelspec": {
   "display_name": "Python 3",
   "language": "python",
   "name": "python3"
  },
  "language_info": {
   "codemirror_mode": {
    "name": "ipython",
    "version": 3
   },
   "file_extension": ".py",
   "mimetype": "text/x-python",
   "name": "python",
   "nbconvert_exporter": "python",
   "pygments_lexer": "ipython3",
   "version": "3.5.5"
  }
 },
 "nbformat": 4,
 "nbformat_minor": 2
}
