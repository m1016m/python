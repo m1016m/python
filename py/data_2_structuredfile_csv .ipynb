{
 "cells": [
  {
   "cell_type": "code",
   "execution_count": 1,
   "metadata": {
    "collapsed": true
   },
   "outputs": [],
   "source": [
    "#example1:"
   ]
  },
  {
   "cell_type": "code",
   "execution_count": 2,
   "metadata": {
    "collapsed": true
   },
   "outputs": [],
   "source": [
    "import csv #import csv模組"
   ]
  },
  {
   "cell_type": "code",
   "execution_count": 3,
   "metadata": {
    "collapsed": false
   },
   "outputs": [],
   "source": [
    "fin=open('2016072630_process.csv','r') #open csv file "
   ]
  },
  {
   "cell_type": "code",
   "execution_count": 4,
   "metadata": {
    "collapsed": false
   },
   "outputs": [
    {
     "name": "stdout",
     "output_type": "stream",
     "text": [
      "['證券代號', '證券名稱', '成交股數', '成交筆數', '成交金額', '成交價', '最後揭示買價', '最後揭示買量', '最後揭示賣價', '最後揭示賣量']\n",
      "['2427', '三商電          ', '1,457', '6', '11,071', '7.6', '7.6', '1,235', '7.69', '901']\n",
      "['2453', '凌群            ', '324', '1', '3,790', '11.7', '11.7', '675', '11.9', '816']\n",
      "['2468', '華經            ', '0', '0', '0', '--', '10.9', '999', '11', '465']\n",
      "['2471', '資通            ', '300', '3', '4,063', '13.55', '13.55', '3,001', '13.65', '847']\n",
      "['2480', '敦陽科          ', '660', '5', '16,300', '24.7', '24.7', '32,962', '24.8', '1,398']\n",
      "['3029', '零壹            ', '400', '5', '7,200', '18', '17.95', '3,533', '18', '2,230']\n",
      "['3130', '一零四          ', '63', '3', '8,599', '136.5', '136.5', '1,517', '139.5', '306']\n",
      "['4994', '傳奇            ', '470', '3', '27,165', '57.8', '57.6', '2,498', '57.8', '2,021']\n",
      "['5203', '訊連            ', '1,020', '8', '72,824', '71.4', '71.4', '2,985', '71.7', '4,604']\n",
      "['6112', '聚碩            ', '161', '3', '4,249', '26.4', '26.4', '5,530', '26.5', '990']\n",
      "['6183', '關貿            ', '0', '0', '0', '--', '26.2', '2,498', '26.4', '1,105']\n",
      "['6214', '精誠            ', '1,340', '10', '70,479', '52.6', '52.6', '63,205', '52.7', '3,563']\n"
     ]
    }
   ],
   "source": [
    "for row in csv.reader(fin): #逐行讀取 csv file 並列印\n",
    "    print(row)"
   ]
  },
  {
   "cell_type": "code",
   "execution_count": 5,
   "metadata": {
    "collapsed": false
   },
   "outputs": [],
   "source": [
    "fin.close()"
   ]
  },
  {
   "cell_type": "code",
   "execution_count": 6,
   "metadata": {
    "collapsed": true
   },
   "outputs": [],
   "source": [
    "#example2: csv.csv.DictReader()"
   ]
  },
  {
   "cell_type": "code",
   "execution_count": 7,
   "metadata": {
    "collapsed": true
   },
   "outputs": [],
   "source": [
    "fin2=open('2016072630_process.csv','r')"
   ]
  },
  {
   "cell_type": "code",
   "execution_count": 8,
   "metadata": {
    "collapsed": false
   },
   "outputs": [
    {
     "name": "stdout",
     "output_type": "stream",
     "text": [
      "11,071\n",
      "3,790\n",
      "0\n",
      "4,063\n",
      "16,300\n",
      "7,200\n",
      "8,599\n",
      "27,165\n",
      "72,824\n",
      "4,249\n",
      "0\n",
      "70,479\n"
     ]
    }
   ],
   "source": [
    "for row in csv.DictReader(fin2):  #把資料parsing成dictionary的格式(csv.DictReader())，\n",
    "    print(row['成交金額'])        #使用第一列當作dictionary的key。"
   ]
  },
  {
   "cell_type": "code",
   "execution_count": 9,
   "metadata": {
    "collapsed": true
   },
   "outputs": [],
   "source": [
    "fin2.close()"
   ]
  },
  {
   "cell_type": "code",
   "execution_count": 10,
   "metadata": {
    "collapsed": true
   },
   "outputs": [],
   "source": [
    "#example3: 將list 資料寫入csv file"
   ]
  },
  {
   "cell_type": "code",
   "execution_count": 11,
   "metadata": {
    "collapsed": true
   },
   "outputs": [],
   "source": [
    "add_data=[['6883','精工','82','3','2,032','24.8','24.8','1,803','25.15','1,461'],\n",
    "          ['6888','花王','82','3','2,032','24.8','24.8','1,803','25.15','1,461'],]"
   ]
  },
  {
   "cell_type": "code",
   "execution_count": 12,
   "metadata": {
    "collapsed": true
   },
   "outputs": [],
   "source": [
    "fout=open('2016072630_process.csv','a') #以a,appending to the end of the file if it exists\n",
    "w=csv.writer(fout) #csv.writer\n",
    "w.writerows(add_data) #writerows(多行),writerow(單行)\n",
    "fout.close()"
   ]
  },
  {
   "cell_type": "code",
   "execution_count": 1,
   "metadata": {
    "collapsed": true
   },
   "outputs": [],
   "source": [
    "#再次檢視 2016072630_process.csv"
   ]
  },
  {
   "cell_type": "code",
   "execution_count": null,
   "metadata": {
    "collapsed": true
   },
   "outputs": [],
   "source": [
    "fin=open('2016072630_process.csv','r') #open csv file\n",
    "for row in csv.reader(fin): #逐行讀取 csv file 並列印\n",
    "    print(row)\n",
    "fin.close()"
   ]
  }
 ],
 "metadata": {
  "kernelspec": {
   "display_name": "Python [default]",
   "language": "python",
   "name": "python3"
  },
  "language_info": {
   "codemirror_mode": {
    "name": "ipython",
    "version": 3
   },
   "file_extension": ".py",
   "mimetype": "text/x-python",
   "name": "python",
   "nbconvert_exporter": "python",
   "pygments_lexer": "ipython3",
   "version": "3.5.2"
  }
 },
 "nbformat": 4,
 "nbformat_minor": 0
}
