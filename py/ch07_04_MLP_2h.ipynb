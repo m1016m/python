{
 "cells": [
  {
   "cell_type": "code",
   "execution_count": 1,
   "metadata": {
    "collapsed": true
   },
   "outputs": [],
   "source": [
    "#ch07_04_MLP_2h.ipynb"
   ]
  },
  {
   "cell_type": "code",
   "execution_count": 1,
   "metadata": {
    "collapsed": true
   },
   "outputs": [],
   "source": [
    "#為增加MLP model 準確率, 本範例將 隱藏層從256個神經元增加為1000個，討論 model效能\n",
    "#為解決 overfitting , 我們在隱藏層加入 DropOut 功能, keras.layers.Dropout\n",
    "#再增加第二個隱藏層,神經元1000"
   ]
  },
  {
   "cell_type": "code",
   "execution_count": 2,
   "metadata": {
    "collapsed": true
   },
   "outputs": [],
   "source": [
    "#step1 讀取並預處理資料"
   ]
  },
  {
   "cell_type": "code",
   "execution_count": 3,
   "metadata": {},
   "outputs": [
    {
     "name": "stderr",
     "output_type": "stream",
     "text": [
      "Using TensorFlow backend.\n"
     ]
    }
   ],
   "source": [
    "#step1.1 匯入所需模組, keras.utils.np_utils\n",
    "from keras.utils import np_utils\n",
    "import numpy as np"
   ]
  },
  {
   "cell_type": "code",
   "execution_count": 4,
   "metadata": {
    "collapsed": true
   },
   "outputs": [],
   "source": [
    "#step1.1.a 將亂數種子固定\n",
    "np.random.seed(10)"
   ]
  },
  {
   "cell_type": "code",
   "execution_count": 5,
   "metadata": {
    "collapsed": true
   },
   "outputs": [],
   "source": [
    "#step1.2 從keras.dataset 讀取 mnist 資料集\n",
    "from keras.datasets import mnist"
   ]
  },
  {
   "cell_type": "code",
   "execution_count": 6,
   "metadata": {
    "collapsed": true
   },
   "outputs": [],
   "source": [
    "#step1.2.1 以mnist.load_data() method 讀取資料,(train/test)\n",
    "(x_train_image,y_train_label),(x_test_image,y_test_label)=mnist.load_data()"
   ]
  },
  {
   "cell_type": "code",
   "execution_count": 7,
   "metadata": {
    "collapsed": true
   },
   "outputs": [],
   "source": [
    "#step1.3 將features(28x28 數字影像特徵值) reshape 為 1 dimension array (784),並轉換為float\n",
    "x_Train=x_train_image.reshape(60000,784).astype('float32')\n",
    "x_Test=x_test_image.reshape(10000,784).astype('float32')"
   ]
  },
  {
   "cell_type": "code",
   "execution_count": 8,
   "metadata": {
    "collapsed": true
   },
   "outputs": [],
   "source": [
    "#step1.4 將1.3的features標準化 (0.0~255.0)-->(0.0~1.0)\n",
    "x_Train_normalize=x_Train/255\n",
    "x_Test_normalize=x_Test/255"
   ]
  },
  {
   "cell_type": "code",
   "execution_count": 9,
   "metadata": {
    "collapsed": true
   },
   "outputs": [],
   "source": [
    "#step1.5 將label值(0,1,~9) One-hot encoding 編碼, 使用 np_utils.to_categorical() method\n",
    "y_Train_OneHot=np_utils.to_categorical(y_train_label)\n",
    "y_Test_OneHot=np_utils.to_categorical(y_test_label)"
   ]
  },
  {
   "cell_type": "code",
   "execution_count": 10,
   "metadata": {
    "collapsed": true
   },
   "outputs": [],
   "source": [
    "#======================================================================================="
   ]
  },
  {
   "cell_type": "code",
   "execution_count": 11,
   "metadata": {
    "collapsed": true
   },
   "outputs": [],
   "source": [
    "#step2. 建立MLP模型, 輸入層(x),784個神經元;  隱藏層(h),增加為1000個神經元; 輸出層(y),10個神經元 "
   ]
  },
  {
   "cell_type": "code",
   "execution_count": 12,
   "metadata": {
    "collapsed": true
   },
   "outputs": [],
   "source": [
    "#step2.1 或入所需模組 keras.model.Sequentail, keras.layers.Dense,keras.layers.Dropout\n",
    "from keras.models import Sequential\n",
    "from keras.layers import Dense\n",
    "from keras.layers import Dropout"
   ]
  },
  {
   "cell_type": "code",
   "execution_count": 13,
   "metadata": {
    "collapsed": true
   },
   "outputs": [],
   "source": [
    "#step2.2 建立一個 Sequential model 's_2h_model'\n",
    "#        The core data structure of Keras is a model, a way to organize layers.\n",
    "#        The simplest type of model is the Sequential model, a linear stack of layers. \n",
    "s_2h_model=Sequential()  #Linear stack of layers."
   ]
  },
  {
   "cell_type": "code",
   "execution_count": 14,
   "metadata": {
    "collapsed": true
   },
   "outputs": [],
   "source": [
    "#step2.3 建立輸入層(x)及隱藏層(h), 以Sequential.add() method, 加入 Dense神經網路層\n",
    "#        Dense() 函數 實作 h=relu(x*w1+b1) 隱藏層\n",
    "s_2h_model.add(Dense(units=1000,                  #設定隱藏層神經元個數1000\n",
    "                 input_dim=784,                   #設定輸入層神經元個數784\n",
    "                 kernel_initializer='normal',     #使用 normal distribution 亂數,初始化 weight及bias\n",
    "                 activation='relu'))              #activation function 'relu'"
   ]
  },
  {
   "cell_type": "code",
   "execution_count": 15,
   "metadata": {
    "collapsed": true
   },
   "outputs": [],
   "source": [
    "#step2.3.a 加入Dropout功能, 在模型中加入 Dropout 功能, 作動在本隱藏層 \n",
    "s_2h_model.add(Dropout(0.5))"
   ]
  },
  {
   "cell_type": "code",
   "execution_count": 16,
   "metadata": {
    "collapsed": true
   },
   "outputs": [],
   "source": [
    "#stelp2.3.b 再加一個隱藏層(h2)\n",
    "s_2h_model.add(Dense(units=1000,\n",
    "                    kernel_initializer='normal',\n",
    "                    activation='relu'))"
   ]
  },
  {
   "cell_type": "code",
   "execution_count": 17,
   "metadata": {
    "collapsed": true
   },
   "outputs": [],
   "source": [
    "#step2.3.c 加入Dropout功能, 在模型中加入 Dropout 功能, 作動在本隱藏層 \n",
    "s_2h_model.add(Dropout(0.5))"
   ]
  },
  {
   "cell_type": "code",
   "execution_count": 18,
   "metadata": {
    "collapsed": true
   },
   "outputs": [],
   "source": [
    "#step2.4 建立「輸出層」,使用Sequential.add() , Dense()\n",
    "#        輸出層 activattion function 使用 softmax\n",
    "#        Dense() 函數 實作 y=softmax(h1*w2+b2) 輸出層 \n",
    "s_2h_model.add(Dense(units=10,                      #設定輸出層神經元個數為10\n",
    "                 kernel_initializer='normal',    #使用 normal distribution 亂數,初始化 weight及bias\n",
    "                 activation='softmax'))          #activation function 'softmax'"
   ]
  },
  {
   "cell_type": "code",
   "execution_count": 19,
   "metadata": {},
   "outputs": [
    {
     "name": "stdout",
     "output_type": "stream",
     "text": [
      "_________________________________________________________________\n",
      "Layer (type)                 Output Shape              Param #   \n",
      "=================================================================\n",
      "dense_1 (Dense)              (None, 1000)              785000    \n",
      "_________________________________________________________________\n",
      "dropout_1 (Dropout)          (None, 1000)              0         \n",
      "_________________________________________________________________\n",
      "dense_2 (Dense)              (None, 1000)              1001000   \n",
      "_________________________________________________________________\n",
      "dropout_2 (Dropout)          (None, 1000)              0         \n",
      "_________________________________________________________________\n",
      "dense_3 (Dense)              (None, 10)                10010     \n",
      "=================================================================\n",
      "Total params: 1,796,010\n",
      "Trainable params: 1,796,010\n",
      "Non-trainable params: 0\n",
      "_________________________________________________________________\n",
      "None\n"
     ]
    }
   ],
   "source": [
    "#step2.5 檢視 Sequential model 's_dropout_model' 的摘要\n",
    "print(s_2h_model.summary())"
   ]
  },
  {
   "cell_type": "code",
   "execution_count": 20,
   "metadata": {
    "collapsed": true
   },
   "outputs": [],
   "source": [
    "#====================================================================\n",
    "#建立深度學習模型後，就可以使用反向傳播演算法(Back Propagation)進行訓練\n",
    "#step3. 進行訓練"
   ]
  },
  {
   "cell_type": "code",
   "execution_count": 21,
   "metadata": {
    "collapsed": true
   },
   "outputs": [],
   "source": [
    "#step3.1 定義訓練方式\n",
    "#        以 Sequential.compile(), 設定模型訓練方式\n",
    "#        Compilation:\n",
    "#        Before training a model, you need to configure the learning process, \n",
    "#        which is done via the compile method. It receives three arguments:\n",
    "#            1.An optimizer.      (設定訓練時的優化方法, 如adam)\n",
    "#            2.A loss function.   (設定損失函數, 如 cross_entropy)\n",
    "#            3.A list of metrics. (設定評估模型的方式, 如 accuracy)\n",
    "s_2h_model.compile(loss='categorical_crossentropy',\n",
    "               optimizer='adam',metrics=['accuracy'])"
   ]
  },
  {
   "cell_type": "code",
   "execution_count": 22,
   "metadata": {},
   "outputs": [
    {
     "name": "stdout",
     "output_type": "stream",
     "text": [
      "Train on 48000 samples, validate on 12000 samples\n",
      "Epoch 1/10\n",
      " - 22s - loss: 0.3648 - acc: 0.8857 - val_loss: 0.1344 - val_acc: 0.9605\n",
      "Epoch 2/10\n",
      " - 22s - loss: 0.1593 - acc: 0.9519 - val_loss: 0.0995 - val_acc: 0.9708\n",
      "Epoch 3/10\n",
      " - 22s - loss: 0.1173 - acc: 0.9636 - val_loss: 0.0865 - val_acc: 0.9742\n",
      "Epoch 4/10\n",
      " - 22s - loss: 0.0986 - acc: 0.9697 - val_loss: 0.0852 - val_acc: 0.9743\n",
      "Epoch 5/10\n",
      " - 22s - loss: 0.0845 - acc: 0.9734 - val_loss: 0.0832 - val_acc: 0.9752\n",
      "Epoch 6/10\n",
      " - 22s - loss: 0.0750 - acc: 0.9762 - val_loss: 0.0783 - val_acc: 0.9769\n",
      "Epoch 7/10\n",
      " - 22s - loss: 0.0653 - acc: 0.9788 - val_loss: 0.0729 - val_acc: 0.9789\n",
      "Epoch 8/10\n",
      " - 22s - loss: 0.0576 - acc: 0.9813 - val_loss: 0.0790 - val_acc: 0.9778\n",
      "Epoch 9/10\n",
      " - 22s - loss: 0.0561 - acc: 0.9816 - val_loss: 0.0727 - val_acc: 0.9793\n",
      "Epoch 10/10\n",
      " - 22s - loss: 0.0515 - acc: 0.9835 - val_loss: 0.0704 - val_acc: 0.9798\n"
     ]
    }
   ],
   "source": [
    "#step3.2 開始訓練, 以Sequential.fit() \n",
    "train_history=s_2h_model.fit(x=x_Train_normalize,                 #feature 數字影像標準化值\n",
    "                         y=y_Train_OneHot,validation_split=0.2,    #lebel One-Hot encoding 值\n",
    "                         epochs=10,batch_size=200,verbose=2)       #epochs, 訓練週期為 10"
   ]
  },
  {
   "cell_type": "code",
   "execution_count": 23,
   "metadata": {
    "collapsed": true
   },
   "outputs": [],
   "source": [
    "#step3.3 顯示(繪圖)訓練過程\n",
    "#        讀取 train_history 中 loss 與 accuracy, 繪圖\n",
    "import matplotlib.pyplot as plt\n",
    "def show_train_history(train_history,train,validation):  #define a function 'show_train_history'\n",
    "    plt.plot(train_history.history[train])              #train_history.history 是一個 dict\n",
    "    plt.plot(train_history.history[validation])\n",
    "    plt.title('Train History')\n",
    "    plt.ylabel(train)\n",
    "    plt.xlabel('Epoch')\n",
    "    plt.legend(['train','validation'],loc='upper left')\n",
    "    plt.show()"
   ]
  },
  {
   "cell_type": "code",
   "execution_count": 24,
   "metadata": {},
   "outputs": [
    {
     "data": {
      "text/plain": [
       "dict_keys(['loss', 'acc', 'val_loss', 'val_acc'])"
      ]
     },
     "execution_count": 24,
     "metadata": {},
     "output_type": "execute_result"
    }
   ],
   "source": [
    "train_history.history.keys()"
   ]
  },
  {
   "cell_type": "code",
   "execution_count": 25,
   "metadata": {},
   "outputs": [
    {
     "data": {
      "image/png": "[encoded data removed]",
      "text/plain": [
       "<matplotlib.figure.Figure at 0x1e1d08ecef0>"
      ]
     },
     "metadata": {},
     "output_type": "display_data"
    }
   ],
   "source": [
    "#step3.4 畫出 accuracy 執行結果, 使用 show_train_history\n",
    "%matplotlib inline\n",
    "show_train_history(train_history,'acc','val_acc')"
   ]
  },
  {
   "cell_type": "code",
   "execution_count": 26,
   "metadata": {
    "collapsed": true
   },
   "outputs": [],
   "source": [
    "#到目前為止，我們只是以 (x_train_image,y_train_label) (60000筆),依8:2 (train(8):test(2)) 做訓練模型評估\n",
    "#後續, 我們會以另組獨立資料 (x_test_image,y_test_label) (10000筆) 評估模型準確率"
   ]
  },
  {
   "cell_type": "code",
   "execution_count": 27,
   "metadata": {},
   "outputs": [
    {
     "data": {
      "image/png": "[encoded data removed]",
      "text/plain": [
       "<matplotlib.figure.Figure at 0x1e1cf456518>"
      ]
     },
     "metadata": {},
     "output_type": "display_data"
    }
   ],
   "source": [
    "#step3.5 畫出 loss 誤差值\n",
    "show_train_history(train_history,'loss','val_loss')"
   ]
  },
  {
   "cell_type": "code",
   "execution_count": 28,
   "metadata": {},
   "outputs": [
    {
     "name": "stdout",
     "output_type": "stream",
     "text": [
      "10000/10000 [==============================] - 2s 212us/step\n",
      "\n",
      "accuracy= 0.982\n"
     ]
    }
   ],
   "source": [
    "#step4. 以獨立的 10000 筆測試資料 (x_test_image,y_test_label) 評估模型準確率\n",
    "#       使用 Sequential.evaluate() method\n",
    "score=s_2h_model.evaluate(x_Test_normalize,y_Test_OneHot)\n",
    "print()\n",
    "print('accuracy=',score[1])"
   ]
  },
  {
   "cell_type": "code",
   "execution_count": null,
   "metadata": {
    "collapsed": true
   },
   "outputs": [],
   "source": []
  }
 ],
 "metadata": {
  "kernelspec": {
   "display_name": "Python 3",
   "language": "python",
   "name": "python3"
  },
  "language_info": {
   "codemirror_mode": {
    "name": "ipython",
    "version": 3
   },
   "file_extension": ".py",
   "mimetype": "text/x-python",
   "name": "python",
   "nbconvert_exporter": "python",
   "pygments_lexer": "ipython3",
   "version": "3.5.3"
  }
 },
 "nbformat": 4,
 "nbformat_minor": 2
}
