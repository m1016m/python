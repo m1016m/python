{
 "cells": [
  {
   "cell_type": "code",
   "execution_count": 1,
   "metadata": {},
   "outputs": [],
   "source": [
    "#A_ch02_0053_multipleLinearA_20180830.ipynb\n",
    "#使用店面面積和捷運站距離來預測月營業額\n",
    "#兩個特徵(解釋變數)範例"
   ]
  },
  {
   "cell_type": "code",
   "execution_count": 2,
   "metadata": {},
   "outputs": [
    {
     "name": "stdout",
     "output_type": "stream",
     "text": [
      "area,distance,revenue\n",
      "12.5,820,47.9\n",
      "8.8,100,36.8\n",
      "8.5,110,37.8\n",
      "4.2,400,20.2\n",
      "4.3,405,20.3\n",
      "20.0,580,59.0\n",
      "13.4,600,43.2\n",
      "15.3,605,41.2\n",
      "16.2,105,38.6\n",
      "10.2,10,44.8\n",
      "9.6,12,46.2\n",
      "14.5,55,30.2\n",
      "13.2,74,32.1\n"
     ]
    }
   ],
   "source": [
    "#step 0: 檢視資料 MRTstore.csv\n",
    "!type MRTstore.csv"
   ]
  },
  {
   "cell_type": "code",
   "execution_count": 3,
   "metadata": {},
   "outputs": [],
   "source": [
    "#step 1: 準備資料\n",
    "import pandas as pd\n",
    "import numpy as np"
   ]
  },
  {
   "cell_type": "code",
   "execution_count": 4,
   "metadata": {},
   "outputs": [],
   "source": [
    "#step 1.1: 以pandas.read_csv()\n",
    "#讀取 csv檔,成為DataFrame 'df1'\n",
    "df1=pd.read_csv('MRTstore.csv',sep=',')"
   ]
  },
  {
   "cell_type": "code",
   "execution_count": 5,
   "metadata": {},
   "outputs": [
    {
     "data": {
      "text/html": [
       "<div>\n",
       "<style scoped>\n",
       "    .dataframe tbody tr th:only-of-type {\n",
       "        vertical-align: middle;\n",
       "    }\n",
       "\n",
       "    .dataframe tbody tr th {\n",
       "        vertical-align: top;\n",
       "    }\n",
       "\n",
       "    .dataframe thead th {\n",
       "        text-align: right;\n",
       "    }\n",
       "</style>\n",
       "<table border=\"1\" class=\"dataframe\">\n",
       "  <thead>\n",
       "    <tr style=\"text-align: right;\">\n",
       "      <th></th>\n",
       "      <th>area</th>\n",
       "      <th>distance</th>\n",
       "      <th>revenue</th>\n",
       "    </tr>\n",
       "  </thead>\n",
       "  <tbody>\n",
       "    <tr>\n",
       "      <th>0</th>\n",
       "      <td>12.5</td>\n",
       "      <td>820</td>\n",
       "      <td>47.9</td>\n",
       "    </tr>\n",
       "    <tr>\n",
       "      <th>1</th>\n",
       "      <td>8.8</td>\n",
       "      <td>100</td>\n",
       "      <td>36.8</td>\n",
       "    </tr>\n",
       "    <tr>\n",
       "      <th>2</th>\n",
       "      <td>8.5</td>\n",
       "      <td>110</td>\n",
       "      <td>37.8</td>\n",
       "    </tr>\n",
       "    <tr>\n",
       "      <th>3</th>\n",
       "      <td>4.2</td>\n",
       "      <td>400</td>\n",
       "      <td>20.2</td>\n",
       "    </tr>\n",
       "    <tr>\n",
       "      <th>4</th>\n",
       "      <td>4.3</td>\n",
       "      <td>405</td>\n",
       "      <td>20.3</td>\n",
       "    </tr>\n",
       "    <tr>\n",
       "      <th>5</th>\n",
       "      <td>20.0</td>\n",
       "      <td>580</td>\n",
       "      <td>59.0</td>\n",
       "    </tr>\n",
       "    <tr>\n",
       "      <th>6</th>\n",
       "      <td>13.4</td>\n",
       "      <td>600</td>\n",
       "      <td>43.2</td>\n",
       "    </tr>\n",
       "    <tr>\n",
       "      <th>7</th>\n",
       "      <td>15.3</td>\n",
       "      <td>605</td>\n",
       "      <td>41.2</td>\n",
       "    </tr>\n",
       "    <tr>\n",
       "      <th>8</th>\n",
       "      <td>16.2</td>\n",
       "      <td>105</td>\n",
       "      <td>38.6</td>\n",
       "    </tr>\n",
       "    <tr>\n",
       "      <th>9</th>\n",
       "      <td>10.2</td>\n",
       "      <td>10</td>\n",
       "      <td>44.8</td>\n",
       "    </tr>\n",
       "    <tr>\n",
       "      <th>10</th>\n",
       "      <td>9.6</td>\n",
       "      <td>12</td>\n",
       "      <td>46.2</td>\n",
       "    </tr>\n",
       "    <tr>\n",
       "      <th>11</th>\n",
       "      <td>14.5</td>\n",
       "      <td>55</td>\n",
       "      <td>30.2</td>\n",
       "    </tr>\n",
       "    <tr>\n",
       "      <th>12</th>\n",
       "      <td>13.2</td>\n",
       "      <td>74</td>\n",
       "      <td>32.1</td>\n",
       "    </tr>\n",
       "  </tbody>\n",
       "</table>\n",
       "</div>"
      ],
      "text/plain": [
       "    area  distance  revenue\n",
       "0   12.5       820     47.9\n",
       "1    8.8       100     36.8\n",
       "2    8.5       110     37.8\n",
       "3    4.2       400     20.2\n",
       "4    4.3       405     20.3\n",
       "5   20.0       580     59.0\n",
       "6   13.4       600     43.2\n",
       "7   15.3       605     41.2\n",
       "8   16.2       105     38.6\n",
       "9   10.2        10     44.8\n",
       "10   9.6        12     46.2\n",
       "11  14.5        55     30.2\n",
       "12  13.2        74     32.1"
      ]
     },
     "execution_count": 5,
     "metadata": {},
     "output_type": "execute_result"
    }
   ],
   "source": [
    "#step 1.2: 檢視 df1\n",
    "df1"
   ]
  },
  {
   "cell_type": "code",
   "execution_count": 14,
   "metadata": {},
   "outputs": [],
   "source": [
    "#step 1.3: feature X ,df1['area','distance']\n",
    "#          target y, df1.revenue\n",
    "X=df1[['area','distance']].values\n",
    "y=df1.revenue.values"
   ]
  },
  {
   "cell_type": "code",
   "execution_count": 15,
   "metadata": {},
   "outputs": [
    {
     "name": "stdout",
     "output_type": "stream",
     "text": [
      "X.shape :  (13, 2)   y.shape : (13,)\n"
     ]
    }
   ],
   "source": [
    "print('X.shape : ',X.shape,'  y.shape :',y.shape)"
   ]
  },
  {
   "cell_type": "code",
   "execution_count": 17,
   "metadata": {},
   "outputs": [],
   "source": [
    "#step 2: 塑模 LinearRegression 'lrModel02'\n",
    "from sklearn.linear_model import LinearRegression\n",
    "lrModel02=LinearRegression()"
   ]
  },
  {
   "cell_type": "code",
   "execution_count": 18,
   "metadata": {},
   "outputs": [
    {
     "data": {
      "text/plain": [
       "LinearRegression(copy_X=True, fit_intercept=True, n_jobs=1, normalize=False)"
      ]
     },
     "execution_count": 18,
     "metadata": {},
     "output_type": "execute_result"
    }
   ],
   "source": [
    "#step 3: fitting, 使用 X, y\n",
    "lrModel02.fit(X,y)"
   ]
  },
  {
   "cell_type": "code",
   "execution_count": 20,
   "metadata": {},
   "outputs": [
    {
     "name": "stdout",
     "output_type": "stream",
     "text": [
      "斜率(.coef_)= [1.59994543 0.0042065 ]      截距(.intercept_)= 18.529523961572814\n"
     ]
    }
   ],
   "source": [
    "#step 3.1 : 檢視模型的 \"斜率\" (.coef_) 與 \"截距\" (.intercept_)\n",
    "print(\"斜率(.coef_)=\",lrModel02.coef_,\"     截距(.intercept_)=\",lrModel02.intercept_)"
   ]
  },
  {
   "cell_type": "code",
   "execution_count": 31,
   "metadata": {},
   "outputs": [
    {
     "name": "stdout",
     "output_type": "stream",
     "text": [
      "店面積:  10.0, 距離: 200.0  預測營業額   35.4\n"
     ]
    }
   ],
   "source": [
    "#step 4: predict, 預測 新開店面: 面積:10, 距離:200\n",
    "newStore=np.array([10,200]).reshape(1,-1)\n",
    "print(\"店面積:{0:6.1f}, 距離:{1:6.1f}  預測營業額 {2:6.1f}\".\n",
    "      format(newStore[0][0],newStore[0][1],lrModel02.predict(newStore)[0]))"
   ]
  },
  {
   "cell_type": "code",
   "execution_count": 33,
   "metadata": {},
   "outputs": [],
   "source": [
    "#step 5: 繪3D圖展示\n",
    "import matplotlib.pylab as plt"
   ]
  },
  {
   "cell_type": "code",
   "execution_count": 34,
   "metadata": {},
   "outputs": [],
   "source": [
    "#匯入3D投影模組 Axes3D (不是)真正的3D物件\n",
    "from mpl_toolkits.mplot3d import Axes3D"
   ]
  },
  {
   "cell_type": "code",
   "execution_count": 36,
   "metadata": {},
   "outputs": [
    {
     "name": "stdout",
     "output_type": "stream",
     "text": [
      "Using matplotlib backend: Qt5Agg\n"
     ]
    }
   ],
   "source": [
    "%matplotlib"
   ]
  },
  {
   "cell_type": "code",
   "execution_count": 41,
   "metadata": {},
   "outputs": [],
   "source": [
    "#以plt.figure()設定一個畫布 'fig'             \n",
    "fig=plt.figure(1,figsize=(6,5))"
   ]
  },
  {
   "cell_type": "code",
   "execution_count": 42,
   "metadata": {},
   "outputs": [],
   "source": [
    "#以Axes3D() 在 fig 上設定立體座標物件 'ax' \n",
    "ax=Axes3D(fig)"
   ]
  },
  {
   "cell_type": "code",
   "execution_count": 54,
   "metadata": {},
   "outputs": [
    {
     "data": {
      "text/plain": [
       "Text(0.0832031,0.0160571,'revenue')"
      ]
     },
     "execution_count": 54,
     "metadata": {},
     "output_type": "execute_result"
    }
   ],
   "source": [
    "ax.scatter(X[:,0],X[:,1],y,c='r',edgecolor='k') #資料集\n",
    "ax.scatter(newStore[0][0],newStore[0][1],lrModel02.predict(newStore)[0],c='b',s=100) #predict \n",
    "ax.set_xlabel('area')\n",
    "ax.set_ylabel('destiance')\n",
    "ax.set_zlabel('revenue')"
   ]
  },
  {
   "cell_type": "code",
   "execution_count": null,
   "metadata": {},
   "outputs": [],
   "source": []
  }
 ],
 "metadata": {
  "kernelspec": {
   "display_name": "Python 3",
   "language": "python",
   "name": "python3"
  },
  "language_info": {
   "codemirror_mode": {
    "name": "ipython",
    "version": 3
   },
   "file_extension": ".py",
   "mimetype": "text/x-python",
   "name": "python",
   "nbconvert_exporter": "python",
   "pygments_lexer": "ipython3",
   "version": "3.7.0"
  }
 },
 "nbformat": 4,
 "nbformat_minor": 2
}
