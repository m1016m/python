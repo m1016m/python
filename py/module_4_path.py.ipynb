{
 "cells": [
  {
   "cell_type": "code",
   "execution_count": 1,
   "metadata": {
    "collapsed": true
   },
   "outputs": [],
   "source": [
    "import sys"
   ]
  },
  {
   "cell_type": "code",
   "execution_count": 2,
   "metadata": {
    "collapsed": false
   },
   "outputs": [
    {
     "name": "stdout",
     "output_type": "stream",
     "text": [
      "\n",
      "E:\\Anaconda3\\python35.zip\n",
      "E:\\Anaconda3\\DLLs\n",
      "E:\\Anaconda3\\lib\n",
      "E:\\Anaconda3\n",
      "e:\\anaconda3\\lib\\site-packages\\setuptools-19.4-py3.5.egg\n",
      "E:\\Anaconda3\\lib\\site-packages\n",
      "E:\\Anaconda3\\lib\\site-packages\\Sphinx-1.3.1-py3.5.egg\n",
      "E:\\Anaconda3\\lib\\site-packages\\cryptography-1.0.2-py3.5-win-amd64.egg\n",
      "E:\\Anaconda3\\lib\\site-packages\\win32\n",
      "E:\\Anaconda3\\lib\\site-packages\\win32\\lib\n",
      "E:\\Anaconda3\\lib\\site-packages\\Pythonwin\n",
      "E:\\Anaconda3\\lib\\site-packages\\IPython\\extensions\n",
      "C:\\Users\\zzjack\\.ipython\n"
     ]
    }
   ],
   "source": [
    "for place in sys.path:\n",
    "    print(place)\n",
    "    "
   ]
  },
  {
   "cell_type": "code",
   "execution_count": null,
   "metadata": {
    "collapsed": true
   },
   "outputs": [],
   "source": []
  }
 ],
 "metadata": {
  "kernelspec": {
   "display_name": "Python 3",
   "language": "python",
   "name": "python3"
  },
  "language_info": {
   "codemirror_mode": {
    "name": "ipython",
    "version": 3
   },
   "file_extension": ".py",
   "mimetype": "text/x-python",
   "name": "python",
   "nbconvert_exporter": "python",
   "pygments_lexer": "ipython3",
   "version": "3.5.1"
  }
 },
 "nbformat": 4,
 "nbformat_minor": 0
}
