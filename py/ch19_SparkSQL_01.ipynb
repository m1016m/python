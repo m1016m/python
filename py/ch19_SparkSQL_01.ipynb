{
 "cells": [
  {
   "cell_type": "code",
   "execution_count": 1,
   "metadata": {
    "collapsed": true
   },
   "outputs": [],
   "source": [
    "#ch19_SparkSQL_01.ipynb"
   ]
  },
  {
   "cell_type": "code",
   "execution_count": 2,
   "metadata": {
    "collapsed": true
   },
   "outputs": [],
   "source": [
    "#1. 建立RDD"
   ]
  },
  {
   "cell_type": "code",
   "execution_count": 3,
   "metadata": {
    "collapsed": true
   },
   "outputs": [],
   "source": [
    "RawUserRDD=sc.textFile('u.user')"
   ]
  },
  {
   "cell_type": "code",
   "execution_count": 4,
   "metadata": {
    "collapsed": false
   },
   "outputs": [
    {
     "data": {
      "text/plain": [
       "943"
      ]
     },
     "execution_count": 4,
     "metadata": {},
     "output_type": "execute_result"
    }
   ],
   "source": [
    "RawUserRDD.count() #共943筆"
   ]
  },
  {
   "cell_type": "code",
   "execution_count": 5,
   "metadata": {
    "collapsed": false
   },
   "outputs": [
    {
     "data": {
      "text/plain": [
       "[u'1|24|M|technician|85711',\n",
       " u'2|53|F|other|94043',\n",
       " u'3|23|M|writer|32067',\n",
       " u'4|24|M|technician|43537',\n",
       " u'5|33|F|other|15213']"
      ]
     },
     "execution_count": 5,
     "metadata": {},
     "output_type": "execute_result"
    }
   ],
   "source": [
    "RawUserRDD.take(5) #查看前5筆, 資料是以 \"|\" 符號分隔"
   ]
  },
  {
   "cell_type": "code",
   "execution_count": 6,
   "metadata": {
    "collapsed": true
   },
   "outputs": [],
   "source": [
    "#以 \"|\"取得每一欄位"
   ]
  },
  {
   "cell_type": "code",
   "execution_count": 7,
   "metadata": {
    "collapsed": false
   },
   "outputs": [
    {
     "data": {
      "text/plain": [
       "[[u'1', u'24', u'M', u'technician', u'85711'],\n",
       " [u'2', u'53', u'F', u'other', u'94043'],\n",
       " [u'3', u'23', u'M', u'writer', u'32067'],\n",
       " [u'4', u'24', u'M', u'technician', u'43537'],\n",
       " [u'5', u'33', u'F', u'other', u'15213']]"
      ]
     },
     "execution_count": 7,
     "metadata": {},
     "output_type": "execute_result"
    }
   ],
   "source": [
    "userRDD=RawUserRDD.map(lambda line:line.split(\"|\"))\n",
    "userRDD.take(5)    "
   ]
  },
  {
   "cell_type": "code",
   "execution_count": 8,
   "metadata": {
    "collapsed": true
   },
   "outputs": [],
   "source": [
    "#純以RDD API 解決問題"
   ]
  },
  {
   "cell_type": "code",
   "execution_count": 9,
   "metadata": {
    "collapsed": false
   },
   "outputs": [
    {
     "data": {
      "text/plain": [
       "[(u'M', 670), (u'F', 273)]"
      ]
     },
     "execution_count": 9,
     "metadata": {},
     "output_type": "execute_result"
    }
   ],
   "source": [
    "userRDD.map(lambda x:(x[2],1)).reduceByKey(lambda x,y:x+y).collect()"
   ]
  },
  {
   "cell_type": "code",
   "execution_count": 10,
   "metadata": {
    "collapsed": true
   },
   "outputs": [],
   "source": [
    "#2. 建立DataFrame, 以RDD建立DataFrame"
   ]
  },
  {
   "cell_type": "code",
   "execution_count": 11,
   "metadata": {
    "collapsed": true
   },
   "outputs": [],
   "source": [
    "#Step2.1 建立sqlContext"
   ]
  },
  {
   "cell_type": "code",
   "execution_count": 12,
   "metadata": {
    "collapsed": true
   },
   "outputs": [],
   "source": [
    "from  pyspark.sql import SQLContext #匯入SQLContext module\n",
    "sqlContext=SQLContext(sc) #使用SQLContext傳入sc(Spark Context),建立sqlContext"
   ]
  },
  {
   "cell_type": "code",
   "execution_count": 13,
   "metadata": {
    "collapsed": true
   },
   "outputs": [],
   "source": [
    "#step2.2 定義DataFrame 的 Schema, 使用pyspark.sql.Row 物件"
   ]
  },
  {
   "cell_type": "code",
   "execution_count": 14,
   "metadata": {
    "collapsed": true
   },
   "outputs": [],
   "source": [
    "from pyspark.sql import Row #import pyspark.sql.Row"
   ]
  },
  {
   "cell_type": "code",
   "execution_count": 15,
   "metadata": {
    "collapsed": true
   },
   "outputs": [],
   "source": [
    "#map into Row object\n",
    "user_Rows=userRDD.map(lambda p:   \n",
    "                     Row(\n",
    "                            userid=int(p[0]),\n",
    "                            age=int(p[1]),\n",
    "                            gender=p[2],\n",
    "                            occupation=p[3],\n",
    "                            zipcode=p[4]))"
   ]
  },
  {
   "cell_type": "code",
   "execution_count": 16,
   "metadata": {
    "collapsed": false
   },
   "outputs": [
    {
     "data": {
      "text/plain": [
       "[Row(age=24, gender=u'M', occupation=u'technician', userid=1, zipcode=u'85711'),\n",
       " Row(age=53, gender=u'F', occupation=u'other', userid=2, zipcode=u'94043'),\n",
       " Row(age=23, gender=u'M', occupation=u'writer', userid=3, zipcode=u'32067'),\n",
       " Row(age=24, gender=u'M', occupation=u'technician', userid=4, zipcode=u'43537'),\n",
       " Row(age=33, gender=u'F', occupation=u'other', userid=5, zipcode=u'15213')]"
      ]
     },
     "execution_count": 16,
     "metadata": {},
     "output_type": "execute_result"
    }
   ],
   "source": [
    "user_Rows.take(5) #"
   ]
  },
  {
   "cell_type": "code",
   "execution_count": 17,
   "metadata": {
    "collapsed": true
   },
   "outputs": [],
   "source": [
    "#Step2.3 建立 DataFrame 物件\n",
    "#使用SQLContext.createDataFrame() method 將Row 物件 user_Rows 建成 DataFrame 物件 user_df"
   ]
  },
  {
   "cell_type": "code",
   "execution_count": 18,
   "metadata": {
    "collapsed": true
   },
   "outputs": [],
   "source": [
    "user_df=sqlContext.createDataFrame(user_Rows)"
   ]
  },
  {
   "cell_type": "code",
   "execution_count": 19,
   "metadata": {
    "collapsed": false
   },
   "outputs": [
    {
     "name": "stdout",
     "output_type": "stream",
     "text": [
      "root\n",
      " |-- age: long (nullable = true)\n",
      " |-- gender: string (nullable = true)\n",
      " |-- occupation: string (nullable = true)\n",
      " |-- userid: long (nullable = true)\n",
      " |-- zipcode: string (nullable = true)\n",
      "\n"
     ]
    }
   ],
   "source": [
    "user_df.printSchema() #printSchema() method"
   ]
  },
  {
   "cell_type": "code",
   "execution_count": 20,
   "metadata": {
    "collapsed": false
   },
   "outputs": [
    {
     "name": "stdout",
     "output_type": "stream",
     "text": [
      "+---+------+-------------+------+-------+\n",
      "|age|gender|   occupation|userid|zipcode|\n",
      "+---+------+-------------+------+-------+\n",
      "| 24|     M|   technician|     1|  85711|\n",
      "| 53|     F|        other|     2|  94043|\n",
      "| 23|     M|       writer|     3|  32067|\n",
      "| 24|     M|   technician|     4|  43537|\n",
      "| 33|     F|        other|     5|  15213|\n",
      "| 42|     M|    executive|     6|  98101|\n",
      "| 57|     M|administrator|     7|  91344|\n",
      "| 36|     M|administrator|     8|  05201|\n",
      "| 29|     M|      student|     9|  01002|\n",
      "| 53|     M|       lawyer|    10|  90703|\n",
      "| 39|     F|        other|    11|  30329|\n",
      "| 28|     F|        other|    12|  06405|\n",
      "| 47|     M|     educator|    13|  29206|\n",
      "| 45|     M|    scientist|    14|  55106|\n",
      "| 49|     F|     educator|    15|  97301|\n",
      "| 21|     M|entertainment|    16|  10309|\n",
      "| 30|     M|   programmer|    17|  06355|\n",
      "| 35|     F|        other|    18|  37212|\n",
      "| 40|     M|    librarian|    19|  02138|\n",
      "| 42|     F|    homemaker|    20|  95660|\n",
      "+---+------+-------------+------+-------+\n",
      "only showing top 20 rows\n",
      "\n"
     ]
    }
   ],
   "source": [
    "#以DataFrame.show() 查看 DataFrame 內容\n",
    "user_df.show()"
   ]
  },
  {
   "cell_type": "code",
   "execution_count": 21,
   "metadata": {
    "collapsed": true
   },
   "outputs": [],
   "source": [
    "#Step2.4 建立別名 ,DataFrame.alias() method"
   ]
  },
  {
   "cell_type": "code",
   "execution_count": 22,
   "metadata": {
    "collapsed": false
   },
   "outputs": [
    {
     "name": "stdout",
     "output_type": "stream",
     "text": [
      "+---+------+-------------+------+-------+\n",
      "|age|gender|   occupation|userid|zipcode|\n",
      "+---+------+-------------+------+-------+\n",
      "| 24|     M|   technician|     1|  85711|\n",
      "| 53|     F|        other|     2|  94043|\n",
      "| 23|     M|       writer|     3|  32067|\n",
      "| 24|     M|   technician|     4|  43537|\n",
      "| 33|     F|        other|     5|  15213|\n",
      "| 42|     M|    executive|     6|  98101|\n",
      "| 57|     M|administrator|     7|  91344|\n",
      "| 36|     M|administrator|     8|  05201|\n",
      "| 29|     M|      student|     9|  01002|\n",
      "| 53|     M|       lawyer|    10|  90703|\n",
      "| 39|     F|        other|    11|  30329|\n",
      "| 28|     F|        other|    12|  06405|\n",
      "| 47|     M|     educator|    13|  29206|\n",
      "| 45|     M|    scientist|    14|  55106|\n",
      "| 49|     F|     educator|    15|  97301|\n",
      "| 21|     M|entertainment|    16|  10309|\n",
      "| 30|     M|   programmer|    17|  06355|\n",
      "| 35|     F|        other|    18|  37212|\n",
      "| 40|     M|    librarian|    19|  02138|\n",
      "| 42|     F|    homemaker|    20|  95660|\n",
      "+---+------+-------------+------+-------+\n",
      "only showing top 20 rows\n",
      "\n"
     ]
    }
   ],
   "source": [
    "df=user_df.alias(\"df\")\n",
    "df.show()"
   ]
  },
  {
   "cell_type": "code",
   "execution_count": 23,
   "metadata": {
    "collapsed": true
   },
   "outputs": [],
   "source": [
    "#3. 開始使用 Spark SQL"
   ]
  },
  {
   "cell_type": "code",
   "execution_count": 24,
   "metadata": {
    "collapsed": true
   },
   "outputs": [],
   "source": [
    "#Step3.1登錄暫存資料表\n",
    "#以DataFrame.registerTempTable() method, 傳入table name, 登錄暫存資料表\n",
    "df.registerTempTable(\"user_table\")"
   ]
  },
  {
   "cell_type": "code",
   "execution_count": 25,
   "metadata": {
    "collapsed": false
   },
   "outputs": [
    {
     "name": "stdout",
     "output_type": "stream",
     "text": [
      "+------+\n",
      "|counts|\n",
      "+------+\n",
      "|   943|\n",
      "+------+\n",
      "\n"
     ]
    }
   ],
   "source": [
    "#Step3.2 使用Spark SQL 查看筆數\n",
    "sqlContext.sql(\"SELECT count(*) as counts FROM user_table\").show()"
   ]
  },
  {
   "cell_type": "code",
   "execution_count": 26,
   "metadata": {
    "collapsed": false
   },
   "outputs": [
    {
     "name": "stdout",
     "output_type": "stream",
     "text": [
      "+------+\n",
      "|counts|\n",
      "+------+\n",
      "|   943|\n",
      "+------+\n",
      "\n"
     ]
    }
   ],
   "source": [
    "#Step3.3 多行輸入Spark SQL ,””” SQL statement”””\n",
    "sqlContext.sql(\"\"\"\n",
    "SELECT count(*) as counts\n",
    "FROM user_table\"\"\").show()"
   ]
  },
  {
   "cell_type": "code",
   "execution_count": 27,
   "metadata": {
    "collapsed": false
   },
   "outputs": [
    {
     "name": "stdout",
     "output_type": "stream",
     "text": [
      "+---+------+-------------+------+-------+\n",
      "|age|gender|   occupation|userid|zipcode|\n",
      "+---+------+-------------+------+-------+\n",
      "| 24|     M|   technician|     1|  85711|\n",
      "| 53|     F|        other|     2|  94043|\n",
      "| 23|     M|       writer|     3|  32067|\n",
      "| 24|     M|   technician|     4|  43537|\n",
      "| 33|     F|        other|     5|  15213|\n",
      "| 42|     M|    executive|     6|  98101|\n",
      "| 57|     M|administrator|     7|  91344|\n",
      "| 36|     M|administrator|     8|  05201|\n",
      "| 29|     M|      student|     9|  01002|\n",
      "| 53|     M|       lawyer|    10|  90703|\n",
      "| 39|     F|        other|    11|  30329|\n",
      "| 28|     F|        other|    12|  06405|\n",
      "| 47|     M|     educator|    13|  29206|\n",
      "| 45|     M|    scientist|    14|  55106|\n",
      "| 49|     F|     educator|    15|  97301|\n",
      "| 21|     M|entertainment|    16|  10309|\n",
      "| 30|     M|   programmer|    17|  06355|\n",
      "| 35|     F|        other|    18|  37212|\n",
      "| 40|     M|    librarian|    19|  02138|\n",
      "| 42|     F|    homemaker|    20|  95660|\n",
      "+---+------+-------------+------+-------+\n",
      "only showing top 20 rows\n",
      "\n"
     ]
    }
   ],
   "source": [
    "#Step3.4 使用Spark SQL 檢視資料, show() default top 20\n",
    "sqlContext.sql(\"SELECT * FROM user_table\").show()"
   ]
  },
  {
   "cell_type": "code",
   "execution_count": 28,
   "metadata": {
    "collapsed": false
   },
   "outputs": [
    {
     "name": "stdout",
     "output_type": "stream",
     "text": [
      "+---+------+----------+------+-------+\n",
      "|age|gender|occupation|userid|zipcode|\n",
      "+---+------+----------+------+-------+\n",
      "| 24|     M|technician|     1|  85711|\n",
      "| 53|     F|     other|     2|  94043|\n",
      "| 23|     M|    writer|     3|  32067|\n",
      "| 24|     M|technician|     4|  43537|\n",
      "| 33|     F|     other|     5|  15213|\n",
      "+---+------+----------+------+-------+\n",
      "only showing top 5 rows\n",
      "\n"
     ]
    }
   ],
   "source": [
    "sqlContext.sql(\"SELECT * FROM user_table\").show(5)"
   ]
  },
  {
   "cell_type": "code",
   "execution_count": 29,
   "metadata": {
    "collapsed": false
   },
   "outputs": [
    {
     "name": "stdout",
     "output_type": "stream",
     "text": [
      "+---+------+----------+------+-------+\n",
      "|age|gender|occupation|userid|zipcode|\n",
      "+---+------+----------+------+-------+\n",
      "| 24|     M|technician|     1|  85711|\n",
      "| 53|     F|     other|     2|  94043|\n",
      "| 23|     M|    writer|     3|  32067|\n",
      "| 24|     M|technician|     4|  43537|\n",
      "| 33|     F|     other|     5|  15213|\n",
      "+---+------+----------+------+-------+\n",
      "\n"
     ]
    }
   ],
   "source": [
    "sqlContext.sql(\"SELECT * FROM user_table LIMIT 5\").show()"
   ]
  },
  {
   "cell_type": "code",
   "execution_count": 30,
   "metadata": {
    "collapsed": true
   },
   "outputs": [],
   "source": [
    "#4.Projection 欄位 (SELECT)\n",
    "#比較RDD、DataFrames 與 Spark SQL"
   ]
  },
  {
   "cell_type": "code",
   "execution_count": 31,
   "metadata": {
    "collapsed": false
   },
   "outputs": [
    {
     "data": {
      "text/plain": [
       "[(u'1', u'technician', u'24', u'M'),\n",
       " (u'2', u'other', u'53', u'F'),\n",
       " (u'3', u'writer', u'23', u'M'),\n",
       " (u'4', u'technician', u'24', u'M'),\n",
       " (u'5', u'other', u'33', u'F')]"
      ]
     },
     "execution_count": 31,
     "metadata": {},
     "output_type": "execute_result"
    }
   ],
   "source": [
    "#Step4.1 使用RDD選取顯示部分欄位\n",
    "userRDDnew=userRDD.map(lambda x:(x[0],x[3],x[1],x[2]))\n",
    "userRDDnew.take(5)                       "
   ]
  },
  {
   "cell_type": "code",
   "execution_count": 32,
   "metadata": {
    "collapsed": true
   },
   "outputs": [],
   "source": [
    "#Step4.2 使用DataFrames 選取顯示欄位, DataFrames.select()"
   ]
  },
  {
   "cell_type": "code",
   "execution_count": 33,
   "metadata": {
    "collapsed": false
   },
   "outputs": [
    {
     "name": "stdout",
     "output_type": "stream",
     "text": [
      "root\n",
      " |-- age: long (nullable = true)\n",
      " |-- gender: string (nullable = true)\n",
      " |-- occupation: string (nullable = true)\n",
      " |-- userid: long (nullable = true)\n",
      " |-- zipcode: string (nullable = true)\n",
      "\n"
     ]
    }
   ],
   "source": [
    "df.printSchema()"
   ]
  },
  {
   "cell_type": "code",
   "execution_count": 34,
   "metadata": {
    "collapsed": false
   },
   "outputs": [
    {
     "name": "stdout",
     "output_type": "stream",
     "text": [
      "+------+------+---+\n",
      "|userid|gender|age|\n",
      "+------+------+---+\n",
      "|     1|     M| 24|\n",
      "|     2|     F| 53|\n",
      "|     3|     M| 23|\n",
      "|     4|     M| 24|\n",
      "|     5|     F| 33|\n",
      "+------+------+---+\n",
      "only showing top 5 rows\n",
      "\n"
     ]
    }
   ],
   "source": [
    "df.select(\"userid\",\"gender\",\"age\").show(5) #方法1"
   ]
  },
  {
   "cell_type": "code",
   "execution_count": 35,
   "metadata": {
    "collapsed": false
   },
   "outputs": [
    {
     "name": "stdout",
     "output_type": "stream",
     "text": [
      "+------+------+---+\n",
      "|userid|gender|age|\n",
      "+------+------+---+\n",
      "|     1|     M| 24|\n",
      "|     2|     F| 53|\n",
      "|     3|     M| 23|\n",
      "|     4|     M| 24|\n",
      "|     5|     F| 33|\n",
      "+------+------+---+\n",
      "only showing top 5 rows\n",
      "\n"
     ]
    }
   ],
   "source": [
    "df.select(df.userid,df.gender,df.age).show(5) #方法2"
   ]
  },
  {
   "cell_type": "code",
   "execution_count": 36,
   "metadata": {
    "collapsed": false
   },
   "outputs": [
    {
     "name": "stdout",
     "output_type": "stream",
     "text": [
      "+------+------+---+\n",
      "|userid|gender|age|\n",
      "+------+------+---+\n",
      "|     1|     M| 24|\n",
      "|     2|     F| 53|\n",
      "|     3|     M| 23|\n",
      "|     4|     M| 24|\n",
      "|     5|     F| 33|\n",
      "+------+------+---+\n",
      "only showing top 5 rows\n",
      "\n"
     ]
    }
   ],
   "source": [
    "df.select(df['userid'],df['gender'],df['age']).show(5) #方法3"
   ]
  },
  {
   "cell_type": "code",
   "execution_count": 37,
   "metadata": {
    "collapsed": true
   },
   "outputs": [],
   "source": [
    "#Step4.3 使用 Spark SQL 選取顯示欄位"
   ]
  },
  {
   "cell_type": "code",
   "execution_count": 38,
   "metadata": {
    "collapsed": false
   },
   "outputs": [
    {
     "name": "stdout",
     "output_type": "stream",
     "text": [
      "+------+------+---+\n",
      "|userid|gender|age|\n",
      "+------+------+---+\n",
      "|     1|     M| 24|\n",
      "|     2|     F| 53|\n",
      "|     3|     M| 23|\n",
      "|     4|     M| 24|\n",
      "|     5|     F| 33|\n",
      "|     6|     M| 42|\n",
      "|     7|     M| 57|\n",
      "|     8|     M| 36|\n",
      "|     9|     M| 29|\n",
      "|    10|     M| 53|\n",
      "|    11|     F| 39|\n",
      "|    12|     F| 28|\n",
      "|    13|     M| 47|\n",
      "|    14|     M| 45|\n",
      "|    15|     F| 49|\n",
      "|    16|     M| 21|\n",
      "|    17|     M| 30|\n",
      "|    18|     F| 35|\n",
      "|    19|     M| 40|\n",
      "|    20|     F| 42|\n",
      "+------+------+---+\n",
      "only showing top 20 rows\n",
      "\n"
     ]
    }
   ],
   "source": [
    "sqlContext.sql(\"SELECT userid, gender,age FROM user_table\").show()"
   ]
  },
  {
   "cell_type": "code",
   "execution_count": null,
   "metadata": {
    "collapsed": true
   },
   "outputs": [],
   "source": [
    "#5.增加計算欄位"
   ]
  },
  {
   "cell_type": "code",
   "execution_count": 39,
   "metadata": {
    "collapsed": false
   },
   "outputs": [
    {
     "data": {
      "text/plain": [
       "[(u'1', u'technician', u'M', u'24', 1993),\n",
       " (u'2', u'other', u'F', u'53', 1964),\n",
       " (u'3', u'writer', u'M', u'23', 1994),\n",
       " (u'4', u'technician', u'M', u'24', 1993),\n",
       " (u'5', u'other', u'F', u'33', 1984)]"
      ]
     },
     "execution_count": 39,
     "metadata": {},
     "output_type": "execute_result"
    }
   ],
   "source": [
    "#Step5.1 使用RDD增加計算欄位, 加上2017-int(x[1]) 計算出生年\n",
    "userRDDnew=userRDD.map(lambda x:(x[0],x[3],x[2],x[1],2017-int(x[1])))\n",
    "userRDDnew.take(5)"
   ]
  },
  {
   "cell_type": "code",
   "execution_count": 40,
   "metadata": {
    "collapsed": false
   },
   "outputs": [
    {
     "name": "stdout",
     "output_type": "stream",
     "text": [
      "+------+------+---+---------+\n",
      "|userid|gender|age|birthyear|\n",
      "+------+------+---+---------+\n",
      "|     1|     M| 24|     1993|\n",
      "|     2|     F| 53|     1964|\n",
      "|     3|     M| 23|     1994|\n",
      "|     4|     M| 24|     1993|\n",
      "|     5|     F| 33|     1984|\n",
      "+------+------+---+---------+\n",
      "only showing top 5 rows\n",
      "\n"
     ]
    }
   ],
   "source": [
    "#Step5.2 使用DataFrames , 並為欄位取別名 'birthyear'\n",
    "df.select(\"userid\",\"gender\",\"age\",(2017-df.age).alias(\"birthyear\")).show(5)"
   ]
  },
  {
   "cell_type": "code",
   "execution_count": 44,
   "metadata": {
    "collapsed": false
   },
   "outputs": [
    {
     "name": "stdout",
     "output_type": "stream",
     "text": [
      "+------+------+---+---------+\n",
      "|userid|gender|age|birthyear|\n",
      "+------+------+---+---------+\n",
      "|     1|     M| 24|     1993|\n",
      "|     2|     F| 53|     1964|\n",
      "|     3|     M| 23|     1994|\n",
      "|     4|     M| 24|     1993|\n",
      "|     5|     F| 33|     1984|\n",
      "+------+------+---+---------+\n",
      "only showing top 5 rows\n",
      "\n"
     ]
    }
   ],
   "source": [
    "#Step5.3 使用 Spark SQL,並為欄位取別名 'birthyear'\n",
    "sqlContext.sql(\"\"\"\n",
    "SELECT userid,gender,age,2017-age  birthyear \n",
    "FROM user_table\"\"\").show(5)"
   ]
  },
  {
   "cell_type": "code",
   "execution_count": 45,
   "metadata": {
    "collapsed": true
   },
   "outputs": [],
   "source": [
    "#6.篩選資料"
   ]
  },
  {
   "cell_type": "code",
   "execution_count": 47,
   "metadata": {
    "collapsed": false
   },
   "outputs": [
    {
     "data": {
      "text/plain": [
       "[[u'1', u'24', u'M', u'technician', u'85711'],\n",
       " [u'4', u'24', u'M', u'technician', u'43537'],\n",
       " [u'44', u'26', u'M', u'technician', u'46260'],\n",
       " [u'77', u'30', u'M', u'technician', u'29379'],\n",
       " [u'143', u'42', u'M', u'technician', u'08832']]"
      ]
     },
     "execution_count": 47,
     "metadata": {},
     "output_type": "execute_result"
    }
   ],
   "source": [
    "#Step6.1 使用RDD, filter() method 搭配lambda語法\n",
    "userRDD.filter(lambda r: r[3]=='technician' and r[2]=='M').take(5)"
   ]
  },
  {
   "cell_type": "code",
   "execution_count": 48,
   "metadata": {
    "collapsed": true
   },
   "outputs": [],
   "source": [
    "#Step6.2 使用DataFrames, 有多種寫法"
   ]
  },
  {
   "cell_type": "code",
   "execution_count": 51,
   "metadata": {
    "collapsed": false
   },
   "outputs": [
    {
     "name": "stdout",
     "output_type": "stream",
     "text": [
      "+---+------+----------+------+-------+\n",
      "|age|gender|occupation|userid|zipcode|\n",
      "+---+------+----------+------+-------+\n",
      "| 24|     M|technician|     1|  85711|\n",
      "| 24|     M|technician|     4|  43537|\n",
      "| 26|     M|technician|    44|  46260|\n",
      "| 30|     M|technician|    77|  29379|\n",
      "| 42|     M|technician|   143|  08832|\n",
      "+---+------+----------+------+-------+\n",
      "only showing top 5 rows\n",
      "\n"
     ]
    }
   ],
   "source": [
    "#方法1,使用多個filter()\n",
    "df.filter(\"occupation='technician'\").filter(\"gender='M'\").show(5)"
   ]
  },
  {
   "cell_type": "code",
   "execution_count": 52,
   "metadata": {
    "collapsed": false
   },
   "outputs": [
    {
     "name": "stdout",
     "output_type": "stream",
     "text": [
      "+---+------+----------+------+-------+\n",
      "|age|gender|occupation|userid|zipcode|\n",
      "+---+------+----------+------+-------+\n",
      "| 24|     M|technician|     1|  85711|\n",
      "| 24|     M|technician|     4|  43537|\n",
      "| 26|     M|technician|    44|  46260|\n",
      "| 30|     M|technician|    77|  29379|\n",
      "| 42|     M|technician|   143|  08832|\n",
      "+---+------+----------+------+-------+\n",
      "only showing top 5 rows\n",
      "\n"
     ]
    }
   ],
   "source": [
    "#方法2,使用單一filter\n",
    "df.filter(\"occupation='technician' and gender='M'\").show(5)"
   ]
  },
  {
   "cell_type": "code",
   "execution_count": 53,
   "metadata": {
    "collapsed": false
   },
   "outputs": [
    {
     "name": "stdout",
     "output_type": "stream",
     "text": [
      "+---+------+----------+------+-------+\n",
      "|age|gender|occupation|userid|zipcode|\n",
      "+---+------+----------+------+-------+\n",
      "| 24|     M|technician|     1|  85711|\n",
      "| 24|     M|technician|     4|  43537|\n",
      "| 26|     M|technician|    44|  46260|\n",
      "| 30|     M|technician|    77|  29379|\n",
      "| 42|     M|technician|   143|  08832|\n",
      "+---+------+----------+------+-------+\n",
      "only showing top 5 rows\n",
      "\n"
     ]
    }
   ],
   "source": [
    "#方法3\n",
    "df.filter((df.occupation=='technician')&(df.gender=='M')).show(5)"
   ]
  },
  {
   "cell_type": "code",
   "execution_count": 58,
   "metadata": {
    "collapsed": false
   },
   "outputs": [
    {
     "name": "stdout",
     "output_type": "stream",
     "text": [
      "+---+------+----------+------+-------+\n",
      "|age|gender|occupation|userid|zipcode|\n",
      "+---+------+----------+------+-------+\n",
      "| 24|     M|technician|     1|  85711|\n",
      "| 24|     M|technician|     4|  43537|\n",
      "| 26|     M|technician|    44|  46260|\n",
      "| 30|     M|technician|    77|  29379|\n",
      "| 42|     M|technician|   143|  08832|\n",
      "+---+------+----------+------+-------+\n",
      "only showing top 5 rows\n",
      "\n"
     ]
    }
   ],
   "source": [
    "#Step6.3 使用Spark SQL\n",
    "sqlContext.sql(\"\"\"\n",
    "select * \n",
    "from user_table\n",
    "where occupation='technician' and gender='M'\"\"\").show(5)"
   ]
  },
  {
   "cell_type": "code",
   "execution_count": 59,
   "metadata": {
    "collapsed": true
   },
   "outputs": [],
   "source": [
    "import pandas as pd"
   ]
  },
  {
   "cell_type": "code",
   "execution_count": 60,
   "metadata": {
    "collapsed": true
   },
   "outputs": [],
   "source": [
    "pd_df=df.toPandas().set_index('userid')"
   ]
  },
  {
   "cell_type": "code",
   "execution_count": 61,
   "metadata": {
    "collapsed": true
   },
   "outputs": [],
   "source": [
    "import matplotlib as plt"
   ]
  },
  {
   "cell_type": "code",
   "execution_count": 62,
   "metadata": {
    "collapsed": true
   },
   "outputs": [],
   "source": [
    "%matplotlib inline  "
   ]
  },
  {
   "cell_type": "code",
   "execution_count": 63,
   "metadata": {
    "collapsed": false
   },
   "outputs": [
    {
     "data": {
      "text/plain": [
       "<matplotlib.axes._subplots.AxesSubplot at 0x7f71e2270b50>"
      ]
     },
     "execution_count": 63,
     "metadata": {},
     "output_type": "execute_result"
    },
    {
     "data": {
      "image/png": "[encoded data removed]",
      "text/plain": [
       "<matplotlib.figure.Figure at 0x7f71e85a2c10>"
      ]
     },
     "metadata": {},
     "output_type": "display_data"
    }
   ],
   "source": [
    "pd_df.plot()"
   ]
  },
  {
   "cell_type": "code",
   "execution_count": null,
   "metadata": {
    "collapsed": true
   },
   "outputs": [],
   "source": []
  }
 ],
 "metadata": {
  "kernelspec": {
   "display_name": "Python 2",
   "language": "python",
   "name": "python2"
  },
  "language_info": {
   "codemirror_mode": {
    "name": "ipython",
    "version": 2
   },
   "file_extension": ".py",
   "mimetype": "text/x-python",
   "name": "python",
   "nbconvert_exporter": "python",
   "pygments_lexer": "ipython2",
   "version": "2.7.13"
  }
 },
 "nbformat": 4,
 "nbformat_minor": 0
}
