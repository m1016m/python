{
 "cells": [
  {
   "cell_type": "code",
   "execution_count": 1,
   "metadata": {
    "collapsed": true
   },
   "outputs": [],
   "source": [
    "import xml.etree.ElementTree as et #import xml.etree.ElementTree"
   ]
  },
  {
   "cell_type": "code",
   "execution_count": 2,
   "metadata": {
    "collapsed": false
   },
   "outputs": [],
   "source": [
    "tree1=et.ElementTree(file='country_data.xml') #解析 country_data.xml"
   ]
  },
  {
   "cell_type": "code",
   "execution_count": 3,
   "metadata": {
    "collapsed": true
   },
   "outputs": [],
   "source": [
    "root1=tree1.getroot() #使用getroot() method,取得root element"
   ]
  },
  {
   "cell_type": "code",
   "execution_count": 4,
   "metadata": {
    "collapsed": false
   },
   "outputs": [
    {
     "data": {
      "text/plain": [
       "'data'"
      ]
     },
     "execution_count": 4,
     "metadata": {},
     "output_type": "execute_result"
    }
   ],
   "source": [
    "root1.tag #display tag of root element"
   ]
  },
  {
   "cell_type": "code",
   "execution_count": 5,
   "metadata": {
    "collapsed": false
   },
   "outputs": [
    {
     "name": "stdout",
     "output_type": "stream",
     "text": [
      "tag: country attributes: {'name': 'Liechtenstein'}\n",
      "\ttag: rank attributes: {}\n",
      "\ttag: year attributes: {}\n",
      "\ttag: gdppc attributes: {}\n",
      "\ttag: neighbor attributes: {'direction': 'E', 'name': 'Austria'}\n",
      "\ttag: neighbor attributes: {'direction': 'W', 'name': 'Switzerland'}\n",
      "tag: country attributes: {'name': 'Singapore'}\n",
      "\ttag: rank attributes: {}\n",
      "\ttag: year attributes: {}\n",
      "\ttag: gdppc attributes: {}\n",
      "\ttag: neighbor attributes: {'direction': 'N', 'name': 'Malaysia'}\n",
      "tag: country attributes: {'name': 'Panama'}\n",
      "\ttag: rank attributes: {}\n",
      "\ttag: year attributes: {}\n",
      "\ttag: gdppc attributes: {}\n",
      "\ttag: neighbor attributes: {'direction': 'W', 'name': 'Costa Rica'}\n",
      "\ttag: neighbor attributes: {'direction': 'E', 'name': 'Colombia'}\n"
     ]
    }
   ],
   "source": [
    "for child in root1:    #印出一些標籤和屬性\n",
    "    print('tag:', child.tag, 'attributes:', child.attrib)\n",
    "    for grandchild in child:\n",
    "        print('\\ttag:', grandchild.tag, 'attributes:', grandchild.attrib)"
   ]
  },
  {
   "cell_type": "code",
   "execution_count": 6,
   "metadata": {
    "collapsed": false
   },
   "outputs": [
    {
     "data": {
      "text/plain": [
       "3"
      ]
     },
     "execution_count": 6,
     "metadata": {},
     "output_type": "execute_result"
    }
   ],
   "source": [
    "len(root1)"
   ]
  },
  {
   "cell_type": "code",
   "execution_count": 7,
   "metadata": {
    "collapsed": false
   },
   "outputs": [
    {
     "data": {
      "text/plain": [
       "5"
      ]
     },
     "execution_count": 7,
     "metadata": {},
     "output_type": "execute_result"
    }
   ],
   "source": [
    "len(root1[0])"
   ]
  },
  {
   "cell_type": "code",
   "execution_count": 8,
   "metadata": {
    "collapsed": false
   },
   "outputs": [
    {
     "data": {
      "text/plain": [
       "<Element 'data' at 0x0000000004447958>"
      ]
     },
     "execution_count": 8,
     "metadata": {},
     "output_type": "execute_result"
    }
   ],
   "source": [
    "root1"
   ]
  },
  {
   "cell_type": "code",
   "execution_count": null,
   "metadata": {
    "collapsed": true
   },
   "outputs": [],
   "source": []
  }
 ],
 "metadata": {
  "kernelspec": {
   "display_name": "Python 3",
   "language": "python",
   "name": "python3"
  },
  "language_info": {
   "codemirror_mode": {
    "name": "ipython",
    "version": 3
   },
   "file_extension": ".py",
   "mimetype": "text/x-python",
   "name": "python",
   "nbconvert_exporter": "python",
   "pygments_lexer": "ipython3",
   "version": "3.5.1"
  }
 },
 "nbformat": 4,
 "nbformat_minor": 0
}
