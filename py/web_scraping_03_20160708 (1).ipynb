{
 "cells": [
  {
   "cell_type": "code",
   "execution_count": 1,
   "metadata": {
    "collapsed": true
   },
   "outputs": [],
   "source": [
    "#web_scraping_03_20160708"
   ]
  },
  {
   "cell_type": "code",
   "execution_count": 2,
   "metadata": {
    "collapsed": true
   },
   "outputs": [],
   "source": [
    "#Connecting Reliably"
   ]
  },
  {
   "cell_type": "code",
   "execution_count": 3,
   "metadata": {
    "collapsed": true
   },
   "outputs": [],
   "source": [
    "from urllib.request import urlopen"
   ]
  },
  {
   "cell_type": "code",
   "execution_count": 4,
   "metadata": {
    "collapsed": true
   },
   "outputs": [],
   "source": [
    "from urllib.error import HTTPError #import HTTPError"
   ]
  },
  {
   "cell_type": "code",
   "execution_count": 5,
   "metadata": {
    "collapsed": true
   },
   "outputs": [],
   "source": [
    "from bs4 import BeautifulSoup"
   ]
  },
  {
   "cell_type": "code",
   "execution_count": 6,
   "metadata": {
    "collapsed": false
   },
   "outputs": [],
   "source": [
    "def getTitle(url): #defined function getTitle()\n",
    "    try:\n",
    "        html=urlopen(url)\n",
    "    except HTTPError as e:\n",
    "        return None\n",
    "    try:\n",
    "        bsObj=BeautifulSoup(html.read())\n",
    "        title=bsObj.body.h1\n",
    "    except AttributeError as e:\n",
    "        return None\n",
    "    return title"
   ]
  },
  {
   "cell_type": "code",
   "execution_count": 7,
   "metadata": {
    "collapsed": false
   },
   "outputs": [
    {
     "name": "stderr",
     "output_type": "stream",
     "text": [
      "E:\\Anaconda3\\lib\\site-packages\\bs4\\__init__.py:166: UserWarning: No parser was explicitly specified, so I'm using the best available HTML parser for this system (\"lxml\"). This usually isn't a problem, but if you run this code on another system, or in a different virtual environment, it may use a different parser and behave differently.\n",
      "\n",
      "To get rid of this warning, change this:\n",
      "\n",
      " BeautifulSoup([your markup])\n",
      "\n",
      "to this:\n",
      "\n",
      " BeautifulSoup([your markup], \"lxml\")\n",
      "\n",
      "  markup_type=markup_type))\n"
     ]
    }
   ],
   "source": [
    "title=getTitle(\"http://www.pythonscraping.com/pages/page1.html\")"
   ]
  },
  {
   "cell_type": "code",
   "execution_count": 8,
   "metadata": {
    "collapsed": false
   },
   "outputs": [
    {
     "name": "stdout",
     "output_type": "stream",
     "text": [
      "<h1>An Interesting Title</h1>\n"
     ]
    }
   ],
   "source": [
    "if title==None: #有例外發生\n",
    "    print(\"Title could not be found\")\n",
    "else:\n",
    "    print(title)"
   ]
  },
  {
   "cell_type": "code",
   "execution_count": 9,
   "metadata": {
    "collapsed": true
   },
   "outputs": [],
   "source": [
    "#練習1:資策會南區網址,\"http://www.iiiedu.org.tw/south/\""
   ]
  },
  {
   "cell_type": "code",
   "execution_count": 10,
   "metadata": {
    "collapsed": true
   },
   "outputs": [],
   "source": [
    "def iii_getTitle(url): #重新定義一個函數 iii_getTitle()\n",
    "    try: #第一段 try\n",
    "        html=urlopen(url)\n",
    "    except HTTPError as e: #第一段 exception\n",
    "        return None\n",
    "    try: #第二段 try\n",
    "        bsObj=BeautifulSoup(html.read().decode())\n",
    "        title=bsObj.body.h1\n",
    "    except AttributeError as e: #第二段 exception\n",
    "        return None\n",
    "    return title"
   ]
  },
  {
   "cell_type": "code",
   "execution_count": 11,
   "metadata": {
    "collapsed": false
   },
   "outputs": [
    {
     "name": "stderr",
     "output_type": "stream",
     "text": [
      "E:\\Anaconda3\\lib\\site-packages\\bs4\\__init__.py:166: UserWarning: No parser was explicitly specified, so I'm using the best available HTML parser for this system (\"lxml\"). This usually isn't a problem, but if you run this code on another system, or in a different virtual environment, it may use a different parser and behave differently.\n",
      "\n",
      "To get rid of this warning, change this:\n",
      "\n",
      " BeautifulSoup([your markup])\n",
      "\n",
      "to this:\n",
      "\n",
      " BeautifulSoup([your markup], \"lxml\")\n",
      "\n",
      "  markup_type=markup_type))\n"
     ]
    }
   ],
   "source": [
    "title=iii_getTitle(\"http://www.iiiedu.org.tw/south/\")"
   ]
  },
  {
   "cell_type": "code",
   "execution_count": 12,
   "metadata": {
    "collapsed": false
   },
   "outputs": [
    {
     "name": "stdout",
     "output_type": "stream",
     "text": [
      "Title could not be found\n"
     ]
    }
   ],
   "source": [
    "if title == None:\n",
    "    print(\"Title could not be found\")\n",
    "else:\n",
    "    print(title)"
   ]
  },
  {
   "cell_type": "code",
   "execution_count": 13,
   "metadata": {
    "collapsed": true
   },
   "outputs": [],
   "source": [
    "#看看資策會南區網頁內容"
   ]
  },
  {
   "cell_type": "code",
   "execution_count": 14,
   "metadata": {
    "collapsed": true
   },
   "outputs": [],
   "source": [
    "iii_html=urlopen(\"http://www.iiiedu.org.tw/south/\")"
   ]
  },
  {
   "cell_type": "code",
   "execution_count": 15,
   "metadata": {
    "collapsed": false
   },
   "outputs": [],
   "source": [
    "iii_bsObj=BeautifulSoup(iii_html.read().decode(),'lxml')"
   ]
  },
  {
   "cell_type": "code",
   "execution_count": 16,
   "metadata": {
    "collapsed": false
   },
   "outputs": [
    {
     "name": "stdout",
     "output_type": "stream",
     "text": [
      "<!DOCTYPE html PUBLIC \"-//W3C//DTD XHTML 1.0 Transitional//EN\" \"http://www.w3.org/TR/xhtml1/DTD/xhtml1-transitional.dtd\">\n",
      "<html xmlns=\"http://www.w3.org/1999/xhtml\">\n",
      "<head>\n",
      "<title>財團法人資訊工業策進會 數位教育研究所 南區教育訓練中心 台南高雄</title>\n",
      "<meta content=\"tGDvTjoQhHbWZ6VUfbcPCVMgKgbLLVola3dpa0sJYRw\" name=\"google-site-verification\"/>\n",
      "<meta content=\"text/html; charset=utf-8\" http-equiv=\"Content-Type\"/>\n",
      "<meta content=\"資訊工業策進會南區訓練中心\" name=\"description\"/>\n",
      "<meta content=\"財團法人資訊工業策進會 台南高雄,南區訓練中心,資策會 台南高雄,PMP,JavaScript,jQuery,JavaScript API,php,MySQL,CCNA,QUT,LPI,ASP,C#,JAVA,LINUX,RFID,CWNA,NPDP,行動應用,海外留學,留學澳洲,就業養成,網工班,程式設計,Flash,MCITP,VUE,Prometric,雲端,企劃書,CEH,虛擬化,教育訓練\" name=\"keywords\"/>\n",
      "<meta content=\"財團法人資訊工業策進會-南區訓練中心,PMP,CCNA,ITIL,LINUX,NPDP,BIG DATA,R軟體,CBAP,GA認證,PYTHON,社群行銷,物聯網,工業4.0,智慧聯網 \" name=\"description\"/>\n",
      "<meta content=\"財團法人資訊工業策進會 數位教育研究所 - 南區訓練中心\" name=\"searchtitle\"/>\n",
      "<meta content=\"d33331cd6bfe41b7\" name=\"y_key\"/>\n",
      "<meta content=\"ALL,INDEX\" name=\"robots\"/>\n",
      "<meta content=\"5784D42D52AD9CEB33F48F7DD1DBBA9A\" name=\"msvalidate.01\"/>\n",
      "<script type=\"text/javascript\">\r\n",
      "  var _gaq = _gaq || [];\r\n",
      "  _gaq.push(['_setAccount', 'UA-16811802-1']);\r\n",
      "  _gaq.push(['_trackPageview']);\r\n",
      "  (function() {\r\n",
      "    var ga = document.createElement('script'); ga.type = 'text/javascript'; ga.async = true;\r\n",
      "    ga.src = ('https:' == document.location.protocol ? 'https://ssl' : 'http://www') + '.google-analytics.com/ga.js';\r\n",
      "    var s = document.getElementsByTagName('script')[0]; s.parentNode.insertBefore(ga, s);\r\n",
      "  })();\r\n",
      "</script>\n",
      "</head><frameset border=\"0\" frameborder=\"0\" framespacing=\"0\" rows=\"110,*\">\n",
      "<frame name=\"banner\" noresize=\"\" scrolling=\"no\" src=\"indFC_headmenu.htm\" target=\"_self\"/>\n",
      "<frameset border=\"0\" cols=\"108,*\" frameborder=\"NO\" framespacing=\"0\">\n",
      "<frame name=\"contents\" noresize=\"\" scrolling=\"no\" src=\"indEC_items.htm\" target=\"contents\"/>\n",
      "<frame name=\"main\" src=\"ind_news.htm\" target=\"main\"/>\n",
      "</frameset>\n",
      "<noframes></noframes>\n",
      "</frameset>\n",
      "<body><a href=\"http://pagerank.easylife.tw\" target=\"_blank\" title=\"Google PageRank查詢\">\n",
      "<img alt=\"Google PageRank查詢\" border=\"0\" onerror=\"this.style.display='none';\" src=\"http://pagerank.easylife.tw/pagerank.php?skin=ng2&amp;url=http://www.iiiedu.org.tw/south\"/></a>\n",
      "</body></html>\n"
     ]
    }
   ],
   "source": [
    "print(iii_bsObj)"
   ]
  },
  {
   "cell_type": "code",
   "execution_count": 17,
   "metadata": {
    "collapsed": false
   },
   "outputs": [
    {
     "name": "stdout",
     "output_type": "stream",
     "text": [
      "None\n"
     ]
    }
   ],
   "source": [
    "print(iii_bsObj.body.h1) #html 中沒有tag h1"
   ]
  },
  {
   "cell_type": "code",
   "execution_count": null,
   "metadata": {
    "collapsed": true
   },
   "outputs": [],
   "source": []
  }
 ],
 "metadata": {
  "kernelspec": {
   "display_name": "Python 3",
   "language": "python",
   "name": "python3"
  },
  "language_info": {
   "codemirror_mode": {
    "name": "ipython",
    "version": 3
   },
   "file_extension": ".py",
   "mimetype": "text/x-python",
   "name": "python",
   "nbconvert_exporter": "python",
   "pygments_lexer": "ipython3",
   "version": "3.5.1"
  }
 },
 "nbformat": 4,
 "nbformat_minor": 0
}
