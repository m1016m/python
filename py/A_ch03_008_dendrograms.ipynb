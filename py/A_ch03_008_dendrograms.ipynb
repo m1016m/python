{
 "cells": [
  {
   "cell_type": "code",
   "execution_count": 1,
   "metadata": {
    "collapsed": true
   },
   "outputs": [],
   "source": [
    "#A_ch03_008_dendrograms.ipynb\n",
    "#以SciPy 繪製 dendrograms"
   ]
  },
  {
   "cell_type": "code",
   "execution_count": 2,
   "metadata": {
    "collapsed": true
   },
   "outputs": [],
   "source": [
    "#import scipy 的 dendrograms function 及 ward 分群函數\n",
    "from scipy.cluster.hierarchy import dendrogram, ward"
   ]
  },
  {
   "cell_type": "code",
   "execution_count": 3,
   "metadata": {
    "collapsed": true
   },
   "outputs": [],
   "source": [
    "import matplotlib.pyplot as plt\n",
    "%matplotlib inline"
   ]
  },
  {
   "cell_type": "code",
   "execution_count": 4,
   "metadata": {
    "collapsed": true
   },
   "outputs": [],
   "source": [
    "#import make_blobs(), 並產生一個12個資料點的虛擬資料\n",
    "from sklearn.datasets import make_blobs\n",
    "X,y=make_blobs(random_state=0,n_samples=12)"
   ]
  },
  {
   "cell_type": "code",
   "execution_count": 5,
   "metadata": {
    "collapsed": false
   },
   "outputs": [
    {
     "data": {
      "text/plain": [
       "array([[ 3.54934659,  0.6925054 ],\n",
       "       [ 1.9263585 ,  4.15243012],\n",
       "       [ 0.0058752 ,  4.38724103],\n",
       "       [ 1.12031365,  5.75806083],\n",
       "       [ 1.7373078 ,  4.42546234],\n",
       "       [ 2.36833522,  0.04356792],\n",
       "       [-0.49772229,  1.55128226],\n",
       "       [-1.4811455 ,  2.73069841],\n",
       "       [ 0.87305123,  4.71438583],\n",
       "       [-0.66246781,  2.17571724],\n",
       "       [ 0.74285061,  1.46351659],\n",
       "       [ 2.49913075,  1.23133799]])"
      ]
     },
     "execution_count": 5,
     "metadata": {},
     "output_type": "execute_result"
    }
   ],
   "source": [
    "#檢視 X\n",
    "X"
   ]
  },
  {
   "cell_type": "code",
   "execution_count": 6,
   "metadata": {
    "collapsed": false
   },
   "outputs": [
    {
     "data": {
      "text/plain": [
       "<matplotlib.collections.PathCollection at 0x866f9e8>"
      ]
     },
     "execution_count": 6,
     "metadata": {},
     "output_type": "execute_result"
    },
    {
     "data": {
      "image/png": "[encoded data removed]",
      "text/plain": [
       "<matplotlib.figure.Figure at 0x5647ac8>"
      ]
     },
     "metadata": {},
     "output_type": "display_data"
    }
   ],
   "source": [
    "#繪圖檢視 X, plt.scatter()\n",
    "plt.scatter(X[:,0],X[:,1])"
   ]
  },
  {
   "cell_type": "code",
   "execution_count": 7,
   "metadata": {
    "collapsed": true
   },
   "outputs": [],
   "source": [
    "#以scipy.ward() 分群函數對 X 做分群,\n",
    "#ward() 回傳一個 ndarray 物件,The hierarchical clustering encoded as a linkage matrix.\n",
    "linkageArray=ward(X)"
   ]
  },
  {
   "cell_type": "code",
   "execution_count": 9,
   "metadata": {
    "collapsed": false
   },
   "outputs": [
    {
     "data": {
      "text/plain": [
       "array([[  1.        ,   4.        ,   0.3320945 ,   2.        ],\n",
       "       [  6.        ,   9.        ,   0.64580193,   2.        ],\n",
       "       [  2.        ,   8.        ,   0.92683223,   2.        ],\n",
       "       [  0.        ,  11.        ,   1.1803787 ,   2.        ],\n",
       "       [  5.        ,  15.        ,   1.30311575,   3.        ],\n",
       "       [  7.        ,  13.        ,   1.4440339 ,   3.        ],\n",
       "       [  3.        ,  14.        ,   1.60041812,   3.        ],\n",
       "       [ 12.        ,  18.        ,   2.07815795,   5.        ],\n",
       "       [ 10.        ,  17.        ,   2.15981886,   4.        ],\n",
       "       [ 16.        ,  20.        ,   6.55024854,   7.        ],\n",
       "       [ 19.        ,  21.        ,   7.92446877,  12.        ]])"
      ]
     },
     "execution_count": 9,
     "metadata": {},
     "output_type": "execute_result"
    }
   ],
   "source": [
    "linkageArray"
   ]
  },
  {
   "cell_type": "code",
   "execution_count": 8,
   "metadata": {
    "collapsed": false
   },
   "outputs": [
    {
     "data": {
      "text/plain": [
       "(11, 4)"
      ]
     },
     "execution_count": 8,
     "metadata": {},
     "output_type": "execute_result"
    }
   ],
   "source": [
    "linkageArray.shape"
   ]
  },
  {
   "cell_type": "code",
   "execution_count": 10,
   "metadata": {
    "collapsed": false
   },
   "outputs": [
    {
     "data": {
      "text/plain": [
       "{'color_list': ['g', 'g', 'g', 'g', 'r', 'r', 'c', 'c', 'c', 'b', 'b'],\n",
       " 'dcoord': [[0.0, 0.3320945047164902, 0.3320945047164902, 0.0],\n",
       "  [0.0, 0.9268322277319817, 0.9268322277319817, 0.0],\n",
       "  [0.0, 1.6004181164464242, 1.6004181164464242, 0.9268322277319817],\n",
       "  [0.3320945047164902,\n",
       "   2.078157949404743,\n",
       "   2.078157949404743,\n",
       "   1.6004181164464242],\n",
       "  [0.0, 1.1803786988620995, 1.1803786988620995, 0.0],\n",
       "  [0.0, 1.3031157463723073, 1.3031157463723073, 1.1803786988620995],\n",
       "  [0.0, 0.6458019336639491, 0.6458019336639491, 0.0],\n",
       "  [0.0, 1.4440338959892802, 1.4440338959892802, 0.6458019336639491],\n",
       "  [0.0, 2.1598188624745154, 2.1598188624745154, 1.4440338959892802],\n",
       "  [1.3031157463723073,\n",
       "   6.550248535823649,\n",
       "   6.550248535823649,\n",
       "   2.1598188624745154],\n",
       "  [2.078157949404743,\n",
       "   7.924468768378964,\n",
       "   7.924468768378964,\n",
       "   6.550248535823649]],\n",
       " 'icoord': [[5.0, 5.0, 15.0, 15.0],\n",
       "  [35.0, 35.0, 45.0, 45.0],\n",
       "  [25.0, 25.0, 40.0, 40.0],\n",
       "  [10.0, 10.0, 32.5, 32.5],\n",
       "  [65.0, 65.0, 75.0, 75.0],\n",
       "  [55.0, 55.0, 70.0, 70.0],\n",
       "  [105.0, 105.0, 115.0, 115.0],\n",
       "  [95.0, 95.0, 110.0, 110.0],\n",
       "  [85.0, 85.0, 102.5, 102.5],\n",
       "  [62.5, 62.5, 93.75, 93.75],\n",
       "  [21.25, 21.25, 78.125, 78.125]],\n",
       " 'ivl': ['1', '4', '3', '2', '8', '5', '0', '11', '10', '7', '6', '9'],\n",
       " 'leaves': [1, 4, 3, 2, 8, 5, 0, 11, 10, 7, 6, 9]}"
      ]
     },
     "execution_count": 10,
     "metadata": {},
     "output_type": "execute_result"
    },
    {
     "data": {
      "image/png": "[encoded data removed]",
      "text/plain": [
       "<Figure size 432x288 with 1 Axes>"
      ]
     },
     "metadata": {},
     "output_type": "display_data"
    }
   ],
   "source": [
    "#以dendrogram() 為 linkageArray 畫樹狀圖\n",
    "dendrogram(linkageArray)"
   ]
  },
  {
   "cell_type": "code",
   "execution_count": 9,
   "metadata": {
    "collapsed": true
   },
   "outputs": [],
   "source": [
    "#讓圖示更清楚, 標示2或3群的切線"
   ]
  },
  {
   "cell_type": "code",
   "execution_count": 11,
   "metadata": {
    "collapsed": false
   },
   "outputs": [
    {
     "data": {
      "text/plain": [
       "Text(0,0.5,'Cluster distance')"
      ]
     },
     "execution_count": 11,
     "metadata": {},
     "output_type": "execute_result"
    },
    {
     "data": {
      "image/png": "[encoded data removed]",
      "text/plain": [
       "<Figure size 432x288 with 1 Axes>"
      ]
     },
     "metadata": {},
     "output_type": "display_data"
    }
   ],
   "source": [
    "dendrogram(linkageArray)\n",
    "ax=plt.gca() #Get the current Axes instance on the current figure\n",
    "bounds=ax.get_xbound() #Return the lower and upper x-axis bounds, in increasing order.\n",
    "ax.plot(bounds,[7.25,7.25],'--',c='k') #畫2群的切線\n",
    "ax.plot(bounds,[4,4],'--',c='k') #畫3群的切線\n",
    "ax.text(bounds[1],7.25, 'two clusters',va='center',fontdict={'size':14}) #切線文字\n",
    "ax.text(bounds[1],4,'three clusters',va='center',fontdict={'size':14}) #切線文字\n",
    "plt.xlabel(\"Sample index\")\n",
    "plt.ylabel(\"Cluster distance\")"
   ]
  },
  {
   "cell_type": "code",
   "execution_count": 12,
   "metadata": {
    "collapsed": true
   },
   "outputs": [],
   "source": []
  },
  {
   "cell_type": "code",
   "execution_count": null,
   "metadata": {
    "collapsed": true
   },
   "outputs": [],
   "source": []
  }
 ],
 "metadata": {
  "kernelspec": {
   "display_name": "Python 3",
   "language": "python",
   "name": "python3"
  },
  "language_info": {
   "codemirror_mode": {
    "name": "ipython",
    "version": 3
   },
   "file_extension": ".py",
   "mimetype": "text/x-python",
   "name": "python",
   "nbconvert_exporter": "python",
   "pygments_lexer": "ipython3",
   "version": "3.5.2"
  }
 },
 "nbformat": 4,
 "nbformat_minor": 1
}
