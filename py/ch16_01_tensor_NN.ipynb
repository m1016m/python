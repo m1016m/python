{
 "cells": [
  {
   "cell_type": "code",
   "execution_count": 1,
   "metadata": {
    "collapsed": true
   },
   "outputs": [],
   "source": [
    "#ch16_01_tensor_NN.ipynb"
   ]
  },
  {
   "cell_type": "code",
   "execution_count": 2,
   "metadata": {
    "collapsed": true
   },
   "outputs": [],
   "source": [
    "#以TensorFlow 張量運算實作神經網路數學公式:\n",
    "#   輸出=activation function(輸入*權重+偏差)\n",
    "#     y=activation function(x*W+B)"
   ]
  },
  {
   "cell_type": "code",
   "execution_count": 2,
   "metadata": {
    "collapsed": true
   },
   "outputs": [],
   "source": [
    "import tensorflow as tf\n",
    "import numpy as np"
   ]
  },
  {
   "cell_type": "code",
   "execution_count": 4,
   "metadata": {
    "collapsed": true
   },
   "outputs": [],
   "source": [
    "#step1: 計算圖\n",
    "# x(輸入) --> 以二維張量實作, x.shaple: (1,3)  x1,x2,x3\n",
    "x=tf.Variable([[0.4,0.2,0.4]]) \n",
    "# W(權重) --> 以二維張量實作, w.shaple: (3,2) w11,w12 w21,w22 w31,w33\n",
    "W=tf.Variable([[-0.5,-0.2],[-0.3,0.4],[-0.5,0.2]])\n",
    "# B(偏移植) --> 以二維張量實作, b.shape: (2,) b1,b2\n",
    "b=tf.Variable([[0.1,0.2]])"
   ]
  },
  {
   "cell_type": "code",
   "execution_count": 5,
   "metadata": {},
   "outputs": [
    {
     "name": "stdout",
     "output_type": "stream",
     "text": [
      "x.shape: (1, 3)  W.shape: (3, 2)  b.shape: (1, 2)\n"
     ]
    }
   ],
   "source": [
    "print('x.shape:',x.shape,' W.shape:',W.shape,' b.shape:',b.shape)"
   ]
  },
  {
   "cell_type": "code",
   "execution_count": 6,
   "metadata": {
    "collapsed": true
   },
   "outputs": [],
   "source": [
    "#step2:  x*W+B, tf.matmul()\n",
    "xWb=tf.matmul(x,W)+b\n",
    "#y=activationFunction(x*W+B), 這裡Activaton Function以 ReLU\n",
    "y=tf.nn.relu(xWb)"
   ]
  },
  {
   "cell_type": "code",
   "execution_count": 7,
   "metadata": {},
   "outputs": [
    {
     "name": "stdout",
     "output_type": "stream",
     "text": [
      "xWb: [[-0.35999998  0.28      ]]\n",
      "y: [[ 0.    0.28]]\n"
     ]
    }
   ],
   "source": [
    "#step3: 以 with Session 執行計算圖\n",
    "with tf.Session() as sess:\n",
    "    init=tf.global_variables_initializer()\n",
    "    sess.run(init)\n",
    "    print('xWb:',sess.run(xWb))\n",
    "    print('y:',sess.run(y))"
   ]
  },
  {
   "cell_type": "code",
   "execution_count": 8,
   "metadata": {
    "collapsed": true
   },
   "outputs": [],
   "source": [
    "tf.summary.merge_all() #將所有要顯示在TensorBoard的資料整合\n",
    "train_writer=tf.summary.FileWriter('log/area',sess.graph) \n",
    "#將資料寫至log檔,log檔會儲存在目前程式執行目錄下的log/area子目錄"
   ]
  },
  {
   "cell_type": "code",
   "execution_count": 9,
   "metadata": {
    "collapsed": true
   },
   "outputs": [],
   "source": [
    "#==============================================================\n",
    "#改以 sigmoid 作為 activation function\n",
    "#y_sigmoid=sigmoid(x*W+B)"
   ]
  },
  {
   "cell_type": "code",
   "execution_count": 10,
   "metadata": {},
   "outputs": [
    {
     "name": "stdout",
     "output_type": "stream",
     "text": [
      "xWb: [[-0.35999998  0.28      ]]\n",
      "y_sigmoid: [[ 0.41095957  0.56954622]]\n"
     ]
    }
   ],
   "source": [
    "#step4.\n",
    "y_sigmoid=tf.nn.sigmoid(xWb)\n",
    "with tf.Session() as sess2:\n",
    "    init=tf.global_variables_initializer()\n",
    "    sess2.run(init)\n",
    "    print('xWb:',sess2.run(xWb))\n",
    "    print('y_sigmoid:',sess2.run(y_sigmoid))"
   ]
  },
  {
   "cell_type": "code",
   "execution_count": 11,
   "metadata": {
    "collapsed": true
   },
   "outputs": [],
   "source": [
    "#===========================================================================\n",
    "#上述, Weight與bias 是一定植。\n",
    "#以下, 為了建立 MLP model\n",
    "#我們以 TensorFlow.random_normal() 產生的常態分佈亂數, 給定 W和b 初值"
   ]
  },
  {
   "cell_type": "code",
   "execution_count": 12,
   "metadata": {
    "collapsed": true
   },
   "outputs": [],
   "source": [
    "#step5: 建立計算圖, W及b為常態分佈亂數\n",
    "W=tf.Variable(tf.random_normal([3,2])) # 產生 [3,2] 常態分佈亂數 Weight ([[w11,w12],[w21,w22],[w31,w32]])\n",
    "b=tf.Variable(tf.random_normal([1,2])) # 產生 [1,2] 常態分佈亂數 bias ([[b1,b2]])\n",
    "#輸入 x 與前式相同, ([[x1,x2,x3]]), [1,3]\n",
    "x=tf.Variable([[0.4,0.2,0.4]])\n",
    "#以relu 作為 activation function\n",
    "y=tf.nn.relu(tf.matmul(x,W)+b)"
   ]
  },
  {
   "cell_type": "code",
   "execution_count": 13,
   "metadata": {},
   "outputs": [
    {
     "name": "stdout",
     "output_type": "stream",
     "text": [
      "W: [[-0.6503793   0.5868904 ]\n",
      " [ 0.58569807 -1.53881252]\n",
      " [-0.68978858 -0.53791994]]\n",
      "b: [[-0.76422042  0.3005389 ]]\n",
      "y: [[ 0.          0.01236457]]\n"
     ]
    }
   ],
   "source": [
    "#step6.　以 with Session 執行計算圖\n",
    "with tf.Session() as sess:\n",
    "    init=tf.global_variables_initializer()\n",
    "    sess.run(init)\n",
    "    print('W:',sess.run(W))\n",
    "    print('b:',sess.run(b))\n",
    "    print('y:',sess.run(y))"
   ]
  },
  {
   "cell_type": "code",
   "execution_count": 14,
   "metadata": {},
   "outputs": [
    {
     "name": "stdout",
     "output_type": "stream",
     "text": [
      "W: [[ 0.90648454 -0.27373618]\n",
      " [-0.43914443 -0.74810702]\n",
      " [-2.61941195 -0.50685871]]\n",
      "b: [[-0.58265358  0.69388056]]\n",
      "y: [[ 0.          0.23202121]]\n"
     ]
    }
   ],
   "source": [
    "#step6a. \n",
    "#step6 可以合併執行如下:\n",
    "with tf.Session() as sess:\n",
    "    init=tf.global_variables_initializer()\n",
    "    sess.run(init)\n",
    "    (W,b,y)=sess.run((W,b,y)) #只要執行一次 sess.run()\n",
    "    print('W:',W)\n",
    "    print('b:',b)\n",
    "    print('y:',y)"
   ]
  },
  {
   "cell_type": "code",
   "execution_count": 15,
   "metadata": {
    "collapsed": true
   },
   "outputs": [],
   "source": [
    "#step6b. tensorflow.random_normal, 常態分佈亂數說明"
   ]
  },
  {
   "cell_type": "code",
   "execution_count": 16,
   "metadata": {},
   "outputs": [
    {
     "name": "stdout",
     "output_type": "stream",
     "text": [
      "[ 0.83806759 -1.13771796 -0.57047099  0.72236556  0.51079404]\n"
     ]
    }
   ],
   "source": [
    "#使用 tf.random_normal() 產生常態分佈的亂數 list\n",
    "ts_norm=tf.random_normal([1000])\n",
    "with tf.Session() as session:\n",
    "    norm_data=ts_norm.eval() #Evaluates this tensor in a `Session`.\n",
    "print(norm_data[:5])  #印出前5個值"
   ]
  },
  {
   "cell_type": "code",
   "execution_count": 17,
   "metadata": {},
   "outputs": [
    {
     "data": {
      "image/png": "[encoded data removed]",
      "text/plain": [
       "<matplotlib.figure.Figure at 0x23f13d8ce48>"
      ]
     },
     "metadata": {},
     "output_type": "display_data"
    }
   ],
   "source": [
    "#繪圖顯示 tensor 'ts_norm'\n",
    "import matplotlib.pyplot as plt\n",
    "plt.plot(norm_data)\n",
    "plt.show()"
   ]
  },
  {
   "cell_type": "code",
   "execution_count": 18,
   "metadata": {
    "collapsed": true
   },
   "outputs": [],
   "source": [
    "#=========================================================================================\n",
    "# 以 placeholder 傳入x值\n",
    "# NN輸入 x (x1,x2,x3),可以是任何數值, 實際運用時我們以 placeholder 傳入NN進行運算\n",
    "# 以下, 我們將x改為 placeholder, 在 sess.run() 執行計算圖時,可以使用 feed_dict \n",
    "# 傳入二維陣列進行運算"
   ]
  },
  {
   "cell_type": "code",
   "execution_count": 19,
   "metadata": {},
   "outputs": [
    {
     "name": "stdout",
     "output_type": "stream",
     "text": [
      "b: [[-1.49110687  1.20552731]]\n",
      "W: [[ 0.44330159  0.08456695]\n",
      " [-0.87698907 -0.04212309]\n",
      " [ 0.88850737  0.61482847]]\n",
      "x: [[ 0.40000001  0.2         0.40000001]]\n",
      "y: [[ 0.          1.47686088]]\n"
     ]
    }
   ],
   "source": [
    "W=tf.Variable(tf.random_normal([3,2]))\n",
    "b=tf.Variable(tf.random_normal([1,2]))\n",
    "x=tf.placeholder(\"float\",[1,3]) #x, tf.placeholder\n",
    "y=tf.nn.relu(tf.matmul(x,W)+b)\n",
    "with tf.Session() as sess:\n",
    "    init=tf.global_variables_initializer()\n",
    "    sess.run(init)\n",
    "    x_array=np.array([[0.4,0.2,0.4]]) #x_array, [1,3]\n",
    "    (_b,_W,_x,_y)=sess.run((b,W,x,y),feed_dict={x:x_array}) #在sess.run() 執行計算圖時,以feed_dict參數\n",
    "                                                          #指定 x (placeholder) 值為 'x_array'\n",
    "    print('b:',_b)\n",
    "    print('W:',_W)\n",
    "    print('x:',_x)\n",
    "    print('y:',_y)"
   ]
  },
  {
   "cell_type": "code",
   "execution_count": 20,
   "metadata": {
    "collapsed": true
   },
   "outputs": [],
   "source": [
    "#練習1: 將上述計算圖,以tensorboard畫出"
   ]
  },
  {
   "cell_type": "code",
   "execution_count": 21,
   "metadata": {
    "collapsed": true
   },
   "outputs": [],
   "source": [
    "#============================================================================\n",
    "#建立layer函數,以矩陣運算模擬NN\n",
    "#用以建立Multilayer Perceptron, MLP (多層感知器)"
   ]
  },
  {
   "cell_type": "code",
   "execution_count": 22,
   "metadata": {
    "collapsed": true
   },
   "outputs": [],
   "source": [
    "#step1. 以TensorFlow自建layer函數 \n",
    "#output_dim-->輸出神經元個數, input_dim-->輸入神經元個數\n",
    "#inputs-->輸入的二維陣列placeholder, activation-->activation function 預設是 None\n",
    "def layer(output_dim,input_dim,inputs,activation=None):\n",
    "    #產生維度 [input_dim,output_dim] 的常態分佈亂數矩陣,作為Weight的初值\n",
    "    W=tf.Variable(tf.random_normal([input_dim,output_dim])) \n",
    "    #產生維度 [1,output_dim]的常態分佈亂數矩陣,作為bias的初值\n",
    "    b=tf.Variable(tf.random_normal([1,output_dim]))\n",
    "    #矩陣運算式 XWb=(inputs*W)+b\n",
    "    XWb=tf.matmul(inputs,W)+b\n",
    "    #activation function 設定\n",
    "    if activation is None:  #如果未指定 activation function\n",
    "        outputs=XWb         #回傳 XWb\n",
    "    else:                   #如果有指定 activation function\n",
    "        outputs=activation(XWb)\n",
    "    return outputs"
   ]
  },
  {
   "cell_type": "code",
   "execution_count": 23,
   "metadata": {
    "collapsed": true
   },
   "outputs": [],
   "source": [
    "#step2. 使用自建的layer函數,建立3層(輸入層(x)、隱藏層(h)、輸出層(y)的MLP\n",
    "#       其中輸入層(x)維度-->[1,4], 隱藏層(h)維度-->[1,3], 輸出層(y)維度-->[1,2]"
   ]
  },
  {
   "cell_type": "code",
   "execution_count": 24,
   "metadata": {
    "collapsed": true
   },
   "outputs": [],
   "source": [
    "#輸入層 X\n",
    "X=tf.placeholder(\"float\",[1,4])  "
   ]
  },
  {
   "cell_type": "code",
   "execution_count": 25,
   "metadata": {
    "collapsed": true
   },
   "outputs": [],
   "source": [
    "#隱藏層 h,使用layer函數來建立\n",
    "#activation function--> tf.nn.relu\n",
    "h=layer(output_dim=3,input_dim=4,inputs=X,\n",
    "       activation=tf.nn.relu)"
   ]
  },
  {
   "cell_type": "code",
   "execution_count": 26,
   "metadata": {
    "collapsed": true
   },
   "outputs": [],
   "source": [
    "#輸出層 y,使用layer函數來建立\n",
    "y=layer(output_dim=2,input_dim=3,inputs=h)"
   ]
  },
  {
   "cell_type": "code",
   "execution_count": 27,
   "metadata": {},
   "outputs": [
    {
     "name": "stdout",
     "output_type": "stream",
     "text": [
      "input Layer X: [[ 0.40000001  0.2         0.40000001  0.5       ]]\n",
      "hidden Layer h: [[ 0.  0.  0.]]\n",
      "output Layer y: [[ 1.02879429 -1.36651766]]\n"
     ]
    }
   ],
   "source": [
    "#以with tf.Session() 執行計算圖\n",
    "with tf.Session() as sess:\n",
    "    init=tf.global_variables_initializer()\n",
    "    sess.run(init)\n",
    "    #設定X_array 值為 np.array[[4]]\n",
    "    X_array=np.array([[0.4,0.2,0.4,0.5]])\n",
    "    #執行sess.run(), feed_dict參數 {X:X_array}\n",
    "    (layer_X,layer_h,layer_y)=sess.run((X,h,y),feed_dict={X:X_array})\n",
    "    #print \n",
    "    print('input Layer X:',layer_X)\n",
    "    print('hidden Layer h:',layer_h)\n",
    "    print('output Layer y:',layer_y)"
   ]
  },
  {
   "cell_type": "code",
   "execution_count": 1,
   "metadata": {
    "collapsed": true
   },
   "outputs": [],
   "source": [
    "#=================================================================================\n",
    "# 建立layer_debug函數顯示Weight與bias"
   ]
  },
  {
   "cell_type": "code",
   "execution_count": 3,
   "metadata": {
    "collapsed": true
   },
   "outputs": [],
   "source": [
    "#step1. 建立layer_debug函數,除了回傳 output 外,也回傳 Weight與bias\n",
    "def layer_debug(output_dim,input_dim,inputs,activation=None):\n",
    "    W=tf.Variable(tf.random_normal([input_dim,output_dim]))\n",
    "    b=tf.Variable(tf.random_normal([1,output_dim]))\n",
    "    XWb=tf.matmul(inputs,W)+b\n",
    "    if activation is None:\n",
    "        outputs=XWb\n",
    "    else:\n",
    "        outputs=activation(XWb)\n",
    "    return outputs,W,b"
   ]
  },
  {
   "cell_type": "code",
   "execution_count": 5,
   "metadata": {},
   "outputs": [
    {
     "name": "stdout",
     "output_type": "stream",
     "text": [
      "input Layer X:\n",
      "[[ 0.40000001  0.2         0.40000001  0.5       ]]\n",
      "W1:\n",
      "[[-0.30718762 -0.6202265   0.24352469]\n",
      " [ 0.63291734 -0.41827333 -0.36380172]\n",
      " [-0.59345996 -1.88923097 -0.37480724]\n",
      " [ 0.50528926 -1.71509302  1.23098528]]\n",
      "b1:\n",
      "[[-1.4973501  -0.27952436  1.07052112]]\n",
      "hidden Layer h:\n",
      "[[ 0.          0.          1.56074047]]\n",
      "W2:\n",
      "[[-0.50013071 -1.33616662]\n",
      " [ 1.6664331   1.10669923]\n",
      " [ 2.78340697 -1.78515744]]\n",
      "b2:\n",
      "[[ 0.20749122  1.44296563]]\n",
      "output Layer y:\n",
      "[[ 4.55166721 -1.34320176]]\n"
     ]
    }
   ],
   "source": [
    "#step2. 使用layer_debug函數建立3層MLP (x,h,y),\n",
    "#並顯示第一層W1與b1,第二層W2,b2\n",
    "X=tf.placeholder(\"float\",[1,4])\n",
    "h,W1,b1=layer_debug(output_dim=3,input_dim=4,inputs=X,activation=tf.nn.relu)\n",
    "y,W2,b2=layer_debug(output_dim=2,input_dim=3,inputs=h)\n",
    "with tf.Session() as sess:\n",
    "    init=tf.global_variables_initializer()\n",
    "    sess.run(init)\n",
    "    #設定輸入值 X_array\n",
    "    X_array=np.array([[0.4,0.2,0.4,0.5]])\n",
    "    (layer_X,layer_h,layer_y,W1,b1,W2,b2)=sess.run((X,h,y,W1,b1,W2,b2),feed_dict={X:X_array})\n",
    "    print('input Layer X:')\n",
    "    print(layer_X)\n",
    "    print('W1:')\n",
    "    print(  W1)    \n",
    "    print('b1:')\n",
    "    print(  b1)    \n",
    "    print('hidden Layer h:')\n",
    "    print(layer_h)    \n",
    "    print('W2:')\n",
    "    print(  W2)    \n",
    "    print('b2:')\n",
    "    print(  b2)    \n",
    "    print('output Layer y:')\n",
    "    print(layer_y)\n",
    "    "
   ]
  },
  {
   "cell_type": "code",
   "execution_count": null,
   "metadata": {
    "collapsed": true
   },
   "outputs": [],
   "source": []
  }
 ],
 "metadata": {
  "kernelspec": {
   "display_name": "Python 3",
   "language": "python",
   "name": "python3"
  },
  "language_info": {
   "codemirror_mode": {
    "name": "ipython",
    "version": 3
   },
   "file_extension": ".py",
   "mimetype": "text/x-python",
   "name": "python",
   "nbconvert_exporter": "python",
   "pygments_lexer": "ipython3",
   "version": "3.5.3"
  }
 },
 "nbformat": 4,
 "nbformat_minor": 2
}
