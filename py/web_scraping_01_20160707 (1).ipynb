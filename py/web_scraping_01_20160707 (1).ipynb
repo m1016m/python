{
 "cells": [
  {
   "cell_type": "code",
   "execution_count": 1,
   "metadata": {
    "collapsed": true
   },
   "outputs": [],
   "source": [
    "#web_scraping_01_20160707"
   ]
  },
  {
   "cell_type": "code",
   "execution_count": 2,
   "metadata": {
    "collapsed": true
   },
   "outputs": [],
   "source": [
    "#example 1: First Web Scraper"
   ]
  },
  {
   "cell_type": "code",
   "execution_count": 3,
   "metadata": {
    "collapsed": true
   },
   "outputs": [],
   "source": [
    "from urllib.request import urlopen #from urllib.request import urlopen"
   ]
  },
  {
   "cell_type": "code",
   "execution_count": 4,
   "metadata": {
    "collapsed": true
   },
   "outputs": [],
   "source": [
    "html=urlopen(\"http://pythonscraping.com/pages/page1.html\") #"
   ]
  },
  {
   "cell_type": "code",
   "execution_count": 5,
   "metadata": {
    "collapsed": false
   },
   "outputs": [
    {
     "name": "stdout",
     "output_type": "stream",
     "text": [
      "b'<html>\\n<head>\\n<title>A Useful Page</title>\\n</head>\\n<body>\\n<h1>An Interesting Title</h1>\\n<div>\\nLorem ipsum dolor sit amet, consectetur adipisicing elit, sed do eiusmod tempor incididunt ut labore et dolore magna aliqua. Ut enim ad minim veniam, quis nostrud exercitation ullamco laboris nisi ut aliquip ex ea commodo consequat. Duis aute irure dolor in reprehenderit in voluptate velit esse cillum dolore eu fugiat nulla pariatur. Excepteur sint occaecat cupidatat non proident, sunt in culpa qui officia deserunt mollit anim id est laborum.\\n</div>\\n</body>\\n</html>\\n'\n"
     ]
    }
   ],
   "source": [
    "print(html.read())"
   ]
  },
  {
   "cell_type": "code",
   "execution_count": 6,
   "metadata": {
    "collapsed": false
   },
   "outputs": [
    {
     "data": {
      "text/plain": [
       "http.client.HTTPResponse"
      ]
     },
     "execution_count": 6,
     "metadata": {},
     "output_type": "execute_result"
    }
   ],
   "source": [
    "type(html)"
   ]
  },
  {
   "cell_type": "code",
   "execution_count": 1,
   "metadata": {
    "collapsed": true
   },
   "outputs": [],
   "source": [
    "#練習一: \"http://www.iiiedu.org.tw/south/\""
   ]
  },
  {
   "cell_type": "code",
   "execution_count": 2,
   "metadata": {
    "collapsed": true
   },
   "outputs": [],
   "source": [
    "from urllib.request import urlopen"
   ]
  },
  {
   "cell_type": "code",
   "execution_count": 3,
   "metadata": {
    "collapsed": true
   },
   "outputs": [],
   "source": [
    "south_html=urlopen(\"http://www.iiiedu.org.tw/south/\")"
   ]
  },
  {
   "cell_type": "code",
   "execution_count": 4,
   "metadata": {
    "collapsed": false
   },
   "outputs": [
    {
     "name": "stdout",
     "output_type": "stream",
     "text": [
      "<!DOCTYPE html PUBLIC \"-//W3C//DTD XHTML 1.0 Transitional//EN\" \"http://www.w3.org/TR/xhtml1/DTD/xhtml1-transitional.dtd\">\r\n",
      "<html xmlns=\"http://www.w3.org/1999/xhtml\">\r\n",
      "<HTML><HEAD>\r\n",
      "<TITLE>財團法人資訊工業策進會 數位教育研究所 南區教育訓練中心 台南高雄</TITLE>\r\n",
      "<meta name=\"google-site-verification\" content=\"tGDvTjoQhHbWZ6VUfbcPCVMgKgbLLVola3dpa0sJYRw\" />\r\n",
      "<meta http-equiv=\"Content-Type\" content=\"text/html; charset=utf-8\">\r\n",
      "<META content=資訊工業策進會南區訓練中心 name=description>\r\n",
      "<META name=\"keywords\" content=\"財團法人資訊工業策進會 台南高雄,南區訓練中心,資策會 台南高雄,PMP,JavaScript,jQuery,JavaScript API,php,MySQL,CCNA,QUT,LPI,ASP,C#,JAVA,LINUX,RFID,CWNA,NPDP,行動應用,海外留學,留學澳洲,就業養成,網工班,程式設計,Flash,MCITP,VUE,Prometric,雲端,企劃書,CEH,虛擬化,教育訓練\">\r\n",
      "<META name=\"description\" content=\"財團法人資訊工業策進會-南區訓練中心,PMP,CCNA,ITIL,LINUX,NPDP,BIG DATA,R軟體,CBAP,GA認證,PYTHON,社群行銷,物聯網,工業4.0,智慧聯網 \">\r\n",
      "<META name=\"searchtitle\" content=\"財團法人資訊工業策進會 數位教育研究所 - 南區訓練中心\">\r\n",
      "<meta name=\"y_key\" content=\"d33331cd6bfe41b7\" />\r\n",
      "<meta name=\"robots\" content=\"ALL,INDEX\">\r\n",
      "<meta name=\"msvalidate.01\" content=\"5784D42D52AD9CEB33F48F7DD1DBBA9A\" />\r\n",
      "<script type=\"text/javascript\">\r\n",
      "  var _gaq = _gaq || [];\r\n",
      "  _gaq.push(['_setAccount', 'UA-16811802-1']);\r\n",
      "  _gaq.push(['_trackPageview']);\r\n",
      "  (function() {\r\n",
      "    var ga = document.createElement('script'); ga.type = 'text/javascript'; ga.async = true;\r\n",
      "    ga.src = ('https:' == document.location.protocol ? 'https://ssl' : 'http://www') + '.google-analytics.com/ga.js';\r\n",
      "    var s = document.getElementsByTagName('script')[0]; s.parentNode.insertBefore(ga, s);\r\n",
      "  })();\r\n",
      "</script>\r\n",
      "</HEAD>\r\n",
      "<FRAMESET border=0 frameSpacing=0 rows=110,* frameBorder=0>\r\n",
      "\t<FRAME name=banner src=\"indFC_headmenu.htm\" noResize scrolling=no target=\"_self\">\r\n",
      "\t<FRAMESET border=0 frameSpacing=0 frameBorder=NO cols=108,*>\r\n",
      "\t\t<FRAME name=contents src=\"indEC_items.htm\" noResize scrolling=no target=\"contents\">\r\n",
      "\t\t<FRAME name=main src=\"ind_news.htm\" target=\"main\">\r\n",
      "\t\t</FRAMESET>\r\n",
      "\t\t<NOFRAMES></NOFRAMES>\r\n",
      "\t\t</FRAMESET>\r\n",
      "<a href=\"http://pagerank.easylife.tw\" target=\"_blank\" title=\"Google PageRank查詢\">\r\n",
      "<img src=\"http://pagerank.easylife.tw/pagerank.php?skin=ng2&url=http://www.iiiedu.org.tw/south\" border=\"0\" alt=\"Google PageRank查詢\" onerror=\"this.style.display='none';\"></a>\r\n",
      "</HTML>\n"
     ]
    }
   ],
   "source": [
    "print(south_html.read().decode()) #記得 decode()  "
   ]
  },
  {
   "cell_type": "code",
   "execution_count": null,
   "metadata": {
    "collapsed": true
   },
   "outputs": [],
   "source": []
  }
 ],
 "metadata": {
  "kernelspec": {
   "display_name": "Python [Root]",
   "language": "python",
   "name": "Python [Root]"
  },
  "language_info": {
   "codemirror_mode": {
    "name": "ipython",
    "version": 3
   },
   "file_extension": ".py",
   "mimetype": "text/x-python",
   "name": "python",
   "nbconvert_exporter": "python",
   "pygments_lexer": "ipython3",
   "version": "3.5.1"
  }
 },
 "nbformat": 4,
 "nbformat_minor": 0
}
