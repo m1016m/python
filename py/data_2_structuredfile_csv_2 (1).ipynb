{
 "cells": [
  {
   "cell_type": "code",
   "execution_count": 8,
   "metadata": {
    "collapsed": true
   },
   "outputs": [],
   "source": [
    "import csv #import csv 模組"
   ]
  },
  {
   "cell_type": "code",
   "execution_count": 44,
   "metadata": {
    "collapsed": false
   },
   "outputs": [],
   "source": [
    "fin=open('20160202_process.csv','r') "
   ]
  },
  {
   "cell_type": "code",
   "execution_count": 45,
   "metadata": {
    "collapsed": false
   },
   "outputs": [
    {
     "name": "stdout",
     "output_type": "stream",
     "text": [
      "['證券代號', '證券名稱', '成交股數', '成交筆數', '成交金額', '成交價', '最後揭示買價', '最後揭示買量', '最後揭示賣價', '最後揭示賣量']\n",
      "['2427', '三商電    ', '764', '2', '4,339', '5.68', '5.68', '25,511', '--', '0']\n",
      "['2453', '凌群      ', '0', '0', '0', '--', '9.9', '999', '10.1', '608']\n",
      "['2468', '華經      ', '0', '0', '0', '--', '10', '1,059', '10.2', '222']\n",
      "['2471', '資通      ', '83', '12', '1,110', '13.45', '13.4', '1,174', '13.45', '643']\n",
      "['2480', '敦陽科    ', '369', '14', '9,160', '24.85', '24.85', '4,126', '26', '1,399']\n",
      "['3029', '零壹      ', '1,985', '28', '33,840', '17.05', '16.95', '4,198', '17.05', '931']\n",
      "['3130', '一零四    ', '80', '2', '11,280', '141', '141', '10,782', '154', '70']\n",
      "['4994', '傳奇      ', '468', '1', '32,104', '68.6', '68.6', '5,324', '69', '202']\n",
      "['5203', '訊連      ', '496', '12', '33,728', '68', '68', '4,721', '68.4', '289']\n",
      "['6112', '聚碩      ', '1,218', '13', '31,055', '25.5', '25.5', '4,567', '25.55', '735']\n",
      "['6183', '關貿      ', '82', '3', '2,032', '24.8', '24.8', '1,803', '25.15', '1,461']\n",
      "['6214', '精誠      ', '802', '6', '40,980', '51.1', '51', '5,539', '51.1', '535']\n"
     ]
    }
   ],
   "source": [
    "for row in csv.reader(fin): \n",
    "    print(row)"
   ]
  },
  {
   "cell_type": "code",
   "execution_count": 46,
   "metadata": {
    "collapsed": true
   },
   "outputs": [],
   "source": [
    "fin.close()"
   ]
  },
  {
   "cell_type": "code",
   "execution_count": 52,
   "metadata": {
    "collapsed": true
   },
   "outputs": [],
   "source": [
    "fin2=open('20160202_process.csv','r')"
   ]
  },
  {
   "cell_type": "code",
   "execution_count": 53,
   "metadata": {
    "collapsed": false
   },
   "outputs": [
    {
     "name": "stdout",
     "output_type": "stream",
     "text": [
      "4,339\n",
      "0\n",
      "0\n",
      "1,110\n",
      "9,160\n",
      "33,840\n",
      "11,280\n",
      "32,104\n",
      "33,728\n",
      "31,055\n",
      "2,032\n",
      "40,980\n"
     ]
    }
   ],
   "source": [
    "for row in csv.DictReader(fin2):\n",
    "    print(row['成交金額'])"
   ]
  },
  {
   "cell_type": "code",
   "execution_count": 54,
   "metadata": {
    "collapsed": true
   },
   "outputs": [],
   "source": [
    "fin2.close()"
   ]
  },
  {
   "cell_type": "code",
   "execution_count": 101,
   "metadata": {
    "collapsed": true
   },
   "outputs": [],
   "source": [
    "add_data=[['6883','精工','82','3','2,032','24.8','24.8','1,803','25.15','1,461'],\n",
    "          ['6888','花王','82','3','2,032','24.8','24.8','1,803','25.15','1,461'],]"
   ]
  },
  {
   "cell_type": "code",
   "execution_count": 102,
   "metadata": {
    "collapsed": false
   },
   "outputs": [
    {
     "data": {
      "text/plain": [
       "[['6883', '精工', '82', '3', '2,032', '24.8', '24.8', '1,803', '25.15', '1,461'],\n",
       " ['6888', '花王', '82', '3', '2,032', '24.8', '24.8', '1,803', '25.15', '1,461']]"
      ]
     },
     "execution_count": 102,
     "metadata": {},
     "output_type": "execute_result"
    }
   ],
   "source": [
    "add_data"
   ]
  },
  {
   "cell_type": "code",
   "execution_count": 103,
   "metadata": {
    "collapsed": false
   },
   "outputs": [],
   "source": [
    "fout=open('20160202_process.csv','a') #以a,appending to the end of the file if it exists"
   ]
  },
  {
   "cell_type": "code",
   "execution_count": 104,
   "metadata": {
    "collapsed": false
   },
   "outputs": [],
   "source": [
    "w=csv.writer(fout) #csv.writer"
   ]
  },
  {
   "cell_type": "code",
   "execution_count": 105,
   "metadata": {
    "collapsed": false
   },
   "outputs": [],
   "source": [
    "w.writerows(add_data)"
   ]
  },
  {
   "cell_type": "code",
   "execution_count": 106,
   "metadata": {
    "collapsed": true
   },
   "outputs": [],
   "source": [
    "fout.close()"
   ]
  },
  {
   "cell_type": "code",
   "execution_count": null,
   "metadata": {
    "collapsed": true
   },
   "outputs": [],
   "source": []
  }
 ],
 "metadata": {
  "kernelspec": {
   "display_name": "Python 3",
   "language": "python",
   "name": "python3"
  },
  "language_info": {
   "codemirror_mode": {
    "name": "ipython",
    "version": 3
   },
   "file_extension": ".py",
   "mimetype": "text/x-python",
   "name": "python",
   "nbconvert_exporter": "python",
   "pygments_lexer": "ipython3",
   "version": "3.5.1"
  }
 },
 "nbformat": 4,
 "nbformat_minor": 0
}
