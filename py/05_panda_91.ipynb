{
 "cells": [
  {
   "cell_type": "code",
   "execution_count": 1,
   "metadata": {
    "collapsed": true
   },
   "outputs": [],
   "source": [
    "#05_panda_91.ipynb\n",
    "#311 Service Requests for 2005 (NYC Open Data)\n",
    "#https://data.cityofnewyork.us/Social-Services/311-Service-Requests-for-2005/sxmw-f24h"
   ]
  },
  {
   "cell_type": "code",
   "execution_count": 2,
   "metadata": {
    "collapsed": true
   },
   "outputs": [],
   "source": [
    "import pandas as pd"
   ]
  },
  {
   "cell_type": "code",
   "execution_count": 3,
   "metadata": {
    "collapsed": false
   },
   "outputs": [
    {
     "name": "stderr",
     "output_type": "stream",
     "text": [
      "E:\\Anaconda3\\lib\\site-packages\\IPython\\core\\interactiveshell.py:2723: DtypeWarning: Columns (7,8,9,10,11,12,13,14,17,18,20,41,42,43,47) have mixed types. Specify dtype option on import or set low_memory=False.\n",
      "  interactivity=interactivity, compiler=compiler, result=result)\n"
     ]
    }
   ],
   "source": [
    "complaints = pd.read_csv('311_Service_Requests_for_2005.csv') #以pd.read_csv() 將資料讀入為 DataFrame 'complaints'"
   ]
  },
  {
   "cell_type": "code",
   "execution_count": 4,
   "metadata": {
    "collapsed": true
   },
   "outputs": [],
   "source": [
    "#which borough has the most noise complaints?"
   ]
  },
  {
   "cell_type": "code",
   "execution_count": 5,
   "metadata": {
    "collapsed": false
   },
   "outputs": [
    {
     "data": {
      "text/html": [
       "<div>\n",
       "<table border=\"1\" class=\"dataframe\">\n",
       "  <thead>\n",
       "    <tr style=\"text-align: right;\">\n",
       "      <th></th>\n",
       "      <th>Unique Key</th>\n",
       "      <th>Created Date</th>\n",
       "      <th>Closed Date</th>\n",
       "      <th>Agency</th>\n",
       "      <th>Agency Name</th>\n",
       "      <th>Complaint Type</th>\n",
       "      <th>Descriptor</th>\n",
       "      <th>Location Type</th>\n",
       "      <th>Incident Zip</th>\n",
       "      <th>Incident Address</th>\n",
       "      <th>...</th>\n",
       "      <th>Bridge Highway Name</th>\n",
       "      <th>Bridge Highway Direction</th>\n",
       "      <th>Road Ramp</th>\n",
       "      <th>Bridge Highway Segment</th>\n",
       "      <th>Garage Lot Name</th>\n",
       "      <th>Ferry Direction</th>\n",
       "      <th>Ferry Terminal Name</th>\n",
       "      <th>Latitude</th>\n",
       "      <th>Longitude</th>\n",
       "      <th>Location</th>\n",
       "    </tr>\n",
       "  </thead>\n",
       "  <tbody>\n",
       "    <tr>\n",
       "      <th>0</th>\n",
       "      <td>2575</td>\n",
       "      <td>10/22/2005 12:00:00 AM</td>\n",
       "      <td>10/28/2005 12:00:00 AM</td>\n",
       "      <td>DOT</td>\n",
       "      <td>Department of Transportation</td>\n",
       "      <td>Street Sign - Damaged</td>\n",
       "      <td>No Parking, Standing, Stopping</td>\n",
       "      <td>Street</td>\n",
       "      <td>10007</td>\n",
       "      <td>NaN</td>\n",
       "      <td>...</td>\n",
       "      <td>NaN</td>\n",
       "      <td>South Bound</td>\n",
       "      <td>NaN</td>\n",
       "      <td>NaN</td>\n",
       "      <td>NaN</td>\n",
       "      <td>NaN</td>\n",
       "      <td>NaN</td>\n",
       "      <td>40.713256</td>\n",
       "      <td>-74.009256</td>\n",
       "      <td>(40.71325594707911, -74.00925599630611)</td>\n",
       "    </tr>\n",
       "    <tr>\n",
       "      <th>1</th>\n",
       "      <td>10663</td>\n",
       "      <td>05/26/2005 12:00:00 AM</td>\n",
       "      <td>05/26/2005 12:00:00 AM</td>\n",
       "      <td>NYPD</td>\n",
       "      <td>New York City Police Department</td>\n",
       "      <td>Homeless Encampment</td>\n",
       "      <td>NaN</td>\n",
       "      <td>NaN</td>\n",
       "      <td>11355</td>\n",
       "      <td>46-06 BOWNE STREET</td>\n",
       "      <td>...</td>\n",
       "      <td>NaN</td>\n",
       "      <td>NaN</td>\n",
       "      <td>NaN</td>\n",
       "      <td>NaN</td>\n",
       "      <td>NaN</td>\n",
       "      <td>NaN</td>\n",
       "      <td>NaN</td>\n",
       "      <td>40.752033</td>\n",
       "      <td>-73.816396</td>\n",
       "      <td>(40.7520333528106, -73.81639635090929)</td>\n",
       "    </tr>\n",
       "    <tr>\n",
       "      <th>2</th>\n",
       "      <td>34746</td>\n",
       "      <td>01/10/2005 12:00:00 AM</td>\n",
       "      <td>01/10/2005 12:00:00 AM</td>\n",
       "      <td>DOT</td>\n",
       "      <td>Department of Transportation</td>\n",
       "      <td>Highway Condition</td>\n",
       "      <td>Dead Animal</td>\n",
       "      <td>Highway</td>\n",
       "      <td>11369</td>\n",
       "      <td>NaN</td>\n",
       "      <td>...</td>\n",
       "      <td>NaN</td>\n",
       "      <td>East Bound</td>\n",
       "      <td>NaN</td>\n",
       "      <td>NaN</td>\n",
       "      <td>NaN</td>\n",
       "      <td>NaN</td>\n",
       "      <td>NaN</td>\n",
       "      <td>40.771910</td>\n",
       "      <td>-73.872786</td>\n",
       "      <td>(40.77191002812788, -73.87278579409514)</td>\n",
       "    </tr>\n",
       "    <tr>\n",
       "      <th>3</th>\n",
       "      <td>34748</td>\n",
       "      <td>01/10/2005 12:00:00 AM</td>\n",
       "      <td>01/10/2005 12:00:00 AM</td>\n",
       "      <td>DOT</td>\n",
       "      <td>Department of Transportation</td>\n",
       "      <td>Street Sign - Damaged</td>\n",
       "      <td>No Parking, Standing, Stopping</td>\n",
       "      <td>Street</td>\n",
       "      <td>10461</td>\n",
       "      <td>2121 EASTCHESTER ROAD</td>\n",
       "      <td>...</td>\n",
       "      <td>NaN</td>\n",
       "      <td>NaN</td>\n",
       "      <td>NaN</td>\n",
       "      <td>NaN</td>\n",
       "      <td>NaN</td>\n",
       "      <td>NaN</td>\n",
       "      <td>NaN</td>\n",
       "      <td>40.856568</td>\n",
       "      <td>-73.843892</td>\n",
       "      <td>(40.85656847727785, -73.84389227231065)</td>\n",
       "    </tr>\n",
       "    <tr>\n",
       "      <th>4</th>\n",
       "      <td>33826</td>\n",
       "      <td>01/02/2005 12:00:00 AM</td>\n",
       "      <td>01/13/2005 12:00:00 AM</td>\n",
       "      <td>DOT</td>\n",
       "      <td>Department of Transportation</td>\n",
       "      <td>Street Sign - Damaged</td>\n",
       "      <td>No Parking, Standing, Stopping</td>\n",
       "      <td>Street</td>\n",
       "      <td>11229</td>\n",
       "      <td>NaN</td>\n",
       "      <td>...</td>\n",
       "      <td>NaN</td>\n",
       "      <td>NaN</td>\n",
       "      <td>NaN</td>\n",
       "      <td>NaN</td>\n",
       "      <td>NaN</td>\n",
       "      <td>NaN</td>\n",
       "      <td>NaN</td>\n",
       "      <td>40.595471</td>\n",
       "      <td>-73.932056</td>\n",
       "      <td>(40.595471402667506, -73.932056378608)</td>\n",
       "    </tr>\n",
       "  </tbody>\n",
       "</table>\n",
       "<p>5 rows × 52 columns</p>\n",
       "</div>"
      ],
      "text/plain": [
       "   Unique Key            Created Date             Closed Date Agency  \\\n",
       "0        2575  10/22/2005 12:00:00 AM  10/28/2005 12:00:00 AM    DOT   \n",
       "1       10663  05/26/2005 12:00:00 AM  05/26/2005 12:00:00 AM   NYPD   \n",
       "2       34746  01/10/2005 12:00:00 AM  01/10/2005 12:00:00 AM    DOT   \n",
       "3       34748  01/10/2005 12:00:00 AM  01/10/2005 12:00:00 AM    DOT   \n",
       "4       33826  01/02/2005 12:00:00 AM  01/13/2005 12:00:00 AM    DOT   \n",
       "\n",
       "                       Agency Name         Complaint Type  \\\n",
       "0     Department of Transportation  Street Sign - Damaged   \n",
       "1  New York City Police Department    Homeless Encampment   \n",
       "2     Department of Transportation      Highway Condition   \n",
       "3     Department of Transportation  Street Sign - Damaged   \n",
       "4     Department of Transportation  Street Sign - Damaged   \n",
       "\n",
       "                       Descriptor Location Type Incident Zip  \\\n",
       "0  No Parking, Standing, Stopping        Street        10007   \n",
       "1                             NaN           NaN        11355   \n",
       "2                     Dead Animal       Highway        11369   \n",
       "3  No Parking, Standing, Stopping        Street        10461   \n",
       "4  No Parking, Standing, Stopping        Street        11229   \n",
       "\n",
       "        Incident Address                   ...                     \\\n",
       "0                    NaN                   ...                      \n",
       "1     46-06 BOWNE STREET                   ...                      \n",
       "2                    NaN                   ...                      \n",
       "3  2121 EASTCHESTER ROAD                   ...                      \n",
       "4                    NaN                   ...                      \n",
       "\n",
       "  Bridge Highway Name Bridge Highway Direction Road Ramp  \\\n",
       "0                 NaN              South Bound       NaN   \n",
       "1                 NaN                      NaN       NaN   \n",
       "2                 NaN               East Bound       NaN   \n",
       "3                 NaN                      NaN       NaN   \n",
       "4                 NaN                      NaN       NaN   \n",
       "\n",
       "  Bridge Highway Segment Garage Lot Name Ferry Direction Ferry Terminal Name  \\\n",
       "0                    NaN             NaN             NaN                 NaN   \n",
       "1                    NaN             NaN             NaN                 NaN   \n",
       "2                    NaN             NaN             NaN                 NaN   \n",
       "3                    NaN             NaN             NaN                 NaN   \n",
       "4                    NaN             NaN             NaN                 NaN   \n",
       "\n",
       "    Latitude  Longitude                                 Location  \n",
       "0  40.713256 -74.009256  (40.71325594707911, -74.00925599630611)  \n",
       "1  40.752033 -73.816396   (40.7520333528106, -73.81639635090929)  \n",
       "2  40.771910 -73.872786  (40.77191002812788, -73.87278579409514)  \n",
       "3  40.856568 -73.843892  (40.85656847727785, -73.84389227231065)  \n",
       "4  40.595471 -73.932056   (40.595471402667506, -73.932056378608)  \n",
       "\n",
       "[5 rows x 52 columns]"
      ]
     },
     "execution_count": 5,
     "metadata": {},
     "output_type": "execute_result"
    }
   ],
   "source": [
    "complaints[:5] #先檢視前5筆資料"
   ]
  },
  {
   "cell_type": "code",
   "execution_count": 6,
   "metadata": {
    "collapsed": true
   },
   "outputs": [],
   "source": [
    "#利用布林陣列將'Complaint Type'為 \"Noise - Street/Sidewalk\"的資料篩出\n",
    "noise_complaints = complaints[complaints['Complaint Type'] == \"Noise - Street/Sidewalk\"]"
   ]
  },
  {
   "cell_type": "code",
   "execution_count": 7,
   "metadata": {
    "collapsed": false
   },
   "outputs": [
    {
     "data": {
      "text/html": [
       "<div>\n",
       "<table border=\"1\" class=\"dataframe\">\n",
       "  <thead>\n",
       "    <tr style=\"text-align: right;\">\n",
       "      <th></th>\n",
       "      <th>Unique Key</th>\n",
       "      <th>Created Date</th>\n",
       "      <th>Closed Date</th>\n",
       "      <th>Agency</th>\n",
       "      <th>Agency Name</th>\n",
       "      <th>Complaint Type</th>\n",
       "      <th>Descriptor</th>\n",
       "      <th>Location Type</th>\n",
       "      <th>Incident Zip</th>\n",
       "      <th>Incident Address</th>\n",
       "      <th>...</th>\n",
       "      <th>Bridge Highway Name</th>\n",
       "      <th>Bridge Highway Direction</th>\n",
       "      <th>Road Ramp</th>\n",
       "      <th>Bridge Highway Segment</th>\n",
       "      <th>Garage Lot Name</th>\n",
       "      <th>Ferry Direction</th>\n",
       "      <th>Ferry Terminal Name</th>\n",
       "      <th>Latitude</th>\n",
       "      <th>Longitude</th>\n",
       "      <th>Location</th>\n",
       "    </tr>\n",
       "  </thead>\n",
       "  <tbody>\n",
       "    <tr>\n",
       "      <th>29</th>\n",
       "      <td>34144</td>\n",
       "      <td>01/01/2005 12:00:00 AM</td>\n",
       "      <td>01/01/2005 12:00:00 AM</td>\n",
       "      <td>NYPD</td>\n",
       "      <td>New York City Police Department</td>\n",
       "      <td>Noise - Street/Sidewalk</td>\n",
       "      <td>NaN</td>\n",
       "      <td>NaN</td>\n",
       "      <td>10016</td>\n",
       "      <td>344 EAST 28 STREET</td>\n",
       "      <td>...</td>\n",
       "      <td>NaN</td>\n",
       "      <td>NaN</td>\n",
       "      <td>NaN</td>\n",
       "      <td>NaN</td>\n",
       "      <td>NaN</td>\n",
       "      <td>NaN</td>\n",
       "      <td>NaN</td>\n",
       "      <td>40.740243</td>\n",
       "      <td>-73.976825</td>\n",
       "      <td>(40.7402431790216, -73.97682537578753)</td>\n",
       "    </tr>\n",
       "    <tr>\n",
       "      <th>168</th>\n",
       "      <td>34777</td>\n",
       "      <td>01/13/2005 12:00:00 AM</td>\n",
       "      <td>01/13/2005 12:00:00 AM</td>\n",
       "      <td>NYPD</td>\n",
       "      <td>New York City Police Department</td>\n",
       "      <td>Noise - Street/Sidewalk</td>\n",
       "      <td>NaN</td>\n",
       "      <td>NaN</td>\n",
       "      <td>10040</td>\n",
       "      <td>711 WEST 190 STREET</td>\n",
       "      <td>...</td>\n",
       "      <td>NaN</td>\n",
       "      <td>NaN</td>\n",
       "      <td>NaN</td>\n",
       "      <td>NaN</td>\n",
       "      <td>NaN</td>\n",
       "      <td>NaN</td>\n",
       "      <td>NaN</td>\n",
       "      <td>40.856572</td>\n",
       "      <td>-73.932961</td>\n",
       "      <td>(40.8565722730407, -73.93296089464994)</td>\n",
       "    </tr>\n",
       "    <tr>\n",
       "      <th>213</th>\n",
       "      <td>36216</td>\n",
       "      <td>01/13/2005 12:00:00 AM</td>\n",
       "      <td>01/13/2005 12:00:00 AM</td>\n",
       "      <td>NYPD</td>\n",
       "      <td>New York City Police Department</td>\n",
       "      <td>Noise - Street/Sidewalk</td>\n",
       "      <td>NaN</td>\n",
       "      <td>NaN</td>\n",
       "      <td>10040</td>\n",
       "      <td>711 WEST 190 STREET</td>\n",
       "      <td>...</td>\n",
       "      <td>NaN</td>\n",
       "      <td>NaN</td>\n",
       "      <td>NaN</td>\n",
       "      <td>NaN</td>\n",
       "      <td>NaN</td>\n",
       "      <td>NaN</td>\n",
       "      <td>NaN</td>\n",
       "      <td>40.856572</td>\n",
       "      <td>-73.932961</td>\n",
       "      <td>(40.8565722730407, -73.93296089464994)</td>\n",
       "    </tr>\n",
       "  </tbody>\n",
       "</table>\n",
       "<p>3 rows × 52 columns</p>\n",
       "</div>"
      ],
      "text/plain": [
       "     Unique Key            Created Date             Closed Date Agency  \\\n",
       "29        34144  01/01/2005 12:00:00 AM  01/01/2005 12:00:00 AM   NYPD   \n",
       "168       34777  01/13/2005 12:00:00 AM  01/13/2005 12:00:00 AM   NYPD   \n",
       "213       36216  01/13/2005 12:00:00 AM  01/13/2005 12:00:00 AM   NYPD   \n",
       "\n",
       "                         Agency Name           Complaint Type Descriptor  \\\n",
       "29   New York City Police Department  Noise - Street/Sidewalk        NaN   \n",
       "168  New York City Police Department  Noise - Street/Sidewalk        NaN   \n",
       "213  New York City Police Department  Noise - Street/Sidewalk        NaN   \n",
       "\n",
       "    Location Type Incident Zip     Incident Address  \\\n",
       "29            NaN        10016   344 EAST 28 STREET   \n",
       "168           NaN        10040  711 WEST 190 STREET   \n",
       "213           NaN        10040  711 WEST 190 STREET   \n",
       "\n",
       "                      ...                   Bridge Highway Name  \\\n",
       "29                    ...                                   NaN   \n",
       "168                   ...                                   NaN   \n",
       "213                   ...                                   NaN   \n",
       "\n",
       "    Bridge Highway Direction Road Ramp Bridge Highway Segment Garage Lot Name  \\\n",
       "29                       NaN       NaN                    NaN             NaN   \n",
       "168                      NaN       NaN                    NaN             NaN   \n",
       "213                      NaN       NaN                    NaN             NaN   \n",
       "\n",
       "    Ferry Direction Ferry Terminal Name   Latitude  Longitude  \\\n",
       "29              NaN                 NaN  40.740243 -73.976825   \n",
       "168             NaN                 NaN  40.856572 -73.932961   \n",
       "213             NaN                 NaN  40.856572 -73.932961   \n",
       "\n",
       "                                   Location  \n",
       "29   (40.7402431790216, -73.97682537578753)  \n",
       "168  (40.8565722730407, -73.93296089464994)  \n",
       "213  (40.8565722730407, -73.93296089464994)  \n",
       "\n",
       "[3 rows x 52 columns]"
      ]
     },
     "execution_count": 7,
     "metadata": {},
     "output_type": "execute_result"
    }
   ],
   "source": [
    "#檢視資料\n",
    "noise_complaints.head(3)"
   ]
  },
  {
   "cell_type": "code",
   "execution_count": 9,
   "metadata": {
    "collapsed": false
   },
   "outputs": [],
   "source": [
    "#合併篩選條件 'Complaint Type'為 \"Noise - Street/Sidewalk\", 'Borough' 為 \"BROOKLYN\"\n",
    "is_noise = complaints['Complaint Type'] == \"Noise - Street/Sidewalk\"\n",
    "in_brooklyn = complaints['Borough'] == \"BROOKLYN\"\n",
    "bln_ns_cmp=complaints[is_noise & in_brooklyn]"
   ]
  },
  {
   "cell_type": "code",
   "execution_count": 10,
   "metadata": {
    "collapsed": false
   },
   "outputs": [
    {
     "data": {
      "text/html": [
       "<div>\n",
       "<table border=\"1\" class=\"dataframe\">\n",
       "  <thead>\n",
       "    <tr style=\"text-align: right;\">\n",
       "      <th></th>\n",
       "      <th>Unique Key</th>\n",
       "      <th>Created Date</th>\n",
       "      <th>Closed Date</th>\n",
       "      <th>Agency</th>\n",
       "      <th>Agency Name</th>\n",
       "      <th>Complaint Type</th>\n",
       "      <th>Descriptor</th>\n",
       "      <th>Location Type</th>\n",
       "      <th>Incident Zip</th>\n",
       "      <th>Incident Address</th>\n",
       "      <th>...</th>\n",
       "      <th>Bridge Highway Name</th>\n",
       "      <th>Bridge Highway Direction</th>\n",
       "      <th>Road Ramp</th>\n",
       "      <th>Bridge Highway Segment</th>\n",
       "      <th>Garage Lot Name</th>\n",
       "      <th>Ferry Direction</th>\n",
       "      <th>Ferry Terminal Name</th>\n",
       "      <th>Latitude</th>\n",
       "      <th>Longitude</th>\n",
       "      <th>Location</th>\n",
       "    </tr>\n",
       "  </thead>\n",
       "  <tbody>\n",
       "    <tr>\n",
       "      <th>1551</th>\n",
       "      <td>51200</td>\n",
       "      <td>05/01/2005 12:00:00 AM</td>\n",
       "      <td>05/01/2005 12:00:00 AM</td>\n",
       "      <td>NYPD</td>\n",
       "      <td>New York City Police Department</td>\n",
       "      <td>Noise - Street/Sidewalk</td>\n",
       "      <td>NaN</td>\n",
       "      <td>NaN</td>\n",
       "      <td>11229</td>\n",
       "      <td>2238 BATCHELDER STREET</td>\n",
       "      <td>...</td>\n",
       "      <td>NaN</td>\n",
       "      <td>NaN</td>\n",
       "      <td>NaN</td>\n",
       "      <td>NaN</td>\n",
       "      <td>NaN</td>\n",
       "      <td>NaN</td>\n",
       "      <td>NaN</td>\n",
       "      <td>40.597608</td>\n",
       "      <td>-73.938457</td>\n",
       "      <td>(40.59760771738077, -73.93845664500834)</td>\n",
       "    </tr>\n",
       "    <tr>\n",
       "      <th>1639</th>\n",
       "      <td>50863</td>\n",
       "      <td>04/29/2005 12:00:00 AM</td>\n",
       "      <td>04/30/2005 12:00:00 AM</td>\n",
       "      <td>NYPD</td>\n",
       "      <td>New York City Police Department</td>\n",
       "      <td>Noise - Street/Sidewalk</td>\n",
       "      <td>NaN</td>\n",
       "      <td>NaN</td>\n",
       "      <td>11229</td>\n",
       "      <td>2334 BATCHELDER STREET</td>\n",
       "      <td>...</td>\n",
       "      <td>NaN</td>\n",
       "      <td>NaN</td>\n",
       "      <td>NaN</td>\n",
       "      <td>NaN</td>\n",
       "      <td>NaN</td>\n",
       "      <td>NaN</td>\n",
       "      <td>NaN</td>\n",
       "      <td>40.595403</td>\n",
       "      <td>-73.938037</td>\n",
       "      <td>(40.59540341849194, -73.93803738264862)</td>\n",
       "    </tr>\n",
       "    <tr>\n",
       "      <th>6786</th>\n",
       "      <td>42098</td>\n",
       "      <td>03/10/2005 12:00:00 AM</td>\n",
       "      <td>03/10/2005 12:00:00 AM</td>\n",
       "      <td>NYPD</td>\n",
       "      <td>New York City Police Department</td>\n",
       "      <td>Noise - Street/Sidewalk</td>\n",
       "      <td>NaN</td>\n",
       "      <td>NaN</td>\n",
       "      <td>11218</td>\n",
       "      <td>135 OCEAN PARKWAY</td>\n",
       "      <td>...</td>\n",
       "      <td>NaN</td>\n",
       "      <td>NaN</td>\n",
       "      <td>NaN</td>\n",
       "      <td>NaN</td>\n",
       "      <td>NaN</td>\n",
       "      <td>NaN</td>\n",
       "      <td>NaN</td>\n",
       "      <td>40.646912</td>\n",
       "      <td>-73.974501</td>\n",
       "      <td>(40.646912328402706, -73.9745010500182)</td>\n",
       "    </tr>\n",
       "    <tr>\n",
       "      <th>6838</th>\n",
       "      <td>40218</td>\n",
       "      <td>02/22/2005 12:00:00 AM</td>\n",
       "      <td>02/22/2005 12:00:00 AM</td>\n",
       "      <td>NYPD</td>\n",
       "      <td>New York City Police Department</td>\n",
       "      <td>Noise - Street/Sidewalk</td>\n",
       "      <td>NaN</td>\n",
       "      <td>NaN</td>\n",
       "      <td>11218</td>\n",
       "      <td>640 EAST 2 STREET</td>\n",
       "      <td>...</td>\n",
       "      <td>NaN</td>\n",
       "      <td>NaN</td>\n",
       "      <td>NaN</td>\n",
       "      <td>NaN</td>\n",
       "      <td>NaN</td>\n",
       "      <td>NaN</td>\n",
       "      <td>NaN</td>\n",
       "      <td>40.635209</td>\n",
       "      <td>-73.976808</td>\n",
       "      <td>(40.63520905038415, -73.97680780734935)</td>\n",
       "    </tr>\n",
       "    <tr>\n",
       "      <th>7737</th>\n",
       "      <td>63075</td>\n",
       "      <td>07/05/2005 12:00:00 AM</td>\n",
       "      <td>07/05/2005 12:00:00 AM</td>\n",
       "      <td>NYPD</td>\n",
       "      <td>New York City Police Department</td>\n",
       "      <td>Noise - Street/Sidewalk</td>\n",
       "      <td>NaN</td>\n",
       "      <td>NaN</td>\n",
       "      <td>11234</td>\n",
       "      <td>835 EAST 55 STREET</td>\n",
       "      <td>...</td>\n",
       "      <td>NaN</td>\n",
       "      <td>NaN</td>\n",
       "      <td>NaN</td>\n",
       "      <td>NaN</td>\n",
       "      <td>NaN</td>\n",
       "      <td>NaN</td>\n",
       "      <td>NaN</td>\n",
       "      <td>40.636811</td>\n",
       "      <td>-73.923933</td>\n",
       "      <td>(40.63681114298799, -73.92393267326135)</td>\n",
       "    </tr>\n",
       "  </tbody>\n",
       "</table>\n",
       "<p>5 rows × 52 columns</p>\n",
       "</div>"
      ],
      "text/plain": [
       "      Unique Key            Created Date             Closed Date Agency  \\\n",
       "1551       51200  05/01/2005 12:00:00 AM  05/01/2005 12:00:00 AM   NYPD   \n",
       "1639       50863  04/29/2005 12:00:00 AM  04/30/2005 12:00:00 AM   NYPD   \n",
       "6786       42098  03/10/2005 12:00:00 AM  03/10/2005 12:00:00 AM   NYPD   \n",
       "6838       40218  02/22/2005 12:00:00 AM  02/22/2005 12:00:00 AM   NYPD   \n",
       "7737       63075  07/05/2005 12:00:00 AM  07/05/2005 12:00:00 AM   NYPD   \n",
       "\n",
       "                          Agency Name           Complaint Type Descriptor  \\\n",
       "1551  New York City Police Department  Noise - Street/Sidewalk        NaN   \n",
       "1639  New York City Police Department  Noise - Street/Sidewalk        NaN   \n",
       "6786  New York City Police Department  Noise - Street/Sidewalk        NaN   \n",
       "6838  New York City Police Department  Noise - Street/Sidewalk        NaN   \n",
       "7737  New York City Police Department  Noise - Street/Sidewalk        NaN   \n",
       "\n",
       "     Location Type Incident Zip        Incident Address  \\\n",
       "1551           NaN        11229  2238 BATCHELDER STREET   \n",
       "1639           NaN        11229  2334 BATCHELDER STREET   \n",
       "6786           NaN        11218       135 OCEAN PARKWAY   \n",
       "6838           NaN        11218       640 EAST 2 STREET   \n",
       "7737           NaN        11234      835 EAST 55 STREET   \n",
       "\n",
       "                       ...                    Bridge Highway Name  \\\n",
       "1551                   ...                                    NaN   \n",
       "1639                   ...                                    NaN   \n",
       "6786                   ...                                    NaN   \n",
       "6838                   ...                                    NaN   \n",
       "7737                   ...                                    NaN   \n",
       "\n",
       "     Bridge Highway Direction Road Ramp Bridge Highway Segment  \\\n",
       "1551                      NaN       NaN                    NaN   \n",
       "1639                      NaN       NaN                    NaN   \n",
       "6786                      NaN       NaN                    NaN   \n",
       "6838                      NaN       NaN                    NaN   \n",
       "7737                      NaN       NaN                    NaN   \n",
       "\n",
       "     Garage Lot Name Ferry Direction Ferry Terminal Name   Latitude  \\\n",
       "1551             NaN             NaN                 NaN  40.597608   \n",
       "1639             NaN             NaN                 NaN  40.595403   \n",
       "6786             NaN             NaN                 NaN  40.646912   \n",
       "6838             NaN             NaN                 NaN  40.635209   \n",
       "7737             NaN             NaN                 NaN  40.636811   \n",
       "\n",
       "      Longitude                                 Location  \n",
       "1551 -73.938457  (40.59760771738077, -73.93845664500834)  \n",
       "1639 -73.938037  (40.59540341849194, -73.93803738264862)  \n",
       "6786 -73.974501  (40.646912328402706, -73.9745010500182)  \n",
       "6838 -73.976808  (40.63520905038415, -73.97680780734935)  \n",
       "7737 -73.923933  (40.63681114298799, -73.92393267326135)  \n",
       "\n",
       "[5 rows x 52 columns]"
      ]
     },
     "execution_count": 10,
     "metadata": {},
     "output_type": "execute_result"
    }
   ],
   "source": [
    "bln_ns_cmp[:5]"
   ]
  },
  {
   "cell_type": "code",
   "execution_count": 11,
   "metadata": {
    "collapsed": false
   },
   "outputs": [
    {
     "data": {
      "text/html": [
       "<div>\n",
       "<table border=\"1\" class=\"dataframe\">\n",
       "  <thead>\n",
       "    <tr style=\"text-align: right;\">\n",
       "      <th></th>\n",
       "      <th>Created Date</th>\n",
       "      <th>Complaint Type</th>\n",
       "      <th>Borough</th>\n",
       "    </tr>\n",
       "  </thead>\n",
       "  <tbody>\n",
       "    <tr>\n",
       "      <th>1551</th>\n",
       "      <td>05/01/2005 12:00:00 AM</td>\n",
       "      <td>Noise - Street/Sidewalk</td>\n",
       "      <td>BROOKLYN</td>\n",
       "    </tr>\n",
       "    <tr>\n",
       "      <th>1639</th>\n",
       "      <td>04/29/2005 12:00:00 AM</td>\n",
       "      <td>Noise - Street/Sidewalk</td>\n",
       "      <td>BROOKLYN</td>\n",
       "    </tr>\n",
       "    <tr>\n",
       "      <th>6786</th>\n",
       "      <td>03/10/2005 12:00:00 AM</td>\n",
       "      <td>Noise - Street/Sidewalk</td>\n",
       "      <td>BROOKLYN</td>\n",
       "    </tr>\n",
       "    <tr>\n",
       "      <th>6838</th>\n",
       "      <td>02/22/2005 12:00:00 AM</td>\n",
       "      <td>Noise - Street/Sidewalk</td>\n",
       "      <td>BROOKLYN</td>\n",
       "    </tr>\n",
       "    <tr>\n",
       "      <th>7737</th>\n",
       "      <td>07/05/2005 12:00:00 AM</td>\n",
       "      <td>Noise - Street/Sidewalk</td>\n",
       "      <td>BROOKLYN</td>\n",
       "    </tr>\n",
       "  </tbody>\n",
       "</table>\n",
       "</div>"
      ],
      "text/plain": [
       "                Created Date           Complaint Type   Borough\n",
       "1551  05/01/2005 12:00:00 AM  Noise - Street/Sidewalk  BROOKLYN\n",
       "1639  04/29/2005 12:00:00 AM  Noise - Street/Sidewalk  BROOKLYN\n",
       "6786  03/10/2005 12:00:00 AM  Noise - Street/Sidewalk  BROOKLYN\n",
       "6838  02/22/2005 12:00:00 AM  Noise - Street/Sidewalk  BROOKLYN\n",
       "7737  07/05/2005 12:00:00 AM  Noise - Street/Sidewalk  BROOKLYN"
      ]
     },
     "execution_count": 11,
     "metadata": {},
     "output_type": "execute_result"
    }
   ],
   "source": [
    "bln_ns_cmp[:5][['Created Date','Complaint Type','Borough',]]"
   ]
  },
  {
   "cell_type": "code",
   "execution_count": 12,
   "metadata": {
    "collapsed": true
   },
   "outputs": [],
   "source": [
    "#which borough has the most noise complaints?"
   ]
  },
  {
   "cell_type": "code",
   "execution_count": 13,
   "metadata": {
    "collapsed": false
   },
   "outputs": [
    {
     "data": {
      "text/plain": [
       "BROOKLYN         17228\n",
       "MANHATTAN        16690\n",
       "QUEENS           10820\n",
       "BRONX            10334\n",
       "STATEN ISLAND     1932\n",
       "Unspecified         31\n",
       "Name: Borough, dtype: int64"
      ]
     },
     "execution_count": 13,
     "metadata": {},
     "output_type": "execute_result"
    }
   ],
   "source": [
    "is_noise = complaints['Complaint Type'] == \"Noise - Street/Sidewalk\"\n",
    "noise_complaints = complaints[is_noise]\n",
    "noise_complaints['Borough'].value_counts()"
   ]
  },
  {
   "cell_type": "code",
   "execution_count": 14,
   "metadata": {
    "collapsed": true
   },
   "outputs": [],
   "source": [
    "#divide by the total number of complaints"
   ]
  },
  {
   "cell_type": "code",
   "execution_count": 15,
   "metadata": {
    "collapsed": true
   },
   "outputs": [],
   "source": [
    "noise_complaint_counts = noise_complaints['Borough'].value_counts()"
   ]
  },
  {
   "cell_type": "code",
   "execution_count": 16,
   "metadata": {
    "collapsed": false
   },
   "outputs": [
    {
     "data": {
      "text/plain": [
       "BROOKLYN         17228\n",
       "MANHATTAN        16690\n",
       "QUEENS           10820\n",
       "BRONX            10334\n",
       "STATEN ISLAND     1932\n",
       "Unspecified         31\n",
       "Name: Borough, dtype: int64"
      ]
     },
     "execution_count": 16,
     "metadata": {},
     "output_type": "execute_result"
    }
   ],
   "source": [
    "noise_complaint_counts #分區噪音類抱怨計數排行"
   ]
  },
  {
   "cell_type": "code",
   "execution_count": 17,
   "metadata": {
    "collapsed": true
   },
   "outputs": [],
   "source": [
    "complaint_counts = complaints['Borough'].value_counts()"
   ]
  },
  {
   "cell_type": "code",
   "execution_count": 18,
   "metadata": {
    "collapsed": false
   },
   "outputs": [
    {
     "data": {
      "text/plain": [
       "Unspecified      731733\n",
       "QUEENS           317203\n",
       "BROOKLYN         303429\n",
       "MANHATTAN        217737\n",
       "BRONX            141380\n",
       "STATEN ISLAND     82292\n",
       "Name: Borough, dtype: int64"
      ]
     },
     "execution_count": 18,
     "metadata": {},
     "output_type": "execute_result"
    }
   ],
   "source": [
    "complaint_counts  #分區抱怨數排行"
   ]
  },
  {
   "cell_type": "code",
   "execution_count": 19,
   "metadata": {
    "collapsed": false
   },
   "outputs": [
    {
     "data": {
      "text/plain": [
       "BRONX            0.073094\n",
       "BROOKLYN         0.056778\n",
       "MANHATTAN        0.076652\n",
       "QUEENS           0.034111\n",
       "STATEN ISLAND    0.023477\n",
       "Unspecified      0.000042\n",
       "Name: Borough, dtype: float64"
      ]
     },
     "execution_count": 19,
     "metadata": {},
     "output_type": "execute_result"
    }
   ],
   "source": [
    "#分區噪音抱怨數占總抱怨數百分比 (計算時 會 index 自動對齊)\n",
    "noise_complaint_counts / complaint_counts.astype(float)"
   ]
  },
  {
   "cell_type": "code",
   "execution_count": 20,
   "metadata": {
    "collapsed": true
   },
   "outputs": [],
   "source": [
    "%matplotlib inline"
   ]
  },
  {
   "cell_type": "code",
   "execution_count": 22,
   "metadata": {
    "collapsed": false
   },
   "outputs": [
    {
     "data": {
      "text/plain": [
       "<matplotlib.axes._subplots.AxesSubplot at 0x624bfd0>"
      ]
     },
     "execution_count": 22,
     "metadata": {},
     "output_type": "execute_result"
    },
    {
     "data": {
      "image/png": "[encoded data removed]",
      "text/plain": [
       "<matplotlib.figure.Figure at 0x628eb00>"
      ]
     },
     "metadata": {},
     "output_type": "display_data"
    }
   ],
   "source": [
    "#繪圖展示\n",
    "(noise_complaint_counts / complaint_counts.astype(float)).plot(kind='bar')"
   ]
  },
  {
   "cell_type": "code",
   "execution_count": null,
   "metadata": {
    "collapsed": true
   },
   "outputs": [],
   "source": []
  }
 ],
 "metadata": {
  "kernelspec": {
   "display_name": "Python 3",
   "language": "python",
   "name": "python3"
  },
  "language_info": {
   "codemirror_mode": {
    "name": "ipython",
    "version": 3
   },
   "file_extension": ".py",
   "mimetype": "text/x-python",
   "name": "python",
   "nbconvert_exporter": "python",
   "pygments_lexer": "ipython3",
   "version": "3.5.2"
  }
 },
 "nbformat": 4,
 "nbformat_minor": 0
}
