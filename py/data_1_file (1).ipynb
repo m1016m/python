{
 "cells": [
  {
   "cell_type": "code",
   "execution_count": 1,
   "metadata": {
    "collapsed": true
   },
   "outputs": [],
   "source": [
    "#data_1_file"
   ]
  },
  {
   "cell_type": "code",
   "execution_count": 2,
   "metadata": {
    "collapsed": true
   },
   "outputs": [],
   "source": [
    "#example:"
   ]
  },
  {
   "cell_type": "code",
   "execution_count": 3,
   "metadata": {
    "collapsed": true
   },
   "outputs": [],
   "source": [
    "poem='''There was a young lady named Bright,   \n",
    "Whose speed was far faster then light;\n",
    "She started one day\n",
    "In a relative way,\n",
    "And returned on the previous night.'''       #宣告一首相對論打油詩"
   ]
  },
  {
   "cell_type": "code",
   "execution_count": 4,
   "metadata": {
    "collapsed": false
   },
   "outputs": [
    {
     "name": "stdout",
     "output_type": "stream",
     "text": [
      "相對論打油詩長度為: 153\n"
     ]
    }
   ],
   "source": [
    "print('相對論打油詩長度為:',len(poem)) "
   ]
  },
  {
   "cell_type": "code",
   "execution_count": 5,
   "metadata": {
    "collapsed": true
   },
   "outputs": [],
   "source": [
    "#開啟(建立)file relative,並將poem寫入後關閉檔案,write()"
   ]
  },
  {
   "cell_type": "code",
   "execution_count": 6,
   "metadata": {
    "collapsed": true
   },
   "outputs": [],
   "source": [
    "fout=open('relative','wt') #呼叫open(), filename:relative, t:文字, w:寫入"
   ]
  },
  {
   "cell_type": "code",
   "execution_count": 7,
   "metadata": {
    "collapsed": false
   },
   "outputs": [
    {
     "data": {
      "text/plain": [
       "153"
      ]
     },
     "execution_count": 7,
     "metadata": {},
     "output_type": "execute_result"
    }
   ],
   "source": [
    "fout.write(poem) #將相對論打油詩寫到file relative"
   ]
  },
  {
   "cell_type": "code",
   "execution_count": 8,
   "metadata": {
    "collapsed": true
   },
   "outputs": [],
   "source": [
    "fout.close() #關閉檔案"
   ]
  },
  {
   "cell_type": "code",
   "execution_count": 9,
   "metadata": {
    "collapsed": true
   },
   "outputs": [],
   "source": [
    "#以記事本開啟file relative 驗證"
   ]
  },
  {
   "cell_type": "code",
   "execution_count": 10,
   "metadata": {
    "collapsed": true
   },
   "outputs": [],
   "source": [
    "#讀取文字檔,read(),readline(),readlines()"
   ]
  },
  {
   "cell_type": "code",
   "execution_count": 11,
   "metadata": {
    "collapsed": true
   },
   "outputs": [],
   "source": [
    "#read(),一次取出整個檔案"
   ]
  },
  {
   "cell_type": "code",
   "execution_count": 12,
   "metadata": {
    "collapsed": true
   },
   "outputs": [],
   "source": [
    "fin=open('relative','rt') #file handler 'fin', 開啟 relative"
   ]
  },
  {
   "cell_type": "code",
   "execution_count": 13,
   "metadata": {
    "collapsed": true
   },
   "outputs": [],
   "source": [
    "poem_r=fin.read()         #讀取整個relative file"
   ]
  },
  {
   "cell_type": "code",
   "execution_count": 14,
   "metadata": {
    "collapsed": true
   },
   "outputs": [],
   "source": [
    "fin.close()               #關閉檔案 "
   ]
  },
  {
   "cell_type": "code",
   "execution_count": 15,
   "metadata": {
    "collapsed": false
   },
   "outputs": [
    {
     "name": "stdout",
     "output_type": "stream",
     "text": [
      "以下是測試結果:\n",
      "There was a young lady named Bright,   \n",
      "Whose speed was far faster then light;\n",
      "She started one day\n",
      "In a relative way,\n",
      "And returned on the previous night.\n"
     ]
    }
   ],
   "source": [
    "print('以下是測試結果:')\n",
    "print(poem_r) #測試"
   ]
  },
  {
   "cell_type": "code",
   "execution_count": 16,
   "metadata": {
    "collapsed": true
   },
   "outputs": [],
   "source": [
    "#上例中,read()將一次取出整個檔案放在MM中,1GB的file就會用掉1GB的MM\n",
    "#使用read(num),來限制每次回傳的數量為num"
   ]
  },
  {
   "cell_type": "code",
   "execution_count": 17,
   "metadata": {
    "collapsed": true
   },
   "outputs": [],
   "source": [
    "poem2='' #宣告一個空字串poem2"
   ]
  },
  {
   "cell_type": "code",
   "execution_count": 18,
   "metadata": {
    "collapsed": true
   },
   "outputs": [],
   "source": [
    "fin2=open('relative','rt') #file handler fin2, r:read"
   ]
  },
  {
   "cell_type": "code",
   "execution_count": 19,
   "metadata": {
    "collapsed": true
   },
   "outputs": [],
   "source": [
    "num=100 #設定每次讀取字數"
   ]
  },
  {
   "cell_type": "code",
   "execution_count": 20,
   "metadata": {
    "collapsed": true
   },
   "outputs": [],
   "source": [
    "while True:                  #每次讀100個字,加到poem2\n",
    "    fragment = fin2.read(num)\n",
    "    if not fragment:         #當讀到結尾read()會回傳空字串'',它會被視為False    \n",
    "        break\n",
    "    poem2+=fragment"
   ]
  },
  {
   "cell_type": "code",
   "execution_count": 21,
   "metadata": {
    "collapsed": true
   },
   "outputs": [],
   "source": [
    "fin2.close() #關閉檔案"
   ]
  },
  {
   "cell_type": "code",
   "execution_count": 22,
   "metadata": {
    "collapsed": false
   },
   "outputs": [
    {
     "name": "stdout",
     "output_type": "stream",
     "text": [
      "分次讀取:\n",
      "There was a young lady named Bright,   \n",
      "Whose speed was far faster then light;\n",
      "She started one day\n",
      "In a relative way,\n",
      "And returned on the previous night.\n"
     ]
    }
   ],
   "source": [
    "print('分次讀取:')\n",
    "print(poem2)"
   ]
  },
  {
   "cell_type": "code",
   "execution_count": 23,
   "metadata": {
    "collapsed": true
   },
   "outputs": [],
   "source": [
    "#使用一個迭代器一次傳回一行,重作上例:"
   ]
  },
  {
   "cell_type": "code",
   "execution_count": 24,
   "metadata": {
    "collapsed": false
   },
   "outputs": [
    {
     "name": "stdout",
     "output_type": "stream",
     "text": [
      "以迭代器逐行讀取:\n",
      "There was a young lady named Bright,   \n",
      "Whose speed was far faster then light;\n",
      "She started one day\n",
      "In a relative way,\n",
      "And returned on the previous night.\n"
     ]
    }
   ],
   "source": [
    "poem3=''\n",
    "fin3=open('relative','rt')\n",
    "\n",
    "for line in fin3:\n",
    "    poem3+=line\n",
    "\n",
    "fin3.close()\n",
    "\n",
    "print('以迭代器逐行讀取:')\n",
    "print(poem3)"
   ]
  },
  {
   "cell_type": "code",
   "execution_count": 25,
   "metadata": {
    "collapsed": true
   },
   "outputs": [],
   "source": [
    "#練習1: 將poem與poem2相加為 poem4, 將 poem4 寫至file relative2"
   ]
  },
  {
   "cell_type": "code",
   "execution_count": 26,
   "metadata": {
    "collapsed": true
   },
   "outputs": [],
   "source": [
    "#練習2: 將 file relative2 逐行讀出到字串 poem6"
   ]
  },
  {
   "cell_type": "code",
   "execution_count": null,
   "metadata": {
    "collapsed": true
   },
   "outputs": [],
   "source": []
  }
 ],
 "metadata": {
  "kernelspec": {
   "display_name": "Python [default]",
   "language": "python",
   "name": "python3"
  },
  "language_info": {
   "codemirror_mode": {
    "name": "ipython",
    "version": 3
   },
   "file_extension": ".py",
   "mimetype": "text/x-python",
   "name": "python",
   "nbconvert_exporter": "python",
   "pygments_lexer": "ipython3",
   "version": "3.5.2"
  }
 },
 "nbformat": 4,
 "nbformat_minor": 0
}
