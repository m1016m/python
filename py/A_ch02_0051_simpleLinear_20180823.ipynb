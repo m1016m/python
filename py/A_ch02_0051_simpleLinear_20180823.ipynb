{
 "cells": [
  {
   "cell_type": "code",
   "execution_count": 1,
   "metadata": {
    "collapsed": true
   },
   "outputs": [],
   "source": [
    "#A_ch02_0051_simpleLinear_20180823.ipynb\n",
    "#以scikit-learn 實作 simple linear regression (Diamond price)"
   ]
  },
  {
   "cell_type": "code",
   "execution_count": 2,
   "metadata": {},
   "outputs": [
    {
     "name": "stdout",
     "output_type": "stream",
     "text": [
      "carats,price\n",
      "1.01,7366\n",
      "0.49,985\n",
      "0.31,544\n",
      "1.51,9140\n",
      "0.37,493\n",
      "0.73,3011\n",
      "1.53,11413\n",
      "0.56,1814\n",
      "0.41,876\n",
      "0.74,2690\n",
      "0.63,1991\n",
      "0.6,4172\n",
      "2.06,11764\n",
      "1.1,4682\n",
      "2.02,15996\n",
      "0.34,695\n"
     ]
    }
   ],
   "source": [
    "#step 0: 檢視資料 carats.csv 就是excel的csv档案\n",
    "!type carats.csv"
   ]
  },
  {
   "cell_type": "code",
   "execution_count": 3,
   "metadata": {
    "collapsed": true
   },
   "outputs": [],
   "source": [
    "#step 1: 準備資料\n",
    "import pandas as pd\n",
    "import numpy as np"
   ]
  },
  {
   "cell_type": "code",
   "execution_count": 4,
   "metadata": {
    "collapsed": true
   },
   "outputs": [],
   "source": [
    "#step 1.1: 以pandas.read_csv()\n",
    "#讀取 csv檔,成為DataFrame 'df1'\n",
    "df1=pd.read_csv('carats.csv')"
   ]
  },
  {
   "cell_type": "code",
   "execution_count": 5,
   "metadata": {},
   "outputs": [
    {
     "data": {
      "text/html": [
       "<div>\n",
       "<table border=\"1\" class=\"dataframe\">\n",
       "  <thead>\n",
       "    <tr style=\"text-align: right;\">\n",
       "      <th></th>\n",
       "      <th>carats</th>\n",
       "      <th>price</th>\n",
       "    </tr>\n",
       "  </thead>\n",
       "  <tbody>\n",
       "    <tr>\n",
       "      <th>0</th>\n",
       "      <td>1.01</td>\n",
       "      <td>7366</td>\n",
       "    </tr>\n",
       "    <tr>\n",
       "      <th>1</th>\n",
       "      <td>0.49</td>\n",
       "      <td>985</td>\n",
       "    </tr>\n",
       "    <tr>\n",
       "      <th>2</th>\n",
       "      <td>0.31</td>\n",
       "      <td>544</td>\n",
       "    </tr>\n",
       "    <tr>\n",
       "      <th>3</th>\n",
       "      <td>1.51</td>\n",
       "      <td>9140</td>\n",
       "    </tr>\n",
       "    <tr>\n",
       "      <th>4</th>\n",
       "      <td>0.37</td>\n",
       "      <td>493</td>\n",
       "    </tr>\n",
       "    <tr>\n",
       "      <th>5</th>\n",
       "      <td>0.73</td>\n",
       "      <td>3011</td>\n",
       "    </tr>\n",
       "    <tr>\n",
       "      <th>6</th>\n",
       "      <td>1.53</td>\n",
       "      <td>11413</td>\n",
       "    </tr>\n",
       "    <tr>\n",
       "      <th>7</th>\n",
       "      <td>0.56</td>\n",
       "      <td>1814</td>\n",
       "    </tr>\n",
       "    <tr>\n",
       "      <th>8</th>\n",
       "      <td>0.41</td>\n",
       "      <td>876</td>\n",
       "    </tr>\n",
       "    <tr>\n",
       "      <th>9</th>\n",
       "      <td>0.74</td>\n",
       "      <td>2690</td>\n",
       "    </tr>\n",
       "    <tr>\n",
       "      <th>10</th>\n",
       "      <td>0.63</td>\n",
       "      <td>1991</td>\n",
       "    </tr>\n",
       "    <tr>\n",
       "      <th>11</th>\n",
       "      <td>0.60</td>\n",
       "      <td>4172</td>\n",
       "    </tr>\n",
       "    <tr>\n",
       "      <th>12</th>\n",
       "      <td>2.06</td>\n",
       "      <td>11764</td>\n",
       "    </tr>\n",
       "    <tr>\n",
       "      <th>13</th>\n",
       "      <td>1.10</td>\n",
       "      <td>4682</td>\n",
       "    </tr>\n",
       "    <tr>\n",
       "      <th>14</th>\n",
       "      <td>2.02</td>\n",
       "      <td>15996</td>\n",
       "    </tr>\n",
       "    <tr>\n",
       "      <th>15</th>\n",
       "      <td>0.34</td>\n",
       "      <td>695</td>\n",
       "    </tr>\n",
       "  </tbody>\n",
       "</table>\n",
       "</div>"
      ],
      "text/plain": [
       "    carats  price\n",
       "0     1.01   7366\n",
       "1     0.49    985\n",
       "2     0.31    544\n",
       "3     1.51   9140\n",
       "4     0.37    493\n",
       "5     0.73   3011\n",
       "6     1.53  11413\n",
       "7     0.56   1814\n",
       "8     0.41    876\n",
       "9     0.74   2690\n",
       "10    0.63   1991\n",
       "11    0.60   4172\n",
       "12    2.06  11764\n",
       "13    1.10   4682\n",
       "14    2.02  15996\n",
       "15    0.34    695"
      ]
     },
     "execution_count": 5,
     "metadata": {},
     "output_type": "execute_result"
    }
   ],
   "source": [
    "#step 1.2: 檢視 df1\n",
    "df1"
   ]
  },
  {
   "cell_type": "code",
   "execution_count": 6,
   "metadata": {
    "collapsed": true
   },
   "outputs": [],
   "source": [
    "#step 1.3: feature X ,df1.carats\n",
    "#          target y, df1.price\n",
    "X=df1.carats.values\n",
    "y=df1.price.values"
   ]
  },
  {
   "cell_type": "code",
   "execution_count": 7,
   "metadata": {},
   "outputs": [
    {
     "data": {
      "text/plain": [
       "array([ 1.01,  0.49,  0.31,  1.51,  0.37,  0.73,  1.53,  0.56,  0.41,\n",
       "        0.74,  0.63,  0.6 ,  2.06,  1.1 ,  2.02,  0.34])"
      ]
     },
     "execution_count": 7,
     "metadata": {},
     "output_type": "execute_result"
    }
   ],
   "source": [
    "#step 1.4: 檢視 X,y\n",
    "X"
   ]
  },
  {
   "cell_type": "code",
   "execution_count": 8,
   "metadata": {},
   "outputs": [
    {
     "data": {
      "text/plain": [
       "array([ 7366,   985,   544,  9140,   493,  3011, 11413,  1814,   876,\n",
       "        2690,  1991,  4172, 11764,  4682, 15996,   695], dtype=int64)"
      ]
     },
     "execution_count": 8,
     "metadata": {},
     "output_type": "execute_result"
    }
   ],
   "source": [
    "y"
   ]
  },
  {
   "cell_type": "code",
   "execution_count": 9,
   "metadata": {
    "collapsed": true
   },
   "outputs": [],
   "source": [
    "#step 1.5:Reshape your data\n",
    "#         either using X.reshape(-1, 1) if your data has a single feature\n",
    "#         or X.reshape(1, -1) if it contains a single sample.\n",
    "X_train=X.reshape(-1,1)"
   ]
  },
  {
   "cell_type": "code",
   "execution_count": 10,
   "metadata": {},
   "outputs": [
    {
     "data": {
      "text/plain": [
       "(16, 1)"
      ]
     },
     "execution_count": 10,
     "metadata": {},
     "output_type": "execute_result"
    }
   ],
   "source": [
    "#檢視 X.shape\n",
    "X_train.shape"
   ]
  },
  {
   "cell_type": "code",
   "execution_count": 11,
   "metadata": {
    "collapsed": true
   },
   "outputs": [],
   "source": [
    "#step 2: 塑模 LinearRegression 'lrModel'\n",
    "from sklearn.linear_model import LinearRegression\n",
    "lrModel=LinearRegression()"
   ]
  },
  {
   "cell_type": "code",
   "execution_count": 12,
   "metadata": {},
   "outputs": [
    {
     "data": {
      "text/plain": [
       "LinearRegression(copy_X=True, fit_intercept=True, n_jobs=1, normalize=False)"
      ]
     },
     "execution_count": 12,
     "metadata": {},
     "output_type": "execute_result"
    }
   ],
   "source": [
    "#step 3: fitting, 使用 X, y\n",
    "lrModel.fit(X_train,y)"
   ]
  },
  {
   "cell_type": "code",
   "execution_count": 13,
   "metadata": {},
   "outputs": [
    {
     "name": "stdout",
     "output_type": "stream",
     "text": [
      "斜率(.coef_)= 8006.58191956      截距(.intercept_)= -2358.9278413\n"
     ]
    }
   ],
   "source": [
    "#step 3.1 : 檢視模型的 \"斜率\" (.coef_) 與 \"截距\" (.intercept_)\n",
    "print(\"斜率(.coef_)=\",lrModel.coef_[0],\"     截距(.intercept_)=\",lrModel.intercept_)"
   ]
  },
  {
   "cell_type": "code",
   "execution_count": 14,
   "metadata": {},
   "outputs": [
    {
     "name": "stdout",
     "output_type": "stream",
     "text": [
      "  0.85 克拉鑽石,價格約為:    4446.67\n"
     ]
    }
   ],
   "source": [
    "#step 4: predict, 預測 0.85 克拉鑽石的價格\n",
    "carats=0.85\n",
    "print(\"{0:6.2f} 克拉鑽石,價格約為: {1:10.2f}\".format(carats,lrModel.predict(carats)[0]))"
   ]
  },
  {
   "cell_type": "code",
   "execution_count": 15,
   "metadata": {
    "collapsed": true
   },
   "outputs": [],
   "source": [
    "#step 5: 繪圖展示\n",
    "import matplotlib.pyplot as plt\n",
    "%matplotlib inline"
   ]
  },
  {
   "cell_type": "code",
   "execution_count": 16,
   "metadata": {},
   "outputs": [
    {
     "data": {
      "text/plain": [
       "[<matplotlib.lines.Line2D at 0xb33e198>]"
      ]
     },
     "execution_count": 16,
     "metadata": {},
     "output_type": "execute_result"
    },
    {
     "data": {
      "image/png": "[encoded data removed]",
      "text/plain": [
       "<matplotlib.figure.Figure at 0xb2bbbe0>"
      ]
     },
     "metadata": {},
     "output_type": "display_data"
    }
   ],
   "source": [
    "plt.plot(X,y,'ro') #'ro', r--> red, o--> 圈圈; 你可以試試 'g^'\n",
    "plt.ylim(0,18000)\n",
    "plt.xlabel(\"weight (carats)\")  #Feature X\n",
    "plt.ylabel(\"Price (US$)\")   #Label y\n",
    "line = np.linspace(0, 3, num=100).reshape(-1, 1)  #以np.linespace().reshape(-1,1) 產生測試資料 line\n",
    "plt.plot(line, lrModel.predict(line))              #將 line 以 lrModel.predict() 預測並畫圖\n",
    "ax = plt.gca()\n",
    "plt.legend([\"training data\",\"model\"], loc=\"best\")\n",
    "plt.plot(carats,lrModel.predict(carats)[0],'g^')  #將預測結果以 'g^' 畫出"
   ]
  },
  {
   "cell_type": "code",
   "execution_count": null,
   "metadata": {
    "collapsed": true
   },
   "outputs": [],
   "source": []
  }
 ],
 "metadata": {
  "kernelspec": {
   "display_name": "Python 3",
   "language": "python",
   "name": "python3"
  },
  "language_info": {
   "codemirror_mode": {
    "name": "ipython",
    "version": 3
   },
   "file_extension": ".py",
   "mimetype": "text/x-python",
   "name": "python",
   "nbconvert_exporter": "python",
   "pygments_lexer": "ipython3",
   "version": "3.7.0"
  }
 },
 "nbformat": 4,
 "nbformat_minor": 1
}
