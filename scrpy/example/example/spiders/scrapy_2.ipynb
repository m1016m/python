{
 "cells": [
  {
   "cell_type": "code",
   "execution_count": 1,
   "metadata": {},
   "outputs": [],
   "source": [
    "#使用Selector提取数据\n",
    "# Selector对象\n",
    "# 从页面中提取数据的核心技术是HTTP文本解析，在Python中常用以下模块处理此类问题：\n",
    "# ●　BeautifulSoup\n",
    "# BeautifulSoup是非常流行的HTTP解析库，API简洁易用，但解析速度较慢。\n",
    "# ●　lxml\n",
    "# lxml是一套由C语言编写的xml解析库（libxml2），解析速度更快，API相对复杂。\n",
    "\n",
    "# Scrapy综合上述两者优点实现了Selector类，它是基于lxml库构建的，并简化了API接口。在Scrapy中使用Selector对象提取页面中的数据，使用时先\n",
    "# 通过XPath或CSS选择器选中页面中要提取的数据，然后进行提取。\n"
   ]
  },
  {
   "cell_type": "code",
   "execution_count": 8,
   "metadata": {},
   "outputs": [
    {
     "name": "stdout",
     "output_type": "stream",
     "text": [
      "<Selector xpath=None data='<html>\\n       <body>\\n            <h1>...'>\n"
     ]
    }
   ],
   "source": [
    "import scrapy\n",
    "from scrapy.selector import Selector\n",
    "# 创建对象\n",
    "# Selector类的实现位于scrapy.selector模块，创建Selector对象时，可将页面的HTML文档字符串传递给Selector构造器方法的text参数：\n",
    "text = '''\n",
    "      <html>\n",
    "       <body>\n",
    "            <h1>Hello World</h1>\n",
    "            <h1>Hello Scrapy</h1>\n",
    "            <b>Hello python</b>\n",
    "            <ul>\n",
    "            <li>C++</li>\n",
    "            <li>Java</li>\n",
    "             <li>Python</li>\n",
    "            </ul>\n",
    "            </body>\n",
    "          </html> '''\n",
    "selector = Selector(text=text)\n",
    "print(selector)"
   ]
  },
  {
   "cell_type": "code",
   "execution_count": 20,
   "metadata": {},
   "outputs": [
    {
     "name": "stdout",
     "output_type": "stream",
     "text": [
      "<Selector xpath=None data='<html>\\n       <body>\\n            <h1>...'>\n",
      "\n",
      "[<Selector xpath='//h1' data='<h1>Hello World</h1>'>, <Selector xpath='//h1' data='<h1>Hello Scrapy</h1>'>]\n",
      "\n",
      "[<Selector xpath='./text()' data='Hello World'>]\n",
      "[<Selector xpath='./text()' data='Hello Scrapy'>]\n",
      "\n",
      "[<Selector xpath='./text()' data='Hello World'>, <Selector xpath='./text()' data='Hello Scrapy'>]\n",
      "\n",
      "[<Selector xpath='./text()' data='C++'>, <Selector xpath='./text()' data='Java'>, <Selector xpath='./text()' data='Python'>]\n",
      "\n",
      "[<Selector xpath='.//li' data='<li>C++</li>'>, <Selector xpath='.//li' data='<li>Java</li>'>, <Selector xpath='.//li' data='<li>Python</li>'>]\n",
      "\n",
      "[<Selector xpath='.//li/text()' data='C++'>, <Selector xpath='.//li/text()' data='Java'>, <Selector xpath='.//li/text()' data='Python'>]\n",
      "\n",
      "Java\n",
      "\n",
      "[<Selector xpath='.//li/text()' data='C++'>, <Selector xpath='.//li/text()' data='Java'>, <Selector xpath='.//li/text()' data='Python'>]\n",
      "\n",
      "['C++', 'Java', 'Python']\n",
      "\n",
      "[<Selector xpath='.//b' data='<b>Hello python</b>'>]\n",
      "\n",
      "['<b>Hello python</b>']\n",
      "\n",
      "<b>Hello python</b>\n"
     ]
    }
   ],
   "source": [
    "#也可以使用一个Response对象构造Selector对象，将其传递给Selector构造器方法的response参数：\n",
    "from scrapy.selector import Selector\n",
    "from scrapy.http import HtmlResponse\n",
    "body = '''<html>\n",
    "       <body>\n",
    "            <h1>Hello World</h1>\n",
    "            <h1>Hello Scrapy</h1>\n",
    "            <b>Hello python</b>\n",
    "            <ul>\n",
    "            <li>C++</li>\n",
    "            <li>Java</li>\n",
    "             <li>Python</li>\n",
    "            </ul>\n",
    "            </body>\n",
    "          </html> '''\n",
    "response = HtmlResponse(url='http://www.example.com', body=body,encoding = 'utf-8')\n",
    "selector = Selector(response=response)\n",
    "print(selector)\n",
    "print()\n",
    "\n",
    "# 选中数据\n",
    "# 调用Selector对象的xpath方法或css方法（传入XPath或CSS选择器表达式），可以选中文档中的某个或某些部分\n",
    "\n",
    "selector_list = selector.xpath('//h1')\n",
    "print(selector_list)\n",
    "print()\n",
    "\n",
    "# xpath和css方法返回一个SelectorList对象，其中包含每个被选中部分对应的Selector对象，SelectorList支持列表接口，可使用for语句\n",
    "# 迭代访问其中的每一个Selector对象\n",
    "for sel in selector_list:\n",
    "    print(sel.xpath('./text()'))\n",
    "    \n",
    "print()\n",
    "# SelectorList对象也有xpath和css方法，调用它们的行为是：以接收到的参数分别调用其中每一个Selector对象的xpath或css方法，并将所有结果\n",
    "# 收集到一个新的SelectorList对象返回给用户\n",
    "print(selector_list.xpath('./text()'))\n",
    "print()\n",
    "print(selector.xpath('.//ul').css('li').xpath('./text()'))\n",
    "print()\n",
    "\n",
    "# 提取数据\n",
    "# 调用Selector或SelectorLis对象的以下方法可将选中的内容提取：\n",
    "# ●　extract()\n",
    "# ●　re()\n",
    "# ●　extract_first() (SelectorList专有)\n",
    "# ●　re_first() (SelectorList专有)\n",
    "# 首先来看extract方法，调用Selector对象的extract方法将返回选中内容的Unicode字符串\n",
    "sl = selector.xpath('.//li')\n",
    "print(sl)\n",
    "print()\n",
    "sl = selector.xpath('.//li/text()')\n",
    "print(sl)\n",
    "print()\n",
    "print(sl[1].extract())\n",
    "print()\n",
    "\n",
    "\n",
    "# 与SelectorList对象的xpath和css方法类似，SelectorList对象的extract方法内部会调用其中每个Selector对象的extract方法，并把所\n",
    "# 有结果收集到一个列表返回给用户\n",
    "sl = selector.xpath('.//li/text()')\n",
    "print(sl)\n",
    "print()\n",
    "print(sl.extract())\n",
    "print()\n",
    "\n",
    "\n",
    "# SelectorList对象还有一个extract_first方法，该方法返回其中第一个Selector对象调用extract方法的结果。通常，在SelectorList对象\n",
    "# 中只包含一个Selector对象时调用该方法，直接提取出Unicode字符串而不是列表：\n",
    "sl = selector.xpath('.//b')\n",
    "print(sl)\n",
    "print()\n",
    "print(sl.extract())\n",
    "print()\n",
    "print(sl.extract_first())"
   ]
  },
  {
   "cell_type": "code",
   "execution_count": 26,
   "metadata": {},
   "outputs": [
    {
     "name": "stdout",
     "output_type": "stream",
     "text": [
      "[<Selector xpath='.//li/b/text()' data='价格: 99.00 元'>, <Selector xpath='.//li/b/text()' data='价格: 88.00 元'>, <Selector xpath='.//li/b/text()' data='价格: 80.00 元'>]\n",
      "\n",
      "['价格: 99.00 元', '价格: 88.00 元', '价格: 80.00 元']\n",
      "\n",
      "['99.00', '88.00', '80.00']\n",
      "\n",
      "99.00\n"
     ]
    }
   ],
   "source": [
    "\n",
    "#有些时候，我们想使用正则表达式提取选中内容中的某部分，可以使用re方法（两个对象都有该方法）：\n",
    "text = '''\n",
    "    <ul>\n",
    "    <li>Python 学习手册 <b>价格: 99.00 元</b></li>\n",
    "    <li>Python 核心编程 <b>价格: 88.00 元</b></li>\n",
    "     <li>Python 基础教程 <b>价格: 80.00 元</b></li>\n",
    "    </ul>'''\n",
    "selector = Selector(text=text)\n",
    "print(selector.xpath('.//li/b/text()'))\n",
    "print()\n",
    "print(selector.xpath('.//li/b/text()').extract())\n",
    "print()\n",
    "print(selector.xpath('.//li/b/text()').re('\\d+\\.\\d+')) #只提取价格的数字部分\n",
    "print()\n",
    "      \n",
    "#SelectorList对象的re_first方法同样返回其中的第一个Selector对象调用re方法的结果:\n",
    "print(selector.xpath('.//li/b/text()').re_first('\\d+\\.\\d+'))"
   ]
  },
  {
   "cell_type": "code",
   "execution_count": 28,
   "metadata": {},
   "outputs": [
    {
     "name": "stdout",
     "output_type": "stream",
     "text": [
      "<Selector xpath=None data='<html>\\n       <body>\\n            <h1>...'>\n",
      "['Hello World', 'Hello Scrapy']\n",
      "['C++', 'Java', 'Python']\n"
     ]
    }
   ],
   "source": [
    "#Response内置Selector\n",
    "from scrapy.http import HtmlResponse\n",
    "body = '''<html>\n",
    "       <body>\n",
    "            <h1>Hello World</h1>\n",
    "            <h1>Hello Scrapy</h1>\n",
    "            <b>Hello python</b>\n",
    "            <ul>\n",
    "            <li>C++</li>\n",
    "            <li>Java</li>\n",
    "             <li>Python</li>\n",
    "            </ul>\n",
    "            </body>\n",
    "          </html> '''\n",
    "response = HtmlResponse(url='http://www.example.com', body=body, encoding = 'utf-8')\n",
    "print(response.selector)\n",
    "print(response.xpath('.//h1/text()').extract())\n",
    "print(response.css('li::text').extract())"
   ]
  },
  {
   "cell_type": "code",
   "execution_count": 29,
   "metadata": {},
   "outputs": [],
   "source": [
    "# XPath\n",
    "# XPath即XML路径语言（XML Path Language），它是一种用来确定xml文档中某部分位置的语言\n",
    "# xml文档的节点有多种类型，其中最常用的有以下几种：\n",
    "# ●　根节点　整个文档树的根。\n",
    "# ●　元素节点　html、body、div、p、a。\n",
    "# ●　属性节点　href。\n",
    "# ●　文本节点　Hello world、Click here。\n",
    "\n",
    "# 节点间的关系有以下几种：\n",
    "# ●　父子　body是html的子节点，p和a是div的子节点。反过来，div是p和a的父节点。\n",
    "# ●　兄弟　p和a为兄弟节点。\n",
    "# ●　祖先／后裔　body、div、p、a都是html的后裔节点；反过来html是body、div、p、a的祖先节点。\n",
    "\n",
    "# <html>\n",
    "# <body>\n",
    "# <div >\n",
    "# <p>Hello world<p>\n",
    "# <a href=\"/home\">Click here</a>\n",
    "# </div>\n",
    "# </body>\n",
    "# </html>"
   ]
  },
  {
   "cell_type": "markdown",
   "metadata": {},
   "source": [
    "#基础语法\n",
    "![title](img/1.png)"
   ]
  },
  {
   "cell_type": "code",
   "execution_count": 44,
   "metadata": {},
   "outputs": [
    {
     "name": "stdout",
     "output_type": "stream",
     "text": [
      "/：描述一个从根开始的绝对路径 [<Selector xpath='/html' data='<html>\\n    <head>\\n    <base href=\"htt...'>]\n",
      "\n",
      "选中div子节点中的所有a [<Selector xpath='/html/body/div/a' data='<a href=\"image1.html\">Name: Image 1 <...'>, <Selector xpath='/html/body/div/a' data='<a href=\"image2.html\">Name: Image 2 <...'>, <Selector xpath='/html/body/div/a' data='<a href=\"image3.html\">Name: Image 3 <...'>, <Selector xpath='/html/body/div/a' data='<a href=\"image4.html\">Name: Image 4 <...'>, <Selector xpath='/html/body/div/a' data='<a href=\"image5.html\">Name: Image 5 <...'>]\n",
      "\n",
      "[<Selector xpath='/html/body//img' data='<img src=\"image1.jpg\">'>, <Selector xpath='/html/body//img' data='<img src=\"image2.jpg\">'>, <Selector xpath='/html/body//img' data='<img src=\"image3.jpg\">'>, <Selector xpath='/html/body//img' data='<img src=\"image4.jpg\">'>, <Selector xpath='/html/body//img' data='<img src=\"image5.jpg\">'>]\n",
      "\n",
      "[<Selector xpath='//a/text()' data='Name: Image 1 '>, <Selector xpath='//a/text()' data='\\n    '>, <Selector xpath='//a/text()' data='Name: Image 2 '>, <Selector xpath='//a/text()' data='\\n    '>, <Selector xpath='//a/text()' data='Name: Image 3 '>, <Selector xpath='//a/text()' data='\\n    '>, <Selector xpath='//a/text()' data='Name: Image 4 '>, <Selector xpath='//a/text()' data='\\n    '>, <Selector xpath='//a/text()' data='Name: Image 5 '>, <Selector xpath='//a/text()' data=' '>]\n",
      "['Name: Image 1 ', '\\n    ', 'Name: Image 2 ', '\\n    ', 'Name: Image 3 ', '\\n    ', 'Name: Image 4 ', '\\n    ', 'Name: Image 5 ', ' ']\n",
      "\n",
      "[<Selector xpath='/html/*' data='<head>\\n    <base href=\"http://example...'>, <Selector xpath='/html/*' data='<body>\\n    <div id=\"images\">\\n    <a h...'>]\n",
      "\n",
      "[<Selector xpath='/html/body/div//*' data='<a href=\"image1.html\">Name: Image 1 <...'>, <Selector xpath='/html/body/div//*' data='<br>'>, <Selector xpath='/html/body/div//*' data='<img src=\"image1.jpg\">'>, <Selector xpath='/html/body/div//*' data='<a href=\"image2.html\">Name: Image 2 <...'>, <Selector xpath='/html/body/div//*' data='<br>'>, <Selector xpath='/html/body/div//*' data='<img src=\"image2.jpg\">'>, <Selector xpath='/html/body/div//*' data='<a href=\"image3.html\">Name: Image 3 <...'>, <Selector xpath='/html/body/div//*' data='<br>'>, <Selector xpath='/html/body/div//*' data='<img src=\"image3.jpg\">'>, <Selector xpath='/html/body/div//*' data='<a href=\"image4.html\">Name: Image 4 <...'>, <Selector xpath='/html/body/div//*' data='<br>'>, <Selector xpath='/html/body/div//*' data='<img src=\"image4.jpg\">'>, <Selector xpath='/html/body/div//*' data='<a href=\"image5.html\">Name: Image 5 <...'>, <Selector xpath='/html/body/div//*' data='<br>'>, <Selector xpath='/html/body/div//*' data='<img src=\"image5.jpg\">'>]\n",
      "\n",
      "[<Selector xpath='//div/*/img' data='<img src=\"image1.jpg\">'>, <Selector xpath='//div/*/img' data='<img src=\"image2.jpg\">'>, <Selector xpath='//div/*/img' data='<img src=\"image3.jpg\">'>, <Selector xpath='//div/*/img' data='<img src=\"image4.jpg\">'>, <Selector xpath='//div/*/img' data='<img src=\"image5.jpg\">'>]\n",
      "\n",
      "[<Selector xpath='//img/@src' data='image1.jpg'>, <Selector xpath='//img/@src' data='image2.jpg'>, <Selector xpath='//img/@src' data='image3.jpg'>, <Selector xpath='//img/@src' data='image4.jpg'>, <Selector xpath='//img/@src' data='image5.jpg'>]\n",
      "[<Selector xpath='//@href' data='http://example.com/'>, <Selector xpath='//@href' data='image1.html'>, <Selector xpath='//@href' data='image2.html'>, <Selector xpath='//@href' data='image3.html'>, <Selector xpath='//@href' data='image4.html'>, <Selector xpath='//@href' data='image5.html'>]\n",
      "<Selector xpath='//a' data='<a href=\"image1.html\">Name: Image 1 <...'>\n"
     ]
    }
   ],
   "source": [
    "from scrapy.selector import Selector\n",
    "from scrapy.http import HtmlResponse\n",
    "body = '''\n",
    "    <html>\n",
    "    <head>\n",
    "    <base href='http://example.com/' />\n",
    "     <title>Example website</title>\n",
    "    </head>\n",
    "    <body>\n",
    "    <div id='images'>\n",
    "    <a href='image1.html'>Name: Image 1 <br/><img src='image1.jpg'>\n",
    "    <a href='image2.html'>Name: Image 2 <br/><img src='image2.jpg'>\n",
    "    <a href='image3.html'>Name: Image 3 <br/><img src='image3.jpg'>\n",
    "    <a href='image4.html'>Name: Image 4 <br/><img src='image4.jpg'>\n",
    "    <a href='image5.html'>Name: Image 5 <br/><img src='image5.jpg'> </div>\n",
    "    </body>\n",
    "    </html>'''\n",
    "response = HtmlResponse(url='http://www.example.com', body=body, encoding='utf-8')\n",
    "#●　/：描述一个从根开始的绝对路径\n",
    "print('/：描述一个从根开始的绝对路径',response.xpath('/html'))\n",
    "print()\n",
    "#●　E1/E2：选中E1子节点中的所有E2\n",
    "# 选中div子节点中的所有a\n",
    "print('选中div子节点中的所有a',response.xpath('/html/body/div/a'))\n",
    "print()\n",
    "# 选中body后代中的所有img\n",
    "print(response.xpath('/html/body//img'))\n",
    "print()\n",
    "\n",
    "#●　E/text()：选中E的文本子节点\n",
    "# 选中所有a的文本\n",
    "sel = response.xpath('//a/text()')\n",
    "print(sel)\n",
    "print(sel.extract())\n",
    "print()\n",
    "\n",
    "# 选中html的所有元素子节点\n",
    "print(response.xpath('/html/*'))\n",
    "print()\n",
    "\n",
    "#● E/*：选中E的所有元素子节点\n",
    "# 选中div的所有后代元素节点\n",
    "print(response.xpath('/html/body/div//*'))\n",
    "print()\n",
    "\n",
    "#● */E：选中孙节点中\n",
    "# 选中div孙节点中的所有img\n",
    "print(response.xpath('//div/*/img'))\n",
    "print()\n",
    "\n",
    "#● E/@ATTR：选中E的ATTR属性\n",
    "# 选中所有img的src 属性\n",
    "print(response.xpath('//img/@src'))\n",
    "\n",
    "#● //@ATTR：选中文档中所有ATTR属性\n",
    "# 选中所有的href 属性\n",
    "print(response.xpath('//@href'))\n",
    "\n",
    "#● .：选中当前节点，用来描述相对路径\n",
    "# 获取第1个a的选择器对象\n",
    "sel = response.xpath('//a')[0]\n",
    "print(sel)"
   ]
  },
  {
   "cell_type": "code",
   "execution_count": 45,
   "metadata": {},
   "outputs": [
    {
     "name": "stdout",
     "output_type": "stream",
     "text": [
      "[<Selector xpath='//a[3]' data='<a href=\"image3.html\">Name: Image 3 <...'>]\n"
     ]
    }
   ],
   "source": [
    "#● node[谓语]：谓语用来查找某个特定的节点或者包含某个特定值的节点\n",
    "# 选中所有a 中的第3 个\n",
    "print(response.xpath('//a[3]'))"
   ]
  },
  {
   "cell_type": "code",
   "execution_count": 46,
   "metadata": {},
   "outputs": [
    {
     "name": "stdout",
     "output_type": "stream",
     "text": [
      "[<Selector xpath='//img/..' data='<a href=\"image1.html\">Name: Image 1 <...'>, <Selector xpath='//img/..' data='<a href=\"image2.html\">Name: Image 2 <...'>, <Selector xpath='//img/..' data='<a href=\"image3.html\">Name: Image 3 <...'>, <Selector xpath='//img/..' data='<a href=\"image4.html\">Name: Image 4 <...'>, <Selector xpath='//img/..' data='<a href=\"image5.html\">Name: Image 5 <...'>]\n"
     ]
    }
   ],
   "source": [
    "#●..：选中当前节点的父节点，用来描述相对路径\n",
    "# 选中所有img的父节点\n",
    "print(response.xpath('//img/..'))"
   ]
  },
  {
   "cell_type": "code",
   "execution_count": 48,
   "metadata": {},
   "outputs": [
    {
     "name": "stdout",
     "output_type": "stream",
     "text": [
      "[<Selector xpath='//a[last()]' data='<a href=\"image5.html\">Name: Image 5 <...'>]\n"
     ]
    }
   ],
   "source": [
    "#常用函数\n",
    "# 使用last函数，选中最后1 个\n",
    "print(response.xpath('//a[last()]'))"
   ]
  },
  {
   "cell_type": "code",
   "execution_count": 49,
   "metadata": {},
   "outputs": [
    {
     "name": "stdout",
     "output_type": "stream",
     "text": [
      "[<Selector xpath='//a[position()<=3]' data='<a href=\"image1.html\">Name: Image 1 <...'>, <Selector xpath='//a[position()<=3]' data='<a href=\"image2.html\">Name: Image 2 <...'>, <Selector xpath='//a[position()<=3]' data='<a href=\"image3.html\">Name: Image 3 <...'>]\n"
     ]
    }
   ],
   "source": [
    "# 使用position函数，选中前3 个\n",
    "print(response.xpath('//a[position()<=3]'))"
   ]
  },
  {
   "cell_type": "code",
   "execution_count": 50,
   "metadata": {},
   "outputs": [
    {
     "name": "stdout",
     "output_type": "stream",
     "text": [
      "[<Selector xpath='//div[@id]' data='<div id=\"images\">\\n    <a href=\"image1...'>]\n"
     ]
    }
   ],
   "source": [
    "# 选中所有含有id属性的div\n",
    "print(response.xpath('//div[@id]'))"
   ]
  },
  {
   "cell_type": "code",
   "execution_count": 51,
   "metadata": {},
   "outputs": [
    {
     "name": "stdout",
     "output_type": "stream",
     "text": [
      "[<Selector xpath='//div[@id=\"images\"]' data='<div id=\"images\">\\n    <a href=\"image1...'>]\n"
     ]
    }
   ],
   "source": [
    "# 选中所有含有id属性且值为\"images\"的div\n",
    "print(response.xpath('//div[@id=\"images\"]'))"
   ]
  },
  {
   "cell_type": "code",
   "execution_count": 53,
   "metadata": {},
   "outputs": [
    {
     "name": "stdout",
     "output_type": "stream",
     "text": [
      "<Selector xpath=None data='<html><body><a href=\"#\">Click here to...'>\n",
      "['Next Page']\n",
      "['Click here to go to the ', 'Next Page']\n",
      "['Click here to go to the Next Page']\n"
     ]
    }
   ],
   "source": [
    "#●　string(arg)：返回参数的字符串值\n",
    "from scrapy.selector import Selector\n",
    "text='<a href=\"#\">Click here to go to the <strong>Next Page</strong></a>'\n",
    "sel = Selector(text=text)\n",
    "print(sel)\n",
    "# 以下做法和sel.xpath('/html/body/a/strong/text()')得到相同结果\n",
    "print(sel.xpath('string(/html/body/a/strong)').extract())\n",
    "\n",
    "# 如果想得到a 中的整个字符串'Click here to go to the Next Page'，\n",
    "# 使用text()就不行了，因为Click here to go to the和Next Page 在不同元素下\n",
    "# 以下做法将得到两个子串\n",
    "print(sel.xpath('/html/body/a//text()').extract())\n",
    "# 这种情况下可以使用string()函数\n",
    "print(sel.xpath('string(/html/body/a)').extract())"
   ]
  },
  {
   "cell_type": "code",
   "execution_count": null,
   "metadata": {},
   "outputs": [],
   "source": [
    "#contains(str1, str2)：判断str1中是否包含str2，返回布林值\n",
    "text = '''\n",
    "    <div>\n",
    "    <p class=\"small info\">hello world</p>\n",
    "    <p class=\"normal info\">hello scrapy</p>\n",
    "     </div>'''\n",
    "sel = Selector(text=text)\n",
    "pritn(sel                                                                                                                                                                                                                                                                                                                                                                                                                                                                     )\n",
    "# 选择class 属性中包含\"small\"[<Selector xpath='//p[contains(@class, \"small\")]' data='<p class=\"small\" >\n",
    "print(sel.xpath('//p[contains(@class, \"small\")]')) \n",
    "# 选择class 属性中包含\"info\"[<Selector xpath='//p[contains(@class, \"info\")]' data='<p class=\"small\" >\n",
    "print(sel.xpath('//p[contains(@class, \"info\")]'))\n"
   ]
  }
 ],
 "metadata": {
  "kernelspec": {
   "display_name": "Python 3",
   "language": "python",
   "name": "python3"
  },
  "language_info": {
   "codemirror_mode": {
    "name": "ipython",
    "version": 3
   },
   "file_extension": ".py",
   "mimetype": "text/x-python",
   "name": "python",
   "nbconvert_exporter": "python",
   "pygments_lexer": "ipython3",
   "version": "3.6.7"
  }
 },
 "nbformat": 4,
 "nbformat_minor": 2
}
