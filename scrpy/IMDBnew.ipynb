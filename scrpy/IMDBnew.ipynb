{
 "cells": [
  {
   "cell_type": "code",
   "execution_count": 1,
   "metadata": {},
   "outputs": [],
   "source": [
    "from requests import get\n",
    "from bs4 import BeautifulSoup\n",
    "import pandas as pd\n",
    "from time import sleep\n",
    "from random import randint\n",
    "from time import time"
   ]
  },
  {
   "cell_type": "code",
   "execution_count": 2,
   "metadata": {},
   "outputs": [
    {
     "name": "stdout",
     "output_type": "stream",
     "text": [
      "\n",
      "\n",
      "\n",
      "<!DOCTYPE html>\n",
      "<html\n",
      "    xmlns:og=\"http://ogp.me/ns#\"\n",
      "    xmlns:fb=\"http://www.facebook.com/2008/fbml\">\n",
      "    <head>\n",
      "         \n",
      "        <meta charset=\"utf-8\">\n",
      "        <meta http-equiv=\"X-UA-Compatible\" content=\"IE=edge\">\n",
      "\n",
      "    <meta name=\"apple-itunes-app\" content=\"app-id=342792525, app-argument=imdb:///?src=mdot\">\n",
      "\n",
      "\n",
      "\n",
      "        <script type=\"text/javascript\">var IMDbTimer={starttime: new Date().getTime(),pt:'java'};</script>\n",
      "\n",
      "<script>\n",
      "    if (typeof uet == 'function') {\n",
      "      uet(\"bb\", \"LoadTitle\"\n"
     ]
    }
   ],
   "source": [
    "url = 'http://www.imdb.com/search/title?release_date=2017&sort=num_votes,desc&page=1'\n",
    "\n",
    "response = get(url)\n",
    "print(response.text[:500])"
   ]
  },
  {
   "cell_type": "code",
   "execution_count": 3,
   "metadata": {},
   "outputs": [
    {
     "name": "stdout",
     "output_type": "stream",
     "text": [
      "<class 'bs4.element.ResultSet'>\n",
      "50\n"
     ]
    }
   ],
   "source": [
    "html_soup = BeautifulSoup(response.text, 'html.parser')\n",
    "type(html_soup)\n",
    "movie_containers = html_soup.find_all('div', class_ = 'lister-item mode-advanced')\n",
    "\n",
    "print(type(movie_containers))\n",
    "print(len(movie_containers))"
   ]
  },
  {
   "cell_type": "code",
   "execution_count": 4,
   "metadata": {},
   "outputs": [
    {
     "name": "stdout",
     "output_type": "stream",
     "text": [
      "<div class=\"lister-top-right\">\n",
      "<div class=\"ribbonize\" data-caller=\"filmosearch\" data-tconst=\"tt3315342\"></div>\n",
      "</div>\n",
      "電影名稱 :  Logan\n"
     ]
    }
   ],
   "source": [
    "first_movie = movie_containers[0]#movie message\n",
    "print (first_movie.div)\n",
    "print (\"電影名稱 : \" ,first_movie.h3.a.text)"
   ]
  },
  {
   "cell_type": "code",
   "execution_count": 7,
   "metadata": {},
   "outputs": [
    {
     "name": "stdout",
     "output_type": "stream",
     "text": [
      "發行年份 :  2017\n",
      "IMDB評級 :  8.1\n",
      "<class 'bs4.element.Tag'>\n",
      "Metascore 評分 : 77\n",
      "573,694\n",
      "投票數 : 573694\n"
     ]
    }
   ],
   "source": [
    "first_year = first_movie.h3.find('span', class_ = 'lister-item-year text-muted unbold')\n",
    "first_year = first_year.text[1:5]\n",
    "print (\"發行年份 : \" , first_year)\n",
    "first_imdb = float(first_movie.strong.text)\n",
    "print (\"IMDB評級 : \" , first_imdb)\n",
    "first_mscore = first_movie.find('span', class_ = 'metascore favorable')\n",
    "print(type(first_mscore))\n",
    "first_mscore = int(first_mscore.text)\n",
    "print(\"Metascore 評分 :\" , first_mscore)\n",
    "first_votes = first_movie.find('span', attrs = {'name':'nv'})\n",
    "print (first_votes.text)\n",
    "print (\"投票數 : \" +first_votes['data-value'])#int"
   ]
  },
  {
   "cell_type": "code",
   "execution_count": 9,
   "metadata": {},
   "outputs": [
    {
     "name": "stdout",
     "output_type": "stream",
     "text": [
      "<class 'pandas.core.frame.DataFrame'>\n",
      "RangeIndex: 43 entries, 0 to 42\n",
      "Data columns (total 5 columns):\n",
      "movie        43 non-null object\n",
      "year         43 non-null object\n",
      "imdb         43 non-null float64\n",
      "metascore    43 non-null int64\n",
      "votes        43 non-null int64\n",
      "dtypes: float64(1), int64(2), object(2)\n",
      "memory usage: 1.8+ KB\n",
      "None\n"
     ]
    }
   ],
   "source": [
    "names = []\n",
    "years = []\n",
    "imdb_ratings = []\n",
    "metascores = []\n",
    "votes = []\n",
    "\n",
    "# Extract data from individual movie container\n",
    "for container in movie_containers:\n",
    "\n",
    "    # 僅當容器具有Metascore時才提取感興趣的數據點:\n",
    "    if container.find('div', class_ = 'ratings-metascore') is not None:\n",
    "\n",
    "        # The name\n",
    "        name = container.h3.a.text\n",
    "        names.append(name)\n",
    "\n",
    "        # The year\n",
    "        year = container.h3.find('span', class_ = 'lister-item-year').text\n",
    "        years.append(year)\n",
    "\n",
    "        # The IMDB rating\n",
    "        imdb = float(container.strong.text)\n",
    "        imdb_ratings.append(imdb)\n",
    "\n",
    "        # The Metascore\n",
    "        m_score = container.find('span', class_ = 'metascore').text\n",
    "        metascores.append(int(m_score))\n",
    "\n",
    "        # The number of votes\n",
    "        vote = container.find('span', attrs = {'name':'nv'})['data-value']\n",
    "        votes.append(int(vote))\n",
    "\n",
    "\n",
    "test_df = pd.DataFrame({'movie': names,\n",
    "                       'year': years,\n",
    "                       'imdb': imdb_ratings,\n",
    "                       'metascore': metascores,\n",
    "                       'votes': votes})\n",
    "print(test_df.info())\n",
    "# 從最後開始計算，我們可以看到年份總是從第五個字符到第二個字符。我們將使用該.str() 方法僅選擇該間隔。\n",
    "# 我們還將使用以下astype() 方法將結果轉換為整數：\n",
    "\n",
    "test_df.loc[:, 'year'] = test_df['year'].str[-5:-1].astype(int)#str[]通过索引获取字符串中字符\n",
    "test_df.to_csv('movie_ratings.csv')"
   ]
  },
  {
   "cell_type": "code",
   "execution_count": null,
   "metadata": {},
   "outputs": [],
   "source": []
  }
 ],
 "metadata": {
  "kernelspec": {
   "display_name": "Python 3",
   "language": "python",
   "name": "python3"
  },
  "language_info": {
   "codemirror_mode": {
    "name": "ipython",
    "version": 3
   },
   "file_extension": ".py",
   "mimetype": "text/x-python",
   "name": "python",
   "nbconvert_exporter": "python",
   "pygments_lexer": "ipython3",
   "version": "3.6.7"
  }
 },
 "nbformat": 4,
 "nbformat_minor": 2
}
